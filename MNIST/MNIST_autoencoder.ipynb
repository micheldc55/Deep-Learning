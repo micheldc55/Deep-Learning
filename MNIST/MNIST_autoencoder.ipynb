{
  "nbformat": 4,
  "nbformat_minor": 0,
  "metadata": {
    "colab": {
      "name": "MNIST_autoencoder.ipynb",
      "provenance": [],
      "authorship_tag": "ABX9TyPexaxb5xseXFqP6Ay0hagQ",
      "include_colab_link": true
    },
    "kernelspec": {
      "name": "python3",
      "display_name": "Python 3"
    },
    "language_info": {
      "name": "python"
    },
    "accelerator": "GPU"
  },
  "cells": [
    {
      "cell_type": "markdown",
      "metadata": {
        "id": "view-in-github",
        "colab_type": "text"
      },
      "source": [
        "<a href=\"https://colab.research.google.com/github/micheldc55/Deep-Learning/blob/main/MNIST_autoencoder.ipynb\" target=\"_parent\"><img src=\"https://colab.research.google.com/assets/colab-badge.svg\" alt=\"Open In Colab\"/></a>"
      ]
    },
    {
      "cell_type": "markdown",
      "source": [
        "## Building an Encoder-Decoder model with the MNIST dataset"
      ],
      "metadata": {
        "id": "pYrhvUccIJ9p"
      }
    },
    {
      "cell_type": "markdown",
      "source": [
        "#### Imports"
      ],
      "metadata": {
        "id": "rlnZq-6eluAQ"
      }
    },
    {
      "cell_type": "code",
      "execution_count": 2,
      "metadata": {
        "id": "cA5HkDPIHyEk"
      },
      "outputs": [],
      "source": [
        "import keras\n",
        "from keras.layers import Conv2D, MaxPooling2D, UpSampling2D\n",
        "from keras.models import Sequential, Model\n",
        "\n",
        "from keras.datasets import mnist\n",
        "import numpy as np\n",
        "from keras.callbacks import TensorBoard\n",
        "\n",
        "from PIL import Image\n",
        "import matplotlib.pyplot as plt"
      ]
    },
    {
      "cell_type": "markdown",
      "source": [
        "#### Importing the MNIST data\n",
        "\n",
        "The data comes in a tuple that contains two tuples, one with the training data and one with the test data. So we create two variables x_train / x_test that conatin the datasets for training and testing.\n",
        "\n",
        "You can see below that the train set (which is the first tuple) has 60.000 images of 28x28, while the test set has 10.000 images of 28x28."
      ],
      "metadata": {
        "id": "DkrpDqdnlw3g"
      }
    },
    {
      "cell_type": "code",
      "source": [
        "mnist.load_data()[0][0].shape, mnist.load_data()[1][0].shape"
      ],
      "metadata": {
        "colab": {
          "base_uri": "https://localhost:8080/"
        },
        "id": "1nSIvupWl41G",
        "outputId": "2f603050-47bf-4f29-cfa9-6563d40af105"
      },
      "execution_count": 10,
      "outputs": [
        {
          "output_type": "execute_result",
          "data": {
            "text/plain": [
              "((60000, 28, 28), (10000, 28, 28))"
            ]
          },
          "metadata": {},
          "execution_count": 10
        }
      ]
    },
    {
      "cell_type": "markdown",
      "source": [
        "Below we import the data as a numpy array and normalize it. The color matrix is normalized by dividing over 255. \n",
        "\n",
        "Then we perform a reshape on the X_train value to get a tensor of 60.000 matrices of 28x28x1 (the 1 is the \"depth\" of each matrix, since the image doesn't have RGB, it's just black & white)."
      ],
      "metadata": {
        "id": "bmQFJnIBol3X"
      }
    },
    {
      "cell_type": "code",
      "source": [
        "(x_train, _), (x_test, _) = mnist.load_data()\n",
        "\n",
        "x_train = x_train.astype('float32') / 255.\n",
        "x_test = x_test.astype('float32') / 255.\n",
        "x_train = np.reshape(x_train, (len(x_train), 28, 28, 1))\n",
        "x_test = np.reshape(x_test, (len(x_test), 28, 28, 1))"
      ],
      "metadata": {
        "id": "j6Np8xQ2ohyQ"
      },
      "execution_count": 11,
      "outputs": []
    },
    {
      "cell_type": "code",
      "source": [
        "x_train.shape"
      ],
      "metadata": {
        "colab": {
          "base_uri": "https://localhost:8080/"
        },
        "id": "bdzGfCexoiom",
        "outputId": "783ed812-6057-460a-efd6-fe2c3c2e16fc"
      },
      "execution_count": 12,
      "outputs": [
        {
          "output_type": "execute_result",
          "data": {
            "text/plain": [
              "(60000, 28, 28, 1)"
            ]
          },
          "metadata": {},
          "execution_count": 12
        }
      ]
    },
    {
      "cell_type": "markdown",
      "source": [
        "### Building the model\n",
        "\n",
        "Below we build up the model of the autoencoder. An autoencoder is a type of model made up of two parts an \"Encoder\" that compresses the data into a vector space (takes a matrix and reduces it to a vector which is called an embedding).\n",
        "\n",
        "Then a \"Decoder\" model is trained that learns to decompress the data from the vector space back to the image. We are interested in the encoder, but the decoder is very important because it is what links our embeddings to the actual images we are training the model with.\n",
        "\n",
        "The vector space is often called a Latent vector space, so when you see a \"latent_dim\" variable it is referring to the dimension of the vector to which the images are compressed at the end of the \"Encoder\".\n",
        "\n",
        "We need the model to be \"separable\" as we want the embeddings, so we will create a model for the encoder and a model for the decoder (which includes part of the encoder) so that we can split them. The full model will be called \"autoencoder\"."
      ],
      "metadata": {
        "id": "cp0A_34crHj2"
      }
    },
    {
      "cell_type": "code",
      "source": [
        "latent_dim = 128\n",
        "input_img = keras.Input(shape=(28, 28, 1))\n",
        "\n",
        "## Encoder\n",
        "x = Conv2D(16, (3, 3), activation='relu', padding='same')(input_img)\n",
        "x = MaxPooling2D((2, 2), padding='same')(x)\n",
        "x = Conv2D(8, (3, 3), activation='relu', padding='same')(x)\n",
        "x = MaxPooling2D((2, 2), padding='same')(x)\n",
        "x = Conv2D(8, (3, 3), activation='relu', padding='same')(x)\n",
        "encoded = MaxPooling2D((2, 2), padding='same')(x)\n",
        "\n",
        "# at this point the representation is (4, 4, 8) i.e. 128-dimensional\n",
        "\n",
        "## Decoder\n",
        "x = Conv2D(8, (3, 3), activation='relu', padding='same')(encoded)\n",
        "x = UpSampling2D((2, 2))(x)\n",
        "x = Conv2D(8, (3, 3), activation='relu', padding='same')(x)\n",
        "x = UpSampling2D((2, 2))(x)\n",
        "x = Conv2D(16, (3, 3), activation='relu')(x)\n",
        "x = UpSampling2D((2, 2))(x)\n",
        "decoded = Conv2D(1, (3, 3), activation='sigmoid', padding='same')(x)\n",
        "\n",
        "autoencoder = keras.Model(input_img, decoded)\n",
        "autoencoder.compile(optimizer='adam', loss='binary_crossentropy')"
      ],
      "metadata": {
        "id": "TEWl6-rTH2II"
      },
      "execution_count": 14,
      "outputs": []
    },
    {
      "cell_type": "code",
      "source": [
        "autoencoder.summary()"
      ],
      "metadata": {
        "colab": {
          "base_uri": "https://localhost:8080/"
        },
        "id": "IYjYTeLJmBsH",
        "outputId": "b8449994-31aa-4e71-fea2-4250ce22d712"
      },
      "execution_count": 15,
      "outputs": [
        {
          "output_type": "stream",
          "name": "stdout",
          "text": [
            "Model: \"model_1\"\n",
            "_________________________________________________________________\n",
            " Layer (type)                Output Shape              Param #   \n",
            "=================================================================\n",
            " input_2 (InputLayer)        [(None, 28, 28, 1)]       0         \n",
            "                                                                 \n",
            " conv2d_7 (Conv2D)           (None, 28, 28, 16)        160       \n",
            "                                                                 \n",
            " max_pooling2d_3 (MaxPooling  (None, 14, 14, 16)       0         \n",
            " 2D)                                                             \n",
            "                                                                 \n",
            " conv2d_8 (Conv2D)           (None, 14, 14, 8)         1160      \n",
            "                                                                 \n",
            " max_pooling2d_4 (MaxPooling  (None, 7, 7, 8)          0         \n",
            " 2D)                                                             \n",
            "                                                                 \n",
            " conv2d_9 (Conv2D)           (None, 7, 7, 8)           584       \n",
            "                                                                 \n",
            " max_pooling2d_5 (MaxPooling  (None, 4, 4, 8)          0         \n",
            " 2D)                                                             \n",
            "                                                                 \n",
            " conv2d_10 (Conv2D)          (None, 4, 4, 8)           584       \n",
            "                                                                 \n",
            " up_sampling2d_3 (UpSampling  (None, 8, 8, 8)          0         \n",
            " 2D)                                                             \n",
            "                                                                 \n",
            " conv2d_11 (Conv2D)          (None, 8, 8, 8)           584       \n",
            "                                                                 \n",
            " up_sampling2d_4 (UpSampling  (None, 16, 16, 8)        0         \n",
            " 2D)                                                             \n",
            "                                                                 \n",
            " conv2d_12 (Conv2D)          (None, 14, 14, 16)        1168      \n",
            "                                                                 \n",
            " up_sampling2d_5 (UpSampling  (None, 28, 28, 16)       0         \n",
            " 2D)                                                             \n",
            "                                                                 \n",
            " conv2d_13 (Conv2D)          (None, 28, 28, 1)         145       \n",
            "                                                                 \n",
            "=================================================================\n",
            "Total params: 4,385\n",
            "Trainable params: 4,385\n",
            "Non-trainable params: 0\n",
            "_________________________________________________________________\n"
          ]
        }
      ]
    },
    {
      "cell_type": "code",
      "source": [
        "#!tensorboard --logdir=/tmp/autoencoder"
      ],
      "metadata": {
        "id": "L0p2rFTjl_hC"
      },
      "execution_count": null,
      "outputs": []
    },
    {
      "cell_type": "markdown",
      "source": [
        "### Fitting the model\n",
        "\n",
        "Something important to note here: Notice that the training and validation data are the same (we are training with X_train and X_train instead of the typical X_train and y_train). This is because in this type of problem, our input and output should be identical.\n",
        "\n",
        "The model will be trained to output the same image that we feed it as input, and so our \"targets\" are the exact same images we give the model to train. The more similar they are, the better the model is getting at compressing the data into a vector space that the decoder can convert back to an image."
      ],
      "metadata": {
        "id": "HT5Fjf-0ud75"
      }
    },
    {
      "cell_type": "code",
      "source": [
        "autoencoder.fit(x_train, x_train,\n",
        "                epochs=50,\n",
        "                batch_size=128,\n",
        "                shuffle=True,\n",
        "                validation_data=(x_test, x_test))\n",
        "                #callbacks=[TensorBoard(log_dir='/tmp/autoencoder')])"
      ],
      "metadata": {
        "colab": {
          "base_uri": "https://localhost:8080/"
        },
        "id": "p2XgOQbPmXZx",
        "outputId": "aca89002-0669-453d-a105-6eb9e065fba2"
      },
      "execution_count": 16,
      "outputs": [
        {
          "output_type": "stream",
          "name": "stdout",
          "text": [
            "Epoch 1/50\n",
            "469/469 [==============================] - 15s 8ms/step - loss: 0.2168 - val_loss: 0.1519\n",
            "Epoch 2/50\n",
            "469/469 [==============================] - 3s 6ms/step - loss: 0.1398 - val_loss: 0.1301\n",
            "Epoch 3/50\n",
            "469/469 [==============================] - 3s 7ms/step - loss: 0.1263 - val_loss: 0.1211\n",
            "Epoch 4/50\n",
            "469/469 [==============================] - 3s 7ms/step - loss: 0.1192 - val_loss: 0.1156\n",
            "Epoch 5/50\n",
            "469/469 [==============================] - 3s 7ms/step - loss: 0.1149 - val_loss: 0.1120\n",
            "Epoch 6/50\n",
            "469/469 [==============================] - 3s 7ms/step - loss: 0.1119 - val_loss: 0.1097\n",
            "Epoch 7/50\n",
            "469/469 [==============================] - 3s 6ms/step - loss: 0.1096 - val_loss: 0.1077\n",
            "Epoch 8/50\n",
            "469/469 [==============================] - 3s 6ms/step - loss: 0.1078 - val_loss: 0.1068\n",
            "Epoch 9/50\n",
            "469/469 [==============================] - 3s 6ms/step - loss: 0.1064 - val_loss: 0.1047\n",
            "Epoch 10/50\n",
            "469/469 [==============================] - 3s 6ms/step - loss: 0.1053 - val_loss: 0.1043\n",
            "Epoch 11/50\n",
            "469/469 [==============================] - 3s 7ms/step - loss: 0.1042 - val_loss: 0.1028\n",
            "Epoch 12/50\n",
            "469/469 [==============================] - 3s 7ms/step - loss: 0.1032 - val_loss: 0.1017\n",
            "Epoch 13/50\n",
            "469/469 [==============================] - 3s 7ms/step - loss: 0.1024 - val_loss: 0.1008\n",
            "Epoch 14/50\n",
            "469/469 [==============================] - 3s 6ms/step - loss: 0.1018 - val_loss: 0.1001\n",
            "Epoch 15/50\n",
            "469/469 [==============================] - 3s 6ms/step - loss: 0.1011 - val_loss: 0.0999\n",
            "Epoch 16/50\n",
            "469/469 [==============================] - 3s 7ms/step - loss: 0.1005 - val_loss: 0.0989\n",
            "Epoch 17/50\n",
            "469/469 [==============================] - 3s 7ms/step - loss: 0.1000 - val_loss: 0.0987\n",
            "Epoch 18/50\n",
            "469/469 [==============================] - 3s 6ms/step - loss: 0.0996 - val_loss: 0.0983\n",
            "Epoch 19/50\n",
            "469/469 [==============================] - 3s 7ms/step - loss: 0.0992 - val_loss: 0.0977\n",
            "Epoch 20/50\n",
            "469/469 [==============================] - 3s 6ms/step - loss: 0.0988 - val_loss: 0.0994\n",
            "Epoch 21/50\n",
            "469/469 [==============================] - 3s 6ms/step - loss: 0.0985 - val_loss: 0.0976\n",
            "Epoch 22/50\n",
            "469/469 [==============================] - 3s 6ms/step - loss: 0.0980 - val_loss: 0.0967\n",
            "Epoch 23/50\n",
            "469/469 [==============================] - 3s 6ms/step - loss: 0.0978 - val_loss: 0.0974\n",
            "Epoch 24/50\n",
            "469/469 [==============================] - 3s 6ms/step - loss: 0.0975 - val_loss: 0.0960\n",
            "Epoch 25/50\n",
            "469/469 [==============================] - 3s 7ms/step - loss: 0.0972 - val_loss: 0.0958\n",
            "Epoch 26/50\n",
            "469/469 [==============================] - 3s 6ms/step - loss: 0.0969 - val_loss: 0.0956\n",
            "Epoch 27/50\n",
            "469/469 [==============================] - 3s 6ms/step - loss: 0.0967 - val_loss: 0.0952\n",
            "Epoch 28/50\n",
            "469/469 [==============================] - 3s 6ms/step - loss: 0.0964 - val_loss: 0.0955\n",
            "Epoch 29/50\n",
            "469/469 [==============================] - 3s 6ms/step - loss: 0.0962 - val_loss: 0.0947\n",
            "Epoch 30/50\n",
            "469/469 [==============================] - 3s 6ms/step - loss: 0.0960 - val_loss: 0.0949\n",
            "Epoch 31/50\n",
            "469/469 [==============================] - 3s 7ms/step - loss: 0.0959 - val_loss: 0.0945\n",
            "Epoch 32/50\n",
            "469/469 [==============================] - 3s 7ms/step - loss: 0.0957 - val_loss: 0.0948\n",
            "Epoch 33/50\n",
            "469/469 [==============================] - 3s 7ms/step - loss: 0.0955 - val_loss: 0.0941\n",
            "Epoch 34/50\n",
            "469/469 [==============================] - 3s 6ms/step - loss: 0.0952 - val_loss: 0.0945\n",
            "Epoch 35/50\n",
            "469/469 [==============================] - 3s 6ms/step - loss: 0.0951 - val_loss: 0.0941\n",
            "Epoch 36/50\n",
            "469/469 [==============================] - 3s 6ms/step - loss: 0.0950 - val_loss: 0.0936\n",
            "Epoch 37/50\n",
            "469/469 [==============================] - 3s 7ms/step - loss: 0.0948 - val_loss: 0.0934\n",
            "Epoch 38/50\n",
            "469/469 [==============================] - 3s 7ms/step - loss: 0.0947 - val_loss: 0.0936\n",
            "Epoch 39/50\n",
            "469/469 [==============================] - 3s 7ms/step - loss: 0.0945 - val_loss: 0.0932\n",
            "Epoch 40/50\n",
            "469/469 [==============================] - 3s 7ms/step - loss: 0.0944 - val_loss: 0.0936\n",
            "Epoch 41/50\n",
            "469/469 [==============================] - 3s 7ms/step - loss: 0.0943 - val_loss: 0.0933\n",
            "Epoch 42/50\n",
            "469/469 [==============================] - 3s 7ms/step - loss: 0.0941 - val_loss: 0.0926\n",
            "Epoch 43/50\n",
            "469/469 [==============================] - 3s 6ms/step - loss: 0.0940 - val_loss: 0.0928\n",
            "Epoch 44/50\n",
            "469/469 [==============================] - 3s 7ms/step - loss: 0.0939 - val_loss: 0.0926\n",
            "Epoch 45/50\n",
            "469/469 [==============================] - 3s 7ms/step - loss: 0.0938 - val_loss: 0.0925\n",
            "Epoch 46/50\n",
            "469/469 [==============================] - 3s 7ms/step - loss: 0.0936 - val_loss: 0.0923\n",
            "Epoch 47/50\n",
            "469/469 [==============================] - 3s 6ms/step - loss: 0.0935 - val_loss: 0.0929\n",
            "Epoch 48/50\n",
            "469/469 [==============================] - 3s 7ms/step - loss: 0.0934 - val_loss: 0.0921\n",
            "Epoch 49/50\n",
            "469/469 [==============================] - 3s 6ms/step - loss: 0.0932 - val_loss: 0.0920\n",
            "Epoch 50/50\n",
            "469/469 [==============================] - 3s 6ms/step - loss: 0.0931 - val_loss: 0.0920\n"
          ]
        },
        {
          "output_type": "execute_result",
          "data": {
            "text/plain": [
              "<keras.callbacks.History at 0x7f0ad069ce90>"
            ]
          },
          "metadata": {},
          "execution_count": 16
        }
      ]
    },
    {
      "cell_type": "markdown",
      "source": [
        "### Testing the resulting model from end to end\n",
        "\n",
        "Below we are going to pick 10 images of digits from our dataset and pass them through the model using the .predict() method. If the training went well, the images the model outputs should be very similar to the ones we feed it.\n",
        "\n",
        "In the examples below, the images on top are the ones we feed to the model, and the images on bottom are the ones our model outputs. Notice that the quality is very good."
      ],
      "metadata": {
        "id": "P7JV9MA7vTcd"
      }
    },
    {
      "cell_type": "code",
      "source": [
        "decoded_imgs = autoencoder.predict(x_test)\n",
        "\n",
        "n = 10\n",
        "plt.figure(figsize=(20, 4))\n",
        "for i in range(1, n + 1):\n",
        "    # Display original\n",
        "    ax = plt.subplot(2, n, i)\n",
        "    plt.imshow(x_test[i].reshape(28, 28))\n",
        "    plt.gray()\n",
        "    ax.get_xaxis().set_visible(False)\n",
        "    ax.get_yaxis().set_visible(False)\n",
        "\n",
        "    # Display reconstruction\n",
        "    ax = plt.subplot(2, n, i + n)\n",
        "    plt.imshow(decoded_imgs[i].reshape(28, 28))\n",
        "    plt.gray()\n",
        "    ax.get_xaxis().set_visible(False)\n",
        "    ax.get_yaxis().set_visible(False)\n",
        "plt.show()"
      ],
      "metadata": {
        "colab": {
          "base_uri": "https://localhost:8080/",
          "height": 248
        },
        "id": "zTwOe9VRmsQR",
        "outputId": "0ad5454f-c5b8-42f7-8de9-c14580b4bd85"
      },
      "execution_count": 17,
      "outputs": [
        {
          "output_type": "display_data",
          "data": {
            "image/png": "[encoded data removed]",
            "text/plain": [
              "<Figure size 1440x288 with 20 Axes>"
            ]
          },
          "metadata": {
            "needs_background": "light"
          }
        }
      ]
    },
    {
      "cell_type": "markdown",
      "source": [
        "Let's try \"adding\" the vector space representations and see if they return something that makes sense. I think adding a 1 and a 0 should return a nine, but let's try it and see for ourselves."
      ],
      "metadata": {
        "id": "EHVrIgLeqtCX"
      }
    },
    {
      "cell_type": "code",
      "source": [
        "plt.imshow(x_test[15].reshape(28, 28))\n",
        "plt.figure()\n",
        "plt.imshow(x_test[4].reshape(28, 28))"
      ],
      "metadata": {
        "colab": {
          "base_uri": "https://localhost:8080/",
          "height": 530
        },
        "id": "_aWsveJKqWbf",
        "outputId": "fe5e4d45-f122-41e0-feff-36e84af378c6"
      },
      "execution_count": 24,
      "outputs": [
        {
          "output_type": "execute_result",
          "data": {
            "text/plain": [
              "<matplotlib.image.AxesImage at 0x7f0a284f8550>"
            ]
          },
          "metadata": {},
          "execution_count": 24
        },
        {
          "output_type": "display_data",
          "data": {
            "image/png": "[encoded data removed]",
            "text/plain": [
              "<Figure size 432x288 with 1 Axes>"
            ]
          },
          "metadata": {
            "needs_background": "light"
          }
        },
        {
          "output_type": "display_data",
          "data": {
            "image/png": "[encoded data removed]",
            "text/plain": [
              "<Figure size 432x288 with 1 Axes>"
            ]
          },
          "metadata": {
            "needs_background": "light"
          }
        }
      ]
    },
    {
      "cell_type": "code",
      "source": [
        "encoder = keras.Model(input_img, encoded)\n",
        "encoded_imgs = encoder.predict(x_test[4:16])\n",
        "encoded_imgs.shape  # The vector representations are 128 elements long so the vector output is 4 x 4 x 8, and there are 2 images so this is coherent"
      ],
      "metadata": {
        "colab": {
          "base_uri": "https://localhost:8080/"
        },
        "id": "g7aetc1vqncK",
        "outputId": "6b0cadda-fd9b-4db6-8bb2-fc0194a06d79"
      },
      "execution_count": 25,
      "outputs": [
        {
          "output_type": "execute_result",
          "data": {
            "text/plain": [
              "(12, 4, 4, 8)"
            ]
          },
          "metadata": {},
          "execution_count": 25
        }
      ]
    },
    {
      "cell_type": "markdown",
      "source": [
        "Let's add the images together and see what the representation of the sum of the two vectors in the vector space represents in the tensor space of the image."
      ],
      "metadata": {
        "id": "XNCax7SMrovW"
      }
    },
    {
      "cell_type": "code",
      "source": [
        "encoded_sum = (encoded_imgs[0] + encoded_imgs[11]) / 2\n",
        "encoded_sum = encoded_sum.reshape(1, 4, 4, 8)"
      ],
      "metadata": {
        "id": "TGsBctk8rRs3"
      },
      "execution_count": 57,
      "outputs": []
    },
    {
      "cell_type": "markdown",
      "source": [
        "Now we extract the decoder layers from the autoencoder, so that we can 'decode' the vector representation obtained by calculating the sum of the two digits above. This doesn't always work, but in theory adding up two elements should perform an operation similar to merging both elements into one."
      ],
      "metadata": {
        "id": "66eK9nVqyzQ0"
      }
    },
    {
      "cell_type": "code",
      "source": [
        "# Create decoder\n",
        "latent_inputs = keras.Input(shape=(4,4,8,), name='z_sampling')\n",
        "\n",
        "decoder = autoencoder.layers[-7](latent_inputs)\n",
        "decoder = autoencoder.layers[-6](decoder)\n",
        "decoder = autoencoder.layers[-5](decoder)\n",
        "decoder = autoencoder.layers[-4](decoder)\n",
        "decoder = autoencoder.layers[-3](decoder)\n",
        "decoder = autoencoder.layers[-2](decoder)\n",
        "decoder = autoencoder.layers[-1](decoder)\n",
        "\n",
        "decoder_model = Model(latent_inputs, decoder, name='decoder')"
      ],
      "metadata": {
        "id": "X93xqw4Cr3xv"
      },
      "execution_count": 58,
      "outputs": []
    },
    {
      "cell_type": "code",
      "source": [
        "decoder_model.predict(encoded_sum).reshape(28, 28)\n",
        "plt.imshow(decoder_model.predict(encoded_sum).reshape(28,28))"
      ],
      "metadata": {
        "colab": {
          "base_uri": "https://localhost:8080/",
          "height": 282
        },
        "id": "C4TXeU4PuCB_",
        "outputId": "546d5e78-2628-4455-8082-2ad3e46c099e"
      },
      "execution_count": 59,
      "outputs": [
        {
          "output_type": "execute_result",
          "data": {
            "text/plain": [
              "<matplotlib.image.AxesImage at 0x7f0a26242cd0>"
            ]
          },
          "metadata": {},
          "execution_count": 59
        },
        {
          "output_type": "display_data",
          "data": {
            "image/png": "[encoded data removed]",
            "text/plain": [
              "<Figure size 432x288 with 1 Axes>"
            ]
          },
          "metadata": {
            "needs_background": "light"
          }
        }
      ]
    },
    {
      "cell_type": "markdown",
      "source": [
        "### Creating fading images from a number to the next\n",
        "\n",
        "Below we are taking two images (a 4 and a 5) and making a fading image that moves through the values of the vector space in small intervals to get from one number to the next. Note that we are changing the vector representation of each number in small intervals (1/10 of the difference size) so that we can see the changes."
      ],
      "metadata": {
        "id": "lc9BfzxW48fI"
      }
    },
    {
      "cell_type": "code",
      "source": [
        "num_faded_images = 10"
      ],
      "metadata": {
        "id": "xlOJAxDFuh6a"
      },
      "execution_count": 49,
      "outputs": []
    },
    {
      "cell_type": "code",
      "source": [
        "fading_vector = np.linspace(encoded_imgs[0], encoded_imgs[11], num_faded_images)\n",
        "fading_vector.shape"
      ],
      "metadata": {
        "colab": {
          "base_uri": "https://localhost:8080/"
        },
        "id": "RroIUlvfztNx",
        "outputId": "774ebbe9-3faf-4142-ec7b-a463aa3e4878"
      },
      "execution_count": 43,
      "outputs": [
        {
          "output_type": "execute_result",
          "data": {
            "text/plain": [
              "(10, 4, 4, 8)"
            ]
          },
          "metadata": {},
          "execution_count": 43
        }
      ]
    },
    {
      "cell_type": "code",
      "source": [
        "plt.figure(figsize=(20, 4))\n",
        "\n",
        "for i in range(1, num_faded_images + 1):\n",
        "    # Display original\n",
        "    embedding = fading_vector[i - 1]\n",
        "    image_array = decoder_model.predict(embedding.reshape(1, 4, 4, 8))\n",
        "    ax = plt.subplot(1, num_faded_images, i)\n",
        "    plt.imshow(image_array.reshape(28, 28))\n",
        "    plt.gray()\n",
        "    ax.get_xaxis().set_visible(False)\n",
        "    ax.get_yaxis().set_visible(False)\n",
        "\n",
        "plt.show()"
      ],
      "metadata": {
        "colab": {
          "base_uri": "https://localhost:8080/",
          "height": 129
        },
        "id": "eQHH1L-r1B2j",
        "outputId": "b44910dd-2474-4886-8c82-8e714bc2f8aa"
      },
      "execution_count": 56,
      "outputs": [
        {
          "output_type": "display_data",
          "data": {
            "image/png": "[encoded data removed]",
            "text/plain": [
              "<Figure size 1440x288 with 10 Axes>"
            ]
          },
          "metadata": {
            "needs_background": "light"
          }
        }
      ]
    },
    {
      "cell_type": "code",
      "source": [
        ""
      ],
      "metadata": {
        "id": "IvI1Os6l1Cb8"
      },
      "execution_count": null,
      "outputs": []
    }
  ]
}
