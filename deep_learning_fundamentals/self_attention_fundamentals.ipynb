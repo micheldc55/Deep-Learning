{
  "nbformat": 4,
  "nbformat_minor": 0,
  "metadata": {
    "colab": {
      "provenance": []
    },
    "kernelspec": {
      "name": "python3",
      "display_name": "Python 3"
    },
    "language_info": {
      "name": "python"
    },
    "widgets": {
      "application/vnd.jupyter.widget-state+json": {
        "2aff05a41a5343f5bdf2e27e26a27382": {
          "model_module": "@jupyter-widgets/controls",
          "model_name": "HBoxModel",
          "model_module_version": "1.5.0",
          "state": {
            "_dom_classes": [],
            "_model_module": "@jupyter-widgets/controls",
            "_model_module_version": "1.5.0",
            "_model_name": "HBoxModel",
            "_view_count": null,
            "_view_module": "@jupyter-widgets/controls",
            "_view_module_version": "1.5.0",
            "_view_name": "HBoxView",
            "box_style": "",
            "children": [
              "IPY_MODEL_c84e41134060480ab05a7468906055d7",
              "IPY_MODEL_6a379dd25e024d0185040823be8b7681",
              "IPY_MODEL_54364790ee364947a02890ce4bc99c2f"
            ],
            "layout": "IPY_MODEL_84ff2d53136a4518ad61ec8c66f55780"
          }
        },
        "c84e41134060480ab05a7468906055d7": {
          "model_module": "@jupyter-widgets/controls",
          "model_name": "HTMLModel",
          "model_module_version": "1.5.0",
          "state": {
            "_dom_classes": [],
            "_model_module": "@jupyter-widgets/controls",
            "_model_module_version": "1.5.0",
            "_model_name": "HTMLModel",
            "_view_count": null,
            "_view_module": "@jupyter-widgets/controls",
            "_view_module_version": "1.5.0",
            "_view_name": "HTMLView",
            "description": "",
            "description_tooltip": null,
            "layout": "IPY_MODEL_79252bafed0f435dba14319917511241",
            "placeholder": "​",
            "style": "IPY_MODEL_561e98c9a7ee47769de1e1a93779e49a",
            "value": "Downloading (…)lve/main/config.json: 100%"
          }
        },
        "6a379dd25e024d0185040823be8b7681": {
          "model_module": "@jupyter-widgets/controls",
          "model_name": "FloatProgressModel",
          "model_module_version": "1.5.0",
          "state": {
            "_dom_classes": [],
            "_model_module": "@jupyter-widgets/controls",
            "_model_module_version": "1.5.0",
            "_model_name": "FloatProgressModel",
            "_view_count": null,
            "_view_module": "@jupyter-widgets/controls",
            "_view_module_version": "1.5.0",
            "_view_name": "ProgressView",
            "bar_style": "success",
            "description": "",
            "description_tooltip": null,
            "layout": "IPY_MODEL_cc23c33236914005b9108779c29a355e",
            "max": 570,
            "min": 0,
            "orientation": "horizontal",
            "style": "IPY_MODEL_5e457a13bfbc4434b577c113f87b263e",
            "value": 570
          }
        },
        "54364790ee364947a02890ce4bc99c2f": {
          "model_module": "@jupyter-widgets/controls",
          "model_name": "HTMLModel",
          "model_module_version": "1.5.0",
          "state": {
            "_dom_classes": [],
            "_model_module": "@jupyter-widgets/controls",
            "_model_module_version": "1.5.0",
            "_model_name": "HTMLModel",
            "_view_count": null,
            "_view_module": "@jupyter-widgets/controls",
            "_view_module_version": "1.5.0",
            "_view_name": "HTMLView",
            "description": "",
            "description_tooltip": null,
            "layout": "IPY_MODEL_538fec9a34304ff0818518c9d5fc7712",
            "placeholder": "​",
            "style": "IPY_MODEL_95839b1b2da54544add24ed2d1b4e238",
            "value": " 570/570 [00:00&lt;00:00, 16.3kB/s]"
          }
        },
        "84ff2d53136a4518ad61ec8c66f55780": {
          "model_module": "@jupyter-widgets/base",
          "model_name": "LayoutModel",
          "model_module_version": "1.2.0",
          "state": {
            "_model_module": "@jupyter-widgets/base",
            "_model_module_version": "1.2.0",
            "_model_name": "LayoutModel",
            "_view_count": null,
            "_view_module": "@jupyter-widgets/base",
            "_view_module_version": "1.2.0",
            "_view_name": "LayoutView",
            "align_content": null,
            "align_items": null,
            "align_self": null,
            "border": null,
            "bottom": null,
            "display": null,
            "flex": null,
            "flex_flow": null,
            "grid_area": null,
            "grid_auto_columns": null,
            "grid_auto_flow": null,
            "grid_auto_rows": null,
            "grid_column": null,
            "grid_gap": null,
            "grid_row": null,
            "grid_template_areas": null,
            "grid_template_columns": null,
            "grid_template_rows": null,
            "height": null,
            "justify_content": null,
            "justify_items": null,
            "left": null,
            "margin": null,
            "max_height": null,
            "max_width": null,
            "min_height": null,
            "min_width": null,
            "object_fit": null,
            "object_position": null,
            "order": null,
            "overflow": null,
            "overflow_x": null,
            "overflow_y": null,
            "padding": null,
            "right": null,
            "top": null,
            "visibility": null,
            "width": null
          }
        },
        "79252bafed0f435dba14319917511241": {
          "model_module": "@jupyter-widgets/base",
          "model_name": "LayoutModel",
          "model_module_version": "1.2.0",
          "state": {
            "_model_module": "@jupyter-widgets/base",
            "_model_module_version": "1.2.0",
            "_model_name": "LayoutModel",
            "_view_count": null,
            "_view_module": "@jupyter-widgets/base",
            "_view_module_version": "1.2.0",
            "_view_name": "LayoutView",
            "align_content": null,
            "align_items": null,
            "align_self": null,
            "border": null,
            "bottom": null,
            "display": null,
            "flex": null,
            "flex_flow": null,
            "grid_area": null,
            "grid_auto_columns": null,
            "grid_auto_flow": null,
            "grid_auto_rows": null,
            "grid_column": null,
            "grid_gap": null,
            "grid_row": null,
            "grid_template_areas": null,
            "grid_template_columns": null,
            "grid_template_rows": null,
            "height": null,
            "justify_content": null,
            "justify_items": null,
            "left": null,
            "margin": null,
            "max_height": null,
            "max_width": null,
            "min_height": null,
            "min_width": null,
            "object_fit": null,
            "object_position": null,
            "order": null,
            "overflow": null,
            "overflow_x": null,
            "overflow_y": null,
            "padding": null,
            "right": null,
            "top": null,
            "visibility": null,
            "width": null
          }
        },
        "561e98c9a7ee47769de1e1a93779e49a": {
          "model_module": "@jupyter-widgets/controls",
          "model_name": "DescriptionStyleModel",
          "model_module_version": "1.5.0",
          "state": {
            "_model_module": "@jupyter-widgets/controls",
            "_model_module_version": "1.5.0",
            "_model_name": "DescriptionStyleModel",
            "_view_count": null,
            "_view_module": "@jupyter-widgets/base",
            "_view_module_version": "1.2.0",
            "_view_name": "StyleView",
            "description_width": ""
          }
        },
        "cc23c33236914005b9108779c29a355e": {
          "model_module": "@jupyter-widgets/base",
          "model_name": "LayoutModel",
          "model_module_version": "1.2.0",
          "state": {
            "_model_module": "@jupyter-widgets/base",
            "_model_module_version": "1.2.0",
            "_model_name": "LayoutModel",
            "_view_count": null,
            "_view_module": "@jupyter-widgets/base",
            "_view_module_version": "1.2.0",
            "_view_name": "LayoutView",
            "align_content": null,
            "align_items": null,
            "align_self": null,
            "border": null,
            "bottom": null,
            "display": null,
            "flex": null,
            "flex_flow": null,
            "grid_area": null,
            "grid_auto_columns": null,
            "grid_auto_flow": null,
            "grid_auto_rows": null,
            "grid_column": null,
            "grid_gap": null,
            "grid_row": null,
            "grid_template_areas": null,
            "grid_template_columns": null,
            "grid_template_rows": null,
            "height": null,
            "justify_content": null,
            "justify_items": null,
            "left": null,
            "margin": null,
            "max_height": null,
            "max_width": null,
            "min_height": null,
            "min_width": null,
            "object_fit": null,
            "object_position": null,
            "order": null,
            "overflow": null,
            "overflow_x": null,
            "overflow_y": null,
            "padding": null,
            "right": null,
            "top": null,
            "visibility": null,
            "width": null
          }
        },
        "5e457a13bfbc4434b577c113f87b263e": {
          "model_module": "@jupyter-widgets/controls",
          "model_name": "ProgressStyleModel",
          "model_module_version": "1.5.0",
          "state": {
            "_model_module": "@jupyter-widgets/controls",
            "_model_module_version": "1.5.0",
            "_model_name": "ProgressStyleModel",
            "_view_count": null,
            "_view_module": "@jupyter-widgets/base",
            "_view_module_version": "1.2.0",
            "_view_name": "StyleView",
            "bar_color": null,
            "description_width": ""
          }
        },
        "538fec9a34304ff0818518c9d5fc7712": {
          "model_module": "@jupyter-widgets/base",
          "model_name": "LayoutModel",
          "model_module_version": "1.2.0",
          "state": {
            "_model_module": "@jupyter-widgets/base",
            "_model_module_version": "1.2.0",
            "_model_name": "LayoutModel",
            "_view_count": null,
            "_view_module": "@jupyter-widgets/base",
            "_view_module_version": "1.2.0",
            "_view_name": "LayoutView",
            "align_content": null,
            "align_items": null,
            "align_self": null,
            "border": null,
            "bottom": null,
            "display": null,
            "flex": null,
            "flex_flow": null,
            "grid_area": null,
            "grid_auto_columns": null,
            "grid_auto_flow": null,
            "grid_auto_rows": null,
            "grid_column": null,
            "grid_gap": null,
            "grid_row": null,
            "grid_template_areas": null,
            "grid_template_columns": null,
            "grid_template_rows": null,
            "height": null,
            "justify_content": null,
            "justify_items": null,
            "left": null,
            "margin": null,
            "max_height": null,
            "max_width": null,
            "min_height": null,
            "min_width": null,
            "object_fit": null,
            "object_position": null,
            "order": null,
            "overflow": null,
            "overflow_x": null,
            "overflow_y": null,
            "padding": null,
            "right": null,
            "top": null,
            "visibility": null,
            "width": null
          }
        },
        "95839b1b2da54544add24ed2d1b4e238": {
          "model_module": "@jupyter-widgets/controls",
          "model_name": "DescriptionStyleModel",
          "model_module_version": "1.5.0",
          "state": {
            "_model_module": "@jupyter-widgets/controls",
            "_model_module_version": "1.5.0",
            "_model_name": "DescriptionStyleModel",
            "_view_count": null,
            "_view_module": "@jupyter-widgets/base",
            "_view_module_version": "1.2.0",
            "_view_name": "StyleView",
            "description_width": ""
          }
        },
        "c0d2a0e152314b838d7aa4f577b95893": {
          "model_module": "@jupyter-widgets/controls",
          "model_name": "HBoxModel",
          "model_module_version": "1.5.0",
          "state": {
            "_dom_classes": [],
            "_model_module": "@jupyter-widgets/controls",
            "_model_module_version": "1.5.0",
            "_model_name": "HBoxModel",
            "_view_count": null,
            "_view_module": "@jupyter-widgets/controls",
            "_view_module_version": "1.5.0",
            "_view_name": "HBoxView",
            "box_style": "",
            "children": [
              "IPY_MODEL_3e2f8ce150ad4a6e96c1760fa7638f95",
              "IPY_MODEL_2e661d18566d433da7ff58990d3765b6",
              "IPY_MODEL_f2fd1dd6d2bc49acb7921576c994e3b6"
            ],
            "layout": "IPY_MODEL_034d0e5f18ec4fc9b9ee125c4f9d6cd5"
          }
        },
        "3e2f8ce150ad4a6e96c1760fa7638f95": {
          "model_module": "@jupyter-widgets/controls",
          "model_name": "HTMLModel",
          "model_module_version": "1.5.0",
          "state": {
            "_dom_classes": [],
            "_model_module": "@jupyter-widgets/controls",
            "_model_module_version": "1.5.0",
            "_model_name": "HTMLModel",
            "_view_count": null,
            "_view_module": "@jupyter-widgets/controls",
            "_view_module_version": "1.5.0",
            "_view_name": "HTMLView",
            "description": "",
            "description_tooltip": null,
            "layout": "IPY_MODEL_8a69b0460be94de5a1d28ec61a693a72",
            "placeholder": "​",
            "style": "IPY_MODEL_c94aad3cea9b44bfbfb422f3f4aea638",
            "value": "Downloading model.safetensors: 100%"
          }
        },
        "2e661d18566d433da7ff58990d3765b6": {
          "model_module": "@jupyter-widgets/controls",
          "model_name": "FloatProgressModel",
          "model_module_version": "1.5.0",
          "state": {
            "_dom_classes": [],
            "_model_module": "@jupyter-widgets/controls",
            "_model_module_version": "1.5.0",
            "_model_name": "FloatProgressModel",
            "_view_count": null,
            "_view_module": "@jupyter-widgets/controls",
            "_view_module_version": "1.5.0",
            "_view_name": "ProgressView",
            "bar_style": "success",
            "description": "",
            "description_tooltip": null,
            "layout": "IPY_MODEL_dafdcbaf534645068eac733def283992",
            "max": 440449768,
            "min": 0,
            "orientation": "horizontal",
            "style": "IPY_MODEL_4882bd0109554efb9178678ee4685afd",
            "value": 440449768
          }
        },
        "f2fd1dd6d2bc49acb7921576c994e3b6": {
          "model_module": "@jupyter-widgets/controls",
          "model_name": "HTMLModel",
          "model_module_version": "1.5.0",
          "state": {
            "_dom_classes": [],
            "_model_module": "@jupyter-widgets/controls",
            "_model_module_version": "1.5.0",
            "_model_name": "HTMLModel",
            "_view_count": null,
            "_view_module": "@jupyter-widgets/controls",
            "_view_module_version": "1.5.0",
            "_view_name": "HTMLView",
            "description": "",
            "description_tooltip": null,
            "layout": "IPY_MODEL_479ac087ce174c99a377804f372ea67f",
            "placeholder": "​",
            "style": "IPY_MODEL_565e47746761443c9e26fd5f10d0d50e",
            "value": " 440M/440M [00:05&lt;00:00, 22.8MB/s]"
          }
        },
        "034d0e5f18ec4fc9b9ee125c4f9d6cd5": {
          "model_module": "@jupyter-widgets/base",
          "model_name": "LayoutModel",
          "model_module_version": "1.2.0",
          "state": {
            "_model_module": "@jupyter-widgets/base",
            "_model_module_version": "1.2.0",
            "_model_name": "LayoutModel",
            "_view_count": null,
            "_view_module": "@jupyter-widgets/base",
            "_view_module_version": "1.2.0",
            "_view_name": "LayoutView",
            "align_content": null,
            "align_items": null,
            "align_self": null,
            "border": null,
            "bottom": null,
            "display": null,
            "flex": null,
            "flex_flow": null,
            "grid_area": null,
            "grid_auto_columns": null,
            "grid_auto_flow": null,
            "grid_auto_rows": null,
            "grid_column": null,
            "grid_gap": null,
            "grid_row": null,
            "grid_template_areas": null,
            "grid_template_columns": null,
            "grid_template_rows": null,
            "height": null,
            "justify_content": null,
            "justify_items": null,
            "left": null,
            "margin": null,
            "max_height": null,
            "max_width": null,
            "min_height": null,
            "min_width": null,
            "object_fit": null,
            "object_position": null,
            "order": null,
            "overflow": null,
            "overflow_x": null,
            "overflow_y": null,
            "padding": null,
            "right": null,
            "top": null,
            "visibility": null,
            "width": null
          }
        },
        "8a69b0460be94de5a1d28ec61a693a72": {
          "model_module": "@jupyter-widgets/base",
          "model_name": "LayoutModel",
          "model_module_version": "1.2.0",
          "state": {
            "_model_module": "@jupyter-widgets/base",
            "_model_module_version": "1.2.0",
            "_model_name": "LayoutModel",
            "_view_count": null,
            "_view_module": "@jupyter-widgets/base",
            "_view_module_version": "1.2.0",
            "_view_name": "LayoutView",
            "align_content": null,
            "align_items": null,
            "align_self": null,
            "border": null,
            "bottom": null,
            "display": null,
            "flex": null,
            "flex_flow": null,
            "grid_area": null,
            "grid_auto_columns": null,
            "grid_auto_flow": null,
            "grid_auto_rows": null,
            "grid_column": null,
            "grid_gap": null,
            "grid_row": null,
            "grid_template_areas": null,
            "grid_template_columns": null,
            "grid_template_rows": null,
            "height": null,
            "justify_content": null,
            "justify_items": null,
            "left": null,
            "margin": null,
            "max_height": null,
            "max_width": null,
            "min_height": null,
            "min_width": null,
            "object_fit": null,
            "object_position": null,
            "order": null,
            "overflow": null,
            "overflow_x": null,
            "overflow_y": null,
            "padding": null,
            "right": null,
            "top": null,
            "visibility": null,
            "width": null
          }
        },
        "c94aad3cea9b44bfbfb422f3f4aea638": {
          "model_module": "@jupyter-widgets/controls",
          "model_name": "DescriptionStyleModel",
          "model_module_version": "1.5.0",
          "state": {
            "_model_module": "@jupyter-widgets/controls",
            "_model_module_version": "1.5.0",
            "_model_name": "DescriptionStyleModel",
            "_view_count": null,
            "_view_module": "@jupyter-widgets/base",
            "_view_module_version": "1.2.0",
            "_view_name": "StyleView",
            "description_width": ""
          }
        },
        "dafdcbaf534645068eac733def283992": {
          "model_module": "@jupyter-widgets/base",
          "model_name": "LayoutModel",
          "model_module_version": "1.2.0",
          "state": {
            "_model_module": "@jupyter-widgets/base",
            "_model_module_version": "1.2.0",
            "_model_name": "LayoutModel",
            "_view_count": null,
            "_view_module": "@jupyter-widgets/base",
            "_view_module_version": "1.2.0",
            "_view_name": "LayoutView",
            "align_content": null,
            "align_items": null,
            "align_self": null,
            "border": null,
            "bottom": null,
            "display": null,
            "flex": null,
            "flex_flow": null,
            "grid_area": null,
            "grid_auto_columns": null,
            "grid_auto_flow": null,
            "grid_auto_rows": null,
            "grid_column": null,
            "grid_gap": null,
            "grid_row": null,
            "grid_template_areas": null,
            "grid_template_columns": null,
            "grid_template_rows": null,
            "height": null,
            "justify_content": null,
            "justify_items": null,
            "left": null,
            "margin": null,
            "max_height": null,
            "max_width": null,
            "min_height": null,
            "min_width": null,
            "object_fit": null,
            "object_position": null,
            "order": null,
            "overflow": null,
            "overflow_x": null,
            "overflow_y": null,
            "padding": null,
            "right": null,
            "top": null,
            "visibility": null,
            "width": null
          }
        },
        "4882bd0109554efb9178678ee4685afd": {
          "model_module": "@jupyter-widgets/controls",
          "model_name": "ProgressStyleModel",
          "model_module_version": "1.5.0",
          "state": {
            "_model_module": "@jupyter-widgets/controls",
            "_model_module_version": "1.5.0",
            "_model_name": "ProgressStyleModel",
            "_view_count": null,
            "_view_module": "@jupyter-widgets/base",
            "_view_module_version": "1.2.0",
            "_view_name": "StyleView",
            "bar_color": null,
            "description_width": ""
          }
        },
        "479ac087ce174c99a377804f372ea67f": {
          "model_module": "@jupyter-widgets/base",
          "model_name": "LayoutModel",
          "model_module_version": "1.2.0",
          "state": {
            "_model_module": "@jupyter-widgets/base",
            "_model_module_version": "1.2.0",
            "_model_name": "LayoutModel",
            "_view_count": null,
            "_view_module": "@jupyter-widgets/base",
            "_view_module_version": "1.2.0",
            "_view_name": "LayoutView",
            "align_content": null,
            "align_items": null,
            "align_self": null,
            "border": null,
            "bottom": null,
            "display": null,
            "flex": null,
            "flex_flow": null,
            "grid_area": null,
            "grid_auto_columns": null,
            "grid_auto_flow": null,
            "grid_auto_rows": null,
            "grid_column": null,
            "grid_gap": null,
            "grid_row": null,
            "grid_template_areas": null,
            "grid_template_columns": null,
            "grid_template_rows": null,
            "height": null,
            "justify_content": null,
            "justify_items": null,
            "left": null,
            "margin": null,
            "max_height": null,
            "max_width": null,
            "min_height": null,
            "min_width": null,
            "object_fit": null,
            "object_position": null,
            "order": null,
            "overflow": null,
            "overflow_x": null,
            "overflow_y": null,
            "padding": null,
            "right": null,
            "top": null,
            "visibility": null,
            "width": null
          }
        },
        "565e47746761443c9e26fd5f10d0d50e": {
          "model_module": "@jupyter-widgets/controls",
          "model_name": "DescriptionStyleModel",
          "model_module_version": "1.5.0",
          "state": {
            "_model_module": "@jupyter-widgets/controls",
            "_model_module_version": "1.5.0",
            "_model_name": "DescriptionStyleModel",
            "_view_count": null,
            "_view_module": "@jupyter-widgets/base",
            "_view_module_version": "1.2.0",
            "_view_name": "StyleView",
            "description_width": ""
          }
        },
        "5b61051ad2ec424d87b9f4e6cb7e0491": {
          "model_module": "@jupyter-widgets/controls",
          "model_name": "HBoxModel",
          "model_module_version": "1.5.0",
          "state": {
            "_dom_classes": [],
            "_model_module": "@jupyter-widgets/controls",
            "_model_module_version": "1.5.0",
            "_model_name": "HBoxModel",
            "_view_count": null,
            "_view_module": "@jupyter-widgets/controls",
            "_view_module_version": "1.5.0",
            "_view_name": "HBoxView",
            "box_style": "",
            "children": [
              "IPY_MODEL_afe2381d98e247f9a143a4b4f3c61016",
              "IPY_MODEL_073d43c0243841779134be3f7423f523",
              "IPY_MODEL_2065fee7ff5a41cab3e3f680fbf5818d"
            ],
            "layout": "IPY_MODEL_fd4f64621d37404199072ac65941df35"
          }
        },
        "afe2381d98e247f9a143a4b4f3c61016": {
          "model_module": "@jupyter-widgets/controls",
          "model_name": "HTMLModel",
          "model_module_version": "1.5.0",
          "state": {
            "_dom_classes": [],
            "_model_module": "@jupyter-widgets/controls",
            "_model_module_version": "1.5.0",
            "_model_name": "HTMLModel",
            "_view_count": null,
            "_view_module": "@jupyter-widgets/controls",
            "_view_module_version": "1.5.0",
            "_view_name": "HTMLView",
            "description": "",
            "description_tooltip": null,
            "layout": "IPY_MODEL_ec098df0ab7e42eb8ef73055564ba41e",
            "placeholder": "​",
            "style": "IPY_MODEL_8419fa3e6f5d4b9d8b48a8ab85dddcaa",
            "value": "Downloading (…)solve/main/vocab.txt: 100%"
          }
        },
        "073d43c0243841779134be3f7423f523": {
          "model_module": "@jupyter-widgets/controls",
          "model_name": "FloatProgressModel",
          "model_module_version": "1.5.0",
          "state": {
            "_dom_classes": [],
            "_model_module": "@jupyter-widgets/controls",
            "_model_module_version": "1.5.0",
            "_model_name": "FloatProgressModel",
            "_view_count": null,
            "_view_module": "@jupyter-widgets/controls",
            "_view_module_version": "1.5.0",
            "_view_name": "ProgressView",
            "bar_style": "success",
            "description": "",
            "description_tooltip": null,
            "layout": "IPY_MODEL_b9da92b97d8e400d8cd14c2a18db28b9",
            "max": 231508,
            "min": 0,
            "orientation": "horizontal",
            "style": "IPY_MODEL_4d4de65f38fc4be880ff613d512b388a",
            "value": 231508
          }
        },
        "2065fee7ff5a41cab3e3f680fbf5818d": {
          "model_module": "@jupyter-widgets/controls",
          "model_name": "HTMLModel",
          "model_module_version": "1.5.0",
          "state": {
            "_dom_classes": [],
            "_model_module": "@jupyter-widgets/controls",
            "_model_module_version": "1.5.0",
            "_model_name": "HTMLModel",
            "_view_count": null,
            "_view_module": "@jupyter-widgets/controls",
            "_view_module_version": "1.5.0",
            "_view_name": "HTMLView",
            "description": "",
            "description_tooltip": null,
            "layout": "IPY_MODEL_52b4d46055da49fd842e13910c3fac63",
            "placeholder": "​",
            "style": "IPY_MODEL_5c8aa981111249fcb642d978b8fe0fac",
            "value": " 232k/232k [00:00&lt;00:00, 1.83MB/s]"
          }
        },
        "fd4f64621d37404199072ac65941df35": {
          "model_module": "@jupyter-widgets/base",
          "model_name": "LayoutModel",
          "model_module_version": "1.2.0",
          "state": {
            "_model_module": "@jupyter-widgets/base",
            "_model_module_version": "1.2.0",
            "_model_name": "LayoutModel",
            "_view_count": null,
            "_view_module": "@jupyter-widgets/base",
            "_view_module_version": "1.2.0",
            "_view_name": "LayoutView",
            "align_content": null,
            "align_items": null,
            "align_self": null,
            "border": null,
            "bottom": null,
            "display": null,
            "flex": null,
            "flex_flow": null,
            "grid_area": null,
            "grid_auto_columns": null,
            "grid_auto_flow": null,
            "grid_auto_rows": null,
            "grid_column": null,
            "grid_gap": null,
            "grid_row": null,
            "grid_template_areas": null,
            "grid_template_columns": null,
            "grid_template_rows": null,
            "height": null,
            "justify_content": null,
            "justify_items": null,
            "left": null,
            "margin": null,
            "max_height": null,
            "max_width": null,
            "min_height": null,
            "min_width": null,
            "object_fit": null,
            "object_position": null,
            "order": null,
            "overflow": null,
            "overflow_x": null,
            "overflow_y": null,
            "padding": null,
            "right": null,
            "top": null,
            "visibility": null,
            "width": null
          }
        },
        "ec098df0ab7e42eb8ef73055564ba41e": {
          "model_module": "@jupyter-widgets/base",
          "model_name": "LayoutModel",
          "model_module_version": "1.2.0",
          "state": {
            "_model_module": "@jupyter-widgets/base",
            "_model_module_version": "1.2.0",
            "_model_name": "LayoutModel",
            "_view_count": null,
            "_view_module": "@jupyter-widgets/base",
            "_view_module_version": "1.2.0",
            "_view_name": "LayoutView",
            "align_content": null,
            "align_items": null,
            "align_self": null,
            "border": null,
            "bottom": null,
            "display": null,
            "flex": null,
            "flex_flow": null,
            "grid_area": null,
            "grid_auto_columns": null,
            "grid_auto_flow": null,
            "grid_auto_rows": null,
            "grid_column": null,
            "grid_gap": null,
            "grid_row": null,
            "grid_template_areas": null,
            "grid_template_columns": null,
            "grid_template_rows": null,
            "height": null,
            "justify_content": null,
            "justify_items": null,
            "left": null,
            "margin": null,
            "max_height": null,
            "max_width": null,
            "min_height": null,
            "min_width": null,
            "object_fit": null,
            "object_position": null,
            "order": null,
            "overflow": null,
            "overflow_x": null,
            "overflow_y": null,
            "padding": null,
            "right": null,
            "top": null,
            "visibility": null,
            "width": null
          }
        },
        "8419fa3e6f5d4b9d8b48a8ab85dddcaa": {
          "model_module": "@jupyter-widgets/controls",
          "model_name": "DescriptionStyleModel",
          "model_module_version": "1.5.0",
          "state": {
            "_model_module": "@jupyter-widgets/controls",
            "_model_module_version": "1.5.0",
            "_model_name": "DescriptionStyleModel",
            "_view_count": null,
            "_view_module": "@jupyter-widgets/base",
            "_view_module_version": "1.2.0",
            "_view_name": "StyleView",
            "description_width": ""
          }
        },
        "b9da92b97d8e400d8cd14c2a18db28b9": {
          "model_module": "@jupyter-widgets/base",
          "model_name": "LayoutModel",
          "model_module_version": "1.2.0",
          "state": {
            "_model_module": "@jupyter-widgets/base",
            "_model_module_version": "1.2.0",
            "_model_name": "LayoutModel",
            "_view_count": null,
            "_view_module": "@jupyter-widgets/base",
            "_view_module_version": "1.2.0",
            "_view_name": "LayoutView",
            "align_content": null,
            "align_items": null,
            "align_self": null,
            "border": null,
            "bottom": null,
            "display": null,
            "flex": null,
            "flex_flow": null,
            "grid_area": null,
            "grid_auto_columns": null,
            "grid_auto_flow": null,
            "grid_auto_rows": null,
            "grid_column": null,
            "grid_gap": null,
            "grid_row": null,
            "grid_template_areas": null,
            "grid_template_columns": null,
            "grid_template_rows": null,
            "height": null,
            "justify_content": null,
            "justify_items": null,
            "left": null,
            "margin": null,
            "max_height": null,
            "max_width": null,
            "min_height": null,
            "min_width": null,
            "object_fit": null,
            "object_position": null,
            "order": null,
            "overflow": null,
            "overflow_x": null,
            "overflow_y": null,
            "padding": null,
            "right": null,
            "top": null,
            "visibility": null,
            "width": null
          }
        },
        "4d4de65f38fc4be880ff613d512b388a": {
          "model_module": "@jupyter-widgets/controls",
          "model_name": "ProgressStyleModel",
          "model_module_version": "1.5.0",
          "state": {
            "_model_module": "@jupyter-widgets/controls",
            "_model_module_version": "1.5.0",
            "_model_name": "ProgressStyleModel",
            "_view_count": null,
            "_view_module": "@jupyter-widgets/base",
            "_view_module_version": "1.2.0",
            "_view_name": "StyleView",
            "bar_color": null,
            "description_width": ""
          }
        },
        "52b4d46055da49fd842e13910c3fac63": {
          "model_module": "@jupyter-widgets/base",
          "model_name": "LayoutModel",
          "model_module_version": "1.2.0",
          "state": {
            "_model_module": "@jupyter-widgets/base",
            "_model_module_version": "1.2.0",
            "_model_name": "LayoutModel",
            "_view_count": null,
            "_view_module": "@jupyter-widgets/base",
            "_view_module_version": "1.2.0",
            "_view_name": "LayoutView",
            "align_content": null,
            "align_items": null,
            "align_self": null,
            "border": null,
            "bottom": null,
            "display": null,
            "flex": null,
            "flex_flow": null,
            "grid_area": null,
            "grid_auto_columns": null,
            "grid_auto_flow": null,
            "grid_auto_rows": null,
            "grid_column": null,
            "grid_gap": null,
            "grid_row": null,
            "grid_template_areas": null,
            "grid_template_columns": null,
            "grid_template_rows": null,
            "height": null,
            "justify_content": null,
            "justify_items": null,
            "left": null,
            "margin": null,
            "max_height": null,
            "max_width": null,
            "min_height": null,
            "min_width": null,
            "object_fit": null,
            "object_position": null,
            "order": null,
            "overflow": null,
            "overflow_x": null,
            "overflow_y": null,
            "padding": null,
            "right": null,
            "top": null,
            "visibility": null,
            "width": null
          }
        },
        "5c8aa981111249fcb642d978b8fe0fac": {
          "model_module": "@jupyter-widgets/controls",
          "model_name": "DescriptionStyleModel",
          "model_module_version": "1.5.0",
          "state": {
            "_model_module": "@jupyter-widgets/controls",
            "_model_module_version": "1.5.0",
            "_model_name": "DescriptionStyleModel",
            "_view_count": null,
            "_view_module": "@jupyter-widgets/base",
            "_view_module_version": "1.2.0",
            "_view_name": "StyleView",
            "description_width": ""
          }
        },
        "5a892c26e98d4d63a9ffa3d363da31f2": {
          "model_module": "@jupyter-widgets/controls",
          "model_name": "HBoxModel",
          "model_module_version": "1.5.0",
          "state": {
            "_dom_classes": [],
            "_model_module": "@jupyter-widgets/controls",
            "_model_module_version": "1.5.0",
            "_model_name": "HBoxModel",
            "_view_count": null,
            "_view_module": "@jupyter-widgets/controls",
            "_view_module_version": "1.5.0",
            "_view_name": "HBoxView",
            "box_style": "",
            "children": [
              "IPY_MODEL_70e37330e82b487ab48f62d8e7956141",
              "IPY_MODEL_60f190024b3e485d9781d6584f3feed6",
              "IPY_MODEL_ba071346ed1b42e3b4edfcc371c465f0"
            ],
            "layout": "IPY_MODEL_6c7938ec79994ca3b59bebe752a2ff22"
          }
        },
        "70e37330e82b487ab48f62d8e7956141": {
          "model_module": "@jupyter-widgets/controls",
          "model_name": "HTMLModel",
          "model_module_version": "1.5.0",
          "state": {
            "_dom_classes": [],
            "_model_module": "@jupyter-widgets/controls",
            "_model_module_version": "1.5.0",
            "_model_name": "HTMLModel",
            "_view_count": null,
            "_view_module": "@jupyter-widgets/controls",
            "_view_module_version": "1.5.0",
            "_view_name": "HTMLView",
            "description": "",
            "description_tooltip": null,
            "layout": "IPY_MODEL_1d68369a53f449cb9e0a05d0b448d9f4",
            "placeholder": "​",
            "style": "IPY_MODEL_56fa09ddc4bf4acdb5346208add8076c",
            "value": "Downloading (…)okenizer_config.json: 100%"
          }
        },
        "60f190024b3e485d9781d6584f3feed6": {
          "model_module": "@jupyter-widgets/controls",
          "model_name": "FloatProgressModel",
          "model_module_version": "1.5.0",
          "state": {
            "_dom_classes": [],
            "_model_module": "@jupyter-widgets/controls",
            "_model_module_version": "1.5.0",
            "_model_name": "FloatProgressModel",
            "_view_count": null,
            "_view_module": "@jupyter-widgets/controls",
            "_view_module_version": "1.5.0",
            "_view_name": "ProgressView",
            "bar_style": "success",
            "description": "",
            "description_tooltip": null,
            "layout": "IPY_MODEL_7d6c45ddc6ff48e893dfb77b35715ae2",
            "max": 28,
            "min": 0,
            "orientation": "horizontal",
            "style": "IPY_MODEL_7c86eb17c69f40aa9ff081b31625bcc0",
            "value": 28
          }
        },
        "ba071346ed1b42e3b4edfcc371c465f0": {
          "model_module": "@jupyter-widgets/controls",
          "model_name": "HTMLModel",
          "model_module_version": "1.5.0",
          "state": {
            "_dom_classes": [],
            "_model_module": "@jupyter-widgets/controls",
            "_model_module_version": "1.5.0",
            "_model_name": "HTMLModel",
            "_view_count": null,
            "_view_module": "@jupyter-widgets/controls",
            "_view_module_version": "1.5.0",
            "_view_name": "HTMLView",
            "description": "",
            "description_tooltip": null,
            "layout": "IPY_MODEL_38230649fd864827b411f0aecc79d70a",
            "placeholder": "​",
            "style": "IPY_MODEL_c3c6ccb253e2482c984656ddefdf5c99",
            "value": " 28.0/28.0 [00:00&lt;00:00, 316B/s]"
          }
        },
        "6c7938ec79994ca3b59bebe752a2ff22": {
          "model_module": "@jupyter-widgets/base",
          "model_name": "LayoutModel",
          "model_module_version": "1.2.0",
          "state": {
            "_model_module": "@jupyter-widgets/base",
            "_model_module_version": "1.2.0",
            "_model_name": "LayoutModel",
            "_view_count": null,
            "_view_module": "@jupyter-widgets/base",
            "_view_module_version": "1.2.0",
            "_view_name": "LayoutView",
            "align_content": null,
            "align_items": null,
            "align_self": null,
            "border": null,
            "bottom": null,
            "display": null,
            "flex": null,
            "flex_flow": null,
            "grid_area": null,
            "grid_auto_columns": null,
            "grid_auto_flow": null,
            "grid_auto_rows": null,
            "grid_column": null,
            "grid_gap": null,
            "grid_row": null,
            "grid_template_areas": null,
            "grid_template_columns": null,
            "grid_template_rows": null,
            "height": null,
            "justify_content": null,
            "justify_items": null,
            "left": null,
            "margin": null,
            "max_height": null,
            "max_width": null,
            "min_height": null,
            "min_width": null,
            "object_fit": null,
            "object_position": null,
            "order": null,
            "overflow": null,
            "overflow_x": null,
            "overflow_y": null,
            "padding": null,
            "right": null,
            "top": null,
            "visibility": null,
            "width": null
          }
        },
        "1d68369a53f449cb9e0a05d0b448d9f4": {
          "model_module": "@jupyter-widgets/base",
          "model_name": "LayoutModel",
          "model_module_version": "1.2.0",
          "state": {
            "_model_module": "@jupyter-widgets/base",
            "_model_module_version": "1.2.0",
            "_model_name": "LayoutModel",
            "_view_count": null,
            "_view_module": "@jupyter-widgets/base",
            "_view_module_version": "1.2.0",
            "_view_name": "LayoutView",
            "align_content": null,
            "align_items": null,
            "align_self": null,
            "border": null,
            "bottom": null,
            "display": null,
            "flex": null,
            "flex_flow": null,
            "grid_area": null,
            "grid_auto_columns": null,
            "grid_auto_flow": null,
            "grid_auto_rows": null,
            "grid_column": null,
            "grid_gap": null,
            "grid_row": null,
            "grid_template_areas": null,
            "grid_template_columns": null,
            "grid_template_rows": null,
            "height": null,
            "justify_content": null,
            "justify_items": null,
            "left": null,
            "margin": null,
            "max_height": null,
            "max_width": null,
            "min_height": null,
            "min_width": null,
            "object_fit": null,
            "object_position": null,
            "order": null,
            "overflow": null,
            "overflow_x": null,
            "overflow_y": null,
            "padding": null,
            "right": null,
            "top": null,
            "visibility": null,
            "width": null
          }
        },
        "56fa09ddc4bf4acdb5346208add8076c": {
          "model_module": "@jupyter-widgets/controls",
          "model_name": "DescriptionStyleModel",
          "model_module_version": "1.5.0",
          "state": {
            "_model_module": "@jupyter-widgets/controls",
            "_model_module_version": "1.5.0",
            "_model_name": "DescriptionStyleModel",
            "_view_count": null,
            "_view_module": "@jupyter-widgets/base",
            "_view_module_version": "1.2.0",
            "_view_name": "StyleView",
            "description_width": ""
          }
        },
        "7d6c45ddc6ff48e893dfb77b35715ae2": {
          "model_module": "@jupyter-widgets/base",
          "model_name": "LayoutModel",
          "model_module_version": "1.2.0",
          "state": {
            "_model_module": "@jupyter-widgets/base",
            "_model_module_version": "1.2.0",
            "_model_name": "LayoutModel",
            "_view_count": null,
            "_view_module": "@jupyter-widgets/base",
            "_view_module_version": "1.2.0",
            "_view_name": "LayoutView",
            "align_content": null,
            "align_items": null,
            "align_self": null,
            "border": null,
            "bottom": null,
            "display": null,
            "flex": null,
            "flex_flow": null,
            "grid_area": null,
            "grid_auto_columns": null,
            "grid_auto_flow": null,
            "grid_auto_rows": null,
            "grid_column": null,
            "grid_gap": null,
            "grid_row": null,
            "grid_template_areas": null,
            "grid_template_columns": null,
            "grid_template_rows": null,
            "height": null,
            "justify_content": null,
            "justify_items": null,
            "left": null,
            "margin": null,
            "max_height": null,
            "max_width": null,
            "min_height": null,
            "min_width": null,
            "object_fit": null,
            "object_position": null,
            "order": null,
            "overflow": null,
            "overflow_x": null,
            "overflow_y": null,
            "padding": null,
            "right": null,
            "top": null,
            "visibility": null,
            "width": null
          }
        },
        "7c86eb17c69f40aa9ff081b31625bcc0": {
          "model_module": "@jupyter-widgets/controls",
          "model_name": "ProgressStyleModel",
          "model_module_version": "1.5.0",
          "state": {
            "_model_module": "@jupyter-widgets/controls",
            "_model_module_version": "1.5.0",
            "_model_name": "ProgressStyleModel",
            "_view_count": null,
            "_view_module": "@jupyter-widgets/base",
            "_view_module_version": "1.2.0",
            "_view_name": "StyleView",
            "bar_color": null,
            "description_width": ""
          }
        },
        "38230649fd864827b411f0aecc79d70a": {
          "model_module": "@jupyter-widgets/base",
          "model_name": "LayoutModel",
          "model_module_version": "1.2.0",
          "state": {
            "_model_module": "@jupyter-widgets/base",
            "_model_module_version": "1.2.0",
            "_model_name": "LayoutModel",
            "_view_count": null,
            "_view_module": "@jupyter-widgets/base",
            "_view_module_version": "1.2.0",
            "_view_name": "LayoutView",
            "align_content": null,
            "align_items": null,
            "align_self": null,
            "border": null,
            "bottom": null,
            "display": null,
            "flex": null,
            "flex_flow": null,
            "grid_area": null,
            "grid_auto_columns": null,
            "grid_auto_flow": null,
            "grid_auto_rows": null,
            "grid_column": null,
            "grid_gap": null,
            "grid_row": null,
            "grid_template_areas": null,
            "grid_template_columns": null,
            "grid_template_rows": null,
            "height": null,
            "justify_content": null,
            "justify_items": null,
            "left": null,
            "margin": null,
            "max_height": null,
            "max_width": null,
            "min_height": null,
            "min_width": null,
            "object_fit": null,
            "object_position": null,
            "order": null,
            "overflow": null,
            "overflow_x": null,
            "overflow_y": null,
            "padding": null,
            "right": null,
            "top": null,
            "visibility": null,
            "width": null
          }
        },
        "c3c6ccb253e2482c984656ddefdf5c99": {
          "model_module": "@jupyter-widgets/controls",
          "model_name": "DescriptionStyleModel",
          "model_module_version": "1.5.0",
          "state": {
            "_model_module": "@jupyter-widgets/controls",
            "_model_module_version": "1.5.0",
            "_model_name": "DescriptionStyleModel",
            "_view_count": null,
            "_view_module": "@jupyter-widgets/base",
            "_view_module_version": "1.2.0",
            "_view_name": "StyleView",
            "description_width": ""
          }
        }
      }
    }
  },
  "cells": [
    {
      "cell_type": "markdown",
      "source": [
        "# Understanding the attention mechanism\n",
        "\n",
        "The idea of this small project is to show how the attention mechanism works at a small scale. Attention is this cool feature that was first introduced in 2015 for Recurrent Neural Networks (RNNs), and that is the base building block of the Transformer arquitecture.\n",
        "\n",
        "First, we will take a look into BERT the original encoder model published by Google in 2018. And we will see how the attention block of the transformer is built. We will notice that it's just a simple attention block, similar to the one discussed in the famous [Attention is all you need](https://arxiv.org/pdf/1706.03762.pdf) paper.\n",
        "\n",
        "We need to install the **transformers** library from HuggingFace in order to do so, so simply run the command below:"
      ],
      "metadata": {
        "id": "vzSwyzcts6FL"
      }
    },
    {
      "cell_type": "code",
      "source": [
        "! pip install transformers bertviz"
      ],
      "metadata": {
        "colab": {
          "base_uri": "https://localhost:8080/"
        },
        "id": "QUOTT2rPSqBh",
        "outputId": "53ff7384-510a-49df-cf8d-7720c497f0e8"
      },
      "execution_count": 63,
      "outputs": [
        {
          "output_type": "stream",
          "name": "stdout",
          "text": [
            "Requirement already satisfied: transformers in /usr/local/lib/python3.10/dist-packages (4.31.0)\n",
            "Collecting bertviz\n",
            "  Downloading bertviz-1.4.0-py3-none-any.whl (157 kB)\n",
            "\u001b[2K     \u001b[90m━━━━━━━━━━━━━━━━━━━━━━━━━━━━━━━━━━━━━━━\u001b[0m \u001b[32m157.6/157.6 kB\u001b[0m \u001b[31m2.4 MB/s\u001b[0m eta \u001b[36m0:00:00\u001b[0m\n",
            "\u001b[?25hRequirement already satisfied: filelock in /usr/local/lib/python3.10/dist-packages (from transformers) (3.12.2)\n",
            "Requirement already satisfied: huggingface-hub<1.0,>=0.14.1 in /usr/local/lib/python3.10/dist-packages (from transformers) (0.16.4)\n",
            "Requirement already satisfied: numpy>=1.17 in /usr/local/lib/python3.10/dist-packages (from transformers) (1.22.4)\n",
            "Requirement already satisfied: packaging>=20.0 in /usr/local/lib/python3.10/dist-packages (from transformers) (23.1)\n",
            "Requirement already satisfied: pyyaml>=5.1 in /usr/local/lib/python3.10/dist-packages (from transformers) (6.0)\n",
            "Requirement already satisfied: regex!=2019.12.17 in /usr/local/lib/python3.10/dist-packages (from transformers) (2022.10.31)\n",
            "Requirement already satisfied: requests in /usr/local/lib/python3.10/dist-packages (from transformers) (2.27.1)\n",
            "Requirement already satisfied: tokenizers!=0.11.3,<0.14,>=0.11.1 in /usr/local/lib/python3.10/dist-packages (from transformers) (0.13.3)\n",
            "Requirement already satisfied: safetensors>=0.3.1 in /usr/local/lib/python3.10/dist-packages (from transformers) (0.3.1)\n",
            "Requirement already satisfied: tqdm>=4.27 in /usr/local/lib/python3.10/dist-packages (from transformers) (4.65.0)\n",
            "Requirement already satisfied: torch>=1.0 in /usr/local/lib/python3.10/dist-packages (from bertviz) (2.0.1+cu118)\n",
            "Collecting boto3 (from bertviz)\n",
            "  Downloading boto3-1.28.8-py3-none-any.whl (135 kB)\n",
            "\u001b[2K     \u001b[90m━━━━━━━━━━━━━━━━━━━━━━━━━━━━━━━━━━━━━━━\u001b[0m \u001b[32m135.7/135.7 kB\u001b[0m \u001b[31m7.9 MB/s\u001b[0m eta \u001b[36m0:00:00\u001b[0m\n",
            "\u001b[?25hCollecting sentencepiece (from bertviz)\n",
            "  Downloading sentencepiece-0.1.99-cp310-cp310-manylinux_2_17_x86_64.manylinux2014_x86_64.whl (1.3 MB)\n",
            "\u001b[2K     \u001b[90m━━━━━━━━━━━━━━━━━━━━━━━━━━━━━━━━━━━━━━━━\u001b[0m \u001b[32m1.3/1.3 MB\u001b[0m \u001b[31m9.5 MB/s\u001b[0m eta \u001b[36m0:00:00\u001b[0m\n",
            "\u001b[?25hRequirement already satisfied: fsspec in /usr/local/lib/python3.10/dist-packages (from huggingface-hub<1.0,>=0.14.1->transformers) (2023.6.0)\n",
            "Requirement already satisfied: typing-extensions>=3.7.4.3 in /usr/local/lib/python3.10/dist-packages (from huggingface-hub<1.0,>=0.14.1->transformers) (4.7.1)\n",
            "Requirement already satisfied: sympy in /usr/local/lib/python3.10/dist-packages (from torch>=1.0->bertviz) (1.11.1)\n",
            "Requirement already satisfied: networkx in /usr/local/lib/python3.10/dist-packages (from torch>=1.0->bertviz) (3.1)\n",
            "Requirement already satisfied: jinja2 in /usr/local/lib/python3.10/dist-packages (from torch>=1.0->bertviz) (3.1.2)\n",
            "Requirement already satisfied: triton==2.0.0 in /usr/local/lib/python3.10/dist-packages (from torch>=1.0->bertviz) (2.0.0)\n",
            "Requirement already satisfied: cmake in /usr/local/lib/python3.10/dist-packages (from triton==2.0.0->torch>=1.0->bertviz) (3.25.2)\n",
            "Requirement already satisfied: lit in /usr/local/lib/python3.10/dist-packages (from triton==2.0.0->torch>=1.0->bertviz) (16.0.6)\n",
            "Collecting botocore<1.32.0,>=1.31.8 (from boto3->bertviz)\n",
            "  Downloading botocore-1.31.8-py3-none-any.whl (11.0 MB)\n",
            "\u001b[2K     \u001b[90m━━━━━━━━━━━━━━━━━━━━━━━━━━━━━━━━━━━━━━━━\u001b[0m \u001b[32m11.0/11.0 MB\u001b[0m \u001b[31m31.1 MB/s\u001b[0m eta \u001b[36m0:00:00\u001b[0m\n",
            "\u001b[?25hCollecting jmespath<2.0.0,>=0.7.1 (from boto3->bertviz)\n",
            "  Downloading jmespath-1.0.1-py3-none-any.whl (20 kB)\n",
            "Collecting s3transfer<0.7.0,>=0.6.0 (from boto3->bertviz)\n",
            "  Downloading s3transfer-0.6.1-py3-none-any.whl (79 kB)\n",
            "\u001b[2K     \u001b[90m━━━━━━━━━━━━━━━━━━━━━━━━━━━━━━━━━━━━━━━━\u001b[0m \u001b[32m79.8/79.8 kB\u001b[0m \u001b[31m9.3 MB/s\u001b[0m eta \u001b[36m0:00:00\u001b[0m\n",
            "\u001b[?25hRequirement already satisfied: urllib3<1.27,>=1.21.1 in /usr/local/lib/python3.10/dist-packages (from requests->transformers) (1.26.16)\n",
            "Requirement already satisfied: certifi>=2017.4.17 in /usr/local/lib/python3.10/dist-packages (from requests->transformers) (2023.5.7)\n",
            "Requirement already satisfied: charset-normalizer~=2.0.0 in /usr/local/lib/python3.10/dist-packages (from requests->transformers) (2.0.12)\n",
            "Requirement already satisfied: idna<4,>=2.5 in /usr/local/lib/python3.10/dist-packages (from requests->transformers) (3.4)\n",
            "Requirement already satisfied: python-dateutil<3.0.0,>=2.1 in /usr/local/lib/python3.10/dist-packages (from botocore<1.32.0,>=1.31.8->boto3->bertviz) (2.8.2)\n",
            "Requirement already satisfied: MarkupSafe>=2.0 in /usr/local/lib/python3.10/dist-packages (from jinja2->torch>=1.0->bertviz) (2.1.3)\n",
            "Requirement already satisfied: mpmath>=0.19 in /usr/local/lib/python3.10/dist-packages (from sympy->torch>=1.0->bertviz) (1.3.0)\n",
            "Requirement already satisfied: six>=1.5 in /usr/local/lib/python3.10/dist-packages (from python-dateutil<3.0.0,>=2.1->botocore<1.32.0,>=1.31.8->boto3->bertviz) (1.16.0)\n",
            "Installing collected packages: sentencepiece, jmespath, botocore, s3transfer, boto3, bertviz\n",
            "Successfully installed bertviz-1.4.0 boto3-1.28.8 botocore-1.31.8 jmespath-1.0.1 s3transfer-0.6.1 sentencepiece-0.1.99\n"
          ]
        }
      ]
    },
    {
      "cell_type": "code",
      "source": [
        "import torch"
      ],
      "metadata": {
        "id": "lQXpbBheVBXP"
      },
      "execution_count": 2,
      "outputs": []
    },
    {
      "cell_type": "markdown",
      "source": [
        "## Understanding Attention in BERT's first layer\n",
        "\n",
        "Below we will just import the BERT uncased model from HuggingFace. Let's explore how the model's layers are built. The BERT base uncased model is a pre-trained model from Google that can be used for feature extraction. It converts de prompt we pass to the model to a"
      ],
      "metadata": {
        "id": "4x54ORWITt-G"
      }
    },
    {
      "cell_type": "code",
      "execution_count": 64,
      "metadata": {
        "id": "QcC4xI4pSX4c"
      },
      "outputs": [],
      "source": [
        "from transformers import BertModel, BertTokenizer\n",
        "import matplotlib.pyplot as plt\n",
        "import seaborn as sns\n",
        "import bertviz"
      ]
    },
    {
      "cell_type": "code",
      "source": [
        "model = BertModel.from_pretrained(\"bert-base-uncased\")"
      ],
      "metadata": {
        "colab": {
          "base_uri": "https://localhost:8080/",
          "height": 81,
          "referenced_widgets": [
            "2aff05a41a5343f5bdf2e27e26a27382",
            "c84e41134060480ab05a7468906055d7",
            "6a379dd25e024d0185040823be8b7681",
            "54364790ee364947a02890ce4bc99c2f",
            "84ff2d53136a4518ad61ec8c66f55780",
            "79252bafed0f435dba14319917511241",
            "561e98c9a7ee47769de1e1a93779e49a",
            "cc23c33236914005b9108779c29a355e",
            "5e457a13bfbc4434b577c113f87b263e",
            "538fec9a34304ff0818518c9d5fc7712",
            "95839b1b2da54544add24ed2d1b4e238",
            "c0d2a0e152314b838d7aa4f577b95893",
            "3e2f8ce150ad4a6e96c1760fa7638f95",
            "2e661d18566d433da7ff58990d3765b6",
            "f2fd1dd6d2bc49acb7921576c994e3b6",
            "034d0e5f18ec4fc9b9ee125c4f9d6cd5",
            "8a69b0460be94de5a1d28ec61a693a72",
            "c94aad3cea9b44bfbfb422f3f4aea638",
            "dafdcbaf534645068eac733def283992",
            "4882bd0109554efb9178678ee4685afd",
            "479ac087ce174c99a377804f372ea67f",
            "565e47746761443c9e26fd5f10d0d50e"
          ]
        },
        "id": "n7x1tS95SfCq",
        "outputId": "ef7b6994-70d5-439c-91ed-468e486f16af"
      },
      "execution_count": 4,
      "outputs": [
        {
          "output_type": "display_data",
          "data": {
            "text/plain": [
              "Downloading (…)lve/main/config.json:   0%|          | 0.00/570 [00:00<?, ?B/s]"
            ],
            "application/vnd.jupyter.widget-view+json": {
              "version_major": 2,
              "version_minor": 0,
              "model_id": "2aff05a41a5343f5bdf2e27e26a27382"
            }
          },
          "metadata": {}
        },
        {
          "output_type": "display_data",
          "data": {
            "text/plain": [
              "Downloading model.safetensors:   0%|          | 0.00/440M [00:00<?, ?B/s]"
            ],
            "application/vnd.jupyter.widget-view+json": {
              "version_major": 2,
              "version_minor": 0,
              "model_id": "c0d2a0e152314b838d7aa4f577b95893"
            }
          },
          "metadata": {}
        }
      ]
    },
    {
      "cell_type": "markdown",
      "source": [
        "As seen below, BERT has 12 attention layers in the enconder phase in total. Each of this attention layers can be though of as a creating a deeper and more context-aware representation of the input, based on the raw values of the input as individual tokens."
      ],
      "metadata": {
        "id": "E_ikqHT_T6hU"
      }
    },
    {
      "cell_type": "code",
      "source": [
        "len(model.encoder.layer)"
      ],
      "metadata": {
        "colab": {
          "base_uri": "https://localhost:8080/"
        },
        "id": "2-yOGRcoSoHD",
        "outputId": "ff675a8e-3edb-4b56-ab4e-d3093dc04951"
      },
      "execution_count": 5,
      "outputs": [
        {
          "output_type": "execute_result",
          "data": {
            "text/plain": [
              "12"
            ]
          },
          "metadata": {},
          "execution_count": 5
        }
      ]
    },
    {
      "cell_type": "markdown",
      "source": [
        "The attention mechanism breaks the initial input into 3 matrices Q, K and V. These 3 matrices are used to generate a representation of how much \"attention\" should be payed to each of the input tokens, based on the embeddings for each token on its own."
      ],
      "metadata": {
        "id": "tuqv4-GsUnym"
      }
    },
    {
      "cell_type": "code",
      "source": [
        "model.encoder.layer[0]"
      ],
      "metadata": {
        "colab": {
          "base_uri": "https://localhost:8080/"
        },
        "id": "IShrwUM_S6Ut",
        "outputId": "4987a1a8-932a-41fb-ced1-d9328466b58c"
      },
      "execution_count": 6,
      "outputs": [
        {
          "output_type": "execute_result",
          "data": {
            "text/plain": [
              "BertLayer(\n",
              "  (attention): BertAttention(\n",
              "    (self): BertSelfAttention(\n",
              "      (query): Linear(in_features=768, out_features=768, bias=True)\n",
              "      (key): Linear(in_features=768, out_features=768, bias=True)\n",
              "      (value): Linear(in_features=768, out_features=768, bias=True)\n",
              "      (dropout): Dropout(p=0.1, inplace=False)\n",
              "    )\n",
              "    (output): BertSelfOutput(\n",
              "      (dense): Linear(in_features=768, out_features=768, bias=True)\n",
              "      (LayerNorm): LayerNorm((768,), eps=1e-12, elementwise_affine=True)\n",
              "      (dropout): Dropout(p=0.1, inplace=False)\n",
              "    )\n",
              "  )\n",
              "  (intermediate): BertIntermediate(\n",
              "    (dense): Linear(in_features=768, out_features=3072, bias=True)\n",
              "    (intermediate_act_fn): GELUActivation()\n",
              "  )\n",
              "  (output): BertOutput(\n",
              "    (dense): Linear(in_features=3072, out_features=768, bias=True)\n",
              "    (LayerNorm): LayerNorm((768,), eps=1e-12, elementwise_affine=True)\n",
              "    (dropout): Dropout(p=0.1, inplace=False)\n",
              "  )\n",
              ")"
            ]
          },
          "metadata": {},
          "execution_count": 6
        }
      ]
    },
    {
      "cell_type": "markdown",
      "source": [
        "### Example of the Q, K and V matrices given an input\n",
        "\n",
        "Let's create an input phrase, for example: \"I am short\". Now let's create the corresponding spaces Q, K and V for this tokens, and see how that would play out. The input has 3 words (and we will treat words like tokens for now), so we will have our input \"X\" be 3 x 9 where 9 is just our vocabulary, our \"number of possible words\", if you will.\n",
        "\n",
        "**Note:** In reality, words will actually be tokens, and the vocabulary will be way larger than 9, but 9 will serve as a good way to show how we would proceed if this was the real transformer."
      ],
      "metadata": {
        "id": "6VZW7oXkVZCy"
      }
    },
    {
      "cell_type": "code",
      "source": [
        "input = \"I am short\""
      ],
      "metadata": {
        "id": "_z2c_3UBS9md"
      },
      "execution_count": 7,
      "outputs": []
    },
    {
      "cell_type": "markdown",
      "source": [
        "This would get broken down to:"
      ],
      "metadata": {
        "id": "eDm22YUHZ-_-"
      }
    },
    {
      "cell_type": "markdown",
      "source": [
        "|       | d1    | d2     | d3 | d4 | d5 | d6  | d7 | d8 | d9    |\n",
        "|-------|-------|--------|----|----|----|-----|----|----|--------|\n",
        "| I     | 0.8137| 0.7803 | ...| ...| ...| ... | ...| ...| 0.117  |\n",
        "| am    | 0.1000| 0.2150 | ...| ...| ...| ... | ...| ...| 0.701  |\n",
        "| short | 0.1770|-0.7047 | ...| ...| ...| ... | ...| ...| -0.321 |"
      ],
      "metadata": {
        "id": "VgRZmcSva-hB"
      }
    },
    {
      "cell_type": "markdown",
      "source": [
        "Where ${d_i}$ are the different dimensions of each input token in positinal encoding embedding space. Check the [attention is all you need](https://arxiv.org/pdf/1706.03762.pdf) paper for a reference to the actual architecture image."
      ],
      "metadata": {
        "id": "TL8_KoRnbKuM"
      }
    },
    {
      "cell_type": "markdown",
      "source": [
        "Let's use PyTorch to build such matrix and go over the process that would happen inside a Transformer. We will call our inputs \"X\", and our Query, Key and Value matrices Q, K and V respectively, just like the paper does.\n",
        "\n",
        "The attention mechanism is based on calculating the attention value that should be applied to each value in the \"Value\" space. If we think of V as if it holds the information of the meaning of the words independently of their context, we want to train a normalized attention matrix ${\\frac{QK^{T}}{\\sqrt{d_{k}}}}$ that measures what tokens should be payed the most attention to. The output is converted to probabilities using a softmax transformation.\n",
        "\n",
        "The attention matrix will then multiply the Value matrix to convert the context agnostic \"V\" matrix to a context-aware \"V\" matrix. So, the attention applied to the V matrix can be written as:\n",
        "\n",
        "$${softmax(\\frac{QK^{T}}{\\sqrt{d_{k}}})V}$$"
      ],
      "metadata": {
        "id": "BZCvn7PPbxzV"
      }
    },
    {
      "cell_type": "markdown",
      "source": [
        "We need three extra matrices that will not be discussed for now. This are the weights matrices, and they multiply or input \"X\" and transform it to Q, K and V respectively. They are generally written as ${W^{Q}}$, ${W^{K}}$ and ${W^{V}}$"
      ],
      "metadata": {
        "id": "YgNL6JkDeXWo"
      }
    },
    {
      "cell_type": "markdown",
      "source": [
        "So imagine that the dimensions of each token in the positional embedding space is:"
      ],
      "metadata": {
        "id": "d8sHZi1MeqXL"
      }
    },
    {
      "cell_type": "code",
      "source": [
        "X = torch.Tensor([[0.8137, 0.7803, 0.0972, 0.1619, 0.6793, 0.0919, 0.4634, 0.5565, 0.117],\n",
        "        [0.1000, 0.2150, 0.5824, 0.5941, 0.7734, 0.1016, 0.9998, 0.1266, 0.701],\n",
        "        [0.1770, -0.7047, 0.7806, 0.4591, 0.3710, 0.1028, 0.0787, 0.0687, -0.321]])\n",
        "X"
      ],
      "metadata": {
        "colab": {
          "base_uri": "https://localhost:8080/"
        },
        "id": "WbPVtbDRZ-Tk",
        "outputId": "b498859e-bc1d-4a3b-bb16-7a0507531f36"
      },
      "execution_count": 8,
      "outputs": [
        {
          "output_type": "execute_result",
          "data": {
            "text/plain": [
              "tensor([[ 0.8137,  0.7803,  0.0972,  0.1619,  0.6793,  0.0919,  0.4634,  0.5565,\n",
              "          0.1170],\n",
              "        [ 0.1000,  0.2150,  0.5824,  0.5941,  0.7734,  0.1016,  0.9998,  0.1266,\n",
              "          0.7010],\n",
              "        [ 0.1770, -0.7047,  0.7806,  0.4591,  0.3710,  0.1028,  0.0787,  0.0687,\n",
              "         -0.3210]])"
            ]
          },
          "metadata": {},
          "execution_count": 8
        }
      ]
    },
    {
      "cell_type": "markdown",
      "source": [
        "So, \"I\" in the initial embedding space is represented by the 9 dimensional vector: [0.8137,  0.7803,  0.0972,  0.1619,  0.6793,  0.0919,  0.4634,  0.5565, 0.1170]\n",
        "\n",
        "\"am\" in the same space is represented by the 9 dimensional vector: [0.1000,  0.2150,  0.5824,  0.5941,  0.7734,  0.1016,  0.9998,  0.1266, 0.7010]\n",
        "\n",
        "And \"short\" is represented by the vector: [0.1770, -0.7047,  0.7806,  0.4591,  0.3710,  0.1028,  0.0787,  0.0687, -0.3210]"
      ],
      "metadata": {
        "id": "T4FLGeeagKKd"
      }
    },
    {
      "cell_type": "markdown",
      "source": [
        "If we imagine we want to create a representation of the text in a 4-dimensional space, then our Weight vectors (${W^{i}}$) will be of the shape 9x4.\n",
        "\n",
        "So the shape of Q, K and V, will be 3 x 4, since they will be the product of multiplying X times their corresponding weight matrix, and we know the dimensions of both. Let's create some artificial Q, K and V matrices:"
      ],
      "metadata": {
        "id": "lALeHxU9hRqq"
      }
    },
    {
      "cell_type": "code",
      "source": [
        "Q = torch.Tensor([[0.023, 0.7144, 1.03, 0.576], [0.903, 0.1474, -0.338, -0.765], [0.576, -0.7144, 0.03, -0.076]])\n",
        "\n",
        "K = torch.Tensor([[0.5224, -0.1328, 0.9169, 0.5317], [0.3535, 0.7698, -0.2965, 0.2669], [0.3864, 0.5015, 0.5557, -0.1671]])\n",
        "\n",
        "V = torch.Tensor([[0.7467, 0.0360, -0.5847, 0.0370], [1.509, 0.8009, 0.7957, 0.0151], [0.4343, 0.9003, 0.3387, 0.2031]])"
      ],
      "metadata": {
        "id": "RXgtl5zofLJf"
      },
      "execution_count": 9,
      "outputs": []
    },
    {
      "cell_type": "markdown",
      "source": [
        "Basically, Q, K and V are the representations of the input embedding vectors in the Q space, K space and V spaces respectively. The V space attempts to retain information about the individual tokens while the other two combine to generate a representation of the tokens in their context and will be the building blocks for the attention mechanism applied to V.\n",
        "\n",
        "Let's now build ${QK^{T}}$"
      ],
      "metadata": {
        "id": "bozragBTjLvm"
      }
    },
    {
      "cell_type": "code",
      "source": [
        "K_t = torch.transpose(K, 0, 1)\n",
        "K_t"
      ],
      "metadata": {
        "colab": {
          "base_uri": "https://localhost:8080/"
        },
        "id": "XfONJsXUicnK",
        "outputId": "6d10ad43-330a-4c4f-dd33-e7a12d7f7e82"
      },
      "execution_count": 10,
      "outputs": [
        {
          "output_type": "execute_result",
          "data": {
            "text/plain": [
              "tensor([[ 0.5224,  0.3535,  0.3864],\n",
              "        [-0.1328,  0.7698,  0.5015],\n",
              "        [ 0.9169, -0.2965,  0.5557],\n",
              "        [ 0.5317,  0.2669, -0.1671]])"
            ]
          },
          "metadata": {},
          "execution_count": 10
        }
      ]
    },
    {
      "cell_type": "code",
      "source": [
        "q_kt = torch.mm(Q, K_t)\n",
        "q_kt  # This is a 3x3 matrix"
      ],
      "metadata": {
        "colab": {
          "base_uri": "https://localhost:8080/"
        },
        "id": "e0EyUXQziiJK",
        "outputId": "155ecde1-15f9-4d81-a93c-3ddfd2c29502"
      },
      "execution_count": 11,
      "outputs": [
        {
          "output_type": "execute_result",
          "data": {
            "text/plain": [
              "tensor([[ 1.1678,  0.4064,  0.8433],\n",
              "        [-0.2645,  0.3287,  0.3628],\n",
              "        [ 0.3829, -0.3755, -0.1063]])"
            ]
          },
          "metadata": {},
          "execution_count": 11
        }
      ]
    },
    {
      "cell_type": "markdown",
      "source": [
        "PyTorch allows us to calculate the attention matrix using a few simple functions:"
      ],
      "metadata": {
        "id": "WHkNhN52kJbP"
      }
    },
    {
      "cell_type": "code",
      "source": [
        "embedding_space = q_kt.shape[1]\n",
        "\n",
        "att_before_softmax = torch.div(q_kt, torch.sqrt(torch.tensor(embedding_space)))\n",
        "\n",
        "att_before_softmax"
      ],
      "metadata": {
        "colab": {
          "base_uri": "https://localhost:8080/"
        },
        "id": "oQdKGkEKjniE",
        "outputId": "defd4d63-09f6-4385-b335-a9ac386b8053"
      },
      "execution_count": 12,
      "outputs": [
        {
          "output_type": "execute_result",
          "data": {
            "text/plain": [
              "tensor([[ 0.6742,  0.2346,  0.4869],\n",
              "        [-0.1527,  0.1898,  0.2095],\n",
              "        [ 0.2211, -0.2168, -0.0614]])"
            ]
          },
          "metadata": {},
          "execution_count": 12
        }
      ]
    },
    {
      "cell_type": "markdown",
      "source": [
        "Notice that for the word \"I\" for example (first row), the values for the attention add up to more than one. This is because we haven't applied the softmax function. Let's see what I mean, below are the sums at row level (note they don't necessarily add up to 1.0). I'm only reshaping the tensor so that each sum is at the same position as the row it represents in the above matrix."
      ],
      "metadata": {
        "id": "HO1BEE3yll8A"
      }
    },
    {
      "cell_type": "code",
      "source": [
        "torch.sum(att_before_softmax, dim=1).reshape(-1, 1)"
      ],
      "metadata": {
        "colab": {
          "base_uri": "https://localhost:8080/"
        },
        "id": "f36D2WxYlXPE",
        "outputId": "185c538a-5269-4c17-8534-aa35ed805626"
      },
      "execution_count": 13,
      "outputs": [
        {
          "output_type": "execute_result",
          "data": {
            "text/plain": [
              "tensor([[ 1.3957],\n",
              "        [ 0.2466],\n",
              "        [-0.0571]])"
            ]
          },
          "metadata": {},
          "execution_count": 13
        }
      ]
    },
    {
      "cell_type": "code",
      "source": [
        "attn_matrix = torch.softmax(att_before_softmax, dim=1)\n",
        "\n",
        "attn_matrix"
      ],
      "metadata": {
        "colab": {
          "base_uri": "https://localhost:8080/"
        },
        "id": "H3v6G_MQlZae",
        "outputId": "46aac4c0-415c-4923-bba6-7a58ea316c52"
      },
      "execution_count": 14,
      "outputs": [
        {
          "output_type": "execute_result",
          "data": {
            "text/plain": [
              "tensor([[0.4043, 0.2605, 0.3352],\n",
              "        [0.2601, 0.3663, 0.3736],\n",
              "        [0.4168, 0.2690, 0.3142]])"
            ]
          },
          "metadata": {},
          "execution_count": 14
        }
      ]
    },
    {
      "cell_type": "markdown",
      "source": [
        "Let's check that the rows add up to 1 now. Remember the reshape is just to align the rows in the attn_matrix above to the output of the cell below, but it's not doing anything to the values themselves"
      ],
      "metadata": {
        "id": "VVucaXabnDa1"
      }
    },
    {
      "cell_type": "code",
      "source": [
        "torch.sum(attn_matrix, dim=1).reshape(-1, 1)"
      ],
      "metadata": {
        "colab": {
          "base_uri": "https://localhost:8080/"
        },
        "id": "OFZlLcddmdxJ",
        "outputId": "e7c183de-bd7d-4a79-8b85-574ef31bf392"
      },
      "execution_count": 15,
      "outputs": [
        {
          "output_type": "execute_result",
          "data": {
            "text/plain": [
              "tensor([[1.],\n",
              "        [1.],\n",
              "        [1.]])"
            ]
          },
          "metadata": {},
          "execution_count": 15
        }
      ]
    },
    {
      "cell_type": "markdown",
      "source": [
        "This attention matrix (attn_matrix) is applied to the matrix V, and this is the actual context aware \"attention\" our model would be paying to each token in the embeding space, projected into the V space."
      ],
      "metadata": {
        "id": "ZzPtCxrTnWrI"
      }
    },
    {
      "cell_type": "code",
      "source": [
        "attn_matrix"
      ],
      "metadata": {
        "colab": {
          "base_uri": "https://localhost:8080/"
        },
        "id": "VLE8Ovsjq9n_",
        "outputId": "6ff8b079-3956-49b8-e4aa-2f009e8c7bc1"
      },
      "execution_count": 16,
      "outputs": [
        {
          "output_type": "execute_result",
          "data": {
            "text/plain": [
              "tensor([[0.4043, 0.2605, 0.3352],\n",
              "        [0.2601, 0.3663, 0.3736],\n",
              "        [0.4168, 0.2690, 0.3142]])"
            ]
          },
          "metadata": {},
          "execution_count": 16
        }
      ]
    },
    {
      "cell_type": "code",
      "source": [
        "V"
      ],
      "metadata": {
        "colab": {
          "base_uri": "https://localhost:8080/"
        },
        "id": "dKrPXq_fpYHc",
        "outputId": "9b170483-677c-44d3-9965-1b41f5eea5bb"
      },
      "execution_count": 17,
      "outputs": [
        {
          "output_type": "execute_result",
          "data": {
            "text/plain": [
              "tensor([[ 0.7467,  0.0360, -0.5847,  0.0370],\n",
              "        [ 1.5090,  0.8009,  0.7957,  0.0151],\n",
              "        [ 0.4343,  0.9003,  0.3387,  0.2031]])"
            ]
          },
          "metadata": {},
          "execution_count": 17
        }
      ]
    },
    {
      "cell_type": "code",
      "source": [
        "output = torch.mm(attn_matrix, V)\n",
        "output"
      ],
      "metadata": {
        "colab": {
          "base_uri": "https://localhost:8080/"
        },
        "id": "CmDnrTz1my8X",
        "outputId": "e2a9235d-fce2-441a-8451-ba821c7106bd"
      },
      "execution_count": 18,
      "outputs": [
        {
          "output_type": "execute_result",
          "data": {
            "text/plain": [
              "tensor([[0.8405, 0.5250, 0.0844, 0.0870],\n",
              "        [0.9092, 0.6391, 0.2659, 0.0910],\n",
              "        [0.8536, 0.5133, 0.0768, 0.0833]])"
            ]
          },
          "metadata": {},
          "execution_count": 18
        }
      ]
    },
    {
      "cell_type": "markdown",
      "source": [
        "The output matrix shows the elements of \"V\" our model is going to pay attention to. The model at this stage is just providing \"relevance\" or context awareness to the semantic meaning of the words. It's enriching the text by combining context + meaning in the V projection space!"
      ],
      "metadata": {
        "id": "v82UED4qqW3w"
      }
    },
    {
      "cell_type": "markdown",
      "source": [
        "## Applying this to BERT"
      ],
      "metadata": {
        "id": "5nu_U-RZE7qI"
      }
    },
    {
      "cell_type": "markdown",
      "source": [
        "### Multi Head Attention\n",
        "\n",
        "We discussed the attention mechanism in general, but now we will go over how this affects a real model like BERT. Most transformer models introduce a concept called \"Multi-Head-Attention\".\n",
        "\n",
        "In the attention mechanism, the concept of “heads” refers to the number of times the attention operation is performed in parallel. Each head computes a different weighted average of the values, allowing the model to attend to different parts of the input for each position in the output.\n",
        "\n",
        "The number of heads is a hyperparameter that can be tuned for a specific task. In general, using more heads allows the model to capture more complex relationships between the input and output, but it also increases the computational cost and memory usage.\n",
        "\n",
        "The number of heads is usually chosen based on empirical results on a validation set. For example, the original BERT paper used 12 heads for the bert-base model and 16 heads for the bert-large model.\n",
        "\n",
        "This is part of the beauty of attention. This step is extremely parallelizable! Each attention matrix can be calculated in parallel, making this process very friendly to run on GPUs.\n",
        "\n",
        "Also note that the BERT model has 12 encoder layers (as seen above) and 12 attention heads per layer. Basically, there are 12 different attention matrices that get combined into one last layer. This layer is multiplied by another set of weights ${W^{Z}}$ and this is the final attention matrix of the first layer. So BERT actually has 144 (12 x 12) individual attention matrices in the encoder pass."
      ],
      "metadata": {
        "id": "E5kLMdueJV7y"
      }
    },
    {
      "cell_type": "code",
      "source": [],
      "metadata": {
        "id": "cxRVOAbAuFGf"
      },
      "execution_count": 18,
      "outputs": []
    },
    {
      "cell_type": "markdown",
      "source": [
        "### Tokenizers\n",
        "\n",
        "There is also the idea of tokenizers. Tokenization is a crucial preprocessing step when working with large language models like BERT. Tokenization is the process of converting text into a sequence of tokens that can be fed into the model. A tokenizer is responsible for performing this conversion.\n",
        "\n",
        "Tokenizers are important for several reasons. First, they allow the model to handle input text of arbitrary length by breaking it down into smaller, fixed-size units (tokens). This is necessary because neural networks require fixed-size inputs.\n",
        "\n",
        "Second, tokenizers can greatly reduce the size of the model’s vocabulary. Instead of representing each word as a separate token, tokenizers can split words into subword units or characters. This allows the model to handle rare and out-of-vocabulary words by representing them as a sequence of smaller units.\n",
        "\n",
        "We will use the tokenizer provided by HuggingFace that uses the same scheme as the original BERT tokenizer did. So we will convert the text into a sequence of tokens that comprise the text, and then into a sequence of integers that represents the token ids. We can easily switch between integer representations of the tokens and the actual tokens as shown below."
      ],
      "metadata": {
        "id": "YtTDD9zFJZJG"
      }
    },
    {
      "cell_type": "code",
      "source": [
        "tokenizer = BertTokenizer.from_pretrained('bert-base-uncased')"
      ],
      "metadata": {
        "colab": {
          "base_uri": "https://localhost:8080/",
          "height": 81,
          "referenced_widgets": [
            "5b61051ad2ec424d87b9f4e6cb7e0491",
            "afe2381d98e247f9a143a4b4f3c61016",
            "073d43c0243841779134be3f7423f523",
            "2065fee7ff5a41cab3e3f680fbf5818d",
            "fd4f64621d37404199072ac65941df35",
            "ec098df0ab7e42eb8ef73055564ba41e",
            "8419fa3e6f5d4b9d8b48a8ab85dddcaa",
            "b9da92b97d8e400d8cd14c2a18db28b9",
            "4d4de65f38fc4be880ff613d512b388a",
            "52b4d46055da49fd842e13910c3fac63",
            "5c8aa981111249fcb642d978b8fe0fac",
            "5a892c26e98d4d63a9ffa3d363da31f2",
            "70e37330e82b487ab48f62d8e7956141",
            "60f190024b3e485d9781d6584f3feed6",
            "ba071346ed1b42e3b4edfcc371c465f0",
            "6c7938ec79994ca3b59bebe752a2ff22",
            "1d68369a53f449cb9e0a05d0b448d9f4",
            "56fa09ddc4bf4acdb5346208add8076c",
            "7d6c45ddc6ff48e893dfb77b35715ae2",
            "7c86eb17c69f40aa9ff081b31625bcc0",
            "38230649fd864827b411f0aecc79d70a",
            "c3c6ccb253e2482c984656ddefdf5c99"
          ]
        },
        "id": "vl4bKRqfKMzX",
        "outputId": "9b919d9a-1950-4c6e-9d01-62a8d48c8242"
      },
      "execution_count": 19,
      "outputs": [
        {
          "output_type": "display_data",
          "data": {
            "text/plain": [
              "Downloading (…)solve/main/vocab.txt:   0%|          | 0.00/232k [00:00<?, ?B/s]"
            ],
            "application/vnd.jupyter.widget-view+json": {
              "version_major": 2,
              "version_minor": 0,
              "model_id": "5b61051ad2ec424d87b9f4e6cb7e0491"
            }
          },
          "metadata": {}
        },
        {
          "output_type": "display_data",
          "data": {
            "text/plain": [
              "Downloading (…)okenizer_config.json:   0%|          | 0.00/28.0 [00:00<?, ?B/s]"
            ],
            "application/vnd.jupyter.widget-view+json": {
              "version_major": 2,
              "version_minor": 0,
              "model_id": "5a892c26e98d4d63a9ffa3d363da31f2"
            }
          },
          "metadata": {}
        }
      ]
    },
    {
      "cell_type": "code",
      "source": [
        "text = \"I am a dog\"\n",
        "\n",
        "input_ids = tokenizer.encode(text, return_tensors='pt')\n",
        "\n",
        "input_ids"
      ],
      "metadata": {
        "colab": {
          "base_uri": "https://localhost:8080/"
        },
        "id": "N14i6H1IKOt4",
        "outputId": "2a38e5ce-b731-4312-ea7a-5d51333e3c92"
      },
      "execution_count": 20,
      "outputs": [
        {
          "output_type": "execute_result",
          "data": {
            "text/plain": [
              "tensor([[ 101, 1045, 2572, 1037, 3899,  102]])"
            ]
          },
          "metadata": {},
          "execution_count": 20
        }
      ]
    },
    {
      "cell_type": "code",
      "source": [
        "tokenizer.convert_ids_to_tokens(input_ids[0])"
      ],
      "metadata": {
        "colab": {
          "base_uri": "https://localhost:8080/"
        },
        "id": "RqgZd1UIKZ2k",
        "outputId": "d7d7fcab-c6f4-4e6c-ccef-1ce1a0b84725"
      },
      "execution_count": 21,
      "outputs": [
        {
          "output_type": "execute_result",
          "data": {
            "text/plain": [
              "['[CLS]', 'i', 'am', 'a', 'dog', '[SEP]']"
            ]
          },
          "metadata": {},
          "execution_count": 21
        }
      ]
    },
    {
      "cell_type": "markdown",
      "source": [
        "**Quick note:** Most tokenizers add some kind of separation token, generally  \"opening\" and \"closing\" tokens to indicate where the sentences start and stop. This is what the [CLS] and [SEP] tokens represent here.\n",
        "\n",
        "The [SEP] token indicates the separation between parts of the text and is used when there are multiple interactions, which can happen in conversations for example. In this case, it indicates the end of the text.\n",
        "\n",
        "The [CLS] token indicates the start of the sentence. It has been shown that the final hidden state corresponding to this token can be used as the aggregate representation of the entire sequence. This representation can then be fed into a classifier to make a prediction."
      ],
      "metadata": {
        "id": "5EGaQmbdKl7E"
      }
    },
    {
      "cell_type": "code",
      "source": [
        "model = BertModel.from_pretrained('bert-base-uncased', output_attentions=True)\n",
        "\n",
        "# tokenize the text\n",
        "text = \"I am a dog\"\n",
        "input_ids = tokenizer.encode(text, return_tensors='pt')\n",
        "\n",
        "with torch.inference_mode():  # I prefer inference_mode over torch.no_grad()\n",
        "    output = model(input_ids)\n",
        "\n",
        "# getting the attention matrix for the first layer\n",
        "attention_matrix = output[2][0]"
      ],
      "metadata": {
        "id": "RvwuPynuE9yG"
      },
      "execution_count": 22,
      "outputs": []
    },
    {
      "cell_type": "code",
      "source": [
        "attention_matrix.shape"
      ],
      "metadata": {
        "colab": {
          "base_uri": "https://localhost:8080/"
        },
        "id": "tkUIxMoJNge3",
        "outputId": "b85418ad-9e21-41a7-ccee-5fd7c6b5f7ec"
      },
      "execution_count": 23,
      "outputs": [
        {
          "output_type": "execute_result",
          "data": {
            "text/plain": [
              "torch.Size([1, 12, 6, 6])"
            ]
          },
          "metadata": {},
          "execution_count": 23
        }
      ]
    },
    {
      "cell_type": "markdown",
      "source": [
        "### Visualizing Attention\n",
        "\n",
        "In order to visualize attention we will have to look at these attention heads. Each attention head outputs an attention matrix for the input we pass. Some attention matrices will be looking at some relationships between words and other attention matrices will extract or \"attend to\" different relationships in the input data.\n",
        "\n",
        "One way to visualize the attention that our model is paying to the tokens and the relationship between them is by averaging the attention heads. If you notice the shape of the attention matrix, it has 12 heads of 6x6. Our encoded text has length 6. Basically, the attention matrix is actually a stack of 12 attention matrices, each of size 6x6. If we ignore the [CLS] and [SEP] tokens, we can visualize how the model is attending to the words in the text, as shown below:"
      ],
      "metadata": {
        "id": "TG-617NXM7wV"
      }
    },
    {
      "cell_type": "code",
      "source": [
        "# avg attention weights across attention heads\n",
        "attention = attention_matrix.mean(dim=1).squeeze(0)\n",
        "\n",
        "tokens = tokenizer.convert_ids_to_tokens(input_ids[0])\n",
        "\n",
        "# clip attention so it doesn't include the CLS and SEP tokns:\n",
        "num_tokens = len(tokens) - 2 + 1\n",
        "word_attention = attention[1:num_tokens, 1:num_tokens]\n",
        "word_input_ids = tokens[1:num_tokens]\n",
        "\n",
        "# plot\n",
        "plt.figure(figsize=(7, 6))\n",
        "sns.heatmap(word_attention, xticklabels=word_input_ids, yticklabels=word_input_ids, annot=True)"
      ],
      "metadata": {
        "colab": {
          "base_uri": "https://localhost:8080/",
          "height": 545
        },
        "id": "-ryWAepMFv6X",
        "outputId": "23d78941-87d3-4c8a-e2c0-e9e6ddf02750"
      },
      "execution_count": 24,
      "outputs": [
        {
          "output_type": "execute_result",
          "data": {
            "text/plain": [
              "<Axes: >"
            ]
          },
          "metadata": {},
          "execution_count": 24
        },
        {
          "output_type": "display_data",
          "data": {
            "text/plain": [
              "<Figure size 700x600 with 2 Axes>"
            ],
            "image/png": "[encoded data removed]"
          },
          "metadata": {}
        }
      ]
    },
    {
      "cell_type": "markdown",
      "source": [
        "Notice that the highest relationship between words is given by the words \"I\" and \"am\" which makes sense since they are strongly related. The differences are small, but also bear in mind that this is very early stage in the attention mechanism, and there are 12 encoding blocks stacked togetehr as we saw above."
      ],
      "metadata": {
        "id": "pgytZAo6IcLU"
      }
    },
    {
      "cell_type": "markdown",
      "source": [
        "### Caveat to the results above\n",
        "\n",
        "There is only one **huge** caveat to this... Attention is calculated on a head level and we are visualizing it on an aggregate level for simplicity. But this means that we are not seeing how attention impacts local embeddings individually. This means we can improve our results by looking at individual attention matrices (remember there's one attention matrix per head). The downside is that we have 12 attentions heads for each encoder layer, so 144 in total.\n",
        "\n",
        "Either way, we will use this as an example and we will visualize a few attention layers that may be interesting, but bear in mind that this process is strenuous as we have to go over each attention layer. We will see another way to visualize this after this section is done."
      ],
      "metadata": {
        "id": "WILA5qB7s17C"
      }
    },
    {
      "cell_type": "code",
      "source": [
        "# The 3rd element of the output contains the 12 encoder layers\n",
        "len(output[2])"
      ],
      "metadata": {
        "colab": {
          "base_uri": "https://localhost:8080/"
        },
        "id": "NZ2e6vp-1FHZ",
        "outputId": "1f162108-472c-43db-d40c-f0765046009f"
      },
      "execution_count": 32,
      "outputs": [
        {
          "output_type": "execute_result",
          "data": {
            "text/plain": [
              "12"
            ]
          },
          "metadata": {},
          "execution_count": 32
        }
      ]
    },
    {
      "cell_type": "markdown",
      "source": [
        "We are going to select a specific encoder layer that we want to take a look at, and also an attention head in that layer as well. So **enconder_index** has the encoder layer index (it starts at 0), and **attention_mx_index** represents the specific attention head within the encoder layer selected. We will squeeze out the extra dimension that is not used in this example."
      ],
      "metadata": {
        "id": "0cy5uBxC3Q_x"
      }
    },
    {
      "cell_type": "code",
      "source": [
        "encoder_index = 2\n",
        "attention_mx_index = 9"
      ],
      "metadata": {
        "id": "QGtg4m-s1TQF"
      },
      "execution_count": 57,
      "outputs": []
    },
    {
      "cell_type": "code",
      "source": [
        "# one encoder layer at index = encoder_index (shape is [1, 12, 6, 6])\n",
        "encoder_attention_outputs = output[2][encoder_index]\n",
        "\n",
        "# remove the 0 dimension so now shape will be [12, 6, 6]\n",
        "encoder_attention_outputs = encoder_attention_outputs.squeeze(0)\n",
        "encoder_attention_outputs.shape"
      ],
      "metadata": {
        "colab": {
          "base_uri": "https://localhost:8080/"
        },
        "id": "u01m2IzIH7Wf",
        "outputId": "dc4f99da-9158-4023-e53c-51f9b4c7db55"
      },
      "execution_count": 58,
      "outputs": [
        {
          "output_type": "execute_result",
          "data": {
            "text/plain": [
              "torch.Size([12, 6, 6])"
            ]
          },
          "metadata": {},
          "execution_count": 58
        }
      ]
    },
    {
      "cell_type": "code",
      "source": [
        "attention_matrix = encoder_attention_outputs[attention_mx_index]"
      ],
      "metadata": {
        "id": "NpjiuwxG0yg1"
      },
      "execution_count": 59,
      "outputs": []
    },
    {
      "cell_type": "code",
      "source": [
        "attention_matrix.shape"
      ],
      "metadata": {
        "colab": {
          "base_uri": "https://localhost:8080/"
        },
        "id": "_aOiFA5a0Qd0",
        "outputId": "4e7dce17-11bd-4e1d-8411-9c46c6aef301"
      },
      "execution_count": 60,
      "outputs": [
        {
          "output_type": "execute_result",
          "data": {
            "text/plain": [
              "torch.Size([6, 6])"
            ]
          },
          "metadata": {},
          "execution_count": 60
        }
      ]
    },
    {
      "cell_type": "code",
      "source": [
        "tokens = tokenizer.convert_ids_to_tokens(input_ids[0])\n",
        "\n",
        "# plot\n",
        "plt.figure(figsize=(7, 6))\n",
        "sns.heatmap(attention_matrix, xticklabels=tokens, yticklabels=tokens, annot=True, vmin=0, vmax=1.05)"
      ],
      "metadata": {
        "colab": {
          "base_uri": "https://localhost:8080/",
          "height": 540
        },
        "id": "w7EkPGaa06n2",
        "outputId": "421850e0-4e84-4f04-9b4f-3e93feeb7ba0"
      },
      "execution_count": 65,
      "outputs": [
        {
          "output_type": "execute_result",
          "data": {
            "text/plain": [
              "<Axes: >"
            ]
          },
          "metadata": {},
          "execution_count": 65
        },
        {
          "output_type": "display_data",
          "data": {
            "text/plain": [
              "<Figure size 700x600 with 2 Axes>"
            ],
            "image/png": "[encoded data removed]"
          },
          "metadata": {}
        }
      ]
    },
    {
      "cell_type": "markdown",
      "source": [
        "This is one of the most interesing layers of the BERT model, which is layer number 3 (index = 2) and the attention head number 10 (index = 9). If you notice the matrix values. It's clearly attending to the previous word in the sequence. So if you take a look at \"I\" in the x axis, most of the attention is focused on itself anf the [CLS] token before it. The \"am\" (x axis) is clearly paying the most attention to the \"I\" before it (y axis). This is true for all the token in the sequence!"
      ],
      "metadata": {
        "id": "SLPOOsYI3vw8"
      }
    },
    {
      "cell_type": "markdown",
      "source": [
        "## Better visualization with Bertviz\n",
        "\n",
        "The process above is somewhat complicated, and it also demands a great deal of training in order to identify the relevant layers if you are going one by one. Some mechanisms can get dilluted in the matrix because we are looking at absolute scales (look at what happens with \"I\" and \"[CLS]\" which is barely noticeable).\n",
        "\n",
        "The idea of having to iterate through the entire set of encoder layers and through each attention matrix is hard work. Fortunately, there is a BERT visualization library called bertviz which helps a lot with that.\n",
        "\n",
        "To install it, you can simply run this command on your console:\n",
        "\n",
        "```\n",
        "pip install bertviz\n",
        "```\n",
        "\n",
        "There is a function in bertviz called \"head_view\" in which you select a layer (in this case an encoder layer) from the attention outputs, and you can hover over all the tokens and get which attention heads are activating the most.\n",
        "\n",
        "For example if you select layer \"2\" (this is index 2, which corresponds to layer 3) and pick the tokens on the left. You will see that for most tokens the previous word has a dark blue rectangle on the right. If you see the list of colors, the color of the first rectangle matches this dark blue. This means that the first layer (layer index 0) is activating the most.\n",
        "\n",
        "So the first layer is looking at the following token with the highest attention."
      ],
      "metadata": {
        "id": "1G4ZCdDA5TPc"
      }
    },
    {
      "cell_type": "code",
      "source": [
        "from bertviz import head_view"
      ],
      "metadata": {
        "id": "NI8hhjj02uPK"
      },
      "execution_count": 66,
      "outputs": []
    },
    {
      "cell_type": "code",
      "source": [
        "full_attention_layers = output[2]\n",
        "\n",
        "head_view(full_attention_layers, tokens=tokens)"
      ],
      "metadata": {
        "colab": {
          "base_uri": "https://localhost:8080/",
          "height": 205
        },
        "id": "JV-Tv2OA7Yb4",
        "outputId": "32397118-c96b-447a-fe68-a75a8f970672"
      },
      "execution_count": 67,
      "outputs": [
        {
          "output_type": "display_data",
          "data": {
            "text/plain": [
              "<IPython.core.display.HTML object>"
            ],
            "text/html": [
              "<script src=\"https://cdnjs.cloudflare.com/ajax/libs/require.js/2.3.6/require.min.js\"></script>"
            ]
          },
          "metadata": {}
        },
        {
          "output_type": "display_data",
          "data": {
            "text/plain": [
              "<IPython.core.display.HTML object>"
            ],
            "text/html": [
              "      \n",
              "        <div id=\"bertviz-f4b9831fda97465c8ebc211ff9b446d9\" style=\"font-family:'Helvetica Neue', Helvetica, Arial, sans-serif;\">\n",
              "            <span style=\"user-select:none\">\n",
              "                Layer: <select id=\"layer\"></select>\n",
              "                \n",
              "            </span>\n",
              "            <div id='vis'></div>\n",
              "        </div>\n",
              "    "
            ]
          },
          "metadata": {}
        },
        {
          "output_type": "display_data",
          "data": {
            "text/plain": [
              "<IPython.core.display.Javascript object>"
            ],
            "application/javascript": [
              "/**\n",
              " * @fileoverview Transformer Visualization D3 javascript code.\n",
              " *\n",
              " *\n",
              " *  Based on: https://github.com/tensorflow/tensor2tensor/blob/master/tensor2tensor/visualization/attention.js\n",
              " *\n",
              " * Change log:\n",
              " *\n",
              " * 12/19/18  Jesse Vig   Assorted cleanup. Changed orientation of attention matrices.\n",
              " * 12/29/20  Jesse Vig   Significant refactor.\n",
              " * 12/31/20  Jesse Vig   Support multiple visualizations in single notebook.\n",
              " * 02/06/21  Jesse Vig   Move require config from separate jupyter notebook step\n",
              " * 05/03/21  Jesse Vig   Adjust height of visualization dynamically\n",
              " * 07/25/21  Jesse Vig   Support layer filtering\n",
              " * 03/23/22  Daniel SC   Update requirement URLs for d3 and jQuery (source of bug not allowing end result to be displayed on browsers)\n",
              " **/\n",
              "\n",
              "require.config({\n",
              "  paths: {\n",
              "      d3: 'https://cdnjs.cloudflare.com/ajax/libs/d3/5.7.0/d3.min',\n",
              "    jquery: 'https://cdnjs.cloudflare.com/ajax/libs/jquery/2.0.0/jquery.min',\n",
              "  }\n",
              "});\n",
              "\n",
              "requirejs(['jquery', 'd3'], function ($, d3) {\n",
              "\n",
              "    const params = {\"attention\": [{\"name\": null, \"attn\": [[[[0.0928860604763031, 0.07870867103338242, 0.06559868901968002, 0.23379814624786377, 0.08259410411119461, 0.4464143216609955], [0.30768951773643494, 0.21612492203712463, 0.1173485517501831, 0.04728509113192558, 0.18124601244926453, 0.1303059458732605], [0.0861341655254364, 0.5792083740234375, 0.05681885778903961, 0.015865007415413857, 0.10424411296844482, 0.15772946178913116], [0.18614798784255981, 0.17308947443962097, 0.16077576577663422, 0.1480056643486023, 0.218534916639328, 0.11344622820615768], [0.16751131415367126, 0.3337230384349823, 0.10753551125526428, 0.044054169207811356, 0.250545859336853, 0.0966300442814827], [0.19304759800434113, 0.1438155472278595, 0.054793816059827805, 0.22052545845508575, 0.10741451382637024, 0.2804030179977417]], [[0.9367989897727966, 0.02192581258714199, 0.0053636725060641766, 0.01651214435696602, 0.011157375760376453, 0.008241955190896988], [0.016512447968125343, 0.0427868478000164, 0.22645120322704315, 0.04516793042421341, 0.589477002620697, 0.07960455864667892], [0.058409109711647034, 0.04397372528910637, 0.05659041553735733, 0.0928766131401062, 0.6237040162086487, 0.12444612383842468], [0.048502106219530106, 0.18161244690418243, 0.24012228846549988, 0.26434653997421265, 0.18060338497161865, 0.08481322973966599], [0.05353127792477608, 0.10994747281074524, 0.21234770119190216, 0.10056401044130325, 0.2876022160053253, 0.23600725829601288], [0.10882537811994553, 0.413420170545578, 0.08419664204120636, 0.2488684505224228, 0.06276124715805054, 0.0819280594587326]], [[0.8629083037376404, 0.03467416763305664, 0.017188750207424164, 0.02711775340139866, 0.007679253816604614, 0.05043185129761696], [0.7393059730529785, 0.0701119601726532, 0.0073152207769453526, 0.1080932542681694, 0.005289094056934118, 0.06988445669412613], [0.19554802775382996, 0.7677873373031616, 0.0057182833552360535, 0.01170940138399601, 0.01256546936929226, 0.006671485491096973], [0.34155791997909546, 0.10418685525655746, 0.3489305377006531, 0.1071261540055275, 0.0066610053181648254, 0.09153753519058228], [0.362093985080719, 0.015475907362997532, 0.09141334891319275, 0.44740450382232666, 0.05941495671868324, 0.02419731393456459], [0.6142456531524658, 0.04498671367764473, 0.010087802074849606, 0.07171092182397842, 0.08808168023824692, 0.17088718712329865]], [[0.7553550601005554, 0.039872799068689346, 0.07989072799682617, 0.055478598922491074, 0.03321606293320656, 0.036186691373586655], [0.4062483310699463, 0.21122899651527405, 0.1822820007801056, 0.09297267347574234, 0.03685547038912773, 0.07041248679161072], [0.01955045945942402, 0.9283328652381897, 0.03590698167681694, 0.007935341447591782, 0.005488965660333633, 0.0027854114305227995], [0.010268055833876133, 0.23694290220737457, 0.6025885343551636, 0.09449628740549088, 0.020197944715619087, 0.03550620749592781], [0.0464780330657959, 0.055083971470594406, 0.3041287660598755, 0.5215966701507568, 0.044265687465667725, 0.028446892276406288], [0.1140020415186882, 0.05890180915594101, 0.12668761610984802, 0.24784497916698456, 0.3766975402832031, 0.07586608827114105]], [[0.737416684627533, 0.04973762109875679, 0.06787222623825073, 0.02031460963189602, 0.04206610843539238, 0.08259274065494537], [0.16188335418701172, 0.054573528468608856, 0.2881043553352356, 0.12012872099876404, 0.2112332582473755, 0.16407673060894012], [0.4201063811779022, 0.17109882831573486, 0.06107937544584274, 0.09333689510822296, 0.12797631323337555, 0.12640219926834106], [0.1215948611497879, 0.14999276399612427, 0.1739867776632309, 0.18406394124031067, 0.14169850945472717, 0.22866316139698029], [0.22457970678806305, 0.17724290490150452, 0.11038686335086823, 0.1321430653333664, 0.07781249284744263, 0.2778349220752716], [0.036671534180641174, 0.004991467576473951, 0.006660944316536188, 0.014187772758305073, 0.007821200415492058, 0.929667055606842]], [[0.34942466020584106, 0.2842687666416168, 0.02527731843292713, 0.12913596630096436, 0.06976616382598877, 0.1421271115541458], [0.04854537546634674, 0.030784474685788155, 0.7284433841705322, 0.0890902727842331, 0.04925823211669922, 0.053878266364336014], [0.2982707917690277, 0.09008453041315079, 0.07055602967739105, 0.08287685364484787, 0.08394747972488403, 0.37426432967185974], [0.2898656725883484, 0.08049368113279343, 0.16573412716388702, 0.062418222427368164, 0.16141901910305023, 0.24006927013397217], [0.17164063453674316, 0.04485927149653435, 0.05890197679400444, 0.03919956833124161, 0.1804117113351822, 0.5049868822097778], [0.5545648336410522, 0.15643729269504547, 0.03183760493993759, 0.08510743081569672, 0.05456014722585678, 0.1174926832318306]], [[0.362624853849411, 0.0037609904538840055, 0.008082477375864983, 0.6166948080062866, 0.004172645974904299, 0.00466414587572217], [0.05903015658259392, 0.41132673621177673, 0.16059252619743347, 0.04075705260038376, 0.19058653712272644, 0.13770708441734314], [0.13676202297210693, 0.30917564034461975, 0.25592535734176636, 0.06000545993447304, 0.12805874645709991, 0.11007273942232132], [0.1407301127910614, 0.20897556841373444, 0.1457863748073578, 0.12080010026693344, 0.1917957067489624, 0.19191211462020874], [0.12072692811489105, 0.14036759734153748, 0.06180799752473831, 0.03219760209321976, 0.5597614049911499, 0.08513845503330231], [0.11892160773277283, 0.327243447303772, 0.11445504426956177, 0.04452606290578842, 0.09634723514318466, 0.2985066771507263]], [[0.6016019582748413, 0.04506247863173485, 0.04524168744683266, 0.0005839222576469183, 0.025573935359716415, 0.28193598985671997], [0.20968851447105408, 0.2971351146697998, 0.10653961449861526, 0.02121814712882042, 0.04204294830560684, 0.3233756422996521], [0.40595513582229614, 0.26752209663391113, 0.051750488579273224, 0.050354331731796265, 0.03580445051193237, 0.18861354887485504], [0.27679023146629333, 0.17107602953910828, 0.10354553163051605, 0.04122232273221016, 0.03345340117812157, 0.373912513256073], [0.5705951452255249, 0.05018104240298271, 0.09984654188156128, 0.032095182687044144, 0.2147051990032196, 0.03257681429386139], [0.3709836006164551, 0.17983652651309967, 0.06413741409778595, 0.2714652717113495, 0.04027915373444557, 0.07329799979925156]], [[0.5925676226615906, 0.008733822964131832, 0.024482013657689095, 0.3376426696777344, 0.021471453830599785, 0.015102332457900047], [0.014525237493216991, 0.08794161677360535, 0.1477801352739334, 0.06870543956756592, 0.20008276402950287, 0.4809648394584656], [0.06870131939649582, 0.09403044730424881, 0.044051751494407654, 0.06518315523862839, 0.47665902972221375, 0.2513742744922638], [0.007988381199538708, 0.19194619357585907, 0.06791263818740845, 0.032955482602119446, 0.23623871803283691, 0.46295860409736633], [0.03518791124224663, 0.1042134240269661, 0.1826152503490448, 0.053264863789081573, 0.1726093739271164, 0.4521092176437378], [0.15759949386119843, 0.08547341078519821, 0.06219363585114479, 0.5003045201301575, 0.09821992367506027, 0.09620898216962814]], [[0.2512436807155609, 0.19688773155212402, 0.14446428418159485, 0.2881247103214264, 0.06739473342895508, 0.05188489705324173], [0.2399117350578308, 0.41548091173171997, 0.13547497987747192, 0.03976921737194061, 0.04132149741053581, 0.12804169952869415], [0.33658352494239807, 0.1159617006778717, 0.2078610509634018, 0.024117017164826393, 0.2033592164516449, 0.11211742460727692], [0.6142271757125854, 0.04130451753735542, 0.05927802622318268, 0.025628842413425446, 0.10619997978210449, 0.15336143970489502], [0.35485178232192993, 0.009670642204582691, 0.034974973648786545, 0.016402849927544594, 0.420287162065506, 0.16381262242794037], [0.7145721912384033, 0.0797211304306984, 0.034159690141677856, 0.06506099551916122, 0.04950997233390808, 0.05697605386376381]], [[0.8756876587867737, 0.04365631192922592, 0.02093399316072464, 0.02246089279651642, 0.00949653796851635, 0.02776452526450157], [0.0005250217509455979, 0.004204702563583851, 0.9510661363601685, 0.018780363723635674, 0.009820298291742802, 0.01560349203646183], [0.002776655601337552, 0.11197464913129807, 0.0035801741760224104, 0.6082208156585693, 0.22710324823856354, 0.04634437337517738], [0.0002934469666797668, 0.0023743060883134604, 0.015107415616512299, 0.0065237898379564285, 0.9300063252449036, 0.045694708824157715], [0.062227100133895874, 0.004751491826027632, 0.015097077935934067, 0.04683728516101837, 0.02330128289759159, 0.8477857708930969], [0.28241512179374695, 0.037185654044151306, 0.01827424392104149, 0.05572858080267906, 0.16256387531757355, 0.44383254647254944]], [[0.8906042575836182, 0.01608801819384098, 0.006268263328820467, 0.044368546456098557, 0.0014001192757859826, 0.041270703077316284], [0.4092993438243866, 0.06895706802606583, 0.07932634651660919, 0.0867510512471199, 0.020214706659317017, 0.33545151352882385], [0.07430686056613922, 0.7252532839775085, 0.009405522607266903, 0.07950925081968307, 0.06992706656455994, 0.041598014533519745], [0.31509095430374146, 0.21086393296718597, 0.1109934151172638, 0.07868827134370804, 0.09729155153036118, 0.18707183003425598], [0.09692487120628357, 0.069739930331707, 0.09173400700092316, 0.07900726050138474, 0.16073206067085266, 0.5018618106842041], [0.6078309416770935, 0.1109553799033165, 0.008072427473962307, 0.08198671042919159, 0.02590283751487732, 0.16525162756443024]]], [[[0.5974670052528381, 0.027155503630638123, 0.010153635405004025, 0.0840291753411293, 0.20386767387390137, 0.07732689380645752], [0.04647426679730415, 0.04489060863852501, 0.8000558018684387, 0.0037761409766972065, 0.007048583123832941, 0.09775462001562119], [0.03673280030488968, 0.05203217640519142, 0.8541259169578552, 0.005855439696460962, 0.004547799937427044, 0.046705856919288635], [0.5936916470527649, 0.04793855920433998, 0.007789719384163618, 0.02154647558927536, 0.2364310324192047, 0.0926026701927185], [0.3872947096824646, 0.12856151163578033, 0.000763262971304357, 0.05743790417909622, 0.09213215112686157, 0.333810418844223], [0.5893453359603882, 0.031165767461061478, 0.02228614129126072, 0.09038463979959488, 0.1929236352443695, 0.07389457523822784]], [[0.787294864654541, 0.03324291110038757, 0.02796684205532074, 0.04048023000359535, 0.0070857517421245575, 0.10392936319112778], [0.08117793500423431, 0.0019788567442446947, 0.8990575671195984, 0.006666322238743305, 0.0008272634004242718, 0.010292054153978825], [0.13758373260498047, 0.01766636036336422, 0.011712133884429932, 0.7900158762931824, 0.00619587441906333, 0.03682602196931839], [0.16142719984054565, 0.015406649559736252, 0.022471757605671883, 0.06968984752893448, 0.6049760580062866, 0.12602844834327698], [0.29272595047950745, 0.0022295734379440546, 0.0213175006210804, 0.03553450107574463, 0.029354142025113106, 0.6188383102416992], [0.9387783408164978, 0.0019517391920089722, 0.0014278494054451585, 0.0023182881996035576, 0.00026370526757091284, 0.055260080844163895]], [[0.8949400782585144, 0.01903759501874447, 0.006956973113119602, 0.023820726200938225, 0.022657621651887894, 0.03258712589740753], [0.23804090917110443, 0.25122976303100586, 0.058541297912597656, 0.10261780023574829, 0.06714624166488647, 0.2824239730834961], [0.24822114408016205, 0.3620508015155792, 0.02897896245121956, 0.022652341052889824, 0.17639681696891785, 0.16169989109039307], [0.5393580198287964, 0.14650821685791016, 0.0687268003821373, 0.04816673696041107, 0.06107901781797409, 0.1361611783504486], [0.17931173741817474, 0.3956278860569, 0.1724565178155899, 0.07786223292350769, 0.040792856365442276, 0.13394884765148163], [0.5413697361946106, 0.19310502707958221, 0.018878435716032982, 0.02788994275033474, 0.054134804755449295, 0.16462209820747375]], [[0.8698304891586304, 0.01565122976899147, 0.0013464894145727158, 0.05850309133529663, 0.009098049253225327, 0.045570749789476395], [0.628261387348175, 0.023072682321071625, 0.13127347826957703, 0.05988490581512451, 0.09654475003480911, 0.06096278876066208], [0.4049872159957886, 0.038103096187114716, 0.32489556074142456, 0.06316554546356201, 0.08098180592060089, 0.08786681294441223], [0.7809880375862122, 0.019967839121818542, 0.02533288300037384, 0.05277972295880318, 0.052618660032749176, 0.06831291317939758], [0.5125242471694946, 0.035020798444747925, 0.019170325249433517, 0.09120642393827438, 0.09836982935667038, 0.24370841681957245], [0.9260607361793518, 0.011072988621890545, 0.002001773798838258, 0.03330603986978531, 0.010713312774896622, 0.01684519089758396]], [[0.7900875210762024, 0.016504285857081413, 0.02237343229353428, 0.08996383845806122, 0.013520167209208012, 0.06755080074071884], [0.9856870770454407, 0.005209882743656635, 0.0020935754291713238, 0.005671882536262274, 0.0008843468385748565, 0.00045337967458181083], [0.1968342512845993, 0.7086837291717529, 0.061485398560762405, 0.02141439914703369, 0.004105718340724707, 0.007476444821804762], [0.24201470613479614, 0.11879803240299225, 0.5976546406745911, 0.01754673197865486, 0.006341761443763971, 0.017644140869379044], [0.2323130965232849, 0.005911993328481913, 0.05357132479548454, 0.6717533469200134, 0.011478587053716183, 0.02497166208922863], [0.9003654718399048, 0.002263061935082078, 0.0012582071358337998, 0.016977699473500252, 0.015309533104300499, 0.06382599472999573]], [[0.8822976350784302, 0.005994223989546299, 0.005098434630781412, 0.011497045867145061, 0.01548643596470356, 0.07962630689144135], [0.25137192010879517, 0.017693283036351204, 0.1357862651348114, 0.012706754729151726, 0.025218326598405838, 0.5572234392166138], [0.27384012937545776, 0.05117850750684738, 0.01342033687978983, 0.062100742012262344, 0.03518340364098549, 0.5642768740653992], [0.3713287115097046, 0.03548489138484001, 0.03016582317650318, 0.26947110891342163, 0.16152985394001007, 0.13201966881752014], [0.4278179109096527, 0.11465606093406677, 0.010626263916492462, 0.3328500986099243, 0.026998598128557205, 0.08705104887485504], [0.7585208415985107, 0.013421012088656425, 0.015778828412294388, 0.025622403249144554, 0.04072530195116997, 0.1459316462278366]], [[0.9360389709472656, 0.003600317519158125, 0.004617481492459774, 0.010711080394685268, 0.0056758662685751915, 0.039356354624032974], [0.916976273059845, 0.0104736452922225, 0.02513771876692772, 0.015206276439130306, 0.007845438085496426, 0.024360595270991325], [0.766474187374115, 0.010062379762530327, 0.004025517962872982, 0.006468538194894791, 0.012743261642754078, 0.2002260982990265], [0.22551466524600983, 0.007845035754144192, 0.0058106775395572186, 0.004795496352016926, 0.008129219524562359, 0.7479049563407898], [0.880490779876709, 0.010252008214592934, 0.01669687032699585, 0.009182832203805447, 0.006238831672817469, 0.07713864743709564], [0.8883566856384277, 0.00038825359661132097, 0.007671613711863756, 0.019108327105641365, 0.0069838217459619045, 0.07749131321907043]], [[0.9347266554832458, 0.005735266953706741, 0.0016776962438598275, 0.01395061518996954, 0.016038725152611732, 0.027871059253811836], [0.3067241609096527, 0.10339263826608658, 0.052648115903139114, 0.12967558205127716, 0.07535362243652344, 0.3322058916091919], [0.6879506707191467, 0.021510418504476547, 0.004166305065155029, 0.11381671577692032, 0.04391884803771973, 0.12863700091838837], [0.33518093824386597, 0.14116133749485016, 0.09886360913515091, 0.1259375363588333, 0.09634973108768463, 0.2025069147348404], [0.1684679388999939, 0.151017963886261, 0.1295604705810547, 0.12334410846233368, 0.13545529544353485, 0.2921542227268219], [0.814487636089325, 0.016049174591898918, 0.008249691687524319, 0.05810489505529404, 0.03278797119855881, 0.07032059133052826]], [[0.5248289108276367, 0.053839340806007385, 0.0487266443669796, 0.06913488358259201, 0.05979157239198685, 0.24367858469486237], [0.48080137372016907, 0.041001468896865845, 0.045045241713523865, 0.041245102882385254, 0.05815773457288742, 0.33374905586242676], [0.6282553672790527, 0.012650902383029461, 0.028106823563575745, 0.03260035812854767, 0.037221334874629974, 0.26116517186164856], [0.7771130204200745, 0.01727125234901905, 0.015335941687226295, 0.028633663430809975, 0.020680107176303864, 0.1409660279750824], [0.669457197189331, 0.04767527058720589, 0.048425737768411636, 0.08191334456205368, 0.0019984040409326553, 0.15053004026412964], [0.3101726770401001, 0.11019206047058105, 0.10034836083650589, 0.12509603798389435, 0.08880750089883804, 0.2653833031654358]], [[0.498186856508255, 0.043106500059366226, 0.03827030584216118, 0.13206054270267487, 0.08413258194923401, 0.20424313843250275], [0.6932138204574585, 0.023618387058377266, 0.018459120765328407, 0.03528716415166855, 0.024253975600004196, 0.20516759157180786], [0.7283025979995728, 0.020529409870505333, 0.00421503558754921, 0.05318942293524742, 0.013451809994876385, 0.18031176924705505], [0.6233712434768677, 0.03890683501958847, 0.037096504122018814, 0.05243849381804466, 0.02761278860270977, 0.2205740511417389], [0.4125288724899292, 0.1676628142595291, 0.05466297268867493, 0.04094145819544792, 0.0022345432080328465, 0.32196933031082153], [0.24699167907238007, 0.07399792969226837, 0.07197220623493195, 0.20856834948062897, 0.13113339245319366, 0.2673363983631134]], [[0.8117287158966064, 0.026767926290631294, 0.015746725723147392, 0.034015875309705734, 0.024772798642516136, 0.08696798235177994], [0.6843228936195374, 0.03489207103848457, 0.09144707024097443, 0.0790352076292038, 0.0507209375500679, 0.05958186462521553], [0.47465482354164124, 0.27241528034210205, 0.02244873344898224, 0.1000116840004921, 0.08760344237089157, 0.04286602512001991], [0.5022465586662292, 0.15677417814731598, 0.09936921298503876, 0.05359397828578949, 0.06394300609827042, 0.12407305836677551], [0.1910143494606018, 0.2498224973678589, 0.2619480788707733, 0.18465755879878998, 0.05063217505812645, 0.06192532554268837], [0.9026162624359131, 0.013469877652823925, 0.009056971408426762, 0.018567262217402458, 0.012415152043104172, 0.04387453570961952]], [[0.6418452858924866, 0.03289534151554108, 0.02069578878581524, 0.06163649633526802, 0.018521666526794434, 0.2244054526090622], [0.39240601658821106, 0.14749476313591003, 0.02291272208094597, 0.020995473489165306, 0.005662068724632263, 0.41052892804145813], [0.3533835709095001, 0.04113299399614334, 0.39517003297805786, 0.00854961946606636, 0.0032442323863506317, 0.19851958751678467], [0.45140600204467773, 0.06326790899038315, 0.01016155444085598, 0.25723692774772644, 0.004972617141902447, 0.21295495331287384], [0.34644877910614014, 0.005280420649796724, 0.0034846842754632235, 0.008066314272582531, 0.5656958818435669, 0.07102393358945847], [0.7092903852462769, 0.07708632200956345, 0.034785639494657516, 0.04770559072494507, 0.020586073398590088, 0.11054589599370956]]], [[[0.9853072166442871, 0.0009000421268865466, 0.0010737032862380147, 0.0012074146652594209, 0.00029820651980116963, 0.011213352903723717], [5.934940054430626e-05, 7.591953908558935e-05, 0.9998164772987366, 3.5532721085473895e-05, 7.126888021957711e-07, 1.1995444765489083e-05], [0.00018996556173078716, 8.63673776620999e-05, 0.00010725094034569338, 0.9988759160041809, 0.0006848670891486108, 5.558467819355428e-05], [0.0005384482792578638, 1.852766035881359e-05, 9.805577974475455e-06, 6.238777859834954e-05, 0.9993500113487244, 2.082823084492702e-05], [0.020160209387540817, 9.791013326321263e-06, 8.636408165330067e-05, 7.956706213008147e-06, 4.151637767790817e-05, 0.9796941876411438], [0.9916831254959106, 6.131803820608184e-05, 7.024726073723286e-05, 0.00015947337669786066, 4.573949991026893e-05, 0.007980067282915115]], [[0.7260422706604004, 0.02396717667579651, 0.0312848798930645, 0.041414570063352585, 0.014597139321267605, 0.16269393265247345], [0.5838102102279663, 0.010032152757048607, 0.3227747082710266, 0.00811443105340004, 0.0017606966430321336, 0.07350778579711914], [0.5906713008880615, 0.298957496881485, 0.000567967421375215, 0.01685441844165325, 0.0015782020054757595, 0.09137069433927536], [0.4581904709339142, 0.020490217953920364, 0.30516332387924194, 0.014991648495197296, 0.09282991290092468, 0.10833443701267242], [0.4474421441555023, 0.020727556198835373, 0.03836073353886604, 0.16168516874313354, 0.03767361119389534, 0.2941107153892517], [0.8452837467193604, 0.004938839934766293, 0.007832864299416542, 0.0075421626679599285, 0.005308221559971571, 0.12909415364265442]], [[0.7446409463882446, 0.02353714406490326, 0.01823248900473118, 0.030134662985801697, 0.08067721128463745, 0.10277745872735977], [0.8018974661827087, 0.017335940152406693, 0.015260356478393078, 0.024973051622509956, 0.0078797098249197, 0.13265343010425568], [0.9765022993087769, 0.0007667848840355873, 0.0003576228627935052, 0.005147275514900684, 0.002718392526730895, 0.014507691375911236], [0.9207310080528259, 0.007795463316142559, 0.00746702728793025, 0.011418003588914871, 0.028500624001026154, 0.024087896570563316], [0.6812084317207336, 0.014501914381980896, 0.011191901750862598, 0.036281514912843704, 0.08481119573116302, 0.17200502753257751], [0.6607455611228943, 0.03202852979302406, 0.028500976040959358, 0.02939445897936821, 0.08260749280452728, 0.1667230725288391]], [[0.6771454811096191, 0.038354434072971344, 0.04231579229235649, 0.056259624660015106, 0.047115765511989594, 0.1388089954853058], [0.4021354913711548, 0.005296338815242052, 0.022379161790013313, 0.035122767090797424, 0.11690683662891388, 0.4181593954563141], [0.4951898455619812, 0.004388757981359959, 0.005278615280985832, 0.08275561779737473, 0.11165671795606613, 0.30073046684265137], [0.4820067882537842, 0.056363414973020554, 0.13198161125183105, 0.03982480242848396, 0.04886158928275108, 0.24096176028251648], [0.6433795094490051, 0.06347034126520157, 0.0740814134478569, 0.06952989846467972, 0.0024420421104878187, 0.14709679782390594], [0.7985942959785461, 0.014680291526019573, 0.01701267994940281, 0.023825572803616524, 0.03738062456250191, 0.10850652307271957]], [[0.7623686194419861, 0.017939705401659012, 0.012244015000760555, 0.0411522313952446, 0.017798451706767082, 0.14849695563316345], [0.6198550462722778, 0.027171114459633827, 0.06672877818346024, 0.05412130802869797, 0.01790040172636509, 0.21422336995601654], [0.6695665717124939, 0.03643116354942322, 0.14930114150047302, 0.008835687302052975, 0.0512690506875515, 0.08459633588790894], [0.46558791399002075, 0.1422690451145172, 0.09059659391641617, 0.12235403805971146, 0.011796720325946808, 0.16739575564861298], [0.6373276114463806, 0.0418943390250206, 0.2305714637041092, 0.00789941381663084, 0.015769416466355324, 0.06653779000043869], [0.5899752974510193, 0.0075592161156237125, 0.001783246174454689, 0.12623584270477295, 0.01003372110426426, 0.2644127309322357]], [[0.5144386887550354, 0.03002895601093769, 0.022838840261101723, 0.02985241636633873, 0.3479314148426056, 0.05490965396165848], [0.27553847432136536, 0.20354871451854706, 0.18812772631645203, 0.15410029888153076, 0.06222604215145111, 0.1164587140083313], [0.38473257422447205, 0.06474800407886505, 0.09714246541261673, 0.14235635101795197, 0.037298522889614105, 0.2737221121788025], [0.39306750893592834, 0.058281634002923965, 0.08787131309509277, 0.11220044642686844, 0.14415498077869415, 0.20442412793636322], [0.5421356558799744, 0.014467210508883, 0.012930343858897686, 0.04068616032600403, 0.014520600438117981, 0.37526002526283264], [0.3303651809692383, 0.040845151990652084, 0.045060887932777405, 0.0292864590883255, 0.5235970616340637, 0.03084525838494301]], [[0.2323138415813446, 0.13764135539531708, 0.09054617583751678, 0.1321161389350891, 0.07061641663312912, 0.3367660939693451], [0.16432268917560577, 0.40596550703048706, 0.031309667974710464, 0.04872141033411026, 0.00256330450065434, 0.3471173644065857], [0.09649841487407684, 0.00485753919929266, 0.6743704080581665, 0.0043139331974089146, 0.002273100893944502, 0.21768663823604584], [0.10827776044607162, 0.008779916912317276, 0.0014297851594164968, 0.7002491354942322, 0.0015057900454849005, 0.17975756525993347], [0.2689655125141144, 0.005573044065386057, 0.0056239524856209755, 0.05122347176074982, 0.34207555651664734, 0.32653841376304626], [0.3472229540348053, 0.07440802454948425, 0.08619622886180878, 0.07242020219564438, 0.05061300843954086, 0.36913952231407166]], [[0.859864354133606, 0.008971038274466991, 0.009967610239982605, 0.022099506109952927, 0.013002707622945309, 0.08609476685523987], [0.47037991881370544, 0.051436979323625565, 0.07036656141281128, 0.07361475378274918, 0.15033109486103058, 0.18387064337730408], [0.42995259165763855, 0.13781942427158356, 0.20883503556251526, 0.03818092122673988, 0.027461275458335876, 0.15775077044963837], [0.6014167666435242, 0.07232263684272766, 0.07898122817277908, 0.05171540379524231, 0.01600685529410839, 0.17955715954303741], [0.6132923364639282, 0.056073520332574844, 0.03933084383606911, 0.05748017132282257, 0.011930927634239197, 0.22189228236675262], [0.9364356398582458, 0.0015515877166762948, 0.0019405782222747803, 0.00964568555355072, 0.002147926017642021, 0.04827863350510597]], [[0.7779381275177002, 0.013211874291300774, 0.010373531840741634, 0.02831611968576908, 0.02547871321439743, 0.14468172192573547], [0.3182525038719177, 0.27416372299194336, 0.13447709381580353, 0.011559249833226204, 0.10716339200735092, 0.15438400208950043], [0.40850481390953064, 0.3139480650424957, 0.03020741231739521, 0.026637287810444832, 0.06629469245672226, 0.15440775454044342], [0.8367180228233337, 0.0049263485707342625, 0.0016641131369397044, 0.0503399558365345, 0.015510231256484985, 0.090841144323349], [0.6664341688156128, 0.011487342417240143, 0.003186875954270363, 0.044399652630090714, 0.022887328639626503, 0.2516046166419983], [0.7891711592674255, 0.01536740455776453, 0.006508995313197374, 0.017916256561875343, 0.018549444153904915, 0.15248674154281616]], [[0.6866675615310669, 0.019222799688577652, 0.00934846606105566, 0.011423631571233273, 0.006417148746550083, 0.26692044734954834], [7.387108780676499e-05, 0.00018651806749403477, 0.9996703863143921, 4.8086763854371384e-05, 6.417431563932041e-07, 2.0477491489145905e-05], [0.00019810146477539092, 0.00025004951748996973, 0.0004696958640124649, 0.9985688924789429, 0.000316614139592275, 0.00019666201842483133], [0.0005600519943982363, 1.9099208657280542e-05, 4.489568709686864e-06, 3.842397563857958e-05, 0.9993395209312439, 3.841119178105146e-05], [0.03418546915054321, 2.1823714632773772e-05, 0.00010050441778730601, 1.330595841864124e-05, 4.74868829769548e-05, 0.9656314253807068], [0.9970250725746155, 9.77047693595523e-06, 3.143016147078015e-05, 3.718042717082426e-05, 4.4891847210237756e-05, 0.002851644065231085]], [[0.7426705956459045, 0.021835381165146828, 0.01945197954773903, 0.033954448997974396, 0.03783237189054489, 0.14425519108772278], [0.6051700115203857, 0.02750897780060768, 0.21822769939899445, 0.021909788250923157, 0.0093371057882905, 0.11784636229276657], [0.8143705725669861, 0.03879043832421303, 0.044881671667099, 0.03380480036139488, 0.009116077795624733, 0.059036463499069214], [0.7343015670776367, 0.013359972275793552, 0.011295302771031857, 0.022604908794164658, 0.046380046755075455, 0.17205823957920074], [0.1817435920238495, 0.018424080684781075, 0.010182060301303864, 0.07050912827253342, 0.6321715116500854, 0.08696965128183365], [0.8979423642158508, 0.005541933700442314, 0.0077620879746973515, 0.01980508305132389, 0.019736239686608315, 0.04921220242977142]], [[0.9627067446708679, 0.0022458480671048164, 0.00139526161365211, 0.0058083008043468, 0.003894441295415163, 0.023949431255459785], [0.36770084500312805, 0.022807685658335686, 0.10334507375955582, 0.1235768273472786, 0.1847662776708603, 0.1978033035993576], [0.34099239110946655, 0.0491378977894783, 0.03532916679978371, 0.10880973190069199, 0.2149827629327774, 0.25074800848960876], [0.668560802936554, 0.0330381877720356, 0.027476683259010315, 0.05403855815529823, 0.10245892405509949, 0.11442685127258301], [0.7342914938926697, 0.03643915057182312, 0.0269622802734375, 0.04354052618145943, 0.0396273098886013, 0.11913913488388062], [0.9917627573013306, 0.00043455991544760764, 0.00020449937437660992, 0.0015106049831956625, 0.0013470270205289125, 0.004740450065582991]]], [[[0.32790082693099976, 0.0015266119735315442, 0.0006206624675542116, 0.0023629344068467617, 0.0009862000588327646, 0.6666027903556824], [0.27553805708885193, 0.07876241952180862, 0.004771046806126833, 0.008359553292393684, 0.00233834283426404, 0.6302306652069092], [0.23895442485809326, 0.0012921548914164305, 0.19100408256053925, 0.00017543783178552985, 0.0006344905705191195, 0.5679393410682678], [0.2869231402873993, 0.00255324924364686, 0.0002943249710369855, 0.1461995244026184, 0.0011406581616029143, 0.562889039516449], [0.3269953727722168, 0.00048445112770423293, 8.194955444196239e-05, 0.0002889153256546706, 0.06794586777687073, 0.604203462600708], [0.27343714237213135, 0.0023506407160311937, 0.0065139057114720345, 0.013576948083937168, 0.003185815177857876, 0.7009356021881104]], [[0.34171831607818604, 0.01371857337653637, 0.018701430410146713, 0.018653087317943573, 0.07566838711500168, 0.5315402150154114], [0.332996666431427, 0.03939596936106682, 0.06457646936178207, 0.10301260650157928, 0.11534380167722702, 0.34467440843582153], [0.24677148461341858, 0.028442278504371643, 0.08444707095623016, 0.13578137755393982, 0.05718990042805672, 0.4473678171634674], [0.2011428028345108, 0.05914561450481415, 0.10852991789579391, 0.31679749488830566, 0.0783570185303688, 0.23602716624736786], [0.08606716245412827, 0.023313181474804878, 0.009447243064641953, 0.046207692474126816, 0.007200169842690229, 0.8277645111083984], [0.5142282247543335, 0.002699119271710515, 0.0025156796909868717, 0.0035665740724653006, 0.009251928888261318, 0.46773838996887207]], [[0.12240687757730484, 0.1139255240559578, 0.3108602464199066, 0.12501896917819977, 0.13120993971824646, 0.1965784728527069], [0.36295270919799805, 0.18954676389694214, 0.011437606997787952, 0.026639368385076523, 0.006064530462026596, 0.403359055519104], [0.5278961658477783, 0.05074130743741989, 0.002040670718997717, 0.02501496486365795, 0.001933461520820856, 0.39237338304519653], [0.30849024653434753, 0.032133836299180984, 0.010236566886305809, 0.18226955831050873, 0.0023376860190182924, 0.46453210711479187], [0.563768744468689, 0.017938677221536636, 0.00708471704274416, 0.02147665061056614, 0.0009652163716964424, 0.3887660503387451], [0.1367371529340744, 0.006588119547814131, 0.008661461062729359, 0.03564155846834183, 0.009662681259214878, 0.8027090430259705]], [[0.43751803040504456, 0.020731192082166672, 0.018975477665662766, 0.03370627015829086, 0.033801157027482986, 0.45526784658432007], [0.06634515523910522, 0.016002163290977478, 0.11658477783203125, 0.33571502566337585, 0.41708770394325256, 0.04826517775654793], [0.2856210470199585, 0.029705852270126343, 0.06852775812149048, 0.16824524104595184, 0.2687591314315796, 0.17914104461669922], [0.3846745193004608, 0.052018385380506516, 0.07745926827192307, 0.05121913179755211, 0.22010989487171173, 0.21451887488365173], [0.5336330533027649, 0.027085838839411736, 0.01216534711420536, 0.03572678193449974, 0.006118360441178083, 0.3852706551551819], [0.3818884491920471, 0.002979812677949667, 0.0017002910608425736, 0.0040560513734817505, 0.0038184963632375, 0.6055569052696228]], [[0.10749501734972, 0.019108694046735764, 0.08166301995515823, 0.024531884118914604, 0.08462543040513992, 0.6825758814811707], [0.2227678894996643, 0.027876581996679306, 0.16315509378910065, 0.047454021871089935, 0.1750773936510086, 0.3636690080165863], [0.10275723040103912, 0.08638297021389008, 0.17406542599201202, 0.06333707273006439, 0.12682729959487915, 0.44663000106811523], [0.16555997729301453, 0.046544477343559265, 0.22638005018234253, 0.04674910008907318, 0.0783897191286087, 0.4363766610622406], [0.055506687611341476, 0.07151284068822861, 0.30685579776763916, 0.14679689705371857, 0.15198098123073578, 0.2673468291759491], [0.7771269083023071, 0.0004942326922900975, 0.0003145561786368489, 0.0026028105057775974, 0.004125294741243124, 0.2153361439704895]], [[0.8085545301437378, 0.01623971201479435, 0.011979669332504272, 0.042780403047800064, 0.08723193407058716, 0.03321364149451256], [0.8980032205581665, 0.01242778915911913, 0.0014522187411785126, 0.000777878041844815, 0.018618283793330193, 0.06872060149908066], [0.028651241213083267, 0.9539622664451599, 0.004098869394510984, 0.0015925380866974592, 0.003409507917240262, 0.008285590447485447], [0.08601896464824677, 0.054195553064346313, 0.8348108530044556, 0.0029873750172555447, 0.011168659664690495, 0.010818523354828358], [0.40967538952827454, 0.0007162101101130247, 0.019824543967843056, 0.5358350276947021, 0.022003820165991783, 0.011944955214858055], [0.9284464120864868, 0.004972305614501238, 0.006471248343586922, 0.019014352932572365, 0.02633814886212349, 0.014757598750293255]], [[0.1841168850660324, 0.06829941272735596, 0.0995151549577713, 0.07196570187807083, 0.2391011267900467, 0.3370017111301422], [0.473042368888855, 0.04721749573945999, 0.02283771149814129, 0.042040325701236725, 0.04666614904999733, 0.36819592118263245], [0.27394047379493713, 0.08242657780647278, 0.3064509332180023, 0.06281778961420059, 0.03889394924044609, 0.2354702651500702], [0.3552180528640747, 0.011724302545189857, 0.0010309857316315174, 0.09340029209852219, 0.04849505051970482, 0.4901312291622162], [0.4685434401035309, 0.007227374706417322, 0.0021869619376957417, 0.0240920539945364, 0.11594371497631073, 0.3820064961910248], [0.29891493916511536, 0.0049735261127352715, 0.0069130496121943, 0.019501570612192154, 0.04080438241362572, 0.6288925409317017]], [[0.5406009554862976, 0.036892980337142944, 0.08228233456611633, 0.048404525965452194, 0.05034637823700905, 0.24147284030914307], [0.2180064171552658, 0.013756763190031052, 0.05343182384967804, 0.07801267504692078, 0.42874032258987427, 0.20805194973945618], [0.26481425762176514, 0.004035345744341612, 0.01664022170007229, 0.1050698533654213, 0.24680806696414948, 0.36263221502304077], [0.30576398968696594, 0.04665514454245567, 0.09972481429576874, 0.09731625020503998, 0.20362766087055206, 0.2469121366739273], [0.47715291380882263, 0.020621666684746742, 0.019565701484680176, 0.10544996708631516, 0.020538488402962685, 0.3566712737083435], [0.4304923415184021, 0.008023466914892197, 0.01435012649744749, 0.016858398914337158, 0.007161065004765987, 0.5231146812438965]], [[0.6149786114692688, 0.018599294126033783, 0.024343805387616158, 0.01232004165649414, 0.020954029634594917, 0.30880436301231384], [0.24748244881629944, 0.05330318957567215, 0.36658138036727905, 0.024779222905635834, 0.048748333007097244, 0.25910553336143494], [0.2323397547006607, 0.09654940664768219, 0.11732560396194458, 0.03348547965288162, 0.06625192612409592, 0.454047828912735], [0.16688881814479828, 0.10997603088617325, 0.32646703720092773, 0.045995332300662994, 0.05377751961350441, 0.296895295381546], [0.06100849062204361, 0.04559260979294777, 0.17399054765701294, 0.06914658099412918, 0.43986499309539795, 0.21039679646492004], [0.7470535635948181, 0.0023023895919322968, 0.004674867726862431, 0.004443797282874584, 0.018120095133781433, 0.22340525686740875]], [[0.81986004114151, 0.008786323480308056, 0.01116320863366127, 0.009339947253465652, 0.013084830716252327, 0.13776561617851257], [0.021858379244804382, 0.02325729839503765, 0.5588672161102295, 0.2385721355676651, 0.06863980740308762, 0.0888051688671112], [0.03151342272758484, 0.004143643192946911, 0.016956986859440804, 0.4333619177341461, 0.45030587911605835, 0.0637180507183075], [0.042526014149188995, 0.0007112725870683789, 0.0016846598591655493, 0.004403247497975826, 0.8581623435020447, 0.09251242876052856], [0.9371629953384399, 5.93938457313925e-05, 0.0002422147081233561, 0.0003029951185453683, 0.002319066785275936, 0.05991333723068237], [0.937250554561615, 0.003741642227396369, 0.0019409884698688984, 0.0035105322021991014, 0.002521184040233493, 0.0510350726544857]], [[0.3067515194416046, 0.010431813076138496, 0.023706670850515366, 0.015256289392709732, 0.019855087623000145, 0.6239986419677734], [0.2804553210735321, 0.031169049441814423, 0.11067186295986176, 0.06835474818944931, 0.23260554671287537, 0.27674350142478943], [0.2396085411310196, 0.010156356729567051, 0.008082497864961624, 0.037389855831861496, 0.5597162842750549, 0.14504647254943848], [0.12436867505311966, 0.019110364839434624, 0.041356801986694336, 0.018937507644295692, 0.6979506611824036, 0.09827599674463272], [0.330911248922348, 0.040150903165340424, 0.06383679062128067, 0.04379859194159508, 0.11643802374601364, 0.4048643410205841], [0.2782750427722931, 0.0013167565921321511, 0.002906240988522768, 0.0013192691840231419, 0.0033467859029769897, 0.712835967540741]], [[0.6081432700157166, 0.019657602533698082, 0.024442104622721672, 0.022489968687295914, 0.06262650340795517, 0.26264047622680664], [0.7354785799980164, 0.005492024589329958, 0.0032517267391085625, 0.0038391551934182644, 0.046853095293045044, 0.2050854116678238], [0.45690274238586426, 0.07043713331222534, 0.046267613768577576, 0.015279948711395264, 0.12883669137954712, 0.282275915145874], [0.1611674278974533, 0.3765633702278137, 0.21111661195755005, 0.029239118099212646, 0.05678044259548187, 0.16513308882713318], [0.09426525235176086, 0.23553545773029327, 0.4086869955062866, 0.04262132570147514, 0.03884489834308624, 0.18004605174064636], [0.78434818983078, 0.0022307620383799076, 0.0026731593534350395, 0.004308128263801336, 0.019297640770673752, 0.18714217841625214]]], [[[0.17746438086032867, 0.008454128168523312, 0.004731690511107445, 0.007674038410186768, 0.007638432551175356, 0.7940373420715332], [0.0438259094953537, 0.035615067929029465, 0.07095739245414734, 0.08757385611534119, 0.06385921686887741, 0.6981685757637024], [0.010990425013005733, 0.035637591034173965, 0.02159794233739376, 0.049326341599226, 0.15327633917331696, 0.7291713356971741], [0.01983184739947319, 0.045617032796144485, 0.04045364260673523, 0.03078298643231392, 0.22640615701675415, 0.6369082927703857], [0.01926696114242077, 0.018092047423124313, 0.012746977619826794, 0.05107973888516426, 0.09937716275453568, 0.7994371056556702], [0.1260911226272583, 0.0011562552535906434, 0.0006689687725156546, 0.0005235407734289765, 0.010877043940126896, 0.8606830835342407]], [[0.52361661195755, 0.008635283447802067, 0.05350242182612419, 0.023456748574972153, 0.38878387212753296, 0.002005050191655755], [0.00040971016278490424, 0.061285585165023804, 0.17714771628379822, 0.12708048522472382, 0.5959742069244385, 0.03810228034853935], [0.004925597459077835, 0.13161849975585938, 0.17842085659503937, 0.1467425525188446, 0.4031112790107727, 0.13518112897872925], [0.0029698472935706377, 0.11589184403419495, 0.3465999662876129, 0.2355712205171585, 0.22028598189353943, 0.07868111878633499], [0.0018387272721156478, 0.11055348813533783, 0.35471275448799133, 0.35055890679359436, 0.08630668371915817, 0.09602949768304825], [0.07011563330888748, 0.06141522154211998, 0.06065421923995018, 0.04656047374010086, 0.07265467941761017, 0.6885997653007507]], [[0.05709443986415863, 0.1455569714307785, 0.37613600492477417, 0.054322924464941025, 0.2963896095752716, 0.07049998641014099], [0.27058547735214233, 0.015024025924503803, 0.01256343349814415, 0.01641646958887577, 0.013117403723299503, 0.6722932457923889], [0.28182825446128845, 0.01259127538651228, 0.016918938606977463, 0.06889945268630981, 0.014071477577090263, 0.605690598487854], [0.1363774538040161, 0.003984296694397926, 0.0033635112922638655, 0.08108024299144745, 0.002176520647481084, 0.7730180025100708], [0.2219017744064331, 0.0033088945783674717, 0.0017836984479799867, 0.005052994936704636, 0.0006361394771374762, 0.7673165202140808], [0.11576160788536072, 0.008199969306588173, 0.006223670206964016, 0.013644600287079811, 0.012914174236357212, 0.8432559370994568]], [[0.03815629333257675, 0.008456645533442497, 0.004941265098750591, 0.008517836220562458, 0.0605805441737175, 0.8793473839759827], [0.05574335902929306, 0.3197692930698395, 0.0035177436657249928, 0.0014519165270030499, 0.007997175678610802, 0.611520528793335], [0.023911410942673683, 0.0002642620529513806, 0.19727639853954315, 0.0006778679671697319, 0.0007012799615040421, 0.7771688103675842], [0.04945068806409836, 0.0003322917327750474, 0.00012199977209093049, 0.21499788761138916, 0.0004398629243951291, 0.7346572875976562], [0.01619119383394718, 0.0003601652861107141, 7.6046992035117e-05, 0.0001532479072920978, 0.2786482572555542, 0.7045711278915405], [0.005235082935541868, 0.0010647341841831803, 0.0002894832578022033, 0.0006139697507023811, 0.0027290433645248413, 0.990067720413208]], [[0.2111843377351761, 0.014271438121795654, 0.03641783818602562, 0.01494188979268074, 0.06366526335477829, 0.6595192551612854], [0.018489155918359756, 0.14173957705497742, 0.23772850632667542, 0.18845424056053162, 0.12889821827411652, 0.28469035029411316], [0.03148192912340164, 0.12397465109825134, 0.12362473458051682, 0.1422567367553711, 0.20517118275165558, 0.37349075078964233], [0.028366511687636375, 0.13744190335273743, 0.05397484824061394, 0.05238517373800278, 0.15826795995235443, 0.569563627243042], [0.02258993685245514, 0.15628616511821747, 0.049164969474077225, 0.19537664949893951, 0.11600352823734283, 0.46057868003845215], [0.001357670989818871, 0.0009526194189675152, 0.0007573409238830209, 0.0002989867061842233, 0.0017510829493403435, 0.994882345199585]], [[0.04308906942605972, 0.004012336488813162, 0.017229583114385605, 0.010362399742007256, 0.030169397592544556, 0.8951371908187866], [0.042520806193351746, 0.004733632318675518, 0.06316384673118591, 0.11929207295179367, 0.6601153612136841, 0.11017430573701859], [0.025260884314775467, 0.003254587994888425, 0.01191794779151678, 0.038130249828100204, 0.8563881516456604, 0.06504826247692108], [0.08240176737308502, 0.00208409340120852, 0.00415573175996542, 0.01442650705575943, 0.5961409211158752, 0.3007909655570984], [0.019202962517738342, 0.0008106976747512817, 0.0012044707546010613, 0.004098278935998678, 0.017269765958189964, 0.9574137926101685], [0.007306428160518408, 0.0006720012752339244, 0.0008947034366428852, 0.0015792265767231584, 0.004426278173923492, 0.9851213693618774]], [[0.015734080225229263, 0.006341051775962114, 0.005089207552373409, 0.0024488361086696386, 0.017768356949090958, 0.9526184797286987], [0.05187857151031494, 0.044011179357767105, 0.037620000541210175, 0.04234764724969864, 0.08603803813457489, 0.7381045818328857], [0.060484886169433594, 0.147970050573349, 0.08728708326816559, 0.05120173469185829, 0.061990201473236084, 0.5910659432411194], [0.05226277932524681, 0.19504939019680023, 0.24717505276203156, 0.02678121253848076, 0.08630001544952393, 0.39243149757385254], [0.03645431995391846, 0.10183579474687576, 0.3940613567829132, 0.06851910054683685, 0.0786086693406105, 0.32052081823349], [0.00325066689401865, 0.00019060033082496375, 0.0006308936281129718, 0.0003494138072710484, 0.002797749126330018, 0.9927807450294495]], [[0.05969466641545296, 0.006622145418077707, 0.009546766988933086, 0.01856703869998455, 0.01445202436298132, 0.8911173343658447], [0.015258950181305408, 0.002537800231948495, 0.013927897438406944, 0.003671439364552498, 0.0852000042796135, 0.8794039487838745], [0.02055898867547512, 0.29057788848876953, 0.01028803177177906, 0.028621142730116844, 0.11192801594734192, 0.5380258560180664], [0.03552698716521263, 0.029720336198806763, 0.31975188851356506, 0.006530491169542074, 0.22851718962192535, 0.3799531161785126], [0.03293086960911751, 0.01913309656083584, 0.012669093906879425, 0.029797272756695747, 0.0363217256963253, 0.8691478967666626], [0.006690072827041149, 0.0006404761807061732, 0.0006017948035150766, 0.004505453631281853, 0.005677103064954281, 0.9818851351737976]], [[0.1331034153699875, 0.005644677672535181, 0.01141140516847372, 0.01257298607379198, 0.014455610886216164, 0.8228119611740112], [0.17670093476772308, 0.01934802159667015, 0.02094252035021782, 0.064644455909729, 0.11079715192317963, 0.6075669527053833], [0.11646765470504761, 0.05347570404410362, 0.03603978455066681, 0.04932767525315285, 0.07962829619646072, 0.665060818195343], [0.03224427253007889, 0.06166020408272743, 0.03672876954078674, 0.039212003350257874, 0.04770534113049507, 0.7824494242668152], [0.056796059012413025, 0.009110386483371258, 0.002463433425873518, 0.008730599656701088, 0.0023337514139711857, 0.9205657839775085], [0.012117688544094563, 0.009241687133908272, 0.006224337499588728, 0.006654443219304085, 0.021673038601875305, 0.944088876247406]], [[0.03905888646841049, 0.03148576617240906, 0.061051711440086365, 0.1956106424331665, 0.02659403719007969, 0.6461989283561707], [0.12685167789459229, 0.009355421178042889, 0.026578878983855247, 0.12699906527996063, 0.44965869188308716, 0.26055625081062317], [0.144525408744812, 0.07852735370397568, 0.07064765691757202, 0.07232663780450821, 0.21244695782661438, 0.4215259850025177], [0.10588986426591873, 0.07461203634738922, 0.05700874328613281, 0.07788209617137909, 0.14202973246574402, 0.5425775647163391], [0.15675561130046844, 0.10583355277776718, 0.050747063010931015, 0.03161299601197243, 0.014547140337526798, 0.6405036449432373], [0.03198171406984329, 0.0015765170101076365, 0.0026594302617013454, 0.005618921481072903, 0.012531406246125698, 0.9456320405006409]], [[0.028677303344011307, 0.01526204776018858, 0.012125030159950256, 0.016205087304115295, 0.02025957778096199, 0.9074709415435791], [0.04162535071372986, 0.01769743300974369, 0.02782452665269375, 0.008107737638056278, 0.04267077147960663, 0.8620741963386536], [0.03714825212955475, 0.406316339969635, 0.05846525728702545, 0.025234386324882507, 0.05273624509572983, 0.42009949684143066], [0.0505836084485054, 0.4201613962650299, 0.11138159036636353, 0.028811711817979813, 0.09605833888053894, 0.2930033206939697], [0.04103975370526314, 0.27460867166519165, 0.27669695019721985, 0.13339988887310028, 0.01702365279197693, 0.2572310268878937], [0.010707615874707699, 0.0014303914504125714, 0.002013933612033725, 0.0037503947969526052, 0.010978772304952145, 0.9711188077926636]], [[0.2197621911764145, 0.13645121455192566, 0.022372767329216003, 0.011001527309417725, 0.07981417328119278, 0.5305981636047363], [0.03405268117785454, 0.02428378351032734, 0.1473330408334732, 0.05358908325433731, 0.010213733650743961, 0.7305276989936829], [0.055476218461990356, 0.014425761066377163, 0.019427962601184845, 0.43449756503105164, 0.1361742615699768, 0.3399983048439026], [0.08440952003002167, 0.009117459878325462, 0.011303959414362907, 0.01577935740351677, 0.33747029304504395, 0.541919469833374], [0.011134951375424862, 0.021303018555045128, 0.006985669955611229, 0.0014460922684520483, 0.0009509280789643526, 0.9581793546676636], [0.017190083861351013, 0.011783233843743801, 0.006285035517066717, 0.0072230566293001175, 0.012408752925693989, 0.9451098442077637]]], [[[0.04742182791233063, 0.07252150774002075, 0.2314642369747162, 0.04101629555225372, 0.07354015111923218, 0.5340359807014465], [0.07236418128013611, 0.025506125763058662, 0.03427805006504059, 0.07704144716262817, 0.2219557762145996, 0.5688543915748596], [0.08427659422159195, 0.017164384946227074, 0.019343525171279907, 0.09753566235303879, 0.3357783854007721, 0.44590142369270325], [0.11870964616537094, 0.030949383974075317, 0.025024639442563057, 0.019434791058301926, 0.22122643887996674, 0.5846551060676575], [0.08217420428991318, 0.01051764003932476, 0.014658709056675434, 0.012136392295360565, 0.026538316160440445, 0.8539747595787048], [0.02191970683634281, 0.00557229807600379, 0.007072096224874258, 0.0042322552762925625, 0.01852989010512829, 0.9426738023757935]], [[0.04178719222545624, 0.04779581353068352, 0.03169567510485649, 0.04602937400341034, 0.010693886317312717, 0.8219980597496033], [0.004584888461977243, 0.008446039631962776, 0.016917617991566658, 0.01731576770544052, 0.00560313044115901, 0.9471325278282166], [0.00767373526468873, 0.20086263120174408, 0.025340385735034943, 0.012199291959404945, 0.009269949048757553, 0.7446539998054504], [0.030727993696928024, 0.04227075353264809, 0.022143622860312462, 0.009088892489671707, 0.01901857927441597, 0.8767501711845398], [0.04033946618437767, 0.02144511044025421, 0.008577668108046055, 0.007758871652185917, 0.037183646112680435, 0.884695291519165], [0.0071755643002688885, 0.003544752486050129, 0.0021512892562896013, 0.004261281341314316, 0.0012990665854886174, 0.9815680384635925]], [[0.12166614830493927, 0.03520242124795914, 0.07199840992689133, 0.042369209229946136, 0.07988664507865906, 0.6488771438598633], [0.1963014155626297, 0.08090759813785553, 0.11992426216602325, 0.1506258100271225, 0.21205715835094452, 0.2401837855577469], [0.1284799873828888, 0.20399045944213867, 0.17918865382671356, 0.09019526094198227, 0.2344886213541031, 0.1636570245027542], [0.0625767931342125, 0.24178403615951538, 0.20899716019630432, 0.0764550119638443, 0.21418249607086182, 0.1960044950246811], [0.12591393291950226, 0.07758542895317078, 0.10957358777523041, 0.06478887051343918, 0.054868657141923904, 0.567269504070282], [0.03730229660868645, 0.0034617900382727385, 0.0023940892424434423, 0.0025897608138620853, 0.0026931099127978086, 0.9515589475631714]], [[0.013461150228977203, 0.1245422512292862, 0.22788482904434204, 0.13328143954277039, 0.08147742599248886, 0.4193529486656189], [0.014936050400137901, 0.10022704303264618, 0.09349458664655685, 0.013756655156612396, 0.01577751338481903, 0.7618081569671631], [0.01113093364983797, 0.040681708604097366, 0.05844647437334061, 0.033105574548244476, 0.015360680408775806, 0.8412745594978333], [0.04108114913105965, 0.04968305304646492, 0.028239864856004715, 0.020984375849366188, 0.029347015544772148, 0.8306645750999451], [0.06388594210147858, 0.06011570990085602, 0.07607802748680115, 0.05267394706606865, 0.13373863697052002, 0.6135077476501465], [0.0077987113036215305, 0.004081453662365675, 0.004935505334287882, 0.0033126049675047398, 0.013242839835584164, 0.9666288495063782]], [[0.023959314450621605, 0.08033419400453568, 0.16275091469287872, 0.08175016939640045, 0.06998472660779953, 0.5812206864356995], [0.09125842154026031, 0.008550896309316158, 0.008659005165100098, 0.03330334275960922, 0.38651180267333984, 0.4717165529727936], [0.05301923677325249, 0.03252243995666504, 0.028994519263505936, 0.03351706638932228, 0.36955752968788147, 0.4823892414569855], [0.05016498267650604, 0.040145304054021835, 0.044273797422647476, 0.12007611989974976, 0.19012939929962158, 0.5552103519439697], [0.1173810288310051, 0.04393627122044563, 0.050083354115486145, 0.03992282971739769, 0.012149087153375149, 0.7365273833274841], [0.02027558721601963, 0.002843871945515275, 0.003367053112015128, 0.004383960273116827, 0.01998080313205719, 0.9491487741470337]], [[0.019922789186239243, 0.02742798440158367, 0.012268963269889355, 0.0170906875282526, 0.0210157111287117, 0.9022738933563232], [0.10497909784317017, 0.3332008421421051, 0.012201760895550251, 0.011788196861743927, 0.03318312019109726, 0.5046469569206238], [0.09025854617357254, 0.011504114605486393, 0.17007622122764587, 0.022880468517541885, 0.1035727858543396, 0.6017078161239624], [0.11833745986223221, 0.003590952605009079, 0.061814311891794205, 0.12869270145893097, 0.07966934889554977, 0.6078952550888062], [0.03845362737774849, 0.003192516043782234, 0.004182044882327318, 0.011115757748484612, 0.09321584552526474, 0.8498402237892151], [0.007305402774363756, 0.0024309621658176184, 0.0005853455513715744, 0.000514744664542377, 0.005087879486382008, 0.9840756058692932]], [[0.03072502091526985, 0.011967013590037823, 0.017336338758468628, 0.025853749364614487, 0.01965087465941906, 0.8944670557975769], [0.012874501757323742, 0.0048215058632195, 0.009441404603421688, 0.0023856647312641144, 0.002702878089621663, 0.9677740335464478], [0.05060196295380592, 0.05819015949964523, 0.043371815234422684, 0.01446342933923006, 0.015506627969443798, 0.8178660273551941], [0.02742554433643818, 0.03707920387387276, 0.3658750057220459, 0.03263813257217407, 0.01909526251256466, 0.5178868770599365], [0.0558902882039547, 0.020901182666420937, 0.025162266567349434, 0.10028576105833054, 0.03721107915043831, 0.7605494856834412], [0.020227739587426186, 0.020221590995788574, 0.014614860527217388, 0.008400463499128819, 0.008421692065894604, 0.9281136989593506]], [[0.024722669273614883, 0.01686105690896511, 0.06956899911165237, 0.0700332373380661, 0.2318211793899536, 0.5869929194450378], [0.04861908033490181, 0.015673598274588585, 0.5348954796791077, 0.06026739999651909, 0.07309658825397491, 0.2674478590488434], [0.025117898359894753, 0.00522201880812645, 0.03657376393675804, 0.16001734137535095, 0.3304806649684906, 0.44258829951286316], [0.07445580512285233, 0.011695143766701221, 0.02383510023355484, 0.11307445168495178, 0.18309800326824188, 0.5938414931297302], [0.004877335857599974, 0.0014140852726995945, 0.0005991721409372985, 0.0005431151366792619, 0.002472049556672573, 0.9900942444801331], [0.0036805791314691305, 0.0012175862211734056, 0.0018218668410554528, 0.000998451141640544, 0.004139964934438467, 0.9881415367126465]], [[0.081582210958004, 0.035506539046764374, 0.05091055855154991, 0.05805516242980957, 0.10863047093153, 0.6653150916099548], [0.021943561732769012, 0.027331272140145302, 0.11486168950796127, 0.10608669370412827, 0.3952270746231079, 0.3345496654510498], [0.046919580549001694, 0.02083696983754635, 0.06087014824151993, 0.08831056207418442, 0.32826361060142517, 0.4547991156578064], [0.022583531215786934, 0.012435389682650566, 0.04527664557099342, 0.05560371279716492, 0.36067143082618713, 0.5034292340278625], [0.0431053452193737, 0.02583693526685238, 0.023602904751896858, 0.044915784150362015, 0.041283346712589264, 0.8212556838989258], [0.009851761162281036, 0.0009276960045099258, 0.0009992498671635985, 0.0012339341919869184, 0.006159115582704544, 0.9808282256126404]], [[0.062324751168489456, 0.17075882852077484, 0.03266186639666557, 0.004987024702131748, 0.20128794014453888, 0.5279795527458191], [0.0019776273984462023, 0.010420180857181549, 0.49667075276374817, 0.029962019994854927, 0.07585200667381287, 0.3851173520088196], [0.005773608107119799, 0.013658394105732441, 0.0338013730943203, 0.4472048282623291, 0.3319690227508545, 0.167592853307724], [0.0019843855407088995, 0.0006049402873031795, 0.0017175341490656137, 0.003477839520201087, 0.9577234983444214, 0.034491848200559616], [0.01599946804344654, 0.0011276199948042631, 0.0005168460193090141, 0.00020165563910268247, 0.002047549933195114, 0.9801068305969238], [0.35071858763694763, 0.0065901679918169975, 0.003440713509917259, 0.005214835982769728, 0.06200982630252838, 0.5720258951187134]], [[0.028924595564603806, 0.03270784765481949, 0.08857394009828568, 0.04349138215184212, 0.31962427496910095, 0.48667794466018677], [0.08704893290996552, 0.010219555348157883, 0.014638690277934074, 0.01547287404537201, 0.160472571849823, 0.7121474146842957], [0.17928515374660492, 0.5382309556007385, 0.07139788568019867, 0.010142428800463676, 0.04662591218948364, 0.15431763231754303], [0.04963594302535057, 0.5547731518745422, 0.19896511733531952, 0.0036792301107198, 0.12271995097398758, 0.07022663950920105], [0.13630594313144684, 0.17504745721817017, 0.2402123212814331, 0.12708230316638947, 0.022509003058075905, 0.2988429665565491], [0.019028490409255028, 0.00604716781526804, 0.0054204524494707584, 0.009336468763649464, 0.013926178216934204, 0.9462411999702454]], [[0.04082828387618065, 0.004320377949625254, 0.019031820818781853, 0.01673806644976139, 0.01868034340441227, 0.9004011750221252], [0.04770009592175484, 0.027200644835829735, 0.07301661372184753, 0.031554147601127625, 0.14516887068748474, 0.6753596067428589], [0.018217263743281364, 0.026244699954986572, 0.025460146367549896, 0.012172321788966656, 0.04983201622962952, 0.868073582649231], [0.031014826148748398, 0.022825032472610474, 0.008115185424685478, 0.009011237882077694, 0.020962253212928772, 0.9080714583396912], [0.033180974423885345, 0.006997954566031694, 0.009569029323756695, 0.008804929442703724, 0.009438058361411095, 0.9320090413093567], [0.015026814304292202, 0.010621781460940838, 0.004662236198782921, 0.005164283327758312, 0.010821349918842316, 0.9537034630775452]]], [[[0.003235580399632454, 0.12723380327224731, 0.40520256757736206, 0.34119370579719543, 0.07988015562295914, 0.043254148215055466], [0.001585694495588541, 0.09607873111963272, 0.037172481417655945, 0.011324933730065823, 0.007986782118678093, 0.8458513617515564], [0.0005707045784220099, 0.006389336194843054, 0.023967301473021507, 0.008126046508550644, 0.003808398265391588, 0.957138180732727], [0.0013289040653035045, 0.010513730347156525, 0.020816989243030548, 0.041268181055784225, 0.02137744426727295, 0.9046947360038757], [0.0030682780779898167, 0.015546586364507675, 0.024583568796515465, 0.037371501326560974, 0.053200818598270416, 0.866229236125946], [0.00292900949716568, 0.0015196986496448517, 0.0017650354420766234, 0.0014933987986296415, 0.00400509824976325, 0.9882877469062805]], [[0.06424219161272049, 0.06365036964416504, 0.08387386053800583, 0.07213252782821655, 0.34316182136535645, 0.37293922901153564], [0.05251489207148552, 0.050168611109256744, 0.07595100998878479, 0.0985792726278305, 0.2596111595630646, 0.4631749987602234], [0.035611022263765335, 0.08340363949537277, 0.05536258965730667, 0.042218465358018875, 0.2546035051345825, 0.5288007855415344], [0.05791354551911354, 0.08478649705648422, 0.030639557167887688, 0.030020033940672874, 0.2950183153152466, 0.5016220808029175], [0.11372414976358414, 0.07927238941192627, 0.05272321030497551, 0.06471914052963257, 0.11458248645067215, 0.5749785900115967], [0.009639427997171879, 0.00617728428915143, 0.008975840173661709, 0.0063202898018062115, 0.015335538424551487, 0.9535515904426575]], [[0.014174028299748898, 0.045522306114435196, 0.10832200944423676, 0.11722783744335175, 0.3801177740097046, 0.33463603258132935], [0.02703450806438923, 0.01707027107477188, 0.01971624419093132, 0.01354218553751707, 0.034949060529470444, 0.8876876831054688], [0.03658897057175636, 0.03167692944407463, 0.013967309147119522, 0.02601594850420952, 0.017848942428827286, 0.873901903629303], [0.06086540222167969, 0.08805330097675323, 0.032177940011024475, 0.050287891179323196, 0.020680319517850876, 0.7479351758956909], [0.07545412331819534, 0.06975507736206055, 0.07880302518606186, 0.09296499937772751, 0.03110843151807785, 0.6519142985343933], [0.02260361798107624, 0.006090036127716303, 0.007279538083821535, 0.010124996304512024, 0.023464888334274292, 0.930436909198761]], [[0.022194843739271164, 0.004061991348862648, 0.001418822561390698, 0.00653605442494154, 0.0018695542821660638, 0.9639187455177307], [0.017382802441716194, 0.012394667603075504, 0.014501480385661125, 0.00441353302448988, 0.004441895987838507, 0.9468656182289124], [0.02459237538278103, 0.26546579599380493, 0.02551494725048542, 0.002221242757514119, 0.007371858693659306, 0.6748338341712952], [0.003579941112548113, 0.017093129456043243, 0.34334251284599304, 0.031798265874385834, 0.06395623087882996, 0.540229856967926], [0.020702071487903595, 0.010227592661976814, 0.027710746973752975, 0.07433956116437912, 0.08233827352523804, 0.7846817970275879], [0.07890725135803223, 0.010247036814689636, 0.003972659818828106, 0.014247219078242779, 0.01763138547539711, 0.8749943971633911]], [[0.025386696681380272, 0.028208959847688675, 0.046830907464027405, 0.04887443035840988, 0.0697113499045372, 0.780987560749054], [0.004778152331709862, 0.007009407505393028, 0.07198193669319153, 0.025679264217615128, 0.025516577064990997, 0.8650346994400024], [0.007070372812449932, 0.15896351635456085, 0.02153085544705391, 0.021066976711153984, 0.005278447642922401, 0.7860897779464722], [0.011625252664089203, 0.13593105971813202, 0.07233252376317978, 0.02257448248565197, 0.029632918536663055, 0.7279037237167358], [0.0058510927483439445, 0.03295966982841492, 0.009207041002810001, 0.01537242066115141, 0.00791969895362854, 0.9286901354789734], [0.003243942279368639, 0.004255952313542366, 0.003169724252074957, 0.003177654230967164, 0.005916456691920757, 0.9802362322807312]], [[0.09209749102592468, 0.06879016757011414, 0.11638389527797699, 0.25443360209465027, 0.13519451022148132, 0.333100289106369], [0.00387727003544569, 0.008802766911685467, 0.06864625960588455, 0.2293989062309265, 0.40248119831085205, 0.28679361939430237], [0.0037325334269553423, 0.0036475753877311945, 0.016480423510074615, 0.21926972270011902, 0.41911572217941284, 0.33775395154953003], [0.006320947781205177, 0.0052564567886292934, 0.033800411969423294, 0.05590054392814636, 0.6764761209487915, 0.2222454845905304], [0.008397182449698448, 0.008986752480268478, 0.014836722053587437, 0.007129050325602293, 0.004842493217438459, 0.9558078050613403], [0.001521037658676505, 0.0017671390669420362, 0.0021431564819067717, 0.0035545204300433397, 0.0042050560005009174, 0.9868091344833374]], [[0.060102105140686035, 0.0468633770942688, 0.039745282381772995, 0.04356372728943825, 0.08374417573213577, 0.7259812951087952], [0.00454544136300683, 0.010866937227547169, 0.21905578672885895, 0.09079781919717789, 0.1305527240037918, 0.5441812872886658], [0.0028519879560917616, 0.011182245798408985, 0.01162759680300951, 0.26495081186294556, 0.29196009039878845, 0.4174272418022156], [0.014552121050655842, 0.011472754180431366, 0.009941762313246727, 0.023952560499310493, 0.44272884726524353, 0.49735191464424133], [0.0075190505012869835, 0.002175860805436969, 0.0006582299247384071, 0.0009191558929160237, 0.0009234721655957401, 0.9878041744232178], [0.010020087473094463, 0.008018122054636478, 0.008152899332344532, 0.011270486749708652, 0.017754992470145226, 0.9447833895683289]], [[0.01694667711853981, 0.007162034977227449, 0.011409606784582138, 0.02477102540433407, 0.2907865047454834, 0.6489241719245911], [0.006733591202646494, 0.009654737077653408, 0.054094742983579636, 0.06490519642829895, 0.31149807572364807, 0.5531136393547058], [0.015598573721945286, 0.024075448513031006, 0.04692620784044266, 0.01890120841562748, 0.4002249538898468, 0.4942736029624939], [0.01615861803293228, 0.031532902270555496, 0.028344741091132164, 0.016294950619339943, 0.43473514914512634, 0.47293367981910706], [0.007663796655833721, 0.023093020543456078, 0.01917768083512783, 0.01969841681420803, 0.023172076791524887, 0.907194972038269], [0.0054301051422953606, 0.006742987781763077, 0.012202943675220013, 0.009077741764485836, 0.03220968693494797, 0.9343365430831909]], [[0.04308147355914116, 0.023860909044742584, 0.02134486846625805, 0.0383196584880352, 0.07308720052242279, 0.8003059029579163], [0.3154871463775635, 0.02537960186600685, 0.03719986602663994, 0.02761933207511902, 0.04746345430612564, 0.5468505620956421], [0.21134063601493835, 0.01457951683551073, 0.05255800858139992, 0.020129794254899025, 0.06292419135570526, 0.6384678483009338], [0.15840265154838562, 0.03265729919075966, 0.12024490535259247, 0.06867796927690506, 0.10555706918239594, 0.5144600868225098], [0.10274890065193176, 0.03345320001244545, 0.03338799625635147, 0.05432899296283722, 0.1452477127313614, 0.6308331489562988], [0.03463517501950264, 0.02177266776561737, 0.022077007219195366, 0.01732618547976017, 0.039450906217098236, 0.8647381067276001]], [[0.030365414917469025, 0.005472792778164148, 0.0016517735784873366, 0.0038685027975589037, 0.13138261437416077, 0.8272588849067688], [0.15915502607822418, 0.014842438511550426, 0.006154301110655069, 0.007497001439332962, 0.05313718318939209, 0.7592141032218933], [0.44399118423461914, 0.023601926863193512, 0.007618969306349754, 0.0040669976733624935, 0.0390857569873333, 0.4816352128982544], [0.21646957099437714, 0.05378290265798569, 0.11412917077541351, 0.031163830310106277, 0.2822645306587219, 0.3021899461746216], [0.12245038151741028, 0.05541044473648071, 0.11908013373613358, 0.17938947677612305, 0.30689430236816406, 0.2167753279209137], [0.018832989037036896, 0.008172337897121906, 0.006569213699549437, 0.009258825331926346, 0.03137935698032379, 0.9257872104644775]], [[0.014509247615933418, 0.022381363436579704, 0.14266550540924072, 0.22387725114822388, 0.011063615791499615, 0.585503101348877], [0.009507447481155396, 0.043843477964401245, 0.011591855436563492, 0.0058105639182031155, 0.00772291561588645, 0.9215236902236938], [0.005111704580485821, 0.06848594546318054, 0.008479582145810127, 0.0023137417156249285, 0.003325721248984337, 0.9122833013534546], [0.032926976680755615, 0.10856906324625015, 0.05864688381552696, 0.014956158585846424, 0.010683948174118996, 0.7742169499397278], [0.005488293711096048, 0.08900374919176102, 0.11012876033782959, 0.059102971106767654, 0.007977059110999107, 0.7282991409301758], [0.008057987317442894, 0.01695544645190239, 0.02278291806578636, 0.03346223756670952, 0.010120980441570282, 0.9086204171180725]], [[0.01743330806493759, 0.08395654708147049, 0.0717327892780304, 0.25743940472602844, 0.26309734582901, 0.30634060502052307], [0.23013606667518616, 0.019755646586418152, 0.008661818690598011, 0.006476673763245344, 0.07252708077430725, 0.6624427437782288], [0.22791199386119843, 0.7098913192749023, 0.004361211787909269, 0.00337672489695251, 0.005898032803088427, 0.04856075346469879], [0.02486691065132618, 0.3343547582626343, 0.29600825905799866, 0.005709578283131123, 0.010732052847743034, 0.328328400850296], [0.021797144785523415, 0.02712608501315117, 0.02400541864335537, 0.30182379484176636, 0.07970988750457764, 0.5455376505851746], [0.004552825819700956, 0.007512169424444437, 0.009561119601130486, 0.016783783212304115, 0.012660808861255646, 0.9489293098449707]]], [[[0.0014410564908757806, 0.05280548334121704, 0.0398164801299572, 0.02932506985962391, 0.032298702746629715, 0.8443132042884827], [0.027593784034252167, 0.035721030086278915, 0.01609031856060028, 0.020258938893675804, 0.0362529531121254, 0.8640830516815186], [0.05586707219481468, 0.1457616090774536, 0.05249612405896187, 0.05003010854125023, 0.02506285533308983, 0.670782208442688], [0.05093640461564064, 0.3414710760116577, 0.13671565055847168, 0.060654930770397186, 0.055525846779346466, 0.354696124792099], [0.030885351821780205, 0.146680548787117, 0.20118919014930725, 0.1141473650932312, 0.03792964667081833, 0.4691678583621979], [0.00947603676468134, 0.008143213577568531, 0.008359989151358604, 0.006090783514082432, 0.008612511679530144, 0.9593175053596497]], [[0.050445739179849625, 0.041872236877679825, 0.20541717112064362, 0.13074685633182526, 0.2903846800327301, 0.28113338351249695], [0.015893131494522095, 0.04051687568426132, 0.43074673414230347, 0.20886322855949402, 0.12274519354104996, 0.18123488128185272], [0.011658838018774986, 0.02809576317667961, 0.03276074677705765, 0.09950265288352966, 0.31994038820266724, 0.5080416798591614], [0.009774405509233475, 0.01960543729364872, 0.019947370514273643, 0.038718994706869125, 0.1763949692249298, 0.735558807849884], [0.011317864060401917, 0.03560367971658707, 0.019913533702492714, 0.03025560826063156, 0.031410131603479385, 0.8714991211891174], [0.004380263388156891, 0.00733947241678834, 0.004067832604050636, 0.004073791671544313, 0.010805639438331127, 0.9693330526351929]], [[0.16652493178844452, 0.29606741666793823, 0.03122055158019066, 0.014131647534668446, 0.029927676543593407, 0.46212777495384216], [0.004338092170655727, 0.04491623491048813, 0.6438480615615845, 0.14033885300159454, 0.02568318508565426, 0.14087551832199097], [0.005059331655502319, 0.12485507875680923, 0.18135961890220642, 0.10722517222166061, 0.01715502142906189, 0.5643457770347595], [0.01599240116775036, 0.08381055295467377, 0.07287014275789261, 0.01767249032855034, 0.0715700313448906, 0.7380843758583069], [0.02016526833176613, 0.020465608686208725, 0.008269503712654114, 0.019535856321454048, 0.023720894008874893, 0.9078428745269775], [0.014874227344989777, 0.015227925032377243, 0.01058950088918209, 0.011488026939332485, 0.021690959110856056, 0.9261293411254883]], [[0.022095536813139915, 0.0027675172314047813, 0.005854183807969093, 0.010982092469930649, 0.00564056308940053, 0.9526601433753967], [0.005590302404016256, 0.019701596349477768, 0.038602445274591446, 0.009424909017980099, 0.013736695982515812, 0.9129440188407898], [0.008178108371794224, 0.03396408259868622, 0.04597950726747513, 0.024947836995124817, 0.010705203749239445, 0.8762253522872925], [0.006737632676959038, 0.02473069541156292, 0.05326508358120918, 0.017671076580882072, 0.023935480043292046, 0.8736599683761597], [0.004278648644685745, 0.005938539747148752, 0.007529046386480331, 0.0016610592138022184, 0.010514975525438786, 0.9700776934623718], [0.039522767066955566, 0.012251659296452999, 0.005593321286141872, 0.004997579846531153, 0.02577616088092327, 0.9118585586547852]], [[0.0018813996575772762, 0.004634236451238394, 0.0035883402451872826, 0.011244571767747402, 0.029908664524555206, 0.9487427473068237], [0.014027473516762257, 0.005244559142738581, 0.0015178463654592633, 0.004477463196963072, 0.08064927905797958, 0.8940834403038025], [0.001432595425285399, 0.7295873165130615, 0.03119794651865959, 0.009060518816113472, 0.0014403321547433734, 0.22728115320205688], [0.0022165440022945404, 0.013794735074043274, 0.8305540084838867, 0.017776181921362877, 0.027586298063397408, 0.10807221382856369], [0.011846616864204407, 0.06784002482891083, 0.16209621727466583, 0.3748150169849396, 0.022172115743160248, 0.3612300157546997], [0.005380450747907162, 0.004824769217520952, 0.004900841042399406, 0.0067280009388923645, 0.020548854023218155, 0.9576171040534973]], [[0.022088048979640007, 0.053543608635663986, 0.20813637971878052, 0.08017394691705704, 0.08537761867046356, 0.55068039894104], [0.013876966200768948, 0.09487869590520859, 0.6391546130180359, 0.05085288733243942, 0.08373622596263885, 0.11750049144029617], [0.04318732023239136, 0.15301355719566345, 0.28527534008026123, 0.07671666145324707, 0.2623954117298126, 0.17941167950630188], [0.024641722440719604, 0.19285394251346588, 0.2722930610179901, 0.04654232785105705, 0.21628469228744507, 0.24738426506519318], [0.015854287892580032, 0.08243189007043839, 0.11830609291791916, 0.020355090498924255, 0.06871486455202103, 0.694337785243988], [0.0059410217218101025, 0.006660827901214361, 0.018181856721639633, 0.0026933285407721996, 0.010243464261293411, 0.9562795162200928]], [[0.07096584141254425, 0.01190891768783331, 0.022426530718803406, 0.021811632439494133, 0.019267918542027473, 0.8536192178726196], [0.010654954239726067, 0.02072899043560028, 0.1023065447807312, 0.09602820873260498, 0.04982798174023628, 0.7204533815383911], [0.003829637309536338, 0.010736986063420773, 0.04407702758908272, 0.052021484822034836, 0.031818587332963943, 0.857516348361969], [0.0029269191436469555, 0.007646066136658192, 0.016749991104006767, 0.029551761224865913, 0.015398259274661541, 0.9277270436286926], [0.009273018687963486, 0.0071626207791268826, 0.0048406911082565784, 0.005754669196903706, 0.01879267208278179, 0.9541763663291931], [0.06636253744363785, 0.011458583176136017, 0.005705953110009432, 0.009805499576032162, 0.012177344411611557, 0.894490122795105]], [[0.1015370637178421, 0.0032184324227273464, 0.0009816029341891408, 0.002904976950958371, 0.057517629116773605, 0.8338403105735779], [0.018656235188245773, 0.010728402994573116, 0.01578087918460369, 0.008304166607558727, 0.005659302696585655, 0.940871000289917], [0.004690881352871656, 0.04440714046359062, 0.009351725690066814, 0.002923437161371112, 0.0022297254763543606, 0.9363970160484314], [0.00530205387622118, 0.02193366177380085, 0.030161390081048012, 0.010379437357187271, 0.0075033740140497684, 0.9247201681137085], [0.01617330312728882, 0.009671853855252266, 0.009743918664753437, 0.007148730102926493, 0.00417943624779582, 0.9530827403068542], [0.011733971536159515, 0.013189292512834072, 0.005144820082932711, 0.006304014008492231, 0.01048390381038189, 0.9531440138816833]], [[0.07605186104774475, 0.046891406178474426, 0.027558382600545883, 0.02186395227909088, 0.40375080704689026, 0.4238835871219635], [0.1766512393951416, 0.06047671288251877, 0.13762614130973816, 0.1533764749765396, 0.2749388515949249, 0.19693060219287872], [0.2514026165008545, 0.1171259805560112, 0.046423982828855515, 0.051345329731702805, 0.15750445425510406, 0.3761976659297943], [0.3470064401626587, 0.06577719002962112, 0.013171251863241196, 0.011342709884047508, 0.0813782811164856, 0.48132410645484924], [0.12029114365577698, 0.06135731562972069, 0.013534621335566044, 0.010200322605669498, 0.09722024202346802, 0.6973963379859924], [0.017807643860578537, 0.010393371805548668, 0.004585589282214642, 0.0037592484150081873, 0.014716369099915028, 0.9487378001213074]], [[0.0050348578952252865, 0.011694066226482391, 0.006792124360799789, 0.012283364310860634, 0.031084515154361725, 0.9331110715866089], [0.005011445842683315, 0.0159093476831913, 0.007303124759346247, 0.004677805583924055, 0.030183929949998856, 0.936914324760437], [0.02082000859081745, 0.07019200176000595, 0.027798105031251907, 0.009667566977441311, 0.024930374696850777, 0.8465919494628906], [0.01774345338344574, 0.14669190347194672, 0.35773995518684387, 0.021135985851287842, 0.037321679294109344, 0.41936689615249634], [0.0720476508140564, 0.16711227595806122, 0.12542372941970825, 0.06560738384723663, 0.06411803513765335, 0.50569087266922], [0.008335177786648273, 0.009991968981921673, 0.006906814407557249, 0.007240495644509792, 0.024526450783014297, 0.9429991245269775]], [[0.03175140172243118, 0.028004363179206848, 0.05744219571352005, 0.06795146316289902, 0.39794278144836426, 0.41690781712532043], [0.0034013164695352316, 0.006203917786478996, 0.06349088251590729, 0.07467982172966003, 0.5843719840049744, 0.2678520977497101], [0.004850385244935751, 0.009860901162028313, 0.051061805337667465, 0.09378036111593246, 0.4858454763889313, 0.354601114988327], [0.002314430195838213, 0.001152284792624414, 0.003696860745549202, 0.004749215207993984, 0.9124895930290222, 0.07559770345687866], [0.01424620021134615, 0.04476577416062355, 0.02901848778128624, 0.02504548244178295, 0.012023895047605038, 0.8749001026153564], [0.01008594036102295, 0.009952990338206291, 0.008320329710841179, 0.00937850121408701, 0.022948479279875755, 0.9393137097358704]], [[0.05489964410662651, 0.006617591716349125, 0.006855539511889219, 0.09170091897249222, 0.5142719149589539, 0.32565441727638245], [0.01496198307722807, 0.010189552791416645, 0.010224566794931889, 0.009647183120250702, 0.13109111785888672, 0.8238856196403503], [0.007297241594642401, 0.30785125494003296, 0.06377112120389938, 0.018513686954975128, 0.009625486098229885, 0.592941164970398], [0.007211267948150635, 0.39903634786605835, 0.14626261591911316, 0.012526636011898518, 0.03326224163174629, 0.401700884103775], [0.006417546421289444, 0.012694969773292542, 0.005870488937944174, 0.01932014711201191, 0.0441707968711853, 0.9115260243415833], [0.008580639958381653, 0.008115841075778008, 0.002575002145022154, 0.006158119533210993, 0.03895929455757141, 0.9356111288070679]]], [[[0.06423324346542358, 0.039532627910375595, 0.11981310695409775, 0.03875551372766495, 0.10797233134508133, 0.6296931505203247], [0.2894572913646698, 0.05115656554698944, 0.019242534413933754, 0.05703679099678993, 0.04515550285577774, 0.5379512906074524], [0.2301763892173767, 0.05772053077816963, 0.022540578618645668, 0.021724490448832512, 0.0348089337348938, 0.633029043674469], [0.14990726113319397, 0.0381171740591526, 0.0335737019777298, 0.027017436921596527, 0.052525442093610764, 0.698858916759491], [0.10325216501951218, 0.013767126016318798, 0.006380690727382898, 0.005535932257771492, 0.01032487116754055, 0.8607392311096191], [0.02392898127436638, 0.010303176008164883, 0.004791599698364735, 0.002903711749240756, 0.009364691562950611, 0.9487078785896301]], [[0.03561178594827652, 0.0873819887638092, 0.025806736201047897, 0.021801790222525597, 0.10119916498661041, 0.7281985282897949], [0.03753947466611862, 0.033153630793094635, 0.01227651908993721, 0.008728699758648872, 0.050986148416996, 0.8573155403137207], [0.013203422538936138, 0.010082096792757511, 0.004594902042299509, 0.0035188263282179832, 0.015835482627153397, 0.9527653455734253], [0.013533910736441612, 0.04770262911915779, 0.014391832984983921, 0.011096556670963764, 0.016006235033273697, 0.8972688913345337], [0.03235883265733719, 0.07165943086147308, 0.03102256916463375, 0.02215779945254326, 0.04326150193810463, 0.7995399236679077], [0.021253082901239395, 0.025145210325717926, 0.019759485498070717, 0.01872650533914566, 0.06203687936067581, 0.8530787825584412]], [[0.005624092184007168, 0.5233424305915833, 0.030912965536117554, 0.008013478480279446, 0.021877411752939224, 0.4102296829223633], [0.004459287505596876, 0.048008427023887634, 0.37018799781799316, 0.014306454919278622, 0.014938156120479107, 0.5480996370315552], [0.0011013676412403584, 0.02502281405031681, 0.009691749699413776, 0.04843622446060181, 0.014863763935863972, 0.9008840322494507], [0.0016036202432587743, 0.016440603882074356, 0.002630313392728567, 0.0059304144233465195, 0.3708019256591797, 0.6025931239128113], [0.030956942588090897, 0.037061259150505066, 0.0021707438863813877, 0.004588523413985968, 0.03130374476313591, 0.8939187526702881], [0.013459390960633755, 0.027430009096860886, 0.009593593887984753, 0.008602085523307323, 0.018716279417276382, 0.9221987128257751]], [[0.00398227060213685, 0.11708245426416397, 0.1411598175764084, 0.03322933241724968, 0.01762010157108307, 0.6869259476661682], [0.06560838222503662, 0.06607230752706528, 0.17224718630313873, 0.02548200637102127, 0.07857227325439453, 0.5920178890228271], [0.08783689886331558, 0.04519684240221977, 0.18663136661052704, 0.0412474162876606, 0.11354847997426987, 0.5255390405654907], [0.04470951482653618, 0.1788279414176941, 0.06530672311782837, 0.02442261576652527, 0.1818893998861313, 0.5048437714576721], [0.03286457806825638, 0.036421407014131546, 0.03625350445508957, 0.02444305829703808, 0.05126302316784859, 0.8187543749809265], [0.020748242735862732, 0.022086841985583305, 0.01154253724962473, 0.006587278563529253, 0.026107164099812508, 0.9129279255867004]], [[0.0037103688810020685, 0.13529780507087708, 0.17908047139644623, 0.028377803042531013, 0.08097745478153229, 0.5725561380386353], [0.00881801638752222, 0.07423608005046844, 0.044673483818769455, 0.006587741430848837, 0.02917109988629818, 0.8365136384963989], [0.004722745157778263, 0.07063610106706619, 0.03694263845682144, 0.004611328709870577, 0.010334349237382412, 0.872752845287323], [0.006217447575181723, 0.12447573244571686, 0.04908035695552826, 0.005903497338294983, 0.016181673854589462, 0.7981412410736084], [0.004462654236704111, 0.021070493385195732, 0.009930637665092945, 0.0029858597554266453, 0.01054420042783022, 0.9510061144828796], [0.011474008671939373, 0.027648596093058586, 0.015147012658417225, 0.00511730695143342, 0.017029935494065285, 0.9235830903053284]], [[0.04576614126563072, 0.14655336737632751, 0.17701685428619385, 0.023637505248188972, 0.05748157948255539, 0.5495445728302002], [0.0036313908640295267, 0.029721951112151146, 0.41850563883781433, 0.024333074688911438, 0.03672049194574356, 0.4870874881744385], [0.005341219250112772, 0.03396587446331978, 0.063938669860363, 0.09248147904872894, 0.10670800507068634, 0.6975647211074829], [0.0032220983412116766, 0.04627398028969765, 0.04008021205663681, 0.02865614742040634, 0.40258148312568665, 0.4791860580444336], [0.0040690409950912, 0.03679070994257927, 0.015450253151357174, 0.003245722269639373, 0.025154417380690575, 0.9152898788452148], [0.008686491288244724, 0.0276731438934803, 0.019926099106669426, 0.005929112434387207, 0.024158811196684837, 0.9136263132095337]], [[0.0047539458610117435, 0.008350249379873276, 0.004806092940270901, 0.009407317265868187, 0.012797427363693714, 0.9598849415779114], [0.07905469089746475, 0.03641226515173912, 0.01740991324186325, 0.0045763300731778145, 0.010195521637797356, 0.8523513078689575], [0.012940607033669949, 0.22551286220550537, 0.04038851708173752, 0.006673913449048996, 0.0038470474537461996, 0.710637092590332], [0.011650528758764267, 0.10579199343919754, 0.053020723164081573, 0.004498861730098724, 0.010222828015685081, 0.8148150444030762], [0.007633711211383343, 0.048372894525527954, 0.045339103788137436, 0.025357749313116074, 0.014147529378533363, 0.8591489791870117], [0.008498300798237324, 0.016277065500617027, 0.011385677382349968, 0.012717628851532936, 0.009800850413739681, 0.941320538520813]], [[0.11971420794725418, 0.06495005637407303, 0.11051221191883087, 0.0689040794968605, 0.07943427562713623, 0.5564851760864258], [0.044007807970047, 0.009992825798690319, 0.043907154351472855, 0.1138690859079361, 0.06085272133350372, 0.7273705005645752], [0.01880195550620556, 0.010252733714878559, 0.031802739948034286, 0.07556141912937164, 0.029049929231405258, 0.8345312476158142], [0.017753224819898605, 0.040287576615810394, 0.03694325312972069, 0.06209350377321243, 0.030027681961655617, 0.8128947615623474], [0.010166783817112446, 0.012767591513693333, 0.013009827584028244, 0.007846079766750336, 0.01261269673705101, 0.9435970783233643], [0.008100197650492191, 0.022869490087032318, 0.013267927803099155, 0.007569583598524332, 0.01353992149233818, 0.9346529245376587]], [[0.016365963965654373, 0.01814613677561283, 0.039050739258527756, 0.033765796571969986, 0.056591495871543884, 0.8360798358917236], [0.07740366458892822, 0.04031458869576454, 0.17158864438533783, 0.0864214077591896, 0.2883596122264862, 0.33591216802597046], [0.034790363162755966, 0.017490798607468605, 0.09613259881734848, 0.10262304544448853, 0.4014928936958313, 0.34747031331062317], [0.061324890702962875, 0.030010737478733063, 0.06653069704771042, 0.10296137630939484, 0.22711877524852753, 0.5120535492897034], [0.053851012140512466, 0.018360907211899757, 0.05095197260379791, 0.039224013686180115, 0.05398634821176529, 0.7836256623268127], [0.013727436773478985, 0.005607137456536293, 0.0052671292796730995, 0.0034134546294808388, 0.00856440607458353, 0.9634204506874084]], [[0.027319151908159256, 0.02480415441095829, 0.05713195726275444, 0.04029346629977226, 0.10282278805971146, 0.7476284503936768], [0.09072677791118622, 0.05400365963578224, 0.11087534576654434, 0.21849150955677032, 0.31213057041168213, 0.2137720286846161], [0.1454930603504181, 0.03444962948560715, 0.02816011942923069, 0.08146919310092926, 0.23448719084262848, 0.47594085335731506], [0.11215879768133163, 0.042393527925014496, 0.03589509427547455, 0.0438913069665432, 0.1479814201593399, 0.6176798343658447], [0.044327083975076675, 0.05365966632962227, 0.05093405023217201, 0.038888119161129, 0.0612589456140995, 0.7509322166442871], [0.014174029231071472, 0.01271087396889925, 0.010354243218898773, 0.006303754169493914, 0.017963752150535583, 0.9384933114051819]], [[0.006550706923007965, 0.025048527866601944, 0.011231751181185246, 0.019613265991210938, 0.11809349060058594, 0.819462239742279], [0.007185125723481178, 0.020013509318232536, 0.023674869909882545, 0.04006139934062958, 0.35850009322166443, 0.5505650043487549], [0.005593093112111092, 0.12402869760990143, 0.051391635090112686, 0.020896855741739273, 0.15571793913841248, 0.6423717737197876], [0.0071617006324231625, 0.29116231203079224, 0.10580794513225555, 0.027855586260557175, 0.20283454656600952, 0.3651779294013977], [0.008436640724539757, 0.29062408208847046, 0.16198180615901947, 0.018161959946155548, 0.060597773641347885, 0.4601977467536926], [0.002930506831035018, 0.013688599690794945, 0.0076781404204666615, 0.005349238868802786, 0.02569282054901123, 0.9446607232093811]], [[0.015687614679336548, 0.0022369467187672853, 0.002837895415723324, 0.0015723119722679257, 0.012695243582129478, 0.964970052242279], [0.059156157076358795, 0.01523548923432827, 0.02159232459962368, 0.013967105187475681, 0.041118647903203964, 0.848930299282074], [0.06411686539649963, 0.019037244841456413, 0.015553787350654602, 0.010647092014551163, 0.022246990352869034, 0.8683980703353882], [0.1397342085838318, 0.06710319221019745, 0.0827438160777092, 0.01830412819981575, 0.016877202317118645, 0.6752374768257141], [0.07403564453125, 0.043606266379356384, 0.05472806096076965, 0.04168207198381424, 0.04725046828389168, 0.7386974692344666], [0.010423533618450165, 0.012304351665079594, 0.0070054177194833755, 0.006200844421982765, 0.02113695628941059, 0.9429288506507874]]], [[[0.021503044292330742, 0.13968466222286224, 0.09889070689678192, 0.0434303879737854, 0.09067895263433456, 0.6058122515678406], [0.007518355268985033, 0.11206372082233429, 0.02794993296265602, 0.019011463969945908, 0.18045111000537872, 0.6530054807662964], [0.009395386092364788, 0.05212831497192383, 0.13667717576026917, 0.04380308464169502, 0.11932215839624405, 0.6386739611625671], [0.006150690373033285, 0.029163340106606483, 0.042413726449012756, 0.0630882978439331, 0.406795471906662, 0.4523884952068329], [0.00948483869433403, 0.0164377111941576, 0.0060683805495500565, 0.002472012070938945, 0.3978216350078583, 0.5677154064178467], [0.0015810435870662332, 0.030819052830338478, 0.012080083601176739, 0.010872060433030128, 0.08442146331071854, 0.8602263331413269]], [[0.026581676676869392, 0.03934292867779732, 0.019133172929286957, 0.020302703604102135, 0.05022665485739708, 0.8444128036499023], [0.10879549384117126, 0.02340695820748806, 0.008998706005513668, 0.01148358453065157, 0.0551556721329689, 0.7921595573425293], [0.10817261040210724, 0.05964454263448715, 0.018607188016176224, 0.0400257371366024, 0.19679664075374603, 0.5767531991004944], [0.19384483993053436, 0.05180496349930763, 0.02141650952398777, 0.03356262296438217, 0.15769854187965393, 0.5416725277900696], [0.07146347314119339, 0.0513855405151844, 0.020785093307495117, 0.011414609849452972, 0.006344084162265062, 0.8386071920394897], [0.09514044970273972, 0.03906887024641037, 0.01967032253742218, 0.014740809798240662, 0.0567467138171196, 0.7746328711509705]], [[0.003974455408751965, 0.0057007428258657455, 0.011850598268210888, 0.004313117824494839, 0.005881888791918755, 0.9682791233062744], [0.00842127576470375, 0.024005359038710594, 0.07877013087272644, 0.031473562121391296, 0.09245167672634125, 0.76487797498703], [0.02778697945177555, 0.02269352413713932, 0.029158221557736397, 0.019230663776397705, 0.09667963534593582, 0.8044509887695312], [0.05375215783715248, 0.06543823331594467, 0.13329151272773743, 0.04952666908502579, 0.12452235817909241, 0.5734691023826599], [0.025305598974227905, 0.01520492136478424, 0.04521634429693222, 0.03139279782772064, 0.04224889352917671, 0.8406314253807068], [0.011983961798250675, 0.034163445234298706, 0.08280407637357712, 0.031032035127282143, 0.10820816457271576, 0.7318083643913269]], [[0.018505802378058434, 0.0510290265083313, 0.06243877485394478, 0.08632738888263702, 0.03213680908083916, 0.7495622038841248], [0.08322341740131378, 0.05911586806178093, 0.09512006491422653, 0.017439136281609535, 0.016823016107082367, 0.7282785773277283], [0.08486280590295792, 0.09932401776313782, 0.03950412571430206, 0.009572925977408886, 0.011734012514352798, 0.7550021409988403], [0.10365995019674301, 0.07257962971925735, 0.07850322872400284, 0.01579507254064083, 0.04204026237130165, 0.6874218583106995], [0.11639008671045303, 0.15381582081317902, 0.10002326220273972, 0.17735148966312408, 0.06653410196304321, 0.38588523864746094], [0.1413254588842392, 0.08836501091718674, 0.06696063280105591, 0.04360754415392876, 0.05429784208536148, 0.60544353723526]], [[0.1733253449201584, 0.019059674814343452, 0.011441831476986408, 0.010601398535072803, 0.047952357679605484, 0.7376194596290588], [0.16129423677921295, 0.15156590938568115, 0.059244535863399506, 0.03917047008872032, 0.08103212714195251, 0.5076927542686462], [0.14985179901123047, 0.15756815671920776, 0.023493876680731773, 0.018988031893968582, 0.1392236053943634, 0.5108744502067566], [0.022310905158519745, 0.11775415390729904, 0.02926679141819477, 0.02365531027317047, 0.12352339178323746, 0.6834894418716431], [0.006052594631910324, 0.02704155445098877, 0.01706792786717415, 0.02162366732954979, 0.028209827840328217, 0.9000043869018555], [0.04577699676156044, 0.04360144957900047, 0.029712006449699402, 0.01475752517580986, 0.10765250772237778, 0.7584995031356812]], [[0.022917669266462326, 0.03795410692691803, 0.018744349479675293, 0.02665276825428009, 0.02560642920434475, 0.8681246638298035], [0.008512445725500584, 0.09030859917402267, 0.15475820004940033, 0.09121343493461609, 0.38222041726112366, 0.2729869782924652], [0.012594296596944332, 0.08296899497509003, 0.10391706228256226, 0.050549112260341644, 0.3046366274356842, 0.44533392786979675], [0.0054472885094583035, 0.1605672538280487, 0.13695202767848969, 0.05711919814348221, 0.33295369148254395, 0.3069605231285095], [0.005243627354502678, 0.061990056186914444, 0.04945133998990059, 0.02711348794400692, 0.1696195751428604, 0.6865819096565247], [0.017606301233172417, 0.16368882358074188, 0.16546902060508728, 0.09205689281225204, 0.2235141396522522, 0.33766481280326843]], [[0.05505099520087242, 0.04006415605545044, 0.04291203245520592, 0.018326975405216217, 0.17462757229804993, 0.6690182685852051], [0.45792078971862793, 0.1338338851928711, 0.05810057744383812, 0.020632529631257057, 0.013235487043857574, 0.31627675890922546], [0.2235751897096634, 0.02330007776618004, 0.3124053180217743, 0.030085774138569832, 0.01797628588974476, 0.3926573097705841], [0.2809370160102844, 0.020064204931259155, 0.01655837707221508, 0.22757567465305328, 0.015712615102529526, 0.4391520917415619], [0.08829734474420547, 0.013570587150752544, 0.014613128267228603, 0.04196007177233696, 0.3037535548210144, 0.5378053188323975], [0.05966908857226372, 0.028858188539743423, 0.023872502148151398, 0.017418479546904564, 0.03952832520008087, 0.8306534290313721]], [[0.01669302023947239, 0.04640078544616699, 0.021037282422184944, 0.028121352195739746, 0.07538191229104996, 0.8123656511306763], [0.003708513453602791, 0.032074254006147385, 0.0808626115322113, 0.02795015461742878, 0.29954612255096436, 0.5558583736419678], [0.0049180095084011555, 0.05660543218255043, 0.038736145943403244, 0.016840219497680664, 0.27851903438568115, 0.6043812036514282], [0.0033715323079377413, 0.05099645256996155, 0.030912436544895172, 0.018053222447633743, 0.47559836506843567, 0.4210679829120636], [0.002155342837795615, 0.021970119327306747, 0.013954386115074158, 0.0066538406535983086, 0.20214861631393433, 0.7531177401542664], [0.004046889021992683, 0.019322140142321587, 0.02218838408589363, 0.013277711346745491, 0.11738835275173187, 0.8237764835357666]], [[0.06875170022249222, 0.19337685406208038, 0.19082754850387573, 0.13191907107830048, 0.17572586238384247, 0.23939894139766693], [0.08948063105344772, 0.322975754737854, 0.23592336475849152, 0.059458911418914795, 0.025147942826151848, 0.26701343059539795], [0.03260698541998863, 0.07372584193944931, 0.5949121713638306, 0.046336375176906586, 0.007633976638317108, 0.24478457868099213], [0.041731078177690506, 0.1257115751504898, 0.28640687465667725, 0.17927713692188263, 0.057788800448179245, 0.30908453464508057], [0.10930880159139633, 0.019973263144493103, 0.038978561758995056, 0.020449800416827202, 0.23475711047649384, 0.5765324234962463], [0.1828160136938095, 0.13081172108650208, 0.12814265489578247, 0.11945261806249619, 0.09218145906925201, 0.34659555554389954]], [[0.04557975009083748, 0.021538205444812775, 0.018678076565265656, 0.015699520707130432, 0.0648539662361145, 0.8336504697799683], [0.0831240639090538, 0.07348252087831497, 0.03301898017525673, 0.0429447777569294, 0.046742700040340424, 0.7206869721412659], [0.022204434499144554, 0.3373812437057495, 0.03346696123480797, 0.02510780468583107, 0.03739745542407036, 0.5444421172142029], [0.03406035527586937, 0.11077495664358139, 0.06589867919683456, 0.024007674306631088, 0.017484724521636963, 0.7477735877037048], [0.03885665535926819, 0.06817438453435898, 0.028705665841698647, 0.14321433007717133, 0.09690915793180466, 0.6241397857666016], [0.05020929127931595, 0.09823188930749893, 0.04419304430484772, 0.017084650695323944, 0.0449407733976841, 0.7453403472900391]], [[0.030328432098031044, 0.02050730027258396, 0.02506142668426037, 0.019202781841158867, 0.020305287092924118, 0.8845947980880737], [0.2879427373409271, 0.06786705553531647, 0.08809296786785126, 0.12676507234573364, 0.10994516313076019, 0.31938695907592773], [0.18200084567070007, 0.03685391694307327, 0.03164460137486458, 0.04351608455181122, 0.12790201604366302, 0.5780825018882751], [0.19286292791366577, 0.05354810878634453, 0.08530806005001068, 0.05737227946519852, 0.22569024562835693, 0.38521838188171387], [0.03407637029886246, 0.005092600826174021, 0.006418322678655386, 0.001578548806719482, 0.010509146377444267, 0.9423249959945679], [0.06143982335925102, 0.06347852945327759, 0.10524377226829529, 0.02539900876581669, 0.12412089109420776, 0.6203179955482483]], [[0.17534750699996948, 0.08168625831604004, 0.05784200504422188, 0.09607189893722534, 0.07069922983646393, 0.5183531045913696], [0.10672997683286667, 0.03283414989709854, 0.06134139373898506, 0.08450601249933243, 0.09584085643291473, 0.6187475919723511], [0.08603488653898239, 0.03577740117907524, 0.007845542393624783, 0.03563515096902847, 0.10941585153341293, 0.7252910733222961], [0.1429908126592636, 0.1406654566526413, 0.04809463396668434, 0.03249431774020195, 0.1262035220861435, 0.5095512866973877], [0.05336983874440193, 0.03751137852668762, 0.05199652537703514, 0.0364110954105854, 0.011858037672936916, 0.8088531494140625], [0.25302332639694214, 0.11516053974628448, 0.13039548695087433, 0.1061391532421112, 0.18608124554157257, 0.20920023322105408]]], [[[0.06716915965080261, 0.2638779282569885, 0.20475618541240692, 0.20615622401237488, 0.0562104806303978, 0.2018299698829651], [0.10161319375038147, 0.3634905219078064, 0.13320019841194153, 0.04822031781077385, 0.03290996327996254, 0.3205658197402954], [0.11691945046186447, 0.26142725348472595, 0.12101839482784271, 0.028802620247006416, 0.04511578381061554, 0.4267165958881378], [0.09592661261558533, 0.20645220577716827, 0.1313893049955368, 0.08626361191272736, 0.052772920578718185, 0.42719537019729614], [0.035774316638708115, 0.046654023230075836, 0.043621353805065155, 0.03472491353750229, 0.09868253022432327, 0.7405428290367126], [0.02032330259680748, 0.021220561116933823, 0.022967828437685966, 0.029307352378964424, 0.08585656434297562, 0.8203244209289551]], [[0.012982173822820187, 0.05229869484901428, 0.03621862083673477, 0.03255583718419075, 0.04364078491926193, 0.8223038911819458], [0.001251781708560884, 0.004526912700384855, 0.002404620870947838, 0.0005474606296047568, 0.0266056377440691, 0.964663565158844], [0.0013556942576542497, 0.002557366853579879, 0.018911294639110565, 0.0011016781209036708, 0.02832125686109066, 0.9477526545524597], [0.0003732412005774677, 0.0009274830808863044, 0.00331137771718204, 0.0009534897981211543, 0.05381646379828453, 0.9406179785728455], [0.0008679030579514802, 0.0010445085354149342, 0.0012489892542362213, 0.000283221947029233, 0.21681572496891022, 0.7797396779060364], [0.0022971946746110916, 0.0015156440204009414, 0.0013432177947834134, 0.0004221147974021733, 0.009339442476630211, 0.9850823879241943]], [[0.023852646350860596, 0.05666027218103409, 0.061164531856775284, 0.030545363202691078, 0.12845541536808014, 0.6993217468261719], [0.04618213325738907, 0.04375914856791496, 0.024589816108345985, 0.008615351282060146, 0.015028671361505985, 0.8618249297142029], [0.02670053206384182, 0.008500024676322937, 0.007704729679971933, 0.0017611653311178088, 0.007691617589443922, 0.9476419687271118], [0.06617327779531479, 0.03596861660480499, 0.04250078275799751, 0.014802977442741394, 0.04310649260878563, 0.797447919845581], [0.14217127859592438, 0.057157471776008606, 0.05186386778950691, 0.04774032533168793, 0.1052156388759613, 0.595851480960846], [0.033265333622694016, 0.05688207969069481, 0.020650621503591537, 0.014729968272149563, 0.037816740572452545, 0.8366551995277405]], [[0.06823001801967621, 0.015494267456233501, 0.005358763970434666, 0.022557033225893974, 0.14563380181789398, 0.7427260279655457], [0.03267231956124306, 0.005673873703926802, 0.00095021678134799, 0.0067895143292844296, 0.054128263145685196, 0.8997858166694641], [0.018342891708016396, 0.0014703053748235106, 8.438531949650496e-05, 0.002800661139190197, 0.029675887897610664, 0.9476258754730225], [0.06844969838857651, 0.0081042954698205, 0.0018026153557002544, 0.004673996940255165, 0.03080887906253338, 0.8861604928970337], [0.053658612072467804, 0.035233478993177414, 0.010470452718436718, 0.01168788317590952, 0.012091144919395447, 0.8768584132194519], [0.20002304017543793, 0.10753030329942703, 0.13147743046283722, 0.12065576761960983, 0.26617631316185, 0.1741371601819992]], [[0.04984885826706886, 0.3514614403247833, 0.10458461940288544, 0.12483656406402588, 0.2341858148574829, 0.13508270680904388], [0.1507350504398346, 0.009139154106378555, 0.007573120761662722, 0.005284533835947514, 0.06658295542001724, 0.7606852054595947], [0.06517777591943741, 0.012912428006529808, 0.007831552065908909, 0.003754514269530773, 0.02942398376762867, 0.8808997273445129], [0.3139500319957733, 0.07469528168439865, 0.04303567111492157, 0.016092682257294655, 0.09534655511379242, 0.4568798243999481], [0.18928803503513336, 0.09309457242488861, 0.05275406688451767, 0.04727758467197418, 0.06249382719397545, 0.5550918579101562], [0.005429810844361782, 0.0039918916299939156, 0.004714710637927055, 0.0021609277464449406, 0.019769510254263878, 0.9639331698417664]], [[0.02618306130170822, 0.10442467778921127, 0.0551103912293911, 0.031983382999897, 0.07360637933015823, 0.7086920738220215], [0.00206507439725101, 0.02511647529900074, 0.019934674724936485, 0.0024527504574507475, 0.02361413836479187, 0.9268169403076172], [0.0011845927219837904, 0.014352168887853622, 0.18344655632972717, 0.004508362617343664, 0.018902525305747986, 0.7776058316230774], [0.0019461398478597403, 0.01872314140200615, 0.03672458976507187, 0.03392578288912773, 0.08586522936820984, 0.8228150606155396], [0.0007333946996368468, 0.0073422328568995, 0.005887871608138084, 0.00789684895426035, 0.09624950587749481, 0.8818901777267456], [0.0013888099929317832, 0.01147073321044445, 0.007068298757076263, 0.0036685187369585037, 0.02620655484497547, 0.9501971006393433]], [[0.036754876375198364, 0.4178955554962158, 0.20193511247634888, 0.046172790229320526, 0.08271834999322891, 0.21452340483665466], [0.1477518081665039, 0.20245391130447388, 0.03905562311410904, 0.004952539689838886, 0.19651928544044495, 0.4092668294906616], [0.11568289250135422, 0.0540589839220047, 0.014398111961781979, 0.002105776686221361, 0.4286564588546753, 0.38509780168533325], [0.07938279211521149, 0.037358980625867844, 0.007505773101001978, 0.002407481661066413, 0.6151045560836792, 0.25824040174484253], [0.012313016690313816, 0.01572929322719574, 0.0035914576146751642, 0.0020607165060937405, 0.3414360284805298, 0.6248694658279419], [0.009443417191505432, 0.017272289842367172, 0.00414628628641367, 0.001635075081139803, 0.02797146886587143, 0.9395313858985901]], [[0.019466372206807137, 0.17509105801582336, 0.20629173517227173, 0.06009515002369881, 0.07504188269376755, 0.46401387453079224], [0.02308851294219494, 0.03724920377135277, 0.011302086524665356, 0.016969095915555954, 0.048907794058322906, 0.8624832630157471], [0.03575209155678749, 0.021702922880649567, 0.0023676834534853697, 0.009542684070765972, 0.065645731985569, 0.8649888038635254], [0.034900516271591187, 0.08232384920120239, 0.021587390452623367, 0.035602640360593796, 0.10322711616754532, 0.7223585247993469], [0.017296748235821724, 0.07881537824869156, 0.03707657381892204, 0.014402909204363823, 0.016009017825126648, 0.8363993763923645], [0.006821999792009592, 0.011888115666806698, 0.01919146440923214, 0.009975021705031395, 0.029401713982224464, 0.9227217435836792]], [[0.0029159451369196177, 0.18052396178245544, 0.059231702238321304, 0.02389609068632126, 0.049665290862321854, 0.6837670207023621], [0.011311705224215984, 0.12856920063495636, 0.10009671002626419, 0.014572490938007832, 0.0931168645620346, 0.6523329615592957], [0.015040804632008076, 0.12101233005523682, 0.18763038516044617, 0.0271330326795578, 0.03389715775847435, 0.6152862906455994], [0.01568908616900444, 0.07284212857484818, 0.048056066036224365, 0.04445948451757431, 0.3856196105480194, 0.43333354592323303], [0.006811230443418026, 0.018544556573033333, 0.004779118113219738, 0.016156041994690895, 0.10570785403251648, 0.84800124168396], [0.052156273275613785, 0.06191311404109001, 0.03649057075381279, 0.0334535576403141, 0.04992350935935974, 0.7660629153251648]], [[0.012963248416781425, 0.032113075256347656, 0.005861847195774317, 0.006471405271440744, 0.04876276105642319, 0.8938276171684265], [0.0007900833152234554, 0.06370674818754196, 0.014787521213293076, 0.00127198058180511, 0.017017357051372528, 0.9024262428283691], [0.0007130141602829099, 0.018291715532541275, 0.33573004603385925, 0.0020419296342879534, 0.01038991380482912, 0.6328333616256714], [0.0010716698598116636, 0.01693451963365078, 0.05914182960987091, 0.03482924401760101, 0.0283533725887537, 0.8596693277359009], [0.0008431964670307934, 0.004581313580274582, 0.0060102930292487144, 0.0013242678251117468, 0.306503027677536, 0.6807379126548767], [0.00030873657669872046, 0.0019009982934221625, 0.0015004025772213936, 0.0005176235572434962, 0.009638017974793911, 0.9861342310905457]], [[0.027939025312662125, 0.14581945538520813, 0.32245373725891113, 0.16742470860481262, 0.12178468704223633, 0.21457840502262115], [0.20732596516609192, 0.6328468918800354, 0.12375489622354507, 0.008806769736111164, 0.022343814373016357, 0.004921727813780308], [0.1811397671699524, 0.018315721303224564, 0.7908910512924194, 0.0036582655739039183, 0.005438016261905432, 0.0005572708905674517], [0.32370099425315857, 0.02136426977813244, 0.11895569413900375, 0.14471207559108734, 0.38284024596214294, 0.008426719345152378], [0.29487550258636475, 0.010972971096634865, 0.00318220816552639, 0.004441523924469948, 0.6799094080924988, 0.006618381943553686], [0.15435409545898438, 0.1506049484014511, 0.14580108225345612, 0.11323554068803787, 0.20372849702835083, 0.23227587342262268]], [[0.05716872587800026, 0.28427809476852417, 0.1890055239200592, 0.07425593584775925, 0.14551809430122375, 0.24977365136146545], [0.0032042814418673515, 0.08629229664802551, 0.12421280145645142, 0.03623387590050697, 0.23367778956890106, 0.5163789987564087], [0.0020923251286149025, 0.06914445757865906, 0.050319604575634, 0.015123625285923481, 0.1265566349029541, 0.7367633581161499], [0.0017098101088777184, 0.18593019247055054, 0.10586697608232498, 0.016119061037898064, 0.1552148312330246, 0.535159170627594], [0.009550211019814014, 0.06989366561174393, 0.0939975306391716, 0.02987692505121231, 0.07482317835092545, 0.7218585014343262], [0.05151425302028656, 0.01366101112216711, 0.010963905602693558, 0.005106889642775059, 0.0155319320037961, 0.9032219648361206]]], [[[0.30576619505882263, 0.03442174941301346, 0.022107267752289772, 0.011056256480515003, 0.06118490919470787, 0.5654636025428772], [0.01145240105688572, 0.00642029196023941, 0.004408500622957945, 0.005538333207368851, 0.016688469797372818, 0.9554919600486755], [0.012574760243296623, 0.005841379519551992, 0.004469174891710281, 0.006533499341458082, 0.02661881223320961, 0.9439623355865479], [0.007521294988691807, 0.006967640016227961, 0.005866043269634247, 0.005406415555626154, 0.023942260071635246, 0.9502963423728943], [0.040253203362226486, 0.009164290502667427, 0.012200084514915943, 0.012599950656294823, 0.07242181152105331, 0.853360652923584], [0.007858474738895893, 0.0039686704985797405, 0.0043510259129107, 0.005508251488208771, 0.01445839274674654, 0.9638552069664001]], [[0.29467156529426575, 0.06758234649896622, 0.07233484089374542, 0.0834122970700264, 0.1471320539712906, 0.3348669111728668], [0.0322888009250164, 0.017160246148705482, 0.02707306295633316, 0.024566225707530975, 0.041743118315935135, 0.8571685552597046], [0.01979769766330719, 0.026913858950138092, 0.018056074157357216, 0.016405891627073288, 0.04825448989868164, 0.8705719709396362], [0.026916947215795517, 0.06978195905685425, 0.02998216263949871, 0.01822870969772339, 0.06225794181227684, 0.7928323149681091], [0.06664711982011795, 0.06297966837882996, 0.0826922059059143, 0.05769418552517891, 0.0468825101852417, 0.6831042766571045], [0.007588761392980814, 0.010910015553236008, 0.01074092648923397, 0.013607132248580456, 0.020119279623031616, 0.9370338320732117]], [[0.1535772681236267, 0.23757191002368927, 0.14600495994091034, 0.2335457056760788, 0.1096583679318428, 0.11964179575443268], [0.09138770401477814, 0.21630381047725677, 0.1329008936882019, 0.08381806313991547, 0.04878947138786316, 0.42680004239082336], [0.03727557137608528, 0.1050577163696289, 0.1182081401348114, 0.19068755209445953, 0.07363622635602951, 0.4751347601413727], [0.05379674583673477, 0.11513891816139221, 0.14684678614139557, 0.3831634521484375, 0.10368549078702927, 0.19736863672733307], [0.018295811489224434, 0.0683719590306282, 0.06225839629769325, 0.06804991513490677, 0.11293769627809525, 0.6700862050056458], [0.01657085306942463, 0.011207273229956627, 0.014496976509690285, 0.019350148737430573, 0.025169407948851585, 0.9132053256034851]], [[0.11692624539136887, 0.23789629340171814, 0.1841161996126175, 0.14655530452728271, 0.18226882815361023, 0.13223712146282196], [0.037162136286497116, 0.038867704570293427, 0.03992475941777229, 0.028914527967572212, 0.032782815396785736, 0.8223480582237244], [0.018574120476841927, 0.019456375390291214, 0.01551771815866232, 0.015626151114702225, 0.017394965514540672, 0.9134306311607361], [0.09507158398628235, 0.0775921642780304, 0.028353283181786537, 0.06337755918502808, 0.03784910961985588, 0.6977563500404358], [0.019995562732219696, 0.016621047630906105, 0.012201367877423763, 0.01676667295396328, 0.0563749223947525, 0.8780403733253479], [0.009185666218400002, 0.004588573705404997, 0.003422168083488941, 0.003896658541634679, 0.009819624945521355, 0.9690873622894287]], [[0.06368224322795868, 0.15935568511486053, 0.2347663938999176, 0.09968412667512894, 0.345360666513443, 0.09715086221694946], [0.10318095237016678, 0.04724546894431114, 0.11317253112792969, 0.04382287710905075, 0.07373234629631042, 0.6188458800315857], [0.06502991169691086, 0.023481514304876328, 0.06938204169273376, 0.040612027049064636, 0.060109347105026245, 0.7413851022720337], [0.038047004491090775, 0.029097653925418854, 0.10899185389280319, 0.09143568575382233, 0.12637969851493835, 0.6060481071472168], [0.16112302243709564, 0.06488633900880814, 0.11166214942932129, 0.1065555140376091, 0.148333340883255, 0.407439649105072], [0.013940117321908474, 0.0030066019389778376, 0.00509636802598834, 0.005184988956898451, 0.005533582530915737, 0.9672383666038513]], [[0.022599495947360992, 0.0565221793949604, 0.12665848433971405, 0.04964302480220795, 0.6259134411811829, 0.11866339296102524], [0.029955223202705383, 0.08716467767953873, 0.04320017248392105, 0.05539735406637192, 0.15479277074337006, 0.6294897198677063], [0.03594690188765526, 0.05587714910507202, 0.09871700406074524, 0.04384496808052063, 0.2033909410238266, 0.5622230768203735], [0.03225090727210045, 0.06085106357932091, 0.04966490715742111, 0.07475191354751587, 0.17249733209609985, 0.6099838614463806], [0.05429264158010483, 0.08252855390310287, 0.06358525156974792, 0.05734884738922119, 0.25487613677978516, 0.4873686134815216], [0.008979124017059803, 0.009622552432119846, 0.009043327532708645, 0.012588880956172943, 0.023432064801454544, 0.9363340139389038]], [[0.46005237102508545, 0.04378949850797653, 0.03810499608516693, 0.17337153851985931, 0.0999641865491867, 0.18471741676330566], [0.05008592829108238, 0.01479093823581934, 0.008382510393857956, 0.03126927465200424, 0.062446478754282, 0.8330248594284058], [0.061282679438591, 0.01720036007463932, 0.024073105305433273, 0.04455491900444031, 0.09165532886981964, 0.7612336277961731], [0.07343683391809464, 0.03407315909862518, 0.02731546387076378, 0.05268174409866333, 0.08679458498954773, 0.7256981730461121], [0.10879221558570862, 0.02691713720560074, 0.022140711545944214, 0.050713565200567245, 0.18652431666851044, 0.6049121022224426], [0.013322633691132069, 0.008824886754155159, 0.007900761440396309, 0.006500528659671545, 0.02253561094403267, 0.940915584564209]], [[0.14997439086437225, 0.024954697117209435, 0.05061192438006401, 0.04527701437473297, 0.1995002180337906, 0.5296818017959595], [0.008342706598341465, 0.005347801838070154, 0.004883927293121815, 0.015003860928118229, 0.03080270066857338, 0.9356189370155334], [0.00805467739701271, 0.0033916113898158073, 0.0037367797922343016, 0.01074894517660141, 0.035080570727586746, 0.9389874935150146], [0.014553462155163288, 0.005439603701233864, 0.005412999074906111, 0.009750613011419773, 0.034570008516311646, 0.9302733540534973], [0.018256647512316704, 0.0067263212986290455, 0.014273497276008129, 0.013756384141743183, 0.055591337382793427, 0.8913958668708801], [0.001974139828234911, 0.0014610341750085354, 0.0023998129181563854, 0.003166389651596546, 0.012880462221801281, 0.9781181216239929]], [[0.33095964789390564, 0.2549239695072174, 0.10818628966808319, 0.13849115371704102, 0.10478905588388443, 0.06264988332986832], [0.091312475502491, 0.24384155869483948, 0.11459366977214813, 0.14917081594467163, 0.11816272139549255, 0.2829187512397766], [0.025989612564444542, 0.05874207988381386, 0.6381703615188599, 0.14640195667743683, 0.06666076928377151, 0.06403519958257675], [0.032053373754024506, 0.05766594037413597, 0.20456871390342712, 0.5394524931907654, 0.06979003548622131, 0.0964694619178772], [0.05048932507634163, 0.028531474992632866, 0.027848830446600914, 0.05385325103998184, 0.42544302344322205, 0.4138340950012207], [0.003503719810396433, 0.004282738547772169, 0.005651560612022877, 0.00544359628111124, 0.03476119413971901, 0.946357250213623]], [[0.32969385385513306, 0.17212440073490143, 0.15727168321609497, 0.17673224210739136, 0.11013655364513397, 0.05404121056199074], [0.2227720022201538, 0.18143635988235474, 0.13166095316410065, 0.10340864956378937, 0.053995080292224884, 0.30672696232795715], [0.1694609820842743, 0.07653765380382538, 0.19812631607055664, 0.12017007917165756, 0.028312431648373604, 0.40739256143569946], [0.16033533215522766, 0.10264700651168823, 0.15937139093875885, 0.28954368829727173, 0.05529081076383591, 0.2328118234872818], [0.09557873010635376, 0.11162537336349487, 0.06713222712278366, 0.11270663887262344, 0.12766258418560028, 0.4852944016456604], [0.02880564145743847, 0.010325445793569088, 0.007921446114778519, 0.005110695958137512, 0.02283363603055477, 0.9250031113624573]], [[0.010401937179267406, 0.07955038547515869, 0.05759016424417496, 0.025851480662822723, 0.2997148633003235, 0.5268911123275757], [0.007939077913761139, 0.016811160370707512, 0.014284768141806126, 0.0180568415671587, 0.02710793912410736, 0.9158002138137817], [0.01743970438838005, 0.0332145020365715, 0.03165384754538536, 0.038918230682611465, 0.06464741379022598, 0.8141262531280518], [0.017095908522605896, 0.04291367158293724, 0.025544192641973495, 0.04737255722284317, 0.04574716463685036, 0.821326494216919], [0.008764049969613552, 0.019423851743340492, 0.009003438986837864, 0.023161200806498528, 0.024385759606957436, 0.9152617454528809], [0.005527994129806757, 0.006022431887686253, 0.00644872197881341, 0.0063270991668105125, 0.009338116273283958, 0.966335654258728]], [[0.006764589808881283, 0.03822983056306839, 0.025182992219924927, 0.023844165727496147, 0.17430447041988373, 0.7316739559173584], [0.003999731969088316, 0.008255476132035255, 0.006383250467479229, 0.019108213484287262, 0.05004269629716873, 0.9122106432914734], [0.008084584958851337, 0.01633468270301819, 0.011483638547360897, 0.015964403748512268, 0.07774516940116882, 0.8703875541687012], [0.01017439179122448, 0.01969909854233265, 0.016556626185774803, 0.03316885232925415, 0.0568992979824543, 0.863501787185669], [0.03169040381908417, 0.03988899663090706, 0.06010470911860466, 0.108330637216568, 0.10524917393922806, 0.6547360420227051], [0.0022610581945627928, 0.004212193191051483, 0.005890141241252422, 0.007267512381076813, 0.02657780982553959, 0.9537913203239441]]]], \"left_text\": [\"[CLS]\", \"i\", \"am\", \"a\", \"dog\", \"[SEP]\"], \"right_text\": [\"[CLS]\", \"i\", \"am\", \"a\", \"dog\", \"[SEP]\"]}], \"default_filter\": \"0\", \"root_div_id\": \"bertviz-f4b9831fda97465c8ebc211ff9b446d9\", \"layer\": null, \"heads\": null, \"include_layers\": [0, 1, 2, 3, 4, 5, 6, 7, 8, 9, 10, 11]}; // HACK: {\"attention\": [{\"name\": null, \"attn\": [[[[0.0928860604763031, 0.07870867103338242, 0.06559868901968002, 0.23379814624786377, 0.08259410411119461, 0.4464143216609955], [0.30768951773643494, 0.21612492203712463, 0.1173485517501831, 0.04728509113192558, 0.18124601244926453, 0.1303059458732605], [0.0861341655254364, 0.5792083740234375, 0.05681885778903961, 0.015865007415413857, 0.10424411296844482, 0.15772946178913116], [0.18614798784255981, 0.17308947443962097, 0.16077576577663422, 0.1480056643486023, 0.218534916639328, 0.11344622820615768], [0.16751131415367126, 0.3337230384349823, 0.10753551125526428, 0.044054169207811356, 0.250545859336853, 0.0966300442814827], [0.19304759800434113, 0.1438155472278595, 0.054793816059827805, 0.22052545845508575, 0.10741451382637024, 0.2804030179977417]], [[0.9367989897727966, 0.02192581258714199, 0.0053636725060641766, 0.01651214435696602, 0.011157375760376453, 0.008241955190896988], [0.016512447968125343, 0.0427868478000164, 0.22645120322704315, 0.04516793042421341, 0.589477002620697, 0.07960455864667892], [0.058409109711647034, 0.04397372528910637, 0.05659041553735733, 0.0928766131401062, 0.6237040162086487, 0.12444612383842468], [0.048502106219530106, 0.18161244690418243, 0.24012228846549988, 0.26434653997421265, 0.18060338497161865, 0.08481322973966599], [0.05353127792477608, 0.10994747281074524, 0.21234770119190216, 0.10056401044130325, 0.2876022160053253, 0.23600725829601288], [0.10882537811994553, 0.413420170545578, 0.08419664204120636, 0.2488684505224228, 0.06276124715805054, 0.0819280594587326]], [[0.8629083037376404, 0.03467416763305664, 0.017188750207424164, 0.02711775340139866, 0.007679253816604614, 0.05043185129761696], [0.7393059730529785, 0.0701119601726532, 0.0073152207769453526, 0.1080932542681694, 0.005289094056934118, 0.06988445669412613], [0.19554802775382996, 0.7677873373031616, 0.0057182833552360535, 0.01170940138399601, 0.01256546936929226, 0.006671485491096973], [0.34155791997909546, 0.10418685525655746, 0.3489305377006531, 0.1071261540055275, 0.0066610053181648254, 0.09153753519058228], [0.362093985080719, 0.015475907362997532, 0.09141334891319275, 0.44740450382232666, 0.05941495671868324, 0.02419731393456459], [0.6142456531524658, 0.04498671367764473, 0.010087802074849606, 0.07171092182397842, 0.08808168023824692, 0.17088718712329865]], [[0.7553550601005554, 0.039872799068689346, 0.07989072799682617, 0.055478598922491074, 0.03321606293320656, 0.036186691373586655], [0.4062483310699463, 0.21122899651527405, 0.1822820007801056, 0.09297267347574234, 0.03685547038912773, 0.07041248679161072], [0.01955045945942402, 0.9283328652381897, 0.03590698167681694, 0.007935341447591782, 0.005488965660333633, 0.0027854114305227995], [0.010268055833876133, 0.23694290220737457, 0.6025885343551636, 0.09449628740549088, 0.020197944715619087, 0.03550620749592781], [0.0464780330657959, 0.055083971470594406, 0.3041287660598755, 0.5215966701507568, 0.044265687465667725, 0.028446892276406288], [0.1140020415186882, 0.05890180915594101, 0.12668761610984802, 0.24784497916698456, 0.3766975402832031, 0.07586608827114105]], [[0.737416684627533, 0.04973762109875679, 0.06787222623825073, 0.02031460963189602, 0.04206610843539238, 0.08259274065494537], [0.16188335418701172, 0.054573528468608856, 0.2881043553352356, 0.12012872099876404, 0.2112332582473755, 0.16407673060894012], [0.4201063811779022, 0.17109882831573486, 0.06107937544584274, 0.09333689510822296, 0.12797631323337555, 0.12640219926834106], [0.1215948611497879, 0.14999276399612427, 0.1739867776632309, 0.18406394124031067, 0.14169850945472717, 0.22866316139698029], [0.22457970678806305, 0.17724290490150452, 0.11038686335086823, 0.1321430653333664, 0.07781249284744263, 0.2778349220752716], [0.036671534180641174, 0.004991467576473951, 0.006660944316536188, 0.014187772758305073, 0.007821200415492058, 0.929667055606842]], [[0.34942466020584106, 0.2842687666416168, 0.02527731843292713, 0.12913596630096436, 0.06976616382598877, 0.1421271115541458], [0.04854537546634674, 0.030784474685788155, 0.7284433841705322, 0.0890902727842331, 0.04925823211669922, 0.053878266364336014], [0.2982707917690277, 0.09008453041315079, 0.07055602967739105, 0.08287685364484787, 0.08394747972488403, 0.37426432967185974], [0.2898656725883484, 0.08049368113279343, 0.16573412716388702, 0.062418222427368164, 0.16141901910305023, 0.24006927013397217], [0.17164063453674316, 0.04485927149653435, 0.05890197679400444, 0.03919956833124161, 0.1804117113351822, 0.5049868822097778], [0.5545648336410522, 0.15643729269504547, 0.03183760493993759, 0.08510743081569672, 0.05456014722585678, 0.1174926832318306]], [[0.362624853849411, 0.0037609904538840055, 0.008082477375864983, 0.6166948080062866, 0.004172645974904299, 0.00466414587572217], [0.05903015658259392, 0.41132673621177673, 0.16059252619743347, 0.04075705260038376, 0.19058653712272644, 0.13770708441734314], [0.13676202297210693, 0.30917564034461975, 0.25592535734176636, 0.06000545993447304, 0.12805874645709991, 0.11007273942232132], [0.1407301127910614, 0.20897556841373444, 0.1457863748073578, 0.12080010026693344, 0.1917957067489624, 0.19191211462020874], [0.12072692811489105, 0.14036759734153748, 0.06180799752473831, 0.03219760209321976, 0.5597614049911499, 0.08513845503330231], [0.11892160773277283, 0.327243447303772, 0.11445504426956177, 0.04452606290578842, 0.09634723514318466, 0.2985066771507263]], [[0.6016019582748413, 0.04506247863173485, 0.04524168744683266, 0.0005839222576469183, 0.025573935359716415, 0.28193598985671997], [0.20968851447105408, 0.2971351146697998, 0.10653961449861526, 0.02121814712882042, 0.04204294830560684, 0.3233756422996521], [0.40595513582229614, 0.26752209663391113, 0.051750488579273224, 0.050354331731796265, 0.03580445051193237, 0.18861354887485504], [0.27679023146629333, 0.17107602953910828, 0.10354553163051605, 0.04122232273221016, 0.03345340117812157, 0.373912513256073], [0.5705951452255249, 0.05018104240298271, 0.09984654188156128, 0.032095182687044144, 0.2147051990032196, 0.03257681429386139], [0.3709836006164551, 0.17983652651309967, 0.06413741409778595, 0.2714652717113495, 0.04027915373444557, 0.07329799979925156]], [[0.5925676226615906, 0.008733822964131832, 0.024482013657689095, 0.3376426696777344, 0.021471453830599785, 0.015102332457900047], [0.014525237493216991, 0.08794161677360535, 0.1477801352739334, 0.06870543956756592, 0.20008276402950287, 0.4809648394584656], [0.06870131939649582, 0.09403044730424881, 0.044051751494407654, 0.06518315523862839, 0.47665902972221375, 0.2513742744922638], [0.007988381199538708, 0.19194619357585907, 0.06791263818740845, 0.032955482602119446, 0.23623871803283691, 0.46295860409736633], [0.03518791124224663, 0.1042134240269661, 0.1826152503490448, 0.053264863789081573, 0.1726093739271164, 0.4521092176437378], [0.15759949386119843, 0.08547341078519821, 0.06219363585114479, 0.5003045201301575, 0.09821992367506027, 0.09620898216962814]], [[0.2512436807155609, 0.19688773155212402, 0.14446428418159485, 0.2881247103214264, 0.06739473342895508, 0.05188489705324173], [0.2399117350578308, 0.41548091173171997, 0.13547497987747192, 0.03976921737194061, 0.04132149741053581, 0.12804169952869415], [0.33658352494239807, 0.1159617006778717, 0.2078610509634018, 0.024117017164826393, 0.2033592164516449, 0.11211742460727692], [0.6142271757125854, 0.04130451753735542, 0.05927802622318268, 0.025628842413425446, 0.10619997978210449, 0.15336143970489502], [0.35485178232192993, 0.009670642204582691, 0.034974973648786545, 0.016402849927544594, 0.420287162065506, 0.16381262242794037], [0.7145721912384033, 0.0797211304306984, 0.034159690141677856, 0.06506099551916122, 0.04950997233390808, 0.05697605386376381]], [[0.8756876587867737, 0.04365631192922592, 0.02093399316072464, 0.02246089279651642, 0.00949653796851635, 0.02776452526450157], [0.0005250217509455979, 0.004204702563583851, 0.9510661363601685, 0.018780363723635674, 0.009820298291742802, 0.01560349203646183], [0.002776655601337552, 0.11197464913129807, 0.0035801741760224104, 0.6082208156585693, 0.22710324823856354, 0.04634437337517738], [0.0002934469666797668, 0.0023743060883134604, 0.015107415616512299, 0.0065237898379564285, 0.9300063252449036, 0.045694708824157715], [0.062227100133895874, 0.004751491826027632, 0.015097077935934067, 0.04683728516101837, 0.02330128289759159, 0.8477857708930969], [0.28241512179374695, 0.037185654044151306, 0.01827424392104149, 0.05572858080267906, 0.16256387531757355, 0.44383254647254944]], [[0.8906042575836182, 0.01608801819384098, 0.006268263328820467, 0.044368546456098557, 0.0014001192757859826, 0.041270703077316284], [0.4092993438243866, 0.06895706802606583, 0.07932634651660919, 0.0867510512471199, 0.020214706659317017, 0.33545151352882385], [0.07430686056613922, 0.7252532839775085, 0.009405522607266903, 0.07950925081968307, 0.06992706656455994, 0.041598014533519745], [0.31509095430374146, 0.21086393296718597, 0.1109934151172638, 0.07868827134370804, 0.09729155153036118, 0.18707183003425598], [0.09692487120628357, 0.069739930331707, 0.09173400700092316, 0.07900726050138474, 0.16073206067085266, 0.5018618106842041], [0.6078309416770935, 0.1109553799033165, 0.008072427473962307, 0.08198671042919159, 0.02590283751487732, 0.16525162756443024]]], [[[0.5974670052528381, 0.027155503630638123, 0.010153635405004025, 0.0840291753411293, 0.20386767387390137, 0.07732689380645752], [0.04647426679730415, 0.04489060863852501, 0.8000558018684387, 0.0037761409766972065, 0.007048583123832941, 0.09775462001562119], [0.03673280030488968, 0.05203217640519142, 0.8541259169578552, 0.005855439696460962, 0.004547799937427044, 0.046705856919288635], [0.5936916470527649, 0.04793855920433998, 0.007789719384163618, 0.02154647558927536, 0.2364310324192047, 0.0926026701927185], [0.3872947096824646, 0.12856151163578033, 0.000763262971304357, 0.05743790417909622, 0.09213215112686157, 0.333810418844223], [0.5893453359603882, 0.031165767461061478, 0.02228614129126072, 0.09038463979959488, 0.1929236352443695, 0.07389457523822784]], [[0.787294864654541, 0.03324291110038757, 0.02796684205532074, 0.04048023000359535, 0.0070857517421245575, 0.10392936319112778], [0.08117793500423431, 0.0019788567442446947, 0.8990575671195984, 0.006666322238743305, 0.0008272634004242718, 0.010292054153978825], [0.13758373260498047, 0.01766636036336422, 0.011712133884429932, 0.7900158762931824, 0.00619587441906333, 0.03682602196931839], [0.16142719984054565, 0.015406649559736252, 0.022471757605671883, 0.06968984752893448, 0.6049760580062866, 0.12602844834327698], [0.29272595047950745, 0.0022295734379440546, 0.0213175006210804, 0.03553450107574463, 0.029354142025113106, 0.6188383102416992], [0.9387783408164978, 0.0019517391920089722, 0.0014278494054451585, 0.0023182881996035576, 0.00026370526757091284, 0.055260080844163895]], [[0.8949400782585144, 0.01903759501874447, 0.006956973113119602, 0.023820726200938225, 0.022657621651887894, 0.03258712589740753], [0.23804090917110443, 0.25122976303100586, 0.058541297912597656, 0.10261780023574829, 0.06714624166488647, 0.2824239730834961], [0.24822114408016205, 0.3620508015155792, 0.02897896245121956, 0.022652341052889824, 0.17639681696891785, 0.16169989109039307], [0.5393580198287964, 0.14650821685791016, 0.0687268003821373, 0.04816673696041107, 0.06107901781797409, 0.1361611783504486], [0.17931173741817474, 0.3956278860569, 0.1724565178155899, 0.07786223292350769, 0.040792856365442276, 0.13394884765148163], [0.5413697361946106, 0.19310502707958221, 0.018878435716032982, 0.02788994275033474, 0.054134804755449295, 0.16462209820747375]], [[0.8698304891586304, 0.01565122976899147, 0.0013464894145727158, 0.05850309133529663, 0.009098049253225327, 0.045570749789476395], [0.628261387348175, 0.023072682321071625, 0.13127347826957703, 0.05988490581512451, 0.09654475003480911, 0.06096278876066208], [0.4049872159957886, 0.038103096187114716, 0.32489556074142456, 0.06316554546356201, 0.08098180592060089, 0.08786681294441223], [0.7809880375862122, 0.019967839121818542, 0.02533288300037384, 0.05277972295880318, 0.052618660032749176, 0.06831291317939758], [0.5125242471694946, 0.035020798444747925, 0.019170325249433517, 0.09120642393827438, 0.09836982935667038, 0.24370841681957245], [0.9260607361793518, 0.011072988621890545, 0.002001773798838258, 0.03330603986978531, 0.010713312774896622, 0.01684519089758396]], [[0.7900875210762024, 0.016504285857081413, 0.02237343229353428, 0.08996383845806122, 0.013520167209208012, 0.06755080074071884], [0.9856870770454407, 0.005209882743656635, 0.0020935754291713238, 0.005671882536262274, 0.0008843468385748565, 0.00045337967458181083], [0.1968342512845993, 0.7086837291717529, 0.061485398560762405, 0.02141439914703369, 0.004105718340724707, 0.007476444821804762], [0.24201470613479614, 0.11879803240299225, 0.5976546406745911, 0.01754673197865486, 0.006341761443763971, 0.017644140869379044], [0.2323130965232849, 0.005911993328481913, 0.05357132479548454, 0.6717533469200134, 0.011478587053716183, 0.02497166208922863], [0.9003654718399048, 0.002263061935082078, 0.0012582071358337998, 0.016977699473500252, 0.015309533104300499, 0.06382599472999573]], [[0.8822976350784302, 0.005994223989546299, 0.005098434630781412, 0.011497045867145061, 0.01548643596470356, 0.07962630689144135], [0.25137192010879517, 0.017693283036351204, 0.1357862651348114, 0.012706754729151726, 0.025218326598405838, 0.5572234392166138], [0.27384012937545776, 0.05117850750684738, 0.01342033687978983, 0.062100742012262344, 0.03518340364098549, 0.5642768740653992], [0.3713287115097046, 0.03548489138484001, 0.03016582317650318, 0.26947110891342163, 0.16152985394001007, 0.13201966881752014], [0.4278179109096527, 0.11465606093406677, 0.010626263916492462, 0.3328500986099243, 0.026998598128557205, 0.08705104887485504], [0.7585208415985107, 0.013421012088656425, 0.015778828412294388, 0.025622403249144554, 0.04072530195116997, 0.1459316462278366]], [[0.9360389709472656, 0.003600317519158125, 0.004617481492459774, 0.010711080394685268, 0.0056758662685751915, 0.039356354624032974], [0.916976273059845, 0.0104736452922225, 0.02513771876692772, 0.015206276439130306, 0.007845438085496426, 0.024360595270991325], [0.766474187374115, 0.010062379762530327, 0.004025517962872982, 0.006468538194894791, 0.012743261642754078, 0.2002260982990265], [0.22551466524600983, 0.007845035754144192, 0.0058106775395572186, 0.004795496352016926, 0.008129219524562359, 0.7479049563407898], [0.880490779876709, 0.010252008214592934, 0.01669687032699585, 0.009182832203805447, 0.006238831672817469, 0.07713864743709564], [0.8883566856384277, 0.00038825359661132097, 0.007671613711863756, 0.019108327105641365, 0.0069838217459619045, 0.07749131321907043]], [[0.9347266554832458, 0.005735266953706741, 0.0016776962438598275, 0.01395061518996954, 0.016038725152611732, 0.027871059253811836], [0.3067241609096527, 0.10339263826608658, 0.052648115903139114, 0.12967558205127716, 0.07535362243652344, 0.3322058916091919], [0.6879506707191467, 0.021510418504476547, 0.004166305065155029, 0.11381671577692032, 0.04391884803771973, 0.12863700091838837], [0.33518093824386597, 0.14116133749485016, 0.09886360913515091, 0.1259375363588333, 0.09634973108768463, 0.2025069147348404], [0.1684679388999939, 0.151017963886261, 0.1295604705810547, 0.12334410846233368, 0.13545529544353485, 0.2921542227268219], [0.814487636089325, 0.016049174591898918, 0.008249691687524319, 0.05810489505529404, 0.03278797119855881, 0.07032059133052826]], [[0.5248289108276367, 0.053839340806007385, 0.0487266443669796, 0.06913488358259201, 0.05979157239198685, 0.24367858469486237], [0.48080137372016907, 0.041001468896865845, 0.045045241713523865, 0.041245102882385254, 0.05815773457288742, 0.33374905586242676], [0.6282553672790527, 0.012650902383029461, 0.028106823563575745, 0.03260035812854767, 0.037221334874629974, 0.26116517186164856], [0.7771130204200745, 0.01727125234901905, 0.015335941687226295, 0.028633663430809975, 0.020680107176303864, 0.1409660279750824], [0.669457197189331, 0.04767527058720589, 0.048425737768411636, 0.08191334456205368, 0.0019984040409326553, 0.15053004026412964], [0.3101726770401001, 0.11019206047058105, 0.10034836083650589, 0.12509603798389435, 0.08880750089883804, 0.2653833031654358]], [[0.498186856508255, 0.043106500059366226, 0.03827030584216118, 0.13206054270267487, 0.08413258194923401, 0.20424313843250275], [0.6932138204574585, 0.023618387058377266, 0.018459120765328407, 0.03528716415166855, 0.024253975600004196, 0.20516759157180786], [0.7283025979995728, 0.020529409870505333, 0.00421503558754921, 0.05318942293524742, 0.013451809994876385, 0.18031176924705505], [0.6233712434768677, 0.03890683501958847, 0.037096504122018814, 0.05243849381804466, 0.02761278860270977, 0.2205740511417389], [0.4125288724899292, 0.1676628142595291, 0.05466297268867493, 0.04094145819544792, 0.0022345432080328465, 0.32196933031082153], [0.24699167907238007, 0.07399792969226837, 0.07197220623493195, 0.20856834948062897, 0.13113339245319366, 0.2673363983631134]], [[0.8117287158966064, 0.026767926290631294, 0.015746725723147392, 0.034015875309705734, 0.024772798642516136, 0.08696798235177994], [0.6843228936195374, 0.03489207103848457, 0.09144707024097443, 0.0790352076292038, 0.0507209375500679, 0.05958186462521553], [0.47465482354164124, 0.27241528034210205, 0.02244873344898224, 0.1000116840004921, 0.08760344237089157, 0.04286602512001991], [0.5022465586662292, 0.15677417814731598, 0.09936921298503876, 0.05359397828578949, 0.06394300609827042, 0.12407305836677551], [0.1910143494606018, 0.2498224973678589, 0.2619480788707733, 0.18465755879878998, 0.05063217505812645, 0.06192532554268837], [0.9026162624359131, 0.013469877652823925, 0.009056971408426762, 0.018567262217402458, 0.012415152043104172, 0.04387453570961952]], [[0.6418452858924866, 0.03289534151554108, 0.02069578878581524, 0.06163649633526802, 0.018521666526794434, 0.2244054526090622], [0.39240601658821106, 0.14749476313591003, 0.02291272208094597, 0.020995473489165306, 0.005662068724632263, 0.41052892804145813], [0.3533835709095001, 0.04113299399614334, 0.39517003297805786, 0.00854961946606636, 0.0032442323863506317, 0.19851958751678467], [0.45140600204467773, 0.06326790899038315, 0.01016155444085598, 0.25723692774772644, 0.004972617141902447, 0.21295495331287384], [0.34644877910614014, 0.005280420649796724, 0.0034846842754632235, 0.008066314272582531, 0.5656958818435669, 0.07102393358945847], [0.7092903852462769, 0.07708632200956345, 0.034785639494657516, 0.04770559072494507, 0.020586073398590088, 0.11054589599370956]]], [[[0.9853072166442871, 0.0009000421268865466, 0.0010737032862380147, 0.0012074146652594209, 0.00029820651980116963, 0.011213352903723717], [5.934940054430626e-05, 7.591953908558935e-05, 0.9998164772987366, 3.5532721085473895e-05, 7.126888021957711e-07, 1.1995444765489083e-05], [0.00018996556173078716, 8.63673776620999e-05, 0.00010725094034569338, 0.9988759160041809, 0.0006848670891486108, 5.558467819355428e-05], [0.0005384482792578638, 1.852766035881359e-05, 9.805577974475455e-06, 6.238777859834954e-05, 0.9993500113487244, 2.082823084492702e-05], [0.020160209387540817, 9.791013326321263e-06, 8.636408165330067e-05, 7.956706213008147e-06, 4.151637767790817e-05, 0.9796941876411438], [0.9916831254959106, 6.131803820608184e-05, 7.024726073723286e-05, 0.00015947337669786066, 4.573949991026893e-05, 0.007980067282915115]], [[0.7260422706604004, 0.02396717667579651, 0.0312848798930645, 0.041414570063352585, 0.014597139321267605, 0.16269393265247345], [0.5838102102279663, 0.010032152757048607, 0.3227747082710266, 0.00811443105340004, 0.0017606966430321336, 0.07350778579711914], [0.5906713008880615, 0.298957496881485, 0.000567967421375215, 0.01685441844165325, 0.0015782020054757595, 0.09137069433927536], [0.4581904709339142, 0.020490217953920364, 0.30516332387924194, 0.014991648495197296, 0.09282991290092468, 0.10833443701267242], [0.4474421441555023, 0.020727556198835373, 0.03836073353886604, 0.16168516874313354, 0.03767361119389534, 0.2941107153892517], [0.8452837467193604, 0.004938839934766293, 0.007832864299416542, 0.0075421626679599285, 0.005308221559971571, 0.12909415364265442]], [[0.7446409463882446, 0.02353714406490326, 0.01823248900473118, 0.030134662985801697, 0.08067721128463745, 0.10277745872735977], [0.8018974661827087, 0.017335940152406693, 0.015260356478393078, 0.024973051622509956, 0.0078797098249197, 0.13265343010425568], [0.9765022993087769, 0.0007667848840355873, 0.0003576228627935052, 0.005147275514900684, 0.002718392526730895, 0.014507691375911236], [0.9207310080528259, 0.007795463316142559, 0.00746702728793025, 0.011418003588914871, 0.028500624001026154, 0.024087896570563316], [0.6812084317207336, 0.014501914381980896, 0.011191901750862598, 0.036281514912843704, 0.08481119573116302, 0.17200502753257751], [0.6607455611228943, 0.03202852979302406, 0.028500976040959358, 0.02939445897936821, 0.08260749280452728, 0.1667230725288391]], [[0.6771454811096191, 0.038354434072971344, 0.04231579229235649, 0.056259624660015106, 0.047115765511989594, 0.1388089954853058], [0.4021354913711548, 0.005296338815242052, 0.022379161790013313, 0.035122767090797424, 0.11690683662891388, 0.4181593954563141], [0.4951898455619812, 0.004388757981359959, 0.005278615280985832, 0.08275561779737473, 0.11165671795606613, 0.30073046684265137], [0.4820067882537842, 0.056363414973020554, 0.13198161125183105, 0.03982480242848396, 0.04886158928275108, 0.24096176028251648], [0.6433795094490051, 0.06347034126520157, 0.0740814134478569, 0.06952989846467972, 0.0024420421104878187, 0.14709679782390594], [0.7985942959785461, 0.014680291526019573, 0.01701267994940281, 0.023825572803616524, 0.03738062456250191, 0.10850652307271957]], [[0.7623686194419861, 0.017939705401659012, 0.012244015000760555, 0.0411522313952446, 0.017798451706767082, 0.14849695563316345], [0.6198550462722778, 0.027171114459633827, 0.06672877818346024, 0.05412130802869797, 0.01790040172636509, 0.21422336995601654], [0.6695665717124939, 0.03643116354942322, 0.14930114150047302, 0.008835687302052975, 0.0512690506875515, 0.08459633588790894], [0.46558791399002075, 0.1422690451145172, 0.09059659391641617, 0.12235403805971146, 0.011796720325946808, 0.16739575564861298], [0.6373276114463806, 0.0418943390250206, 0.2305714637041092, 0.00789941381663084, 0.015769416466355324, 0.06653779000043869], [0.5899752974510193, 0.0075592161156237125, 0.001783246174454689, 0.12623584270477295, 0.01003372110426426, 0.2644127309322357]], [[0.5144386887550354, 0.03002895601093769, 0.022838840261101723, 0.02985241636633873, 0.3479314148426056, 0.05490965396165848], [0.27553847432136536, 0.20354871451854706, 0.18812772631645203, 0.15410029888153076, 0.06222604215145111, 0.1164587140083313], [0.38473257422447205, 0.06474800407886505, 0.09714246541261673, 0.14235635101795197, 0.037298522889614105, 0.2737221121788025], [0.39306750893592834, 0.058281634002923965, 0.08787131309509277, 0.11220044642686844, 0.14415498077869415, 0.20442412793636322], [0.5421356558799744, 0.014467210508883, 0.012930343858897686, 0.04068616032600403, 0.014520600438117981, 0.37526002526283264], [0.3303651809692383, 0.040845151990652084, 0.045060887932777405, 0.0292864590883255, 0.5235970616340637, 0.03084525838494301]], [[0.2323138415813446, 0.13764135539531708, 0.09054617583751678, 0.1321161389350891, 0.07061641663312912, 0.3367660939693451], [0.16432268917560577, 0.40596550703048706, 0.031309667974710464, 0.04872141033411026, 0.00256330450065434, 0.3471173644065857], [0.09649841487407684, 0.00485753919929266, 0.6743704080581665, 0.0043139331974089146, 0.002273100893944502, 0.21768663823604584], [0.10827776044607162, 0.008779916912317276, 0.0014297851594164968, 0.7002491354942322, 0.0015057900454849005, 0.17975756525993347], [0.2689655125141144, 0.005573044065386057, 0.0056239524856209755, 0.05122347176074982, 0.34207555651664734, 0.32653841376304626], [0.3472229540348053, 0.07440802454948425, 0.08619622886180878, 0.07242020219564438, 0.05061300843954086, 0.36913952231407166]], [[0.859864354133606, 0.008971038274466991, 0.009967610239982605, 0.022099506109952927, 0.013002707622945309, 0.08609476685523987], [0.47037991881370544, 0.051436979323625565, 0.07036656141281128, 0.07361475378274918, 0.15033109486103058, 0.18387064337730408], [0.42995259165763855, 0.13781942427158356, 0.20883503556251526, 0.03818092122673988, 0.027461275458335876, 0.15775077044963837], [0.6014167666435242, 0.07232263684272766, 0.07898122817277908, 0.05171540379524231, 0.01600685529410839, 0.17955715954303741], [0.6132923364639282, 0.056073520332574844, 0.03933084383606911, 0.05748017132282257, 0.011930927634239197, 0.22189228236675262], [0.9364356398582458, 0.0015515877166762948, 0.0019405782222747803, 0.00964568555355072, 0.002147926017642021, 0.04827863350510597]], [[0.7779381275177002, 0.013211874291300774, 0.010373531840741634, 0.02831611968576908, 0.02547871321439743, 0.14468172192573547], [0.3182525038719177, 0.27416372299194336, 0.13447709381580353, 0.011559249833226204, 0.10716339200735092, 0.15438400208950043], [0.40850481390953064, 0.3139480650424957, 0.03020741231739521, 0.026637287810444832, 0.06629469245672226, 0.15440775454044342], [0.8367180228233337, 0.0049263485707342625, 0.0016641131369397044, 0.0503399558365345, 0.015510231256484985, 0.090841144323349], [0.6664341688156128, 0.011487342417240143, 0.003186875954270363, 0.044399652630090714, 0.022887328639626503, 0.2516046166419983], [0.7891711592674255, 0.01536740455776453, 0.006508995313197374, 0.017916256561875343, 0.018549444153904915, 0.15248674154281616]], [[0.6866675615310669, 0.019222799688577652, 0.00934846606105566, 0.011423631571233273, 0.006417148746550083, 0.26692044734954834], [7.387108780676499e-05, 0.00018651806749403477, 0.9996703863143921, 4.8086763854371384e-05, 6.417431563932041e-07, 2.0477491489145905e-05], [0.00019810146477539092, 0.00025004951748996973, 0.0004696958640124649, 0.9985688924789429, 0.000316614139592275, 0.00019666201842483133], [0.0005600519943982363, 1.9099208657280542e-05, 4.489568709686864e-06, 3.842397563857958e-05, 0.9993395209312439, 3.841119178105146e-05], [0.03418546915054321, 2.1823714632773772e-05, 0.00010050441778730601, 1.330595841864124e-05, 4.74868829769548e-05, 0.9656314253807068], [0.9970250725746155, 9.77047693595523e-06, 3.143016147078015e-05, 3.718042717082426e-05, 4.4891847210237756e-05, 0.002851644065231085]], [[0.7426705956459045, 0.021835381165146828, 0.01945197954773903, 0.033954448997974396, 0.03783237189054489, 0.14425519108772278], [0.6051700115203857, 0.02750897780060768, 0.21822769939899445, 0.021909788250923157, 0.0093371057882905, 0.11784636229276657], [0.8143705725669861, 0.03879043832421303, 0.044881671667099, 0.03380480036139488, 0.009116077795624733, 0.059036463499069214], [0.7343015670776367, 0.013359972275793552, 0.011295302771031857, 0.022604908794164658, 0.046380046755075455, 0.17205823957920074], [0.1817435920238495, 0.018424080684781075, 0.010182060301303864, 0.07050912827253342, 0.6321715116500854, 0.08696965128183365], [0.8979423642158508, 0.005541933700442314, 0.0077620879746973515, 0.01980508305132389, 0.019736239686608315, 0.04921220242977142]], [[0.9627067446708679, 0.0022458480671048164, 0.00139526161365211, 0.0058083008043468, 0.003894441295415163, 0.023949431255459785], [0.36770084500312805, 0.022807685658335686, 0.10334507375955582, 0.1235768273472786, 0.1847662776708603, 0.1978033035993576], [0.34099239110946655, 0.0491378977894783, 0.03532916679978371, 0.10880973190069199, 0.2149827629327774, 0.25074800848960876], [0.668560802936554, 0.0330381877720356, 0.027476683259010315, 0.05403855815529823, 0.10245892405509949, 0.11442685127258301], [0.7342914938926697, 0.03643915057182312, 0.0269622802734375, 0.04354052618145943, 0.0396273098886013, 0.11913913488388062], [0.9917627573013306, 0.00043455991544760764, 0.00020449937437660992, 0.0015106049831956625, 0.0013470270205289125, 0.004740450065582991]]], [[[0.32790082693099976, 0.0015266119735315442, 0.0006206624675542116, 0.0023629344068467617, 0.0009862000588327646, 0.6666027903556824], [0.27553805708885193, 0.07876241952180862, 0.004771046806126833, 0.008359553292393684, 0.00233834283426404, 0.6302306652069092], [0.23895442485809326, 0.0012921548914164305, 0.19100408256053925, 0.00017543783178552985, 0.0006344905705191195, 0.5679393410682678], [0.2869231402873993, 0.00255324924364686, 0.0002943249710369855, 0.1461995244026184, 0.0011406581616029143, 0.562889039516449], [0.3269953727722168, 0.00048445112770423293, 8.194955444196239e-05, 0.0002889153256546706, 0.06794586777687073, 0.604203462600708], [0.27343714237213135, 0.0023506407160311937, 0.0065139057114720345, 0.013576948083937168, 0.003185815177857876, 0.7009356021881104]], [[0.34171831607818604, 0.01371857337653637, 0.018701430410146713, 0.018653087317943573, 0.07566838711500168, 0.5315402150154114], [0.332996666431427, 0.03939596936106682, 0.06457646936178207, 0.10301260650157928, 0.11534380167722702, 0.34467440843582153], [0.24677148461341858, 0.028442278504371643, 0.08444707095623016, 0.13578137755393982, 0.05718990042805672, 0.4473678171634674], [0.2011428028345108, 0.05914561450481415, 0.10852991789579391, 0.31679749488830566, 0.0783570185303688, 0.23602716624736786], [0.08606716245412827, 0.023313181474804878, 0.009447243064641953, 0.046207692474126816, 0.007200169842690229, 0.8277645111083984], [0.5142282247543335, 0.002699119271710515, 0.0025156796909868717, 0.0035665740724653006, 0.009251928888261318, 0.46773838996887207]], [[0.12240687757730484, 0.1139255240559578, 0.3108602464199066, 0.12501896917819977, 0.13120993971824646, 0.1965784728527069], [0.36295270919799805, 0.18954676389694214, 0.011437606997787952, 0.026639368385076523, 0.006064530462026596, 0.403359055519104], [0.5278961658477783, 0.05074130743741989, 0.002040670718997717, 0.02501496486365795, 0.001933461520820856, 0.39237338304519653], [0.30849024653434753, 0.032133836299180984, 0.010236566886305809, 0.18226955831050873, 0.0023376860190182924, 0.46453210711479187], [0.563768744468689, 0.017938677221536636, 0.00708471704274416, 0.02147665061056614, 0.0009652163716964424, 0.3887660503387451], [0.1367371529340744, 0.006588119547814131, 0.008661461062729359, 0.03564155846834183, 0.009662681259214878, 0.8027090430259705]], [[0.43751803040504456, 0.020731192082166672, 0.018975477665662766, 0.03370627015829086, 0.033801157027482986, 0.45526784658432007], [0.06634515523910522, 0.016002163290977478, 0.11658477783203125, 0.33571502566337585, 0.41708770394325256, 0.04826517775654793], [0.2856210470199585, 0.029705852270126343, 0.06852775812149048, 0.16824524104595184, 0.2687591314315796, 0.17914104461669922], [0.3846745193004608, 0.052018385380506516, 0.07745926827192307, 0.05121913179755211, 0.22010989487171173, 0.21451887488365173], [0.5336330533027649, 0.027085838839411736, 0.01216534711420536, 0.03572678193449974, 0.006118360441178083, 0.3852706551551819], [0.3818884491920471, 0.002979812677949667, 0.0017002910608425736, 0.0040560513734817505, 0.0038184963632375, 0.6055569052696228]], [[0.10749501734972, 0.019108694046735764, 0.08166301995515823, 0.024531884118914604, 0.08462543040513992, 0.6825758814811707], [0.2227678894996643, 0.027876581996679306, 0.16315509378910065, 0.047454021871089935, 0.1750773936510086, 0.3636690080165863], [0.10275723040103912, 0.08638297021389008, 0.17406542599201202, 0.06333707273006439, 0.12682729959487915, 0.44663000106811523], [0.16555997729301453, 0.046544477343559265, 0.22638005018234253, 0.04674910008907318, 0.0783897191286087, 0.4363766610622406], [0.055506687611341476, 0.07151284068822861, 0.30685579776763916, 0.14679689705371857, 0.15198098123073578, 0.2673468291759491], [0.7771269083023071, 0.0004942326922900975, 0.0003145561786368489, 0.0026028105057775974, 0.004125294741243124, 0.2153361439704895]], [[0.8085545301437378, 0.01623971201479435, 0.011979669332504272, 0.042780403047800064, 0.08723193407058716, 0.03321364149451256], [0.8980032205581665, 0.01242778915911913, 0.0014522187411785126, 0.000777878041844815, 0.018618283793330193, 0.06872060149908066], [0.028651241213083267, 0.9539622664451599, 0.004098869394510984, 0.0015925380866974592, 0.003409507917240262, 0.008285590447485447], [0.08601896464824677, 0.054195553064346313, 0.8348108530044556, 0.0029873750172555447, 0.011168659664690495, 0.010818523354828358], [0.40967538952827454, 0.0007162101101130247, 0.019824543967843056, 0.5358350276947021, 0.022003820165991783, 0.011944955214858055], [0.9284464120864868, 0.004972305614501238, 0.006471248343586922, 0.019014352932572365, 0.02633814886212349, 0.014757598750293255]], [[0.1841168850660324, 0.06829941272735596, 0.0995151549577713, 0.07196570187807083, 0.2391011267900467, 0.3370017111301422], [0.473042368888855, 0.04721749573945999, 0.02283771149814129, 0.042040325701236725, 0.04666614904999733, 0.36819592118263245], [0.27394047379493713, 0.08242657780647278, 0.3064509332180023, 0.06281778961420059, 0.03889394924044609, 0.2354702651500702], [0.3552180528640747, 0.011724302545189857, 0.0010309857316315174, 0.09340029209852219, 0.04849505051970482, 0.4901312291622162], [0.4685434401035309, 0.007227374706417322, 0.0021869619376957417, 0.0240920539945364, 0.11594371497631073, 0.3820064961910248], [0.29891493916511536, 0.0049735261127352715, 0.0069130496121943, 0.019501570612192154, 0.04080438241362572, 0.6288925409317017]], [[0.5406009554862976, 0.036892980337142944, 0.08228233456611633, 0.048404525965452194, 0.05034637823700905, 0.24147284030914307], [0.2180064171552658, 0.013756763190031052, 0.05343182384967804, 0.07801267504692078, 0.42874032258987427, 0.20805194973945618], [0.26481425762176514, 0.004035345744341612, 0.01664022170007229, 0.1050698533654213, 0.24680806696414948, 0.36263221502304077], [0.30576398968696594, 0.04665514454245567, 0.09972481429576874, 0.09731625020503998, 0.20362766087055206, 0.2469121366739273], [0.47715291380882263, 0.020621666684746742, 0.019565701484680176, 0.10544996708631516, 0.020538488402962685, 0.3566712737083435], [0.4304923415184021, 0.008023466914892197, 0.01435012649744749, 0.016858398914337158, 0.007161065004765987, 0.5231146812438965]], [[0.6149786114692688, 0.018599294126033783, 0.024343805387616158, 0.01232004165649414, 0.020954029634594917, 0.30880436301231384], [0.24748244881629944, 0.05330318957567215, 0.36658138036727905, 0.024779222905635834, 0.048748333007097244, 0.25910553336143494], [0.2323397547006607, 0.09654940664768219, 0.11732560396194458, 0.03348547965288162, 0.06625192612409592, 0.454047828912735], [0.16688881814479828, 0.10997603088617325, 0.32646703720092773, 0.045995332300662994, 0.05377751961350441, 0.296895295381546], [0.06100849062204361, 0.04559260979294777, 0.17399054765701294, 0.06914658099412918, 0.43986499309539795, 0.21039679646492004], [0.7470535635948181, 0.0023023895919322968, 0.004674867726862431, 0.004443797282874584, 0.018120095133781433, 0.22340525686740875]], [[0.81986004114151, 0.008786323480308056, 0.01116320863366127, 0.009339947253465652, 0.013084830716252327, 0.13776561617851257], [0.021858379244804382, 0.02325729839503765, 0.5588672161102295, 0.2385721355676651, 0.06863980740308762, 0.0888051688671112], [0.03151342272758484, 0.004143643192946911, 0.016956986859440804, 0.4333619177341461, 0.45030587911605835, 0.0637180507183075], [0.042526014149188995, 0.0007112725870683789, 0.0016846598591655493, 0.004403247497975826, 0.8581623435020447, 0.09251242876052856], [0.9371629953384399, 5.93938457313925e-05, 0.0002422147081233561, 0.0003029951185453683, 0.002319066785275936, 0.05991333723068237], [0.937250554561615, 0.003741642227396369, 0.0019409884698688984, 0.0035105322021991014, 0.002521184040233493, 0.0510350726544857]], [[0.3067515194416046, 0.010431813076138496, 0.023706670850515366, 0.015256289392709732, 0.019855087623000145, 0.6239986419677734], [0.2804553210735321, 0.031169049441814423, 0.11067186295986176, 0.06835474818944931, 0.23260554671287537, 0.27674350142478943], [0.2396085411310196, 0.010156356729567051, 0.008082497864961624, 0.037389855831861496, 0.5597162842750549, 0.14504647254943848], [0.12436867505311966, 0.019110364839434624, 0.041356801986694336, 0.018937507644295692, 0.6979506611824036, 0.09827599674463272], [0.330911248922348, 0.040150903165340424, 0.06383679062128067, 0.04379859194159508, 0.11643802374601364, 0.4048643410205841], [0.2782750427722931, 0.0013167565921321511, 0.002906240988522768, 0.0013192691840231419, 0.0033467859029769897, 0.712835967540741]], [[0.6081432700157166, 0.019657602533698082, 0.024442104622721672, 0.022489968687295914, 0.06262650340795517, 0.26264047622680664], [0.7354785799980164, 0.005492024589329958, 0.0032517267391085625, 0.0038391551934182644, 0.046853095293045044, 0.2050854116678238], [0.45690274238586426, 0.07043713331222534, 0.046267613768577576, 0.015279948711395264, 0.12883669137954712, 0.282275915145874], [0.1611674278974533, 0.3765633702278137, 0.21111661195755005, 0.029239118099212646, 0.05678044259548187, 0.16513308882713318], [0.09426525235176086, 0.23553545773029327, 0.4086869955062866, 0.04262132570147514, 0.03884489834308624, 0.18004605174064636], [0.78434818983078, 0.0022307620383799076, 0.0026731593534350395, 0.004308128263801336, 0.019297640770673752, 0.18714217841625214]]], [[[0.17746438086032867, 0.008454128168523312, 0.004731690511107445, 0.007674038410186768, 0.007638432551175356, 0.7940373420715332], [0.0438259094953537, 0.035615067929029465, 0.07095739245414734, 0.08757385611534119, 0.06385921686887741, 0.6981685757637024], [0.010990425013005733, 0.035637591034173965, 0.02159794233739376, 0.049326341599226, 0.15327633917331696, 0.7291713356971741], [0.01983184739947319, 0.045617032796144485, 0.04045364260673523, 0.03078298643231392, 0.22640615701675415, 0.6369082927703857], [0.01926696114242077, 0.018092047423124313, 0.012746977619826794, 0.05107973888516426, 0.09937716275453568, 0.7994371056556702], [0.1260911226272583, 0.0011562552535906434, 0.0006689687725156546, 0.0005235407734289765, 0.010877043940126896, 0.8606830835342407]], [[0.52361661195755, 0.008635283447802067, 0.05350242182612419, 0.023456748574972153, 0.38878387212753296, 0.002005050191655755], [0.00040971016278490424, 0.061285585165023804, 0.17714771628379822, 0.12708048522472382, 0.5959742069244385, 0.03810228034853935], [0.004925597459077835, 0.13161849975585938, 0.17842085659503937, 0.1467425525188446, 0.4031112790107727, 0.13518112897872925], [0.0029698472935706377, 0.11589184403419495, 0.3465999662876129, 0.2355712205171585, 0.22028598189353943, 0.07868111878633499], [0.0018387272721156478, 0.11055348813533783, 0.35471275448799133, 0.35055890679359436, 0.08630668371915817, 0.09602949768304825], [0.07011563330888748, 0.06141522154211998, 0.06065421923995018, 0.04656047374010086, 0.07265467941761017, 0.6885997653007507]], [[0.05709443986415863, 0.1455569714307785, 0.37613600492477417, 0.054322924464941025, 0.2963896095752716, 0.07049998641014099], [0.27058547735214233, 0.015024025924503803, 0.01256343349814415, 0.01641646958887577, 0.013117403723299503, 0.6722932457923889], [0.28182825446128845, 0.01259127538651228, 0.016918938606977463, 0.06889945268630981, 0.014071477577090263, 0.605690598487854], [0.1363774538040161, 0.003984296694397926, 0.0033635112922638655, 0.08108024299144745, 0.002176520647481084, 0.7730180025100708], [0.2219017744064331, 0.0033088945783674717, 0.0017836984479799867, 0.005052994936704636, 0.0006361394771374762, 0.7673165202140808], [0.11576160788536072, 0.008199969306588173, 0.006223670206964016, 0.013644600287079811, 0.012914174236357212, 0.8432559370994568]], [[0.03815629333257675, 0.008456645533442497, 0.004941265098750591, 0.008517836220562458, 0.0605805441737175, 0.8793473839759827], [0.05574335902929306, 0.3197692930698395, 0.0035177436657249928, 0.0014519165270030499, 0.007997175678610802, 0.611520528793335], [0.023911410942673683, 0.0002642620529513806, 0.19727639853954315, 0.0006778679671697319, 0.0007012799615040421, 0.7771688103675842], [0.04945068806409836, 0.0003322917327750474, 0.00012199977209093049, 0.21499788761138916, 0.0004398629243951291, 0.7346572875976562], [0.01619119383394718, 0.0003601652861107141, 7.6046992035117e-05, 0.0001532479072920978, 0.2786482572555542, 0.7045711278915405], [0.005235082935541868, 0.0010647341841831803, 0.0002894832578022033, 0.0006139697507023811, 0.0027290433645248413, 0.990067720413208]], [[0.2111843377351761, 0.014271438121795654, 0.03641783818602562, 0.01494188979268074, 0.06366526335477829, 0.6595192551612854], [0.018489155918359756, 0.14173957705497742, 0.23772850632667542, 0.18845424056053162, 0.12889821827411652, 0.28469035029411316], [0.03148192912340164, 0.12397465109825134, 0.12362473458051682, 0.1422567367553711, 0.20517118275165558, 0.37349075078964233], [0.028366511687636375, 0.13744190335273743, 0.05397484824061394, 0.05238517373800278, 0.15826795995235443, 0.569563627243042], [0.02258993685245514, 0.15628616511821747, 0.049164969474077225, 0.19537664949893951, 0.11600352823734283, 0.46057868003845215], [0.001357670989818871, 0.0009526194189675152, 0.0007573409238830209, 0.0002989867061842233, 0.0017510829493403435, 0.994882345199585]], [[0.04308906942605972, 0.004012336488813162, 0.017229583114385605, 0.010362399742007256, 0.030169397592544556, 0.8951371908187866], [0.042520806193351746, 0.004733632318675518, 0.06316384673118591, 0.11929207295179367, 0.6601153612136841, 0.11017430573701859], [0.025260884314775467, 0.003254587994888425, 0.01191794779151678, 0.038130249828100204, 0.8563881516456604, 0.06504826247692108], [0.08240176737308502, 0.00208409340120852, 0.00415573175996542, 0.01442650705575943, 0.5961409211158752, 0.3007909655570984], [0.019202962517738342, 0.0008106976747512817, 0.0012044707546010613, 0.004098278935998678, 0.017269765958189964, 0.9574137926101685], [0.007306428160518408, 0.0006720012752339244, 0.0008947034366428852, 0.0015792265767231584, 0.004426278173923492, 0.9851213693618774]], [[0.015734080225229263, 0.006341051775962114, 0.005089207552373409, 0.0024488361086696386, 0.017768356949090958, 0.9526184797286987], [0.05187857151031494, 0.044011179357767105, 0.037620000541210175, 0.04234764724969864, 0.08603803813457489, 0.7381045818328857], [0.060484886169433594, 0.147970050573349, 0.08728708326816559, 0.05120173469185829, 0.061990201473236084, 0.5910659432411194], [0.05226277932524681, 0.19504939019680023, 0.24717505276203156, 0.02678121253848076, 0.08630001544952393, 0.39243149757385254], [0.03645431995391846, 0.10183579474687576, 0.3940613567829132, 0.06851910054683685, 0.0786086693406105, 0.32052081823349], [0.00325066689401865, 0.00019060033082496375, 0.0006308936281129718, 0.0003494138072710484, 0.002797749126330018, 0.9927807450294495]], [[0.05969466641545296, 0.006622145418077707, 0.009546766988933086, 0.01856703869998455, 0.01445202436298132, 0.8911173343658447], [0.015258950181305408, 0.002537800231948495, 0.013927897438406944, 0.003671439364552498, 0.0852000042796135, 0.8794039487838745], [0.02055898867547512, 0.29057788848876953, 0.01028803177177906, 0.028621142730116844, 0.11192801594734192, 0.5380258560180664], [0.03552698716521263, 0.029720336198806763, 0.31975188851356506, 0.006530491169542074, 0.22851718962192535, 0.3799531161785126], [0.03293086960911751, 0.01913309656083584, 0.012669093906879425, 0.029797272756695747, 0.0363217256963253, 0.8691478967666626], [0.006690072827041149, 0.0006404761807061732, 0.0006017948035150766, 0.004505453631281853, 0.005677103064954281, 0.9818851351737976]], [[0.1331034153699875, 0.005644677672535181, 0.01141140516847372, 0.01257298607379198, 0.014455610886216164, 0.8228119611740112], [0.17670093476772308, 0.01934802159667015, 0.02094252035021782, 0.064644455909729, 0.11079715192317963, 0.6075669527053833], [0.11646765470504761, 0.05347570404410362, 0.03603978455066681, 0.04932767525315285, 0.07962829619646072, 0.665060818195343], [0.03224427253007889, 0.06166020408272743, 0.03672876954078674, 0.039212003350257874, 0.04770534113049507, 0.7824494242668152], [0.056796059012413025, 0.009110386483371258, 0.002463433425873518, 0.008730599656701088, 0.0023337514139711857, 0.9205657839775085], [0.012117688544094563, 0.009241687133908272, 0.006224337499588728, 0.006654443219304085, 0.021673038601875305, 0.944088876247406]], [[0.03905888646841049, 0.03148576617240906, 0.061051711440086365, 0.1956106424331665, 0.02659403719007969, 0.6461989283561707], [0.12685167789459229, 0.009355421178042889, 0.026578878983855247, 0.12699906527996063, 0.44965869188308716, 0.26055625081062317], [0.144525408744812, 0.07852735370397568, 0.07064765691757202, 0.07232663780450821, 0.21244695782661438, 0.4215259850025177], [0.10588986426591873, 0.07461203634738922, 0.05700874328613281, 0.07788209617137909, 0.14202973246574402, 0.5425775647163391], [0.15675561130046844, 0.10583355277776718, 0.050747063010931015, 0.03161299601197243, 0.014547140337526798, 0.6405036449432373], [0.03198171406984329, 0.0015765170101076365, 0.0026594302617013454, 0.005618921481072903, 0.012531406246125698, 0.9456320405006409]], [[0.028677303344011307, 0.01526204776018858, 0.012125030159950256, 0.016205087304115295, 0.02025957778096199, 0.9074709415435791], [0.04162535071372986, 0.01769743300974369, 0.02782452665269375, 0.008107737638056278, 0.04267077147960663, 0.8620741963386536], [0.03714825212955475, 0.406316339969635, 0.05846525728702545, 0.025234386324882507, 0.05273624509572983, 0.42009949684143066], [0.0505836084485054, 0.4201613962650299, 0.11138159036636353, 0.028811711817979813, 0.09605833888053894, 0.2930033206939697], [0.04103975370526314, 0.27460867166519165, 0.27669695019721985, 0.13339988887310028, 0.01702365279197693, 0.2572310268878937], [0.010707615874707699, 0.0014303914504125714, 0.002013933612033725, 0.0037503947969526052, 0.010978772304952145, 0.9711188077926636]], [[0.2197621911764145, 0.13645121455192566, 0.022372767329216003, 0.011001527309417725, 0.07981417328119278, 0.5305981636047363], [0.03405268117785454, 0.02428378351032734, 0.1473330408334732, 0.05358908325433731, 0.010213733650743961, 0.7305276989936829], [0.055476218461990356, 0.014425761066377163, 0.019427962601184845, 0.43449756503105164, 0.1361742615699768, 0.3399983048439026], [0.08440952003002167, 0.009117459878325462, 0.011303959414362907, 0.01577935740351677, 0.33747029304504395, 0.541919469833374], [0.011134951375424862, 0.021303018555045128, 0.006985669955611229, 0.0014460922684520483, 0.0009509280789643526, 0.9581793546676636], [0.017190083861351013, 0.011783233843743801, 0.006285035517066717, 0.0072230566293001175, 0.012408752925693989, 0.9451098442077637]]], [[[0.04742182791233063, 0.07252150774002075, 0.2314642369747162, 0.04101629555225372, 0.07354015111923218, 0.5340359807014465], [0.07236418128013611, 0.025506125763058662, 0.03427805006504059, 0.07704144716262817, 0.2219557762145996, 0.5688543915748596], [0.08427659422159195, 0.017164384946227074, 0.019343525171279907, 0.09753566235303879, 0.3357783854007721, 0.44590142369270325], [0.11870964616537094, 0.030949383974075317, 0.025024639442563057, 0.019434791058301926, 0.22122643887996674, 0.5846551060676575], [0.08217420428991318, 0.01051764003932476, 0.014658709056675434, 0.012136392295360565, 0.026538316160440445, 0.8539747595787048], [0.02191970683634281, 0.00557229807600379, 0.007072096224874258, 0.0042322552762925625, 0.01852989010512829, 0.9426738023757935]], [[0.04178719222545624, 0.04779581353068352, 0.03169567510485649, 0.04602937400341034, 0.010693886317312717, 0.8219980597496033], [0.004584888461977243, 0.008446039631962776, 0.016917617991566658, 0.01731576770544052, 0.00560313044115901, 0.9471325278282166], [0.00767373526468873, 0.20086263120174408, 0.025340385735034943, 0.012199291959404945, 0.009269949048757553, 0.7446539998054504], [0.030727993696928024, 0.04227075353264809, 0.022143622860312462, 0.009088892489671707, 0.01901857927441597, 0.8767501711845398], [0.04033946618437767, 0.02144511044025421, 0.008577668108046055, 0.007758871652185917, 0.037183646112680435, 0.884695291519165], [0.0071755643002688885, 0.003544752486050129, 0.0021512892562896013, 0.004261281341314316, 0.0012990665854886174, 0.9815680384635925]], [[0.12166614830493927, 0.03520242124795914, 0.07199840992689133, 0.042369209229946136, 0.07988664507865906, 0.6488771438598633], [0.1963014155626297, 0.08090759813785553, 0.11992426216602325, 0.1506258100271225, 0.21205715835094452, 0.2401837855577469], [0.1284799873828888, 0.20399045944213867, 0.17918865382671356, 0.09019526094198227, 0.2344886213541031, 0.1636570245027542], [0.0625767931342125, 0.24178403615951538, 0.20899716019630432, 0.0764550119638443, 0.21418249607086182, 0.1960044950246811], [0.12591393291950226, 0.07758542895317078, 0.10957358777523041, 0.06478887051343918, 0.054868657141923904, 0.567269504070282], [0.03730229660868645, 0.0034617900382727385, 0.0023940892424434423, 0.0025897608138620853, 0.0026931099127978086, 0.9515589475631714]], [[0.013461150228977203, 0.1245422512292862, 0.22788482904434204, 0.13328143954277039, 0.08147742599248886, 0.4193529486656189], [0.014936050400137901, 0.10022704303264618, 0.09349458664655685, 0.013756655156612396, 0.01577751338481903, 0.7618081569671631], [0.01113093364983797, 0.040681708604097366, 0.05844647437334061, 0.033105574548244476, 0.015360680408775806, 0.8412745594978333], [0.04108114913105965, 0.04968305304646492, 0.028239864856004715, 0.020984375849366188, 0.029347015544772148, 0.8306645750999451], [0.06388594210147858, 0.06011570990085602, 0.07607802748680115, 0.05267394706606865, 0.13373863697052002, 0.6135077476501465], [0.0077987113036215305, 0.004081453662365675, 0.004935505334287882, 0.0033126049675047398, 0.013242839835584164, 0.9666288495063782]], [[0.023959314450621605, 0.08033419400453568, 0.16275091469287872, 0.08175016939640045, 0.06998472660779953, 0.5812206864356995], [0.09125842154026031, 0.008550896309316158, 0.008659005165100098, 0.03330334275960922, 0.38651180267333984, 0.4717165529727936], [0.05301923677325249, 0.03252243995666504, 0.028994519263505936, 0.03351706638932228, 0.36955752968788147, 0.4823892414569855], [0.05016498267650604, 0.040145304054021835, 0.044273797422647476, 0.12007611989974976, 0.19012939929962158, 0.5552103519439697], [0.1173810288310051, 0.04393627122044563, 0.050083354115486145, 0.03992282971739769, 0.012149087153375149, 0.7365273833274841], [0.02027558721601963, 0.002843871945515275, 0.003367053112015128, 0.004383960273116827, 0.01998080313205719, 0.9491487741470337]], [[0.019922789186239243, 0.02742798440158367, 0.012268963269889355, 0.0170906875282526, 0.0210157111287117, 0.9022738933563232], [0.10497909784317017, 0.3332008421421051, 0.012201760895550251, 0.011788196861743927, 0.03318312019109726, 0.5046469569206238], [0.09025854617357254, 0.011504114605486393, 0.17007622122764587, 0.022880468517541885, 0.1035727858543396, 0.6017078161239624], [0.11833745986223221, 0.003590952605009079, 0.061814311891794205, 0.12869270145893097, 0.07966934889554977, 0.6078952550888062], [0.03845362737774849, 0.003192516043782234, 0.004182044882327318, 0.011115757748484612, 0.09321584552526474, 0.8498402237892151], [0.007305402774363756, 0.0024309621658176184, 0.0005853455513715744, 0.000514744664542377, 0.005087879486382008, 0.9840756058692932]], [[0.03072502091526985, 0.011967013590037823, 0.017336338758468628, 0.025853749364614487, 0.01965087465941906, 0.8944670557975769], [0.012874501757323742, 0.0048215058632195, 0.009441404603421688, 0.0023856647312641144, 0.002702878089621663, 0.9677740335464478], [0.05060196295380592, 0.05819015949964523, 0.043371815234422684, 0.01446342933923006, 0.015506627969443798, 0.8178660273551941], [0.02742554433643818, 0.03707920387387276, 0.3658750057220459, 0.03263813257217407, 0.01909526251256466, 0.5178868770599365], [0.0558902882039547, 0.020901182666420937, 0.025162266567349434, 0.10028576105833054, 0.03721107915043831, 0.7605494856834412], [0.020227739587426186, 0.020221590995788574, 0.014614860527217388, 0.008400463499128819, 0.008421692065894604, 0.9281136989593506]], [[0.024722669273614883, 0.01686105690896511, 0.06956899911165237, 0.0700332373380661, 0.2318211793899536, 0.5869929194450378], [0.04861908033490181, 0.015673598274588585, 0.5348954796791077, 0.06026739999651909, 0.07309658825397491, 0.2674478590488434], [0.025117898359894753, 0.00522201880812645, 0.03657376393675804, 0.16001734137535095, 0.3304806649684906, 0.44258829951286316], [0.07445580512285233, 0.011695143766701221, 0.02383510023355484, 0.11307445168495178, 0.18309800326824188, 0.5938414931297302], [0.004877335857599974, 0.0014140852726995945, 0.0005991721409372985, 0.0005431151366792619, 0.002472049556672573, 0.9900942444801331], [0.0036805791314691305, 0.0012175862211734056, 0.0018218668410554528, 0.000998451141640544, 0.004139964934438467, 0.9881415367126465]], [[0.081582210958004, 0.035506539046764374, 0.05091055855154991, 0.05805516242980957, 0.10863047093153, 0.6653150916099548], [0.021943561732769012, 0.027331272140145302, 0.11486168950796127, 0.10608669370412827, 0.3952270746231079, 0.3345496654510498], [0.046919580549001694, 0.02083696983754635, 0.06087014824151993, 0.08831056207418442, 0.32826361060142517, 0.4547991156578064], [0.022583531215786934, 0.012435389682650566, 0.04527664557099342, 0.05560371279716492, 0.36067143082618713, 0.5034292340278625], [0.0431053452193737, 0.02583693526685238, 0.023602904751896858, 0.044915784150362015, 0.041283346712589264, 0.8212556838989258], [0.009851761162281036, 0.0009276960045099258, 0.0009992498671635985, 0.0012339341919869184, 0.006159115582704544, 0.9808282256126404]], [[0.062324751168489456, 0.17075882852077484, 0.03266186639666557, 0.004987024702131748, 0.20128794014453888, 0.5279795527458191], [0.0019776273984462023, 0.010420180857181549, 0.49667075276374817, 0.029962019994854927, 0.07585200667381287, 0.3851173520088196], [0.005773608107119799, 0.013658394105732441, 0.0338013730943203, 0.4472048282623291, 0.3319690227508545, 0.167592853307724], [0.0019843855407088995, 0.0006049402873031795, 0.0017175341490656137, 0.003477839520201087, 0.9577234983444214, 0.034491848200559616], [0.01599946804344654, 0.0011276199948042631, 0.0005168460193090141, 0.00020165563910268247, 0.002047549933195114, 0.9801068305969238], [0.35071858763694763, 0.0065901679918169975, 0.003440713509917259, 0.005214835982769728, 0.06200982630252838, 0.5720258951187134]], [[0.028924595564603806, 0.03270784765481949, 0.08857394009828568, 0.04349138215184212, 0.31962427496910095, 0.48667794466018677], [0.08704893290996552, 0.010219555348157883, 0.014638690277934074, 0.01547287404537201, 0.160472571849823, 0.7121474146842957], [0.17928515374660492, 0.5382309556007385, 0.07139788568019867, 0.010142428800463676, 0.04662591218948364, 0.15431763231754303], [0.04963594302535057, 0.5547731518745422, 0.19896511733531952, 0.0036792301107198, 0.12271995097398758, 0.07022663950920105], [0.13630594313144684, 0.17504745721817017, 0.2402123212814331, 0.12708230316638947, 0.022509003058075905, 0.2988429665565491], [0.019028490409255028, 0.00604716781526804, 0.0054204524494707584, 0.009336468763649464, 0.013926178216934204, 0.9462411999702454]], [[0.04082828387618065, 0.004320377949625254, 0.019031820818781853, 0.01673806644976139, 0.01868034340441227, 0.9004011750221252], [0.04770009592175484, 0.027200644835829735, 0.07301661372184753, 0.031554147601127625, 0.14516887068748474, 0.6753596067428589], [0.018217263743281364, 0.026244699954986572, 0.025460146367549896, 0.012172321788966656, 0.04983201622962952, 0.868073582649231], [0.031014826148748398, 0.022825032472610474, 0.008115185424685478, 0.009011237882077694, 0.020962253212928772, 0.9080714583396912], [0.033180974423885345, 0.006997954566031694, 0.009569029323756695, 0.008804929442703724, 0.009438058361411095, 0.9320090413093567], [0.015026814304292202, 0.010621781460940838, 0.004662236198782921, 0.005164283327758312, 0.010821349918842316, 0.9537034630775452]]], [[[0.003235580399632454, 0.12723380327224731, 0.40520256757736206, 0.34119370579719543, 0.07988015562295914, 0.043254148215055466], [0.001585694495588541, 0.09607873111963272, 0.037172481417655945, 0.011324933730065823, 0.007986782118678093, 0.8458513617515564], [0.0005707045784220099, 0.006389336194843054, 0.023967301473021507, 0.008126046508550644, 0.003808398265391588, 0.957138180732727], [0.0013289040653035045, 0.010513730347156525, 0.020816989243030548, 0.041268181055784225, 0.02137744426727295, 0.9046947360038757], [0.0030682780779898167, 0.015546586364507675, 0.024583568796515465, 0.037371501326560974, 0.053200818598270416, 0.866229236125946], [0.00292900949716568, 0.0015196986496448517, 0.0017650354420766234, 0.0014933987986296415, 0.00400509824976325, 0.9882877469062805]], [[0.06424219161272049, 0.06365036964416504, 0.08387386053800583, 0.07213252782821655, 0.34316182136535645, 0.37293922901153564], [0.05251489207148552, 0.050168611109256744, 0.07595100998878479, 0.0985792726278305, 0.2596111595630646, 0.4631749987602234], [0.035611022263765335, 0.08340363949537277, 0.05536258965730667, 0.042218465358018875, 0.2546035051345825, 0.5288007855415344], [0.05791354551911354, 0.08478649705648422, 0.030639557167887688, 0.030020033940672874, 0.2950183153152466, 0.5016220808029175], [0.11372414976358414, 0.07927238941192627, 0.05272321030497551, 0.06471914052963257, 0.11458248645067215, 0.5749785900115967], [0.009639427997171879, 0.00617728428915143, 0.008975840173661709, 0.0063202898018062115, 0.015335538424551487, 0.9535515904426575]], [[0.014174028299748898, 0.045522306114435196, 0.10832200944423676, 0.11722783744335175, 0.3801177740097046, 0.33463603258132935], [0.02703450806438923, 0.01707027107477188, 0.01971624419093132, 0.01354218553751707, 0.034949060529470444, 0.8876876831054688], [0.03658897057175636, 0.03167692944407463, 0.013967309147119522, 0.02601594850420952, 0.017848942428827286, 0.873901903629303], [0.06086540222167969, 0.08805330097675323, 0.032177940011024475, 0.050287891179323196, 0.020680319517850876, 0.7479351758956909], [0.07545412331819534, 0.06975507736206055, 0.07880302518606186, 0.09296499937772751, 0.03110843151807785, 0.6519142985343933], [0.02260361798107624, 0.006090036127716303, 0.007279538083821535, 0.010124996304512024, 0.023464888334274292, 0.930436909198761]], [[0.022194843739271164, 0.004061991348862648, 0.001418822561390698, 0.00653605442494154, 0.0018695542821660638, 0.9639187455177307], [0.017382802441716194, 0.012394667603075504, 0.014501480385661125, 0.00441353302448988, 0.004441895987838507, 0.9468656182289124], [0.02459237538278103, 0.26546579599380493, 0.02551494725048542, 0.002221242757514119, 0.007371858693659306, 0.6748338341712952], [0.003579941112548113, 0.017093129456043243, 0.34334251284599304, 0.031798265874385834, 0.06395623087882996, 0.540229856967926], [0.020702071487903595, 0.010227592661976814, 0.027710746973752975, 0.07433956116437912, 0.08233827352523804, 0.7846817970275879], [0.07890725135803223, 0.010247036814689636, 0.003972659818828106, 0.014247219078242779, 0.01763138547539711, 0.8749943971633911]], [[0.025386696681380272, 0.028208959847688675, 0.046830907464027405, 0.04887443035840988, 0.0697113499045372, 0.780987560749054], [0.004778152331709862, 0.007009407505393028, 0.07198193669319153, 0.025679264217615128, 0.025516577064990997, 0.8650346994400024], [0.007070372812449932, 0.15896351635456085, 0.02153085544705391, 0.021066976711153984, 0.005278447642922401, 0.7860897779464722], [0.011625252664089203, 0.13593105971813202, 0.07233252376317978, 0.02257448248565197, 0.029632918536663055, 0.7279037237167358], [0.0058510927483439445, 0.03295966982841492, 0.009207041002810001, 0.01537242066115141, 0.00791969895362854, 0.9286901354789734], [0.003243942279368639, 0.004255952313542366, 0.003169724252074957, 0.003177654230967164, 0.005916456691920757, 0.9802362322807312]], [[0.09209749102592468, 0.06879016757011414, 0.11638389527797699, 0.25443360209465027, 0.13519451022148132, 0.333100289106369], [0.00387727003544569, 0.008802766911685467, 0.06864625960588455, 0.2293989062309265, 0.40248119831085205, 0.28679361939430237], [0.0037325334269553423, 0.0036475753877311945, 0.016480423510074615, 0.21926972270011902, 0.41911572217941284, 0.33775395154953003], [0.006320947781205177, 0.0052564567886292934, 0.033800411969423294, 0.05590054392814636, 0.6764761209487915, 0.2222454845905304], [0.008397182449698448, 0.008986752480268478, 0.014836722053587437, 0.007129050325602293, 0.004842493217438459, 0.9558078050613403], [0.001521037658676505, 0.0017671390669420362, 0.0021431564819067717, 0.0035545204300433397, 0.0042050560005009174, 0.9868091344833374]], [[0.060102105140686035, 0.0468633770942688, 0.039745282381772995, 0.04356372728943825, 0.08374417573213577, 0.7259812951087952], [0.00454544136300683, 0.010866937227547169, 0.21905578672885895, 0.09079781919717789, 0.1305527240037918, 0.5441812872886658], [0.0028519879560917616, 0.011182245798408985, 0.01162759680300951, 0.26495081186294556, 0.29196009039878845, 0.4174272418022156], [0.014552121050655842, 0.011472754180431366, 0.009941762313246727, 0.023952560499310493, 0.44272884726524353, 0.49735191464424133], [0.0075190505012869835, 0.002175860805436969, 0.0006582299247384071, 0.0009191558929160237, 0.0009234721655957401, 0.9878041744232178], [0.010020087473094463, 0.008018122054636478, 0.008152899332344532, 0.011270486749708652, 0.017754992470145226, 0.9447833895683289]], [[0.01694667711853981, 0.007162034977227449, 0.011409606784582138, 0.02477102540433407, 0.2907865047454834, 0.6489241719245911], [0.006733591202646494, 0.009654737077653408, 0.054094742983579636, 0.06490519642829895, 0.31149807572364807, 0.5531136393547058], [0.015598573721945286, 0.024075448513031006, 0.04692620784044266, 0.01890120841562748, 0.4002249538898468, 0.4942736029624939], [0.01615861803293228, 0.031532902270555496, 0.028344741091132164, 0.016294950619339943, 0.43473514914512634, 0.47293367981910706], [0.007663796655833721, 0.023093020543456078, 0.01917768083512783, 0.01969841681420803, 0.023172076791524887, 0.907194972038269], [0.0054301051422953606, 0.006742987781763077, 0.012202943675220013, 0.009077741764485836, 0.03220968693494797, 0.9343365430831909]], [[0.04308147355914116, 0.023860909044742584, 0.02134486846625805, 0.0383196584880352, 0.07308720052242279, 0.8003059029579163], [0.3154871463775635, 0.02537960186600685, 0.03719986602663994, 0.02761933207511902, 0.04746345430612564, 0.5468505620956421], [0.21134063601493835, 0.01457951683551073, 0.05255800858139992, 0.020129794254899025, 0.06292419135570526, 0.6384678483009338], [0.15840265154838562, 0.03265729919075966, 0.12024490535259247, 0.06867796927690506, 0.10555706918239594, 0.5144600868225098], [0.10274890065193176, 0.03345320001244545, 0.03338799625635147, 0.05432899296283722, 0.1452477127313614, 0.6308331489562988], [0.03463517501950264, 0.02177266776561737, 0.022077007219195366, 0.01732618547976017, 0.039450906217098236, 0.8647381067276001]], [[0.030365414917469025, 0.005472792778164148, 0.0016517735784873366, 0.0038685027975589037, 0.13138261437416077, 0.8272588849067688], [0.15915502607822418, 0.014842438511550426, 0.006154301110655069, 0.007497001439332962, 0.05313718318939209, 0.7592141032218933], [0.44399118423461914, 0.023601926863193512, 0.007618969306349754, 0.0040669976733624935, 0.0390857569873333, 0.4816352128982544], [0.21646957099437714, 0.05378290265798569, 0.11412917077541351, 0.031163830310106277, 0.2822645306587219, 0.3021899461746216], [0.12245038151741028, 0.05541044473648071, 0.11908013373613358, 0.17938947677612305, 0.30689430236816406, 0.2167753279209137], [0.018832989037036896, 0.008172337897121906, 0.006569213699549437, 0.009258825331926346, 0.03137935698032379, 0.9257872104644775]], [[0.014509247615933418, 0.022381363436579704, 0.14266550540924072, 0.22387725114822388, 0.011063615791499615, 0.585503101348877], [0.009507447481155396, 0.043843477964401245, 0.011591855436563492, 0.0058105639182031155, 0.00772291561588645, 0.9215236902236938], [0.005111704580485821, 0.06848594546318054, 0.008479582145810127, 0.0023137417156249285, 0.003325721248984337, 0.9122833013534546], [0.032926976680755615, 0.10856906324625015, 0.05864688381552696, 0.014956158585846424, 0.010683948174118996, 0.7742169499397278], [0.005488293711096048, 0.08900374919176102, 0.11012876033782959, 0.059102971106767654, 0.007977059110999107, 0.7282991409301758], [0.008057987317442894, 0.01695544645190239, 0.02278291806578636, 0.03346223756670952, 0.010120980441570282, 0.9086204171180725]], [[0.01743330806493759, 0.08395654708147049, 0.0717327892780304, 0.25743940472602844, 0.26309734582901, 0.30634060502052307], [0.23013606667518616, 0.019755646586418152, 0.008661818690598011, 0.006476673763245344, 0.07252708077430725, 0.6624427437782288], [0.22791199386119843, 0.7098913192749023, 0.004361211787909269, 0.00337672489695251, 0.005898032803088427, 0.04856075346469879], [0.02486691065132618, 0.3343547582626343, 0.29600825905799866, 0.005709578283131123, 0.010732052847743034, 0.328328400850296], [0.021797144785523415, 0.02712608501315117, 0.02400541864335537, 0.30182379484176636, 0.07970988750457764, 0.5455376505851746], [0.004552825819700956, 0.007512169424444437, 0.009561119601130486, 0.016783783212304115, 0.012660808861255646, 0.9489293098449707]]], [[[0.0014410564908757806, 0.05280548334121704, 0.0398164801299572, 0.02932506985962391, 0.032298702746629715, 0.8443132042884827], [0.027593784034252167, 0.035721030086278915, 0.01609031856060028, 0.020258938893675804, 0.0362529531121254, 0.8640830516815186], [0.05586707219481468, 0.1457616090774536, 0.05249612405896187, 0.05003010854125023, 0.02506285533308983, 0.670782208442688], [0.05093640461564064, 0.3414710760116577, 0.13671565055847168, 0.060654930770397186, 0.055525846779346466, 0.354696124792099], [0.030885351821780205, 0.146680548787117, 0.20118919014930725, 0.1141473650932312, 0.03792964667081833, 0.4691678583621979], [0.00947603676468134, 0.008143213577568531, 0.008359989151358604, 0.006090783514082432, 0.008612511679530144, 0.9593175053596497]], [[0.050445739179849625, 0.041872236877679825, 0.20541717112064362, 0.13074685633182526, 0.2903846800327301, 0.28113338351249695], [0.015893131494522095, 0.04051687568426132, 0.43074673414230347, 0.20886322855949402, 0.12274519354104996, 0.18123488128185272], [0.011658838018774986, 0.02809576317667961, 0.03276074677705765, 0.09950265288352966, 0.31994038820266724, 0.5080416798591614], [0.009774405509233475, 0.01960543729364872, 0.019947370514273643, 0.038718994706869125, 0.1763949692249298, 0.735558807849884], [0.011317864060401917, 0.03560367971658707, 0.019913533702492714, 0.03025560826063156, 0.031410131603479385, 0.8714991211891174], [0.004380263388156891, 0.00733947241678834, 0.004067832604050636, 0.004073791671544313, 0.010805639438331127, 0.9693330526351929]], [[0.16652493178844452, 0.29606741666793823, 0.03122055158019066, 0.014131647534668446, 0.029927676543593407, 0.46212777495384216], [0.004338092170655727, 0.04491623491048813, 0.6438480615615845, 0.14033885300159454, 0.02568318508565426, 0.14087551832199097], [0.005059331655502319, 0.12485507875680923, 0.18135961890220642, 0.10722517222166061, 0.01715502142906189, 0.5643457770347595], [0.01599240116775036, 0.08381055295467377, 0.07287014275789261, 0.01767249032855034, 0.0715700313448906, 0.7380843758583069], [0.02016526833176613, 0.020465608686208725, 0.008269503712654114, 0.019535856321454048, 0.023720894008874893, 0.9078428745269775], [0.014874227344989777, 0.015227925032377243, 0.01058950088918209, 0.011488026939332485, 0.021690959110856056, 0.9261293411254883]], [[0.022095536813139915, 0.0027675172314047813, 0.005854183807969093, 0.010982092469930649, 0.00564056308940053, 0.9526601433753967], [0.005590302404016256, 0.019701596349477768, 0.038602445274591446, 0.009424909017980099, 0.013736695982515812, 0.9129440188407898], [0.008178108371794224, 0.03396408259868622, 0.04597950726747513, 0.024947836995124817, 0.010705203749239445, 0.8762253522872925], [0.006737632676959038, 0.02473069541156292, 0.05326508358120918, 0.017671076580882072, 0.023935480043292046, 0.8736599683761597], [0.004278648644685745, 0.005938539747148752, 0.007529046386480331, 0.0016610592138022184, 0.010514975525438786, 0.9700776934623718], [0.039522767066955566, 0.012251659296452999, 0.005593321286141872, 0.004997579846531153, 0.02577616088092327, 0.9118585586547852]], [[0.0018813996575772762, 0.004634236451238394, 0.0035883402451872826, 0.011244571767747402, 0.029908664524555206, 0.9487427473068237], [0.014027473516762257, 0.005244559142738581, 0.0015178463654592633, 0.004477463196963072, 0.08064927905797958, 0.8940834403038025], [0.001432595425285399, 0.7295873165130615, 0.03119794651865959, 0.009060518816113472, 0.0014403321547433734, 0.22728115320205688], [0.0022165440022945404, 0.013794735074043274, 0.8305540084838867, 0.017776181921362877, 0.027586298063397408, 0.10807221382856369], [0.011846616864204407, 0.06784002482891083, 0.16209621727466583, 0.3748150169849396, 0.022172115743160248, 0.3612300157546997], [0.005380450747907162, 0.004824769217520952, 0.004900841042399406, 0.0067280009388923645, 0.020548854023218155, 0.9576171040534973]], [[0.022088048979640007, 0.053543608635663986, 0.20813637971878052, 0.08017394691705704, 0.08537761867046356, 0.55068039894104], [0.013876966200768948, 0.09487869590520859, 0.6391546130180359, 0.05085288733243942, 0.08373622596263885, 0.11750049144029617], [0.04318732023239136, 0.15301355719566345, 0.28527534008026123, 0.07671666145324707, 0.2623954117298126, 0.17941167950630188], [0.024641722440719604, 0.19285394251346588, 0.2722930610179901, 0.04654232785105705, 0.21628469228744507, 0.24738426506519318], [0.015854287892580032, 0.08243189007043839, 0.11830609291791916, 0.020355090498924255, 0.06871486455202103, 0.694337785243988], [0.0059410217218101025, 0.006660827901214361, 0.018181856721639633, 0.0026933285407721996, 0.010243464261293411, 0.9562795162200928]], [[0.07096584141254425, 0.01190891768783331, 0.022426530718803406, 0.021811632439494133, 0.019267918542027473, 0.8536192178726196], [0.010654954239726067, 0.02072899043560028, 0.1023065447807312, 0.09602820873260498, 0.04982798174023628, 0.7204533815383911], [0.003829637309536338, 0.010736986063420773, 0.04407702758908272, 0.052021484822034836, 0.031818587332963943, 0.857516348361969], [0.0029269191436469555, 0.007646066136658192, 0.016749991104006767, 0.029551761224865913, 0.015398259274661541, 0.9277270436286926], [0.009273018687963486, 0.0071626207791268826, 0.0048406911082565784, 0.005754669196903706, 0.01879267208278179, 0.9541763663291931], [0.06636253744363785, 0.011458583176136017, 0.005705953110009432, 0.009805499576032162, 0.012177344411611557, 0.894490122795105]], [[0.1015370637178421, 0.0032184324227273464, 0.0009816029341891408, 0.002904976950958371, 0.057517629116773605, 0.8338403105735779], [0.018656235188245773, 0.010728402994573116, 0.01578087918460369, 0.008304166607558727, 0.005659302696585655, 0.940871000289917], [0.004690881352871656, 0.04440714046359062, 0.009351725690066814, 0.002923437161371112, 0.0022297254763543606, 0.9363970160484314], [0.00530205387622118, 0.02193366177380085, 0.030161390081048012, 0.010379437357187271, 0.0075033740140497684, 0.9247201681137085], [0.01617330312728882, 0.009671853855252266, 0.009743918664753437, 0.007148730102926493, 0.00417943624779582, 0.9530827403068542], [0.011733971536159515, 0.013189292512834072, 0.005144820082932711, 0.006304014008492231, 0.01048390381038189, 0.9531440138816833]], [[0.07605186104774475, 0.046891406178474426, 0.027558382600545883, 0.02186395227909088, 0.40375080704689026, 0.4238835871219635], [0.1766512393951416, 0.06047671288251877, 0.13762614130973816, 0.1533764749765396, 0.2749388515949249, 0.19693060219287872], [0.2514026165008545, 0.1171259805560112, 0.046423982828855515, 0.051345329731702805, 0.15750445425510406, 0.3761976659297943], [0.3470064401626587, 0.06577719002962112, 0.013171251863241196, 0.011342709884047508, 0.0813782811164856, 0.48132410645484924], [0.12029114365577698, 0.06135731562972069, 0.013534621335566044, 0.010200322605669498, 0.09722024202346802, 0.6973963379859924], [0.017807643860578537, 0.010393371805548668, 0.004585589282214642, 0.0037592484150081873, 0.014716369099915028, 0.9487378001213074]], [[0.0050348578952252865, 0.011694066226482391, 0.006792124360799789, 0.012283364310860634, 0.031084515154361725, 0.9331110715866089], [0.005011445842683315, 0.0159093476831913, 0.007303124759346247, 0.004677805583924055, 0.030183929949998856, 0.936914324760437], [0.02082000859081745, 0.07019200176000595, 0.027798105031251907, 0.009667566977441311, 0.024930374696850777, 0.8465919494628906], [0.01774345338344574, 0.14669190347194672, 0.35773995518684387, 0.021135985851287842, 0.037321679294109344, 0.41936689615249634], [0.0720476508140564, 0.16711227595806122, 0.12542372941970825, 0.06560738384723663, 0.06411803513765335, 0.50569087266922], [0.008335177786648273, 0.009991968981921673, 0.006906814407557249, 0.007240495644509792, 0.024526450783014297, 0.9429991245269775]], [[0.03175140172243118, 0.028004363179206848, 0.05744219571352005, 0.06795146316289902, 0.39794278144836426, 0.41690781712532043], [0.0034013164695352316, 0.006203917786478996, 0.06349088251590729, 0.07467982172966003, 0.5843719840049744, 0.2678520977497101], [0.004850385244935751, 0.009860901162028313, 0.051061805337667465, 0.09378036111593246, 0.4858454763889313, 0.354601114988327], [0.002314430195838213, 0.001152284792624414, 0.003696860745549202, 0.004749215207993984, 0.9124895930290222, 0.07559770345687866], [0.01424620021134615, 0.04476577416062355, 0.02901848778128624, 0.02504548244178295, 0.012023895047605038, 0.8749001026153564], [0.01008594036102295, 0.009952990338206291, 0.008320329710841179, 0.00937850121408701, 0.022948479279875755, 0.9393137097358704]], [[0.05489964410662651, 0.006617591716349125, 0.006855539511889219, 0.09170091897249222, 0.5142719149589539, 0.32565441727638245], [0.01496198307722807, 0.010189552791416645, 0.010224566794931889, 0.009647183120250702, 0.13109111785888672, 0.8238856196403503], [0.007297241594642401, 0.30785125494003296, 0.06377112120389938, 0.018513686954975128, 0.009625486098229885, 0.592941164970398], [0.007211267948150635, 0.39903634786605835, 0.14626261591911316, 0.012526636011898518, 0.03326224163174629, 0.401700884103775], [0.006417546421289444, 0.012694969773292542, 0.005870488937944174, 0.01932014711201191, 0.0441707968711853, 0.9115260243415833], [0.008580639958381653, 0.008115841075778008, 0.002575002145022154, 0.006158119533210993, 0.03895929455757141, 0.9356111288070679]]], [[[0.06423324346542358, 0.039532627910375595, 0.11981310695409775, 0.03875551372766495, 0.10797233134508133, 0.6296931505203247], [0.2894572913646698, 0.05115656554698944, 0.019242534413933754, 0.05703679099678993, 0.04515550285577774, 0.5379512906074524], [0.2301763892173767, 0.05772053077816963, 0.022540578618645668, 0.021724490448832512, 0.0348089337348938, 0.633029043674469], [0.14990726113319397, 0.0381171740591526, 0.0335737019777298, 0.027017436921596527, 0.052525442093610764, 0.698858916759491], [0.10325216501951218, 0.013767126016318798, 0.006380690727382898, 0.005535932257771492, 0.01032487116754055, 0.8607392311096191], [0.02392898127436638, 0.010303176008164883, 0.004791599698364735, 0.002903711749240756, 0.009364691562950611, 0.9487078785896301]], [[0.03561178594827652, 0.0873819887638092, 0.025806736201047897, 0.021801790222525597, 0.10119916498661041, 0.7281985282897949], [0.03753947466611862, 0.033153630793094635, 0.01227651908993721, 0.008728699758648872, 0.050986148416996, 0.8573155403137207], [0.013203422538936138, 0.010082096792757511, 0.004594902042299509, 0.0035188263282179832, 0.015835482627153397, 0.9527653455734253], [0.013533910736441612, 0.04770262911915779, 0.014391832984983921, 0.011096556670963764, 0.016006235033273697, 0.8972688913345337], [0.03235883265733719, 0.07165943086147308, 0.03102256916463375, 0.02215779945254326, 0.04326150193810463, 0.7995399236679077], [0.021253082901239395, 0.025145210325717926, 0.019759485498070717, 0.01872650533914566, 0.06203687936067581, 0.8530787825584412]], [[0.005624092184007168, 0.5233424305915833, 0.030912965536117554, 0.008013478480279446, 0.021877411752939224, 0.4102296829223633], [0.004459287505596876, 0.048008427023887634, 0.37018799781799316, 0.014306454919278622, 0.014938156120479107, 0.5480996370315552], [0.0011013676412403584, 0.02502281405031681, 0.009691749699413776, 0.04843622446060181, 0.014863763935863972, 0.9008840322494507], [0.0016036202432587743, 0.016440603882074356, 0.002630313392728567, 0.0059304144233465195, 0.3708019256591797, 0.6025931239128113], [0.030956942588090897, 0.037061259150505066, 0.0021707438863813877, 0.004588523413985968, 0.03130374476313591, 0.8939187526702881], [0.013459390960633755, 0.027430009096860886, 0.009593593887984753, 0.008602085523307323, 0.018716279417276382, 0.9221987128257751]], [[0.00398227060213685, 0.11708245426416397, 0.1411598175764084, 0.03322933241724968, 0.01762010157108307, 0.6869259476661682], [0.06560838222503662, 0.06607230752706528, 0.17224718630313873, 0.02548200637102127, 0.07857227325439453, 0.5920178890228271], [0.08783689886331558, 0.04519684240221977, 0.18663136661052704, 0.0412474162876606, 0.11354847997426987, 0.5255390405654907], [0.04470951482653618, 0.1788279414176941, 0.06530672311782837, 0.02442261576652527, 0.1818893998861313, 0.5048437714576721], [0.03286457806825638, 0.036421407014131546, 0.03625350445508957, 0.02444305829703808, 0.05126302316784859, 0.8187543749809265], [0.020748242735862732, 0.022086841985583305, 0.01154253724962473, 0.006587278563529253, 0.026107164099812508, 0.9129279255867004]], [[0.0037103688810020685, 0.13529780507087708, 0.17908047139644623, 0.028377803042531013, 0.08097745478153229, 0.5725561380386353], [0.00881801638752222, 0.07423608005046844, 0.044673483818769455, 0.006587741430848837, 0.02917109988629818, 0.8365136384963989], [0.004722745157778263, 0.07063610106706619, 0.03694263845682144, 0.004611328709870577, 0.010334349237382412, 0.872752845287323], [0.006217447575181723, 0.12447573244571686, 0.04908035695552826, 0.005903497338294983, 0.016181673854589462, 0.7981412410736084], [0.004462654236704111, 0.021070493385195732, 0.009930637665092945, 0.0029858597554266453, 0.01054420042783022, 0.9510061144828796], [0.011474008671939373, 0.027648596093058586, 0.015147012658417225, 0.00511730695143342, 0.017029935494065285, 0.9235830903053284]], [[0.04576614126563072, 0.14655336737632751, 0.17701685428619385, 0.023637505248188972, 0.05748157948255539, 0.5495445728302002], [0.0036313908640295267, 0.029721951112151146, 0.41850563883781433, 0.024333074688911438, 0.03672049194574356, 0.4870874881744385], [0.005341219250112772, 0.03396587446331978, 0.063938669860363, 0.09248147904872894, 0.10670800507068634, 0.6975647211074829], [0.0032220983412116766, 0.04627398028969765, 0.04008021205663681, 0.02865614742040634, 0.40258148312568665, 0.4791860580444336], [0.0040690409950912, 0.03679070994257927, 0.015450253151357174, 0.003245722269639373, 0.025154417380690575, 0.9152898788452148], [0.008686491288244724, 0.0276731438934803, 0.019926099106669426, 0.005929112434387207, 0.024158811196684837, 0.9136263132095337]], [[0.0047539458610117435, 0.008350249379873276, 0.004806092940270901, 0.009407317265868187, 0.012797427363693714, 0.9598849415779114], [0.07905469089746475, 0.03641226515173912, 0.01740991324186325, 0.0045763300731778145, 0.010195521637797356, 0.8523513078689575], [0.012940607033669949, 0.22551286220550537, 0.04038851708173752, 0.006673913449048996, 0.0038470474537461996, 0.710637092590332], [0.011650528758764267, 0.10579199343919754, 0.053020723164081573, 0.004498861730098724, 0.010222828015685081, 0.8148150444030762], [0.007633711211383343, 0.048372894525527954, 0.045339103788137436, 0.025357749313116074, 0.014147529378533363, 0.8591489791870117], [0.008498300798237324, 0.016277065500617027, 0.011385677382349968, 0.012717628851532936, 0.009800850413739681, 0.941320538520813]], [[0.11971420794725418, 0.06495005637407303, 0.11051221191883087, 0.0689040794968605, 0.07943427562713623, 0.5564851760864258], [0.044007807970047, 0.009992825798690319, 0.043907154351472855, 0.1138690859079361, 0.06085272133350372, 0.7273705005645752], [0.01880195550620556, 0.010252733714878559, 0.031802739948034286, 0.07556141912937164, 0.029049929231405258, 0.8345312476158142], [0.017753224819898605, 0.040287576615810394, 0.03694325312972069, 0.06209350377321243, 0.030027681961655617, 0.8128947615623474], [0.010166783817112446, 0.012767591513693333, 0.013009827584028244, 0.007846079766750336, 0.01261269673705101, 0.9435970783233643], [0.008100197650492191, 0.022869490087032318, 0.013267927803099155, 0.007569583598524332, 0.01353992149233818, 0.9346529245376587]], [[0.016365963965654373, 0.01814613677561283, 0.039050739258527756, 0.033765796571969986, 0.056591495871543884, 0.8360798358917236], [0.07740366458892822, 0.04031458869576454, 0.17158864438533783, 0.0864214077591896, 0.2883596122264862, 0.33591216802597046], [0.034790363162755966, 0.017490798607468605, 0.09613259881734848, 0.10262304544448853, 0.4014928936958313, 0.34747031331062317], [0.061324890702962875, 0.030010737478733063, 0.06653069704771042, 0.10296137630939484, 0.22711877524852753, 0.5120535492897034], [0.053851012140512466, 0.018360907211899757, 0.05095197260379791, 0.039224013686180115, 0.05398634821176529, 0.7836256623268127], [0.013727436773478985, 0.005607137456536293, 0.0052671292796730995, 0.0034134546294808388, 0.00856440607458353, 0.9634204506874084]], [[0.027319151908159256, 0.02480415441095829, 0.05713195726275444, 0.04029346629977226, 0.10282278805971146, 0.7476284503936768], [0.09072677791118622, 0.05400365963578224, 0.11087534576654434, 0.21849150955677032, 0.31213057041168213, 0.2137720286846161], [0.1454930603504181, 0.03444962948560715, 0.02816011942923069, 0.08146919310092926, 0.23448719084262848, 0.47594085335731506], [0.11215879768133163, 0.042393527925014496, 0.03589509427547455, 0.0438913069665432, 0.1479814201593399, 0.6176798343658447], [0.044327083975076675, 0.05365966632962227, 0.05093405023217201, 0.038888119161129, 0.0612589456140995, 0.7509322166442871], [0.014174029231071472, 0.01271087396889925, 0.010354243218898773, 0.006303754169493914, 0.017963752150535583, 0.9384933114051819]], [[0.006550706923007965, 0.025048527866601944, 0.011231751181185246, 0.019613265991210938, 0.11809349060058594, 0.819462239742279], [0.007185125723481178, 0.020013509318232536, 0.023674869909882545, 0.04006139934062958, 0.35850009322166443, 0.5505650043487549], [0.005593093112111092, 0.12402869760990143, 0.051391635090112686, 0.020896855741739273, 0.15571793913841248, 0.6423717737197876], [0.0071617006324231625, 0.29116231203079224, 0.10580794513225555, 0.027855586260557175, 0.20283454656600952, 0.3651779294013977], [0.008436640724539757, 0.29062408208847046, 0.16198180615901947, 0.018161959946155548, 0.060597773641347885, 0.4601977467536926], [0.002930506831035018, 0.013688599690794945, 0.0076781404204666615, 0.005349238868802786, 0.02569282054901123, 0.9446607232093811]], [[0.015687614679336548, 0.0022369467187672853, 0.002837895415723324, 0.0015723119722679257, 0.012695243582129478, 0.964970052242279], [0.059156157076358795, 0.01523548923432827, 0.02159232459962368, 0.013967105187475681, 0.041118647903203964, 0.848930299282074], [0.06411686539649963, 0.019037244841456413, 0.015553787350654602, 0.010647092014551163, 0.022246990352869034, 0.8683980703353882], [0.1397342085838318, 0.06710319221019745, 0.0827438160777092, 0.01830412819981575, 0.016877202317118645, 0.6752374768257141], [0.07403564453125, 0.043606266379356384, 0.05472806096076965, 0.04168207198381424, 0.04725046828389168, 0.7386974692344666], [0.010423533618450165, 0.012304351665079594, 0.0070054177194833755, 0.006200844421982765, 0.02113695628941059, 0.9429288506507874]]], [[[0.021503044292330742, 0.13968466222286224, 0.09889070689678192, 0.0434303879737854, 0.09067895263433456, 0.6058122515678406], [0.007518355268985033, 0.11206372082233429, 0.02794993296265602, 0.019011463969945908, 0.18045111000537872, 0.6530054807662964], [0.009395386092364788, 0.05212831497192383, 0.13667717576026917, 0.04380308464169502, 0.11932215839624405, 0.6386739611625671], [0.006150690373033285, 0.029163340106606483, 0.042413726449012756, 0.0630882978439331, 0.406795471906662, 0.4523884952068329], [0.00948483869433403, 0.0164377111941576, 0.0060683805495500565, 0.002472012070938945, 0.3978216350078583, 0.5677154064178467], [0.0015810435870662332, 0.030819052830338478, 0.012080083601176739, 0.010872060433030128, 0.08442146331071854, 0.8602263331413269]], [[0.026581676676869392, 0.03934292867779732, 0.019133172929286957, 0.020302703604102135, 0.05022665485739708, 0.8444128036499023], [0.10879549384117126, 0.02340695820748806, 0.008998706005513668, 0.01148358453065157, 0.0551556721329689, 0.7921595573425293], [0.10817261040210724, 0.05964454263448715, 0.018607188016176224, 0.0400257371366024, 0.19679664075374603, 0.5767531991004944], [0.19384483993053436, 0.05180496349930763, 0.02141650952398777, 0.03356262296438217, 0.15769854187965393, 0.5416725277900696], [0.07146347314119339, 0.0513855405151844, 0.020785093307495117, 0.011414609849452972, 0.006344084162265062, 0.8386071920394897], [0.09514044970273972, 0.03906887024641037, 0.01967032253742218, 0.014740809798240662, 0.0567467138171196, 0.7746328711509705]], [[0.003974455408751965, 0.0057007428258657455, 0.011850598268210888, 0.004313117824494839, 0.005881888791918755, 0.9682791233062744], [0.00842127576470375, 0.024005359038710594, 0.07877013087272644, 0.031473562121391296, 0.09245167672634125, 0.76487797498703], [0.02778697945177555, 0.02269352413713932, 0.029158221557736397, 0.019230663776397705, 0.09667963534593582, 0.8044509887695312], [0.05375215783715248, 0.06543823331594467, 0.13329151272773743, 0.04952666908502579, 0.12452235817909241, 0.5734691023826599], [0.025305598974227905, 0.01520492136478424, 0.04521634429693222, 0.03139279782772064, 0.04224889352917671, 0.8406314253807068], [0.011983961798250675, 0.034163445234298706, 0.08280407637357712, 0.031032035127282143, 0.10820816457271576, 0.7318083643913269]], [[0.018505802378058434, 0.0510290265083313, 0.06243877485394478, 0.08632738888263702, 0.03213680908083916, 0.7495622038841248], [0.08322341740131378, 0.05911586806178093, 0.09512006491422653, 0.017439136281609535, 0.016823016107082367, 0.7282785773277283], [0.08486280590295792, 0.09932401776313782, 0.03950412571430206, 0.009572925977408886, 0.011734012514352798, 0.7550021409988403], [0.10365995019674301, 0.07257962971925735, 0.07850322872400284, 0.01579507254064083, 0.04204026237130165, 0.6874218583106995], [0.11639008671045303, 0.15381582081317902, 0.10002326220273972, 0.17735148966312408, 0.06653410196304321, 0.38588523864746094], [0.1413254588842392, 0.08836501091718674, 0.06696063280105591, 0.04360754415392876, 0.05429784208536148, 0.60544353723526]], [[0.1733253449201584, 0.019059674814343452, 0.011441831476986408, 0.010601398535072803, 0.047952357679605484, 0.7376194596290588], [0.16129423677921295, 0.15156590938568115, 0.059244535863399506, 0.03917047008872032, 0.08103212714195251, 0.5076927542686462], [0.14985179901123047, 0.15756815671920776, 0.023493876680731773, 0.018988031893968582, 0.1392236053943634, 0.5108744502067566], [0.022310905158519745, 0.11775415390729904, 0.02926679141819477, 0.02365531027317047, 0.12352339178323746, 0.6834894418716431], [0.006052594631910324, 0.02704155445098877, 0.01706792786717415, 0.02162366732954979, 0.028209827840328217, 0.9000043869018555], [0.04577699676156044, 0.04360144957900047, 0.029712006449699402, 0.01475752517580986, 0.10765250772237778, 0.7584995031356812]], [[0.022917669266462326, 0.03795410692691803, 0.018744349479675293, 0.02665276825428009, 0.02560642920434475, 0.8681246638298035], [0.008512445725500584, 0.09030859917402267, 0.15475820004940033, 0.09121343493461609, 0.38222041726112366, 0.2729869782924652], [0.012594296596944332, 0.08296899497509003, 0.10391706228256226, 0.050549112260341644, 0.3046366274356842, 0.44533392786979675], [0.0054472885094583035, 0.1605672538280487, 0.13695202767848969, 0.05711919814348221, 0.33295369148254395, 0.3069605231285095], [0.005243627354502678, 0.061990056186914444, 0.04945133998990059, 0.02711348794400692, 0.1696195751428604, 0.6865819096565247], [0.017606301233172417, 0.16368882358074188, 0.16546902060508728, 0.09205689281225204, 0.2235141396522522, 0.33766481280326843]], [[0.05505099520087242, 0.04006415605545044, 0.04291203245520592, 0.018326975405216217, 0.17462757229804993, 0.6690182685852051], [0.45792078971862793, 0.1338338851928711, 0.05810057744383812, 0.020632529631257057, 0.013235487043857574, 0.31627675890922546], [0.2235751897096634, 0.02330007776618004, 0.3124053180217743, 0.030085774138569832, 0.01797628588974476, 0.3926573097705841], [0.2809370160102844, 0.020064204931259155, 0.01655837707221508, 0.22757567465305328, 0.015712615102529526, 0.4391520917415619], [0.08829734474420547, 0.013570587150752544, 0.014613128267228603, 0.04196007177233696, 0.3037535548210144, 0.5378053188323975], [0.05966908857226372, 0.028858188539743423, 0.023872502148151398, 0.017418479546904564, 0.03952832520008087, 0.8306534290313721]], [[0.01669302023947239, 0.04640078544616699, 0.021037282422184944, 0.028121352195739746, 0.07538191229104996, 0.8123656511306763], [0.003708513453602791, 0.032074254006147385, 0.0808626115322113, 0.02795015461742878, 0.29954612255096436, 0.5558583736419678], [0.0049180095084011555, 0.05660543218255043, 0.038736145943403244, 0.016840219497680664, 0.27851903438568115, 0.6043812036514282], [0.0033715323079377413, 0.05099645256996155, 0.030912436544895172, 0.018053222447633743, 0.47559836506843567, 0.4210679829120636], [0.002155342837795615, 0.021970119327306747, 0.013954386115074158, 0.0066538406535983086, 0.20214861631393433, 0.7531177401542664], [0.004046889021992683, 0.019322140142321587, 0.02218838408589363, 0.013277711346745491, 0.11738835275173187, 0.8237764835357666]], [[0.06875170022249222, 0.19337685406208038, 0.19082754850387573, 0.13191907107830048, 0.17572586238384247, 0.23939894139766693], [0.08948063105344772, 0.322975754737854, 0.23592336475849152, 0.059458911418914795, 0.025147942826151848, 0.26701343059539795], [0.03260698541998863, 0.07372584193944931, 0.5949121713638306, 0.046336375176906586, 0.007633976638317108, 0.24478457868099213], [0.041731078177690506, 0.1257115751504898, 0.28640687465667725, 0.17927713692188263, 0.057788800448179245, 0.30908453464508057], [0.10930880159139633, 0.019973263144493103, 0.038978561758995056, 0.020449800416827202, 0.23475711047649384, 0.5765324234962463], [0.1828160136938095, 0.13081172108650208, 0.12814265489578247, 0.11945261806249619, 0.09218145906925201, 0.34659555554389954]], [[0.04557975009083748, 0.021538205444812775, 0.018678076565265656, 0.015699520707130432, 0.0648539662361145, 0.8336504697799683], [0.0831240639090538, 0.07348252087831497, 0.03301898017525673, 0.0429447777569294, 0.046742700040340424, 0.7206869721412659], [0.022204434499144554, 0.3373812437057495, 0.03346696123480797, 0.02510780468583107, 0.03739745542407036, 0.5444421172142029], [0.03406035527586937, 0.11077495664358139, 0.06589867919683456, 0.024007674306631088, 0.017484724521636963, 0.7477735877037048], [0.03885665535926819, 0.06817438453435898, 0.028705665841698647, 0.14321433007717133, 0.09690915793180466, 0.6241397857666016], [0.05020929127931595, 0.09823188930749893, 0.04419304430484772, 0.017084650695323944, 0.0449407733976841, 0.7453403472900391]], [[0.030328432098031044, 0.02050730027258396, 0.02506142668426037, 0.019202781841158867, 0.020305287092924118, 0.8845947980880737], [0.2879427373409271, 0.06786705553531647, 0.08809296786785126, 0.12676507234573364, 0.10994516313076019, 0.31938695907592773], [0.18200084567070007, 0.03685391694307327, 0.03164460137486458, 0.04351608455181122, 0.12790201604366302, 0.5780825018882751], [0.19286292791366577, 0.05354810878634453, 0.08530806005001068, 0.05737227946519852, 0.22569024562835693, 0.38521838188171387], [0.03407637029886246, 0.005092600826174021, 0.006418322678655386, 0.001578548806719482, 0.010509146377444267, 0.9423249959945679], [0.06143982335925102, 0.06347852945327759, 0.10524377226829529, 0.02539900876581669, 0.12412089109420776, 0.6203179955482483]], [[0.17534750699996948, 0.08168625831604004, 0.05784200504422188, 0.09607189893722534, 0.07069922983646393, 0.5183531045913696], [0.10672997683286667, 0.03283414989709854, 0.06134139373898506, 0.08450601249933243, 0.09584085643291473, 0.6187475919723511], [0.08603488653898239, 0.03577740117907524, 0.007845542393624783, 0.03563515096902847, 0.10941585153341293, 0.7252910733222961], [0.1429908126592636, 0.1406654566526413, 0.04809463396668434, 0.03249431774020195, 0.1262035220861435, 0.5095512866973877], [0.05336983874440193, 0.03751137852668762, 0.05199652537703514, 0.0364110954105854, 0.011858037672936916, 0.8088531494140625], [0.25302332639694214, 0.11516053974628448, 0.13039548695087433, 0.1061391532421112, 0.18608124554157257, 0.20920023322105408]]], [[[0.06716915965080261, 0.2638779282569885, 0.20475618541240692, 0.20615622401237488, 0.0562104806303978, 0.2018299698829651], [0.10161319375038147, 0.3634905219078064, 0.13320019841194153, 0.04822031781077385, 0.03290996327996254, 0.3205658197402954], [0.11691945046186447, 0.26142725348472595, 0.12101839482784271, 0.028802620247006416, 0.04511578381061554, 0.4267165958881378], [0.09592661261558533, 0.20645220577716827, 0.1313893049955368, 0.08626361191272736, 0.052772920578718185, 0.42719537019729614], [0.035774316638708115, 0.046654023230075836, 0.043621353805065155, 0.03472491353750229, 0.09868253022432327, 0.7405428290367126], [0.02032330259680748, 0.021220561116933823, 0.022967828437685966, 0.029307352378964424, 0.08585656434297562, 0.8203244209289551]], [[0.012982173822820187, 0.05229869484901428, 0.03621862083673477, 0.03255583718419075, 0.04364078491926193, 0.8223038911819458], [0.001251781708560884, 0.004526912700384855, 0.002404620870947838, 0.0005474606296047568, 0.0266056377440691, 0.964663565158844], [0.0013556942576542497, 0.002557366853579879, 0.018911294639110565, 0.0011016781209036708, 0.02832125686109066, 0.9477526545524597], [0.0003732412005774677, 0.0009274830808863044, 0.00331137771718204, 0.0009534897981211543, 0.05381646379828453, 0.9406179785728455], [0.0008679030579514802, 0.0010445085354149342, 0.0012489892542362213, 0.000283221947029233, 0.21681572496891022, 0.7797396779060364], [0.0022971946746110916, 0.0015156440204009414, 0.0013432177947834134, 0.0004221147974021733, 0.009339442476630211, 0.9850823879241943]], [[0.023852646350860596, 0.05666027218103409, 0.061164531856775284, 0.030545363202691078, 0.12845541536808014, 0.6993217468261719], [0.04618213325738907, 0.04375914856791496, 0.024589816108345985, 0.008615351282060146, 0.015028671361505985, 0.8618249297142029], [0.02670053206384182, 0.008500024676322937, 0.007704729679971933, 0.0017611653311178088, 0.007691617589443922, 0.9476419687271118], [0.06617327779531479, 0.03596861660480499, 0.04250078275799751, 0.014802977442741394, 0.04310649260878563, 0.797447919845581], [0.14217127859592438, 0.057157471776008606, 0.05186386778950691, 0.04774032533168793, 0.1052156388759613, 0.595851480960846], [0.033265333622694016, 0.05688207969069481, 0.020650621503591537, 0.014729968272149563, 0.037816740572452545, 0.8366551995277405]], [[0.06823001801967621, 0.015494267456233501, 0.005358763970434666, 0.022557033225893974, 0.14563380181789398, 0.7427260279655457], [0.03267231956124306, 0.005673873703926802, 0.00095021678134799, 0.0067895143292844296, 0.054128263145685196, 0.8997858166694641], [0.018342891708016396, 0.0014703053748235106, 8.438531949650496e-05, 0.002800661139190197, 0.029675887897610664, 0.9476258754730225], [0.06844969838857651, 0.0081042954698205, 0.0018026153557002544, 0.004673996940255165, 0.03080887906253338, 0.8861604928970337], [0.053658612072467804, 0.035233478993177414, 0.010470452718436718, 0.01168788317590952, 0.012091144919395447, 0.8768584132194519], [0.20002304017543793, 0.10753030329942703, 0.13147743046283722, 0.12065576761960983, 0.26617631316185, 0.1741371601819992]], [[0.04984885826706886, 0.3514614403247833, 0.10458461940288544, 0.12483656406402588, 0.2341858148574829, 0.13508270680904388], [0.1507350504398346, 0.009139154106378555, 0.007573120761662722, 0.005284533835947514, 0.06658295542001724, 0.7606852054595947], [0.06517777591943741, 0.012912428006529808, 0.007831552065908909, 0.003754514269530773, 0.02942398376762867, 0.8808997273445129], [0.3139500319957733, 0.07469528168439865, 0.04303567111492157, 0.016092682257294655, 0.09534655511379242, 0.4568798243999481], [0.18928803503513336, 0.09309457242488861, 0.05275406688451767, 0.04727758467197418, 0.06249382719397545, 0.5550918579101562], [0.005429810844361782, 0.0039918916299939156, 0.004714710637927055, 0.0021609277464449406, 0.019769510254263878, 0.9639331698417664]], [[0.02618306130170822, 0.10442467778921127, 0.0551103912293911, 0.031983382999897, 0.07360637933015823, 0.7086920738220215], [0.00206507439725101, 0.02511647529900074, 0.019934674724936485, 0.0024527504574507475, 0.02361413836479187, 0.9268169403076172], [0.0011845927219837904, 0.014352168887853622, 0.18344655632972717, 0.004508362617343664, 0.018902525305747986, 0.7776058316230774], [0.0019461398478597403, 0.01872314140200615, 0.03672458976507187, 0.03392578288912773, 0.08586522936820984, 0.8228150606155396], [0.0007333946996368468, 0.0073422328568995, 0.005887871608138084, 0.00789684895426035, 0.09624950587749481, 0.8818901777267456], [0.0013888099929317832, 0.01147073321044445, 0.007068298757076263, 0.0036685187369585037, 0.02620655484497547, 0.9501971006393433]], [[0.036754876375198364, 0.4178955554962158, 0.20193511247634888, 0.046172790229320526, 0.08271834999322891, 0.21452340483665466], [0.1477518081665039, 0.20245391130447388, 0.03905562311410904, 0.004952539689838886, 0.19651928544044495, 0.4092668294906616], [0.11568289250135422, 0.0540589839220047, 0.014398111961781979, 0.002105776686221361, 0.4286564588546753, 0.38509780168533325], [0.07938279211521149, 0.037358980625867844, 0.007505773101001978, 0.002407481661066413, 0.6151045560836792, 0.25824040174484253], [0.012313016690313816, 0.01572929322719574, 0.0035914576146751642, 0.0020607165060937405, 0.3414360284805298, 0.6248694658279419], [0.009443417191505432, 0.017272289842367172, 0.00414628628641367, 0.001635075081139803, 0.02797146886587143, 0.9395313858985901]], [[0.019466372206807137, 0.17509105801582336, 0.20629173517227173, 0.06009515002369881, 0.07504188269376755, 0.46401387453079224], [0.02308851294219494, 0.03724920377135277, 0.011302086524665356, 0.016969095915555954, 0.048907794058322906, 0.8624832630157471], [0.03575209155678749, 0.021702922880649567, 0.0023676834534853697, 0.009542684070765972, 0.065645731985569, 0.8649888038635254], [0.034900516271591187, 0.08232384920120239, 0.021587390452623367, 0.035602640360593796, 0.10322711616754532, 0.7223585247993469], [0.017296748235821724, 0.07881537824869156, 0.03707657381892204, 0.014402909204363823, 0.016009017825126648, 0.8363993763923645], [0.006821999792009592, 0.011888115666806698, 0.01919146440923214, 0.009975021705031395, 0.029401713982224464, 0.9227217435836792]], [[0.0029159451369196177, 0.18052396178245544, 0.059231702238321304, 0.02389609068632126, 0.049665290862321854, 0.6837670207023621], [0.011311705224215984, 0.12856920063495636, 0.10009671002626419, 0.014572490938007832, 0.0931168645620346, 0.6523329615592957], [0.015040804632008076, 0.12101233005523682, 0.18763038516044617, 0.0271330326795578, 0.03389715775847435, 0.6152862906455994], [0.01568908616900444, 0.07284212857484818, 0.048056066036224365, 0.04445948451757431, 0.3856196105480194, 0.43333354592323303], [0.006811230443418026, 0.018544556573033333, 0.004779118113219738, 0.016156041994690895, 0.10570785403251648, 0.84800124168396], [0.052156273275613785, 0.06191311404109001, 0.03649057075381279, 0.0334535576403141, 0.04992350935935974, 0.7660629153251648]], [[0.012963248416781425, 0.032113075256347656, 0.005861847195774317, 0.006471405271440744, 0.04876276105642319, 0.8938276171684265], [0.0007900833152234554, 0.06370674818754196, 0.014787521213293076, 0.00127198058180511, 0.017017357051372528, 0.9024262428283691], [0.0007130141602829099, 0.018291715532541275, 0.33573004603385925, 0.0020419296342879534, 0.01038991380482912, 0.6328333616256714], [0.0010716698598116636, 0.01693451963365078, 0.05914182960987091, 0.03482924401760101, 0.0283533725887537, 0.8596693277359009], [0.0008431964670307934, 0.004581313580274582, 0.0060102930292487144, 0.0013242678251117468, 0.306503027677536, 0.6807379126548767], [0.00030873657669872046, 0.0019009982934221625, 0.0015004025772213936, 0.0005176235572434962, 0.009638017974793911, 0.9861342310905457]], [[0.027939025312662125, 0.14581945538520813, 0.32245373725891113, 0.16742470860481262, 0.12178468704223633, 0.21457840502262115], [0.20732596516609192, 0.6328468918800354, 0.12375489622354507, 0.008806769736111164, 0.022343814373016357, 0.004921727813780308], [0.1811397671699524, 0.018315721303224564, 0.7908910512924194, 0.0036582655739039183, 0.005438016261905432, 0.0005572708905674517], [0.32370099425315857, 0.02136426977813244, 0.11895569413900375, 0.14471207559108734, 0.38284024596214294, 0.008426719345152378], [0.29487550258636475, 0.010972971096634865, 0.00318220816552639, 0.004441523924469948, 0.6799094080924988, 0.006618381943553686], [0.15435409545898438, 0.1506049484014511, 0.14580108225345612, 0.11323554068803787, 0.20372849702835083, 0.23227587342262268]], [[0.05716872587800026, 0.28427809476852417, 0.1890055239200592, 0.07425593584775925, 0.14551809430122375, 0.24977365136146545], [0.0032042814418673515, 0.08629229664802551, 0.12421280145645142, 0.03623387590050697, 0.23367778956890106, 0.5163789987564087], [0.0020923251286149025, 0.06914445757865906, 0.050319604575634, 0.015123625285923481, 0.1265566349029541, 0.7367633581161499], [0.0017098101088777184, 0.18593019247055054, 0.10586697608232498, 0.016119061037898064, 0.1552148312330246, 0.535159170627594], [0.009550211019814014, 0.06989366561174393, 0.0939975306391716, 0.02987692505121231, 0.07482317835092545, 0.7218585014343262], [0.05151425302028656, 0.01366101112216711, 0.010963905602693558, 0.005106889642775059, 0.0155319320037961, 0.9032219648361206]]], [[[0.30576619505882263, 0.03442174941301346, 0.022107267752289772, 0.011056256480515003, 0.06118490919470787, 0.5654636025428772], [0.01145240105688572, 0.00642029196023941, 0.004408500622957945, 0.005538333207368851, 0.016688469797372818, 0.9554919600486755], [0.012574760243296623, 0.005841379519551992, 0.004469174891710281, 0.006533499341458082, 0.02661881223320961, 0.9439623355865479], [0.007521294988691807, 0.006967640016227961, 0.005866043269634247, 0.005406415555626154, 0.023942260071635246, 0.9502963423728943], [0.040253203362226486, 0.009164290502667427, 0.012200084514915943, 0.012599950656294823, 0.07242181152105331, 0.853360652923584], [0.007858474738895893, 0.0039686704985797405, 0.0043510259129107, 0.005508251488208771, 0.01445839274674654, 0.9638552069664001]], [[0.29467156529426575, 0.06758234649896622, 0.07233484089374542, 0.0834122970700264, 0.1471320539712906, 0.3348669111728668], [0.0322888009250164, 0.017160246148705482, 0.02707306295633316, 0.024566225707530975, 0.041743118315935135, 0.8571685552597046], [0.01979769766330719, 0.026913858950138092, 0.018056074157357216, 0.016405891627073288, 0.04825448989868164, 0.8705719709396362], [0.026916947215795517, 0.06978195905685425, 0.02998216263949871, 0.01822870969772339, 0.06225794181227684, 0.7928323149681091], [0.06664711982011795, 0.06297966837882996, 0.0826922059059143, 0.05769418552517891, 0.0468825101852417, 0.6831042766571045], [0.007588761392980814, 0.010910015553236008, 0.01074092648923397, 0.013607132248580456, 0.020119279623031616, 0.9370338320732117]], [[0.1535772681236267, 0.23757191002368927, 0.14600495994091034, 0.2335457056760788, 0.1096583679318428, 0.11964179575443268], [0.09138770401477814, 0.21630381047725677, 0.1329008936882019, 0.08381806313991547, 0.04878947138786316, 0.42680004239082336], [0.03727557137608528, 0.1050577163696289, 0.1182081401348114, 0.19068755209445953, 0.07363622635602951, 0.4751347601413727], [0.05379674583673477, 0.11513891816139221, 0.14684678614139557, 0.3831634521484375, 0.10368549078702927, 0.19736863672733307], [0.018295811489224434, 0.0683719590306282, 0.06225839629769325, 0.06804991513490677, 0.11293769627809525, 0.6700862050056458], [0.01657085306942463, 0.011207273229956627, 0.014496976509690285, 0.019350148737430573, 0.025169407948851585, 0.9132053256034851]], [[0.11692624539136887, 0.23789629340171814, 0.1841161996126175, 0.14655530452728271, 0.18226882815361023, 0.13223712146282196], [0.037162136286497116, 0.038867704570293427, 0.03992475941777229, 0.028914527967572212, 0.032782815396785736, 0.8223480582237244], [0.018574120476841927, 0.019456375390291214, 0.01551771815866232, 0.015626151114702225, 0.017394965514540672, 0.9134306311607361], [0.09507158398628235, 0.0775921642780304, 0.028353283181786537, 0.06337755918502808, 0.03784910961985588, 0.6977563500404358], [0.019995562732219696, 0.016621047630906105, 0.012201367877423763, 0.01676667295396328, 0.0563749223947525, 0.8780403733253479], [0.009185666218400002, 0.004588573705404997, 0.003422168083488941, 0.003896658541634679, 0.009819624945521355, 0.9690873622894287]], [[0.06368224322795868, 0.15935568511486053, 0.2347663938999176, 0.09968412667512894, 0.345360666513443, 0.09715086221694946], [0.10318095237016678, 0.04724546894431114, 0.11317253112792969, 0.04382287710905075, 0.07373234629631042, 0.6188458800315857], [0.06502991169691086, 0.023481514304876328, 0.06938204169273376, 0.040612027049064636, 0.060109347105026245, 0.7413851022720337], [0.038047004491090775, 0.029097653925418854, 0.10899185389280319, 0.09143568575382233, 0.12637969851493835, 0.6060481071472168], [0.16112302243709564, 0.06488633900880814, 0.11166214942932129, 0.1065555140376091, 0.148333340883255, 0.407439649105072], [0.013940117321908474, 0.0030066019389778376, 0.00509636802598834, 0.005184988956898451, 0.005533582530915737, 0.9672383666038513]], [[0.022599495947360992, 0.0565221793949604, 0.12665848433971405, 0.04964302480220795, 0.6259134411811829, 0.11866339296102524], [0.029955223202705383, 0.08716467767953873, 0.04320017248392105, 0.05539735406637192, 0.15479277074337006, 0.6294897198677063], [0.03594690188765526, 0.05587714910507202, 0.09871700406074524, 0.04384496808052063, 0.2033909410238266, 0.5622230768203735], [0.03225090727210045, 0.06085106357932091, 0.04966490715742111, 0.07475191354751587, 0.17249733209609985, 0.6099838614463806], [0.05429264158010483, 0.08252855390310287, 0.06358525156974792, 0.05734884738922119, 0.25487613677978516, 0.4873686134815216], [0.008979124017059803, 0.009622552432119846, 0.009043327532708645, 0.012588880956172943, 0.023432064801454544, 0.9363340139389038]], [[0.46005237102508545, 0.04378949850797653, 0.03810499608516693, 0.17337153851985931, 0.0999641865491867, 0.18471741676330566], [0.05008592829108238, 0.01479093823581934, 0.008382510393857956, 0.03126927465200424, 0.062446478754282, 0.8330248594284058], [0.061282679438591, 0.01720036007463932, 0.024073105305433273, 0.04455491900444031, 0.09165532886981964, 0.7612336277961731], [0.07343683391809464, 0.03407315909862518, 0.02731546387076378, 0.05268174409866333, 0.08679458498954773, 0.7256981730461121], [0.10879221558570862, 0.02691713720560074, 0.022140711545944214, 0.050713565200567245, 0.18652431666851044, 0.6049121022224426], [0.013322633691132069, 0.008824886754155159, 0.007900761440396309, 0.006500528659671545, 0.02253561094403267, 0.940915584564209]], [[0.14997439086437225, 0.024954697117209435, 0.05061192438006401, 0.04527701437473297, 0.1995002180337906, 0.5296818017959595], [0.008342706598341465, 0.005347801838070154, 0.004883927293121815, 0.015003860928118229, 0.03080270066857338, 0.9356189370155334], [0.00805467739701271, 0.0033916113898158073, 0.0037367797922343016, 0.01074894517660141, 0.035080570727586746, 0.9389874935150146], [0.014553462155163288, 0.005439603701233864, 0.005412999074906111, 0.009750613011419773, 0.034570008516311646, 0.9302733540534973], [0.018256647512316704, 0.0067263212986290455, 0.014273497276008129, 0.013756384141743183, 0.055591337382793427, 0.8913958668708801], [0.001974139828234911, 0.0014610341750085354, 0.0023998129181563854, 0.003166389651596546, 0.012880462221801281, 0.9781181216239929]], [[0.33095964789390564, 0.2549239695072174, 0.10818628966808319, 0.13849115371704102, 0.10478905588388443, 0.06264988332986832], [0.091312475502491, 0.24384155869483948, 0.11459366977214813, 0.14917081594467163, 0.11816272139549255, 0.2829187512397766], [0.025989612564444542, 0.05874207988381386, 0.6381703615188599, 0.14640195667743683, 0.06666076928377151, 0.06403519958257675], [0.032053373754024506, 0.05766594037413597, 0.20456871390342712, 0.5394524931907654, 0.06979003548622131, 0.0964694619178772], [0.05048932507634163, 0.028531474992632866, 0.027848830446600914, 0.05385325103998184, 0.42544302344322205, 0.4138340950012207], [0.003503719810396433, 0.004282738547772169, 0.005651560612022877, 0.00544359628111124, 0.03476119413971901, 0.946357250213623]], [[0.32969385385513306, 0.17212440073490143, 0.15727168321609497, 0.17673224210739136, 0.11013655364513397, 0.05404121056199074], [0.2227720022201538, 0.18143635988235474, 0.13166095316410065, 0.10340864956378937, 0.053995080292224884, 0.30672696232795715], [0.1694609820842743, 0.07653765380382538, 0.19812631607055664, 0.12017007917165756, 0.028312431648373604, 0.40739256143569946], [0.16033533215522766, 0.10264700651168823, 0.15937139093875885, 0.28954368829727173, 0.05529081076383591, 0.2328118234872818], [0.09557873010635376, 0.11162537336349487, 0.06713222712278366, 0.11270663887262344, 0.12766258418560028, 0.4852944016456604], [0.02880564145743847, 0.010325445793569088, 0.007921446114778519, 0.005110695958137512, 0.02283363603055477, 0.9250031113624573]], [[0.010401937179267406, 0.07955038547515869, 0.05759016424417496, 0.025851480662822723, 0.2997148633003235, 0.5268911123275757], [0.007939077913761139, 0.016811160370707512, 0.014284768141806126, 0.0180568415671587, 0.02710793912410736, 0.9158002138137817], [0.01743970438838005, 0.0332145020365715, 0.03165384754538536, 0.038918230682611465, 0.06464741379022598, 0.8141262531280518], [0.017095908522605896, 0.04291367158293724, 0.025544192641973495, 0.04737255722284317, 0.04574716463685036, 0.821326494216919], [0.008764049969613552, 0.019423851743340492, 0.009003438986837864, 0.023161200806498528, 0.024385759606957436, 0.9152617454528809], [0.005527994129806757, 0.006022431887686253, 0.00644872197881341, 0.0063270991668105125, 0.009338116273283958, 0.966335654258728]], [[0.006764589808881283, 0.03822983056306839, 0.025182992219924927, 0.023844165727496147, 0.17430447041988373, 0.7316739559173584], [0.003999731969088316, 0.008255476132035255, 0.006383250467479229, 0.019108213484287262, 0.05004269629716873, 0.9122106432914734], [0.008084584958851337, 0.01633468270301819, 0.011483638547360897, 0.015964403748512268, 0.07774516940116882, 0.8703875541687012], [0.01017439179122448, 0.01969909854233265, 0.016556626185774803, 0.03316885232925415, 0.0568992979824543, 0.863501787185669], [0.03169040381908417, 0.03988899663090706, 0.06010470911860466, 0.108330637216568, 0.10524917393922806, 0.6547360420227051], [0.0022610581945627928, 0.004212193191051483, 0.005890141241252422, 0.007267512381076813, 0.02657780982553959, 0.9537913203239441]]]], \"left_text\": [\"[CLS]\", \"i\", \"am\", \"a\", \"dog\", \"[SEP]\"], \"right_text\": [\"[CLS]\", \"i\", \"am\", \"a\", \"dog\", \"[SEP]\"]}], \"default_filter\": \"0\", \"root_div_id\": \"bertviz-f4b9831fda97465c8ebc211ff9b446d9\", \"layer\": null, \"heads\": null, \"include_layers\": [0, 1, 2, 3, 4, 5, 6, 7, 8, 9, 10, 11]} is a template marker that is replaced by actual params.\n",
              "    const TEXT_SIZE = 15;\n",
              "    const BOXWIDTH = 110;\n",
              "    const BOXHEIGHT = 22.5;\n",
              "    const MATRIX_WIDTH = 115;\n",
              "    const CHECKBOX_SIZE = 20;\n",
              "    const TEXT_TOP = 30;\n",
              "\n",
              "    console.log(\"d3 version\", d3.version)\n",
              "    let headColors;\n",
              "    try {\n",
              "        headColors = d3.scaleOrdinal(d3.schemeCategory10);\n",
              "    } catch (err) {\n",
              "        console.log('Older d3 version')\n",
              "        headColors = d3.scale.category10();\n",
              "    }\n",
              "    let config = {};\n",
              "    initialize();\n",
              "    renderVis();\n",
              "\n",
              "    function initialize() {\n",
              "        config.attention = params['attention'];\n",
              "        config.filter = params['default_filter'];\n",
              "        config.rootDivId = params['root_div_id'];\n",
              "        config.nLayers = config.attention[config.filter]['attn'].length;\n",
              "        config.nHeads = config.attention[config.filter]['attn'][0].length;\n",
              "        config.layers = params['include_layers']\n",
              "\n",
              "        if (params['heads']) {\n",
              "            config.headVis = new Array(config.nHeads).fill(false);\n",
              "            params['heads'].forEach(x => config.headVis[x] = true);\n",
              "        } else {\n",
              "            config.headVis = new Array(config.nHeads).fill(true);\n",
              "        }\n",
              "        config.initialTextLength = config.attention[config.filter].right_text.length;\n",
              "        config.layer_seq = (params['layer'] == null ? 0 : config.layers.findIndex(layer => params['layer'] === layer));\n",
              "        config.layer = config.layers[config.layer_seq]\n",
              "\n",
              "        let layerEl = $(`#${config.rootDivId} #layer`);\n",
              "        for (const layer of config.layers) {\n",
              "            layerEl.append($(\"<option />\").val(layer).text(layer));\n",
              "        }\n",
              "        layerEl.val(config.layer).change();\n",
              "        layerEl.on('change', function (e) {\n",
              "            config.layer = +e.currentTarget.value;\n",
              "            config.layer_seq = config.layers.findIndex(layer => config.layer === layer);\n",
              "            renderVis();\n",
              "        });\n",
              "\n",
              "        $(`#${config.rootDivId} #filter`).on('change', function (e) {\n",
              "            config.filter = e.currentTarget.value;\n",
              "            renderVis();\n",
              "        });\n",
              "    }\n",
              "\n",
              "    function renderVis() {\n",
              "\n",
              "        // Load parameters\n",
              "        const attnData = config.attention[config.filter];\n",
              "        const leftText = attnData.left_text;\n",
              "        const rightText = attnData.right_text;\n",
              "\n",
              "        // Select attention for given layer\n",
              "        const layerAttention = attnData.attn[config.layer_seq];\n",
              "\n",
              "        // Clear vis\n",
              "        $(`#${config.rootDivId} #vis`).empty();\n",
              "\n",
              "        // Determine size of visualization\n",
              "        const height = Math.max(leftText.length, rightText.length) * BOXHEIGHT + TEXT_TOP;\n",
              "        const svg = d3.select(`#${config.rootDivId} #vis`)\n",
              "            .append('svg')\n",
              "            .attr(\"width\", \"100%\")\n",
              "            .attr(\"height\", height + \"px\");\n",
              "\n",
              "        // Display tokens on left and right side of visualization\n",
              "        renderText(svg, leftText, true, layerAttention, 0);\n",
              "        renderText(svg, rightText, false, layerAttention, MATRIX_WIDTH + BOXWIDTH);\n",
              "\n",
              "        // Render attention arcs\n",
              "        renderAttention(svg, layerAttention);\n",
              "\n",
              "        // Draw squares at top of visualization, one for each head\n",
              "        drawCheckboxes(0, svg, layerAttention);\n",
              "    }\n",
              "\n",
              "    function renderText(svg, text, isLeft, attention, leftPos) {\n",
              "\n",
              "        const textContainer = svg.append(\"svg:g\")\n",
              "            .attr(\"id\", isLeft ? \"left\" : \"right\");\n",
              "\n",
              "        // Add attention highlights superimposed over words\n",
              "        textContainer.append(\"g\")\n",
              "            .classed(\"attentionBoxes\", true)\n",
              "            .selectAll(\"g\")\n",
              "            .data(attention)\n",
              "            .enter()\n",
              "            .append(\"g\")\n",
              "            .attr(\"head-index\", (d, i) => i)\n",
              "            .selectAll(\"rect\")\n",
              "            .data(d => isLeft ? d : transpose(d)) // if right text, transpose attention to get right-to-left weights\n",
              "            .enter()\n",
              "            .append(\"rect\")\n",
              "            .attr(\"x\", function () {\n",
              "                var headIndex = +this.parentNode.getAttribute(\"head-index\");\n",
              "                return leftPos + boxOffsets(headIndex);\n",
              "            })\n",
              "            .attr(\"y\", (+1) * BOXHEIGHT)\n",
              "            .attr(\"width\", BOXWIDTH / activeHeads())\n",
              "            .attr(\"height\", BOXHEIGHT)\n",
              "            .attr(\"fill\", function () {\n",
              "                return headColors(+this.parentNode.getAttribute(\"head-index\"))\n",
              "            })\n",
              "            .style(\"opacity\", 0.0);\n",
              "\n",
              "        const tokenContainer = textContainer.append(\"g\").selectAll(\"g\")\n",
              "            .data(text)\n",
              "            .enter()\n",
              "            .append(\"g\");\n",
              "\n",
              "        // Add gray background that appears when hovering over text\n",
              "        tokenContainer.append(\"rect\")\n",
              "            .classed(\"background\", true)\n",
              "            .style(\"opacity\", 0.0)\n",
              "            .attr(\"fill\", \"lightgray\")\n",
              "            .attr(\"x\", leftPos)\n",
              "            .attr(\"y\", (d, i) => TEXT_TOP + i * BOXHEIGHT)\n",
              "            .attr(\"width\", BOXWIDTH)\n",
              "            .attr(\"height\", BOXHEIGHT);\n",
              "\n",
              "        // Add token text\n",
              "        const textEl = tokenContainer.append(\"text\")\n",
              "            .text(d => d)\n",
              "            .attr(\"font-size\", TEXT_SIZE + \"px\")\n",
              "            .style(\"cursor\", \"default\")\n",
              "            .style(\"-webkit-user-select\", \"none\")\n",
              "            .attr(\"x\", leftPos)\n",
              "            .attr(\"y\", (d, i) => TEXT_TOP + i * BOXHEIGHT);\n",
              "\n",
              "        if (isLeft) {\n",
              "            textEl.style(\"text-anchor\", \"end\")\n",
              "                .attr(\"dx\", BOXWIDTH - 0.5 * TEXT_SIZE)\n",
              "                .attr(\"dy\", TEXT_SIZE);\n",
              "        } else {\n",
              "            textEl.style(\"text-anchor\", \"start\")\n",
              "                .attr(\"dx\", +0.5 * TEXT_SIZE)\n",
              "                .attr(\"dy\", TEXT_SIZE);\n",
              "        }\n",
              "\n",
              "        tokenContainer.on(\"mouseover\", function (d, index) {\n",
              "\n",
              "            // Show gray background for moused-over token\n",
              "            textContainer.selectAll(\".background\")\n",
              "                .style(\"opacity\", (d, i) => i === index ? 1.0 : 0.0)\n",
              "\n",
              "            // Reset visibility attribute for any previously highlighted attention arcs\n",
              "            svg.select(\"#attention\")\n",
              "                .selectAll(\"line[visibility='visible']\")\n",
              "                .attr(\"visibility\", null)\n",
              "\n",
              "            // Hide group containing attention arcs\n",
              "            svg.select(\"#attention\").attr(\"visibility\", \"hidden\");\n",
              "\n",
              "            // Set to visible appropriate attention arcs to be highlighted\n",
              "            if (isLeft) {\n",
              "                svg.select(\"#attention\").selectAll(\"line[left-token-index='\" + index + \"']\").attr(\"visibility\", \"visible\");\n",
              "            } else {\n",
              "                svg.select(\"#attention\").selectAll(\"line[right-token-index='\" + index + \"']\").attr(\"visibility\", \"visible\");\n",
              "            }\n",
              "\n",
              "            // Update color boxes superimposed over tokens\n",
              "            const id = isLeft ? \"right\" : \"left\";\n",
              "            const leftPos = isLeft ? MATRIX_WIDTH + BOXWIDTH : 0;\n",
              "            svg.select(\"#\" + id)\n",
              "                .selectAll(\".attentionBoxes\")\n",
              "                .selectAll(\"g\")\n",
              "                .attr(\"head-index\", (d, i) => i)\n",
              "                .selectAll(\"rect\")\n",
              "                .attr(\"x\", function () {\n",
              "                    const headIndex = +this.parentNode.getAttribute(\"head-index\");\n",
              "                    return leftPos + boxOffsets(headIndex);\n",
              "                })\n",
              "                .attr(\"y\", (d, i) => TEXT_TOP + i * BOXHEIGHT)\n",
              "                .attr(\"width\", BOXWIDTH / activeHeads())\n",
              "                .attr(\"height\", BOXHEIGHT)\n",
              "                .style(\"opacity\", function (d) {\n",
              "                    const headIndex = +this.parentNode.getAttribute(\"head-index\");\n",
              "                    if (config.headVis[headIndex])\n",
              "                        if (d) {\n",
              "                            return d[index];\n",
              "                        } else {\n",
              "                            return 0.0;\n",
              "                        }\n",
              "                    else\n",
              "                        return 0.0;\n",
              "                });\n",
              "        });\n",
              "\n",
              "        textContainer.on(\"mouseleave\", function () {\n",
              "\n",
              "            // Unhighlight selected token\n",
              "            d3.select(this).selectAll(\".background\")\n",
              "                .style(\"opacity\", 0.0);\n",
              "\n",
              "            // Reset visibility attributes for previously selected lines\n",
              "            svg.select(\"#attention\")\n",
              "                .selectAll(\"line[visibility='visible']\")\n",
              "                .attr(\"visibility\", null) ;\n",
              "            svg.select(\"#attention\").attr(\"visibility\", \"visible\");\n",
              "\n",
              "            // Reset highlights superimposed over tokens\n",
              "            svg.selectAll(\".attentionBoxes\")\n",
              "                .selectAll(\"g\")\n",
              "                .selectAll(\"rect\")\n",
              "                .style(\"opacity\", 0.0);\n",
              "        });\n",
              "    }\n",
              "\n",
              "    function renderAttention(svg, attention) {\n",
              "\n",
              "        // Remove previous dom elements\n",
              "        svg.select(\"#attention\").remove();\n",
              "\n",
              "        // Add new elements\n",
              "        svg.append(\"g\")\n",
              "            .attr(\"id\", \"attention\") // Container for all attention arcs\n",
              "            .selectAll(\".headAttention\")\n",
              "            .data(attention)\n",
              "            .enter()\n",
              "            .append(\"g\")\n",
              "            .classed(\"headAttention\", true) // Group attention arcs by head\n",
              "            .attr(\"head-index\", (d, i) => i)\n",
              "            .selectAll(\".tokenAttention\")\n",
              "            .data(d => d)\n",
              "            .enter()\n",
              "            .append(\"g\")\n",
              "            .classed(\"tokenAttention\", true) // Group attention arcs by left token\n",
              "            .attr(\"left-token-index\", (d, i) => i)\n",
              "            .selectAll(\"line\")\n",
              "            .data(d => d)\n",
              "            .enter()\n",
              "            .append(\"line\")\n",
              "            .attr(\"x1\", BOXWIDTH)\n",
              "            .attr(\"y1\", function () {\n",
              "                const leftTokenIndex = +this.parentNode.getAttribute(\"left-token-index\")\n",
              "                return TEXT_TOP + leftTokenIndex * BOXHEIGHT + (BOXHEIGHT / 2)\n",
              "            })\n",
              "            .attr(\"x2\", BOXWIDTH + MATRIX_WIDTH)\n",
              "            .attr(\"y2\", (d, rightTokenIndex) => TEXT_TOP + rightTokenIndex * BOXHEIGHT + (BOXHEIGHT / 2))\n",
              "            .attr(\"stroke-width\", 2)\n",
              "            .attr(\"stroke\", function () {\n",
              "                const headIndex = +this.parentNode.parentNode.getAttribute(\"head-index\");\n",
              "                return headColors(headIndex)\n",
              "            })\n",
              "            .attr(\"left-token-index\", function () {\n",
              "                return +this.parentNode.getAttribute(\"left-token-index\")\n",
              "            })\n",
              "            .attr(\"right-token-index\", (d, i) => i)\n",
              "        ;\n",
              "        updateAttention(svg)\n",
              "    }\n",
              "\n",
              "    function updateAttention(svg) {\n",
              "        svg.select(\"#attention\")\n",
              "            .selectAll(\"line\")\n",
              "            .attr(\"stroke-opacity\", function (d) {\n",
              "                const headIndex = +this.parentNode.parentNode.getAttribute(\"head-index\");\n",
              "                // If head is selected\n",
              "                if (config.headVis[headIndex]) {\n",
              "                    // Set opacity to attention weight divided by number of active heads\n",
              "                    return d / activeHeads()\n",
              "                } else {\n",
              "                    return 0.0;\n",
              "                }\n",
              "            })\n",
              "    }\n",
              "\n",
              "    function boxOffsets(i) {\n",
              "        const numHeadsAbove = config.headVis.reduce(\n",
              "            function (acc, val, cur) {\n",
              "                return val && cur < i ? acc + 1 : acc;\n",
              "            }, 0);\n",
              "        return numHeadsAbove * (BOXWIDTH / activeHeads());\n",
              "    }\n",
              "\n",
              "    function activeHeads() {\n",
              "        return config.headVis.reduce(function (acc, val) {\n",
              "            return val ? acc + 1 : acc;\n",
              "        }, 0);\n",
              "    }\n",
              "\n",
              "    function drawCheckboxes(top, svg) {\n",
              "        const checkboxContainer = svg.append(\"g\");\n",
              "        const checkbox = checkboxContainer.selectAll(\"rect\")\n",
              "            .data(config.headVis)\n",
              "            .enter()\n",
              "            .append(\"rect\")\n",
              "            .attr(\"fill\", (d, i) => headColors(i))\n",
              "            .attr(\"x\", (d, i) => i * CHECKBOX_SIZE)\n",
              "            .attr(\"y\", top)\n",
              "            .attr(\"width\", CHECKBOX_SIZE)\n",
              "            .attr(\"height\", CHECKBOX_SIZE);\n",
              "\n",
              "        function updateCheckboxes() {\n",
              "            checkboxContainer.selectAll(\"rect\")\n",
              "                .data(config.headVis)\n",
              "                .attr(\"fill\", (d, i) => d ? headColors(i): lighten(headColors(i)));\n",
              "        }\n",
              "\n",
              "        updateCheckboxes();\n",
              "\n",
              "        checkbox.on(\"click\", function (d, i) {\n",
              "            if (config.headVis[i] && activeHeads() === 1) return;\n",
              "            config.headVis[i] = !config.headVis[i];\n",
              "            updateCheckboxes();\n",
              "            updateAttention(svg);\n",
              "        });\n",
              "\n",
              "        checkbox.on(\"dblclick\", function (d, i) {\n",
              "            // If we double click on the only active head then reset\n",
              "            if (config.headVis[i] && activeHeads() === 1) {\n",
              "                config.headVis = new Array(config.nHeads).fill(true);\n",
              "            } else {\n",
              "                config.headVis = new Array(config.nHeads).fill(false);\n",
              "                config.headVis[i] = true;\n",
              "            }\n",
              "            updateCheckboxes();\n",
              "            updateAttention(svg);\n",
              "        });\n",
              "    }\n",
              "\n",
              "    function lighten(color) {\n",
              "        const c = d3.hsl(color);\n",
              "        const increment = (1 - c.l) * 0.6;\n",
              "        c.l += increment;\n",
              "        c.s -= increment;\n",
              "        return c;\n",
              "    }\n",
              "\n",
              "    function transpose(mat) {\n",
              "        return mat[0].map(function (col, i) {\n",
              "            return mat.map(function (row) {\n",
              "                return row[i];\n",
              "            });\n",
              "        });\n",
              "    }\n",
              "\n",
              "});"
            ]
          },
          "metadata": {}
        }
      ]
    },
    {
      "cell_type": "markdown",
      "source": [
        "### Focusing on one layer\n",
        "\n",
        "Another very interesting insight that we can gather from the bertviz library is focusing on a specific layer. Basically, we can use the bertviz library to focus on the attention layer we suspect has a specific behaviour, in order to verify. For example, we noticed that the first attention head (index 0) of layer 3 (index 2) looks at the next token. We can zoom in on that by running:"
      ],
      "metadata": {
        "id": "vpkE82RZNxfm"
      }
    },
    {
      "cell_type": "code",
      "source": [
        "head_view(full_attention_layers, tokens=tokens, layer=encoder_index, heads=[0])"
      ],
      "metadata": {
        "colab": {
          "base_uri": "https://localhost:8080/",
          "height": 205
        },
        "id": "ATGBWvmO7iFj",
        "outputId": "ce9f4880-c449-40e7-e431-6b0cbbed3943"
      },
      "execution_count": 69,
      "outputs": [
        {
          "output_type": "display_data",
          "data": {
            "text/plain": [
              "<IPython.core.display.HTML object>"
            ],
            "text/html": [
              "<script src=\"https://cdnjs.cloudflare.com/ajax/libs/require.js/2.3.6/require.min.js\"></script>"
            ]
          },
          "metadata": {}
        },
        {
          "output_type": "display_data",
          "data": {
            "text/plain": [
              "<IPython.core.display.HTML object>"
            ],
            "text/html": [
              "      \n",
              "        <div id=\"bertviz-36c36e550ff14528bcd4eb4ef9eec64e\" style=\"font-family:'Helvetica Neue', Helvetica, Arial, sans-serif;\">\n",
              "            <span style=\"user-select:none\">\n",
              "                Layer: <select id=\"layer\"></select>\n",
              "                \n",
              "            </span>\n",
              "            <div id='vis'></div>\n",
              "        </div>\n",
              "    "
            ]
          },
          "metadata": {}
        },
        {
          "output_type": "display_data",
          "data": {
            "text/plain": [
              "<IPython.core.display.Javascript object>"
            ],
            "application/javascript": [
              "/**\n",
              " * @fileoverview Transformer Visualization D3 javascript code.\n",
              " *\n",
              " *\n",
              " *  Based on: https://github.com/tensorflow/tensor2tensor/blob/master/tensor2tensor/visualization/attention.js\n",
              " *\n",
              " * Change log:\n",
              " *\n",
              " * 12/19/18  Jesse Vig   Assorted cleanup. Changed orientation of attention matrices.\n",
              " * 12/29/20  Jesse Vig   Significant refactor.\n",
              " * 12/31/20  Jesse Vig   Support multiple visualizations in single notebook.\n",
              " * 02/06/21  Jesse Vig   Move require config from separate jupyter notebook step\n",
              " * 05/03/21  Jesse Vig   Adjust height of visualization dynamically\n",
              " * 07/25/21  Jesse Vig   Support layer filtering\n",
              " * 03/23/22  Daniel SC   Update requirement URLs for d3 and jQuery (source of bug not allowing end result to be displayed on browsers)\n",
              " **/\n",
              "\n",
              "require.config({\n",
              "  paths: {\n",
              "      d3: 'https://cdnjs.cloudflare.com/ajax/libs/d3/5.7.0/d3.min',\n",
              "    jquery: 'https://cdnjs.cloudflare.com/ajax/libs/jquery/2.0.0/jquery.min',\n",
              "  }\n",
              "});\n",
              "\n",
              "requirejs(['jquery', 'd3'], function ($, d3) {\n",
              "\n",
              "    const params = {\"attention\": [{\"name\": null, \"attn\": [[[[0.0928860604763031, 0.07870867103338242, 0.06559868901968002, 0.23379814624786377, 0.08259410411119461, 0.4464143216609955], [0.30768951773643494, 0.21612492203712463, 0.1173485517501831, 0.04728509113192558, 0.18124601244926453, 0.1303059458732605], [0.0861341655254364, 0.5792083740234375, 0.05681885778903961, 0.015865007415413857, 0.10424411296844482, 0.15772946178913116], [0.18614798784255981, 0.17308947443962097, 0.16077576577663422, 0.1480056643486023, 0.218534916639328, 0.11344622820615768], [0.16751131415367126, 0.3337230384349823, 0.10753551125526428, 0.044054169207811356, 0.250545859336853, 0.0966300442814827], [0.19304759800434113, 0.1438155472278595, 0.054793816059827805, 0.22052545845508575, 0.10741451382637024, 0.2804030179977417]], [[0.9367989897727966, 0.02192581258714199, 0.0053636725060641766, 0.01651214435696602, 0.011157375760376453, 0.008241955190896988], [0.016512447968125343, 0.0427868478000164, 0.22645120322704315, 0.04516793042421341, 0.589477002620697, 0.07960455864667892], [0.058409109711647034, 0.04397372528910637, 0.05659041553735733, 0.0928766131401062, 0.6237040162086487, 0.12444612383842468], [0.048502106219530106, 0.18161244690418243, 0.24012228846549988, 0.26434653997421265, 0.18060338497161865, 0.08481322973966599], [0.05353127792477608, 0.10994747281074524, 0.21234770119190216, 0.10056401044130325, 0.2876022160053253, 0.23600725829601288], [0.10882537811994553, 0.413420170545578, 0.08419664204120636, 0.2488684505224228, 0.06276124715805054, 0.0819280594587326]], [[0.8629083037376404, 0.03467416763305664, 0.017188750207424164, 0.02711775340139866, 0.007679253816604614, 0.05043185129761696], [0.7393059730529785, 0.0701119601726532, 0.0073152207769453526, 0.1080932542681694, 0.005289094056934118, 0.06988445669412613], [0.19554802775382996, 0.7677873373031616, 0.0057182833552360535, 0.01170940138399601, 0.01256546936929226, 0.006671485491096973], [0.34155791997909546, 0.10418685525655746, 0.3489305377006531, 0.1071261540055275, 0.0066610053181648254, 0.09153753519058228], [0.362093985080719, 0.015475907362997532, 0.09141334891319275, 0.44740450382232666, 0.05941495671868324, 0.02419731393456459], [0.6142456531524658, 0.04498671367764473, 0.010087802074849606, 0.07171092182397842, 0.08808168023824692, 0.17088718712329865]], [[0.7553550601005554, 0.039872799068689346, 0.07989072799682617, 0.055478598922491074, 0.03321606293320656, 0.036186691373586655], [0.4062483310699463, 0.21122899651527405, 0.1822820007801056, 0.09297267347574234, 0.03685547038912773, 0.07041248679161072], [0.01955045945942402, 0.9283328652381897, 0.03590698167681694, 0.007935341447591782, 0.005488965660333633, 0.0027854114305227995], [0.010268055833876133, 0.23694290220737457, 0.6025885343551636, 0.09449628740549088, 0.020197944715619087, 0.03550620749592781], [0.0464780330657959, 0.055083971470594406, 0.3041287660598755, 0.5215966701507568, 0.044265687465667725, 0.028446892276406288], [0.1140020415186882, 0.05890180915594101, 0.12668761610984802, 0.24784497916698456, 0.3766975402832031, 0.07586608827114105]], [[0.737416684627533, 0.04973762109875679, 0.06787222623825073, 0.02031460963189602, 0.04206610843539238, 0.08259274065494537], [0.16188335418701172, 0.054573528468608856, 0.2881043553352356, 0.12012872099876404, 0.2112332582473755, 0.16407673060894012], [0.4201063811779022, 0.17109882831573486, 0.06107937544584274, 0.09333689510822296, 0.12797631323337555, 0.12640219926834106], [0.1215948611497879, 0.14999276399612427, 0.1739867776632309, 0.18406394124031067, 0.14169850945472717, 0.22866316139698029], [0.22457970678806305, 0.17724290490150452, 0.11038686335086823, 0.1321430653333664, 0.07781249284744263, 0.2778349220752716], [0.036671534180641174, 0.004991467576473951, 0.006660944316536188, 0.014187772758305073, 0.007821200415492058, 0.929667055606842]], [[0.34942466020584106, 0.2842687666416168, 0.02527731843292713, 0.12913596630096436, 0.06976616382598877, 0.1421271115541458], [0.04854537546634674, 0.030784474685788155, 0.7284433841705322, 0.0890902727842331, 0.04925823211669922, 0.053878266364336014], [0.2982707917690277, 0.09008453041315079, 0.07055602967739105, 0.08287685364484787, 0.08394747972488403, 0.37426432967185974], [0.2898656725883484, 0.08049368113279343, 0.16573412716388702, 0.062418222427368164, 0.16141901910305023, 0.24006927013397217], [0.17164063453674316, 0.04485927149653435, 0.05890197679400444, 0.03919956833124161, 0.1804117113351822, 0.5049868822097778], [0.5545648336410522, 0.15643729269504547, 0.03183760493993759, 0.08510743081569672, 0.05456014722585678, 0.1174926832318306]], [[0.362624853849411, 0.0037609904538840055, 0.008082477375864983, 0.6166948080062866, 0.004172645974904299, 0.00466414587572217], [0.05903015658259392, 0.41132673621177673, 0.16059252619743347, 0.04075705260038376, 0.19058653712272644, 0.13770708441734314], [0.13676202297210693, 0.30917564034461975, 0.25592535734176636, 0.06000545993447304, 0.12805874645709991, 0.11007273942232132], [0.1407301127910614, 0.20897556841373444, 0.1457863748073578, 0.12080010026693344, 0.1917957067489624, 0.19191211462020874], [0.12072692811489105, 0.14036759734153748, 0.06180799752473831, 0.03219760209321976, 0.5597614049911499, 0.08513845503330231], [0.11892160773277283, 0.327243447303772, 0.11445504426956177, 0.04452606290578842, 0.09634723514318466, 0.2985066771507263]], [[0.6016019582748413, 0.04506247863173485, 0.04524168744683266, 0.0005839222576469183, 0.025573935359716415, 0.28193598985671997], [0.20968851447105408, 0.2971351146697998, 0.10653961449861526, 0.02121814712882042, 0.04204294830560684, 0.3233756422996521], [0.40595513582229614, 0.26752209663391113, 0.051750488579273224, 0.050354331731796265, 0.03580445051193237, 0.18861354887485504], [0.27679023146629333, 0.17107602953910828, 0.10354553163051605, 0.04122232273221016, 0.03345340117812157, 0.373912513256073], [0.5705951452255249, 0.05018104240298271, 0.09984654188156128, 0.032095182687044144, 0.2147051990032196, 0.03257681429386139], [0.3709836006164551, 0.17983652651309967, 0.06413741409778595, 0.2714652717113495, 0.04027915373444557, 0.07329799979925156]], [[0.5925676226615906, 0.008733822964131832, 0.024482013657689095, 0.3376426696777344, 0.021471453830599785, 0.015102332457900047], [0.014525237493216991, 0.08794161677360535, 0.1477801352739334, 0.06870543956756592, 0.20008276402950287, 0.4809648394584656], [0.06870131939649582, 0.09403044730424881, 0.044051751494407654, 0.06518315523862839, 0.47665902972221375, 0.2513742744922638], [0.007988381199538708, 0.19194619357585907, 0.06791263818740845, 0.032955482602119446, 0.23623871803283691, 0.46295860409736633], [0.03518791124224663, 0.1042134240269661, 0.1826152503490448, 0.053264863789081573, 0.1726093739271164, 0.4521092176437378], [0.15759949386119843, 0.08547341078519821, 0.06219363585114479, 0.5003045201301575, 0.09821992367506027, 0.09620898216962814]], [[0.2512436807155609, 0.19688773155212402, 0.14446428418159485, 0.2881247103214264, 0.06739473342895508, 0.05188489705324173], [0.2399117350578308, 0.41548091173171997, 0.13547497987747192, 0.03976921737194061, 0.04132149741053581, 0.12804169952869415], [0.33658352494239807, 0.1159617006778717, 0.2078610509634018, 0.024117017164826393, 0.2033592164516449, 0.11211742460727692], [0.6142271757125854, 0.04130451753735542, 0.05927802622318268, 0.025628842413425446, 0.10619997978210449, 0.15336143970489502], [0.35485178232192993, 0.009670642204582691, 0.034974973648786545, 0.016402849927544594, 0.420287162065506, 0.16381262242794037], [0.7145721912384033, 0.0797211304306984, 0.034159690141677856, 0.06506099551916122, 0.04950997233390808, 0.05697605386376381]], [[0.8756876587867737, 0.04365631192922592, 0.02093399316072464, 0.02246089279651642, 0.00949653796851635, 0.02776452526450157], [0.0005250217509455979, 0.004204702563583851, 0.9510661363601685, 0.018780363723635674, 0.009820298291742802, 0.01560349203646183], [0.002776655601337552, 0.11197464913129807, 0.0035801741760224104, 0.6082208156585693, 0.22710324823856354, 0.04634437337517738], [0.0002934469666797668, 0.0023743060883134604, 0.015107415616512299, 0.0065237898379564285, 0.9300063252449036, 0.045694708824157715], [0.062227100133895874, 0.004751491826027632, 0.015097077935934067, 0.04683728516101837, 0.02330128289759159, 0.8477857708930969], [0.28241512179374695, 0.037185654044151306, 0.01827424392104149, 0.05572858080267906, 0.16256387531757355, 0.44383254647254944]], [[0.8906042575836182, 0.01608801819384098, 0.006268263328820467, 0.044368546456098557, 0.0014001192757859826, 0.041270703077316284], [0.4092993438243866, 0.06895706802606583, 0.07932634651660919, 0.0867510512471199, 0.020214706659317017, 0.33545151352882385], [0.07430686056613922, 0.7252532839775085, 0.009405522607266903, 0.07950925081968307, 0.06992706656455994, 0.041598014533519745], [0.31509095430374146, 0.21086393296718597, 0.1109934151172638, 0.07868827134370804, 0.09729155153036118, 0.18707183003425598], [0.09692487120628357, 0.069739930331707, 0.09173400700092316, 0.07900726050138474, 0.16073206067085266, 0.5018618106842041], [0.6078309416770935, 0.1109553799033165, 0.008072427473962307, 0.08198671042919159, 0.02590283751487732, 0.16525162756443024]]], [[[0.5974670052528381, 0.027155503630638123, 0.010153635405004025, 0.0840291753411293, 0.20386767387390137, 0.07732689380645752], [0.04647426679730415, 0.04489060863852501, 0.8000558018684387, 0.0037761409766972065, 0.007048583123832941, 0.09775462001562119], [0.03673280030488968, 0.05203217640519142, 0.8541259169578552, 0.005855439696460962, 0.004547799937427044, 0.046705856919288635], [0.5936916470527649, 0.04793855920433998, 0.007789719384163618, 0.02154647558927536, 0.2364310324192047, 0.0926026701927185], [0.3872947096824646, 0.12856151163578033, 0.000763262971304357, 0.05743790417909622, 0.09213215112686157, 0.333810418844223], [0.5893453359603882, 0.031165767461061478, 0.02228614129126072, 0.09038463979959488, 0.1929236352443695, 0.07389457523822784]], [[0.787294864654541, 0.03324291110038757, 0.02796684205532074, 0.04048023000359535, 0.0070857517421245575, 0.10392936319112778], [0.08117793500423431, 0.0019788567442446947, 0.8990575671195984, 0.006666322238743305, 0.0008272634004242718, 0.010292054153978825], [0.13758373260498047, 0.01766636036336422, 0.011712133884429932, 0.7900158762931824, 0.00619587441906333, 0.03682602196931839], [0.16142719984054565, 0.015406649559736252, 0.022471757605671883, 0.06968984752893448, 0.6049760580062866, 0.12602844834327698], [0.29272595047950745, 0.0022295734379440546, 0.0213175006210804, 0.03553450107574463, 0.029354142025113106, 0.6188383102416992], [0.9387783408164978, 0.0019517391920089722, 0.0014278494054451585, 0.0023182881996035576, 0.00026370526757091284, 0.055260080844163895]], [[0.8949400782585144, 0.01903759501874447, 0.006956973113119602, 0.023820726200938225, 0.022657621651887894, 0.03258712589740753], [0.23804090917110443, 0.25122976303100586, 0.058541297912597656, 0.10261780023574829, 0.06714624166488647, 0.2824239730834961], [0.24822114408016205, 0.3620508015155792, 0.02897896245121956, 0.022652341052889824, 0.17639681696891785, 0.16169989109039307], [0.5393580198287964, 0.14650821685791016, 0.0687268003821373, 0.04816673696041107, 0.06107901781797409, 0.1361611783504486], [0.17931173741817474, 0.3956278860569, 0.1724565178155899, 0.07786223292350769, 0.040792856365442276, 0.13394884765148163], [0.5413697361946106, 0.19310502707958221, 0.018878435716032982, 0.02788994275033474, 0.054134804755449295, 0.16462209820747375]], [[0.8698304891586304, 0.01565122976899147, 0.0013464894145727158, 0.05850309133529663, 0.009098049253225327, 0.045570749789476395], [0.628261387348175, 0.023072682321071625, 0.13127347826957703, 0.05988490581512451, 0.09654475003480911, 0.06096278876066208], [0.4049872159957886, 0.038103096187114716, 0.32489556074142456, 0.06316554546356201, 0.08098180592060089, 0.08786681294441223], [0.7809880375862122, 0.019967839121818542, 0.02533288300037384, 0.05277972295880318, 0.052618660032749176, 0.06831291317939758], [0.5125242471694946, 0.035020798444747925, 0.019170325249433517, 0.09120642393827438, 0.09836982935667038, 0.24370841681957245], [0.9260607361793518, 0.011072988621890545, 0.002001773798838258, 0.03330603986978531, 0.010713312774896622, 0.01684519089758396]], [[0.7900875210762024, 0.016504285857081413, 0.02237343229353428, 0.08996383845806122, 0.013520167209208012, 0.06755080074071884], [0.9856870770454407, 0.005209882743656635, 0.0020935754291713238, 0.005671882536262274, 0.0008843468385748565, 0.00045337967458181083], [0.1968342512845993, 0.7086837291717529, 0.061485398560762405, 0.02141439914703369, 0.004105718340724707, 0.007476444821804762], [0.24201470613479614, 0.11879803240299225, 0.5976546406745911, 0.01754673197865486, 0.006341761443763971, 0.017644140869379044], [0.2323130965232849, 0.005911993328481913, 0.05357132479548454, 0.6717533469200134, 0.011478587053716183, 0.02497166208922863], [0.9003654718399048, 0.002263061935082078, 0.0012582071358337998, 0.016977699473500252, 0.015309533104300499, 0.06382599472999573]], [[0.8822976350784302, 0.005994223989546299, 0.005098434630781412, 0.011497045867145061, 0.01548643596470356, 0.07962630689144135], [0.25137192010879517, 0.017693283036351204, 0.1357862651348114, 0.012706754729151726, 0.025218326598405838, 0.5572234392166138], [0.27384012937545776, 0.05117850750684738, 0.01342033687978983, 0.062100742012262344, 0.03518340364098549, 0.5642768740653992], [0.3713287115097046, 0.03548489138484001, 0.03016582317650318, 0.26947110891342163, 0.16152985394001007, 0.13201966881752014], [0.4278179109096527, 0.11465606093406677, 0.010626263916492462, 0.3328500986099243, 0.026998598128557205, 0.08705104887485504], [0.7585208415985107, 0.013421012088656425, 0.015778828412294388, 0.025622403249144554, 0.04072530195116997, 0.1459316462278366]], [[0.9360389709472656, 0.003600317519158125, 0.004617481492459774, 0.010711080394685268, 0.0056758662685751915, 0.039356354624032974], [0.916976273059845, 0.0104736452922225, 0.02513771876692772, 0.015206276439130306, 0.007845438085496426, 0.024360595270991325], [0.766474187374115, 0.010062379762530327, 0.004025517962872982, 0.006468538194894791, 0.012743261642754078, 0.2002260982990265], [0.22551466524600983, 0.007845035754144192, 0.0058106775395572186, 0.004795496352016926, 0.008129219524562359, 0.7479049563407898], [0.880490779876709, 0.010252008214592934, 0.01669687032699585, 0.009182832203805447, 0.006238831672817469, 0.07713864743709564], [0.8883566856384277, 0.00038825359661132097, 0.007671613711863756, 0.019108327105641365, 0.0069838217459619045, 0.07749131321907043]], [[0.9347266554832458, 0.005735266953706741, 0.0016776962438598275, 0.01395061518996954, 0.016038725152611732, 0.027871059253811836], [0.3067241609096527, 0.10339263826608658, 0.052648115903139114, 0.12967558205127716, 0.07535362243652344, 0.3322058916091919], [0.6879506707191467, 0.021510418504476547, 0.004166305065155029, 0.11381671577692032, 0.04391884803771973, 0.12863700091838837], [0.33518093824386597, 0.14116133749485016, 0.09886360913515091, 0.1259375363588333, 0.09634973108768463, 0.2025069147348404], [0.1684679388999939, 0.151017963886261, 0.1295604705810547, 0.12334410846233368, 0.13545529544353485, 0.2921542227268219], [0.814487636089325, 0.016049174591898918, 0.008249691687524319, 0.05810489505529404, 0.03278797119855881, 0.07032059133052826]], [[0.5248289108276367, 0.053839340806007385, 0.0487266443669796, 0.06913488358259201, 0.05979157239198685, 0.24367858469486237], [0.48080137372016907, 0.041001468896865845, 0.045045241713523865, 0.041245102882385254, 0.05815773457288742, 0.33374905586242676], [0.6282553672790527, 0.012650902383029461, 0.028106823563575745, 0.03260035812854767, 0.037221334874629974, 0.26116517186164856], [0.7771130204200745, 0.01727125234901905, 0.015335941687226295, 0.028633663430809975, 0.020680107176303864, 0.1409660279750824], [0.669457197189331, 0.04767527058720589, 0.048425737768411636, 0.08191334456205368, 0.0019984040409326553, 0.15053004026412964], [0.3101726770401001, 0.11019206047058105, 0.10034836083650589, 0.12509603798389435, 0.08880750089883804, 0.2653833031654358]], [[0.498186856508255, 0.043106500059366226, 0.03827030584216118, 0.13206054270267487, 0.08413258194923401, 0.20424313843250275], [0.6932138204574585, 0.023618387058377266, 0.018459120765328407, 0.03528716415166855, 0.024253975600004196, 0.20516759157180786], [0.7283025979995728, 0.020529409870505333, 0.00421503558754921, 0.05318942293524742, 0.013451809994876385, 0.18031176924705505], [0.6233712434768677, 0.03890683501958847, 0.037096504122018814, 0.05243849381804466, 0.02761278860270977, 0.2205740511417389], [0.4125288724899292, 0.1676628142595291, 0.05466297268867493, 0.04094145819544792, 0.0022345432080328465, 0.32196933031082153], [0.24699167907238007, 0.07399792969226837, 0.07197220623493195, 0.20856834948062897, 0.13113339245319366, 0.2673363983631134]], [[0.8117287158966064, 0.026767926290631294, 0.015746725723147392, 0.034015875309705734, 0.024772798642516136, 0.08696798235177994], [0.6843228936195374, 0.03489207103848457, 0.09144707024097443, 0.0790352076292038, 0.0507209375500679, 0.05958186462521553], [0.47465482354164124, 0.27241528034210205, 0.02244873344898224, 0.1000116840004921, 0.08760344237089157, 0.04286602512001991], [0.5022465586662292, 0.15677417814731598, 0.09936921298503876, 0.05359397828578949, 0.06394300609827042, 0.12407305836677551], [0.1910143494606018, 0.2498224973678589, 0.2619480788707733, 0.18465755879878998, 0.05063217505812645, 0.06192532554268837], [0.9026162624359131, 0.013469877652823925, 0.009056971408426762, 0.018567262217402458, 0.012415152043104172, 0.04387453570961952]], [[0.6418452858924866, 0.03289534151554108, 0.02069578878581524, 0.06163649633526802, 0.018521666526794434, 0.2244054526090622], [0.39240601658821106, 0.14749476313591003, 0.02291272208094597, 0.020995473489165306, 0.005662068724632263, 0.41052892804145813], [0.3533835709095001, 0.04113299399614334, 0.39517003297805786, 0.00854961946606636, 0.0032442323863506317, 0.19851958751678467], [0.45140600204467773, 0.06326790899038315, 0.01016155444085598, 0.25723692774772644, 0.004972617141902447, 0.21295495331287384], [0.34644877910614014, 0.005280420649796724, 0.0034846842754632235, 0.008066314272582531, 0.5656958818435669, 0.07102393358945847], [0.7092903852462769, 0.07708632200956345, 0.034785639494657516, 0.04770559072494507, 0.020586073398590088, 0.11054589599370956]]], [[[0.9853072166442871, 0.0009000421268865466, 0.0010737032862380147, 0.0012074146652594209, 0.00029820651980116963, 0.011213352903723717], [5.934940054430626e-05, 7.591953908558935e-05, 0.9998164772987366, 3.5532721085473895e-05, 7.126888021957711e-07, 1.1995444765489083e-05], [0.00018996556173078716, 8.63673776620999e-05, 0.00010725094034569338, 0.9988759160041809, 0.0006848670891486108, 5.558467819355428e-05], [0.0005384482792578638, 1.852766035881359e-05, 9.805577974475455e-06, 6.238777859834954e-05, 0.9993500113487244, 2.082823084492702e-05], [0.020160209387540817, 9.791013326321263e-06, 8.636408165330067e-05, 7.956706213008147e-06, 4.151637767790817e-05, 0.9796941876411438], [0.9916831254959106, 6.131803820608184e-05, 7.024726073723286e-05, 0.00015947337669786066, 4.573949991026893e-05, 0.007980067282915115]], [[0.7260422706604004, 0.02396717667579651, 0.0312848798930645, 0.041414570063352585, 0.014597139321267605, 0.16269393265247345], [0.5838102102279663, 0.010032152757048607, 0.3227747082710266, 0.00811443105340004, 0.0017606966430321336, 0.07350778579711914], [0.5906713008880615, 0.298957496881485, 0.000567967421375215, 0.01685441844165325, 0.0015782020054757595, 0.09137069433927536], [0.4581904709339142, 0.020490217953920364, 0.30516332387924194, 0.014991648495197296, 0.09282991290092468, 0.10833443701267242], [0.4474421441555023, 0.020727556198835373, 0.03836073353886604, 0.16168516874313354, 0.03767361119389534, 0.2941107153892517], [0.8452837467193604, 0.004938839934766293, 0.007832864299416542, 0.0075421626679599285, 0.005308221559971571, 0.12909415364265442]], [[0.7446409463882446, 0.02353714406490326, 0.01823248900473118, 0.030134662985801697, 0.08067721128463745, 0.10277745872735977], [0.8018974661827087, 0.017335940152406693, 0.015260356478393078, 0.024973051622509956, 0.0078797098249197, 0.13265343010425568], [0.9765022993087769, 0.0007667848840355873, 0.0003576228627935052, 0.005147275514900684, 0.002718392526730895, 0.014507691375911236], [0.9207310080528259, 0.007795463316142559, 0.00746702728793025, 0.011418003588914871, 0.028500624001026154, 0.024087896570563316], [0.6812084317207336, 0.014501914381980896, 0.011191901750862598, 0.036281514912843704, 0.08481119573116302, 0.17200502753257751], [0.6607455611228943, 0.03202852979302406, 0.028500976040959358, 0.02939445897936821, 0.08260749280452728, 0.1667230725288391]], [[0.6771454811096191, 0.038354434072971344, 0.04231579229235649, 0.056259624660015106, 0.047115765511989594, 0.1388089954853058], [0.4021354913711548, 0.005296338815242052, 0.022379161790013313, 0.035122767090797424, 0.11690683662891388, 0.4181593954563141], [0.4951898455619812, 0.004388757981359959, 0.005278615280985832, 0.08275561779737473, 0.11165671795606613, 0.30073046684265137], [0.4820067882537842, 0.056363414973020554, 0.13198161125183105, 0.03982480242848396, 0.04886158928275108, 0.24096176028251648], [0.6433795094490051, 0.06347034126520157, 0.0740814134478569, 0.06952989846467972, 0.0024420421104878187, 0.14709679782390594], [0.7985942959785461, 0.014680291526019573, 0.01701267994940281, 0.023825572803616524, 0.03738062456250191, 0.10850652307271957]], [[0.7623686194419861, 0.017939705401659012, 0.012244015000760555, 0.0411522313952446, 0.017798451706767082, 0.14849695563316345], [0.6198550462722778, 0.027171114459633827, 0.06672877818346024, 0.05412130802869797, 0.01790040172636509, 0.21422336995601654], [0.6695665717124939, 0.03643116354942322, 0.14930114150047302, 0.008835687302052975, 0.0512690506875515, 0.08459633588790894], [0.46558791399002075, 0.1422690451145172, 0.09059659391641617, 0.12235403805971146, 0.011796720325946808, 0.16739575564861298], [0.6373276114463806, 0.0418943390250206, 0.2305714637041092, 0.00789941381663084, 0.015769416466355324, 0.06653779000043869], [0.5899752974510193, 0.0075592161156237125, 0.001783246174454689, 0.12623584270477295, 0.01003372110426426, 0.2644127309322357]], [[0.5144386887550354, 0.03002895601093769, 0.022838840261101723, 0.02985241636633873, 0.3479314148426056, 0.05490965396165848], [0.27553847432136536, 0.20354871451854706, 0.18812772631645203, 0.15410029888153076, 0.06222604215145111, 0.1164587140083313], [0.38473257422447205, 0.06474800407886505, 0.09714246541261673, 0.14235635101795197, 0.037298522889614105, 0.2737221121788025], [0.39306750893592834, 0.058281634002923965, 0.08787131309509277, 0.11220044642686844, 0.14415498077869415, 0.20442412793636322], [0.5421356558799744, 0.014467210508883, 0.012930343858897686, 0.04068616032600403, 0.014520600438117981, 0.37526002526283264], [0.3303651809692383, 0.040845151990652084, 0.045060887932777405, 0.0292864590883255, 0.5235970616340637, 0.03084525838494301]], [[0.2323138415813446, 0.13764135539531708, 0.09054617583751678, 0.1321161389350891, 0.07061641663312912, 0.3367660939693451], [0.16432268917560577, 0.40596550703048706, 0.031309667974710464, 0.04872141033411026, 0.00256330450065434, 0.3471173644065857], [0.09649841487407684, 0.00485753919929266, 0.6743704080581665, 0.0043139331974089146, 0.002273100893944502, 0.21768663823604584], [0.10827776044607162, 0.008779916912317276, 0.0014297851594164968, 0.7002491354942322, 0.0015057900454849005, 0.17975756525993347], [0.2689655125141144, 0.005573044065386057, 0.0056239524856209755, 0.05122347176074982, 0.34207555651664734, 0.32653841376304626], [0.3472229540348053, 0.07440802454948425, 0.08619622886180878, 0.07242020219564438, 0.05061300843954086, 0.36913952231407166]], [[0.859864354133606, 0.008971038274466991, 0.009967610239982605, 0.022099506109952927, 0.013002707622945309, 0.08609476685523987], [0.47037991881370544, 0.051436979323625565, 0.07036656141281128, 0.07361475378274918, 0.15033109486103058, 0.18387064337730408], [0.42995259165763855, 0.13781942427158356, 0.20883503556251526, 0.03818092122673988, 0.027461275458335876, 0.15775077044963837], [0.6014167666435242, 0.07232263684272766, 0.07898122817277908, 0.05171540379524231, 0.01600685529410839, 0.17955715954303741], [0.6132923364639282, 0.056073520332574844, 0.03933084383606911, 0.05748017132282257, 0.011930927634239197, 0.22189228236675262], [0.9364356398582458, 0.0015515877166762948, 0.0019405782222747803, 0.00964568555355072, 0.002147926017642021, 0.04827863350510597]], [[0.7779381275177002, 0.013211874291300774, 0.010373531840741634, 0.02831611968576908, 0.02547871321439743, 0.14468172192573547], [0.3182525038719177, 0.27416372299194336, 0.13447709381580353, 0.011559249833226204, 0.10716339200735092, 0.15438400208950043], [0.40850481390953064, 0.3139480650424957, 0.03020741231739521, 0.026637287810444832, 0.06629469245672226, 0.15440775454044342], [0.8367180228233337, 0.0049263485707342625, 0.0016641131369397044, 0.0503399558365345, 0.015510231256484985, 0.090841144323349], [0.6664341688156128, 0.011487342417240143, 0.003186875954270363, 0.044399652630090714, 0.022887328639626503, 0.2516046166419983], [0.7891711592674255, 0.01536740455776453, 0.006508995313197374, 0.017916256561875343, 0.018549444153904915, 0.15248674154281616]], [[0.6866675615310669, 0.019222799688577652, 0.00934846606105566, 0.011423631571233273, 0.006417148746550083, 0.26692044734954834], [7.387108780676499e-05, 0.00018651806749403477, 0.9996703863143921, 4.8086763854371384e-05, 6.417431563932041e-07, 2.0477491489145905e-05], [0.00019810146477539092, 0.00025004951748996973, 0.0004696958640124649, 0.9985688924789429, 0.000316614139592275, 0.00019666201842483133], [0.0005600519943982363, 1.9099208657280542e-05, 4.489568709686864e-06, 3.842397563857958e-05, 0.9993395209312439, 3.841119178105146e-05], [0.03418546915054321, 2.1823714632773772e-05, 0.00010050441778730601, 1.330595841864124e-05, 4.74868829769548e-05, 0.9656314253807068], [0.9970250725746155, 9.77047693595523e-06, 3.143016147078015e-05, 3.718042717082426e-05, 4.4891847210237756e-05, 0.002851644065231085]], [[0.7426705956459045, 0.021835381165146828, 0.01945197954773903, 0.033954448997974396, 0.03783237189054489, 0.14425519108772278], [0.6051700115203857, 0.02750897780060768, 0.21822769939899445, 0.021909788250923157, 0.0093371057882905, 0.11784636229276657], [0.8143705725669861, 0.03879043832421303, 0.044881671667099, 0.03380480036139488, 0.009116077795624733, 0.059036463499069214], [0.7343015670776367, 0.013359972275793552, 0.011295302771031857, 0.022604908794164658, 0.046380046755075455, 0.17205823957920074], [0.1817435920238495, 0.018424080684781075, 0.010182060301303864, 0.07050912827253342, 0.6321715116500854, 0.08696965128183365], [0.8979423642158508, 0.005541933700442314, 0.0077620879746973515, 0.01980508305132389, 0.019736239686608315, 0.04921220242977142]], [[0.9627067446708679, 0.0022458480671048164, 0.00139526161365211, 0.0058083008043468, 0.003894441295415163, 0.023949431255459785], [0.36770084500312805, 0.022807685658335686, 0.10334507375955582, 0.1235768273472786, 0.1847662776708603, 0.1978033035993576], [0.34099239110946655, 0.0491378977894783, 0.03532916679978371, 0.10880973190069199, 0.2149827629327774, 0.25074800848960876], [0.668560802936554, 0.0330381877720356, 0.027476683259010315, 0.05403855815529823, 0.10245892405509949, 0.11442685127258301], [0.7342914938926697, 0.03643915057182312, 0.0269622802734375, 0.04354052618145943, 0.0396273098886013, 0.11913913488388062], [0.9917627573013306, 0.00043455991544760764, 0.00020449937437660992, 0.0015106049831956625, 0.0013470270205289125, 0.004740450065582991]]], [[[0.32790082693099976, 0.0015266119735315442, 0.0006206624675542116, 0.0023629344068467617, 0.0009862000588327646, 0.6666027903556824], [0.27553805708885193, 0.07876241952180862, 0.004771046806126833, 0.008359553292393684, 0.00233834283426404, 0.6302306652069092], [0.23895442485809326, 0.0012921548914164305, 0.19100408256053925, 0.00017543783178552985, 0.0006344905705191195, 0.5679393410682678], [0.2869231402873993, 0.00255324924364686, 0.0002943249710369855, 0.1461995244026184, 0.0011406581616029143, 0.562889039516449], [0.3269953727722168, 0.00048445112770423293, 8.194955444196239e-05, 0.0002889153256546706, 0.06794586777687073, 0.604203462600708], [0.27343714237213135, 0.0023506407160311937, 0.0065139057114720345, 0.013576948083937168, 0.003185815177857876, 0.7009356021881104]], [[0.34171831607818604, 0.01371857337653637, 0.018701430410146713, 0.018653087317943573, 0.07566838711500168, 0.5315402150154114], [0.332996666431427, 0.03939596936106682, 0.06457646936178207, 0.10301260650157928, 0.11534380167722702, 0.34467440843582153], [0.24677148461341858, 0.028442278504371643, 0.08444707095623016, 0.13578137755393982, 0.05718990042805672, 0.4473678171634674], [0.2011428028345108, 0.05914561450481415, 0.10852991789579391, 0.31679749488830566, 0.0783570185303688, 0.23602716624736786], [0.08606716245412827, 0.023313181474804878, 0.009447243064641953, 0.046207692474126816, 0.007200169842690229, 0.8277645111083984], [0.5142282247543335, 0.002699119271710515, 0.0025156796909868717, 0.0035665740724653006, 0.009251928888261318, 0.46773838996887207]], [[0.12240687757730484, 0.1139255240559578, 0.3108602464199066, 0.12501896917819977, 0.13120993971824646, 0.1965784728527069], [0.36295270919799805, 0.18954676389694214, 0.011437606997787952, 0.026639368385076523, 0.006064530462026596, 0.403359055519104], [0.5278961658477783, 0.05074130743741989, 0.002040670718997717, 0.02501496486365795, 0.001933461520820856, 0.39237338304519653], [0.30849024653434753, 0.032133836299180984, 0.010236566886305809, 0.18226955831050873, 0.0023376860190182924, 0.46453210711479187], [0.563768744468689, 0.017938677221536636, 0.00708471704274416, 0.02147665061056614, 0.0009652163716964424, 0.3887660503387451], [0.1367371529340744, 0.006588119547814131, 0.008661461062729359, 0.03564155846834183, 0.009662681259214878, 0.8027090430259705]], [[0.43751803040504456, 0.020731192082166672, 0.018975477665662766, 0.03370627015829086, 0.033801157027482986, 0.45526784658432007], [0.06634515523910522, 0.016002163290977478, 0.11658477783203125, 0.33571502566337585, 0.41708770394325256, 0.04826517775654793], [0.2856210470199585, 0.029705852270126343, 0.06852775812149048, 0.16824524104595184, 0.2687591314315796, 0.17914104461669922], [0.3846745193004608, 0.052018385380506516, 0.07745926827192307, 0.05121913179755211, 0.22010989487171173, 0.21451887488365173], [0.5336330533027649, 0.027085838839411736, 0.01216534711420536, 0.03572678193449974, 0.006118360441178083, 0.3852706551551819], [0.3818884491920471, 0.002979812677949667, 0.0017002910608425736, 0.0040560513734817505, 0.0038184963632375, 0.6055569052696228]], [[0.10749501734972, 0.019108694046735764, 0.08166301995515823, 0.024531884118914604, 0.08462543040513992, 0.6825758814811707], [0.2227678894996643, 0.027876581996679306, 0.16315509378910065, 0.047454021871089935, 0.1750773936510086, 0.3636690080165863], [0.10275723040103912, 0.08638297021389008, 0.17406542599201202, 0.06333707273006439, 0.12682729959487915, 0.44663000106811523], [0.16555997729301453, 0.046544477343559265, 0.22638005018234253, 0.04674910008907318, 0.0783897191286087, 0.4363766610622406], [0.055506687611341476, 0.07151284068822861, 0.30685579776763916, 0.14679689705371857, 0.15198098123073578, 0.2673468291759491], [0.7771269083023071, 0.0004942326922900975, 0.0003145561786368489, 0.0026028105057775974, 0.004125294741243124, 0.2153361439704895]], [[0.8085545301437378, 0.01623971201479435, 0.011979669332504272, 0.042780403047800064, 0.08723193407058716, 0.03321364149451256], [0.8980032205581665, 0.01242778915911913, 0.0014522187411785126, 0.000777878041844815, 0.018618283793330193, 0.06872060149908066], [0.028651241213083267, 0.9539622664451599, 0.004098869394510984, 0.0015925380866974592, 0.003409507917240262, 0.008285590447485447], [0.08601896464824677, 0.054195553064346313, 0.8348108530044556, 0.0029873750172555447, 0.011168659664690495, 0.010818523354828358], [0.40967538952827454, 0.0007162101101130247, 0.019824543967843056, 0.5358350276947021, 0.022003820165991783, 0.011944955214858055], [0.9284464120864868, 0.004972305614501238, 0.006471248343586922, 0.019014352932572365, 0.02633814886212349, 0.014757598750293255]], [[0.1841168850660324, 0.06829941272735596, 0.0995151549577713, 0.07196570187807083, 0.2391011267900467, 0.3370017111301422], [0.473042368888855, 0.04721749573945999, 0.02283771149814129, 0.042040325701236725, 0.04666614904999733, 0.36819592118263245], [0.27394047379493713, 0.08242657780647278, 0.3064509332180023, 0.06281778961420059, 0.03889394924044609, 0.2354702651500702], [0.3552180528640747, 0.011724302545189857, 0.0010309857316315174, 0.09340029209852219, 0.04849505051970482, 0.4901312291622162], [0.4685434401035309, 0.007227374706417322, 0.0021869619376957417, 0.0240920539945364, 0.11594371497631073, 0.3820064961910248], [0.29891493916511536, 0.0049735261127352715, 0.0069130496121943, 0.019501570612192154, 0.04080438241362572, 0.6288925409317017]], [[0.5406009554862976, 0.036892980337142944, 0.08228233456611633, 0.048404525965452194, 0.05034637823700905, 0.24147284030914307], [0.2180064171552658, 0.013756763190031052, 0.05343182384967804, 0.07801267504692078, 0.42874032258987427, 0.20805194973945618], [0.26481425762176514, 0.004035345744341612, 0.01664022170007229, 0.1050698533654213, 0.24680806696414948, 0.36263221502304077], [0.30576398968696594, 0.04665514454245567, 0.09972481429576874, 0.09731625020503998, 0.20362766087055206, 0.2469121366739273], [0.47715291380882263, 0.020621666684746742, 0.019565701484680176, 0.10544996708631516, 0.020538488402962685, 0.3566712737083435], [0.4304923415184021, 0.008023466914892197, 0.01435012649744749, 0.016858398914337158, 0.007161065004765987, 0.5231146812438965]], [[0.6149786114692688, 0.018599294126033783, 0.024343805387616158, 0.01232004165649414, 0.020954029634594917, 0.30880436301231384], [0.24748244881629944, 0.05330318957567215, 0.36658138036727905, 0.024779222905635834, 0.048748333007097244, 0.25910553336143494], [0.2323397547006607, 0.09654940664768219, 0.11732560396194458, 0.03348547965288162, 0.06625192612409592, 0.454047828912735], [0.16688881814479828, 0.10997603088617325, 0.32646703720092773, 0.045995332300662994, 0.05377751961350441, 0.296895295381546], [0.06100849062204361, 0.04559260979294777, 0.17399054765701294, 0.06914658099412918, 0.43986499309539795, 0.21039679646492004], [0.7470535635948181, 0.0023023895919322968, 0.004674867726862431, 0.004443797282874584, 0.018120095133781433, 0.22340525686740875]], [[0.81986004114151, 0.008786323480308056, 0.01116320863366127, 0.009339947253465652, 0.013084830716252327, 0.13776561617851257], [0.021858379244804382, 0.02325729839503765, 0.5588672161102295, 0.2385721355676651, 0.06863980740308762, 0.0888051688671112], [0.03151342272758484, 0.004143643192946911, 0.016956986859440804, 0.4333619177341461, 0.45030587911605835, 0.0637180507183075], [0.042526014149188995, 0.0007112725870683789, 0.0016846598591655493, 0.004403247497975826, 0.8581623435020447, 0.09251242876052856], [0.9371629953384399, 5.93938457313925e-05, 0.0002422147081233561, 0.0003029951185453683, 0.002319066785275936, 0.05991333723068237], [0.937250554561615, 0.003741642227396369, 0.0019409884698688984, 0.0035105322021991014, 0.002521184040233493, 0.0510350726544857]], [[0.3067515194416046, 0.010431813076138496, 0.023706670850515366, 0.015256289392709732, 0.019855087623000145, 0.6239986419677734], [0.2804553210735321, 0.031169049441814423, 0.11067186295986176, 0.06835474818944931, 0.23260554671287537, 0.27674350142478943], [0.2396085411310196, 0.010156356729567051, 0.008082497864961624, 0.037389855831861496, 0.5597162842750549, 0.14504647254943848], [0.12436867505311966, 0.019110364839434624, 0.041356801986694336, 0.018937507644295692, 0.6979506611824036, 0.09827599674463272], [0.330911248922348, 0.040150903165340424, 0.06383679062128067, 0.04379859194159508, 0.11643802374601364, 0.4048643410205841], [0.2782750427722931, 0.0013167565921321511, 0.002906240988522768, 0.0013192691840231419, 0.0033467859029769897, 0.712835967540741]], [[0.6081432700157166, 0.019657602533698082, 0.024442104622721672, 0.022489968687295914, 0.06262650340795517, 0.26264047622680664], [0.7354785799980164, 0.005492024589329958, 0.0032517267391085625, 0.0038391551934182644, 0.046853095293045044, 0.2050854116678238], [0.45690274238586426, 0.07043713331222534, 0.046267613768577576, 0.015279948711395264, 0.12883669137954712, 0.282275915145874], [0.1611674278974533, 0.3765633702278137, 0.21111661195755005, 0.029239118099212646, 0.05678044259548187, 0.16513308882713318], [0.09426525235176086, 0.23553545773029327, 0.4086869955062866, 0.04262132570147514, 0.03884489834308624, 0.18004605174064636], [0.78434818983078, 0.0022307620383799076, 0.0026731593534350395, 0.004308128263801336, 0.019297640770673752, 0.18714217841625214]]], [[[0.17746438086032867, 0.008454128168523312, 0.004731690511107445, 0.007674038410186768, 0.007638432551175356, 0.7940373420715332], [0.0438259094953537, 0.035615067929029465, 0.07095739245414734, 0.08757385611534119, 0.06385921686887741, 0.6981685757637024], [0.010990425013005733, 0.035637591034173965, 0.02159794233739376, 0.049326341599226, 0.15327633917331696, 0.7291713356971741], [0.01983184739947319, 0.045617032796144485, 0.04045364260673523, 0.03078298643231392, 0.22640615701675415, 0.6369082927703857], [0.01926696114242077, 0.018092047423124313, 0.012746977619826794, 0.05107973888516426, 0.09937716275453568, 0.7994371056556702], [0.1260911226272583, 0.0011562552535906434, 0.0006689687725156546, 0.0005235407734289765, 0.010877043940126896, 0.8606830835342407]], [[0.52361661195755, 0.008635283447802067, 0.05350242182612419, 0.023456748574972153, 0.38878387212753296, 0.002005050191655755], [0.00040971016278490424, 0.061285585165023804, 0.17714771628379822, 0.12708048522472382, 0.5959742069244385, 0.03810228034853935], [0.004925597459077835, 0.13161849975585938, 0.17842085659503937, 0.1467425525188446, 0.4031112790107727, 0.13518112897872925], [0.0029698472935706377, 0.11589184403419495, 0.3465999662876129, 0.2355712205171585, 0.22028598189353943, 0.07868111878633499], [0.0018387272721156478, 0.11055348813533783, 0.35471275448799133, 0.35055890679359436, 0.08630668371915817, 0.09602949768304825], [0.07011563330888748, 0.06141522154211998, 0.06065421923995018, 0.04656047374010086, 0.07265467941761017, 0.6885997653007507]], [[0.05709443986415863, 0.1455569714307785, 0.37613600492477417, 0.054322924464941025, 0.2963896095752716, 0.07049998641014099], [0.27058547735214233, 0.015024025924503803, 0.01256343349814415, 0.01641646958887577, 0.013117403723299503, 0.6722932457923889], [0.28182825446128845, 0.01259127538651228, 0.016918938606977463, 0.06889945268630981, 0.014071477577090263, 0.605690598487854], [0.1363774538040161, 0.003984296694397926, 0.0033635112922638655, 0.08108024299144745, 0.002176520647481084, 0.7730180025100708], [0.2219017744064331, 0.0033088945783674717, 0.0017836984479799867, 0.005052994936704636, 0.0006361394771374762, 0.7673165202140808], [0.11576160788536072, 0.008199969306588173, 0.006223670206964016, 0.013644600287079811, 0.012914174236357212, 0.8432559370994568]], [[0.03815629333257675, 0.008456645533442497, 0.004941265098750591, 0.008517836220562458, 0.0605805441737175, 0.8793473839759827], [0.05574335902929306, 0.3197692930698395, 0.0035177436657249928, 0.0014519165270030499, 0.007997175678610802, 0.611520528793335], [0.023911410942673683, 0.0002642620529513806, 0.19727639853954315, 0.0006778679671697319, 0.0007012799615040421, 0.7771688103675842], [0.04945068806409836, 0.0003322917327750474, 0.00012199977209093049, 0.21499788761138916, 0.0004398629243951291, 0.7346572875976562], [0.01619119383394718, 0.0003601652861107141, 7.6046992035117e-05, 0.0001532479072920978, 0.2786482572555542, 0.7045711278915405], [0.005235082935541868, 0.0010647341841831803, 0.0002894832578022033, 0.0006139697507023811, 0.0027290433645248413, 0.990067720413208]], [[0.2111843377351761, 0.014271438121795654, 0.03641783818602562, 0.01494188979268074, 0.06366526335477829, 0.6595192551612854], [0.018489155918359756, 0.14173957705497742, 0.23772850632667542, 0.18845424056053162, 0.12889821827411652, 0.28469035029411316], [0.03148192912340164, 0.12397465109825134, 0.12362473458051682, 0.1422567367553711, 0.20517118275165558, 0.37349075078964233], [0.028366511687636375, 0.13744190335273743, 0.05397484824061394, 0.05238517373800278, 0.15826795995235443, 0.569563627243042], [0.02258993685245514, 0.15628616511821747, 0.049164969474077225, 0.19537664949893951, 0.11600352823734283, 0.46057868003845215], [0.001357670989818871, 0.0009526194189675152, 0.0007573409238830209, 0.0002989867061842233, 0.0017510829493403435, 0.994882345199585]], [[0.04308906942605972, 0.004012336488813162, 0.017229583114385605, 0.010362399742007256, 0.030169397592544556, 0.8951371908187866], [0.042520806193351746, 0.004733632318675518, 0.06316384673118591, 0.11929207295179367, 0.6601153612136841, 0.11017430573701859], [0.025260884314775467, 0.003254587994888425, 0.01191794779151678, 0.038130249828100204, 0.8563881516456604, 0.06504826247692108], [0.08240176737308502, 0.00208409340120852, 0.00415573175996542, 0.01442650705575943, 0.5961409211158752, 0.3007909655570984], [0.019202962517738342, 0.0008106976747512817, 0.0012044707546010613, 0.004098278935998678, 0.017269765958189964, 0.9574137926101685], [0.007306428160518408, 0.0006720012752339244, 0.0008947034366428852, 0.0015792265767231584, 0.004426278173923492, 0.9851213693618774]], [[0.015734080225229263, 0.006341051775962114, 0.005089207552373409, 0.0024488361086696386, 0.017768356949090958, 0.9526184797286987], [0.05187857151031494, 0.044011179357767105, 0.037620000541210175, 0.04234764724969864, 0.08603803813457489, 0.7381045818328857], [0.060484886169433594, 0.147970050573349, 0.08728708326816559, 0.05120173469185829, 0.061990201473236084, 0.5910659432411194], [0.05226277932524681, 0.19504939019680023, 0.24717505276203156, 0.02678121253848076, 0.08630001544952393, 0.39243149757385254], [0.03645431995391846, 0.10183579474687576, 0.3940613567829132, 0.06851910054683685, 0.0786086693406105, 0.32052081823349], [0.00325066689401865, 0.00019060033082496375, 0.0006308936281129718, 0.0003494138072710484, 0.002797749126330018, 0.9927807450294495]], [[0.05969466641545296, 0.006622145418077707, 0.009546766988933086, 0.01856703869998455, 0.01445202436298132, 0.8911173343658447], [0.015258950181305408, 0.002537800231948495, 0.013927897438406944, 0.003671439364552498, 0.0852000042796135, 0.8794039487838745], [0.02055898867547512, 0.29057788848876953, 0.01028803177177906, 0.028621142730116844, 0.11192801594734192, 0.5380258560180664], [0.03552698716521263, 0.029720336198806763, 0.31975188851356506, 0.006530491169542074, 0.22851718962192535, 0.3799531161785126], [0.03293086960911751, 0.01913309656083584, 0.012669093906879425, 0.029797272756695747, 0.0363217256963253, 0.8691478967666626], [0.006690072827041149, 0.0006404761807061732, 0.0006017948035150766, 0.004505453631281853, 0.005677103064954281, 0.9818851351737976]], [[0.1331034153699875, 0.005644677672535181, 0.01141140516847372, 0.01257298607379198, 0.014455610886216164, 0.8228119611740112], [0.17670093476772308, 0.01934802159667015, 0.02094252035021782, 0.064644455909729, 0.11079715192317963, 0.6075669527053833], [0.11646765470504761, 0.05347570404410362, 0.03603978455066681, 0.04932767525315285, 0.07962829619646072, 0.665060818195343], [0.03224427253007889, 0.06166020408272743, 0.03672876954078674, 0.039212003350257874, 0.04770534113049507, 0.7824494242668152], [0.056796059012413025, 0.009110386483371258, 0.002463433425873518, 0.008730599656701088, 0.0023337514139711857, 0.9205657839775085], [0.012117688544094563, 0.009241687133908272, 0.006224337499588728, 0.006654443219304085, 0.021673038601875305, 0.944088876247406]], [[0.03905888646841049, 0.03148576617240906, 0.061051711440086365, 0.1956106424331665, 0.02659403719007969, 0.6461989283561707], [0.12685167789459229, 0.009355421178042889, 0.026578878983855247, 0.12699906527996063, 0.44965869188308716, 0.26055625081062317], [0.144525408744812, 0.07852735370397568, 0.07064765691757202, 0.07232663780450821, 0.21244695782661438, 0.4215259850025177], [0.10588986426591873, 0.07461203634738922, 0.05700874328613281, 0.07788209617137909, 0.14202973246574402, 0.5425775647163391], [0.15675561130046844, 0.10583355277776718, 0.050747063010931015, 0.03161299601197243, 0.014547140337526798, 0.6405036449432373], [0.03198171406984329, 0.0015765170101076365, 0.0026594302617013454, 0.005618921481072903, 0.012531406246125698, 0.9456320405006409]], [[0.028677303344011307, 0.01526204776018858, 0.012125030159950256, 0.016205087304115295, 0.02025957778096199, 0.9074709415435791], [0.04162535071372986, 0.01769743300974369, 0.02782452665269375, 0.008107737638056278, 0.04267077147960663, 0.8620741963386536], [0.03714825212955475, 0.406316339969635, 0.05846525728702545, 0.025234386324882507, 0.05273624509572983, 0.42009949684143066], [0.0505836084485054, 0.4201613962650299, 0.11138159036636353, 0.028811711817979813, 0.09605833888053894, 0.2930033206939697], [0.04103975370526314, 0.27460867166519165, 0.27669695019721985, 0.13339988887310028, 0.01702365279197693, 0.2572310268878937], [0.010707615874707699, 0.0014303914504125714, 0.002013933612033725, 0.0037503947969526052, 0.010978772304952145, 0.9711188077926636]], [[0.2197621911764145, 0.13645121455192566, 0.022372767329216003, 0.011001527309417725, 0.07981417328119278, 0.5305981636047363], [0.03405268117785454, 0.02428378351032734, 0.1473330408334732, 0.05358908325433731, 0.010213733650743961, 0.7305276989936829], [0.055476218461990356, 0.014425761066377163, 0.019427962601184845, 0.43449756503105164, 0.1361742615699768, 0.3399983048439026], [0.08440952003002167, 0.009117459878325462, 0.011303959414362907, 0.01577935740351677, 0.33747029304504395, 0.541919469833374], [0.011134951375424862, 0.021303018555045128, 0.006985669955611229, 0.0014460922684520483, 0.0009509280789643526, 0.9581793546676636], [0.017190083861351013, 0.011783233843743801, 0.006285035517066717, 0.0072230566293001175, 0.012408752925693989, 0.9451098442077637]]], [[[0.04742182791233063, 0.07252150774002075, 0.2314642369747162, 0.04101629555225372, 0.07354015111923218, 0.5340359807014465], [0.07236418128013611, 0.025506125763058662, 0.03427805006504059, 0.07704144716262817, 0.2219557762145996, 0.5688543915748596], [0.08427659422159195, 0.017164384946227074, 0.019343525171279907, 0.09753566235303879, 0.3357783854007721, 0.44590142369270325], [0.11870964616537094, 0.030949383974075317, 0.025024639442563057, 0.019434791058301926, 0.22122643887996674, 0.5846551060676575], [0.08217420428991318, 0.01051764003932476, 0.014658709056675434, 0.012136392295360565, 0.026538316160440445, 0.8539747595787048], [0.02191970683634281, 0.00557229807600379, 0.007072096224874258, 0.0042322552762925625, 0.01852989010512829, 0.9426738023757935]], [[0.04178719222545624, 0.04779581353068352, 0.03169567510485649, 0.04602937400341034, 0.010693886317312717, 0.8219980597496033], [0.004584888461977243, 0.008446039631962776, 0.016917617991566658, 0.01731576770544052, 0.00560313044115901, 0.9471325278282166], [0.00767373526468873, 0.20086263120174408, 0.025340385735034943, 0.012199291959404945, 0.009269949048757553, 0.7446539998054504], [0.030727993696928024, 0.04227075353264809, 0.022143622860312462, 0.009088892489671707, 0.01901857927441597, 0.8767501711845398], [0.04033946618437767, 0.02144511044025421, 0.008577668108046055, 0.007758871652185917, 0.037183646112680435, 0.884695291519165], [0.0071755643002688885, 0.003544752486050129, 0.0021512892562896013, 0.004261281341314316, 0.0012990665854886174, 0.9815680384635925]], [[0.12166614830493927, 0.03520242124795914, 0.07199840992689133, 0.042369209229946136, 0.07988664507865906, 0.6488771438598633], [0.1963014155626297, 0.08090759813785553, 0.11992426216602325, 0.1506258100271225, 0.21205715835094452, 0.2401837855577469], [0.1284799873828888, 0.20399045944213867, 0.17918865382671356, 0.09019526094198227, 0.2344886213541031, 0.1636570245027542], [0.0625767931342125, 0.24178403615951538, 0.20899716019630432, 0.0764550119638443, 0.21418249607086182, 0.1960044950246811], [0.12591393291950226, 0.07758542895317078, 0.10957358777523041, 0.06478887051343918, 0.054868657141923904, 0.567269504070282], [0.03730229660868645, 0.0034617900382727385, 0.0023940892424434423, 0.0025897608138620853, 0.0026931099127978086, 0.9515589475631714]], [[0.013461150228977203, 0.1245422512292862, 0.22788482904434204, 0.13328143954277039, 0.08147742599248886, 0.4193529486656189], [0.014936050400137901, 0.10022704303264618, 0.09349458664655685, 0.013756655156612396, 0.01577751338481903, 0.7618081569671631], [0.01113093364983797, 0.040681708604097366, 0.05844647437334061, 0.033105574548244476, 0.015360680408775806, 0.8412745594978333], [0.04108114913105965, 0.04968305304646492, 0.028239864856004715, 0.020984375849366188, 0.029347015544772148, 0.8306645750999451], [0.06388594210147858, 0.06011570990085602, 0.07607802748680115, 0.05267394706606865, 0.13373863697052002, 0.6135077476501465], [0.0077987113036215305, 0.004081453662365675, 0.004935505334287882, 0.0033126049675047398, 0.013242839835584164, 0.9666288495063782]], [[0.023959314450621605, 0.08033419400453568, 0.16275091469287872, 0.08175016939640045, 0.06998472660779953, 0.5812206864356995], [0.09125842154026031, 0.008550896309316158, 0.008659005165100098, 0.03330334275960922, 0.38651180267333984, 0.4717165529727936], [0.05301923677325249, 0.03252243995666504, 0.028994519263505936, 0.03351706638932228, 0.36955752968788147, 0.4823892414569855], [0.05016498267650604, 0.040145304054021835, 0.044273797422647476, 0.12007611989974976, 0.19012939929962158, 0.5552103519439697], [0.1173810288310051, 0.04393627122044563, 0.050083354115486145, 0.03992282971739769, 0.012149087153375149, 0.7365273833274841], [0.02027558721601963, 0.002843871945515275, 0.003367053112015128, 0.004383960273116827, 0.01998080313205719, 0.9491487741470337]], [[0.019922789186239243, 0.02742798440158367, 0.012268963269889355, 0.0170906875282526, 0.0210157111287117, 0.9022738933563232], [0.10497909784317017, 0.3332008421421051, 0.012201760895550251, 0.011788196861743927, 0.03318312019109726, 0.5046469569206238], [0.09025854617357254, 0.011504114605486393, 0.17007622122764587, 0.022880468517541885, 0.1035727858543396, 0.6017078161239624], [0.11833745986223221, 0.003590952605009079, 0.061814311891794205, 0.12869270145893097, 0.07966934889554977, 0.6078952550888062], [0.03845362737774849, 0.003192516043782234, 0.004182044882327318, 0.011115757748484612, 0.09321584552526474, 0.8498402237892151], [0.007305402774363756, 0.0024309621658176184, 0.0005853455513715744, 0.000514744664542377, 0.005087879486382008, 0.9840756058692932]], [[0.03072502091526985, 0.011967013590037823, 0.017336338758468628, 0.025853749364614487, 0.01965087465941906, 0.8944670557975769], [0.012874501757323742, 0.0048215058632195, 0.009441404603421688, 0.0023856647312641144, 0.002702878089621663, 0.9677740335464478], [0.05060196295380592, 0.05819015949964523, 0.043371815234422684, 0.01446342933923006, 0.015506627969443798, 0.8178660273551941], [0.02742554433643818, 0.03707920387387276, 0.3658750057220459, 0.03263813257217407, 0.01909526251256466, 0.5178868770599365], [0.0558902882039547, 0.020901182666420937, 0.025162266567349434, 0.10028576105833054, 0.03721107915043831, 0.7605494856834412], [0.020227739587426186, 0.020221590995788574, 0.014614860527217388, 0.008400463499128819, 0.008421692065894604, 0.9281136989593506]], [[0.024722669273614883, 0.01686105690896511, 0.06956899911165237, 0.0700332373380661, 0.2318211793899536, 0.5869929194450378], [0.04861908033490181, 0.015673598274588585, 0.5348954796791077, 0.06026739999651909, 0.07309658825397491, 0.2674478590488434], [0.025117898359894753, 0.00522201880812645, 0.03657376393675804, 0.16001734137535095, 0.3304806649684906, 0.44258829951286316], [0.07445580512285233, 0.011695143766701221, 0.02383510023355484, 0.11307445168495178, 0.18309800326824188, 0.5938414931297302], [0.004877335857599974, 0.0014140852726995945, 0.0005991721409372985, 0.0005431151366792619, 0.002472049556672573, 0.9900942444801331], [0.0036805791314691305, 0.0012175862211734056, 0.0018218668410554528, 0.000998451141640544, 0.004139964934438467, 0.9881415367126465]], [[0.081582210958004, 0.035506539046764374, 0.05091055855154991, 0.05805516242980957, 0.10863047093153, 0.6653150916099548], [0.021943561732769012, 0.027331272140145302, 0.11486168950796127, 0.10608669370412827, 0.3952270746231079, 0.3345496654510498], [0.046919580549001694, 0.02083696983754635, 0.06087014824151993, 0.08831056207418442, 0.32826361060142517, 0.4547991156578064], [0.022583531215786934, 0.012435389682650566, 0.04527664557099342, 0.05560371279716492, 0.36067143082618713, 0.5034292340278625], [0.0431053452193737, 0.02583693526685238, 0.023602904751896858, 0.044915784150362015, 0.041283346712589264, 0.8212556838989258], [0.009851761162281036, 0.0009276960045099258, 0.0009992498671635985, 0.0012339341919869184, 0.006159115582704544, 0.9808282256126404]], [[0.062324751168489456, 0.17075882852077484, 0.03266186639666557, 0.004987024702131748, 0.20128794014453888, 0.5279795527458191], [0.0019776273984462023, 0.010420180857181549, 0.49667075276374817, 0.029962019994854927, 0.07585200667381287, 0.3851173520088196], [0.005773608107119799, 0.013658394105732441, 0.0338013730943203, 0.4472048282623291, 0.3319690227508545, 0.167592853307724], [0.0019843855407088995, 0.0006049402873031795, 0.0017175341490656137, 0.003477839520201087, 0.9577234983444214, 0.034491848200559616], [0.01599946804344654, 0.0011276199948042631, 0.0005168460193090141, 0.00020165563910268247, 0.002047549933195114, 0.9801068305969238], [0.35071858763694763, 0.0065901679918169975, 0.003440713509917259, 0.005214835982769728, 0.06200982630252838, 0.5720258951187134]], [[0.028924595564603806, 0.03270784765481949, 0.08857394009828568, 0.04349138215184212, 0.31962427496910095, 0.48667794466018677], [0.08704893290996552, 0.010219555348157883, 0.014638690277934074, 0.01547287404537201, 0.160472571849823, 0.7121474146842957], [0.17928515374660492, 0.5382309556007385, 0.07139788568019867, 0.010142428800463676, 0.04662591218948364, 0.15431763231754303], [0.04963594302535057, 0.5547731518745422, 0.19896511733531952, 0.0036792301107198, 0.12271995097398758, 0.07022663950920105], [0.13630594313144684, 0.17504745721817017, 0.2402123212814331, 0.12708230316638947, 0.022509003058075905, 0.2988429665565491], [0.019028490409255028, 0.00604716781526804, 0.0054204524494707584, 0.009336468763649464, 0.013926178216934204, 0.9462411999702454]], [[0.04082828387618065, 0.004320377949625254, 0.019031820818781853, 0.01673806644976139, 0.01868034340441227, 0.9004011750221252], [0.04770009592175484, 0.027200644835829735, 0.07301661372184753, 0.031554147601127625, 0.14516887068748474, 0.6753596067428589], [0.018217263743281364, 0.026244699954986572, 0.025460146367549896, 0.012172321788966656, 0.04983201622962952, 0.868073582649231], [0.031014826148748398, 0.022825032472610474, 0.008115185424685478, 0.009011237882077694, 0.020962253212928772, 0.9080714583396912], [0.033180974423885345, 0.006997954566031694, 0.009569029323756695, 0.008804929442703724, 0.009438058361411095, 0.9320090413093567], [0.015026814304292202, 0.010621781460940838, 0.004662236198782921, 0.005164283327758312, 0.010821349918842316, 0.9537034630775452]]], [[[0.003235580399632454, 0.12723380327224731, 0.40520256757736206, 0.34119370579719543, 0.07988015562295914, 0.043254148215055466], [0.001585694495588541, 0.09607873111963272, 0.037172481417655945, 0.011324933730065823, 0.007986782118678093, 0.8458513617515564], [0.0005707045784220099, 0.006389336194843054, 0.023967301473021507, 0.008126046508550644, 0.003808398265391588, 0.957138180732727], [0.0013289040653035045, 0.010513730347156525, 0.020816989243030548, 0.041268181055784225, 0.02137744426727295, 0.9046947360038757], [0.0030682780779898167, 0.015546586364507675, 0.024583568796515465, 0.037371501326560974, 0.053200818598270416, 0.866229236125946], [0.00292900949716568, 0.0015196986496448517, 0.0017650354420766234, 0.0014933987986296415, 0.00400509824976325, 0.9882877469062805]], [[0.06424219161272049, 0.06365036964416504, 0.08387386053800583, 0.07213252782821655, 0.34316182136535645, 0.37293922901153564], [0.05251489207148552, 0.050168611109256744, 0.07595100998878479, 0.0985792726278305, 0.2596111595630646, 0.4631749987602234], [0.035611022263765335, 0.08340363949537277, 0.05536258965730667, 0.042218465358018875, 0.2546035051345825, 0.5288007855415344], [0.05791354551911354, 0.08478649705648422, 0.030639557167887688, 0.030020033940672874, 0.2950183153152466, 0.5016220808029175], [0.11372414976358414, 0.07927238941192627, 0.05272321030497551, 0.06471914052963257, 0.11458248645067215, 0.5749785900115967], [0.009639427997171879, 0.00617728428915143, 0.008975840173661709, 0.0063202898018062115, 0.015335538424551487, 0.9535515904426575]], [[0.014174028299748898, 0.045522306114435196, 0.10832200944423676, 0.11722783744335175, 0.3801177740097046, 0.33463603258132935], [0.02703450806438923, 0.01707027107477188, 0.01971624419093132, 0.01354218553751707, 0.034949060529470444, 0.8876876831054688], [0.03658897057175636, 0.03167692944407463, 0.013967309147119522, 0.02601594850420952, 0.017848942428827286, 0.873901903629303], [0.06086540222167969, 0.08805330097675323, 0.032177940011024475, 0.050287891179323196, 0.020680319517850876, 0.7479351758956909], [0.07545412331819534, 0.06975507736206055, 0.07880302518606186, 0.09296499937772751, 0.03110843151807785, 0.6519142985343933], [0.02260361798107624, 0.006090036127716303, 0.007279538083821535, 0.010124996304512024, 0.023464888334274292, 0.930436909198761]], [[0.022194843739271164, 0.004061991348862648, 0.001418822561390698, 0.00653605442494154, 0.0018695542821660638, 0.9639187455177307], [0.017382802441716194, 0.012394667603075504, 0.014501480385661125, 0.00441353302448988, 0.004441895987838507, 0.9468656182289124], [0.02459237538278103, 0.26546579599380493, 0.02551494725048542, 0.002221242757514119, 0.007371858693659306, 0.6748338341712952], [0.003579941112548113, 0.017093129456043243, 0.34334251284599304, 0.031798265874385834, 0.06395623087882996, 0.540229856967926], [0.020702071487903595, 0.010227592661976814, 0.027710746973752975, 0.07433956116437912, 0.08233827352523804, 0.7846817970275879], [0.07890725135803223, 0.010247036814689636, 0.003972659818828106, 0.014247219078242779, 0.01763138547539711, 0.8749943971633911]], [[0.025386696681380272, 0.028208959847688675, 0.046830907464027405, 0.04887443035840988, 0.0697113499045372, 0.780987560749054], [0.004778152331709862, 0.007009407505393028, 0.07198193669319153, 0.025679264217615128, 0.025516577064990997, 0.8650346994400024], [0.007070372812449932, 0.15896351635456085, 0.02153085544705391, 0.021066976711153984, 0.005278447642922401, 0.7860897779464722], [0.011625252664089203, 0.13593105971813202, 0.07233252376317978, 0.02257448248565197, 0.029632918536663055, 0.7279037237167358], [0.0058510927483439445, 0.03295966982841492, 0.009207041002810001, 0.01537242066115141, 0.00791969895362854, 0.9286901354789734], [0.003243942279368639, 0.004255952313542366, 0.003169724252074957, 0.003177654230967164, 0.005916456691920757, 0.9802362322807312]], [[0.09209749102592468, 0.06879016757011414, 0.11638389527797699, 0.25443360209465027, 0.13519451022148132, 0.333100289106369], [0.00387727003544569, 0.008802766911685467, 0.06864625960588455, 0.2293989062309265, 0.40248119831085205, 0.28679361939430237], [0.0037325334269553423, 0.0036475753877311945, 0.016480423510074615, 0.21926972270011902, 0.41911572217941284, 0.33775395154953003], [0.006320947781205177, 0.0052564567886292934, 0.033800411969423294, 0.05590054392814636, 0.6764761209487915, 0.2222454845905304], [0.008397182449698448, 0.008986752480268478, 0.014836722053587437, 0.007129050325602293, 0.004842493217438459, 0.9558078050613403], [0.001521037658676505, 0.0017671390669420362, 0.0021431564819067717, 0.0035545204300433397, 0.0042050560005009174, 0.9868091344833374]], [[0.060102105140686035, 0.0468633770942688, 0.039745282381772995, 0.04356372728943825, 0.08374417573213577, 0.7259812951087952], [0.00454544136300683, 0.010866937227547169, 0.21905578672885895, 0.09079781919717789, 0.1305527240037918, 0.5441812872886658], [0.0028519879560917616, 0.011182245798408985, 0.01162759680300951, 0.26495081186294556, 0.29196009039878845, 0.4174272418022156], [0.014552121050655842, 0.011472754180431366, 0.009941762313246727, 0.023952560499310493, 0.44272884726524353, 0.49735191464424133], [0.0075190505012869835, 0.002175860805436969, 0.0006582299247384071, 0.0009191558929160237, 0.0009234721655957401, 0.9878041744232178], [0.010020087473094463, 0.008018122054636478, 0.008152899332344532, 0.011270486749708652, 0.017754992470145226, 0.9447833895683289]], [[0.01694667711853981, 0.007162034977227449, 0.011409606784582138, 0.02477102540433407, 0.2907865047454834, 0.6489241719245911], [0.006733591202646494, 0.009654737077653408, 0.054094742983579636, 0.06490519642829895, 0.31149807572364807, 0.5531136393547058], [0.015598573721945286, 0.024075448513031006, 0.04692620784044266, 0.01890120841562748, 0.4002249538898468, 0.4942736029624939], [0.01615861803293228, 0.031532902270555496, 0.028344741091132164, 0.016294950619339943, 0.43473514914512634, 0.47293367981910706], [0.007663796655833721, 0.023093020543456078, 0.01917768083512783, 0.01969841681420803, 0.023172076791524887, 0.907194972038269], [0.0054301051422953606, 0.006742987781763077, 0.012202943675220013, 0.009077741764485836, 0.03220968693494797, 0.9343365430831909]], [[0.04308147355914116, 0.023860909044742584, 0.02134486846625805, 0.0383196584880352, 0.07308720052242279, 0.8003059029579163], [0.3154871463775635, 0.02537960186600685, 0.03719986602663994, 0.02761933207511902, 0.04746345430612564, 0.5468505620956421], [0.21134063601493835, 0.01457951683551073, 0.05255800858139992, 0.020129794254899025, 0.06292419135570526, 0.6384678483009338], [0.15840265154838562, 0.03265729919075966, 0.12024490535259247, 0.06867796927690506, 0.10555706918239594, 0.5144600868225098], [0.10274890065193176, 0.03345320001244545, 0.03338799625635147, 0.05432899296283722, 0.1452477127313614, 0.6308331489562988], [0.03463517501950264, 0.02177266776561737, 0.022077007219195366, 0.01732618547976017, 0.039450906217098236, 0.8647381067276001]], [[0.030365414917469025, 0.005472792778164148, 0.0016517735784873366, 0.0038685027975589037, 0.13138261437416077, 0.8272588849067688], [0.15915502607822418, 0.014842438511550426, 0.006154301110655069, 0.007497001439332962, 0.05313718318939209, 0.7592141032218933], [0.44399118423461914, 0.023601926863193512, 0.007618969306349754, 0.0040669976733624935, 0.0390857569873333, 0.4816352128982544], [0.21646957099437714, 0.05378290265798569, 0.11412917077541351, 0.031163830310106277, 0.2822645306587219, 0.3021899461746216], [0.12245038151741028, 0.05541044473648071, 0.11908013373613358, 0.17938947677612305, 0.30689430236816406, 0.2167753279209137], [0.018832989037036896, 0.008172337897121906, 0.006569213699549437, 0.009258825331926346, 0.03137935698032379, 0.9257872104644775]], [[0.014509247615933418, 0.022381363436579704, 0.14266550540924072, 0.22387725114822388, 0.011063615791499615, 0.585503101348877], [0.009507447481155396, 0.043843477964401245, 0.011591855436563492, 0.0058105639182031155, 0.00772291561588645, 0.9215236902236938], [0.005111704580485821, 0.06848594546318054, 0.008479582145810127, 0.0023137417156249285, 0.003325721248984337, 0.9122833013534546], [0.032926976680755615, 0.10856906324625015, 0.05864688381552696, 0.014956158585846424, 0.010683948174118996, 0.7742169499397278], [0.005488293711096048, 0.08900374919176102, 0.11012876033782959, 0.059102971106767654, 0.007977059110999107, 0.7282991409301758], [0.008057987317442894, 0.01695544645190239, 0.02278291806578636, 0.03346223756670952, 0.010120980441570282, 0.9086204171180725]], [[0.01743330806493759, 0.08395654708147049, 0.0717327892780304, 0.25743940472602844, 0.26309734582901, 0.30634060502052307], [0.23013606667518616, 0.019755646586418152, 0.008661818690598011, 0.006476673763245344, 0.07252708077430725, 0.6624427437782288], [0.22791199386119843, 0.7098913192749023, 0.004361211787909269, 0.00337672489695251, 0.005898032803088427, 0.04856075346469879], [0.02486691065132618, 0.3343547582626343, 0.29600825905799866, 0.005709578283131123, 0.010732052847743034, 0.328328400850296], [0.021797144785523415, 0.02712608501315117, 0.02400541864335537, 0.30182379484176636, 0.07970988750457764, 0.5455376505851746], [0.004552825819700956, 0.007512169424444437, 0.009561119601130486, 0.016783783212304115, 0.012660808861255646, 0.9489293098449707]]], [[[0.0014410564908757806, 0.05280548334121704, 0.0398164801299572, 0.02932506985962391, 0.032298702746629715, 0.8443132042884827], [0.027593784034252167, 0.035721030086278915, 0.01609031856060028, 0.020258938893675804, 0.0362529531121254, 0.8640830516815186], [0.05586707219481468, 0.1457616090774536, 0.05249612405896187, 0.05003010854125023, 0.02506285533308983, 0.670782208442688], [0.05093640461564064, 0.3414710760116577, 0.13671565055847168, 0.060654930770397186, 0.055525846779346466, 0.354696124792099], [0.030885351821780205, 0.146680548787117, 0.20118919014930725, 0.1141473650932312, 0.03792964667081833, 0.4691678583621979], [0.00947603676468134, 0.008143213577568531, 0.008359989151358604, 0.006090783514082432, 0.008612511679530144, 0.9593175053596497]], [[0.050445739179849625, 0.041872236877679825, 0.20541717112064362, 0.13074685633182526, 0.2903846800327301, 0.28113338351249695], [0.015893131494522095, 0.04051687568426132, 0.43074673414230347, 0.20886322855949402, 0.12274519354104996, 0.18123488128185272], [0.011658838018774986, 0.02809576317667961, 0.03276074677705765, 0.09950265288352966, 0.31994038820266724, 0.5080416798591614], [0.009774405509233475, 0.01960543729364872, 0.019947370514273643, 0.038718994706869125, 0.1763949692249298, 0.735558807849884], [0.011317864060401917, 0.03560367971658707, 0.019913533702492714, 0.03025560826063156, 0.031410131603479385, 0.8714991211891174], [0.004380263388156891, 0.00733947241678834, 0.004067832604050636, 0.004073791671544313, 0.010805639438331127, 0.9693330526351929]], [[0.16652493178844452, 0.29606741666793823, 0.03122055158019066, 0.014131647534668446, 0.029927676543593407, 0.46212777495384216], [0.004338092170655727, 0.04491623491048813, 0.6438480615615845, 0.14033885300159454, 0.02568318508565426, 0.14087551832199097], [0.005059331655502319, 0.12485507875680923, 0.18135961890220642, 0.10722517222166061, 0.01715502142906189, 0.5643457770347595], [0.01599240116775036, 0.08381055295467377, 0.07287014275789261, 0.01767249032855034, 0.0715700313448906, 0.7380843758583069], [0.02016526833176613, 0.020465608686208725, 0.008269503712654114, 0.019535856321454048, 0.023720894008874893, 0.9078428745269775], [0.014874227344989777, 0.015227925032377243, 0.01058950088918209, 0.011488026939332485, 0.021690959110856056, 0.9261293411254883]], [[0.022095536813139915, 0.0027675172314047813, 0.005854183807969093, 0.010982092469930649, 0.00564056308940053, 0.9526601433753967], [0.005590302404016256, 0.019701596349477768, 0.038602445274591446, 0.009424909017980099, 0.013736695982515812, 0.9129440188407898], [0.008178108371794224, 0.03396408259868622, 0.04597950726747513, 0.024947836995124817, 0.010705203749239445, 0.8762253522872925], [0.006737632676959038, 0.02473069541156292, 0.05326508358120918, 0.017671076580882072, 0.023935480043292046, 0.8736599683761597], [0.004278648644685745, 0.005938539747148752, 0.007529046386480331, 0.0016610592138022184, 0.010514975525438786, 0.9700776934623718], [0.039522767066955566, 0.012251659296452999, 0.005593321286141872, 0.004997579846531153, 0.02577616088092327, 0.9118585586547852]], [[0.0018813996575772762, 0.004634236451238394, 0.0035883402451872826, 0.011244571767747402, 0.029908664524555206, 0.9487427473068237], [0.014027473516762257, 0.005244559142738581, 0.0015178463654592633, 0.004477463196963072, 0.08064927905797958, 0.8940834403038025], [0.001432595425285399, 0.7295873165130615, 0.03119794651865959, 0.009060518816113472, 0.0014403321547433734, 0.22728115320205688], [0.0022165440022945404, 0.013794735074043274, 0.8305540084838867, 0.017776181921362877, 0.027586298063397408, 0.10807221382856369], [0.011846616864204407, 0.06784002482891083, 0.16209621727466583, 0.3748150169849396, 0.022172115743160248, 0.3612300157546997], [0.005380450747907162, 0.004824769217520952, 0.004900841042399406, 0.0067280009388923645, 0.020548854023218155, 0.9576171040534973]], [[0.022088048979640007, 0.053543608635663986, 0.20813637971878052, 0.08017394691705704, 0.08537761867046356, 0.55068039894104], [0.013876966200768948, 0.09487869590520859, 0.6391546130180359, 0.05085288733243942, 0.08373622596263885, 0.11750049144029617], [0.04318732023239136, 0.15301355719566345, 0.28527534008026123, 0.07671666145324707, 0.2623954117298126, 0.17941167950630188], [0.024641722440719604, 0.19285394251346588, 0.2722930610179901, 0.04654232785105705, 0.21628469228744507, 0.24738426506519318], [0.015854287892580032, 0.08243189007043839, 0.11830609291791916, 0.020355090498924255, 0.06871486455202103, 0.694337785243988], [0.0059410217218101025, 0.006660827901214361, 0.018181856721639633, 0.0026933285407721996, 0.010243464261293411, 0.9562795162200928]], [[0.07096584141254425, 0.01190891768783331, 0.022426530718803406, 0.021811632439494133, 0.019267918542027473, 0.8536192178726196], [0.010654954239726067, 0.02072899043560028, 0.1023065447807312, 0.09602820873260498, 0.04982798174023628, 0.7204533815383911], [0.003829637309536338, 0.010736986063420773, 0.04407702758908272, 0.052021484822034836, 0.031818587332963943, 0.857516348361969], [0.0029269191436469555, 0.007646066136658192, 0.016749991104006767, 0.029551761224865913, 0.015398259274661541, 0.9277270436286926], [0.009273018687963486, 0.0071626207791268826, 0.0048406911082565784, 0.005754669196903706, 0.01879267208278179, 0.9541763663291931], [0.06636253744363785, 0.011458583176136017, 0.005705953110009432, 0.009805499576032162, 0.012177344411611557, 0.894490122795105]], [[0.1015370637178421, 0.0032184324227273464, 0.0009816029341891408, 0.002904976950958371, 0.057517629116773605, 0.8338403105735779], [0.018656235188245773, 0.010728402994573116, 0.01578087918460369, 0.008304166607558727, 0.005659302696585655, 0.940871000289917], [0.004690881352871656, 0.04440714046359062, 0.009351725690066814, 0.002923437161371112, 0.0022297254763543606, 0.9363970160484314], [0.00530205387622118, 0.02193366177380085, 0.030161390081048012, 0.010379437357187271, 0.0075033740140497684, 0.9247201681137085], [0.01617330312728882, 0.009671853855252266, 0.009743918664753437, 0.007148730102926493, 0.00417943624779582, 0.9530827403068542], [0.011733971536159515, 0.013189292512834072, 0.005144820082932711, 0.006304014008492231, 0.01048390381038189, 0.9531440138816833]], [[0.07605186104774475, 0.046891406178474426, 0.027558382600545883, 0.02186395227909088, 0.40375080704689026, 0.4238835871219635], [0.1766512393951416, 0.06047671288251877, 0.13762614130973816, 0.1533764749765396, 0.2749388515949249, 0.19693060219287872], [0.2514026165008545, 0.1171259805560112, 0.046423982828855515, 0.051345329731702805, 0.15750445425510406, 0.3761976659297943], [0.3470064401626587, 0.06577719002962112, 0.013171251863241196, 0.011342709884047508, 0.0813782811164856, 0.48132410645484924], [0.12029114365577698, 0.06135731562972069, 0.013534621335566044, 0.010200322605669498, 0.09722024202346802, 0.6973963379859924], [0.017807643860578537, 0.010393371805548668, 0.004585589282214642, 0.0037592484150081873, 0.014716369099915028, 0.9487378001213074]], [[0.0050348578952252865, 0.011694066226482391, 0.006792124360799789, 0.012283364310860634, 0.031084515154361725, 0.9331110715866089], [0.005011445842683315, 0.0159093476831913, 0.007303124759346247, 0.004677805583924055, 0.030183929949998856, 0.936914324760437], [0.02082000859081745, 0.07019200176000595, 0.027798105031251907, 0.009667566977441311, 0.024930374696850777, 0.8465919494628906], [0.01774345338344574, 0.14669190347194672, 0.35773995518684387, 0.021135985851287842, 0.037321679294109344, 0.41936689615249634], [0.0720476508140564, 0.16711227595806122, 0.12542372941970825, 0.06560738384723663, 0.06411803513765335, 0.50569087266922], [0.008335177786648273, 0.009991968981921673, 0.006906814407557249, 0.007240495644509792, 0.024526450783014297, 0.9429991245269775]], [[0.03175140172243118, 0.028004363179206848, 0.05744219571352005, 0.06795146316289902, 0.39794278144836426, 0.41690781712532043], [0.0034013164695352316, 0.006203917786478996, 0.06349088251590729, 0.07467982172966003, 0.5843719840049744, 0.2678520977497101], [0.004850385244935751, 0.009860901162028313, 0.051061805337667465, 0.09378036111593246, 0.4858454763889313, 0.354601114988327], [0.002314430195838213, 0.001152284792624414, 0.003696860745549202, 0.004749215207993984, 0.9124895930290222, 0.07559770345687866], [0.01424620021134615, 0.04476577416062355, 0.02901848778128624, 0.02504548244178295, 0.012023895047605038, 0.8749001026153564], [0.01008594036102295, 0.009952990338206291, 0.008320329710841179, 0.00937850121408701, 0.022948479279875755, 0.9393137097358704]], [[0.05489964410662651, 0.006617591716349125, 0.006855539511889219, 0.09170091897249222, 0.5142719149589539, 0.32565441727638245], [0.01496198307722807, 0.010189552791416645, 0.010224566794931889, 0.009647183120250702, 0.13109111785888672, 0.8238856196403503], [0.007297241594642401, 0.30785125494003296, 0.06377112120389938, 0.018513686954975128, 0.009625486098229885, 0.592941164970398], [0.007211267948150635, 0.39903634786605835, 0.14626261591911316, 0.012526636011898518, 0.03326224163174629, 0.401700884103775], [0.006417546421289444, 0.012694969773292542, 0.005870488937944174, 0.01932014711201191, 0.0441707968711853, 0.9115260243415833], [0.008580639958381653, 0.008115841075778008, 0.002575002145022154, 0.006158119533210993, 0.03895929455757141, 0.9356111288070679]]], [[[0.06423324346542358, 0.039532627910375595, 0.11981310695409775, 0.03875551372766495, 0.10797233134508133, 0.6296931505203247], [0.2894572913646698, 0.05115656554698944, 0.019242534413933754, 0.05703679099678993, 0.04515550285577774, 0.5379512906074524], [0.2301763892173767, 0.05772053077816963, 0.022540578618645668, 0.021724490448832512, 0.0348089337348938, 0.633029043674469], [0.14990726113319397, 0.0381171740591526, 0.0335737019777298, 0.027017436921596527, 0.052525442093610764, 0.698858916759491], [0.10325216501951218, 0.013767126016318798, 0.006380690727382898, 0.005535932257771492, 0.01032487116754055, 0.8607392311096191], [0.02392898127436638, 0.010303176008164883, 0.004791599698364735, 0.002903711749240756, 0.009364691562950611, 0.9487078785896301]], [[0.03561178594827652, 0.0873819887638092, 0.025806736201047897, 0.021801790222525597, 0.10119916498661041, 0.7281985282897949], [0.03753947466611862, 0.033153630793094635, 0.01227651908993721, 0.008728699758648872, 0.050986148416996, 0.8573155403137207], [0.013203422538936138, 0.010082096792757511, 0.004594902042299509, 0.0035188263282179832, 0.015835482627153397, 0.9527653455734253], [0.013533910736441612, 0.04770262911915779, 0.014391832984983921, 0.011096556670963764, 0.016006235033273697, 0.8972688913345337], [0.03235883265733719, 0.07165943086147308, 0.03102256916463375, 0.02215779945254326, 0.04326150193810463, 0.7995399236679077], [0.021253082901239395, 0.025145210325717926, 0.019759485498070717, 0.01872650533914566, 0.06203687936067581, 0.8530787825584412]], [[0.005624092184007168, 0.5233424305915833, 0.030912965536117554, 0.008013478480279446, 0.021877411752939224, 0.4102296829223633], [0.004459287505596876, 0.048008427023887634, 0.37018799781799316, 0.014306454919278622, 0.014938156120479107, 0.5480996370315552], [0.0011013676412403584, 0.02502281405031681, 0.009691749699413776, 0.04843622446060181, 0.014863763935863972, 0.9008840322494507], [0.0016036202432587743, 0.016440603882074356, 0.002630313392728567, 0.0059304144233465195, 0.3708019256591797, 0.6025931239128113], [0.030956942588090897, 0.037061259150505066, 0.0021707438863813877, 0.004588523413985968, 0.03130374476313591, 0.8939187526702881], [0.013459390960633755, 0.027430009096860886, 0.009593593887984753, 0.008602085523307323, 0.018716279417276382, 0.9221987128257751]], [[0.00398227060213685, 0.11708245426416397, 0.1411598175764084, 0.03322933241724968, 0.01762010157108307, 0.6869259476661682], [0.06560838222503662, 0.06607230752706528, 0.17224718630313873, 0.02548200637102127, 0.07857227325439453, 0.5920178890228271], [0.08783689886331558, 0.04519684240221977, 0.18663136661052704, 0.0412474162876606, 0.11354847997426987, 0.5255390405654907], [0.04470951482653618, 0.1788279414176941, 0.06530672311782837, 0.02442261576652527, 0.1818893998861313, 0.5048437714576721], [0.03286457806825638, 0.036421407014131546, 0.03625350445508957, 0.02444305829703808, 0.05126302316784859, 0.8187543749809265], [0.020748242735862732, 0.022086841985583305, 0.01154253724962473, 0.006587278563529253, 0.026107164099812508, 0.9129279255867004]], [[0.0037103688810020685, 0.13529780507087708, 0.17908047139644623, 0.028377803042531013, 0.08097745478153229, 0.5725561380386353], [0.00881801638752222, 0.07423608005046844, 0.044673483818769455, 0.006587741430848837, 0.02917109988629818, 0.8365136384963989], [0.004722745157778263, 0.07063610106706619, 0.03694263845682144, 0.004611328709870577, 0.010334349237382412, 0.872752845287323], [0.006217447575181723, 0.12447573244571686, 0.04908035695552826, 0.005903497338294983, 0.016181673854589462, 0.7981412410736084], [0.004462654236704111, 0.021070493385195732, 0.009930637665092945, 0.0029858597554266453, 0.01054420042783022, 0.9510061144828796], [0.011474008671939373, 0.027648596093058586, 0.015147012658417225, 0.00511730695143342, 0.017029935494065285, 0.9235830903053284]], [[0.04576614126563072, 0.14655336737632751, 0.17701685428619385, 0.023637505248188972, 0.05748157948255539, 0.5495445728302002], [0.0036313908640295267, 0.029721951112151146, 0.41850563883781433, 0.024333074688911438, 0.03672049194574356, 0.4870874881744385], [0.005341219250112772, 0.03396587446331978, 0.063938669860363, 0.09248147904872894, 0.10670800507068634, 0.6975647211074829], [0.0032220983412116766, 0.04627398028969765, 0.04008021205663681, 0.02865614742040634, 0.40258148312568665, 0.4791860580444336], [0.0040690409950912, 0.03679070994257927, 0.015450253151357174, 0.003245722269639373, 0.025154417380690575, 0.9152898788452148], [0.008686491288244724, 0.0276731438934803, 0.019926099106669426, 0.005929112434387207, 0.024158811196684837, 0.9136263132095337]], [[0.0047539458610117435, 0.008350249379873276, 0.004806092940270901, 0.009407317265868187, 0.012797427363693714, 0.9598849415779114], [0.07905469089746475, 0.03641226515173912, 0.01740991324186325, 0.0045763300731778145, 0.010195521637797356, 0.8523513078689575], [0.012940607033669949, 0.22551286220550537, 0.04038851708173752, 0.006673913449048996, 0.0038470474537461996, 0.710637092590332], [0.011650528758764267, 0.10579199343919754, 0.053020723164081573, 0.004498861730098724, 0.010222828015685081, 0.8148150444030762], [0.007633711211383343, 0.048372894525527954, 0.045339103788137436, 0.025357749313116074, 0.014147529378533363, 0.8591489791870117], [0.008498300798237324, 0.016277065500617027, 0.011385677382349968, 0.012717628851532936, 0.009800850413739681, 0.941320538520813]], [[0.11971420794725418, 0.06495005637407303, 0.11051221191883087, 0.0689040794968605, 0.07943427562713623, 0.5564851760864258], [0.044007807970047, 0.009992825798690319, 0.043907154351472855, 0.1138690859079361, 0.06085272133350372, 0.7273705005645752], [0.01880195550620556, 0.010252733714878559, 0.031802739948034286, 0.07556141912937164, 0.029049929231405258, 0.8345312476158142], [0.017753224819898605, 0.040287576615810394, 0.03694325312972069, 0.06209350377321243, 0.030027681961655617, 0.8128947615623474], [0.010166783817112446, 0.012767591513693333, 0.013009827584028244, 0.007846079766750336, 0.01261269673705101, 0.9435970783233643], [0.008100197650492191, 0.022869490087032318, 0.013267927803099155, 0.007569583598524332, 0.01353992149233818, 0.9346529245376587]], [[0.016365963965654373, 0.01814613677561283, 0.039050739258527756, 0.033765796571969986, 0.056591495871543884, 0.8360798358917236], [0.07740366458892822, 0.04031458869576454, 0.17158864438533783, 0.0864214077591896, 0.2883596122264862, 0.33591216802597046], [0.034790363162755966, 0.017490798607468605, 0.09613259881734848, 0.10262304544448853, 0.4014928936958313, 0.34747031331062317], [0.061324890702962875, 0.030010737478733063, 0.06653069704771042, 0.10296137630939484, 0.22711877524852753, 0.5120535492897034], [0.053851012140512466, 0.018360907211899757, 0.05095197260379791, 0.039224013686180115, 0.05398634821176529, 0.7836256623268127], [0.013727436773478985, 0.005607137456536293, 0.0052671292796730995, 0.0034134546294808388, 0.00856440607458353, 0.9634204506874084]], [[0.027319151908159256, 0.02480415441095829, 0.05713195726275444, 0.04029346629977226, 0.10282278805971146, 0.7476284503936768], [0.09072677791118622, 0.05400365963578224, 0.11087534576654434, 0.21849150955677032, 0.31213057041168213, 0.2137720286846161], [0.1454930603504181, 0.03444962948560715, 0.02816011942923069, 0.08146919310092926, 0.23448719084262848, 0.47594085335731506], [0.11215879768133163, 0.042393527925014496, 0.03589509427547455, 0.0438913069665432, 0.1479814201593399, 0.6176798343658447], [0.044327083975076675, 0.05365966632962227, 0.05093405023217201, 0.038888119161129, 0.0612589456140995, 0.7509322166442871], [0.014174029231071472, 0.01271087396889925, 0.010354243218898773, 0.006303754169493914, 0.017963752150535583, 0.9384933114051819]], [[0.006550706923007965, 0.025048527866601944, 0.011231751181185246, 0.019613265991210938, 0.11809349060058594, 0.819462239742279], [0.007185125723481178, 0.020013509318232536, 0.023674869909882545, 0.04006139934062958, 0.35850009322166443, 0.5505650043487549], [0.005593093112111092, 0.12402869760990143, 0.051391635090112686, 0.020896855741739273, 0.15571793913841248, 0.6423717737197876], [0.0071617006324231625, 0.29116231203079224, 0.10580794513225555, 0.027855586260557175, 0.20283454656600952, 0.3651779294013977], [0.008436640724539757, 0.29062408208847046, 0.16198180615901947, 0.018161959946155548, 0.060597773641347885, 0.4601977467536926], [0.002930506831035018, 0.013688599690794945, 0.0076781404204666615, 0.005349238868802786, 0.02569282054901123, 0.9446607232093811]], [[0.015687614679336548, 0.0022369467187672853, 0.002837895415723324, 0.0015723119722679257, 0.012695243582129478, 0.964970052242279], [0.059156157076358795, 0.01523548923432827, 0.02159232459962368, 0.013967105187475681, 0.041118647903203964, 0.848930299282074], [0.06411686539649963, 0.019037244841456413, 0.015553787350654602, 0.010647092014551163, 0.022246990352869034, 0.8683980703353882], [0.1397342085838318, 0.06710319221019745, 0.0827438160777092, 0.01830412819981575, 0.016877202317118645, 0.6752374768257141], [0.07403564453125, 0.043606266379356384, 0.05472806096076965, 0.04168207198381424, 0.04725046828389168, 0.7386974692344666], [0.010423533618450165, 0.012304351665079594, 0.0070054177194833755, 0.006200844421982765, 0.02113695628941059, 0.9429288506507874]]], [[[0.021503044292330742, 0.13968466222286224, 0.09889070689678192, 0.0434303879737854, 0.09067895263433456, 0.6058122515678406], [0.007518355268985033, 0.11206372082233429, 0.02794993296265602, 0.019011463969945908, 0.18045111000537872, 0.6530054807662964], [0.009395386092364788, 0.05212831497192383, 0.13667717576026917, 0.04380308464169502, 0.11932215839624405, 0.6386739611625671], [0.006150690373033285, 0.029163340106606483, 0.042413726449012756, 0.0630882978439331, 0.406795471906662, 0.4523884952068329], [0.00948483869433403, 0.0164377111941576, 0.0060683805495500565, 0.002472012070938945, 0.3978216350078583, 0.5677154064178467], [0.0015810435870662332, 0.030819052830338478, 0.012080083601176739, 0.010872060433030128, 0.08442146331071854, 0.8602263331413269]], [[0.026581676676869392, 0.03934292867779732, 0.019133172929286957, 0.020302703604102135, 0.05022665485739708, 0.8444128036499023], [0.10879549384117126, 0.02340695820748806, 0.008998706005513668, 0.01148358453065157, 0.0551556721329689, 0.7921595573425293], [0.10817261040210724, 0.05964454263448715, 0.018607188016176224, 0.0400257371366024, 0.19679664075374603, 0.5767531991004944], [0.19384483993053436, 0.05180496349930763, 0.02141650952398777, 0.03356262296438217, 0.15769854187965393, 0.5416725277900696], [0.07146347314119339, 0.0513855405151844, 0.020785093307495117, 0.011414609849452972, 0.006344084162265062, 0.8386071920394897], [0.09514044970273972, 0.03906887024641037, 0.01967032253742218, 0.014740809798240662, 0.0567467138171196, 0.7746328711509705]], [[0.003974455408751965, 0.0057007428258657455, 0.011850598268210888, 0.004313117824494839, 0.005881888791918755, 0.9682791233062744], [0.00842127576470375, 0.024005359038710594, 0.07877013087272644, 0.031473562121391296, 0.09245167672634125, 0.76487797498703], [0.02778697945177555, 0.02269352413713932, 0.029158221557736397, 0.019230663776397705, 0.09667963534593582, 0.8044509887695312], [0.05375215783715248, 0.06543823331594467, 0.13329151272773743, 0.04952666908502579, 0.12452235817909241, 0.5734691023826599], [0.025305598974227905, 0.01520492136478424, 0.04521634429693222, 0.03139279782772064, 0.04224889352917671, 0.8406314253807068], [0.011983961798250675, 0.034163445234298706, 0.08280407637357712, 0.031032035127282143, 0.10820816457271576, 0.7318083643913269]], [[0.018505802378058434, 0.0510290265083313, 0.06243877485394478, 0.08632738888263702, 0.03213680908083916, 0.7495622038841248], [0.08322341740131378, 0.05911586806178093, 0.09512006491422653, 0.017439136281609535, 0.016823016107082367, 0.7282785773277283], [0.08486280590295792, 0.09932401776313782, 0.03950412571430206, 0.009572925977408886, 0.011734012514352798, 0.7550021409988403], [0.10365995019674301, 0.07257962971925735, 0.07850322872400284, 0.01579507254064083, 0.04204026237130165, 0.6874218583106995], [0.11639008671045303, 0.15381582081317902, 0.10002326220273972, 0.17735148966312408, 0.06653410196304321, 0.38588523864746094], [0.1413254588842392, 0.08836501091718674, 0.06696063280105591, 0.04360754415392876, 0.05429784208536148, 0.60544353723526]], [[0.1733253449201584, 0.019059674814343452, 0.011441831476986408, 0.010601398535072803, 0.047952357679605484, 0.7376194596290588], [0.16129423677921295, 0.15156590938568115, 0.059244535863399506, 0.03917047008872032, 0.08103212714195251, 0.5076927542686462], [0.14985179901123047, 0.15756815671920776, 0.023493876680731773, 0.018988031893968582, 0.1392236053943634, 0.5108744502067566], [0.022310905158519745, 0.11775415390729904, 0.02926679141819477, 0.02365531027317047, 0.12352339178323746, 0.6834894418716431], [0.006052594631910324, 0.02704155445098877, 0.01706792786717415, 0.02162366732954979, 0.028209827840328217, 0.9000043869018555], [0.04577699676156044, 0.04360144957900047, 0.029712006449699402, 0.01475752517580986, 0.10765250772237778, 0.7584995031356812]], [[0.022917669266462326, 0.03795410692691803, 0.018744349479675293, 0.02665276825428009, 0.02560642920434475, 0.8681246638298035], [0.008512445725500584, 0.09030859917402267, 0.15475820004940033, 0.09121343493461609, 0.38222041726112366, 0.2729869782924652], [0.012594296596944332, 0.08296899497509003, 0.10391706228256226, 0.050549112260341644, 0.3046366274356842, 0.44533392786979675], [0.0054472885094583035, 0.1605672538280487, 0.13695202767848969, 0.05711919814348221, 0.33295369148254395, 0.3069605231285095], [0.005243627354502678, 0.061990056186914444, 0.04945133998990059, 0.02711348794400692, 0.1696195751428604, 0.6865819096565247], [0.017606301233172417, 0.16368882358074188, 0.16546902060508728, 0.09205689281225204, 0.2235141396522522, 0.33766481280326843]], [[0.05505099520087242, 0.04006415605545044, 0.04291203245520592, 0.018326975405216217, 0.17462757229804993, 0.6690182685852051], [0.45792078971862793, 0.1338338851928711, 0.05810057744383812, 0.020632529631257057, 0.013235487043857574, 0.31627675890922546], [0.2235751897096634, 0.02330007776618004, 0.3124053180217743, 0.030085774138569832, 0.01797628588974476, 0.3926573097705841], [0.2809370160102844, 0.020064204931259155, 0.01655837707221508, 0.22757567465305328, 0.015712615102529526, 0.4391520917415619], [0.08829734474420547, 0.013570587150752544, 0.014613128267228603, 0.04196007177233696, 0.3037535548210144, 0.5378053188323975], [0.05966908857226372, 0.028858188539743423, 0.023872502148151398, 0.017418479546904564, 0.03952832520008087, 0.8306534290313721]], [[0.01669302023947239, 0.04640078544616699, 0.021037282422184944, 0.028121352195739746, 0.07538191229104996, 0.8123656511306763], [0.003708513453602791, 0.032074254006147385, 0.0808626115322113, 0.02795015461742878, 0.29954612255096436, 0.5558583736419678], [0.0049180095084011555, 0.05660543218255043, 0.038736145943403244, 0.016840219497680664, 0.27851903438568115, 0.6043812036514282], [0.0033715323079377413, 0.05099645256996155, 0.030912436544895172, 0.018053222447633743, 0.47559836506843567, 0.4210679829120636], [0.002155342837795615, 0.021970119327306747, 0.013954386115074158, 0.0066538406535983086, 0.20214861631393433, 0.7531177401542664], [0.004046889021992683, 0.019322140142321587, 0.02218838408589363, 0.013277711346745491, 0.11738835275173187, 0.8237764835357666]], [[0.06875170022249222, 0.19337685406208038, 0.19082754850387573, 0.13191907107830048, 0.17572586238384247, 0.23939894139766693], [0.08948063105344772, 0.322975754737854, 0.23592336475849152, 0.059458911418914795, 0.025147942826151848, 0.26701343059539795], [0.03260698541998863, 0.07372584193944931, 0.5949121713638306, 0.046336375176906586, 0.007633976638317108, 0.24478457868099213], [0.041731078177690506, 0.1257115751504898, 0.28640687465667725, 0.17927713692188263, 0.057788800448179245, 0.30908453464508057], [0.10930880159139633, 0.019973263144493103, 0.038978561758995056, 0.020449800416827202, 0.23475711047649384, 0.5765324234962463], [0.1828160136938095, 0.13081172108650208, 0.12814265489578247, 0.11945261806249619, 0.09218145906925201, 0.34659555554389954]], [[0.04557975009083748, 0.021538205444812775, 0.018678076565265656, 0.015699520707130432, 0.0648539662361145, 0.8336504697799683], [0.0831240639090538, 0.07348252087831497, 0.03301898017525673, 0.0429447777569294, 0.046742700040340424, 0.7206869721412659], [0.022204434499144554, 0.3373812437057495, 0.03346696123480797, 0.02510780468583107, 0.03739745542407036, 0.5444421172142029], [0.03406035527586937, 0.11077495664358139, 0.06589867919683456, 0.024007674306631088, 0.017484724521636963, 0.7477735877037048], [0.03885665535926819, 0.06817438453435898, 0.028705665841698647, 0.14321433007717133, 0.09690915793180466, 0.6241397857666016], [0.05020929127931595, 0.09823188930749893, 0.04419304430484772, 0.017084650695323944, 0.0449407733976841, 0.7453403472900391]], [[0.030328432098031044, 0.02050730027258396, 0.02506142668426037, 0.019202781841158867, 0.020305287092924118, 0.8845947980880737], [0.2879427373409271, 0.06786705553531647, 0.08809296786785126, 0.12676507234573364, 0.10994516313076019, 0.31938695907592773], [0.18200084567070007, 0.03685391694307327, 0.03164460137486458, 0.04351608455181122, 0.12790201604366302, 0.5780825018882751], [0.19286292791366577, 0.05354810878634453, 0.08530806005001068, 0.05737227946519852, 0.22569024562835693, 0.38521838188171387], [0.03407637029886246, 0.005092600826174021, 0.006418322678655386, 0.001578548806719482, 0.010509146377444267, 0.9423249959945679], [0.06143982335925102, 0.06347852945327759, 0.10524377226829529, 0.02539900876581669, 0.12412089109420776, 0.6203179955482483]], [[0.17534750699996948, 0.08168625831604004, 0.05784200504422188, 0.09607189893722534, 0.07069922983646393, 0.5183531045913696], [0.10672997683286667, 0.03283414989709854, 0.06134139373898506, 0.08450601249933243, 0.09584085643291473, 0.6187475919723511], [0.08603488653898239, 0.03577740117907524, 0.007845542393624783, 0.03563515096902847, 0.10941585153341293, 0.7252910733222961], [0.1429908126592636, 0.1406654566526413, 0.04809463396668434, 0.03249431774020195, 0.1262035220861435, 0.5095512866973877], [0.05336983874440193, 0.03751137852668762, 0.05199652537703514, 0.0364110954105854, 0.011858037672936916, 0.8088531494140625], [0.25302332639694214, 0.11516053974628448, 0.13039548695087433, 0.1061391532421112, 0.18608124554157257, 0.20920023322105408]]], [[[0.06716915965080261, 0.2638779282569885, 0.20475618541240692, 0.20615622401237488, 0.0562104806303978, 0.2018299698829651], [0.10161319375038147, 0.3634905219078064, 0.13320019841194153, 0.04822031781077385, 0.03290996327996254, 0.3205658197402954], [0.11691945046186447, 0.26142725348472595, 0.12101839482784271, 0.028802620247006416, 0.04511578381061554, 0.4267165958881378], [0.09592661261558533, 0.20645220577716827, 0.1313893049955368, 0.08626361191272736, 0.052772920578718185, 0.42719537019729614], [0.035774316638708115, 0.046654023230075836, 0.043621353805065155, 0.03472491353750229, 0.09868253022432327, 0.7405428290367126], [0.02032330259680748, 0.021220561116933823, 0.022967828437685966, 0.029307352378964424, 0.08585656434297562, 0.8203244209289551]], [[0.012982173822820187, 0.05229869484901428, 0.03621862083673477, 0.03255583718419075, 0.04364078491926193, 0.8223038911819458], [0.001251781708560884, 0.004526912700384855, 0.002404620870947838, 0.0005474606296047568, 0.0266056377440691, 0.964663565158844], [0.0013556942576542497, 0.002557366853579879, 0.018911294639110565, 0.0011016781209036708, 0.02832125686109066, 0.9477526545524597], [0.0003732412005774677, 0.0009274830808863044, 0.00331137771718204, 0.0009534897981211543, 0.05381646379828453, 0.9406179785728455], [0.0008679030579514802, 0.0010445085354149342, 0.0012489892542362213, 0.000283221947029233, 0.21681572496891022, 0.7797396779060364], [0.0022971946746110916, 0.0015156440204009414, 0.0013432177947834134, 0.0004221147974021733, 0.009339442476630211, 0.9850823879241943]], [[0.023852646350860596, 0.05666027218103409, 0.061164531856775284, 0.030545363202691078, 0.12845541536808014, 0.6993217468261719], [0.04618213325738907, 0.04375914856791496, 0.024589816108345985, 0.008615351282060146, 0.015028671361505985, 0.8618249297142029], [0.02670053206384182, 0.008500024676322937, 0.007704729679971933, 0.0017611653311178088, 0.007691617589443922, 0.9476419687271118], [0.06617327779531479, 0.03596861660480499, 0.04250078275799751, 0.014802977442741394, 0.04310649260878563, 0.797447919845581], [0.14217127859592438, 0.057157471776008606, 0.05186386778950691, 0.04774032533168793, 0.1052156388759613, 0.595851480960846], [0.033265333622694016, 0.05688207969069481, 0.020650621503591537, 0.014729968272149563, 0.037816740572452545, 0.8366551995277405]], [[0.06823001801967621, 0.015494267456233501, 0.005358763970434666, 0.022557033225893974, 0.14563380181789398, 0.7427260279655457], [0.03267231956124306, 0.005673873703926802, 0.00095021678134799, 0.0067895143292844296, 0.054128263145685196, 0.8997858166694641], [0.018342891708016396, 0.0014703053748235106, 8.438531949650496e-05, 0.002800661139190197, 0.029675887897610664, 0.9476258754730225], [0.06844969838857651, 0.0081042954698205, 0.0018026153557002544, 0.004673996940255165, 0.03080887906253338, 0.8861604928970337], [0.053658612072467804, 0.035233478993177414, 0.010470452718436718, 0.01168788317590952, 0.012091144919395447, 0.8768584132194519], [0.20002304017543793, 0.10753030329942703, 0.13147743046283722, 0.12065576761960983, 0.26617631316185, 0.1741371601819992]], [[0.04984885826706886, 0.3514614403247833, 0.10458461940288544, 0.12483656406402588, 0.2341858148574829, 0.13508270680904388], [0.1507350504398346, 0.009139154106378555, 0.007573120761662722, 0.005284533835947514, 0.06658295542001724, 0.7606852054595947], [0.06517777591943741, 0.012912428006529808, 0.007831552065908909, 0.003754514269530773, 0.02942398376762867, 0.8808997273445129], [0.3139500319957733, 0.07469528168439865, 0.04303567111492157, 0.016092682257294655, 0.09534655511379242, 0.4568798243999481], [0.18928803503513336, 0.09309457242488861, 0.05275406688451767, 0.04727758467197418, 0.06249382719397545, 0.5550918579101562], [0.005429810844361782, 0.0039918916299939156, 0.004714710637927055, 0.0021609277464449406, 0.019769510254263878, 0.9639331698417664]], [[0.02618306130170822, 0.10442467778921127, 0.0551103912293911, 0.031983382999897, 0.07360637933015823, 0.7086920738220215], [0.00206507439725101, 0.02511647529900074, 0.019934674724936485, 0.0024527504574507475, 0.02361413836479187, 0.9268169403076172], [0.0011845927219837904, 0.014352168887853622, 0.18344655632972717, 0.004508362617343664, 0.018902525305747986, 0.7776058316230774], [0.0019461398478597403, 0.01872314140200615, 0.03672458976507187, 0.03392578288912773, 0.08586522936820984, 0.8228150606155396], [0.0007333946996368468, 0.0073422328568995, 0.005887871608138084, 0.00789684895426035, 0.09624950587749481, 0.8818901777267456], [0.0013888099929317832, 0.01147073321044445, 0.007068298757076263, 0.0036685187369585037, 0.02620655484497547, 0.9501971006393433]], [[0.036754876375198364, 0.4178955554962158, 0.20193511247634888, 0.046172790229320526, 0.08271834999322891, 0.21452340483665466], [0.1477518081665039, 0.20245391130447388, 0.03905562311410904, 0.004952539689838886, 0.19651928544044495, 0.4092668294906616], [0.11568289250135422, 0.0540589839220047, 0.014398111961781979, 0.002105776686221361, 0.4286564588546753, 0.38509780168533325], [0.07938279211521149, 0.037358980625867844, 0.007505773101001978, 0.002407481661066413, 0.6151045560836792, 0.25824040174484253], [0.012313016690313816, 0.01572929322719574, 0.0035914576146751642, 0.0020607165060937405, 0.3414360284805298, 0.6248694658279419], [0.009443417191505432, 0.017272289842367172, 0.00414628628641367, 0.001635075081139803, 0.02797146886587143, 0.9395313858985901]], [[0.019466372206807137, 0.17509105801582336, 0.20629173517227173, 0.06009515002369881, 0.07504188269376755, 0.46401387453079224], [0.02308851294219494, 0.03724920377135277, 0.011302086524665356, 0.016969095915555954, 0.048907794058322906, 0.8624832630157471], [0.03575209155678749, 0.021702922880649567, 0.0023676834534853697, 0.009542684070765972, 0.065645731985569, 0.8649888038635254], [0.034900516271591187, 0.08232384920120239, 0.021587390452623367, 0.035602640360593796, 0.10322711616754532, 0.7223585247993469], [0.017296748235821724, 0.07881537824869156, 0.03707657381892204, 0.014402909204363823, 0.016009017825126648, 0.8363993763923645], [0.006821999792009592, 0.011888115666806698, 0.01919146440923214, 0.009975021705031395, 0.029401713982224464, 0.9227217435836792]], [[0.0029159451369196177, 0.18052396178245544, 0.059231702238321304, 0.02389609068632126, 0.049665290862321854, 0.6837670207023621], [0.011311705224215984, 0.12856920063495636, 0.10009671002626419, 0.014572490938007832, 0.0931168645620346, 0.6523329615592957], [0.015040804632008076, 0.12101233005523682, 0.18763038516044617, 0.0271330326795578, 0.03389715775847435, 0.6152862906455994], [0.01568908616900444, 0.07284212857484818, 0.048056066036224365, 0.04445948451757431, 0.3856196105480194, 0.43333354592323303], [0.006811230443418026, 0.018544556573033333, 0.004779118113219738, 0.016156041994690895, 0.10570785403251648, 0.84800124168396], [0.052156273275613785, 0.06191311404109001, 0.03649057075381279, 0.0334535576403141, 0.04992350935935974, 0.7660629153251648]], [[0.012963248416781425, 0.032113075256347656, 0.005861847195774317, 0.006471405271440744, 0.04876276105642319, 0.8938276171684265], [0.0007900833152234554, 0.06370674818754196, 0.014787521213293076, 0.00127198058180511, 0.017017357051372528, 0.9024262428283691], [0.0007130141602829099, 0.018291715532541275, 0.33573004603385925, 0.0020419296342879534, 0.01038991380482912, 0.6328333616256714], [0.0010716698598116636, 0.01693451963365078, 0.05914182960987091, 0.03482924401760101, 0.0283533725887537, 0.8596693277359009], [0.0008431964670307934, 0.004581313580274582, 0.0060102930292487144, 0.0013242678251117468, 0.306503027677536, 0.6807379126548767], [0.00030873657669872046, 0.0019009982934221625, 0.0015004025772213936, 0.0005176235572434962, 0.009638017974793911, 0.9861342310905457]], [[0.027939025312662125, 0.14581945538520813, 0.32245373725891113, 0.16742470860481262, 0.12178468704223633, 0.21457840502262115], [0.20732596516609192, 0.6328468918800354, 0.12375489622354507, 0.008806769736111164, 0.022343814373016357, 0.004921727813780308], [0.1811397671699524, 0.018315721303224564, 0.7908910512924194, 0.0036582655739039183, 0.005438016261905432, 0.0005572708905674517], [0.32370099425315857, 0.02136426977813244, 0.11895569413900375, 0.14471207559108734, 0.38284024596214294, 0.008426719345152378], [0.29487550258636475, 0.010972971096634865, 0.00318220816552639, 0.004441523924469948, 0.6799094080924988, 0.006618381943553686], [0.15435409545898438, 0.1506049484014511, 0.14580108225345612, 0.11323554068803787, 0.20372849702835083, 0.23227587342262268]], [[0.05716872587800026, 0.28427809476852417, 0.1890055239200592, 0.07425593584775925, 0.14551809430122375, 0.24977365136146545], [0.0032042814418673515, 0.08629229664802551, 0.12421280145645142, 0.03623387590050697, 0.23367778956890106, 0.5163789987564087], [0.0020923251286149025, 0.06914445757865906, 0.050319604575634, 0.015123625285923481, 0.1265566349029541, 0.7367633581161499], [0.0017098101088777184, 0.18593019247055054, 0.10586697608232498, 0.016119061037898064, 0.1552148312330246, 0.535159170627594], [0.009550211019814014, 0.06989366561174393, 0.0939975306391716, 0.02987692505121231, 0.07482317835092545, 0.7218585014343262], [0.05151425302028656, 0.01366101112216711, 0.010963905602693558, 0.005106889642775059, 0.0155319320037961, 0.9032219648361206]]], [[[0.30576619505882263, 0.03442174941301346, 0.022107267752289772, 0.011056256480515003, 0.06118490919470787, 0.5654636025428772], [0.01145240105688572, 0.00642029196023941, 0.004408500622957945, 0.005538333207368851, 0.016688469797372818, 0.9554919600486755], [0.012574760243296623, 0.005841379519551992, 0.004469174891710281, 0.006533499341458082, 0.02661881223320961, 0.9439623355865479], [0.007521294988691807, 0.006967640016227961, 0.005866043269634247, 0.005406415555626154, 0.023942260071635246, 0.9502963423728943], [0.040253203362226486, 0.009164290502667427, 0.012200084514915943, 0.012599950656294823, 0.07242181152105331, 0.853360652923584], [0.007858474738895893, 0.0039686704985797405, 0.0043510259129107, 0.005508251488208771, 0.01445839274674654, 0.9638552069664001]], [[0.29467156529426575, 0.06758234649896622, 0.07233484089374542, 0.0834122970700264, 0.1471320539712906, 0.3348669111728668], [0.0322888009250164, 0.017160246148705482, 0.02707306295633316, 0.024566225707530975, 0.041743118315935135, 0.8571685552597046], [0.01979769766330719, 0.026913858950138092, 0.018056074157357216, 0.016405891627073288, 0.04825448989868164, 0.8705719709396362], [0.026916947215795517, 0.06978195905685425, 0.02998216263949871, 0.01822870969772339, 0.06225794181227684, 0.7928323149681091], [0.06664711982011795, 0.06297966837882996, 0.0826922059059143, 0.05769418552517891, 0.0468825101852417, 0.6831042766571045], [0.007588761392980814, 0.010910015553236008, 0.01074092648923397, 0.013607132248580456, 0.020119279623031616, 0.9370338320732117]], [[0.1535772681236267, 0.23757191002368927, 0.14600495994091034, 0.2335457056760788, 0.1096583679318428, 0.11964179575443268], [0.09138770401477814, 0.21630381047725677, 0.1329008936882019, 0.08381806313991547, 0.04878947138786316, 0.42680004239082336], [0.03727557137608528, 0.1050577163696289, 0.1182081401348114, 0.19068755209445953, 0.07363622635602951, 0.4751347601413727], [0.05379674583673477, 0.11513891816139221, 0.14684678614139557, 0.3831634521484375, 0.10368549078702927, 0.19736863672733307], [0.018295811489224434, 0.0683719590306282, 0.06225839629769325, 0.06804991513490677, 0.11293769627809525, 0.6700862050056458], [0.01657085306942463, 0.011207273229956627, 0.014496976509690285, 0.019350148737430573, 0.025169407948851585, 0.9132053256034851]], [[0.11692624539136887, 0.23789629340171814, 0.1841161996126175, 0.14655530452728271, 0.18226882815361023, 0.13223712146282196], [0.037162136286497116, 0.038867704570293427, 0.03992475941777229, 0.028914527967572212, 0.032782815396785736, 0.8223480582237244], [0.018574120476841927, 0.019456375390291214, 0.01551771815866232, 0.015626151114702225, 0.017394965514540672, 0.9134306311607361], [0.09507158398628235, 0.0775921642780304, 0.028353283181786537, 0.06337755918502808, 0.03784910961985588, 0.6977563500404358], [0.019995562732219696, 0.016621047630906105, 0.012201367877423763, 0.01676667295396328, 0.0563749223947525, 0.8780403733253479], [0.009185666218400002, 0.004588573705404997, 0.003422168083488941, 0.003896658541634679, 0.009819624945521355, 0.9690873622894287]], [[0.06368224322795868, 0.15935568511486053, 0.2347663938999176, 0.09968412667512894, 0.345360666513443, 0.09715086221694946], [0.10318095237016678, 0.04724546894431114, 0.11317253112792969, 0.04382287710905075, 0.07373234629631042, 0.6188458800315857], [0.06502991169691086, 0.023481514304876328, 0.06938204169273376, 0.040612027049064636, 0.060109347105026245, 0.7413851022720337], [0.038047004491090775, 0.029097653925418854, 0.10899185389280319, 0.09143568575382233, 0.12637969851493835, 0.6060481071472168], [0.16112302243709564, 0.06488633900880814, 0.11166214942932129, 0.1065555140376091, 0.148333340883255, 0.407439649105072], [0.013940117321908474, 0.0030066019389778376, 0.00509636802598834, 0.005184988956898451, 0.005533582530915737, 0.9672383666038513]], [[0.022599495947360992, 0.0565221793949604, 0.12665848433971405, 0.04964302480220795, 0.6259134411811829, 0.11866339296102524], [0.029955223202705383, 0.08716467767953873, 0.04320017248392105, 0.05539735406637192, 0.15479277074337006, 0.6294897198677063], [0.03594690188765526, 0.05587714910507202, 0.09871700406074524, 0.04384496808052063, 0.2033909410238266, 0.5622230768203735], [0.03225090727210045, 0.06085106357932091, 0.04966490715742111, 0.07475191354751587, 0.17249733209609985, 0.6099838614463806], [0.05429264158010483, 0.08252855390310287, 0.06358525156974792, 0.05734884738922119, 0.25487613677978516, 0.4873686134815216], [0.008979124017059803, 0.009622552432119846, 0.009043327532708645, 0.012588880956172943, 0.023432064801454544, 0.9363340139389038]], [[0.46005237102508545, 0.04378949850797653, 0.03810499608516693, 0.17337153851985931, 0.0999641865491867, 0.18471741676330566], [0.05008592829108238, 0.01479093823581934, 0.008382510393857956, 0.03126927465200424, 0.062446478754282, 0.8330248594284058], [0.061282679438591, 0.01720036007463932, 0.024073105305433273, 0.04455491900444031, 0.09165532886981964, 0.7612336277961731], [0.07343683391809464, 0.03407315909862518, 0.02731546387076378, 0.05268174409866333, 0.08679458498954773, 0.7256981730461121], [0.10879221558570862, 0.02691713720560074, 0.022140711545944214, 0.050713565200567245, 0.18652431666851044, 0.6049121022224426], [0.013322633691132069, 0.008824886754155159, 0.007900761440396309, 0.006500528659671545, 0.02253561094403267, 0.940915584564209]], [[0.14997439086437225, 0.024954697117209435, 0.05061192438006401, 0.04527701437473297, 0.1995002180337906, 0.5296818017959595], [0.008342706598341465, 0.005347801838070154, 0.004883927293121815, 0.015003860928118229, 0.03080270066857338, 0.9356189370155334], [0.00805467739701271, 0.0033916113898158073, 0.0037367797922343016, 0.01074894517660141, 0.035080570727586746, 0.9389874935150146], [0.014553462155163288, 0.005439603701233864, 0.005412999074906111, 0.009750613011419773, 0.034570008516311646, 0.9302733540534973], [0.018256647512316704, 0.0067263212986290455, 0.014273497276008129, 0.013756384141743183, 0.055591337382793427, 0.8913958668708801], [0.001974139828234911, 0.0014610341750085354, 0.0023998129181563854, 0.003166389651596546, 0.012880462221801281, 0.9781181216239929]], [[0.33095964789390564, 0.2549239695072174, 0.10818628966808319, 0.13849115371704102, 0.10478905588388443, 0.06264988332986832], [0.091312475502491, 0.24384155869483948, 0.11459366977214813, 0.14917081594467163, 0.11816272139549255, 0.2829187512397766], [0.025989612564444542, 0.05874207988381386, 0.6381703615188599, 0.14640195667743683, 0.06666076928377151, 0.06403519958257675], [0.032053373754024506, 0.05766594037413597, 0.20456871390342712, 0.5394524931907654, 0.06979003548622131, 0.0964694619178772], [0.05048932507634163, 0.028531474992632866, 0.027848830446600914, 0.05385325103998184, 0.42544302344322205, 0.4138340950012207], [0.003503719810396433, 0.004282738547772169, 0.005651560612022877, 0.00544359628111124, 0.03476119413971901, 0.946357250213623]], [[0.32969385385513306, 0.17212440073490143, 0.15727168321609497, 0.17673224210739136, 0.11013655364513397, 0.05404121056199074], [0.2227720022201538, 0.18143635988235474, 0.13166095316410065, 0.10340864956378937, 0.053995080292224884, 0.30672696232795715], [0.1694609820842743, 0.07653765380382538, 0.19812631607055664, 0.12017007917165756, 0.028312431648373604, 0.40739256143569946], [0.16033533215522766, 0.10264700651168823, 0.15937139093875885, 0.28954368829727173, 0.05529081076383591, 0.2328118234872818], [0.09557873010635376, 0.11162537336349487, 0.06713222712278366, 0.11270663887262344, 0.12766258418560028, 0.4852944016456604], [0.02880564145743847, 0.010325445793569088, 0.007921446114778519, 0.005110695958137512, 0.02283363603055477, 0.9250031113624573]], [[0.010401937179267406, 0.07955038547515869, 0.05759016424417496, 0.025851480662822723, 0.2997148633003235, 0.5268911123275757], [0.007939077913761139, 0.016811160370707512, 0.014284768141806126, 0.0180568415671587, 0.02710793912410736, 0.9158002138137817], [0.01743970438838005, 0.0332145020365715, 0.03165384754538536, 0.038918230682611465, 0.06464741379022598, 0.8141262531280518], [0.017095908522605896, 0.04291367158293724, 0.025544192641973495, 0.04737255722284317, 0.04574716463685036, 0.821326494216919], [0.008764049969613552, 0.019423851743340492, 0.009003438986837864, 0.023161200806498528, 0.024385759606957436, 0.9152617454528809], [0.005527994129806757, 0.006022431887686253, 0.00644872197881341, 0.0063270991668105125, 0.009338116273283958, 0.966335654258728]], [[0.006764589808881283, 0.03822983056306839, 0.025182992219924927, 0.023844165727496147, 0.17430447041988373, 0.7316739559173584], [0.003999731969088316, 0.008255476132035255, 0.006383250467479229, 0.019108213484287262, 0.05004269629716873, 0.9122106432914734], [0.008084584958851337, 0.01633468270301819, 0.011483638547360897, 0.015964403748512268, 0.07774516940116882, 0.8703875541687012], [0.01017439179122448, 0.01969909854233265, 0.016556626185774803, 0.03316885232925415, 0.0568992979824543, 0.863501787185669], [0.03169040381908417, 0.03988899663090706, 0.06010470911860466, 0.108330637216568, 0.10524917393922806, 0.6547360420227051], [0.0022610581945627928, 0.004212193191051483, 0.005890141241252422, 0.007267512381076813, 0.02657780982553959, 0.9537913203239441]]]], \"left_text\": [\"[CLS]\", \"i\", \"am\", \"a\", \"dog\", \"[SEP]\"], \"right_text\": [\"[CLS]\", \"i\", \"am\", \"a\", \"dog\", \"[SEP]\"]}], \"default_filter\": \"0\", \"root_div_id\": \"bertviz-36c36e550ff14528bcd4eb4ef9eec64e\", \"layer\": 2, \"heads\": [0], \"include_layers\": [0, 1, 2, 3, 4, 5, 6, 7, 8, 9, 10, 11]}; // HACK: {\"attention\": [{\"name\": null, \"attn\": [[[[0.0928860604763031, 0.07870867103338242, 0.06559868901968002, 0.23379814624786377, 0.08259410411119461, 0.4464143216609955], [0.30768951773643494, 0.21612492203712463, 0.1173485517501831, 0.04728509113192558, 0.18124601244926453, 0.1303059458732605], [0.0861341655254364, 0.5792083740234375, 0.05681885778903961, 0.015865007415413857, 0.10424411296844482, 0.15772946178913116], [0.18614798784255981, 0.17308947443962097, 0.16077576577663422, 0.1480056643486023, 0.218534916639328, 0.11344622820615768], [0.16751131415367126, 0.3337230384349823, 0.10753551125526428, 0.044054169207811356, 0.250545859336853, 0.0966300442814827], [0.19304759800434113, 0.1438155472278595, 0.054793816059827805, 0.22052545845508575, 0.10741451382637024, 0.2804030179977417]], [[0.9367989897727966, 0.02192581258714199, 0.0053636725060641766, 0.01651214435696602, 0.011157375760376453, 0.008241955190896988], [0.016512447968125343, 0.0427868478000164, 0.22645120322704315, 0.04516793042421341, 0.589477002620697, 0.07960455864667892], [0.058409109711647034, 0.04397372528910637, 0.05659041553735733, 0.0928766131401062, 0.6237040162086487, 0.12444612383842468], [0.048502106219530106, 0.18161244690418243, 0.24012228846549988, 0.26434653997421265, 0.18060338497161865, 0.08481322973966599], [0.05353127792477608, 0.10994747281074524, 0.21234770119190216, 0.10056401044130325, 0.2876022160053253, 0.23600725829601288], [0.10882537811994553, 0.413420170545578, 0.08419664204120636, 0.2488684505224228, 0.06276124715805054, 0.0819280594587326]], [[0.8629083037376404, 0.03467416763305664, 0.017188750207424164, 0.02711775340139866, 0.007679253816604614, 0.05043185129761696], [0.7393059730529785, 0.0701119601726532, 0.0073152207769453526, 0.1080932542681694, 0.005289094056934118, 0.06988445669412613], [0.19554802775382996, 0.7677873373031616, 0.0057182833552360535, 0.01170940138399601, 0.01256546936929226, 0.006671485491096973], [0.34155791997909546, 0.10418685525655746, 0.3489305377006531, 0.1071261540055275, 0.0066610053181648254, 0.09153753519058228], [0.362093985080719, 0.015475907362997532, 0.09141334891319275, 0.44740450382232666, 0.05941495671868324, 0.02419731393456459], [0.6142456531524658, 0.04498671367764473, 0.010087802074849606, 0.07171092182397842, 0.08808168023824692, 0.17088718712329865]], [[0.7553550601005554, 0.039872799068689346, 0.07989072799682617, 0.055478598922491074, 0.03321606293320656, 0.036186691373586655], [0.4062483310699463, 0.21122899651527405, 0.1822820007801056, 0.09297267347574234, 0.03685547038912773, 0.07041248679161072], [0.01955045945942402, 0.9283328652381897, 0.03590698167681694, 0.007935341447591782, 0.005488965660333633, 0.0027854114305227995], [0.010268055833876133, 0.23694290220737457, 0.6025885343551636, 0.09449628740549088, 0.020197944715619087, 0.03550620749592781], [0.0464780330657959, 0.055083971470594406, 0.3041287660598755, 0.5215966701507568, 0.044265687465667725, 0.028446892276406288], [0.1140020415186882, 0.05890180915594101, 0.12668761610984802, 0.24784497916698456, 0.3766975402832031, 0.07586608827114105]], [[0.737416684627533, 0.04973762109875679, 0.06787222623825073, 0.02031460963189602, 0.04206610843539238, 0.08259274065494537], [0.16188335418701172, 0.054573528468608856, 0.2881043553352356, 0.12012872099876404, 0.2112332582473755, 0.16407673060894012], [0.4201063811779022, 0.17109882831573486, 0.06107937544584274, 0.09333689510822296, 0.12797631323337555, 0.12640219926834106], [0.1215948611497879, 0.14999276399612427, 0.1739867776632309, 0.18406394124031067, 0.14169850945472717, 0.22866316139698029], [0.22457970678806305, 0.17724290490150452, 0.11038686335086823, 0.1321430653333664, 0.07781249284744263, 0.2778349220752716], [0.036671534180641174, 0.004991467576473951, 0.006660944316536188, 0.014187772758305073, 0.007821200415492058, 0.929667055606842]], [[0.34942466020584106, 0.2842687666416168, 0.02527731843292713, 0.12913596630096436, 0.06976616382598877, 0.1421271115541458], [0.04854537546634674, 0.030784474685788155, 0.7284433841705322, 0.0890902727842331, 0.04925823211669922, 0.053878266364336014], [0.2982707917690277, 0.09008453041315079, 0.07055602967739105, 0.08287685364484787, 0.08394747972488403, 0.37426432967185974], [0.2898656725883484, 0.08049368113279343, 0.16573412716388702, 0.062418222427368164, 0.16141901910305023, 0.24006927013397217], [0.17164063453674316, 0.04485927149653435, 0.05890197679400444, 0.03919956833124161, 0.1804117113351822, 0.5049868822097778], [0.5545648336410522, 0.15643729269504547, 0.03183760493993759, 0.08510743081569672, 0.05456014722585678, 0.1174926832318306]], [[0.362624853849411, 0.0037609904538840055, 0.008082477375864983, 0.6166948080062866, 0.004172645974904299, 0.00466414587572217], [0.05903015658259392, 0.41132673621177673, 0.16059252619743347, 0.04075705260038376, 0.19058653712272644, 0.13770708441734314], [0.13676202297210693, 0.30917564034461975, 0.25592535734176636, 0.06000545993447304, 0.12805874645709991, 0.11007273942232132], [0.1407301127910614, 0.20897556841373444, 0.1457863748073578, 0.12080010026693344, 0.1917957067489624, 0.19191211462020874], [0.12072692811489105, 0.14036759734153748, 0.06180799752473831, 0.03219760209321976, 0.5597614049911499, 0.08513845503330231], [0.11892160773277283, 0.327243447303772, 0.11445504426956177, 0.04452606290578842, 0.09634723514318466, 0.2985066771507263]], [[0.6016019582748413, 0.04506247863173485, 0.04524168744683266, 0.0005839222576469183, 0.025573935359716415, 0.28193598985671997], [0.20968851447105408, 0.2971351146697998, 0.10653961449861526, 0.02121814712882042, 0.04204294830560684, 0.3233756422996521], [0.40595513582229614, 0.26752209663391113, 0.051750488579273224, 0.050354331731796265, 0.03580445051193237, 0.18861354887485504], [0.27679023146629333, 0.17107602953910828, 0.10354553163051605, 0.04122232273221016, 0.03345340117812157, 0.373912513256073], [0.5705951452255249, 0.05018104240298271, 0.09984654188156128, 0.032095182687044144, 0.2147051990032196, 0.03257681429386139], [0.3709836006164551, 0.17983652651309967, 0.06413741409778595, 0.2714652717113495, 0.04027915373444557, 0.07329799979925156]], [[0.5925676226615906, 0.008733822964131832, 0.024482013657689095, 0.3376426696777344, 0.021471453830599785, 0.015102332457900047], [0.014525237493216991, 0.08794161677360535, 0.1477801352739334, 0.06870543956756592, 0.20008276402950287, 0.4809648394584656], [0.06870131939649582, 0.09403044730424881, 0.044051751494407654, 0.06518315523862839, 0.47665902972221375, 0.2513742744922638], [0.007988381199538708, 0.19194619357585907, 0.06791263818740845, 0.032955482602119446, 0.23623871803283691, 0.46295860409736633], [0.03518791124224663, 0.1042134240269661, 0.1826152503490448, 0.053264863789081573, 0.1726093739271164, 0.4521092176437378], [0.15759949386119843, 0.08547341078519821, 0.06219363585114479, 0.5003045201301575, 0.09821992367506027, 0.09620898216962814]], [[0.2512436807155609, 0.19688773155212402, 0.14446428418159485, 0.2881247103214264, 0.06739473342895508, 0.05188489705324173], [0.2399117350578308, 0.41548091173171997, 0.13547497987747192, 0.03976921737194061, 0.04132149741053581, 0.12804169952869415], [0.33658352494239807, 0.1159617006778717, 0.2078610509634018, 0.024117017164826393, 0.2033592164516449, 0.11211742460727692], [0.6142271757125854, 0.04130451753735542, 0.05927802622318268, 0.025628842413425446, 0.10619997978210449, 0.15336143970489502], [0.35485178232192993, 0.009670642204582691, 0.034974973648786545, 0.016402849927544594, 0.420287162065506, 0.16381262242794037], [0.7145721912384033, 0.0797211304306984, 0.034159690141677856, 0.06506099551916122, 0.04950997233390808, 0.05697605386376381]], [[0.8756876587867737, 0.04365631192922592, 0.02093399316072464, 0.02246089279651642, 0.00949653796851635, 0.02776452526450157], [0.0005250217509455979, 0.004204702563583851, 0.9510661363601685, 0.018780363723635674, 0.009820298291742802, 0.01560349203646183], [0.002776655601337552, 0.11197464913129807, 0.0035801741760224104, 0.6082208156585693, 0.22710324823856354, 0.04634437337517738], [0.0002934469666797668, 0.0023743060883134604, 0.015107415616512299, 0.0065237898379564285, 0.9300063252449036, 0.045694708824157715], [0.062227100133895874, 0.004751491826027632, 0.015097077935934067, 0.04683728516101837, 0.02330128289759159, 0.8477857708930969], [0.28241512179374695, 0.037185654044151306, 0.01827424392104149, 0.05572858080267906, 0.16256387531757355, 0.44383254647254944]], [[0.8906042575836182, 0.01608801819384098, 0.006268263328820467, 0.044368546456098557, 0.0014001192757859826, 0.041270703077316284], [0.4092993438243866, 0.06895706802606583, 0.07932634651660919, 0.0867510512471199, 0.020214706659317017, 0.33545151352882385], [0.07430686056613922, 0.7252532839775085, 0.009405522607266903, 0.07950925081968307, 0.06992706656455994, 0.041598014533519745], [0.31509095430374146, 0.21086393296718597, 0.1109934151172638, 0.07868827134370804, 0.09729155153036118, 0.18707183003425598], [0.09692487120628357, 0.069739930331707, 0.09173400700092316, 0.07900726050138474, 0.16073206067085266, 0.5018618106842041], [0.6078309416770935, 0.1109553799033165, 0.008072427473962307, 0.08198671042919159, 0.02590283751487732, 0.16525162756443024]]], [[[0.5974670052528381, 0.027155503630638123, 0.010153635405004025, 0.0840291753411293, 0.20386767387390137, 0.07732689380645752], [0.04647426679730415, 0.04489060863852501, 0.8000558018684387, 0.0037761409766972065, 0.007048583123832941, 0.09775462001562119], [0.03673280030488968, 0.05203217640519142, 0.8541259169578552, 0.005855439696460962, 0.004547799937427044, 0.046705856919288635], [0.5936916470527649, 0.04793855920433998, 0.007789719384163618, 0.02154647558927536, 0.2364310324192047, 0.0926026701927185], [0.3872947096824646, 0.12856151163578033, 0.000763262971304357, 0.05743790417909622, 0.09213215112686157, 0.333810418844223], [0.5893453359603882, 0.031165767461061478, 0.02228614129126072, 0.09038463979959488, 0.1929236352443695, 0.07389457523822784]], [[0.787294864654541, 0.03324291110038757, 0.02796684205532074, 0.04048023000359535, 0.0070857517421245575, 0.10392936319112778], [0.08117793500423431, 0.0019788567442446947, 0.8990575671195984, 0.006666322238743305, 0.0008272634004242718, 0.010292054153978825], [0.13758373260498047, 0.01766636036336422, 0.011712133884429932, 0.7900158762931824, 0.00619587441906333, 0.03682602196931839], [0.16142719984054565, 0.015406649559736252, 0.022471757605671883, 0.06968984752893448, 0.6049760580062866, 0.12602844834327698], [0.29272595047950745, 0.0022295734379440546, 0.0213175006210804, 0.03553450107574463, 0.029354142025113106, 0.6188383102416992], [0.9387783408164978, 0.0019517391920089722, 0.0014278494054451585, 0.0023182881996035576, 0.00026370526757091284, 0.055260080844163895]], [[0.8949400782585144, 0.01903759501874447, 0.006956973113119602, 0.023820726200938225, 0.022657621651887894, 0.03258712589740753], [0.23804090917110443, 0.25122976303100586, 0.058541297912597656, 0.10261780023574829, 0.06714624166488647, 0.2824239730834961], [0.24822114408016205, 0.3620508015155792, 0.02897896245121956, 0.022652341052889824, 0.17639681696891785, 0.16169989109039307], [0.5393580198287964, 0.14650821685791016, 0.0687268003821373, 0.04816673696041107, 0.06107901781797409, 0.1361611783504486], [0.17931173741817474, 0.3956278860569, 0.1724565178155899, 0.07786223292350769, 0.040792856365442276, 0.13394884765148163], [0.5413697361946106, 0.19310502707958221, 0.018878435716032982, 0.02788994275033474, 0.054134804755449295, 0.16462209820747375]], [[0.8698304891586304, 0.01565122976899147, 0.0013464894145727158, 0.05850309133529663, 0.009098049253225327, 0.045570749789476395], [0.628261387348175, 0.023072682321071625, 0.13127347826957703, 0.05988490581512451, 0.09654475003480911, 0.06096278876066208], [0.4049872159957886, 0.038103096187114716, 0.32489556074142456, 0.06316554546356201, 0.08098180592060089, 0.08786681294441223], [0.7809880375862122, 0.019967839121818542, 0.02533288300037384, 0.05277972295880318, 0.052618660032749176, 0.06831291317939758], [0.5125242471694946, 0.035020798444747925, 0.019170325249433517, 0.09120642393827438, 0.09836982935667038, 0.24370841681957245], [0.9260607361793518, 0.011072988621890545, 0.002001773798838258, 0.03330603986978531, 0.010713312774896622, 0.01684519089758396]], [[0.7900875210762024, 0.016504285857081413, 0.02237343229353428, 0.08996383845806122, 0.013520167209208012, 0.06755080074071884], [0.9856870770454407, 0.005209882743656635, 0.0020935754291713238, 0.005671882536262274, 0.0008843468385748565, 0.00045337967458181083], [0.1968342512845993, 0.7086837291717529, 0.061485398560762405, 0.02141439914703369, 0.004105718340724707, 0.007476444821804762], [0.24201470613479614, 0.11879803240299225, 0.5976546406745911, 0.01754673197865486, 0.006341761443763971, 0.017644140869379044], [0.2323130965232849, 0.005911993328481913, 0.05357132479548454, 0.6717533469200134, 0.011478587053716183, 0.02497166208922863], [0.9003654718399048, 0.002263061935082078, 0.0012582071358337998, 0.016977699473500252, 0.015309533104300499, 0.06382599472999573]], [[0.8822976350784302, 0.005994223989546299, 0.005098434630781412, 0.011497045867145061, 0.01548643596470356, 0.07962630689144135], [0.25137192010879517, 0.017693283036351204, 0.1357862651348114, 0.012706754729151726, 0.025218326598405838, 0.5572234392166138], [0.27384012937545776, 0.05117850750684738, 0.01342033687978983, 0.062100742012262344, 0.03518340364098549, 0.5642768740653992], [0.3713287115097046, 0.03548489138484001, 0.03016582317650318, 0.26947110891342163, 0.16152985394001007, 0.13201966881752014], [0.4278179109096527, 0.11465606093406677, 0.010626263916492462, 0.3328500986099243, 0.026998598128557205, 0.08705104887485504], [0.7585208415985107, 0.013421012088656425, 0.015778828412294388, 0.025622403249144554, 0.04072530195116997, 0.1459316462278366]], [[0.9360389709472656, 0.003600317519158125, 0.004617481492459774, 0.010711080394685268, 0.0056758662685751915, 0.039356354624032974], [0.916976273059845, 0.0104736452922225, 0.02513771876692772, 0.015206276439130306, 0.007845438085496426, 0.024360595270991325], [0.766474187374115, 0.010062379762530327, 0.004025517962872982, 0.006468538194894791, 0.012743261642754078, 0.2002260982990265], [0.22551466524600983, 0.007845035754144192, 0.0058106775395572186, 0.004795496352016926, 0.008129219524562359, 0.7479049563407898], [0.880490779876709, 0.010252008214592934, 0.01669687032699585, 0.009182832203805447, 0.006238831672817469, 0.07713864743709564], [0.8883566856384277, 0.00038825359661132097, 0.007671613711863756, 0.019108327105641365, 0.0069838217459619045, 0.07749131321907043]], [[0.9347266554832458, 0.005735266953706741, 0.0016776962438598275, 0.01395061518996954, 0.016038725152611732, 0.027871059253811836], [0.3067241609096527, 0.10339263826608658, 0.052648115903139114, 0.12967558205127716, 0.07535362243652344, 0.3322058916091919], [0.6879506707191467, 0.021510418504476547, 0.004166305065155029, 0.11381671577692032, 0.04391884803771973, 0.12863700091838837], [0.33518093824386597, 0.14116133749485016, 0.09886360913515091, 0.1259375363588333, 0.09634973108768463, 0.2025069147348404], [0.1684679388999939, 0.151017963886261, 0.1295604705810547, 0.12334410846233368, 0.13545529544353485, 0.2921542227268219], [0.814487636089325, 0.016049174591898918, 0.008249691687524319, 0.05810489505529404, 0.03278797119855881, 0.07032059133052826]], [[0.5248289108276367, 0.053839340806007385, 0.0487266443669796, 0.06913488358259201, 0.05979157239198685, 0.24367858469486237], [0.48080137372016907, 0.041001468896865845, 0.045045241713523865, 0.041245102882385254, 0.05815773457288742, 0.33374905586242676], [0.6282553672790527, 0.012650902383029461, 0.028106823563575745, 0.03260035812854767, 0.037221334874629974, 0.26116517186164856], [0.7771130204200745, 0.01727125234901905, 0.015335941687226295, 0.028633663430809975, 0.020680107176303864, 0.1409660279750824], [0.669457197189331, 0.04767527058720589, 0.048425737768411636, 0.08191334456205368, 0.0019984040409326553, 0.15053004026412964], [0.3101726770401001, 0.11019206047058105, 0.10034836083650589, 0.12509603798389435, 0.08880750089883804, 0.2653833031654358]], [[0.498186856508255, 0.043106500059366226, 0.03827030584216118, 0.13206054270267487, 0.08413258194923401, 0.20424313843250275], [0.6932138204574585, 0.023618387058377266, 0.018459120765328407, 0.03528716415166855, 0.024253975600004196, 0.20516759157180786], [0.7283025979995728, 0.020529409870505333, 0.00421503558754921, 0.05318942293524742, 0.013451809994876385, 0.18031176924705505], [0.6233712434768677, 0.03890683501958847, 0.037096504122018814, 0.05243849381804466, 0.02761278860270977, 0.2205740511417389], [0.4125288724899292, 0.1676628142595291, 0.05466297268867493, 0.04094145819544792, 0.0022345432080328465, 0.32196933031082153], [0.24699167907238007, 0.07399792969226837, 0.07197220623493195, 0.20856834948062897, 0.13113339245319366, 0.2673363983631134]], [[0.8117287158966064, 0.026767926290631294, 0.015746725723147392, 0.034015875309705734, 0.024772798642516136, 0.08696798235177994], [0.6843228936195374, 0.03489207103848457, 0.09144707024097443, 0.0790352076292038, 0.0507209375500679, 0.05958186462521553], [0.47465482354164124, 0.27241528034210205, 0.02244873344898224, 0.1000116840004921, 0.08760344237089157, 0.04286602512001991], [0.5022465586662292, 0.15677417814731598, 0.09936921298503876, 0.05359397828578949, 0.06394300609827042, 0.12407305836677551], [0.1910143494606018, 0.2498224973678589, 0.2619480788707733, 0.18465755879878998, 0.05063217505812645, 0.06192532554268837], [0.9026162624359131, 0.013469877652823925, 0.009056971408426762, 0.018567262217402458, 0.012415152043104172, 0.04387453570961952]], [[0.6418452858924866, 0.03289534151554108, 0.02069578878581524, 0.06163649633526802, 0.018521666526794434, 0.2244054526090622], [0.39240601658821106, 0.14749476313591003, 0.02291272208094597, 0.020995473489165306, 0.005662068724632263, 0.41052892804145813], [0.3533835709095001, 0.04113299399614334, 0.39517003297805786, 0.00854961946606636, 0.0032442323863506317, 0.19851958751678467], [0.45140600204467773, 0.06326790899038315, 0.01016155444085598, 0.25723692774772644, 0.004972617141902447, 0.21295495331287384], [0.34644877910614014, 0.005280420649796724, 0.0034846842754632235, 0.008066314272582531, 0.5656958818435669, 0.07102393358945847], [0.7092903852462769, 0.07708632200956345, 0.034785639494657516, 0.04770559072494507, 0.020586073398590088, 0.11054589599370956]]], [[[0.9853072166442871, 0.0009000421268865466, 0.0010737032862380147, 0.0012074146652594209, 0.00029820651980116963, 0.011213352903723717], [5.934940054430626e-05, 7.591953908558935e-05, 0.9998164772987366, 3.5532721085473895e-05, 7.126888021957711e-07, 1.1995444765489083e-05], [0.00018996556173078716, 8.63673776620999e-05, 0.00010725094034569338, 0.9988759160041809, 0.0006848670891486108, 5.558467819355428e-05], [0.0005384482792578638, 1.852766035881359e-05, 9.805577974475455e-06, 6.238777859834954e-05, 0.9993500113487244, 2.082823084492702e-05], [0.020160209387540817, 9.791013326321263e-06, 8.636408165330067e-05, 7.956706213008147e-06, 4.151637767790817e-05, 0.9796941876411438], [0.9916831254959106, 6.131803820608184e-05, 7.024726073723286e-05, 0.00015947337669786066, 4.573949991026893e-05, 0.007980067282915115]], [[0.7260422706604004, 0.02396717667579651, 0.0312848798930645, 0.041414570063352585, 0.014597139321267605, 0.16269393265247345], [0.5838102102279663, 0.010032152757048607, 0.3227747082710266, 0.00811443105340004, 0.0017606966430321336, 0.07350778579711914], [0.5906713008880615, 0.298957496881485, 0.000567967421375215, 0.01685441844165325, 0.0015782020054757595, 0.09137069433927536], [0.4581904709339142, 0.020490217953920364, 0.30516332387924194, 0.014991648495197296, 0.09282991290092468, 0.10833443701267242], [0.4474421441555023, 0.020727556198835373, 0.03836073353886604, 0.16168516874313354, 0.03767361119389534, 0.2941107153892517], [0.8452837467193604, 0.004938839934766293, 0.007832864299416542, 0.0075421626679599285, 0.005308221559971571, 0.12909415364265442]], [[0.7446409463882446, 0.02353714406490326, 0.01823248900473118, 0.030134662985801697, 0.08067721128463745, 0.10277745872735977], [0.8018974661827087, 0.017335940152406693, 0.015260356478393078, 0.024973051622509956, 0.0078797098249197, 0.13265343010425568], [0.9765022993087769, 0.0007667848840355873, 0.0003576228627935052, 0.005147275514900684, 0.002718392526730895, 0.014507691375911236], [0.9207310080528259, 0.007795463316142559, 0.00746702728793025, 0.011418003588914871, 0.028500624001026154, 0.024087896570563316], [0.6812084317207336, 0.014501914381980896, 0.011191901750862598, 0.036281514912843704, 0.08481119573116302, 0.17200502753257751], [0.6607455611228943, 0.03202852979302406, 0.028500976040959358, 0.02939445897936821, 0.08260749280452728, 0.1667230725288391]], [[0.6771454811096191, 0.038354434072971344, 0.04231579229235649, 0.056259624660015106, 0.047115765511989594, 0.1388089954853058], [0.4021354913711548, 0.005296338815242052, 0.022379161790013313, 0.035122767090797424, 0.11690683662891388, 0.4181593954563141], [0.4951898455619812, 0.004388757981359959, 0.005278615280985832, 0.08275561779737473, 0.11165671795606613, 0.30073046684265137], [0.4820067882537842, 0.056363414973020554, 0.13198161125183105, 0.03982480242848396, 0.04886158928275108, 0.24096176028251648], [0.6433795094490051, 0.06347034126520157, 0.0740814134478569, 0.06952989846467972, 0.0024420421104878187, 0.14709679782390594], [0.7985942959785461, 0.014680291526019573, 0.01701267994940281, 0.023825572803616524, 0.03738062456250191, 0.10850652307271957]], [[0.7623686194419861, 0.017939705401659012, 0.012244015000760555, 0.0411522313952446, 0.017798451706767082, 0.14849695563316345], [0.6198550462722778, 0.027171114459633827, 0.06672877818346024, 0.05412130802869797, 0.01790040172636509, 0.21422336995601654], [0.6695665717124939, 0.03643116354942322, 0.14930114150047302, 0.008835687302052975, 0.0512690506875515, 0.08459633588790894], [0.46558791399002075, 0.1422690451145172, 0.09059659391641617, 0.12235403805971146, 0.011796720325946808, 0.16739575564861298], [0.6373276114463806, 0.0418943390250206, 0.2305714637041092, 0.00789941381663084, 0.015769416466355324, 0.06653779000043869], [0.5899752974510193, 0.0075592161156237125, 0.001783246174454689, 0.12623584270477295, 0.01003372110426426, 0.2644127309322357]], [[0.5144386887550354, 0.03002895601093769, 0.022838840261101723, 0.02985241636633873, 0.3479314148426056, 0.05490965396165848], [0.27553847432136536, 0.20354871451854706, 0.18812772631645203, 0.15410029888153076, 0.06222604215145111, 0.1164587140083313], [0.38473257422447205, 0.06474800407886505, 0.09714246541261673, 0.14235635101795197, 0.037298522889614105, 0.2737221121788025], [0.39306750893592834, 0.058281634002923965, 0.08787131309509277, 0.11220044642686844, 0.14415498077869415, 0.20442412793636322], [0.5421356558799744, 0.014467210508883, 0.012930343858897686, 0.04068616032600403, 0.014520600438117981, 0.37526002526283264], [0.3303651809692383, 0.040845151990652084, 0.045060887932777405, 0.0292864590883255, 0.5235970616340637, 0.03084525838494301]], [[0.2323138415813446, 0.13764135539531708, 0.09054617583751678, 0.1321161389350891, 0.07061641663312912, 0.3367660939693451], [0.16432268917560577, 0.40596550703048706, 0.031309667974710464, 0.04872141033411026, 0.00256330450065434, 0.3471173644065857], [0.09649841487407684, 0.00485753919929266, 0.6743704080581665, 0.0043139331974089146, 0.002273100893944502, 0.21768663823604584], [0.10827776044607162, 0.008779916912317276, 0.0014297851594164968, 0.7002491354942322, 0.0015057900454849005, 0.17975756525993347], [0.2689655125141144, 0.005573044065386057, 0.0056239524856209755, 0.05122347176074982, 0.34207555651664734, 0.32653841376304626], [0.3472229540348053, 0.07440802454948425, 0.08619622886180878, 0.07242020219564438, 0.05061300843954086, 0.36913952231407166]], [[0.859864354133606, 0.008971038274466991, 0.009967610239982605, 0.022099506109952927, 0.013002707622945309, 0.08609476685523987], [0.47037991881370544, 0.051436979323625565, 0.07036656141281128, 0.07361475378274918, 0.15033109486103058, 0.18387064337730408], [0.42995259165763855, 0.13781942427158356, 0.20883503556251526, 0.03818092122673988, 0.027461275458335876, 0.15775077044963837], [0.6014167666435242, 0.07232263684272766, 0.07898122817277908, 0.05171540379524231, 0.01600685529410839, 0.17955715954303741], [0.6132923364639282, 0.056073520332574844, 0.03933084383606911, 0.05748017132282257, 0.011930927634239197, 0.22189228236675262], [0.9364356398582458, 0.0015515877166762948, 0.0019405782222747803, 0.00964568555355072, 0.002147926017642021, 0.04827863350510597]], [[0.7779381275177002, 0.013211874291300774, 0.010373531840741634, 0.02831611968576908, 0.02547871321439743, 0.14468172192573547], [0.3182525038719177, 0.27416372299194336, 0.13447709381580353, 0.011559249833226204, 0.10716339200735092, 0.15438400208950043], [0.40850481390953064, 0.3139480650424957, 0.03020741231739521, 0.026637287810444832, 0.06629469245672226, 0.15440775454044342], [0.8367180228233337, 0.0049263485707342625, 0.0016641131369397044, 0.0503399558365345, 0.015510231256484985, 0.090841144323349], [0.6664341688156128, 0.011487342417240143, 0.003186875954270363, 0.044399652630090714, 0.022887328639626503, 0.2516046166419983], [0.7891711592674255, 0.01536740455776453, 0.006508995313197374, 0.017916256561875343, 0.018549444153904915, 0.15248674154281616]], [[0.6866675615310669, 0.019222799688577652, 0.00934846606105566, 0.011423631571233273, 0.006417148746550083, 0.26692044734954834], [7.387108780676499e-05, 0.00018651806749403477, 0.9996703863143921, 4.8086763854371384e-05, 6.417431563932041e-07, 2.0477491489145905e-05], [0.00019810146477539092, 0.00025004951748996973, 0.0004696958640124649, 0.9985688924789429, 0.000316614139592275, 0.00019666201842483133], [0.0005600519943982363, 1.9099208657280542e-05, 4.489568709686864e-06, 3.842397563857958e-05, 0.9993395209312439, 3.841119178105146e-05], [0.03418546915054321, 2.1823714632773772e-05, 0.00010050441778730601, 1.330595841864124e-05, 4.74868829769548e-05, 0.9656314253807068], [0.9970250725746155, 9.77047693595523e-06, 3.143016147078015e-05, 3.718042717082426e-05, 4.4891847210237756e-05, 0.002851644065231085]], [[0.7426705956459045, 0.021835381165146828, 0.01945197954773903, 0.033954448997974396, 0.03783237189054489, 0.14425519108772278], [0.6051700115203857, 0.02750897780060768, 0.21822769939899445, 0.021909788250923157, 0.0093371057882905, 0.11784636229276657], [0.8143705725669861, 0.03879043832421303, 0.044881671667099, 0.03380480036139488, 0.009116077795624733, 0.059036463499069214], [0.7343015670776367, 0.013359972275793552, 0.011295302771031857, 0.022604908794164658, 0.046380046755075455, 0.17205823957920074], [0.1817435920238495, 0.018424080684781075, 0.010182060301303864, 0.07050912827253342, 0.6321715116500854, 0.08696965128183365], [0.8979423642158508, 0.005541933700442314, 0.0077620879746973515, 0.01980508305132389, 0.019736239686608315, 0.04921220242977142]], [[0.9627067446708679, 0.0022458480671048164, 0.00139526161365211, 0.0058083008043468, 0.003894441295415163, 0.023949431255459785], [0.36770084500312805, 0.022807685658335686, 0.10334507375955582, 0.1235768273472786, 0.1847662776708603, 0.1978033035993576], [0.34099239110946655, 0.0491378977894783, 0.03532916679978371, 0.10880973190069199, 0.2149827629327774, 0.25074800848960876], [0.668560802936554, 0.0330381877720356, 0.027476683259010315, 0.05403855815529823, 0.10245892405509949, 0.11442685127258301], [0.7342914938926697, 0.03643915057182312, 0.0269622802734375, 0.04354052618145943, 0.0396273098886013, 0.11913913488388062], [0.9917627573013306, 0.00043455991544760764, 0.00020449937437660992, 0.0015106049831956625, 0.0013470270205289125, 0.004740450065582991]]], [[[0.32790082693099976, 0.0015266119735315442, 0.0006206624675542116, 0.0023629344068467617, 0.0009862000588327646, 0.6666027903556824], [0.27553805708885193, 0.07876241952180862, 0.004771046806126833, 0.008359553292393684, 0.00233834283426404, 0.6302306652069092], [0.23895442485809326, 0.0012921548914164305, 0.19100408256053925, 0.00017543783178552985, 0.0006344905705191195, 0.5679393410682678], [0.2869231402873993, 0.00255324924364686, 0.0002943249710369855, 0.1461995244026184, 0.0011406581616029143, 0.562889039516449], [0.3269953727722168, 0.00048445112770423293, 8.194955444196239e-05, 0.0002889153256546706, 0.06794586777687073, 0.604203462600708], [0.27343714237213135, 0.0023506407160311937, 0.0065139057114720345, 0.013576948083937168, 0.003185815177857876, 0.7009356021881104]], [[0.34171831607818604, 0.01371857337653637, 0.018701430410146713, 0.018653087317943573, 0.07566838711500168, 0.5315402150154114], [0.332996666431427, 0.03939596936106682, 0.06457646936178207, 0.10301260650157928, 0.11534380167722702, 0.34467440843582153], [0.24677148461341858, 0.028442278504371643, 0.08444707095623016, 0.13578137755393982, 0.05718990042805672, 0.4473678171634674], [0.2011428028345108, 0.05914561450481415, 0.10852991789579391, 0.31679749488830566, 0.0783570185303688, 0.23602716624736786], [0.08606716245412827, 0.023313181474804878, 0.009447243064641953, 0.046207692474126816, 0.007200169842690229, 0.8277645111083984], [0.5142282247543335, 0.002699119271710515, 0.0025156796909868717, 0.0035665740724653006, 0.009251928888261318, 0.46773838996887207]], [[0.12240687757730484, 0.1139255240559578, 0.3108602464199066, 0.12501896917819977, 0.13120993971824646, 0.1965784728527069], [0.36295270919799805, 0.18954676389694214, 0.011437606997787952, 0.026639368385076523, 0.006064530462026596, 0.403359055519104], [0.5278961658477783, 0.05074130743741989, 0.002040670718997717, 0.02501496486365795, 0.001933461520820856, 0.39237338304519653], [0.30849024653434753, 0.032133836299180984, 0.010236566886305809, 0.18226955831050873, 0.0023376860190182924, 0.46453210711479187], [0.563768744468689, 0.017938677221536636, 0.00708471704274416, 0.02147665061056614, 0.0009652163716964424, 0.3887660503387451], [0.1367371529340744, 0.006588119547814131, 0.008661461062729359, 0.03564155846834183, 0.009662681259214878, 0.8027090430259705]], [[0.43751803040504456, 0.020731192082166672, 0.018975477665662766, 0.03370627015829086, 0.033801157027482986, 0.45526784658432007], [0.06634515523910522, 0.016002163290977478, 0.11658477783203125, 0.33571502566337585, 0.41708770394325256, 0.04826517775654793], [0.2856210470199585, 0.029705852270126343, 0.06852775812149048, 0.16824524104595184, 0.2687591314315796, 0.17914104461669922], [0.3846745193004608, 0.052018385380506516, 0.07745926827192307, 0.05121913179755211, 0.22010989487171173, 0.21451887488365173], [0.5336330533027649, 0.027085838839411736, 0.01216534711420536, 0.03572678193449974, 0.006118360441178083, 0.3852706551551819], [0.3818884491920471, 0.002979812677949667, 0.0017002910608425736, 0.0040560513734817505, 0.0038184963632375, 0.6055569052696228]], [[0.10749501734972, 0.019108694046735764, 0.08166301995515823, 0.024531884118914604, 0.08462543040513992, 0.6825758814811707], [0.2227678894996643, 0.027876581996679306, 0.16315509378910065, 0.047454021871089935, 0.1750773936510086, 0.3636690080165863], [0.10275723040103912, 0.08638297021389008, 0.17406542599201202, 0.06333707273006439, 0.12682729959487915, 0.44663000106811523], [0.16555997729301453, 0.046544477343559265, 0.22638005018234253, 0.04674910008907318, 0.0783897191286087, 0.4363766610622406], [0.055506687611341476, 0.07151284068822861, 0.30685579776763916, 0.14679689705371857, 0.15198098123073578, 0.2673468291759491], [0.7771269083023071, 0.0004942326922900975, 0.0003145561786368489, 0.0026028105057775974, 0.004125294741243124, 0.2153361439704895]], [[0.8085545301437378, 0.01623971201479435, 0.011979669332504272, 0.042780403047800064, 0.08723193407058716, 0.03321364149451256], [0.8980032205581665, 0.01242778915911913, 0.0014522187411785126, 0.000777878041844815, 0.018618283793330193, 0.06872060149908066], [0.028651241213083267, 0.9539622664451599, 0.004098869394510984, 0.0015925380866974592, 0.003409507917240262, 0.008285590447485447], [0.08601896464824677, 0.054195553064346313, 0.8348108530044556, 0.0029873750172555447, 0.011168659664690495, 0.010818523354828358], [0.40967538952827454, 0.0007162101101130247, 0.019824543967843056, 0.5358350276947021, 0.022003820165991783, 0.011944955214858055], [0.9284464120864868, 0.004972305614501238, 0.006471248343586922, 0.019014352932572365, 0.02633814886212349, 0.014757598750293255]], [[0.1841168850660324, 0.06829941272735596, 0.0995151549577713, 0.07196570187807083, 0.2391011267900467, 0.3370017111301422], [0.473042368888855, 0.04721749573945999, 0.02283771149814129, 0.042040325701236725, 0.04666614904999733, 0.36819592118263245], [0.27394047379493713, 0.08242657780647278, 0.3064509332180023, 0.06281778961420059, 0.03889394924044609, 0.2354702651500702], [0.3552180528640747, 0.011724302545189857, 0.0010309857316315174, 0.09340029209852219, 0.04849505051970482, 0.4901312291622162], [0.4685434401035309, 0.007227374706417322, 0.0021869619376957417, 0.0240920539945364, 0.11594371497631073, 0.3820064961910248], [0.29891493916511536, 0.0049735261127352715, 0.0069130496121943, 0.019501570612192154, 0.04080438241362572, 0.6288925409317017]], [[0.5406009554862976, 0.036892980337142944, 0.08228233456611633, 0.048404525965452194, 0.05034637823700905, 0.24147284030914307], [0.2180064171552658, 0.013756763190031052, 0.05343182384967804, 0.07801267504692078, 0.42874032258987427, 0.20805194973945618], [0.26481425762176514, 0.004035345744341612, 0.01664022170007229, 0.1050698533654213, 0.24680806696414948, 0.36263221502304077], [0.30576398968696594, 0.04665514454245567, 0.09972481429576874, 0.09731625020503998, 0.20362766087055206, 0.2469121366739273], [0.47715291380882263, 0.020621666684746742, 0.019565701484680176, 0.10544996708631516, 0.020538488402962685, 0.3566712737083435], [0.4304923415184021, 0.008023466914892197, 0.01435012649744749, 0.016858398914337158, 0.007161065004765987, 0.5231146812438965]], [[0.6149786114692688, 0.018599294126033783, 0.024343805387616158, 0.01232004165649414, 0.020954029634594917, 0.30880436301231384], [0.24748244881629944, 0.05330318957567215, 0.36658138036727905, 0.024779222905635834, 0.048748333007097244, 0.25910553336143494], [0.2323397547006607, 0.09654940664768219, 0.11732560396194458, 0.03348547965288162, 0.06625192612409592, 0.454047828912735], [0.16688881814479828, 0.10997603088617325, 0.32646703720092773, 0.045995332300662994, 0.05377751961350441, 0.296895295381546], [0.06100849062204361, 0.04559260979294777, 0.17399054765701294, 0.06914658099412918, 0.43986499309539795, 0.21039679646492004], [0.7470535635948181, 0.0023023895919322968, 0.004674867726862431, 0.004443797282874584, 0.018120095133781433, 0.22340525686740875]], [[0.81986004114151, 0.008786323480308056, 0.01116320863366127, 0.009339947253465652, 0.013084830716252327, 0.13776561617851257], [0.021858379244804382, 0.02325729839503765, 0.5588672161102295, 0.2385721355676651, 0.06863980740308762, 0.0888051688671112], [0.03151342272758484, 0.004143643192946911, 0.016956986859440804, 0.4333619177341461, 0.45030587911605835, 0.0637180507183075], [0.042526014149188995, 0.0007112725870683789, 0.0016846598591655493, 0.004403247497975826, 0.8581623435020447, 0.09251242876052856], [0.9371629953384399, 5.93938457313925e-05, 0.0002422147081233561, 0.0003029951185453683, 0.002319066785275936, 0.05991333723068237], [0.937250554561615, 0.003741642227396369, 0.0019409884698688984, 0.0035105322021991014, 0.002521184040233493, 0.0510350726544857]], [[0.3067515194416046, 0.010431813076138496, 0.023706670850515366, 0.015256289392709732, 0.019855087623000145, 0.6239986419677734], [0.2804553210735321, 0.031169049441814423, 0.11067186295986176, 0.06835474818944931, 0.23260554671287537, 0.27674350142478943], [0.2396085411310196, 0.010156356729567051, 0.008082497864961624, 0.037389855831861496, 0.5597162842750549, 0.14504647254943848], [0.12436867505311966, 0.019110364839434624, 0.041356801986694336, 0.018937507644295692, 0.6979506611824036, 0.09827599674463272], [0.330911248922348, 0.040150903165340424, 0.06383679062128067, 0.04379859194159508, 0.11643802374601364, 0.4048643410205841], [0.2782750427722931, 0.0013167565921321511, 0.002906240988522768, 0.0013192691840231419, 0.0033467859029769897, 0.712835967540741]], [[0.6081432700157166, 0.019657602533698082, 0.024442104622721672, 0.022489968687295914, 0.06262650340795517, 0.26264047622680664], [0.7354785799980164, 0.005492024589329958, 0.0032517267391085625, 0.0038391551934182644, 0.046853095293045044, 0.2050854116678238], [0.45690274238586426, 0.07043713331222534, 0.046267613768577576, 0.015279948711395264, 0.12883669137954712, 0.282275915145874], [0.1611674278974533, 0.3765633702278137, 0.21111661195755005, 0.029239118099212646, 0.05678044259548187, 0.16513308882713318], [0.09426525235176086, 0.23553545773029327, 0.4086869955062866, 0.04262132570147514, 0.03884489834308624, 0.18004605174064636], [0.78434818983078, 0.0022307620383799076, 0.0026731593534350395, 0.004308128263801336, 0.019297640770673752, 0.18714217841625214]]], [[[0.17746438086032867, 0.008454128168523312, 0.004731690511107445, 0.007674038410186768, 0.007638432551175356, 0.7940373420715332], [0.0438259094953537, 0.035615067929029465, 0.07095739245414734, 0.08757385611534119, 0.06385921686887741, 0.6981685757637024], [0.010990425013005733, 0.035637591034173965, 0.02159794233739376, 0.049326341599226, 0.15327633917331696, 0.7291713356971741], [0.01983184739947319, 0.045617032796144485, 0.04045364260673523, 0.03078298643231392, 0.22640615701675415, 0.6369082927703857], [0.01926696114242077, 0.018092047423124313, 0.012746977619826794, 0.05107973888516426, 0.09937716275453568, 0.7994371056556702], [0.1260911226272583, 0.0011562552535906434, 0.0006689687725156546, 0.0005235407734289765, 0.010877043940126896, 0.8606830835342407]], [[0.52361661195755, 0.008635283447802067, 0.05350242182612419, 0.023456748574972153, 0.38878387212753296, 0.002005050191655755], [0.00040971016278490424, 0.061285585165023804, 0.17714771628379822, 0.12708048522472382, 0.5959742069244385, 0.03810228034853935], [0.004925597459077835, 0.13161849975585938, 0.17842085659503937, 0.1467425525188446, 0.4031112790107727, 0.13518112897872925], [0.0029698472935706377, 0.11589184403419495, 0.3465999662876129, 0.2355712205171585, 0.22028598189353943, 0.07868111878633499], [0.0018387272721156478, 0.11055348813533783, 0.35471275448799133, 0.35055890679359436, 0.08630668371915817, 0.09602949768304825], [0.07011563330888748, 0.06141522154211998, 0.06065421923995018, 0.04656047374010086, 0.07265467941761017, 0.6885997653007507]], [[0.05709443986415863, 0.1455569714307785, 0.37613600492477417, 0.054322924464941025, 0.2963896095752716, 0.07049998641014099], [0.27058547735214233, 0.015024025924503803, 0.01256343349814415, 0.01641646958887577, 0.013117403723299503, 0.6722932457923889], [0.28182825446128845, 0.01259127538651228, 0.016918938606977463, 0.06889945268630981, 0.014071477577090263, 0.605690598487854], [0.1363774538040161, 0.003984296694397926, 0.0033635112922638655, 0.08108024299144745, 0.002176520647481084, 0.7730180025100708], [0.2219017744064331, 0.0033088945783674717, 0.0017836984479799867, 0.005052994936704636, 0.0006361394771374762, 0.7673165202140808], [0.11576160788536072, 0.008199969306588173, 0.006223670206964016, 0.013644600287079811, 0.012914174236357212, 0.8432559370994568]], [[0.03815629333257675, 0.008456645533442497, 0.004941265098750591, 0.008517836220562458, 0.0605805441737175, 0.8793473839759827], [0.05574335902929306, 0.3197692930698395, 0.0035177436657249928, 0.0014519165270030499, 0.007997175678610802, 0.611520528793335], [0.023911410942673683, 0.0002642620529513806, 0.19727639853954315, 0.0006778679671697319, 0.0007012799615040421, 0.7771688103675842], [0.04945068806409836, 0.0003322917327750474, 0.00012199977209093049, 0.21499788761138916, 0.0004398629243951291, 0.7346572875976562], [0.01619119383394718, 0.0003601652861107141, 7.6046992035117e-05, 0.0001532479072920978, 0.2786482572555542, 0.7045711278915405], [0.005235082935541868, 0.0010647341841831803, 0.0002894832578022033, 0.0006139697507023811, 0.0027290433645248413, 0.990067720413208]], [[0.2111843377351761, 0.014271438121795654, 0.03641783818602562, 0.01494188979268074, 0.06366526335477829, 0.6595192551612854], [0.018489155918359756, 0.14173957705497742, 0.23772850632667542, 0.18845424056053162, 0.12889821827411652, 0.28469035029411316], [0.03148192912340164, 0.12397465109825134, 0.12362473458051682, 0.1422567367553711, 0.20517118275165558, 0.37349075078964233], [0.028366511687636375, 0.13744190335273743, 0.05397484824061394, 0.05238517373800278, 0.15826795995235443, 0.569563627243042], [0.02258993685245514, 0.15628616511821747, 0.049164969474077225, 0.19537664949893951, 0.11600352823734283, 0.46057868003845215], [0.001357670989818871, 0.0009526194189675152, 0.0007573409238830209, 0.0002989867061842233, 0.0017510829493403435, 0.994882345199585]], [[0.04308906942605972, 0.004012336488813162, 0.017229583114385605, 0.010362399742007256, 0.030169397592544556, 0.8951371908187866], [0.042520806193351746, 0.004733632318675518, 0.06316384673118591, 0.11929207295179367, 0.6601153612136841, 0.11017430573701859], [0.025260884314775467, 0.003254587994888425, 0.01191794779151678, 0.038130249828100204, 0.8563881516456604, 0.06504826247692108], [0.08240176737308502, 0.00208409340120852, 0.00415573175996542, 0.01442650705575943, 0.5961409211158752, 0.3007909655570984], [0.019202962517738342, 0.0008106976747512817, 0.0012044707546010613, 0.004098278935998678, 0.017269765958189964, 0.9574137926101685], [0.007306428160518408, 0.0006720012752339244, 0.0008947034366428852, 0.0015792265767231584, 0.004426278173923492, 0.9851213693618774]], [[0.015734080225229263, 0.006341051775962114, 0.005089207552373409, 0.0024488361086696386, 0.017768356949090958, 0.9526184797286987], [0.05187857151031494, 0.044011179357767105, 0.037620000541210175, 0.04234764724969864, 0.08603803813457489, 0.7381045818328857], [0.060484886169433594, 0.147970050573349, 0.08728708326816559, 0.05120173469185829, 0.061990201473236084, 0.5910659432411194], [0.05226277932524681, 0.19504939019680023, 0.24717505276203156, 0.02678121253848076, 0.08630001544952393, 0.39243149757385254], [0.03645431995391846, 0.10183579474687576, 0.3940613567829132, 0.06851910054683685, 0.0786086693406105, 0.32052081823349], [0.00325066689401865, 0.00019060033082496375, 0.0006308936281129718, 0.0003494138072710484, 0.002797749126330018, 0.9927807450294495]], [[0.05969466641545296, 0.006622145418077707, 0.009546766988933086, 0.01856703869998455, 0.01445202436298132, 0.8911173343658447], [0.015258950181305408, 0.002537800231948495, 0.013927897438406944, 0.003671439364552498, 0.0852000042796135, 0.8794039487838745], [0.02055898867547512, 0.29057788848876953, 0.01028803177177906, 0.028621142730116844, 0.11192801594734192, 0.5380258560180664], [0.03552698716521263, 0.029720336198806763, 0.31975188851356506, 0.006530491169542074, 0.22851718962192535, 0.3799531161785126], [0.03293086960911751, 0.01913309656083584, 0.012669093906879425, 0.029797272756695747, 0.0363217256963253, 0.8691478967666626], [0.006690072827041149, 0.0006404761807061732, 0.0006017948035150766, 0.004505453631281853, 0.005677103064954281, 0.9818851351737976]], [[0.1331034153699875, 0.005644677672535181, 0.01141140516847372, 0.01257298607379198, 0.014455610886216164, 0.8228119611740112], [0.17670093476772308, 0.01934802159667015, 0.02094252035021782, 0.064644455909729, 0.11079715192317963, 0.6075669527053833], [0.11646765470504761, 0.05347570404410362, 0.03603978455066681, 0.04932767525315285, 0.07962829619646072, 0.665060818195343], [0.03224427253007889, 0.06166020408272743, 0.03672876954078674, 0.039212003350257874, 0.04770534113049507, 0.7824494242668152], [0.056796059012413025, 0.009110386483371258, 0.002463433425873518, 0.008730599656701088, 0.0023337514139711857, 0.9205657839775085], [0.012117688544094563, 0.009241687133908272, 0.006224337499588728, 0.006654443219304085, 0.021673038601875305, 0.944088876247406]], [[0.03905888646841049, 0.03148576617240906, 0.061051711440086365, 0.1956106424331665, 0.02659403719007969, 0.6461989283561707], [0.12685167789459229, 0.009355421178042889, 0.026578878983855247, 0.12699906527996063, 0.44965869188308716, 0.26055625081062317], [0.144525408744812, 0.07852735370397568, 0.07064765691757202, 0.07232663780450821, 0.21244695782661438, 0.4215259850025177], [0.10588986426591873, 0.07461203634738922, 0.05700874328613281, 0.07788209617137909, 0.14202973246574402, 0.5425775647163391], [0.15675561130046844, 0.10583355277776718, 0.050747063010931015, 0.03161299601197243, 0.014547140337526798, 0.6405036449432373], [0.03198171406984329, 0.0015765170101076365, 0.0026594302617013454, 0.005618921481072903, 0.012531406246125698, 0.9456320405006409]], [[0.028677303344011307, 0.01526204776018858, 0.012125030159950256, 0.016205087304115295, 0.02025957778096199, 0.9074709415435791], [0.04162535071372986, 0.01769743300974369, 0.02782452665269375, 0.008107737638056278, 0.04267077147960663, 0.8620741963386536], [0.03714825212955475, 0.406316339969635, 0.05846525728702545, 0.025234386324882507, 0.05273624509572983, 0.42009949684143066], [0.0505836084485054, 0.4201613962650299, 0.11138159036636353, 0.028811711817979813, 0.09605833888053894, 0.2930033206939697], [0.04103975370526314, 0.27460867166519165, 0.27669695019721985, 0.13339988887310028, 0.01702365279197693, 0.2572310268878937], [0.010707615874707699, 0.0014303914504125714, 0.002013933612033725, 0.0037503947969526052, 0.010978772304952145, 0.9711188077926636]], [[0.2197621911764145, 0.13645121455192566, 0.022372767329216003, 0.011001527309417725, 0.07981417328119278, 0.5305981636047363], [0.03405268117785454, 0.02428378351032734, 0.1473330408334732, 0.05358908325433731, 0.010213733650743961, 0.7305276989936829], [0.055476218461990356, 0.014425761066377163, 0.019427962601184845, 0.43449756503105164, 0.1361742615699768, 0.3399983048439026], [0.08440952003002167, 0.009117459878325462, 0.011303959414362907, 0.01577935740351677, 0.33747029304504395, 0.541919469833374], [0.011134951375424862, 0.021303018555045128, 0.006985669955611229, 0.0014460922684520483, 0.0009509280789643526, 0.9581793546676636], [0.017190083861351013, 0.011783233843743801, 0.006285035517066717, 0.0072230566293001175, 0.012408752925693989, 0.9451098442077637]]], [[[0.04742182791233063, 0.07252150774002075, 0.2314642369747162, 0.04101629555225372, 0.07354015111923218, 0.5340359807014465], [0.07236418128013611, 0.025506125763058662, 0.03427805006504059, 0.07704144716262817, 0.2219557762145996, 0.5688543915748596], [0.08427659422159195, 0.017164384946227074, 0.019343525171279907, 0.09753566235303879, 0.3357783854007721, 0.44590142369270325], [0.11870964616537094, 0.030949383974075317, 0.025024639442563057, 0.019434791058301926, 0.22122643887996674, 0.5846551060676575], [0.08217420428991318, 0.01051764003932476, 0.014658709056675434, 0.012136392295360565, 0.026538316160440445, 0.8539747595787048], [0.02191970683634281, 0.00557229807600379, 0.007072096224874258, 0.0042322552762925625, 0.01852989010512829, 0.9426738023757935]], [[0.04178719222545624, 0.04779581353068352, 0.03169567510485649, 0.04602937400341034, 0.010693886317312717, 0.8219980597496033], [0.004584888461977243, 0.008446039631962776, 0.016917617991566658, 0.01731576770544052, 0.00560313044115901, 0.9471325278282166], [0.00767373526468873, 0.20086263120174408, 0.025340385735034943, 0.012199291959404945, 0.009269949048757553, 0.7446539998054504], [0.030727993696928024, 0.04227075353264809, 0.022143622860312462, 0.009088892489671707, 0.01901857927441597, 0.8767501711845398], [0.04033946618437767, 0.02144511044025421, 0.008577668108046055, 0.007758871652185917, 0.037183646112680435, 0.884695291519165], [0.0071755643002688885, 0.003544752486050129, 0.0021512892562896013, 0.004261281341314316, 0.0012990665854886174, 0.9815680384635925]], [[0.12166614830493927, 0.03520242124795914, 0.07199840992689133, 0.042369209229946136, 0.07988664507865906, 0.6488771438598633], [0.1963014155626297, 0.08090759813785553, 0.11992426216602325, 0.1506258100271225, 0.21205715835094452, 0.2401837855577469], [0.1284799873828888, 0.20399045944213867, 0.17918865382671356, 0.09019526094198227, 0.2344886213541031, 0.1636570245027542], [0.0625767931342125, 0.24178403615951538, 0.20899716019630432, 0.0764550119638443, 0.21418249607086182, 0.1960044950246811], [0.12591393291950226, 0.07758542895317078, 0.10957358777523041, 0.06478887051343918, 0.054868657141923904, 0.567269504070282], [0.03730229660868645, 0.0034617900382727385, 0.0023940892424434423, 0.0025897608138620853, 0.0026931099127978086, 0.9515589475631714]], [[0.013461150228977203, 0.1245422512292862, 0.22788482904434204, 0.13328143954277039, 0.08147742599248886, 0.4193529486656189], [0.014936050400137901, 0.10022704303264618, 0.09349458664655685, 0.013756655156612396, 0.01577751338481903, 0.7618081569671631], [0.01113093364983797, 0.040681708604097366, 0.05844647437334061, 0.033105574548244476, 0.015360680408775806, 0.8412745594978333], [0.04108114913105965, 0.04968305304646492, 0.028239864856004715, 0.020984375849366188, 0.029347015544772148, 0.8306645750999451], [0.06388594210147858, 0.06011570990085602, 0.07607802748680115, 0.05267394706606865, 0.13373863697052002, 0.6135077476501465], [0.0077987113036215305, 0.004081453662365675, 0.004935505334287882, 0.0033126049675047398, 0.013242839835584164, 0.9666288495063782]], [[0.023959314450621605, 0.08033419400453568, 0.16275091469287872, 0.08175016939640045, 0.06998472660779953, 0.5812206864356995], [0.09125842154026031, 0.008550896309316158, 0.008659005165100098, 0.03330334275960922, 0.38651180267333984, 0.4717165529727936], [0.05301923677325249, 0.03252243995666504, 0.028994519263505936, 0.03351706638932228, 0.36955752968788147, 0.4823892414569855], [0.05016498267650604, 0.040145304054021835, 0.044273797422647476, 0.12007611989974976, 0.19012939929962158, 0.5552103519439697], [0.1173810288310051, 0.04393627122044563, 0.050083354115486145, 0.03992282971739769, 0.012149087153375149, 0.7365273833274841], [0.02027558721601963, 0.002843871945515275, 0.003367053112015128, 0.004383960273116827, 0.01998080313205719, 0.9491487741470337]], [[0.019922789186239243, 0.02742798440158367, 0.012268963269889355, 0.0170906875282526, 0.0210157111287117, 0.9022738933563232], [0.10497909784317017, 0.3332008421421051, 0.012201760895550251, 0.011788196861743927, 0.03318312019109726, 0.5046469569206238], [0.09025854617357254, 0.011504114605486393, 0.17007622122764587, 0.022880468517541885, 0.1035727858543396, 0.6017078161239624], [0.11833745986223221, 0.003590952605009079, 0.061814311891794205, 0.12869270145893097, 0.07966934889554977, 0.6078952550888062], [0.03845362737774849, 0.003192516043782234, 0.004182044882327318, 0.011115757748484612, 0.09321584552526474, 0.8498402237892151], [0.007305402774363756, 0.0024309621658176184, 0.0005853455513715744, 0.000514744664542377, 0.005087879486382008, 0.9840756058692932]], [[0.03072502091526985, 0.011967013590037823, 0.017336338758468628, 0.025853749364614487, 0.01965087465941906, 0.8944670557975769], [0.012874501757323742, 0.0048215058632195, 0.009441404603421688, 0.0023856647312641144, 0.002702878089621663, 0.9677740335464478], [0.05060196295380592, 0.05819015949964523, 0.043371815234422684, 0.01446342933923006, 0.015506627969443798, 0.8178660273551941], [0.02742554433643818, 0.03707920387387276, 0.3658750057220459, 0.03263813257217407, 0.01909526251256466, 0.5178868770599365], [0.0558902882039547, 0.020901182666420937, 0.025162266567349434, 0.10028576105833054, 0.03721107915043831, 0.7605494856834412], [0.020227739587426186, 0.020221590995788574, 0.014614860527217388, 0.008400463499128819, 0.008421692065894604, 0.9281136989593506]], [[0.024722669273614883, 0.01686105690896511, 0.06956899911165237, 0.0700332373380661, 0.2318211793899536, 0.5869929194450378], [0.04861908033490181, 0.015673598274588585, 0.5348954796791077, 0.06026739999651909, 0.07309658825397491, 0.2674478590488434], [0.025117898359894753, 0.00522201880812645, 0.03657376393675804, 0.16001734137535095, 0.3304806649684906, 0.44258829951286316], [0.07445580512285233, 0.011695143766701221, 0.02383510023355484, 0.11307445168495178, 0.18309800326824188, 0.5938414931297302], [0.004877335857599974, 0.0014140852726995945, 0.0005991721409372985, 0.0005431151366792619, 0.002472049556672573, 0.9900942444801331], [0.0036805791314691305, 0.0012175862211734056, 0.0018218668410554528, 0.000998451141640544, 0.004139964934438467, 0.9881415367126465]], [[0.081582210958004, 0.035506539046764374, 0.05091055855154991, 0.05805516242980957, 0.10863047093153, 0.6653150916099548], [0.021943561732769012, 0.027331272140145302, 0.11486168950796127, 0.10608669370412827, 0.3952270746231079, 0.3345496654510498], [0.046919580549001694, 0.02083696983754635, 0.06087014824151993, 0.08831056207418442, 0.32826361060142517, 0.4547991156578064], [0.022583531215786934, 0.012435389682650566, 0.04527664557099342, 0.05560371279716492, 0.36067143082618713, 0.5034292340278625], [0.0431053452193737, 0.02583693526685238, 0.023602904751896858, 0.044915784150362015, 0.041283346712589264, 0.8212556838989258], [0.009851761162281036, 0.0009276960045099258, 0.0009992498671635985, 0.0012339341919869184, 0.006159115582704544, 0.9808282256126404]], [[0.062324751168489456, 0.17075882852077484, 0.03266186639666557, 0.004987024702131748, 0.20128794014453888, 0.5279795527458191], [0.0019776273984462023, 0.010420180857181549, 0.49667075276374817, 0.029962019994854927, 0.07585200667381287, 0.3851173520088196], [0.005773608107119799, 0.013658394105732441, 0.0338013730943203, 0.4472048282623291, 0.3319690227508545, 0.167592853307724], [0.0019843855407088995, 0.0006049402873031795, 0.0017175341490656137, 0.003477839520201087, 0.9577234983444214, 0.034491848200559616], [0.01599946804344654, 0.0011276199948042631, 0.0005168460193090141, 0.00020165563910268247, 0.002047549933195114, 0.9801068305969238], [0.35071858763694763, 0.0065901679918169975, 0.003440713509917259, 0.005214835982769728, 0.06200982630252838, 0.5720258951187134]], [[0.028924595564603806, 0.03270784765481949, 0.08857394009828568, 0.04349138215184212, 0.31962427496910095, 0.48667794466018677], [0.08704893290996552, 0.010219555348157883, 0.014638690277934074, 0.01547287404537201, 0.160472571849823, 0.7121474146842957], [0.17928515374660492, 0.5382309556007385, 0.07139788568019867, 0.010142428800463676, 0.04662591218948364, 0.15431763231754303], [0.04963594302535057, 0.5547731518745422, 0.19896511733531952, 0.0036792301107198, 0.12271995097398758, 0.07022663950920105], [0.13630594313144684, 0.17504745721817017, 0.2402123212814331, 0.12708230316638947, 0.022509003058075905, 0.2988429665565491], [0.019028490409255028, 0.00604716781526804, 0.0054204524494707584, 0.009336468763649464, 0.013926178216934204, 0.9462411999702454]], [[0.04082828387618065, 0.004320377949625254, 0.019031820818781853, 0.01673806644976139, 0.01868034340441227, 0.9004011750221252], [0.04770009592175484, 0.027200644835829735, 0.07301661372184753, 0.031554147601127625, 0.14516887068748474, 0.6753596067428589], [0.018217263743281364, 0.026244699954986572, 0.025460146367549896, 0.012172321788966656, 0.04983201622962952, 0.868073582649231], [0.031014826148748398, 0.022825032472610474, 0.008115185424685478, 0.009011237882077694, 0.020962253212928772, 0.9080714583396912], [0.033180974423885345, 0.006997954566031694, 0.009569029323756695, 0.008804929442703724, 0.009438058361411095, 0.9320090413093567], [0.015026814304292202, 0.010621781460940838, 0.004662236198782921, 0.005164283327758312, 0.010821349918842316, 0.9537034630775452]]], [[[0.003235580399632454, 0.12723380327224731, 0.40520256757736206, 0.34119370579719543, 0.07988015562295914, 0.043254148215055466], [0.001585694495588541, 0.09607873111963272, 0.037172481417655945, 0.011324933730065823, 0.007986782118678093, 0.8458513617515564], [0.0005707045784220099, 0.006389336194843054, 0.023967301473021507, 0.008126046508550644, 0.003808398265391588, 0.957138180732727], [0.0013289040653035045, 0.010513730347156525, 0.020816989243030548, 0.041268181055784225, 0.02137744426727295, 0.9046947360038757], [0.0030682780779898167, 0.015546586364507675, 0.024583568796515465, 0.037371501326560974, 0.053200818598270416, 0.866229236125946], [0.00292900949716568, 0.0015196986496448517, 0.0017650354420766234, 0.0014933987986296415, 0.00400509824976325, 0.9882877469062805]], [[0.06424219161272049, 0.06365036964416504, 0.08387386053800583, 0.07213252782821655, 0.34316182136535645, 0.37293922901153564], [0.05251489207148552, 0.050168611109256744, 0.07595100998878479, 0.0985792726278305, 0.2596111595630646, 0.4631749987602234], [0.035611022263765335, 0.08340363949537277, 0.05536258965730667, 0.042218465358018875, 0.2546035051345825, 0.5288007855415344], [0.05791354551911354, 0.08478649705648422, 0.030639557167887688, 0.030020033940672874, 0.2950183153152466, 0.5016220808029175], [0.11372414976358414, 0.07927238941192627, 0.05272321030497551, 0.06471914052963257, 0.11458248645067215, 0.5749785900115967], [0.009639427997171879, 0.00617728428915143, 0.008975840173661709, 0.0063202898018062115, 0.015335538424551487, 0.9535515904426575]], [[0.014174028299748898, 0.045522306114435196, 0.10832200944423676, 0.11722783744335175, 0.3801177740097046, 0.33463603258132935], [0.02703450806438923, 0.01707027107477188, 0.01971624419093132, 0.01354218553751707, 0.034949060529470444, 0.8876876831054688], [0.03658897057175636, 0.03167692944407463, 0.013967309147119522, 0.02601594850420952, 0.017848942428827286, 0.873901903629303], [0.06086540222167969, 0.08805330097675323, 0.032177940011024475, 0.050287891179323196, 0.020680319517850876, 0.7479351758956909], [0.07545412331819534, 0.06975507736206055, 0.07880302518606186, 0.09296499937772751, 0.03110843151807785, 0.6519142985343933], [0.02260361798107624, 0.006090036127716303, 0.007279538083821535, 0.010124996304512024, 0.023464888334274292, 0.930436909198761]], [[0.022194843739271164, 0.004061991348862648, 0.001418822561390698, 0.00653605442494154, 0.0018695542821660638, 0.9639187455177307], [0.017382802441716194, 0.012394667603075504, 0.014501480385661125, 0.00441353302448988, 0.004441895987838507, 0.9468656182289124], [0.02459237538278103, 0.26546579599380493, 0.02551494725048542, 0.002221242757514119, 0.007371858693659306, 0.6748338341712952], [0.003579941112548113, 0.017093129456043243, 0.34334251284599304, 0.031798265874385834, 0.06395623087882996, 0.540229856967926], [0.020702071487903595, 0.010227592661976814, 0.027710746973752975, 0.07433956116437912, 0.08233827352523804, 0.7846817970275879], [0.07890725135803223, 0.010247036814689636, 0.003972659818828106, 0.014247219078242779, 0.01763138547539711, 0.8749943971633911]], [[0.025386696681380272, 0.028208959847688675, 0.046830907464027405, 0.04887443035840988, 0.0697113499045372, 0.780987560749054], [0.004778152331709862, 0.007009407505393028, 0.07198193669319153, 0.025679264217615128, 0.025516577064990997, 0.8650346994400024], [0.007070372812449932, 0.15896351635456085, 0.02153085544705391, 0.021066976711153984, 0.005278447642922401, 0.7860897779464722], [0.011625252664089203, 0.13593105971813202, 0.07233252376317978, 0.02257448248565197, 0.029632918536663055, 0.7279037237167358], [0.0058510927483439445, 0.03295966982841492, 0.009207041002810001, 0.01537242066115141, 0.00791969895362854, 0.9286901354789734], [0.003243942279368639, 0.004255952313542366, 0.003169724252074957, 0.003177654230967164, 0.005916456691920757, 0.9802362322807312]], [[0.09209749102592468, 0.06879016757011414, 0.11638389527797699, 0.25443360209465027, 0.13519451022148132, 0.333100289106369], [0.00387727003544569, 0.008802766911685467, 0.06864625960588455, 0.2293989062309265, 0.40248119831085205, 0.28679361939430237], [0.0037325334269553423, 0.0036475753877311945, 0.016480423510074615, 0.21926972270011902, 0.41911572217941284, 0.33775395154953003], [0.006320947781205177, 0.0052564567886292934, 0.033800411969423294, 0.05590054392814636, 0.6764761209487915, 0.2222454845905304], [0.008397182449698448, 0.008986752480268478, 0.014836722053587437, 0.007129050325602293, 0.004842493217438459, 0.9558078050613403], [0.001521037658676505, 0.0017671390669420362, 0.0021431564819067717, 0.0035545204300433397, 0.0042050560005009174, 0.9868091344833374]], [[0.060102105140686035, 0.0468633770942688, 0.039745282381772995, 0.04356372728943825, 0.08374417573213577, 0.7259812951087952], [0.00454544136300683, 0.010866937227547169, 0.21905578672885895, 0.09079781919717789, 0.1305527240037918, 0.5441812872886658], [0.0028519879560917616, 0.011182245798408985, 0.01162759680300951, 0.26495081186294556, 0.29196009039878845, 0.4174272418022156], [0.014552121050655842, 0.011472754180431366, 0.009941762313246727, 0.023952560499310493, 0.44272884726524353, 0.49735191464424133], [0.0075190505012869835, 0.002175860805436969, 0.0006582299247384071, 0.0009191558929160237, 0.0009234721655957401, 0.9878041744232178], [0.010020087473094463, 0.008018122054636478, 0.008152899332344532, 0.011270486749708652, 0.017754992470145226, 0.9447833895683289]], [[0.01694667711853981, 0.007162034977227449, 0.011409606784582138, 0.02477102540433407, 0.2907865047454834, 0.6489241719245911], [0.006733591202646494, 0.009654737077653408, 0.054094742983579636, 0.06490519642829895, 0.31149807572364807, 0.5531136393547058], [0.015598573721945286, 0.024075448513031006, 0.04692620784044266, 0.01890120841562748, 0.4002249538898468, 0.4942736029624939], [0.01615861803293228, 0.031532902270555496, 0.028344741091132164, 0.016294950619339943, 0.43473514914512634, 0.47293367981910706], [0.007663796655833721, 0.023093020543456078, 0.01917768083512783, 0.01969841681420803, 0.023172076791524887, 0.907194972038269], [0.0054301051422953606, 0.006742987781763077, 0.012202943675220013, 0.009077741764485836, 0.03220968693494797, 0.9343365430831909]], [[0.04308147355914116, 0.023860909044742584, 0.02134486846625805, 0.0383196584880352, 0.07308720052242279, 0.8003059029579163], [0.3154871463775635, 0.02537960186600685, 0.03719986602663994, 0.02761933207511902, 0.04746345430612564, 0.5468505620956421], [0.21134063601493835, 0.01457951683551073, 0.05255800858139992, 0.020129794254899025, 0.06292419135570526, 0.6384678483009338], [0.15840265154838562, 0.03265729919075966, 0.12024490535259247, 0.06867796927690506, 0.10555706918239594, 0.5144600868225098], [0.10274890065193176, 0.03345320001244545, 0.03338799625635147, 0.05432899296283722, 0.1452477127313614, 0.6308331489562988], [0.03463517501950264, 0.02177266776561737, 0.022077007219195366, 0.01732618547976017, 0.039450906217098236, 0.8647381067276001]], [[0.030365414917469025, 0.005472792778164148, 0.0016517735784873366, 0.0038685027975589037, 0.13138261437416077, 0.8272588849067688], [0.15915502607822418, 0.014842438511550426, 0.006154301110655069, 0.007497001439332962, 0.05313718318939209, 0.7592141032218933], [0.44399118423461914, 0.023601926863193512, 0.007618969306349754, 0.0040669976733624935, 0.0390857569873333, 0.4816352128982544], [0.21646957099437714, 0.05378290265798569, 0.11412917077541351, 0.031163830310106277, 0.2822645306587219, 0.3021899461746216], [0.12245038151741028, 0.05541044473648071, 0.11908013373613358, 0.17938947677612305, 0.30689430236816406, 0.2167753279209137], [0.018832989037036896, 0.008172337897121906, 0.006569213699549437, 0.009258825331926346, 0.03137935698032379, 0.9257872104644775]], [[0.014509247615933418, 0.022381363436579704, 0.14266550540924072, 0.22387725114822388, 0.011063615791499615, 0.585503101348877], [0.009507447481155396, 0.043843477964401245, 0.011591855436563492, 0.0058105639182031155, 0.00772291561588645, 0.9215236902236938], [0.005111704580485821, 0.06848594546318054, 0.008479582145810127, 0.0023137417156249285, 0.003325721248984337, 0.9122833013534546], [0.032926976680755615, 0.10856906324625015, 0.05864688381552696, 0.014956158585846424, 0.010683948174118996, 0.7742169499397278], [0.005488293711096048, 0.08900374919176102, 0.11012876033782959, 0.059102971106767654, 0.007977059110999107, 0.7282991409301758], [0.008057987317442894, 0.01695544645190239, 0.02278291806578636, 0.03346223756670952, 0.010120980441570282, 0.9086204171180725]], [[0.01743330806493759, 0.08395654708147049, 0.0717327892780304, 0.25743940472602844, 0.26309734582901, 0.30634060502052307], [0.23013606667518616, 0.019755646586418152, 0.008661818690598011, 0.006476673763245344, 0.07252708077430725, 0.6624427437782288], [0.22791199386119843, 0.7098913192749023, 0.004361211787909269, 0.00337672489695251, 0.005898032803088427, 0.04856075346469879], [0.02486691065132618, 0.3343547582626343, 0.29600825905799866, 0.005709578283131123, 0.010732052847743034, 0.328328400850296], [0.021797144785523415, 0.02712608501315117, 0.02400541864335537, 0.30182379484176636, 0.07970988750457764, 0.5455376505851746], [0.004552825819700956, 0.007512169424444437, 0.009561119601130486, 0.016783783212304115, 0.012660808861255646, 0.9489293098449707]]], [[[0.0014410564908757806, 0.05280548334121704, 0.0398164801299572, 0.02932506985962391, 0.032298702746629715, 0.8443132042884827], [0.027593784034252167, 0.035721030086278915, 0.01609031856060028, 0.020258938893675804, 0.0362529531121254, 0.8640830516815186], [0.05586707219481468, 0.1457616090774536, 0.05249612405896187, 0.05003010854125023, 0.02506285533308983, 0.670782208442688], [0.05093640461564064, 0.3414710760116577, 0.13671565055847168, 0.060654930770397186, 0.055525846779346466, 0.354696124792099], [0.030885351821780205, 0.146680548787117, 0.20118919014930725, 0.1141473650932312, 0.03792964667081833, 0.4691678583621979], [0.00947603676468134, 0.008143213577568531, 0.008359989151358604, 0.006090783514082432, 0.008612511679530144, 0.9593175053596497]], [[0.050445739179849625, 0.041872236877679825, 0.20541717112064362, 0.13074685633182526, 0.2903846800327301, 0.28113338351249695], [0.015893131494522095, 0.04051687568426132, 0.43074673414230347, 0.20886322855949402, 0.12274519354104996, 0.18123488128185272], [0.011658838018774986, 0.02809576317667961, 0.03276074677705765, 0.09950265288352966, 0.31994038820266724, 0.5080416798591614], [0.009774405509233475, 0.01960543729364872, 0.019947370514273643, 0.038718994706869125, 0.1763949692249298, 0.735558807849884], [0.011317864060401917, 0.03560367971658707, 0.019913533702492714, 0.03025560826063156, 0.031410131603479385, 0.8714991211891174], [0.004380263388156891, 0.00733947241678834, 0.004067832604050636, 0.004073791671544313, 0.010805639438331127, 0.9693330526351929]], [[0.16652493178844452, 0.29606741666793823, 0.03122055158019066, 0.014131647534668446, 0.029927676543593407, 0.46212777495384216], [0.004338092170655727, 0.04491623491048813, 0.6438480615615845, 0.14033885300159454, 0.02568318508565426, 0.14087551832199097], [0.005059331655502319, 0.12485507875680923, 0.18135961890220642, 0.10722517222166061, 0.01715502142906189, 0.5643457770347595], [0.01599240116775036, 0.08381055295467377, 0.07287014275789261, 0.01767249032855034, 0.0715700313448906, 0.7380843758583069], [0.02016526833176613, 0.020465608686208725, 0.008269503712654114, 0.019535856321454048, 0.023720894008874893, 0.9078428745269775], [0.014874227344989777, 0.015227925032377243, 0.01058950088918209, 0.011488026939332485, 0.021690959110856056, 0.9261293411254883]], [[0.022095536813139915, 0.0027675172314047813, 0.005854183807969093, 0.010982092469930649, 0.00564056308940053, 0.9526601433753967], [0.005590302404016256, 0.019701596349477768, 0.038602445274591446, 0.009424909017980099, 0.013736695982515812, 0.9129440188407898], [0.008178108371794224, 0.03396408259868622, 0.04597950726747513, 0.024947836995124817, 0.010705203749239445, 0.8762253522872925], [0.006737632676959038, 0.02473069541156292, 0.05326508358120918, 0.017671076580882072, 0.023935480043292046, 0.8736599683761597], [0.004278648644685745, 0.005938539747148752, 0.007529046386480331, 0.0016610592138022184, 0.010514975525438786, 0.9700776934623718], [0.039522767066955566, 0.012251659296452999, 0.005593321286141872, 0.004997579846531153, 0.02577616088092327, 0.9118585586547852]], [[0.0018813996575772762, 0.004634236451238394, 0.0035883402451872826, 0.011244571767747402, 0.029908664524555206, 0.9487427473068237], [0.014027473516762257, 0.005244559142738581, 0.0015178463654592633, 0.004477463196963072, 0.08064927905797958, 0.8940834403038025], [0.001432595425285399, 0.7295873165130615, 0.03119794651865959, 0.009060518816113472, 0.0014403321547433734, 0.22728115320205688], [0.0022165440022945404, 0.013794735074043274, 0.8305540084838867, 0.017776181921362877, 0.027586298063397408, 0.10807221382856369], [0.011846616864204407, 0.06784002482891083, 0.16209621727466583, 0.3748150169849396, 0.022172115743160248, 0.3612300157546997], [0.005380450747907162, 0.004824769217520952, 0.004900841042399406, 0.0067280009388923645, 0.020548854023218155, 0.9576171040534973]], [[0.022088048979640007, 0.053543608635663986, 0.20813637971878052, 0.08017394691705704, 0.08537761867046356, 0.55068039894104], [0.013876966200768948, 0.09487869590520859, 0.6391546130180359, 0.05085288733243942, 0.08373622596263885, 0.11750049144029617], [0.04318732023239136, 0.15301355719566345, 0.28527534008026123, 0.07671666145324707, 0.2623954117298126, 0.17941167950630188], [0.024641722440719604, 0.19285394251346588, 0.2722930610179901, 0.04654232785105705, 0.21628469228744507, 0.24738426506519318], [0.015854287892580032, 0.08243189007043839, 0.11830609291791916, 0.020355090498924255, 0.06871486455202103, 0.694337785243988], [0.0059410217218101025, 0.006660827901214361, 0.018181856721639633, 0.0026933285407721996, 0.010243464261293411, 0.9562795162200928]], [[0.07096584141254425, 0.01190891768783331, 0.022426530718803406, 0.021811632439494133, 0.019267918542027473, 0.8536192178726196], [0.010654954239726067, 0.02072899043560028, 0.1023065447807312, 0.09602820873260498, 0.04982798174023628, 0.7204533815383911], [0.003829637309536338, 0.010736986063420773, 0.04407702758908272, 0.052021484822034836, 0.031818587332963943, 0.857516348361969], [0.0029269191436469555, 0.007646066136658192, 0.016749991104006767, 0.029551761224865913, 0.015398259274661541, 0.9277270436286926], [0.009273018687963486, 0.0071626207791268826, 0.0048406911082565784, 0.005754669196903706, 0.01879267208278179, 0.9541763663291931], [0.06636253744363785, 0.011458583176136017, 0.005705953110009432, 0.009805499576032162, 0.012177344411611557, 0.894490122795105]], [[0.1015370637178421, 0.0032184324227273464, 0.0009816029341891408, 0.002904976950958371, 0.057517629116773605, 0.8338403105735779], [0.018656235188245773, 0.010728402994573116, 0.01578087918460369, 0.008304166607558727, 0.005659302696585655, 0.940871000289917], [0.004690881352871656, 0.04440714046359062, 0.009351725690066814, 0.002923437161371112, 0.0022297254763543606, 0.9363970160484314], [0.00530205387622118, 0.02193366177380085, 0.030161390081048012, 0.010379437357187271, 0.0075033740140497684, 0.9247201681137085], [0.01617330312728882, 0.009671853855252266, 0.009743918664753437, 0.007148730102926493, 0.00417943624779582, 0.9530827403068542], [0.011733971536159515, 0.013189292512834072, 0.005144820082932711, 0.006304014008492231, 0.01048390381038189, 0.9531440138816833]], [[0.07605186104774475, 0.046891406178474426, 0.027558382600545883, 0.02186395227909088, 0.40375080704689026, 0.4238835871219635], [0.1766512393951416, 0.06047671288251877, 0.13762614130973816, 0.1533764749765396, 0.2749388515949249, 0.19693060219287872], [0.2514026165008545, 0.1171259805560112, 0.046423982828855515, 0.051345329731702805, 0.15750445425510406, 0.3761976659297943], [0.3470064401626587, 0.06577719002962112, 0.013171251863241196, 0.011342709884047508, 0.0813782811164856, 0.48132410645484924], [0.12029114365577698, 0.06135731562972069, 0.013534621335566044, 0.010200322605669498, 0.09722024202346802, 0.6973963379859924], [0.017807643860578537, 0.010393371805548668, 0.004585589282214642, 0.0037592484150081873, 0.014716369099915028, 0.9487378001213074]], [[0.0050348578952252865, 0.011694066226482391, 0.006792124360799789, 0.012283364310860634, 0.031084515154361725, 0.9331110715866089], [0.005011445842683315, 0.0159093476831913, 0.007303124759346247, 0.004677805583924055, 0.030183929949998856, 0.936914324760437], [0.02082000859081745, 0.07019200176000595, 0.027798105031251907, 0.009667566977441311, 0.024930374696850777, 0.8465919494628906], [0.01774345338344574, 0.14669190347194672, 0.35773995518684387, 0.021135985851287842, 0.037321679294109344, 0.41936689615249634], [0.0720476508140564, 0.16711227595806122, 0.12542372941970825, 0.06560738384723663, 0.06411803513765335, 0.50569087266922], [0.008335177786648273, 0.009991968981921673, 0.006906814407557249, 0.007240495644509792, 0.024526450783014297, 0.9429991245269775]], [[0.03175140172243118, 0.028004363179206848, 0.05744219571352005, 0.06795146316289902, 0.39794278144836426, 0.41690781712532043], [0.0034013164695352316, 0.006203917786478996, 0.06349088251590729, 0.07467982172966003, 0.5843719840049744, 0.2678520977497101], [0.004850385244935751, 0.009860901162028313, 0.051061805337667465, 0.09378036111593246, 0.4858454763889313, 0.354601114988327], [0.002314430195838213, 0.001152284792624414, 0.003696860745549202, 0.004749215207993984, 0.9124895930290222, 0.07559770345687866], [0.01424620021134615, 0.04476577416062355, 0.02901848778128624, 0.02504548244178295, 0.012023895047605038, 0.8749001026153564], [0.01008594036102295, 0.009952990338206291, 0.008320329710841179, 0.00937850121408701, 0.022948479279875755, 0.9393137097358704]], [[0.05489964410662651, 0.006617591716349125, 0.006855539511889219, 0.09170091897249222, 0.5142719149589539, 0.32565441727638245], [0.01496198307722807, 0.010189552791416645, 0.010224566794931889, 0.009647183120250702, 0.13109111785888672, 0.8238856196403503], [0.007297241594642401, 0.30785125494003296, 0.06377112120389938, 0.018513686954975128, 0.009625486098229885, 0.592941164970398], [0.007211267948150635, 0.39903634786605835, 0.14626261591911316, 0.012526636011898518, 0.03326224163174629, 0.401700884103775], [0.006417546421289444, 0.012694969773292542, 0.005870488937944174, 0.01932014711201191, 0.0441707968711853, 0.9115260243415833], [0.008580639958381653, 0.008115841075778008, 0.002575002145022154, 0.006158119533210993, 0.03895929455757141, 0.9356111288070679]]], [[[0.06423324346542358, 0.039532627910375595, 0.11981310695409775, 0.03875551372766495, 0.10797233134508133, 0.6296931505203247], [0.2894572913646698, 0.05115656554698944, 0.019242534413933754, 0.05703679099678993, 0.04515550285577774, 0.5379512906074524], [0.2301763892173767, 0.05772053077816963, 0.022540578618645668, 0.021724490448832512, 0.0348089337348938, 0.633029043674469], [0.14990726113319397, 0.0381171740591526, 0.0335737019777298, 0.027017436921596527, 0.052525442093610764, 0.698858916759491], [0.10325216501951218, 0.013767126016318798, 0.006380690727382898, 0.005535932257771492, 0.01032487116754055, 0.8607392311096191], [0.02392898127436638, 0.010303176008164883, 0.004791599698364735, 0.002903711749240756, 0.009364691562950611, 0.9487078785896301]], [[0.03561178594827652, 0.0873819887638092, 0.025806736201047897, 0.021801790222525597, 0.10119916498661041, 0.7281985282897949], [0.03753947466611862, 0.033153630793094635, 0.01227651908993721, 0.008728699758648872, 0.050986148416996, 0.8573155403137207], [0.013203422538936138, 0.010082096792757511, 0.004594902042299509, 0.0035188263282179832, 0.015835482627153397, 0.9527653455734253], [0.013533910736441612, 0.04770262911915779, 0.014391832984983921, 0.011096556670963764, 0.016006235033273697, 0.8972688913345337], [0.03235883265733719, 0.07165943086147308, 0.03102256916463375, 0.02215779945254326, 0.04326150193810463, 0.7995399236679077], [0.021253082901239395, 0.025145210325717926, 0.019759485498070717, 0.01872650533914566, 0.06203687936067581, 0.8530787825584412]], [[0.005624092184007168, 0.5233424305915833, 0.030912965536117554, 0.008013478480279446, 0.021877411752939224, 0.4102296829223633], [0.004459287505596876, 0.048008427023887634, 0.37018799781799316, 0.014306454919278622, 0.014938156120479107, 0.5480996370315552], [0.0011013676412403584, 0.02502281405031681, 0.009691749699413776, 0.04843622446060181, 0.014863763935863972, 0.9008840322494507], [0.0016036202432587743, 0.016440603882074356, 0.002630313392728567, 0.0059304144233465195, 0.3708019256591797, 0.6025931239128113], [0.030956942588090897, 0.037061259150505066, 0.0021707438863813877, 0.004588523413985968, 0.03130374476313591, 0.8939187526702881], [0.013459390960633755, 0.027430009096860886, 0.009593593887984753, 0.008602085523307323, 0.018716279417276382, 0.9221987128257751]], [[0.00398227060213685, 0.11708245426416397, 0.1411598175764084, 0.03322933241724968, 0.01762010157108307, 0.6869259476661682], [0.06560838222503662, 0.06607230752706528, 0.17224718630313873, 0.02548200637102127, 0.07857227325439453, 0.5920178890228271], [0.08783689886331558, 0.04519684240221977, 0.18663136661052704, 0.0412474162876606, 0.11354847997426987, 0.5255390405654907], [0.04470951482653618, 0.1788279414176941, 0.06530672311782837, 0.02442261576652527, 0.1818893998861313, 0.5048437714576721], [0.03286457806825638, 0.036421407014131546, 0.03625350445508957, 0.02444305829703808, 0.05126302316784859, 0.8187543749809265], [0.020748242735862732, 0.022086841985583305, 0.01154253724962473, 0.006587278563529253, 0.026107164099812508, 0.9129279255867004]], [[0.0037103688810020685, 0.13529780507087708, 0.17908047139644623, 0.028377803042531013, 0.08097745478153229, 0.5725561380386353], [0.00881801638752222, 0.07423608005046844, 0.044673483818769455, 0.006587741430848837, 0.02917109988629818, 0.8365136384963989], [0.004722745157778263, 0.07063610106706619, 0.03694263845682144, 0.004611328709870577, 0.010334349237382412, 0.872752845287323], [0.006217447575181723, 0.12447573244571686, 0.04908035695552826, 0.005903497338294983, 0.016181673854589462, 0.7981412410736084], [0.004462654236704111, 0.021070493385195732, 0.009930637665092945, 0.0029858597554266453, 0.01054420042783022, 0.9510061144828796], [0.011474008671939373, 0.027648596093058586, 0.015147012658417225, 0.00511730695143342, 0.017029935494065285, 0.9235830903053284]], [[0.04576614126563072, 0.14655336737632751, 0.17701685428619385, 0.023637505248188972, 0.05748157948255539, 0.5495445728302002], [0.0036313908640295267, 0.029721951112151146, 0.41850563883781433, 0.024333074688911438, 0.03672049194574356, 0.4870874881744385], [0.005341219250112772, 0.03396587446331978, 0.063938669860363, 0.09248147904872894, 0.10670800507068634, 0.6975647211074829], [0.0032220983412116766, 0.04627398028969765, 0.04008021205663681, 0.02865614742040634, 0.40258148312568665, 0.4791860580444336], [0.0040690409950912, 0.03679070994257927, 0.015450253151357174, 0.003245722269639373, 0.025154417380690575, 0.9152898788452148], [0.008686491288244724, 0.0276731438934803, 0.019926099106669426, 0.005929112434387207, 0.024158811196684837, 0.9136263132095337]], [[0.0047539458610117435, 0.008350249379873276, 0.004806092940270901, 0.009407317265868187, 0.012797427363693714, 0.9598849415779114], [0.07905469089746475, 0.03641226515173912, 0.01740991324186325, 0.0045763300731778145, 0.010195521637797356, 0.8523513078689575], [0.012940607033669949, 0.22551286220550537, 0.04038851708173752, 0.006673913449048996, 0.0038470474537461996, 0.710637092590332], [0.011650528758764267, 0.10579199343919754, 0.053020723164081573, 0.004498861730098724, 0.010222828015685081, 0.8148150444030762], [0.007633711211383343, 0.048372894525527954, 0.045339103788137436, 0.025357749313116074, 0.014147529378533363, 0.8591489791870117], [0.008498300798237324, 0.016277065500617027, 0.011385677382349968, 0.012717628851532936, 0.009800850413739681, 0.941320538520813]], [[0.11971420794725418, 0.06495005637407303, 0.11051221191883087, 0.0689040794968605, 0.07943427562713623, 0.5564851760864258], [0.044007807970047, 0.009992825798690319, 0.043907154351472855, 0.1138690859079361, 0.06085272133350372, 0.7273705005645752], [0.01880195550620556, 0.010252733714878559, 0.031802739948034286, 0.07556141912937164, 0.029049929231405258, 0.8345312476158142], [0.017753224819898605, 0.040287576615810394, 0.03694325312972069, 0.06209350377321243, 0.030027681961655617, 0.8128947615623474], [0.010166783817112446, 0.012767591513693333, 0.013009827584028244, 0.007846079766750336, 0.01261269673705101, 0.9435970783233643], [0.008100197650492191, 0.022869490087032318, 0.013267927803099155, 0.007569583598524332, 0.01353992149233818, 0.9346529245376587]], [[0.016365963965654373, 0.01814613677561283, 0.039050739258527756, 0.033765796571969986, 0.056591495871543884, 0.8360798358917236], [0.07740366458892822, 0.04031458869576454, 0.17158864438533783, 0.0864214077591896, 0.2883596122264862, 0.33591216802597046], [0.034790363162755966, 0.017490798607468605, 0.09613259881734848, 0.10262304544448853, 0.4014928936958313, 0.34747031331062317], [0.061324890702962875, 0.030010737478733063, 0.06653069704771042, 0.10296137630939484, 0.22711877524852753, 0.5120535492897034], [0.053851012140512466, 0.018360907211899757, 0.05095197260379791, 0.039224013686180115, 0.05398634821176529, 0.7836256623268127], [0.013727436773478985, 0.005607137456536293, 0.0052671292796730995, 0.0034134546294808388, 0.00856440607458353, 0.9634204506874084]], [[0.027319151908159256, 0.02480415441095829, 0.05713195726275444, 0.04029346629977226, 0.10282278805971146, 0.7476284503936768], [0.09072677791118622, 0.05400365963578224, 0.11087534576654434, 0.21849150955677032, 0.31213057041168213, 0.2137720286846161], [0.1454930603504181, 0.03444962948560715, 0.02816011942923069, 0.08146919310092926, 0.23448719084262848, 0.47594085335731506], [0.11215879768133163, 0.042393527925014496, 0.03589509427547455, 0.0438913069665432, 0.1479814201593399, 0.6176798343658447], [0.044327083975076675, 0.05365966632962227, 0.05093405023217201, 0.038888119161129, 0.0612589456140995, 0.7509322166442871], [0.014174029231071472, 0.01271087396889925, 0.010354243218898773, 0.006303754169493914, 0.017963752150535583, 0.9384933114051819]], [[0.006550706923007965, 0.025048527866601944, 0.011231751181185246, 0.019613265991210938, 0.11809349060058594, 0.819462239742279], [0.007185125723481178, 0.020013509318232536, 0.023674869909882545, 0.04006139934062958, 0.35850009322166443, 0.5505650043487549], [0.005593093112111092, 0.12402869760990143, 0.051391635090112686, 0.020896855741739273, 0.15571793913841248, 0.6423717737197876], [0.0071617006324231625, 0.29116231203079224, 0.10580794513225555, 0.027855586260557175, 0.20283454656600952, 0.3651779294013977], [0.008436640724539757, 0.29062408208847046, 0.16198180615901947, 0.018161959946155548, 0.060597773641347885, 0.4601977467536926], [0.002930506831035018, 0.013688599690794945, 0.0076781404204666615, 0.005349238868802786, 0.02569282054901123, 0.9446607232093811]], [[0.015687614679336548, 0.0022369467187672853, 0.002837895415723324, 0.0015723119722679257, 0.012695243582129478, 0.964970052242279], [0.059156157076358795, 0.01523548923432827, 0.02159232459962368, 0.013967105187475681, 0.041118647903203964, 0.848930299282074], [0.06411686539649963, 0.019037244841456413, 0.015553787350654602, 0.010647092014551163, 0.022246990352869034, 0.8683980703353882], [0.1397342085838318, 0.06710319221019745, 0.0827438160777092, 0.01830412819981575, 0.016877202317118645, 0.6752374768257141], [0.07403564453125, 0.043606266379356384, 0.05472806096076965, 0.04168207198381424, 0.04725046828389168, 0.7386974692344666], [0.010423533618450165, 0.012304351665079594, 0.0070054177194833755, 0.006200844421982765, 0.02113695628941059, 0.9429288506507874]]], [[[0.021503044292330742, 0.13968466222286224, 0.09889070689678192, 0.0434303879737854, 0.09067895263433456, 0.6058122515678406], [0.007518355268985033, 0.11206372082233429, 0.02794993296265602, 0.019011463969945908, 0.18045111000537872, 0.6530054807662964], [0.009395386092364788, 0.05212831497192383, 0.13667717576026917, 0.04380308464169502, 0.11932215839624405, 0.6386739611625671], [0.006150690373033285, 0.029163340106606483, 0.042413726449012756, 0.0630882978439331, 0.406795471906662, 0.4523884952068329], [0.00948483869433403, 0.0164377111941576, 0.0060683805495500565, 0.002472012070938945, 0.3978216350078583, 0.5677154064178467], [0.0015810435870662332, 0.030819052830338478, 0.012080083601176739, 0.010872060433030128, 0.08442146331071854, 0.8602263331413269]], [[0.026581676676869392, 0.03934292867779732, 0.019133172929286957, 0.020302703604102135, 0.05022665485739708, 0.8444128036499023], [0.10879549384117126, 0.02340695820748806, 0.008998706005513668, 0.01148358453065157, 0.0551556721329689, 0.7921595573425293], [0.10817261040210724, 0.05964454263448715, 0.018607188016176224, 0.0400257371366024, 0.19679664075374603, 0.5767531991004944], [0.19384483993053436, 0.05180496349930763, 0.02141650952398777, 0.03356262296438217, 0.15769854187965393, 0.5416725277900696], [0.07146347314119339, 0.0513855405151844, 0.020785093307495117, 0.011414609849452972, 0.006344084162265062, 0.8386071920394897], [0.09514044970273972, 0.03906887024641037, 0.01967032253742218, 0.014740809798240662, 0.0567467138171196, 0.7746328711509705]], [[0.003974455408751965, 0.0057007428258657455, 0.011850598268210888, 0.004313117824494839, 0.005881888791918755, 0.9682791233062744], [0.00842127576470375, 0.024005359038710594, 0.07877013087272644, 0.031473562121391296, 0.09245167672634125, 0.76487797498703], [0.02778697945177555, 0.02269352413713932, 0.029158221557736397, 0.019230663776397705, 0.09667963534593582, 0.8044509887695312], [0.05375215783715248, 0.06543823331594467, 0.13329151272773743, 0.04952666908502579, 0.12452235817909241, 0.5734691023826599], [0.025305598974227905, 0.01520492136478424, 0.04521634429693222, 0.03139279782772064, 0.04224889352917671, 0.8406314253807068], [0.011983961798250675, 0.034163445234298706, 0.08280407637357712, 0.031032035127282143, 0.10820816457271576, 0.7318083643913269]], [[0.018505802378058434, 0.0510290265083313, 0.06243877485394478, 0.08632738888263702, 0.03213680908083916, 0.7495622038841248], [0.08322341740131378, 0.05911586806178093, 0.09512006491422653, 0.017439136281609535, 0.016823016107082367, 0.7282785773277283], [0.08486280590295792, 0.09932401776313782, 0.03950412571430206, 0.009572925977408886, 0.011734012514352798, 0.7550021409988403], [0.10365995019674301, 0.07257962971925735, 0.07850322872400284, 0.01579507254064083, 0.04204026237130165, 0.6874218583106995], [0.11639008671045303, 0.15381582081317902, 0.10002326220273972, 0.17735148966312408, 0.06653410196304321, 0.38588523864746094], [0.1413254588842392, 0.08836501091718674, 0.06696063280105591, 0.04360754415392876, 0.05429784208536148, 0.60544353723526]], [[0.1733253449201584, 0.019059674814343452, 0.011441831476986408, 0.010601398535072803, 0.047952357679605484, 0.7376194596290588], [0.16129423677921295, 0.15156590938568115, 0.059244535863399506, 0.03917047008872032, 0.08103212714195251, 0.5076927542686462], [0.14985179901123047, 0.15756815671920776, 0.023493876680731773, 0.018988031893968582, 0.1392236053943634, 0.5108744502067566], [0.022310905158519745, 0.11775415390729904, 0.02926679141819477, 0.02365531027317047, 0.12352339178323746, 0.6834894418716431], [0.006052594631910324, 0.02704155445098877, 0.01706792786717415, 0.02162366732954979, 0.028209827840328217, 0.9000043869018555], [0.04577699676156044, 0.04360144957900047, 0.029712006449699402, 0.01475752517580986, 0.10765250772237778, 0.7584995031356812]], [[0.022917669266462326, 0.03795410692691803, 0.018744349479675293, 0.02665276825428009, 0.02560642920434475, 0.8681246638298035], [0.008512445725500584, 0.09030859917402267, 0.15475820004940033, 0.09121343493461609, 0.38222041726112366, 0.2729869782924652], [0.012594296596944332, 0.08296899497509003, 0.10391706228256226, 0.050549112260341644, 0.3046366274356842, 0.44533392786979675], [0.0054472885094583035, 0.1605672538280487, 0.13695202767848969, 0.05711919814348221, 0.33295369148254395, 0.3069605231285095], [0.005243627354502678, 0.061990056186914444, 0.04945133998990059, 0.02711348794400692, 0.1696195751428604, 0.6865819096565247], [0.017606301233172417, 0.16368882358074188, 0.16546902060508728, 0.09205689281225204, 0.2235141396522522, 0.33766481280326843]], [[0.05505099520087242, 0.04006415605545044, 0.04291203245520592, 0.018326975405216217, 0.17462757229804993, 0.6690182685852051], [0.45792078971862793, 0.1338338851928711, 0.05810057744383812, 0.020632529631257057, 0.013235487043857574, 0.31627675890922546], [0.2235751897096634, 0.02330007776618004, 0.3124053180217743, 0.030085774138569832, 0.01797628588974476, 0.3926573097705841], [0.2809370160102844, 0.020064204931259155, 0.01655837707221508, 0.22757567465305328, 0.015712615102529526, 0.4391520917415619], [0.08829734474420547, 0.013570587150752544, 0.014613128267228603, 0.04196007177233696, 0.3037535548210144, 0.5378053188323975], [0.05966908857226372, 0.028858188539743423, 0.023872502148151398, 0.017418479546904564, 0.03952832520008087, 0.8306534290313721]], [[0.01669302023947239, 0.04640078544616699, 0.021037282422184944, 0.028121352195739746, 0.07538191229104996, 0.8123656511306763], [0.003708513453602791, 0.032074254006147385, 0.0808626115322113, 0.02795015461742878, 0.29954612255096436, 0.5558583736419678], [0.0049180095084011555, 0.05660543218255043, 0.038736145943403244, 0.016840219497680664, 0.27851903438568115, 0.6043812036514282], [0.0033715323079377413, 0.05099645256996155, 0.030912436544895172, 0.018053222447633743, 0.47559836506843567, 0.4210679829120636], [0.002155342837795615, 0.021970119327306747, 0.013954386115074158, 0.0066538406535983086, 0.20214861631393433, 0.7531177401542664], [0.004046889021992683, 0.019322140142321587, 0.02218838408589363, 0.013277711346745491, 0.11738835275173187, 0.8237764835357666]], [[0.06875170022249222, 0.19337685406208038, 0.19082754850387573, 0.13191907107830048, 0.17572586238384247, 0.23939894139766693], [0.08948063105344772, 0.322975754737854, 0.23592336475849152, 0.059458911418914795, 0.025147942826151848, 0.26701343059539795], [0.03260698541998863, 0.07372584193944931, 0.5949121713638306, 0.046336375176906586, 0.007633976638317108, 0.24478457868099213], [0.041731078177690506, 0.1257115751504898, 0.28640687465667725, 0.17927713692188263, 0.057788800448179245, 0.30908453464508057], [0.10930880159139633, 0.019973263144493103, 0.038978561758995056, 0.020449800416827202, 0.23475711047649384, 0.5765324234962463], [0.1828160136938095, 0.13081172108650208, 0.12814265489578247, 0.11945261806249619, 0.09218145906925201, 0.34659555554389954]], [[0.04557975009083748, 0.021538205444812775, 0.018678076565265656, 0.015699520707130432, 0.0648539662361145, 0.8336504697799683], [0.0831240639090538, 0.07348252087831497, 0.03301898017525673, 0.0429447777569294, 0.046742700040340424, 0.7206869721412659], [0.022204434499144554, 0.3373812437057495, 0.03346696123480797, 0.02510780468583107, 0.03739745542407036, 0.5444421172142029], [0.03406035527586937, 0.11077495664358139, 0.06589867919683456, 0.024007674306631088, 0.017484724521636963, 0.7477735877037048], [0.03885665535926819, 0.06817438453435898, 0.028705665841698647, 0.14321433007717133, 0.09690915793180466, 0.6241397857666016], [0.05020929127931595, 0.09823188930749893, 0.04419304430484772, 0.017084650695323944, 0.0449407733976841, 0.7453403472900391]], [[0.030328432098031044, 0.02050730027258396, 0.02506142668426037, 0.019202781841158867, 0.020305287092924118, 0.8845947980880737], [0.2879427373409271, 0.06786705553531647, 0.08809296786785126, 0.12676507234573364, 0.10994516313076019, 0.31938695907592773], [0.18200084567070007, 0.03685391694307327, 0.03164460137486458, 0.04351608455181122, 0.12790201604366302, 0.5780825018882751], [0.19286292791366577, 0.05354810878634453, 0.08530806005001068, 0.05737227946519852, 0.22569024562835693, 0.38521838188171387], [0.03407637029886246, 0.005092600826174021, 0.006418322678655386, 0.001578548806719482, 0.010509146377444267, 0.9423249959945679], [0.06143982335925102, 0.06347852945327759, 0.10524377226829529, 0.02539900876581669, 0.12412089109420776, 0.6203179955482483]], [[0.17534750699996948, 0.08168625831604004, 0.05784200504422188, 0.09607189893722534, 0.07069922983646393, 0.5183531045913696], [0.10672997683286667, 0.03283414989709854, 0.06134139373898506, 0.08450601249933243, 0.09584085643291473, 0.6187475919723511], [0.08603488653898239, 0.03577740117907524, 0.007845542393624783, 0.03563515096902847, 0.10941585153341293, 0.7252910733222961], [0.1429908126592636, 0.1406654566526413, 0.04809463396668434, 0.03249431774020195, 0.1262035220861435, 0.5095512866973877], [0.05336983874440193, 0.03751137852668762, 0.05199652537703514, 0.0364110954105854, 0.011858037672936916, 0.8088531494140625], [0.25302332639694214, 0.11516053974628448, 0.13039548695087433, 0.1061391532421112, 0.18608124554157257, 0.20920023322105408]]], [[[0.06716915965080261, 0.2638779282569885, 0.20475618541240692, 0.20615622401237488, 0.0562104806303978, 0.2018299698829651], [0.10161319375038147, 0.3634905219078064, 0.13320019841194153, 0.04822031781077385, 0.03290996327996254, 0.3205658197402954], [0.11691945046186447, 0.26142725348472595, 0.12101839482784271, 0.028802620247006416, 0.04511578381061554, 0.4267165958881378], [0.09592661261558533, 0.20645220577716827, 0.1313893049955368, 0.08626361191272736, 0.052772920578718185, 0.42719537019729614], [0.035774316638708115, 0.046654023230075836, 0.043621353805065155, 0.03472491353750229, 0.09868253022432327, 0.7405428290367126], [0.02032330259680748, 0.021220561116933823, 0.022967828437685966, 0.029307352378964424, 0.08585656434297562, 0.8203244209289551]], [[0.012982173822820187, 0.05229869484901428, 0.03621862083673477, 0.03255583718419075, 0.04364078491926193, 0.8223038911819458], [0.001251781708560884, 0.004526912700384855, 0.002404620870947838, 0.0005474606296047568, 0.0266056377440691, 0.964663565158844], [0.0013556942576542497, 0.002557366853579879, 0.018911294639110565, 0.0011016781209036708, 0.02832125686109066, 0.9477526545524597], [0.0003732412005774677, 0.0009274830808863044, 0.00331137771718204, 0.0009534897981211543, 0.05381646379828453, 0.9406179785728455], [0.0008679030579514802, 0.0010445085354149342, 0.0012489892542362213, 0.000283221947029233, 0.21681572496891022, 0.7797396779060364], [0.0022971946746110916, 0.0015156440204009414, 0.0013432177947834134, 0.0004221147974021733, 0.009339442476630211, 0.9850823879241943]], [[0.023852646350860596, 0.05666027218103409, 0.061164531856775284, 0.030545363202691078, 0.12845541536808014, 0.6993217468261719], [0.04618213325738907, 0.04375914856791496, 0.024589816108345985, 0.008615351282060146, 0.015028671361505985, 0.8618249297142029], [0.02670053206384182, 0.008500024676322937, 0.007704729679971933, 0.0017611653311178088, 0.007691617589443922, 0.9476419687271118], [0.06617327779531479, 0.03596861660480499, 0.04250078275799751, 0.014802977442741394, 0.04310649260878563, 0.797447919845581], [0.14217127859592438, 0.057157471776008606, 0.05186386778950691, 0.04774032533168793, 0.1052156388759613, 0.595851480960846], [0.033265333622694016, 0.05688207969069481, 0.020650621503591537, 0.014729968272149563, 0.037816740572452545, 0.8366551995277405]], [[0.06823001801967621, 0.015494267456233501, 0.005358763970434666, 0.022557033225893974, 0.14563380181789398, 0.7427260279655457], [0.03267231956124306, 0.005673873703926802, 0.00095021678134799, 0.0067895143292844296, 0.054128263145685196, 0.8997858166694641], [0.018342891708016396, 0.0014703053748235106, 8.438531949650496e-05, 0.002800661139190197, 0.029675887897610664, 0.9476258754730225], [0.06844969838857651, 0.0081042954698205, 0.0018026153557002544, 0.004673996940255165, 0.03080887906253338, 0.8861604928970337], [0.053658612072467804, 0.035233478993177414, 0.010470452718436718, 0.01168788317590952, 0.012091144919395447, 0.8768584132194519], [0.20002304017543793, 0.10753030329942703, 0.13147743046283722, 0.12065576761960983, 0.26617631316185, 0.1741371601819992]], [[0.04984885826706886, 0.3514614403247833, 0.10458461940288544, 0.12483656406402588, 0.2341858148574829, 0.13508270680904388], [0.1507350504398346, 0.009139154106378555, 0.007573120761662722, 0.005284533835947514, 0.06658295542001724, 0.7606852054595947], [0.06517777591943741, 0.012912428006529808, 0.007831552065908909, 0.003754514269530773, 0.02942398376762867, 0.8808997273445129], [0.3139500319957733, 0.07469528168439865, 0.04303567111492157, 0.016092682257294655, 0.09534655511379242, 0.4568798243999481], [0.18928803503513336, 0.09309457242488861, 0.05275406688451767, 0.04727758467197418, 0.06249382719397545, 0.5550918579101562], [0.005429810844361782, 0.0039918916299939156, 0.004714710637927055, 0.0021609277464449406, 0.019769510254263878, 0.9639331698417664]], [[0.02618306130170822, 0.10442467778921127, 0.0551103912293911, 0.031983382999897, 0.07360637933015823, 0.7086920738220215], [0.00206507439725101, 0.02511647529900074, 0.019934674724936485, 0.0024527504574507475, 0.02361413836479187, 0.9268169403076172], [0.0011845927219837904, 0.014352168887853622, 0.18344655632972717, 0.004508362617343664, 0.018902525305747986, 0.7776058316230774], [0.0019461398478597403, 0.01872314140200615, 0.03672458976507187, 0.03392578288912773, 0.08586522936820984, 0.8228150606155396], [0.0007333946996368468, 0.0073422328568995, 0.005887871608138084, 0.00789684895426035, 0.09624950587749481, 0.8818901777267456], [0.0013888099929317832, 0.01147073321044445, 0.007068298757076263, 0.0036685187369585037, 0.02620655484497547, 0.9501971006393433]], [[0.036754876375198364, 0.4178955554962158, 0.20193511247634888, 0.046172790229320526, 0.08271834999322891, 0.21452340483665466], [0.1477518081665039, 0.20245391130447388, 0.03905562311410904, 0.004952539689838886, 0.19651928544044495, 0.4092668294906616], [0.11568289250135422, 0.0540589839220047, 0.014398111961781979, 0.002105776686221361, 0.4286564588546753, 0.38509780168533325], [0.07938279211521149, 0.037358980625867844, 0.007505773101001978, 0.002407481661066413, 0.6151045560836792, 0.25824040174484253], [0.012313016690313816, 0.01572929322719574, 0.0035914576146751642, 0.0020607165060937405, 0.3414360284805298, 0.6248694658279419], [0.009443417191505432, 0.017272289842367172, 0.00414628628641367, 0.001635075081139803, 0.02797146886587143, 0.9395313858985901]], [[0.019466372206807137, 0.17509105801582336, 0.20629173517227173, 0.06009515002369881, 0.07504188269376755, 0.46401387453079224], [0.02308851294219494, 0.03724920377135277, 0.011302086524665356, 0.016969095915555954, 0.048907794058322906, 0.8624832630157471], [0.03575209155678749, 0.021702922880649567, 0.0023676834534853697, 0.009542684070765972, 0.065645731985569, 0.8649888038635254], [0.034900516271591187, 0.08232384920120239, 0.021587390452623367, 0.035602640360593796, 0.10322711616754532, 0.7223585247993469], [0.017296748235821724, 0.07881537824869156, 0.03707657381892204, 0.014402909204363823, 0.016009017825126648, 0.8363993763923645], [0.006821999792009592, 0.011888115666806698, 0.01919146440923214, 0.009975021705031395, 0.029401713982224464, 0.9227217435836792]], [[0.0029159451369196177, 0.18052396178245544, 0.059231702238321304, 0.02389609068632126, 0.049665290862321854, 0.6837670207023621], [0.011311705224215984, 0.12856920063495636, 0.10009671002626419, 0.014572490938007832, 0.0931168645620346, 0.6523329615592957], [0.015040804632008076, 0.12101233005523682, 0.18763038516044617, 0.0271330326795578, 0.03389715775847435, 0.6152862906455994], [0.01568908616900444, 0.07284212857484818, 0.048056066036224365, 0.04445948451757431, 0.3856196105480194, 0.43333354592323303], [0.006811230443418026, 0.018544556573033333, 0.004779118113219738, 0.016156041994690895, 0.10570785403251648, 0.84800124168396], [0.052156273275613785, 0.06191311404109001, 0.03649057075381279, 0.0334535576403141, 0.04992350935935974, 0.7660629153251648]], [[0.012963248416781425, 0.032113075256347656, 0.005861847195774317, 0.006471405271440744, 0.04876276105642319, 0.8938276171684265], [0.0007900833152234554, 0.06370674818754196, 0.014787521213293076, 0.00127198058180511, 0.017017357051372528, 0.9024262428283691], [0.0007130141602829099, 0.018291715532541275, 0.33573004603385925, 0.0020419296342879534, 0.01038991380482912, 0.6328333616256714], [0.0010716698598116636, 0.01693451963365078, 0.05914182960987091, 0.03482924401760101, 0.0283533725887537, 0.8596693277359009], [0.0008431964670307934, 0.004581313580274582, 0.0060102930292487144, 0.0013242678251117468, 0.306503027677536, 0.6807379126548767], [0.00030873657669872046, 0.0019009982934221625, 0.0015004025772213936, 0.0005176235572434962, 0.009638017974793911, 0.9861342310905457]], [[0.027939025312662125, 0.14581945538520813, 0.32245373725891113, 0.16742470860481262, 0.12178468704223633, 0.21457840502262115], [0.20732596516609192, 0.6328468918800354, 0.12375489622354507, 0.008806769736111164, 0.022343814373016357, 0.004921727813780308], [0.1811397671699524, 0.018315721303224564, 0.7908910512924194, 0.0036582655739039183, 0.005438016261905432, 0.0005572708905674517], [0.32370099425315857, 0.02136426977813244, 0.11895569413900375, 0.14471207559108734, 0.38284024596214294, 0.008426719345152378], [0.29487550258636475, 0.010972971096634865, 0.00318220816552639, 0.004441523924469948, 0.6799094080924988, 0.006618381943553686], [0.15435409545898438, 0.1506049484014511, 0.14580108225345612, 0.11323554068803787, 0.20372849702835083, 0.23227587342262268]], [[0.05716872587800026, 0.28427809476852417, 0.1890055239200592, 0.07425593584775925, 0.14551809430122375, 0.24977365136146545], [0.0032042814418673515, 0.08629229664802551, 0.12421280145645142, 0.03623387590050697, 0.23367778956890106, 0.5163789987564087], [0.0020923251286149025, 0.06914445757865906, 0.050319604575634, 0.015123625285923481, 0.1265566349029541, 0.7367633581161499], [0.0017098101088777184, 0.18593019247055054, 0.10586697608232498, 0.016119061037898064, 0.1552148312330246, 0.535159170627594], [0.009550211019814014, 0.06989366561174393, 0.0939975306391716, 0.02987692505121231, 0.07482317835092545, 0.7218585014343262], [0.05151425302028656, 0.01366101112216711, 0.010963905602693558, 0.005106889642775059, 0.0155319320037961, 0.9032219648361206]]], [[[0.30576619505882263, 0.03442174941301346, 0.022107267752289772, 0.011056256480515003, 0.06118490919470787, 0.5654636025428772], [0.01145240105688572, 0.00642029196023941, 0.004408500622957945, 0.005538333207368851, 0.016688469797372818, 0.9554919600486755], [0.012574760243296623, 0.005841379519551992, 0.004469174891710281, 0.006533499341458082, 0.02661881223320961, 0.9439623355865479], [0.007521294988691807, 0.006967640016227961, 0.005866043269634247, 0.005406415555626154, 0.023942260071635246, 0.9502963423728943], [0.040253203362226486, 0.009164290502667427, 0.012200084514915943, 0.012599950656294823, 0.07242181152105331, 0.853360652923584], [0.007858474738895893, 0.0039686704985797405, 0.0043510259129107, 0.005508251488208771, 0.01445839274674654, 0.9638552069664001]], [[0.29467156529426575, 0.06758234649896622, 0.07233484089374542, 0.0834122970700264, 0.1471320539712906, 0.3348669111728668], [0.0322888009250164, 0.017160246148705482, 0.02707306295633316, 0.024566225707530975, 0.041743118315935135, 0.8571685552597046], [0.01979769766330719, 0.026913858950138092, 0.018056074157357216, 0.016405891627073288, 0.04825448989868164, 0.8705719709396362], [0.026916947215795517, 0.06978195905685425, 0.02998216263949871, 0.01822870969772339, 0.06225794181227684, 0.7928323149681091], [0.06664711982011795, 0.06297966837882996, 0.0826922059059143, 0.05769418552517891, 0.0468825101852417, 0.6831042766571045], [0.007588761392980814, 0.010910015553236008, 0.01074092648923397, 0.013607132248580456, 0.020119279623031616, 0.9370338320732117]], [[0.1535772681236267, 0.23757191002368927, 0.14600495994091034, 0.2335457056760788, 0.1096583679318428, 0.11964179575443268], [0.09138770401477814, 0.21630381047725677, 0.1329008936882019, 0.08381806313991547, 0.04878947138786316, 0.42680004239082336], [0.03727557137608528, 0.1050577163696289, 0.1182081401348114, 0.19068755209445953, 0.07363622635602951, 0.4751347601413727], [0.05379674583673477, 0.11513891816139221, 0.14684678614139557, 0.3831634521484375, 0.10368549078702927, 0.19736863672733307], [0.018295811489224434, 0.0683719590306282, 0.06225839629769325, 0.06804991513490677, 0.11293769627809525, 0.6700862050056458], [0.01657085306942463, 0.011207273229956627, 0.014496976509690285, 0.019350148737430573, 0.025169407948851585, 0.9132053256034851]], [[0.11692624539136887, 0.23789629340171814, 0.1841161996126175, 0.14655530452728271, 0.18226882815361023, 0.13223712146282196], [0.037162136286497116, 0.038867704570293427, 0.03992475941777229, 0.028914527967572212, 0.032782815396785736, 0.8223480582237244], [0.018574120476841927, 0.019456375390291214, 0.01551771815866232, 0.015626151114702225, 0.017394965514540672, 0.9134306311607361], [0.09507158398628235, 0.0775921642780304, 0.028353283181786537, 0.06337755918502808, 0.03784910961985588, 0.6977563500404358], [0.019995562732219696, 0.016621047630906105, 0.012201367877423763, 0.01676667295396328, 0.0563749223947525, 0.8780403733253479], [0.009185666218400002, 0.004588573705404997, 0.003422168083488941, 0.003896658541634679, 0.009819624945521355, 0.9690873622894287]], [[0.06368224322795868, 0.15935568511486053, 0.2347663938999176, 0.09968412667512894, 0.345360666513443, 0.09715086221694946], [0.10318095237016678, 0.04724546894431114, 0.11317253112792969, 0.04382287710905075, 0.07373234629631042, 0.6188458800315857], [0.06502991169691086, 0.023481514304876328, 0.06938204169273376, 0.040612027049064636, 0.060109347105026245, 0.7413851022720337], [0.038047004491090775, 0.029097653925418854, 0.10899185389280319, 0.09143568575382233, 0.12637969851493835, 0.6060481071472168], [0.16112302243709564, 0.06488633900880814, 0.11166214942932129, 0.1065555140376091, 0.148333340883255, 0.407439649105072], [0.013940117321908474, 0.0030066019389778376, 0.00509636802598834, 0.005184988956898451, 0.005533582530915737, 0.9672383666038513]], [[0.022599495947360992, 0.0565221793949604, 0.12665848433971405, 0.04964302480220795, 0.6259134411811829, 0.11866339296102524], [0.029955223202705383, 0.08716467767953873, 0.04320017248392105, 0.05539735406637192, 0.15479277074337006, 0.6294897198677063], [0.03594690188765526, 0.05587714910507202, 0.09871700406074524, 0.04384496808052063, 0.2033909410238266, 0.5622230768203735], [0.03225090727210045, 0.06085106357932091, 0.04966490715742111, 0.07475191354751587, 0.17249733209609985, 0.6099838614463806], [0.05429264158010483, 0.08252855390310287, 0.06358525156974792, 0.05734884738922119, 0.25487613677978516, 0.4873686134815216], [0.008979124017059803, 0.009622552432119846, 0.009043327532708645, 0.012588880956172943, 0.023432064801454544, 0.9363340139389038]], [[0.46005237102508545, 0.04378949850797653, 0.03810499608516693, 0.17337153851985931, 0.0999641865491867, 0.18471741676330566], [0.05008592829108238, 0.01479093823581934, 0.008382510393857956, 0.03126927465200424, 0.062446478754282, 0.8330248594284058], [0.061282679438591, 0.01720036007463932, 0.024073105305433273, 0.04455491900444031, 0.09165532886981964, 0.7612336277961731], [0.07343683391809464, 0.03407315909862518, 0.02731546387076378, 0.05268174409866333, 0.08679458498954773, 0.7256981730461121], [0.10879221558570862, 0.02691713720560074, 0.022140711545944214, 0.050713565200567245, 0.18652431666851044, 0.6049121022224426], [0.013322633691132069, 0.008824886754155159, 0.007900761440396309, 0.006500528659671545, 0.02253561094403267, 0.940915584564209]], [[0.14997439086437225, 0.024954697117209435, 0.05061192438006401, 0.04527701437473297, 0.1995002180337906, 0.5296818017959595], [0.008342706598341465, 0.005347801838070154, 0.004883927293121815, 0.015003860928118229, 0.03080270066857338, 0.9356189370155334], [0.00805467739701271, 0.0033916113898158073, 0.0037367797922343016, 0.01074894517660141, 0.035080570727586746, 0.9389874935150146], [0.014553462155163288, 0.005439603701233864, 0.005412999074906111, 0.009750613011419773, 0.034570008516311646, 0.9302733540534973], [0.018256647512316704, 0.0067263212986290455, 0.014273497276008129, 0.013756384141743183, 0.055591337382793427, 0.8913958668708801], [0.001974139828234911, 0.0014610341750085354, 0.0023998129181563854, 0.003166389651596546, 0.012880462221801281, 0.9781181216239929]], [[0.33095964789390564, 0.2549239695072174, 0.10818628966808319, 0.13849115371704102, 0.10478905588388443, 0.06264988332986832], [0.091312475502491, 0.24384155869483948, 0.11459366977214813, 0.14917081594467163, 0.11816272139549255, 0.2829187512397766], [0.025989612564444542, 0.05874207988381386, 0.6381703615188599, 0.14640195667743683, 0.06666076928377151, 0.06403519958257675], [0.032053373754024506, 0.05766594037413597, 0.20456871390342712, 0.5394524931907654, 0.06979003548622131, 0.0964694619178772], [0.05048932507634163, 0.028531474992632866, 0.027848830446600914, 0.05385325103998184, 0.42544302344322205, 0.4138340950012207], [0.003503719810396433, 0.004282738547772169, 0.005651560612022877, 0.00544359628111124, 0.03476119413971901, 0.946357250213623]], [[0.32969385385513306, 0.17212440073490143, 0.15727168321609497, 0.17673224210739136, 0.11013655364513397, 0.05404121056199074], [0.2227720022201538, 0.18143635988235474, 0.13166095316410065, 0.10340864956378937, 0.053995080292224884, 0.30672696232795715], [0.1694609820842743, 0.07653765380382538, 0.19812631607055664, 0.12017007917165756, 0.028312431648373604, 0.40739256143569946], [0.16033533215522766, 0.10264700651168823, 0.15937139093875885, 0.28954368829727173, 0.05529081076383591, 0.2328118234872818], [0.09557873010635376, 0.11162537336349487, 0.06713222712278366, 0.11270663887262344, 0.12766258418560028, 0.4852944016456604], [0.02880564145743847, 0.010325445793569088, 0.007921446114778519, 0.005110695958137512, 0.02283363603055477, 0.9250031113624573]], [[0.010401937179267406, 0.07955038547515869, 0.05759016424417496, 0.025851480662822723, 0.2997148633003235, 0.5268911123275757], [0.007939077913761139, 0.016811160370707512, 0.014284768141806126, 0.0180568415671587, 0.02710793912410736, 0.9158002138137817], [0.01743970438838005, 0.0332145020365715, 0.03165384754538536, 0.038918230682611465, 0.06464741379022598, 0.8141262531280518], [0.017095908522605896, 0.04291367158293724, 0.025544192641973495, 0.04737255722284317, 0.04574716463685036, 0.821326494216919], [0.008764049969613552, 0.019423851743340492, 0.009003438986837864, 0.023161200806498528, 0.024385759606957436, 0.9152617454528809], [0.005527994129806757, 0.006022431887686253, 0.00644872197881341, 0.0063270991668105125, 0.009338116273283958, 0.966335654258728]], [[0.006764589808881283, 0.03822983056306839, 0.025182992219924927, 0.023844165727496147, 0.17430447041988373, 0.7316739559173584], [0.003999731969088316, 0.008255476132035255, 0.006383250467479229, 0.019108213484287262, 0.05004269629716873, 0.9122106432914734], [0.008084584958851337, 0.01633468270301819, 0.011483638547360897, 0.015964403748512268, 0.07774516940116882, 0.8703875541687012], [0.01017439179122448, 0.01969909854233265, 0.016556626185774803, 0.03316885232925415, 0.0568992979824543, 0.863501787185669], [0.03169040381908417, 0.03988899663090706, 0.06010470911860466, 0.108330637216568, 0.10524917393922806, 0.6547360420227051], [0.0022610581945627928, 0.004212193191051483, 0.005890141241252422, 0.007267512381076813, 0.02657780982553959, 0.9537913203239441]]]], \"left_text\": [\"[CLS]\", \"i\", \"am\", \"a\", \"dog\", \"[SEP]\"], \"right_text\": [\"[CLS]\", \"i\", \"am\", \"a\", \"dog\", \"[SEP]\"]}], \"default_filter\": \"0\", \"root_div_id\": \"bertviz-36c36e550ff14528bcd4eb4ef9eec64e\", \"layer\": 2, \"heads\": [0], \"include_layers\": [0, 1, 2, 3, 4, 5, 6, 7, 8, 9, 10, 11]} is a template marker that is replaced by actual params.\n",
              "    const TEXT_SIZE = 15;\n",
              "    const BOXWIDTH = 110;\n",
              "    const BOXHEIGHT = 22.5;\n",
              "    const MATRIX_WIDTH = 115;\n",
              "    const CHECKBOX_SIZE = 20;\n",
              "    const TEXT_TOP = 30;\n",
              "\n",
              "    console.log(\"d3 version\", d3.version)\n",
              "    let headColors;\n",
              "    try {\n",
              "        headColors = d3.scaleOrdinal(d3.schemeCategory10);\n",
              "    } catch (err) {\n",
              "        console.log('Older d3 version')\n",
              "        headColors = d3.scale.category10();\n",
              "    }\n",
              "    let config = {};\n",
              "    initialize();\n",
              "    renderVis();\n",
              "\n",
              "    function initialize() {\n",
              "        config.attention = params['attention'];\n",
              "        config.filter = params['default_filter'];\n",
              "        config.rootDivId = params['root_div_id'];\n",
              "        config.nLayers = config.attention[config.filter]['attn'].length;\n",
              "        config.nHeads = config.attention[config.filter]['attn'][0].length;\n",
              "        config.layers = params['include_layers']\n",
              "\n",
              "        if (params['heads']) {\n",
              "            config.headVis = new Array(config.nHeads).fill(false);\n",
              "            params['heads'].forEach(x => config.headVis[x] = true);\n",
              "        } else {\n",
              "            config.headVis = new Array(config.nHeads).fill(true);\n",
              "        }\n",
              "        config.initialTextLength = config.attention[config.filter].right_text.length;\n",
              "        config.layer_seq = (params['layer'] == null ? 0 : config.layers.findIndex(layer => params['layer'] === layer));\n",
              "        config.layer = config.layers[config.layer_seq]\n",
              "\n",
              "        let layerEl = $(`#${config.rootDivId} #layer`);\n",
              "        for (const layer of config.layers) {\n",
              "            layerEl.append($(\"<option />\").val(layer).text(layer));\n",
              "        }\n",
              "        layerEl.val(config.layer).change();\n",
              "        layerEl.on('change', function (e) {\n",
              "            config.layer = +e.currentTarget.value;\n",
              "            config.layer_seq = config.layers.findIndex(layer => config.layer === layer);\n",
              "            renderVis();\n",
              "        });\n",
              "\n",
              "        $(`#${config.rootDivId} #filter`).on('change', function (e) {\n",
              "            config.filter = e.currentTarget.value;\n",
              "            renderVis();\n",
              "        });\n",
              "    }\n",
              "\n",
              "    function renderVis() {\n",
              "\n",
              "        // Load parameters\n",
              "        const attnData = config.attention[config.filter];\n",
              "        const leftText = attnData.left_text;\n",
              "        const rightText = attnData.right_text;\n",
              "\n",
              "        // Select attention for given layer\n",
              "        const layerAttention = attnData.attn[config.layer_seq];\n",
              "\n",
              "        // Clear vis\n",
              "        $(`#${config.rootDivId} #vis`).empty();\n",
              "\n",
              "        // Determine size of visualization\n",
              "        const height = Math.max(leftText.length, rightText.length) * BOXHEIGHT + TEXT_TOP;\n",
              "        const svg = d3.select(`#${config.rootDivId} #vis`)\n",
              "            .append('svg')\n",
              "            .attr(\"width\", \"100%\")\n",
              "            .attr(\"height\", height + \"px\");\n",
              "\n",
              "        // Display tokens on left and right side of visualization\n",
              "        renderText(svg, leftText, true, layerAttention, 0);\n",
              "        renderText(svg, rightText, false, layerAttention, MATRIX_WIDTH + BOXWIDTH);\n",
              "\n",
              "        // Render attention arcs\n",
              "        renderAttention(svg, layerAttention);\n",
              "\n",
              "        // Draw squares at top of visualization, one for each head\n",
              "        drawCheckboxes(0, svg, layerAttention);\n",
              "    }\n",
              "\n",
              "    function renderText(svg, text, isLeft, attention, leftPos) {\n",
              "\n",
              "        const textContainer = svg.append(\"svg:g\")\n",
              "            .attr(\"id\", isLeft ? \"left\" : \"right\");\n",
              "\n",
              "        // Add attention highlights superimposed over words\n",
              "        textContainer.append(\"g\")\n",
              "            .classed(\"attentionBoxes\", true)\n",
              "            .selectAll(\"g\")\n",
              "            .data(attention)\n",
              "            .enter()\n",
              "            .append(\"g\")\n",
              "            .attr(\"head-index\", (d, i) => i)\n",
              "            .selectAll(\"rect\")\n",
              "            .data(d => isLeft ? d : transpose(d)) // if right text, transpose attention to get right-to-left weights\n",
              "            .enter()\n",
              "            .append(\"rect\")\n",
              "            .attr(\"x\", function () {\n",
              "                var headIndex = +this.parentNode.getAttribute(\"head-index\");\n",
              "                return leftPos + boxOffsets(headIndex);\n",
              "            })\n",
              "            .attr(\"y\", (+1) * BOXHEIGHT)\n",
              "            .attr(\"width\", BOXWIDTH / activeHeads())\n",
              "            .attr(\"height\", BOXHEIGHT)\n",
              "            .attr(\"fill\", function () {\n",
              "                return headColors(+this.parentNode.getAttribute(\"head-index\"))\n",
              "            })\n",
              "            .style(\"opacity\", 0.0);\n",
              "\n",
              "        const tokenContainer = textContainer.append(\"g\").selectAll(\"g\")\n",
              "            .data(text)\n",
              "            .enter()\n",
              "            .append(\"g\");\n",
              "\n",
              "        // Add gray background that appears when hovering over text\n",
              "        tokenContainer.append(\"rect\")\n",
              "            .classed(\"background\", true)\n",
              "            .style(\"opacity\", 0.0)\n",
              "            .attr(\"fill\", \"lightgray\")\n",
              "            .attr(\"x\", leftPos)\n",
              "            .attr(\"y\", (d, i) => TEXT_TOP + i * BOXHEIGHT)\n",
              "            .attr(\"width\", BOXWIDTH)\n",
              "            .attr(\"height\", BOXHEIGHT);\n",
              "\n",
              "        // Add token text\n",
              "        const textEl = tokenContainer.append(\"text\")\n",
              "            .text(d => d)\n",
              "            .attr(\"font-size\", TEXT_SIZE + \"px\")\n",
              "            .style(\"cursor\", \"default\")\n",
              "            .style(\"-webkit-user-select\", \"none\")\n",
              "            .attr(\"x\", leftPos)\n",
              "            .attr(\"y\", (d, i) => TEXT_TOP + i * BOXHEIGHT);\n",
              "\n",
              "        if (isLeft) {\n",
              "            textEl.style(\"text-anchor\", \"end\")\n",
              "                .attr(\"dx\", BOXWIDTH - 0.5 * TEXT_SIZE)\n",
              "                .attr(\"dy\", TEXT_SIZE);\n",
              "        } else {\n",
              "            textEl.style(\"text-anchor\", \"start\")\n",
              "                .attr(\"dx\", +0.5 * TEXT_SIZE)\n",
              "                .attr(\"dy\", TEXT_SIZE);\n",
              "        }\n",
              "\n",
              "        tokenContainer.on(\"mouseover\", function (d, index) {\n",
              "\n",
              "            // Show gray background for moused-over token\n",
              "            textContainer.selectAll(\".background\")\n",
              "                .style(\"opacity\", (d, i) => i === index ? 1.0 : 0.0)\n",
              "\n",
              "            // Reset visibility attribute for any previously highlighted attention arcs\n",
              "            svg.select(\"#attention\")\n",
              "                .selectAll(\"line[visibility='visible']\")\n",
              "                .attr(\"visibility\", null)\n",
              "\n",
              "            // Hide group containing attention arcs\n",
              "            svg.select(\"#attention\").attr(\"visibility\", \"hidden\");\n",
              "\n",
              "            // Set to visible appropriate attention arcs to be highlighted\n",
              "            if (isLeft) {\n",
              "                svg.select(\"#attention\").selectAll(\"line[left-token-index='\" + index + \"']\").attr(\"visibility\", \"visible\");\n",
              "            } else {\n",
              "                svg.select(\"#attention\").selectAll(\"line[right-token-index='\" + index + \"']\").attr(\"visibility\", \"visible\");\n",
              "            }\n",
              "\n",
              "            // Update color boxes superimposed over tokens\n",
              "            const id = isLeft ? \"right\" : \"left\";\n",
              "            const leftPos = isLeft ? MATRIX_WIDTH + BOXWIDTH : 0;\n",
              "            svg.select(\"#\" + id)\n",
              "                .selectAll(\".attentionBoxes\")\n",
              "                .selectAll(\"g\")\n",
              "                .attr(\"head-index\", (d, i) => i)\n",
              "                .selectAll(\"rect\")\n",
              "                .attr(\"x\", function () {\n",
              "                    const headIndex = +this.parentNode.getAttribute(\"head-index\");\n",
              "                    return leftPos + boxOffsets(headIndex);\n",
              "                })\n",
              "                .attr(\"y\", (d, i) => TEXT_TOP + i * BOXHEIGHT)\n",
              "                .attr(\"width\", BOXWIDTH / activeHeads())\n",
              "                .attr(\"height\", BOXHEIGHT)\n",
              "                .style(\"opacity\", function (d) {\n",
              "                    const headIndex = +this.parentNode.getAttribute(\"head-index\");\n",
              "                    if (config.headVis[headIndex])\n",
              "                        if (d) {\n",
              "                            return d[index];\n",
              "                        } else {\n",
              "                            return 0.0;\n",
              "                        }\n",
              "                    else\n",
              "                        return 0.0;\n",
              "                });\n",
              "        });\n",
              "\n",
              "        textContainer.on(\"mouseleave\", function () {\n",
              "\n",
              "            // Unhighlight selected token\n",
              "            d3.select(this).selectAll(\".background\")\n",
              "                .style(\"opacity\", 0.0);\n",
              "\n",
              "            // Reset visibility attributes for previously selected lines\n",
              "            svg.select(\"#attention\")\n",
              "                .selectAll(\"line[visibility='visible']\")\n",
              "                .attr(\"visibility\", null) ;\n",
              "            svg.select(\"#attention\").attr(\"visibility\", \"visible\");\n",
              "\n",
              "            // Reset highlights superimposed over tokens\n",
              "            svg.selectAll(\".attentionBoxes\")\n",
              "                .selectAll(\"g\")\n",
              "                .selectAll(\"rect\")\n",
              "                .style(\"opacity\", 0.0);\n",
              "        });\n",
              "    }\n",
              "\n",
              "    function renderAttention(svg, attention) {\n",
              "\n",
              "        // Remove previous dom elements\n",
              "        svg.select(\"#attention\").remove();\n",
              "\n",
              "        // Add new elements\n",
              "        svg.append(\"g\")\n",
              "            .attr(\"id\", \"attention\") // Container for all attention arcs\n",
              "            .selectAll(\".headAttention\")\n",
              "            .data(attention)\n",
              "            .enter()\n",
              "            .append(\"g\")\n",
              "            .classed(\"headAttention\", true) // Group attention arcs by head\n",
              "            .attr(\"head-index\", (d, i) => i)\n",
              "            .selectAll(\".tokenAttention\")\n",
              "            .data(d => d)\n",
              "            .enter()\n",
              "            .append(\"g\")\n",
              "            .classed(\"tokenAttention\", true) // Group attention arcs by left token\n",
              "            .attr(\"left-token-index\", (d, i) => i)\n",
              "            .selectAll(\"line\")\n",
              "            .data(d => d)\n",
              "            .enter()\n",
              "            .append(\"line\")\n",
              "            .attr(\"x1\", BOXWIDTH)\n",
              "            .attr(\"y1\", function () {\n",
              "                const leftTokenIndex = +this.parentNode.getAttribute(\"left-token-index\")\n",
              "                return TEXT_TOP + leftTokenIndex * BOXHEIGHT + (BOXHEIGHT / 2)\n",
              "            })\n",
              "            .attr(\"x2\", BOXWIDTH + MATRIX_WIDTH)\n",
              "            .attr(\"y2\", (d, rightTokenIndex) => TEXT_TOP + rightTokenIndex * BOXHEIGHT + (BOXHEIGHT / 2))\n",
              "            .attr(\"stroke-width\", 2)\n",
              "            .attr(\"stroke\", function () {\n",
              "                const headIndex = +this.parentNode.parentNode.getAttribute(\"head-index\");\n",
              "                return headColors(headIndex)\n",
              "            })\n",
              "            .attr(\"left-token-index\", function () {\n",
              "                return +this.parentNode.getAttribute(\"left-token-index\")\n",
              "            })\n",
              "            .attr(\"right-token-index\", (d, i) => i)\n",
              "        ;\n",
              "        updateAttention(svg)\n",
              "    }\n",
              "\n",
              "    function updateAttention(svg) {\n",
              "        svg.select(\"#attention\")\n",
              "            .selectAll(\"line\")\n",
              "            .attr(\"stroke-opacity\", function (d) {\n",
              "                const headIndex = +this.parentNode.parentNode.getAttribute(\"head-index\");\n",
              "                // If head is selected\n",
              "                if (config.headVis[headIndex]) {\n",
              "                    // Set opacity to attention weight divided by number of active heads\n",
              "                    return d / activeHeads()\n",
              "                } else {\n",
              "                    return 0.0;\n",
              "                }\n",
              "            })\n",
              "    }\n",
              "\n",
              "    function boxOffsets(i) {\n",
              "        const numHeadsAbove = config.headVis.reduce(\n",
              "            function (acc, val, cur) {\n",
              "                return val && cur < i ? acc + 1 : acc;\n",
              "            }, 0);\n",
              "        return numHeadsAbove * (BOXWIDTH / activeHeads());\n",
              "    }\n",
              "\n",
              "    function activeHeads() {\n",
              "        return config.headVis.reduce(function (acc, val) {\n",
              "            return val ? acc + 1 : acc;\n",
              "        }, 0);\n",
              "    }\n",
              "\n",
              "    function drawCheckboxes(top, svg) {\n",
              "        const checkboxContainer = svg.append(\"g\");\n",
              "        const checkbox = checkboxContainer.selectAll(\"rect\")\n",
              "            .data(config.headVis)\n",
              "            .enter()\n",
              "            .append(\"rect\")\n",
              "            .attr(\"fill\", (d, i) => headColors(i))\n",
              "            .attr(\"x\", (d, i) => i * CHECKBOX_SIZE)\n",
              "            .attr(\"y\", top)\n",
              "            .attr(\"width\", CHECKBOX_SIZE)\n",
              "            .attr(\"height\", CHECKBOX_SIZE);\n",
              "\n",
              "        function updateCheckboxes() {\n",
              "            checkboxContainer.selectAll(\"rect\")\n",
              "                .data(config.headVis)\n",
              "                .attr(\"fill\", (d, i) => d ? headColors(i): lighten(headColors(i)));\n",
              "        }\n",
              "\n",
              "        updateCheckboxes();\n",
              "\n",
              "        checkbox.on(\"click\", function (d, i) {\n",
              "            if (config.headVis[i] && activeHeads() === 1) return;\n",
              "            config.headVis[i] = !config.headVis[i];\n",
              "            updateCheckboxes();\n",
              "            updateAttention(svg);\n",
              "        });\n",
              "\n",
              "        checkbox.on(\"dblclick\", function (d, i) {\n",
              "            // If we double click on the only active head then reset\n",
              "            if (config.headVis[i] && activeHeads() === 1) {\n",
              "                config.headVis = new Array(config.nHeads).fill(true);\n",
              "            } else {\n",
              "                config.headVis = new Array(config.nHeads).fill(false);\n",
              "                config.headVis[i] = true;\n",
              "            }\n",
              "            updateCheckboxes();\n",
              "            updateAttention(svg);\n",
              "        });\n",
              "    }\n",
              "\n",
              "    function lighten(color) {\n",
              "        const c = d3.hsl(color);\n",
              "        const increment = (1 - c.l) * 0.6;\n",
              "        c.l += increment;\n",
              "        c.s -= increment;\n",
              "        return c;\n",
              "    }\n",
              "\n",
              "    function transpose(mat) {\n",
              "        return mat[0].map(function (col, i) {\n",
              "            return mat.map(function (row) {\n",
              "                return row[i];\n",
              "            });\n",
              "        });\n",
              "    }\n",
              "\n",
              "});"
            ]
          },
          "metadata": {}
        }
      ]
    },
    {
      "cell_type": "markdown",
      "source": [
        "# Interpreting the Q, K and V and self-attention:\n",
        "\n",
        "So what are we doing with self-attention is generating an Attention Matrix that multiplies the V matrix, which means it pays attention to the vector representations (embeddings) of the original input. But how do we get to that Attention Matrix? What we are actually doing behind the scenes is computing a similarity measure.\n",
        "\n",
        "If you think about the Attention Matrix, we said that we would calculate it as:\n",
        "\n",
        "$softmax(\\frac{QK^{T}}{\\sqrt{d_{k}}})*V$\n",
        "\n",
        "So we can break down this operation into 3 steps which will be defined below:\n",
        "\n",
        "1) Query projection into Key space\n",
        "\n",
        "2) Normalization and softmax\n",
        "\n",
        "3) Transform V from context-less to context-aware"
      ],
      "metadata": {
        "id": "gZI5QCUyhNrm"
      }
    },
    {
      "cell_type": "markdown",
      "source": [
        "## Q and K. Projecting Q into K\n",
        "\n",
        "The matrices Q and K get their names (Query and Key) from database searches. When you look for something on a database you are actually looking for the keys that match the conditions in your query, and returning the values (V) for those keys. There is a relationship between this concept and what we are doing in self-attention.\n",
        "\n",
        "When we are doing $QK^{T}$ we are computing the projection of the $q_{i}$ vectors into the K vector space, for each $q_{i}$. This \"projection\" is done by calculating the **dot product** between the vectors. When the norm of the vectors is one, the dot product measures how similar the two vectors are by measuring how close is the angle between them.\n",
        "\n",
        "When computing $QK^{T}$ we are donig precisely this. So the vectors that \"point in similar directions\" will have a higher cosine similarity than the ones that don't. We are effectively measuring how similar are our queries to our keys. Hence the name!"
      ],
      "metadata": {
        "id": "EqbNHT11qLCv"
      }
    },
    {
      "cell_type": "markdown",
      "source": [
        "## Normalization & Softmax\n",
        "\n",
        "The values of the $Q$ and $K^{T}$ matrices are not normalized. This means that they can take any value, which in turn means that the softmax function can get saturated (very large values scale the softmax values for the rest of the elements down). This is solved by normalizing by the maximum possible norm of the vector, which is $d_{k}$, the dimension of the output (the number of elements in the vector)."
      ],
      "metadata": {
        "id": "1TNGDOFHsw7U"
      }
    },
    {
      "cell_type": "code",
      "source": [
        "import numpy as np"
      ],
      "metadata": {
        "id": "uCsVqpXtPpwV"
      },
      "execution_count": 1,
      "outputs": []
    },
    {
      "cell_type": "code",
      "source": [
        "# Vectors with any value\n",
        "v1 = np.array([1, 1])\n",
        "v2 = np.array([1/2 ** 0.5, 1/2 ** 0.5])\n",
        "\n",
        "print(\"Non-normalized vectors:\")\n",
        "print(\"Norm v1:\\t\", np.linalg.norm(v1))\n",
        "print(\"Norm v2:\\t\", np.linalg.norm(v2))\n",
        "\n",
        "print(\"Dot product:\\t\", np.dot(v1, v2))\n",
        "\n",
        "# Normalized vectors\n",
        "print(\"\\nNormalized vectors:\")\n",
        "dk = len(v1)\n",
        "\n",
        "v1_norm = v1 / (dk ** 0.5)\n",
        "v2_norm = v2 / (dk ** 0.5)\n",
        "\n",
        "print(\"Norm v1:\\t\", np.linalg.norm(v1_norm))\n",
        "print(\"Norm v2:\\t\", np.linalg.norm(v2_norm))\n",
        "\n",
        "print(\"Dot product:\\t\", np.dot(v1_norm, v2_norm))"
      ],
      "metadata": {
        "colab": {
          "base_uri": "https://localhost:8080/"
        },
        "id": "qKcwwd55ta8o",
        "outputId": "d830743f-3493-4e61-fc52-647cb0cc3089"
      },
      "execution_count": 15,
      "outputs": [
        {
          "output_type": "stream",
          "name": "stdout",
          "text": [
            "Non-normalized vectors:\n",
            "Norm v1:\t 1.4142135623730951\n",
            "Norm v2:\t 0.9999999999999999\n",
            "Dot product:\t 1.414213562373095\n",
            "\n",
            "Normalized vectors:\n",
            "Norm v1:\t 0.9999999999999999\n",
            "Norm v2:\t 0.7071067811865475\n",
            "Dot product:\t 0.7071067811865474\n"
          ]
        }
      ]
    },
    {
      "cell_type": "markdown",
      "source": [
        "We want the values to be normalized so the softmax always has the same upper limit (1) and lower limit (0)."
      ],
      "metadata": {
        "id": "CHVFdCa7zGRI"
      }
    },
    {
      "cell_type": "markdown",
      "source": [
        "## Obtaining a context-aware V matrix:\n",
        "\n",
        "The V matrix is not used in the similarity process between Q and K. This is because we want to build the attention matrix using this similarities, but also taking the original input into account. V contributes the original context to the equation. Basically, applying the $softmax(\\frac{QK^{T}}{\\sqrt{d_{k}}})$ to V, we go from a context-less V to a context-full V.\n",
        "\n",
        "Each transformer layer provides different layers of context to the V Matrix, so by the end of the Transformer encoder layers, we get an encoded output that has computed an accurate compressed representation of the inputs, in their respective context."
      ],
      "metadata": {
        "id": "7QLZVpAWzVS0"
      }
    },
    {
      "cell_type": "code",
      "source": [],
      "metadata": {
        "id": "6akCbrEfuBof"
      },
      "execution_count": null,
      "outputs": []
    }
  ]
}