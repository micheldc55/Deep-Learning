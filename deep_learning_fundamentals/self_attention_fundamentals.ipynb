{
  "nbformat": 4,
  "nbformat_minor": 0,
  "metadata": {
    "colab": {
      "provenance": [],
      "authorship_tag": "ABX9TyOTWD3fgDvLZf4n/yNFmrZE",
      "include_colab_link": true
    },
    "kernelspec": {
      "name": "python3",
      "display_name": "Python 3"
    },
    "language_info": {
      "name": "python"
    }
  },
  "cells": [
    {
      "cell_type": "markdown",
      "metadata": {
        "id": "view-in-github",
        "colab_type": "text"
      },
      "source": [
        "<a href=\"https://colab.research.google.com/github/micheldc55/Deep-Learning/blob/main/deep_learning_fundamentals/self_attention_fundamentals.ipynb\" target=\"_parent\"><img src=\"https://colab.research.google.com/assets/colab-badge.svg\" alt=\"Open In Colab\"/></a>"
      ]
    },
    {
      "cell_type": "markdown",
      "source": [
        "# Understanding the attention mechanism\n",
        "\n",
        "The idea of this small project is to show how the attention mechanism works at a small scale. Attention is this cool feature that was first introduced in 2015 for Recurrent Neural Networks (RNNs), and that is the base building block of the Transformer arquitecture.\n",
        "\n",
        "First, we will take a look into BERT the original encoder model published by Google in 2018. And we will see how the attention block of the transformer is built. We will notice that it's just a simple attention block, similar to the one discussed in the famous [Attention is all you need](https://arxiv.org/pdf/1706.03762.pdf) paper.\n",
        "\n",
        "We need to install the **transformers** library from HuggingFace in order to do so, so simply run the command below:"
      ],
      "metadata": {
        "id": "vzSwyzcts6FL"
      }
    },
    {
      "cell_type": "code",
      "source": [
        "! pip install transformers"
      ],
      "metadata": {
        "colab": {
          "base_uri": "https://localhost:8080/"
        },
        "id": "QUOTT2rPSqBh",
        "outputId": "f3af6192-b591-4a26-ba7d-e19c42387fb1"
      },
      "execution_count": 1,
      "outputs": [
        {
          "output_type": "stream",
          "name": "stdout",
          "text": [
            "Collecting transformers\n",
            "  Downloading transformers-4.30.2-py3-none-any.whl (7.2 MB)\n",
            "\u001b[2K     \u001b[90m━━━━━━━━━━━━━━━━━━━━━━━━━━━━━━━━━━━━━━━━\u001b[0m \u001b[32m7.2/7.2 MB\u001b[0m \u001b[31m66.1 MB/s\u001b[0m eta \u001b[36m0:00:00\u001b[0m\n",
            "\u001b[?25hRequirement already satisfied: filelock in /usr/local/lib/python3.10/dist-packages (from transformers) (3.12.2)\n",
            "Collecting huggingface-hub<1.0,>=0.14.1 (from transformers)\n",
            "  Downloading huggingface_hub-0.16.4-py3-none-any.whl (268 kB)\n",
            "\u001b[2K     \u001b[90m━━━━━━━━━━━━━━━━━━━━━━━━━━━━━━━━━━━━━━\u001b[0m \u001b[32m268.8/268.8 kB\u001b[0m \u001b[31m34.9 MB/s\u001b[0m eta \u001b[36m0:00:00\u001b[0m\n",
            "\u001b[?25hRequirement already satisfied: numpy>=1.17 in /usr/local/lib/python3.10/dist-packages (from transformers) (1.22.4)\n",
            "Requirement already satisfied: packaging>=20.0 in /usr/local/lib/python3.10/dist-packages (from transformers) (23.1)\n",
            "Requirement already satisfied: pyyaml>=5.1 in /usr/local/lib/python3.10/dist-packages (from transformers) (6.0)\n",
            "Requirement already satisfied: regex!=2019.12.17 in /usr/local/lib/python3.10/dist-packages (from transformers) (2022.10.31)\n",
            "Requirement already satisfied: requests in /usr/local/lib/python3.10/dist-packages (from transformers) (2.27.1)\n",
            "Collecting tokenizers!=0.11.3,<0.14,>=0.11.1 (from transformers)\n",
            "  Downloading tokenizers-0.13.3-cp310-cp310-manylinux_2_17_x86_64.manylinux2014_x86_64.whl (7.8 MB)\n",
            "\u001b[2K     \u001b[90m━━━━━━━━━━━━━━━━━━━━━━━━━━━━━━━━━━━━━━━━\u001b[0m \u001b[32m7.8/7.8 MB\u001b[0m \u001b[31m57.3 MB/s\u001b[0m eta \u001b[36m0:00:00\u001b[0m\n",
            "\u001b[?25hCollecting safetensors>=0.3.1 (from transformers)\n",
            "  Downloading safetensors-0.3.1-cp310-cp310-manylinux_2_17_x86_64.manylinux2014_x86_64.whl (1.3 MB)\n",
            "\u001b[2K     \u001b[90m━━━━━━━━━━━━━━━━━━━━━━━━━━━━━━━━━━━━━━━━\u001b[0m \u001b[32m1.3/1.3 MB\u001b[0m \u001b[31m77.9 MB/s\u001b[0m eta \u001b[36m0:00:00\u001b[0m\n",
            "\u001b[?25hRequirement already satisfied: tqdm>=4.27 in /usr/local/lib/python3.10/dist-packages (from transformers) (4.65.0)\n",
            "Requirement already satisfied: fsspec in /usr/local/lib/python3.10/dist-packages (from huggingface-hub<1.0,>=0.14.1->transformers) (2023.6.0)\n",
            "Requirement already satisfied: typing-extensions>=3.7.4.3 in /usr/local/lib/python3.10/dist-packages (from huggingface-hub<1.0,>=0.14.1->transformers) (4.7.1)\n",
            "Requirement already satisfied: urllib3<1.27,>=1.21.1 in /usr/local/lib/python3.10/dist-packages (from requests->transformers) (1.26.16)\n",
            "Requirement already satisfied: certifi>=2017.4.17 in /usr/local/lib/python3.10/dist-packages (from requests->transformers) (2023.5.7)\n",
            "Requirement already satisfied: charset-normalizer~=2.0.0 in /usr/local/lib/python3.10/dist-packages (from requests->transformers) (2.0.12)\n",
            "Requirement already satisfied: idna<4,>=2.5 in /usr/local/lib/python3.10/dist-packages (from requests->transformers) (3.4)\n",
            "Installing collected packages: tokenizers, safetensors, huggingface-hub, transformers\n",
            "Successfully installed huggingface-hub-0.16.4 safetensors-0.3.1 tokenizers-0.13.3 transformers-4.30.2\n"
          ]
        }
      ]
    },
    {
      "cell_type": "code",
      "source": [
        "import torch"
      ],
      "metadata": {
        "id": "lQXpbBheVBXP"
      },
      "execution_count": 2,
      "outputs": []
    },
    {
      "cell_type": "markdown",
      "source": [
        "## Understanding Attention in BERT's first layer\n",
        "\n",
        "Below we will just import the BERT uncased model from HuggingFace. Let's explore how the model's layers are built. The BERT base uncased model is a pre-trained model from Google that can be used for feature extraction. It converts de prompt we pass to the model to a"
      ],
      "metadata": {
        "id": "4x54ORWITt-G"
      }
    },
    {
      "cell_type": "code",
      "execution_count": 38,
      "metadata": {
        "id": "QcC4xI4pSX4c"
      },
      "outputs": [],
      "source": [
        "from transformers import BertModel, BertTokenizer\n",
        "import matplotlib.pyplot as plt\n",
        "import seaborn as sns"
      ]
    },
    {
      "cell_type": "code",
      "source": [
        "model = BertModel.from_pretrained(\"bert-base-uncased\")"
      ],
      "metadata": {
        "colab": {
          "base_uri": "https://localhost:8080/"
        },
        "id": "n7x1tS95SfCq",
        "outputId": "c1adb849-c3f1-4215-89d1-52fa7efda14c"
      },
      "execution_count": 8,
      "outputs": [
        {
          "output_type": "stream",
          "name": "stderr",
          "text": [
            "Some weights of the model checkpoint at bert-base-uncased were not used when initializing BertModel: ['cls.predictions.transform.LayerNorm.bias', 'cls.seq_relationship.bias', 'cls.predictions.bias', 'cls.predictions.transform.LayerNorm.weight', 'cls.seq_relationship.weight', 'cls.predictions.transform.dense.bias', 'cls.predictions.transform.dense.weight']\n",
            "- This IS expected if you are initializing BertModel from the checkpoint of a model trained on another task or with another architecture (e.g. initializing a BertForSequenceClassification model from a BertForPreTraining model).\n",
            "- This IS NOT expected if you are initializing BertModel from the checkpoint of a model that you expect to be exactly identical (initializing a BertForSequenceClassification model from a BertForSequenceClassification model).\n"
          ]
        }
      ]
    },
    {
      "cell_type": "markdown",
      "source": [
        "As seen below, BERT has 12 attention layers in the enconder phase in total. Each of this attention layers can be though of as a creating a deeper and more context-aware representation of the input, based on the raw values of the input as individual tokens."
      ],
      "metadata": {
        "id": "E_ikqHT_T6hU"
      }
    },
    {
      "cell_type": "code",
      "source": [
        "len(model.encoder.layer)"
      ],
      "metadata": {
        "colab": {
          "base_uri": "https://localhost:8080/"
        },
        "id": "2-yOGRcoSoHD",
        "outputId": "2f8613bb-8382-4bec-bf4e-ad8cb6b3c5d9"
      },
      "execution_count": 5,
      "outputs": [
        {
          "output_type": "execute_result",
          "data": {
            "text/plain": [
              "12"
            ]
          },
          "metadata": {},
          "execution_count": 5
        }
      ]
    },
    {
      "cell_type": "markdown",
      "source": [
        "The attention mechanism breaks the initial input into 3 matrices Q, K and V. These 3 matrices are used to generate a representation of how much \"attention\" should be payed to each of the input tokens, based on the embeddings for each token on its own."
      ],
      "metadata": {
        "id": "tuqv4-GsUnym"
      }
    },
    {
      "cell_type": "code",
      "source": [
        "model.encoder.layer[0]"
      ],
      "metadata": {
        "colab": {
          "base_uri": "https://localhost:8080/"
        },
        "id": "IShrwUM_S6Ut",
        "outputId": "ae523e79-c3f6-4021-8dfb-aa8c42499d93"
      },
      "execution_count": 6,
      "outputs": [
        {
          "output_type": "execute_result",
          "data": {
            "text/plain": [
              "BertLayer(\n",
              "  (attention): BertAttention(\n",
              "    (self): BertSelfAttention(\n",
              "      (query): Linear(in_features=768, out_features=768, bias=True)\n",
              "      (key): Linear(in_features=768, out_features=768, bias=True)\n",
              "      (value): Linear(in_features=768, out_features=768, bias=True)\n",
              "      (dropout): Dropout(p=0.1, inplace=False)\n",
              "    )\n",
              "    (output): BertSelfOutput(\n",
              "      (dense): Linear(in_features=768, out_features=768, bias=True)\n",
              "      (LayerNorm): LayerNorm((768,), eps=1e-12, elementwise_affine=True)\n",
              "      (dropout): Dropout(p=0.1, inplace=False)\n",
              "    )\n",
              "  )\n",
              "  (intermediate): BertIntermediate(\n",
              "    (dense): Linear(in_features=768, out_features=3072, bias=True)\n",
              "    (intermediate_act_fn): GELUActivation()\n",
              "  )\n",
              "  (output): BertOutput(\n",
              "    (dense): Linear(in_features=3072, out_features=768, bias=True)\n",
              "    (LayerNorm): LayerNorm((768,), eps=1e-12, elementwise_affine=True)\n",
              "    (dropout): Dropout(p=0.1, inplace=False)\n",
              "  )\n",
              ")"
            ]
          },
          "metadata": {},
          "execution_count": 6
        }
      ]
    },
    {
      "cell_type": "markdown",
      "source": [
        "### Example of the Q, K and V matrices given an input\n",
        "\n",
        "Let's create an input phrase, for example: \"I am short\". Now let's create the corresponding spaces Q, K and V for this tokens, and see how that would play out. The input has 3 words (and we will treat words like tokens for now), so we will have our input \"X\" be 3 x 9 where 9 is just our vocabulary, our \"number of possible words\", if you will.\n",
        "\n",
        "**Note:** In reality, words will actually be tokens, and the vocabulary will be way larger than 9, but 9 will serve as a good way to show how we would proceed if this was the real transformer."
      ],
      "metadata": {
        "id": "6VZW7oXkVZCy"
      }
    },
    {
      "cell_type": "code",
      "source": [
        "input = \"I am short\""
      ],
      "metadata": {
        "id": "_z2c_3UBS9md"
      },
      "execution_count": 8,
      "outputs": []
    },
    {
      "cell_type": "markdown",
      "source": [
        "This would get broken down to:"
      ],
      "metadata": {
        "id": "eDm22YUHZ-_-"
      }
    },
    {
      "cell_type": "markdown",
      "source": [
        "|       | d1    | d2     | d3 | d4 | d5 | d6  | d7 | d8 | d9    |\n",
        "|-------|-------|--------|----|----|----|-----|----|----|--------|\n",
        "| I     | 0.8137| 0.7803 | ...| ...| ...| ... | ...| ...| 0.117  |\n",
        "| am    | 0.1000| 0.2150 | ...| ...| ...| ... | ...| ...| 0.701  |\n",
        "| short | 0.1770|-0.7047 | ...| ...| ...| ... | ...| ...| -0.321 |"
      ],
      "metadata": {
        "id": "VgRZmcSva-hB"
      }
    },
    {
      "cell_type": "markdown",
      "source": [
        "Where ${d_i}$ are the different dimensions of each input token in positinal encoding embedding space. Check the [attention is all you need](https://arxiv.org/pdf/1706.03762.pdf) paper for a reference to the actual architecture image."
      ],
      "metadata": {
        "id": "TL8_KoRnbKuM"
      }
    },
    {
      "cell_type": "markdown",
      "source": [
        "Let's use PyTorch to build such matrix and go over the process that would happen inside a Transformer. We will call our inputs \"X\", and our Query, Key and Value matrices Q, K and V respectively, just like the paper does.\n",
        "\n",
        "The attention mechanism is based on calculating the attention value that should be applied to each value in the \"Value\" space. If we think of V as if it holds the information of the meaning of the words independently of their context, we want to train a normalized attention matrix ${\\frac{QK^{T}}{\\sqrt{d_{k}}}}$ that measures what tokens should be payed the most attention to. The output is converted to probabilities using a softmax transformation.\n",
        "\n",
        "The attention matrix will then multiply the Value matrix to convert the context agnostic \"V\" matrix to a context-aware \"V\" matrix. So, the attention applied to the V matrix can be written as:\n",
        "\n",
        "$${softmax(\\frac{QK^{T}}{\\sqrt{d_{k}}})V}$$"
      ],
      "metadata": {
        "id": "BZCvn7PPbxzV"
      }
    },
    {
      "cell_type": "markdown",
      "source": [
        "We need three extra matrices that will not be discussed for now. This are the weights matrices, and they multiply or input \"X\" and transform it to Q, K and V respectively. They are generally written as ${W^{Q}}$, ${W^{K}}$ and ${W^{V}}$"
      ],
      "metadata": {
        "id": "YgNL6JkDeXWo"
      }
    },
    {
      "cell_type": "markdown",
      "source": [
        "So imagine that the dimensions of each token in the positional embedding space is:"
      ],
      "metadata": {
        "id": "d8sHZi1MeqXL"
      }
    },
    {
      "cell_type": "code",
      "source": [
        "X = torch.Tensor([[0.8137, 0.7803, 0.0972, 0.1619, 0.6793, 0.0919, 0.4634, 0.5565, 0.117],\n",
        "        [0.1000, 0.2150, 0.5824, 0.5941, 0.7734, 0.1016, 0.9998, 0.1266, 0.701],\n",
        "        [0.1770, -0.7047, 0.7806, 0.4591, 0.3710, 0.1028, 0.0787, 0.0687, -0.321]])\n",
        "X"
      ],
      "metadata": {
        "colab": {
          "base_uri": "https://localhost:8080/"
        },
        "id": "WbPVtbDRZ-Tk",
        "outputId": "7114a18f-c13f-41d8-df5a-0ba375d911e6"
      },
      "execution_count": 12,
      "outputs": [
        {
          "output_type": "execute_result",
          "data": {
            "text/plain": [
              "tensor([[ 0.8137,  0.7803,  0.0972,  0.1619,  0.6793,  0.0919,  0.4634,  0.5565,\n",
              "          0.1170],\n",
              "        [ 0.1000,  0.2150,  0.5824,  0.5941,  0.7734,  0.1016,  0.9998,  0.1266,\n",
              "          0.7010],\n",
              "        [ 0.1770, -0.7047,  0.7806,  0.4591,  0.3710,  0.1028,  0.0787,  0.0687,\n",
              "         -0.3210]])"
            ]
          },
          "metadata": {},
          "execution_count": 12
        }
      ]
    },
    {
      "cell_type": "markdown",
      "source": [
        "So, \"I\" in the initial embedding space is represented by the 9 dimensional vector: [0.8137,  0.7803,  0.0972,  0.1619,  0.6793,  0.0919,  0.4634,  0.5565, 0.1170]\n",
        "\n",
        "\"am\" in the same space is represented by the 9 dimensional vector: [0.1000,  0.2150,  0.5824,  0.5941,  0.7734,  0.1016,  0.9998,  0.1266, 0.7010]\n",
        "\n",
        "And \"short\" is represented by the vector: [0.1770, -0.7047,  0.7806,  0.4591,  0.3710,  0.1028,  0.0787,  0.0687, -0.3210]"
      ],
      "metadata": {
        "id": "T4FLGeeagKKd"
      }
    },
    {
      "cell_type": "markdown",
      "source": [
        "If we imagine we want to create a representation of the text in a 4-dimensional space, then our Weight vectors (${W^{i}}$) will be of the shape 9x4.\n",
        "\n",
        "So the shape of Q, K and V, will be 3 x 4, since they will be the product of multiplying X times their corresponding weight matrix, and we know the dimensions of both. Let's create some artificial Q, K and V matrices:"
      ],
      "metadata": {
        "id": "lALeHxU9hRqq"
      }
    },
    {
      "cell_type": "code",
      "source": [
        "Q = torch.Tensor([[0.023, 0.7144, 1.03, 0.576], [0.903, 0.1474, -0.338, -0.765], [0.576, -0.7144, 0.03, -0.076]])\n",
        "\n",
        "K = torch.Tensor([[0.5224, -0.1328, 0.9169, 0.5317], [0.3535, 0.7698, -0.2965, 0.2669], [0.3864, 0.5015, 0.5557, -0.1671]])\n",
        "\n",
        "V = torch.Tensor([[0.7467, 0.0360, -0.5847, 0.0370], [1.509, 0.8009, 0.7957, 0.0151], [0.4343, 0.9003, 0.3387, 0.2031]])"
      ],
      "metadata": {
        "id": "RXgtl5zofLJf"
      },
      "execution_count": 18,
      "outputs": []
    },
    {
      "cell_type": "markdown",
      "source": [
        "Basically, Q, K and V are the representations of the input embedding vectors in the Q space, K space and V spaces respectively. The V space attempts to retain information about the individual tokens while the other two combine to generate a representation of the tokens in their context and will be the building blocks for the attention mechanism applied to V.\n",
        "\n",
        "Let's now build ${QK^{T}}$"
      ],
      "metadata": {
        "id": "bozragBTjLvm"
      }
    },
    {
      "cell_type": "code",
      "source": [
        "K_t = torch.transpose(K, 0, 1)\n",
        "K_t"
      ],
      "metadata": {
        "colab": {
          "base_uri": "https://localhost:8080/"
        },
        "id": "XfONJsXUicnK",
        "outputId": "a876a50d-ebbb-4bfb-b7da-ac72613d77ad"
      },
      "execution_count": 20,
      "outputs": [
        {
          "output_type": "execute_result",
          "data": {
            "text/plain": [
              "tensor([[ 0.5224,  0.3535,  0.3864],\n",
              "        [-0.1328,  0.7698,  0.5015],\n",
              "        [ 0.9169, -0.2965,  0.5557],\n",
              "        [ 0.5317,  0.2669, -0.1671]])"
            ]
          },
          "metadata": {},
          "execution_count": 20
        }
      ]
    },
    {
      "cell_type": "code",
      "source": [
        "q_kt = torch.mm(Q, K_t)\n",
        "q_kt  # This is a 3x3 matrix"
      ],
      "metadata": {
        "colab": {
          "base_uri": "https://localhost:8080/"
        },
        "id": "e0EyUXQziiJK",
        "outputId": "20dea4cc-0eac-4486-d6e2-6560c0eb0f62"
      },
      "execution_count": 24,
      "outputs": [
        {
          "output_type": "execute_result",
          "data": {
            "text/plain": [
              "tensor([[ 1.1678,  0.4064,  0.8433],\n",
              "        [-0.2645,  0.3287,  0.3628],\n",
              "        [ 0.3829, -0.3755, -0.1063]])"
            ]
          },
          "metadata": {},
          "execution_count": 24
        }
      ]
    },
    {
      "cell_type": "markdown",
      "source": [
        "PyTorch allows us to calculate the attention matrix using a few simple functions:"
      ],
      "metadata": {
        "id": "WHkNhN52kJbP"
      }
    },
    {
      "cell_type": "code",
      "source": [
        "embedding_space = q_kt.shape[1]\n",
        "\n",
        "att_before_softmax = torch.div(q_kt, torch.sqrt(torch.tensor(embedding_space)))\n",
        "\n",
        "att_before_softmax"
      ],
      "metadata": {
        "colab": {
          "base_uri": "https://localhost:8080/"
        },
        "id": "oQdKGkEKjniE",
        "outputId": "e405b8a5-0664-449f-cd18-7a9e57b70ea9"
      },
      "execution_count": 27,
      "outputs": [
        {
          "output_type": "execute_result",
          "data": {
            "text/plain": [
              "tensor([[ 0.6742,  0.2346,  0.4869],\n",
              "        [-0.1527,  0.1898,  0.2095],\n",
              "        [ 0.2211, -0.2168, -0.0614]])"
            ]
          },
          "metadata": {},
          "execution_count": 27
        }
      ]
    },
    {
      "cell_type": "markdown",
      "source": [
        "Notice that for the word \"I\" for example (first row), the values for the attention add up to more than one. This is because we haven't applied the softmax function. Let's see what I mean, below are the sums at row level (note they don't necessarily add up to 1.0). I'm only reshaping the tensor so that each sum is at the same position as the row it represents in the above matrix."
      ],
      "metadata": {
        "id": "HO1BEE3yll8A"
      }
    },
    {
      "cell_type": "code",
      "source": [
        "torch.sum(att_before_softmax, dim=1).reshape(-1, 1)"
      ],
      "metadata": {
        "colab": {
          "base_uri": "https://localhost:8080/"
        },
        "id": "f36D2WxYlXPE",
        "outputId": "d217f66f-7266-46fa-b87d-26ffb8b01ff8"
      },
      "execution_count": 41,
      "outputs": [
        {
          "output_type": "execute_result",
          "data": {
            "text/plain": [
              "tensor([[ 1.3957],\n",
              "        [ 0.2466],\n",
              "        [-0.0571]])"
            ]
          },
          "metadata": {},
          "execution_count": 41
        }
      ]
    },
    {
      "cell_type": "code",
      "source": [
        "attn_matrix = torch.softmax(att_before_softmax, dim=1)\n",
        "\n",
        "attn_matrix"
      ],
      "metadata": {
        "colab": {
          "base_uri": "https://localhost:8080/"
        },
        "id": "H3v6G_MQlZae",
        "outputId": "dfda7d1b-6641-4482-8bb7-a27ebd07aabe"
      },
      "execution_count": 39,
      "outputs": [
        {
          "output_type": "execute_result",
          "data": {
            "text/plain": [
              "tensor([[0.4043, 0.2605, 0.3352],\n",
              "        [0.2601, 0.3663, 0.3736],\n",
              "        [0.4168, 0.2690, 0.3142]])"
            ]
          },
          "metadata": {},
          "execution_count": 39
        }
      ]
    },
    {
      "cell_type": "markdown",
      "source": [
        "Let's check that the rows add up to 1 now. Remember the reshape is just to align the rows in the attn_matrix above to the output of the cell below, but it's not doing anything to the values themselves"
      ],
      "metadata": {
        "id": "VVucaXabnDa1"
      }
    },
    {
      "cell_type": "code",
      "source": [
        "torch.sum(attn_matrix, dim=1).reshape(-1, 1)"
      ],
      "metadata": {
        "colab": {
          "base_uri": "https://localhost:8080/"
        },
        "id": "OFZlLcddmdxJ",
        "outputId": "ee96eb67-2877-47d3-cdd9-a1148b15ea65"
      },
      "execution_count": 42,
      "outputs": [
        {
          "output_type": "execute_result",
          "data": {
            "text/plain": [
              "tensor([[1.],\n",
              "        [1.],\n",
              "        [1.]])"
            ]
          },
          "metadata": {},
          "execution_count": 42
        }
      ]
    },
    {
      "cell_type": "markdown",
      "source": [
        "This attention matrix (attn_matrix) is applied to the matrix V, and this is the actual context aware \"attention\" our model would be paying to each token in the embeding space, projected into the V space."
      ],
      "metadata": {
        "id": "ZzPtCxrTnWrI"
      }
    },
    {
      "cell_type": "code",
      "source": [
        "attn_matrix"
      ],
      "metadata": {
        "colab": {
          "base_uri": "https://localhost:8080/"
        },
        "id": "VLE8Ovsjq9n_",
        "outputId": "2ee70165-c7bb-4279-b13c-ab285cc9ee12"
      },
      "execution_count": 46,
      "outputs": [
        {
          "output_type": "execute_result",
          "data": {
            "text/plain": [
              "tensor([[0.4043, 0.2605, 0.3352],\n",
              "        [0.2601, 0.3663, 0.3736],\n",
              "        [0.4168, 0.2690, 0.3142]])"
            ]
          },
          "metadata": {},
          "execution_count": 46
        }
      ]
    },
    {
      "cell_type": "code",
      "source": [
        "V"
      ],
      "metadata": {
        "colab": {
          "base_uri": "https://localhost:8080/"
        },
        "id": "dKrPXq_fpYHc",
        "outputId": "1db5de75-4dcc-41fc-a112-166de79fa1c7"
      },
      "execution_count": 44,
      "outputs": [
        {
          "output_type": "execute_result",
          "data": {
            "text/plain": [
              "tensor([[ 0.7467,  0.0360, -0.5847,  0.0370],\n",
              "        [ 1.5090,  0.8009,  0.7957,  0.0151],\n",
              "        [ 0.4343,  0.9003,  0.3387,  0.2031]])"
            ]
          },
          "metadata": {},
          "execution_count": 44
        }
      ]
    },
    {
      "cell_type": "code",
      "source": [
        "output = torch.mm(attn_matrix, V)\n",
        "output"
      ],
      "metadata": {
        "colab": {
          "base_uri": "https://localhost:8080/"
        },
        "id": "CmDnrTz1my8X",
        "outputId": "300ebb43-22b6-4336-c822-df0b8ae33490"
      },
      "execution_count": 45,
      "outputs": [
        {
          "output_type": "execute_result",
          "data": {
            "text/plain": [
              "tensor([[0.8405, 0.5250, 0.0844, 0.0870],\n",
              "        [0.9092, 0.6391, 0.2659, 0.0910],\n",
              "        [0.8536, 0.5133, 0.0768, 0.0833]])"
            ]
          },
          "metadata": {},
          "execution_count": 45
        }
      ]
    },
    {
      "cell_type": "markdown",
      "source": [
        "The output matrix shows the elements of \"V\" our model is going to pay attention to. The model at this stage is just providing \"relevance\" or context awareness to the semantic meaning of the words. It's enriching the text by combining context + meaning in the V projection space!"
      ],
      "metadata": {
        "id": "v82UED4qqW3w"
      }
    },
    {
      "cell_type": "markdown",
      "source": [
        "## Applying this to BERT"
      ],
      "metadata": {
        "id": "5nu_U-RZE7qI"
      }
    },
    {
      "cell_type": "markdown",
      "source": [
        "### Multi Head Attention\n",
        "\n",
        "We discussed the attention mechanism in general, but now we will go over how this affects a real model like BERT. Most transformer models introduce a concept called \"Multi-Head-Attention\".\n",
        "\n",
        "In the attention mechanism, the concept of “heads” refers to the number of times the attention operation is performed in parallel. Each head computes a different weighted average of the values, allowing the model to attend to different parts of the input for each position in the output.\n",
        "\n",
        "The number of heads is a hyperparameter that can be tuned for a specific task. In general, using more heads allows the model to capture more complex relationships between the input and output, but it also increases the computational cost and memory usage.\n",
        "\n",
        "The number of heads is usually chosen based on empirical results on a validation set. For example, the original BERT paper used 12 heads for the bert-base model and 16 heads for the bert-large model.\n",
        "\n",
        "This is part of the beauty of attention. This step is extremely parallelizable! Each attention matrix can be calculated in parallel, making this process very friendly to run on GPUs."
      ],
      "metadata": {
        "id": "E5kLMdueJV7y"
      }
    },
    {
      "cell_type": "markdown",
      "source": [
        "### Tokenizers\n",
        "\n",
        "There is also the idea of tokenizers. Tokenization is a crucial preprocessing step when working with large language models like BERT. Tokenization is the process of converting text into a sequence of tokens that can be fed into the model. A tokenizer is responsible for performing this conversion.\n",
        "\n",
        "Tokenizers are important for several reasons. First, they allow the model to handle input text of arbitrary length by breaking it down into smaller, fixed-size units (tokens). This is necessary because neural networks require fixed-size inputs.\n",
        "\n",
        "Second, tokenizers can greatly reduce the size of the model’s vocabulary. Instead of representing each word as a separate token, tokenizers can split words into subword units or characters. This allows the model to handle rare and out-of-vocabulary words by representing them as a sequence of smaller units.\n",
        "\n",
        "We will use the tokenizer provided by HuggingFace that uses the same scheme as the original BERT tokenizer did. So we will convert the text into a sequence of tokens that comprise the text, and then into a sequence of integers that represents the token ids. We can easily switch between integer representations of the tokens and the actual tokens as shown below."
      ],
      "metadata": {
        "id": "YtTDD9zFJZJG"
      }
    },
    {
      "cell_type": "code",
      "source": [
        "tokenizer = BertTokenizer.from_pretrained('bert-base-uncased')"
      ],
      "metadata": {
        "id": "vl4bKRqfKMzX"
      },
      "execution_count": null,
      "outputs": []
    },
    {
      "cell_type": "code",
      "source": [
        "text = \"I am a dog\"\n",
        "\n",
        "input_ids = tokenizer.encode(text, return_tensors='pt')\n",
        "\n",
        "input_ids"
      ],
      "metadata": {
        "colab": {
          "base_uri": "https://localhost:8080/"
        },
        "id": "N14i6H1IKOt4",
        "outputId": "44eee651-d3cf-4521-e56d-4419b7a3e2ee"
      },
      "execution_count": 35,
      "outputs": [
        {
          "output_type": "execute_result",
          "data": {
            "text/plain": [
              "tensor([[ 101, 1045, 2572, 1037, 3899,  102]])"
            ]
          },
          "metadata": {},
          "execution_count": 35
        }
      ]
    },
    {
      "cell_type": "code",
      "source": [
        "tokenizer.convert_ids_to_tokens(input_ids[0])"
      ],
      "metadata": {
        "colab": {
          "base_uri": "https://localhost:8080/"
        },
        "id": "RqgZd1UIKZ2k",
        "outputId": "688f10d5-aaa9-4ff4-b858-ee57fa50431e"
      },
      "execution_count": 36,
      "outputs": [
        {
          "output_type": "execute_result",
          "data": {
            "text/plain": [
              "['[CLS]', 'i', 'am', 'a', 'dog', '[SEP]']"
            ]
          },
          "metadata": {},
          "execution_count": 36
        }
      ]
    },
    {
      "cell_type": "markdown",
      "source": [
        "**Quick note:** Most tokenizers add some kind of separation token, generally  \"opening\" and \"closing\" tokens to indicate where the sentences start and stop. This is what the [CLS] and [SEP] tokens represent here.\n",
        "\n",
        "The [SEP] token indicates the separation between parts of the text and is used when there are multiple interactions, which can happen in conversations for example. In this case, it indicates the end of the text.\n",
        "\n",
        "The [CLS] token indicates the start of the sentence. It has been shown that the final hidden state corresponding to this token can be used as the aggregate representation of the entire sequence. This representation can then be fed into a classifier to make a prediction."
      ],
      "metadata": {
        "id": "5EGaQmbdKl7E"
      }
    },
    {
      "cell_type": "code",
      "source": [
        "model = BertModel.from_pretrained('bert-base-uncased', output_attentions=True)\n",
        "\n",
        "# tokenize the text\n",
        "text = \"I am a dog\"\n",
        "input_ids = tokenizer.encode(text, return_tensors='pt')\n",
        "\n",
        "with torch.inference_mode():  # I prefer inference_mode over torch.no_grad()\n",
        "    output = model(input_ids)\n",
        "\n",
        "# getting the attention matrix for the first layer\n",
        "attention_matrix = output[2][0]"
      ],
      "metadata": {
        "colab": {
          "base_uri": "https://localhost:8080/"
        },
        "id": "RvwuPynuE9yG",
        "outputId": "80653f18-7741-4047-ac12-e51cec76487c"
      },
      "execution_count": 20,
      "outputs": [
        {
          "output_type": "stream",
          "name": "stderr",
          "text": [
            "Some weights of the model checkpoint at bert-base-uncased were not used when initializing BertModel: ['cls.predictions.transform.LayerNorm.bias', 'cls.seq_relationship.bias', 'cls.predictions.bias', 'cls.predictions.transform.LayerNorm.weight', 'cls.seq_relationship.weight', 'cls.predictions.transform.dense.bias', 'cls.predictions.transform.dense.weight']\n",
            "- This IS expected if you are initializing BertModel from the checkpoint of a model trained on another task or with another architecture (e.g. initializing a BertForSequenceClassification model from a BertForPreTraining model).\n",
            "- This IS NOT expected if you are initializing BertModel from the checkpoint of a model that you expect to be exactly identical (initializing a BertForSequenceClassification model from a BertForSequenceClassification model).\n"
          ]
        }
      ]
    },
    {
      "cell_type": "code",
      "source": [
        "attention_matrix.shape"
      ],
      "metadata": {
        "colab": {
          "base_uri": "https://localhost:8080/"
        },
        "id": "tkUIxMoJNge3",
        "outputId": "c7db9ba7-aad9-4a27-9472-ae5ed1409223"
      },
      "execution_count": 37,
      "outputs": [
        {
          "output_type": "execute_result",
          "data": {
            "text/plain": [
              "torch.Size([1, 12, 6, 6])"
            ]
          },
          "metadata": {},
          "execution_count": 37
        }
      ]
    },
    {
      "cell_type": "markdown",
      "source": [
        "### Visualizing Attention\n",
        "\n",
        "In order to visualize attention we will have to look at these attention heads. Each attention head outputs an attention matrix for the input we pass. Some attention matrices will be looking at some relationships between words and other attention matrices will extract or \"attend to\" different relationships in the input data.\n",
        "\n",
        "One way to visualize the attention that our model is paying to the tokens and the relationship between them is by averaging the attention heads. If you notice the shape of the attention matrix, it has 12 heads of 6x6. Our encoded text has length 6. Basically, the attention matrix is actually a stack of 12 attention matrices, each of size 6x6. If we ignore the [CLS] and [SEP] tokens, we can visualize how the model is attending to the words in the text, as shown below:"
      ],
      "metadata": {
        "id": "TG-617NXM7wV"
      }
    },
    {
      "cell_type": "code",
      "source": [
        "# avg attention weights across attention heads\n",
        "attention = attention_matrix.mean(dim=1).squeeze(0)\n",
        "\n",
        "tokens = tokenizer.convert_ids_to_tokens(input_ids[0])\n",
        "\n",
        "# clip attention so it doesn't include the CLS and SEP tokns:\n",
        "num_tokens = len(tokens) - 2 + 1\n",
        "word_attention = attention[1:num_tokens, 1:num_tokens]\n",
        "word_input_ids = tokens[1:num_tokens]\n",
        "\n",
        "# plot\n",
        "plt.figure(figsize=(7, 6))\n",
        "sns.heatmap(word_attention, xticklabels=word_input_ids, yticklabels=word_input_ids, annot=True)"
      ],
      "metadata": {
        "colab": {
          "base_uri": "https://localhost:8080/",
          "height": 545
        },
        "id": "-ryWAepMFv6X",
        "outputId": "21a0e077-a9c0-46fa-ad54-25ed2750c7cd"
      },
      "execution_count": 40,
      "outputs": [
        {
          "output_type": "execute_result",
          "data": {
            "text/plain": [
              "<Axes: >"
            ]
          },
          "metadata": {},
          "execution_count": 40
        },
        {
          "output_type": "display_data",
          "data": {
            "text/plain": [
              "<Figure size 700x600 with 2 Axes>"
            ],
            "image/png": "[encoded data removed]"
          },
          "metadata": {}
        }
      ]
    },
    {
      "cell_type": "markdown",
      "source": [
        "Notice that the highest relationship between words is given by the words \"I\" and \"am\" which makes sense since they are strongly related. The differences are small, but also bear in mind that this is very early stage in the attention mechanism, and there are 12 encoding blocks stacked togetehr as we saw above."
      ],
      "metadata": {
        "id": "pgytZAo6IcLU"
      }
    },
    {
      "cell_type": "code",
      "source": [],
      "metadata": {
        "id": "u01m2IzIH7Wf"
      },
      "execution_count": null,
      "outputs": []
    }
  ]
}