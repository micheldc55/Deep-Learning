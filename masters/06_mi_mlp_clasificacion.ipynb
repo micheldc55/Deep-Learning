{
  "nbformat": 4,
  "nbformat_minor": 0,
  "metadata": {
    "kernelspec": {
      "display_name": "Python 3",
      "language": "python",
      "name": "python3"
    },
    "language_info": {
      "codemirror_mode": {
        "name": "ipython",
        "version": 3
      },
      "file_extension": ".py",
      "mimetype": "text/x-python",
      "name": "python",
      "nbconvert_exporter": "python",
      "pygments_lexer": "ipython3",
      "version": "3.5.6"
    },
    "colab": {
      "name": "06-mi_mlp_clasificacion.ipynb",
      "provenance": [],
      "collapsed_sections": [],
      "include_colab_link": true
    }
  },
  "cells": [
    {
      "cell_type": "markdown",
      "metadata": {
        "id": "view-in-github",
        "colab_type": "text"
      },
      "source": [
        "<a href=\"https://colab.research.google.com/github/micheldc55/Deep-Learning/blob/main/06_mi_mlp_clasificacion.ipynb\" target=\"_parent\"><img src=\"https://colab.research.google.com/assets/colab-badge.svg\" alt=\"Open In Colab\"/></a>"
      ]
    },
    {
      "cell_type": "code",
      "metadata": {
        "id": "sHd0HoEITnNd"
      },
      "source": [
        "COLAB = True"
      ],
      "execution_count": null,
      "outputs": []
    },
    {
      "cell_type": "code",
      "metadata": {
        "id": "Dusz7BwrTpi7"
      },
      "source": [
        "if COLAB:\n",
        "    from google_drive_downloader import GoogleDriveDownloader as gdd\n",
        "    gdd.download_file_from_google_drive(file_id='1q2shS6fBq_pSI8CBrjzdgg6DTTZfZ2mJ',\n",
        "                                        dest_path='./funciones_auxiliares.py')\n",
        "    gdd.download_file_from_google_drive(file_id='1o2ZUFTRmKf9N8Dx4WDzF2fzaYGErpTlF',\n",
        "                                        dest_path='./datasets/fuga_clientes/fuga_clientes_empresa_telefonica_construccion.csv')"
      ],
      "execution_count": null,
      "outputs": []
    },
    {
      "cell_type": "code",
      "metadata": {
        "id": "RIf0UB0Y9vmN"
      },
      "source": [
        "!ls -la datasets/fuga_clientes"
      ],
      "execution_count": null,
      "outputs": []
    },
    {
      "cell_type": "code",
      "metadata": {
        "id": "kQ5A4z0DTiti"
      },
      "source": [
        "import numpy as np\n",
        "import pandas as pd\n",
        "import seaborn as sns\n",
        "import matplotlib.pyplot as plt\n",
        "from sklearn.metrics import roc_curve, auc, confusion_matrix\n",
        "\n",
        "%matplotlib inline"
      ],
      "execution_count": null,
      "outputs": []
    },
    {
      "cell_type": "code",
      "metadata": {
        "id": "DPepg-pYTiuk"
      },
      "source": [
        "FUGA_CLIENTES = True\n",
        "\n",
        "if FUGA_CLIENTES:\n",
        "    path = './datasets/fuga_clientes/'\n",
        "    X_df = pd.read_csv(path+'fuga_clientes_empresa_telefonica_construccion.csv')\n",
        "    X_df.drop('Customer ID', axis=1, inplace=True)\n",
        "    X = X_df.drop(\"Churn Status\", axis=1).values\n",
        "    y = X_df[\"Churn Status\"].values\n",
        "else:\n",
        "    from sklearn.datasets import load_breast_cancer\n",
        "    \n",
        "    a = load_breast_cancer()\n",
        "    \n",
        "    X = a.data\n",
        "    y = a.target\n",
        "    X_df = pd.DataFrame(columns=a.feature_names, data=X)\n",
        "    X_df[\"target\"] = y\n",
        "\n",
        "X_df[:5]"
      ],
      "execution_count": null,
      "outputs": []
    },
    {
      "cell_type": "code",
      "metadata": {
        "id": "fyFkZ1xSTivD"
      },
      "source": [
        "np.unique(y)"
      ],
      "execution_count": null,
      "outputs": []
    },
    {
      "cell_type": "code",
      "metadata": {
        "id": "nfQxg_rYTivi"
      },
      "source": [
        "X.shape"
      ],
      "execution_count": null,
      "outputs": []
    },
    {
      "cell_type": "code",
      "metadata": {
        "id": "sUenH4yqTiv7"
      },
      "source": [
        "y.shape"
      ],
      "execution_count": null,
      "outputs": []
    },
    {
      "cell_type": "code",
      "metadata": {
        "id": "UcUfEo75TiwX"
      },
      "source": [
        "import seaborn as sns\n",
        "\n",
        "sns.clustermap(X_df.corr(), vmin=-1, vmax=1, cmap='bwr');"
      ],
      "execution_count": null,
      "outputs": []
    },
    {
      "cell_type": "code",
      "metadata": {
        "id": "tDJ6bv_ZTiw4"
      },
      "source": [
        "#X_df.drop('AveBedrms', axis=1, inplace=True)\n",
        "#X_df.drop(['Latitude', 'Longitude'], axis=1, inplace=True)\n",
        "\n",
        "X_df[:5]"
      ],
      "execution_count": null,
      "outputs": []
    },
    {
      "cell_type": "code",
      "metadata": {
        "id": "ERHm-zrWTixK"
      },
      "source": [
        "from sklearn.model_selection import train_test_split\n",
        "\n",
        "X_train, X_test, y_train, y_test = train_test_split(X, y,\n",
        "                                                    test_size=0.3,\n",
        "                                                    random_state=1)"
      ],
      "execution_count": null,
      "outputs": []
    },
    {
      "cell_type": "code",
      "metadata": {
        "id": "KPlYjw1aTixb"
      },
      "source": [
        "from sklearn.linear_model import LogisticRegression\n",
        "from sklearn.preprocessing import StandardScaler\n",
        "\n",
        "sc = StandardScaler()\n",
        "sc.fit(X_train)\n",
        "X_train_sc = sc.transform(X_train)\n",
        "X_test_sc  = sc.transform(X_test)\n",
        "\n",
        "model = LogisticRegression()\n",
        "model"
      ],
      "execution_count": null,
      "outputs": []
    },
    {
      "cell_type": "code",
      "metadata": {
        "id": "fx8mUFyLTixp"
      },
      "source": [
        "model.fit(X_train_sc, y_train)\n",
        "y_train_pred = model.predict(X_train_sc)\n",
        "y_test_pred  = model.predict(X_test_sc)"
      ],
      "execution_count": null,
      "outputs": []
    },
    {
      "cell_type": "markdown",
      "metadata": {
        "id": "3cKhV646Tix8"
      },
      "source": [
        "### Primero estandarizo"
      ]
    },
    {
      "cell_type": "code",
      "metadata": {
        "id": "uKbHNiNTTiyA"
      },
      "source": [
        "from sklearn.preprocessing import StandardScaler\n",
        "\n",
        "sc = StandardScaler()\n",
        "sc.fit(X_train)\n",
        "X_train_sc = sc.transform(X_train)\n",
        "X_test_sc  = sc.transform(X_test)"
      ],
      "execution_count": null,
      "outputs": []
    },
    {
      "cell_type": "code",
      "metadata": {
        "id": "lrDl4ozvTiyS"
      },
      "source": [
        "from sklearn.linear_model import LogisticRegression\n",
        "\n",
        "model = LogisticRegression()\n",
        "model.fit(X_train_sc, y_train)\n",
        "y_train_pred = model.predict(X_train_sc)\n",
        "y_test_pred  = model.predict(X_test_sc)"
      ],
      "execution_count": null,
      "outputs": []
    },
    {
      "cell_type": "code",
      "metadata": {
        "id": "SegpGqz8Tiyk"
      },
      "source": [
        "from sklearn.metrics import accuracy_score\n",
        "\n",
        "print(accuracy_score(y_train, y_train_pred))\n",
        "print(accuracy_score(y_test,  y_test_pred))"
      ],
      "execution_count": null,
      "outputs": []
    },
    {
      "cell_type": "markdown",
      "metadata": {
        "id": "ztTbjCZ8Tiyy"
      },
      "source": [
        "### MLP implementado a mano"
      ]
    },
    {
      "cell_type": "code",
      "metadata": {
        "id": "cAhB6BM6Tiy1"
      },
      "source": [
        "np.clip([0,-1,2], 0, None)"
      ],
      "execution_count": null,
      "outputs": []
    },
    {
      "cell_type": "code",
      "metadata": {
        "id": "omF9Y6hUTizF"
      },
      "source": [
        "def my_model(x, W):\n",
        "    bI, WI, bH, WH = W\n",
        "    salida_oculta = np.clip(bI + x.dot(WI), 0, None)\n",
        "    aux = bH + salida_oculta.dot(WH)\n",
        "    return 1/(1+np.exp(-aux))"
      ],
      "execution_count": null,
      "outputs": []
    },
    {
      "cell_type": "code",
      "metadata": {
        "id": "UUjO9_5WTizR"
      },
      "source": [
        "Noc = 2\n",
        "w = np.array([np.random.randn(Noc),\n",
        "              np.random.randn(X.shape[1], Noc),\n",
        "              np.random.randn(1),\n",
        "              np.random.randn(Noc)], dtype=object)\n",
        "w"
      ],
      "execution_count": null,
      "outputs": []
    },
    {
      "cell_type": "code",
      "metadata": {
        "id": "mjZE0rYOTizf"
      },
      "source": [
        "print(X_train[0].shape)\n",
        "print(w.shape)"
      ],
      "execution_count": null,
      "outputs": []
    },
    {
      "cell_type": "code",
      "metadata": {
        "id": "e3Zgpfw5Tizq"
      },
      "source": [
        "my_model(X_train_sc[0:10], w)"
      ],
      "execution_count": null,
      "outputs": []
    },
    {
      "cell_type": "code",
      "metadata": {
        "id": "6KHfU4CyTiz2"
      },
      "source": [
        "from sklearn.metrics import log_loss\n",
        "\n",
        "def mi_funcion_error(data, w):\n",
        "    eps = 1e-20\n",
        "    X, y = data\n",
        "    ypred = my_model(X, w)\n",
        "    return (-y*np.log(eps+ypred) - (1-y)*np.log(eps+(1-ypred))).mean() + 0.001*(w**2).sum().sum()\n",
        "\n",
        "\n",
        "def mi_funcion_error2(data, w):\n",
        "    X, y = data\n",
        "    ypred = my_model(X, w)\n",
        "    return log_loss(y, ypred)\n"
      ],
      "execution_count": null,
      "outputs": []
    },
    {
      "cell_type": "code",
      "metadata": {
        "id": "i-0H3xWjTi0F"
      },
      "source": [
        "def calcula_grad(funcion, data, W, eps=1e-4):\n",
        "    fw = funcion(data, W)\n",
        "    bI, WI, bH, WH = W.copy()\n",
        "    grad_bI = 0*bI\n",
        "    grad_WI = 0*WI\n",
        "    grad_bH = 0*bH\n",
        "    grad_WH = 0*WH\n",
        "    \n",
        "    # perturbaciones en bI\n",
        "    for i in range(len(bI)):\n",
        "        a = bI[i]\n",
        "        bI[i] += eps\n",
        "        fw2 = funcion(data, np.array([bI, WI, bH, WH], dtype=object))\n",
        "        grad_bI[i] = (fw2 - fw) / eps\n",
        "        bI[i] = a\n",
        "    \n",
        "    # perturbaciones en WI\n",
        "    for i in range(WI.shape[0]):\n",
        "        for j in range(WI.shape[1]):\n",
        "            a = WI[i,j]\n",
        "            WI[i,j] += eps\n",
        "            fw2 = funcion(data, np.array([bI, WI, bH, WH], dtype=object))\n",
        "            grad_WI[i,j] = (fw2 - fw) / eps\n",
        "            WI[i,j] = a\n",
        "    \n",
        "    # perturbaciones en bH\n",
        "    a = bH[0]\n",
        "    bH += eps\n",
        "    fw2 = funcion(data, np.array([bI, WI, bH, WH], dtype=object))\n",
        "    grad_bH[0] = (fw2 - fw) / eps\n",
        "    bH[0] = a\n",
        "\n",
        "    # perturbaciones en WH\n",
        "    for i in range(len(WH)):\n",
        "        a = WH[i]\n",
        "        WH[i] += eps\n",
        "        fw2 = funcion(data, np.array([bI, WI, bH, WH], dtype=object))\n",
        "        grad_WH[i] = (fw2 - fw) / eps\n",
        "        WH[i] = a\n",
        "    \n",
        "    return np.array([grad_bI, grad_WI, grad_bH, grad_WH], dtype=object)"
      ],
      "execution_count": null,
      "outputs": []
    },
    {
      "cell_type": "code",
      "metadata": {
        "id": "yr3Sl7_rTi0R"
      },
      "source": [
        "calcula_grad(my_model, X_train_sc[:1], w)"
      ],
      "execution_count": null,
      "outputs": []
    },
    {
      "cell_type": "code",
      "metadata": {
        "id": "HVUoIZF1Ti0h"
      },
      "source": [
        "X_train_sc[0]"
      ],
      "execution_count": null,
      "outputs": []
    },
    {
      "cell_type": "code",
      "metadata": {
        "id": "QZCHBUewTi0y"
      },
      "source": [
        "X_train_sc[1]"
      ],
      "execution_count": null,
      "outputs": []
    },
    {
      "cell_type": "code",
      "metadata": {
        "id": "v72MRO7cTi1A"
      },
      "source": [
        "w"
      ],
      "execution_count": null,
      "outputs": []
    },
    {
      "cell_type": "code",
      "metadata": {
        "id": "E965niDuTi1P"
      },
      "source": [
        "#mi_funcion_error(my_model, (X_train_sc[:10], y_train_sc[:10]), w)\n",
        "mi_funcion_error((X_train_sc[:10], y_train[:10]), w)"
      ],
      "execution_count": null,
      "outputs": []
    },
    {
      "cell_type": "code",
      "metadata": {
        "id": "1YsyA4jETi1c"
      },
      "source": [
        "(w**2).sum().sum()"
      ],
      "execution_count": null,
      "outputs": []
    },
    {
      "cell_type": "code",
      "metadata": {
        "id": "oNYiCl72Ti1n"
      },
      "source": [
        "calcula_grad(mi_funcion_error, (X_train_sc[0:10], y_train[0:10]), w)"
      ],
      "execution_count": null,
      "outputs": []
    },
    {
      "cell_type": "markdown",
      "metadata": {
        "id": "yzx6FsdyTi12"
      },
      "source": [
        "### Entrenamiento con batch"
      ]
    },
    {
      "cell_type": "code",
      "metadata": {
        "id": "KYRVQ7IkTi13"
      },
      "source": [
        "alpha = 2\n",
        "nepocas = 200\n",
        "batch_size = 20\n",
        "Ntr = len(X_train_sc)\n",
        "\n",
        "Noc = 2*5\n",
        "w = np.array([np.random.randn(Noc),\n",
        "              np.random.randn(X.shape[1], Noc),\n",
        "              np.random.randn(1),\n",
        "              np.random.randn(Noc)], dtype=object)\n",
        "\n",
        "errores_tr = []\n",
        "alpha_norm = alpha/batch_size\n",
        "\n",
        "for e in range(nepocas):\n",
        "    for b in range(0, Ntr, batch_size):\n",
        "        X_lote = X_train_sc[b:(b+batch_size)]\n",
        "        y_lote = y_train   [b:(b+batch_size)]\n",
        "        grad = calcula_grad(mi_funcion_error, (X_lote,y_lote), w)\n",
        "        w -= alpha_norm*grad\n",
        "        \n",
        "    error_total_tr = mi_funcion_error((X_train_sc,y_train), w)\n",
        "    print(\"Error en training en época {}: {}\".format(e, error_total_tr))\n",
        "    errores_tr.append(error_total_tr)"
      ],
      "execution_count": null,
      "outputs": []
    },
    {
      "cell_type": "code",
      "metadata": {
        "id": "_5MFS7ylTi2D"
      },
      "source": [
        "plt.figure(figsize=(12,3))\n",
        "plt.plot(errores_tr, label='error_total_tr')\n",
        "plt.xlabel(\"época\", fontsize=14)\n",
        "plt.ylabel(\"error\", fontsize=14)\n",
        "plt.legend();"
      ],
      "execution_count": null,
      "outputs": []
    },
    {
      "cell_type": "code",
      "metadata": {
        "id": "dZaODswuTi2N"
      },
      "source": [
        "y_tr_preds = 1*(my_model(X_train_sc, w)>0.5)\n",
        "y_te_preds = 1*(my_model(X_test_sc, w)>0.5)\n",
        "\n",
        "y_tr_preds"
      ],
      "execution_count": null,
      "outputs": []
    },
    {
      "cell_type": "code",
      "metadata": {
        "id": "84b_YguJTi2Y"
      },
      "source": [
        "print(accuracy_score(y_train, y_tr_preds))\n",
        "print(accuracy_score(y_test,  y_te_preds))"
      ],
      "execution_count": null,
      "outputs": []
    },
    {
      "cell_type": "code",
      "metadata": {
        "id": "Jez3wXLGTi2i"
      },
      "source": [
        ""
      ],
      "execution_count": null,
      "outputs": []
    }
  ]
}
