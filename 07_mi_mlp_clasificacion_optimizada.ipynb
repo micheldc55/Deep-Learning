{
  "nbformat": 4,
  "nbformat_minor": 0,
  "metadata": {
    "kernelspec": {
      "display_name": "Python 3",
      "language": "python",
      "name": "python3"
    },
    "language_info": {
      "codemirror_mode": {
        "name": "ipython",
        "version": 3
      },
      "file_extension": ".py",
      "mimetype": "text/x-python",
      "name": "python",
      "nbconvert_exporter": "python",
      "pygments_lexer": "ipython3",
      "version": "3.5.6"
    },
    "colab": {
      "name": "07-mi_mlp_clasificacion_optimizada.ipynb",
      "provenance": [],
      "collapsed_sections": [],
      "include_colab_link": true
    }
  },
  "cells": [
    {
      "cell_type": "markdown",
      "metadata": {
        "id": "view-in-github",
        "colab_type": "text"
      },
      "source": [
        "<a href=\"https://colab.research.google.com/github/micheldc55/Deep-Learning/blob/main/07_mi_mlp_clasificacion_optimizada.ipynb\" target=\"_parent\"><img src=\"https://colab.research.google.com/assets/colab-badge.svg\" alt=\"Open In Colab\"/></a>"
      ]
    },
    {
      "cell_type": "code",
      "metadata": {
        "id": "dvzrrTAGU0PB"
      },
      "source": [
        "COLAB = True"
      ],
      "execution_count": null,
      "outputs": []
    },
    {
      "cell_type": "code",
      "metadata": {
        "id": "zRIiw4YmU13Y"
      },
      "source": [
        "if COLAB:\n",
        "    from google_drive_downloader import GoogleDriveDownloader as gdd\n",
        "    gdd.download_file_from_google_drive(file_id='1q2shS6fBq_pSI8CBrjzdgg6DTTZfZ2mJ',\n",
        "                                        dest_path='./funciones_auxiliares.py')\n",
        "    gdd.download_file_from_google_drive(file_id='1o2ZUFTRmKf9N8Dx4WDzF2fzaYGErpTlF',\n",
        "                                        dest_path='./datasets/fuga_clientes/fuga_clientes_empresa_telefonica_construccion.csv')"
      ],
      "execution_count": null,
      "outputs": []
    },
    {
      "cell_type": "code",
      "metadata": {
        "id": "gryO5JhpUtd7"
      },
      "source": [
        "import numpy as np\n",
        "import pandas as pd\n",
        "import seaborn as sns\n",
        "import matplotlib.pyplot as plt\n",
        "from sklearn.metrics import roc_curve, auc, confusion_matrix\n",
        "\n",
        "%matplotlib inline"
      ],
      "execution_count": null,
      "outputs": []
    },
    {
      "cell_type": "code",
      "metadata": {
        "id": "RsqIuY-kUthF"
      },
      "source": [
        "FUGA_CLIENTES = True\n",
        "\n",
        "if FUGA_CLIENTES:\n",
        "    path = './datasets/fuga_clientes/'\n",
        "    X_df = pd.read_csv(path+'fuga_clientes_empresa_telefonica_construccion.csv')\n",
        "    X_df.drop('Customer ID', axis=1, inplace=True)\n",
        "    X = X_df.drop(\"Churn Status\", axis=1).values\n",
        "    y = X_df[\"Churn Status\"].values\n",
        "else:\n",
        "    from sklearn.datasets import load_breast_cancer\n",
        "    \n",
        "    a = load_breast_cancer()\n",
        "    \n",
        "    X = a.data\n",
        "    y = a.target\n",
        "    X_df = pd.DataFrame(columns=a.feature_names, data=X)\n",
        "    X_df[\"target\"] = y\n",
        "\n",
        "X_df[:5]"
      ],
      "execution_count": null,
      "outputs": []
    },
    {
      "cell_type": "code",
      "metadata": {
        "id": "wo8CaDzmUthx"
      },
      "source": [
        "np.unique(y)"
      ],
      "execution_count": null,
      "outputs": []
    },
    {
      "cell_type": "code",
      "metadata": {
        "id": "Ljpc_4OdUtiR"
      },
      "source": [
        "X.shape"
      ],
      "execution_count": null,
      "outputs": []
    },
    {
      "cell_type": "code",
      "metadata": {
        "id": "M5Vb-9UaUtiw"
      },
      "source": [
        "y.shape"
      ],
      "execution_count": null,
      "outputs": []
    },
    {
      "cell_type": "code",
      "metadata": {
        "id": "vfkGgtVeUtjO"
      },
      "source": [
        "import seaborn as sns\n",
        "\n",
        "sns.clustermap(X_df.corr(), vmin=-1, vmax=1, cmap='bwr');"
      ],
      "execution_count": null,
      "outputs": []
    },
    {
      "cell_type": "code",
      "metadata": {
        "id": "5XSIZEVbUtjo"
      },
      "source": [
        "#X_df.drop('AveBedrms', axis=1, inplace=True)\n",
        "#X_df.drop(['Latitude', 'Longitude'], axis=1, inplace=True)\n",
        "\n",
        "X_df[:5]"
      ],
      "execution_count": null,
      "outputs": []
    },
    {
      "cell_type": "code",
      "metadata": {
        "id": "r3-ioneYUtkD"
      },
      "source": [
        "from sklearn.model_selection import train_test_split\n",
        "\n",
        "X_train, X_test, y_train, y_test = train_test_split(X, y,\n",
        "                                                    test_size=0.3,\n",
        "                                                    random_state=1)"
      ],
      "execution_count": null,
      "outputs": []
    },
    {
      "cell_type": "code",
      "metadata": {
        "id": "sCvb6QgyUtkY"
      },
      "source": [
        "from sklearn.linear_model import LogisticRegression\n",
        "from sklearn.preprocessing import StandardScaler\n",
        "\n",
        "sc = StandardScaler()\n",
        "sc.fit(X_train)\n",
        "X_train_sc = sc.transform(X_train)\n",
        "X_test_sc  = sc.transform(X_test)\n",
        "\n",
        "model = LogisticRegression()\n",
        "model"
      ],
      "execution_count": null,
      "outputs": []
    },
    {
      "cell_type": "code",
      "metadata": {
        "id": "A10aQRSQUtkt"
      },
      "source": [
        "model.fit(X_train_sc, y_train)\n",
        "y_train_pred = model.predict(X_train_sc)\n",
        "y_test_pred  = model.predict(X_test_sc)"
      ],
      "execution_count": null,
      "outputs": []
    },
    {
      "cell_type": "markdown",
      "metadata": {
        "id": "BYUKRfGWUtlE"
      },
      "source": [
        "### Primero estandarizo"
      ]
    },
    {
      "cell_type": "code",
      "metadata": {
        "id": "TmUESWo_UtlI"
      },
      "source": [
        "from sklearn.preprocessing import StandardScaler\n",
        "\n",
        "sc = StandardScaler()\n",
        "sc.fit(X_train)\n",
        "X_train_sc = sc.transform(X_train)\n",
        "X_test_sc  = sc.transform(X_test)"
      ],
      "execution_count": null,
      "outputs": []
    },
    {
      "cell_type": "markdown",
      "metadata": {
        "id": "Lvb7OaVEUtlf"
      },
      "source": [
        "### Pruebo una regresión logística"
      ]
    },
    {
      "cell_type": "code",
      "metadata": {
        "id": "Ux3S99C8Utlj"
      },
      "source": [
        "from sklearn.linear_model import LogisticRegression\n",
        "\n",
        "model = LogisticRegression()\n",
        "model.fit(X_train_sc, y_train)\n",
        "y_train_pred = model.predict(X_train_sc)\n",
        "y_test_pred  = model.predict(X_test_sc)"
      ],
      "execution_count": null,
      "outputs": []
    },
    {
      "cell_type": "code",
      "metadata": {
        "id": "xrZP1zR6Utl5"
      },
      "source": [
        "from sklearn.metrics import accuracy_score\n",
        "\n",
        "print(accuracy_score(y_train, y_train_pred))\n",
        "print(accuracy_score(y_test,  y_test_pred))"
      ],
      "execution_count": null,
      "outputs": []
    },
    {
      "cell_type": "markdown",
      "metadata": {
        "id": "uk8j4bM_UtmN"
      },
      "source": [
        "### MLP implementado a mano"
      ]
    },
    {
      "cell_type": "code",
      "metadata": {
        "id": "_kJ35yrEUtmT"
      },
      "source": [
        "np.clip([0,-1,2], 0, None)"
      ],
      "execution_count": null,
      "outputs": []
    },
    {
      "cell_type": "code",
      "metadata": {
        "id": "p2qK-E4EUtmm"
      },
      "source": [
        "def my_model(x, W, hidden_state=False):\n",
        "    bI, WI, bH, WH = W\n",
        "    salida_oculta = np.maximum(bI + x.dot(WI), 0)\n",
        "    aux = bH + salida_oculta.dot(WH)\n",
        "    \n",
        "    if not hidden_state:\n",
        "        return 1/(1+np.exp(-aux))\n",
        "    else:\n",
        "        return 1/(1+np.exp(-aux)), salida_oculta\n"
      ],
      "execution_count": null,
      "outputs": []
    },
    {
      "cell_type": "code",
      "metadata": {
        "id": "nS5jFoD1Utm6"
      },
      "source": [
        "Noc = 2\n",
        "w = np.array([np.random.randn(Noc),\n",
        "              np.random.randn(X.shape[1], Noc),\n",
        "              np.random.randn(1),\n",
        "              np.random.randn(Noc)], dtype=object)\n",
        "w"
      ],
      "execution_count": null,
      "outputs": []
    },
    {
      "cell_type": "code",
      "metadata": {
        "id": "xzUfYCDTUtnN"
      },
      "source": [
        "print(X_train[0].shape)\n",
        "print(w.shape)"
      ],
      "execution_count": null,
      "outputs": []
    },
    {
      "cell_type": "code",
      "metadata": {
        "id": "WYYN156RUtne"
      },
      "source": [
        "my_model(X_train_sc[0:10], w)"
      ],
      "execution_count": null,
      "outputs": []
    },
    {
      "cell_type": "code",
      "metadata": {
        "id": "ps00vtYoUtnw"
      },
      "source": [
        "def calcula_grad_mlp(data, w):\n",
        "    W0, W1, W2, W3 = w\n",
        "    X, y = data\n",
        "    y_preds, salidas_ocultas = my_model(X, w, hidden_state=True)\n",
        "\n",
        "    grad_W0 = W0.copy()*0\n",
        "    grad_W1 = W1.copy()*0\n",
        "    grad_W2 = W2.copy()*0\n",
        "    grad_W3 = W3.copy()*0\n",
        "    \n",
        "    Nocultas = len(grad_W0)\n",
        "    \n",
        "    for x_i,y_i,y_pred_i,hidden in zip(X,y,y_preds,salidas_ocultas):\n",
        "        aux = y_pred_i - y_i\n",
        "        grad_W2 += aux\n",
        "        grad_W3 += aux*hidden\n",
        "        for h in range(Nocultas):\n",
        "            if hidden[h]>0:\n",
        "                grad_W0[h] += aux*W3[h]\n",
        "                grad_W1[:,h] += aux*W3[h]*x_i\n",
        "         \n",
        "    return np.array([grad_W0, grad_W1, grad_W2, grad_W3])"
      ],
      "execution_count": null,
      "outputs": []
    },
    {
      "cell_type": "code",
      "metadata": {
        "id": "5Kfo0XZYUtn-"
      },
      "source": [
        "def calcula_grad_mlp2(data, W):\n",
        "    bI, WI, bH, WH = W\n",
        "    X, y = data\n",
        "    y_preds, salidas_ocultas = my_model(X, W, hidden_state=True)\n",
        "\n",
        "    grad_bI = bI.copy()*0\n",
        "    grad_WI = WI.copy()*0\n",
        "    grad_bH = bH.copy()*0\n",
        "    grad_WH = WH.copy()*0\n",
        "    \n",
        "    Nocultas = len(grad_bI)\n",
        "    \n",
        "    for x_i,y_i,y_pred_i,hidden in zip(X,y,y_preds,salidas_ocultas):\n",
        "        aux = y_pred_i - y_i\n",
        "        grad_bH += aux\n",
        "        grad_WH += aux*hidden\n",
        "        for h in range(Nocultas):\n",
        "            if hidden[h]>0:\n",
        "                grad_bI[h] += aux*WH[h]\n",
        "                grad_WI[:,h] += aux*WH[h]*x_i\n",
        "         \n",
        "    return np.array([grad_bI, grad_WI, grad_bH, grad_WH], dtype=object)\n",
        "\n",
        "\n",
        "def calcula_grad_mlp(data, W):\n",
        "    bI, WI, bH, WH = W\n",
        "    X, y = data\n",
        "    y_preds, salidas_ocultas = my_model(X, W, hidden_state=True)\n",
        "    aux = y_preds - y\n",
        "    grad_bH = np.array([sum(aux)])\n",
        "    grad_WH = aux.dot(salidas_ocultas)    \n",
        "    a = np.outer(aux, WH)\n",
        "    a[salidas_ocultas<=0] = 0\n",
        "    grad_WI = X.T.dot(a)    \n",
        "    grad_bI = a.sum(axis=0)\n",
        "         \n",
        "    return np.array([grad_bI, grad_WI, grad_bH, grad_WH], dtype=object)\n"
      ],
      "execution_count": null,
      "outputs": []
    },
    {
      "cell_type": "code",
      "metadata": {
        "id": "Q23-9j2mUtoO"
      },
      "source": [
        "a=w[3][:4]\n",
        "a"
      ],
      "execution_count": null,
      "outputs": []
    },
    {
      "cell_type": "code",
      "metadata": {
        "id": "L8gMcOo7Utok"
      },
      "source": [
        "np.outer(a,a)"
      ],
      "execution_count": null,
      "outputs": []
    },
    {
      "cell_type": "code",
      "metadata": {
        "id": "MC7fWrQGUto1"
      },
      "source": [
        "a = calcula_grad_mlp((X_train_sc, y_train), w)"
      ],
      "execution_count": null,
      "outputs": []
    },
    {
      "cell_type": "code",
      "metadata": {
        "id": "VewTGVXeUtpE"
      },
      "source": [
        "b = calcula_grad_mlp2((X_train_sc, y_train), w)"
      ],
      "execution_count": null,
      "outputs": []
    },
    {
      "cell_type": "code",
      "metadata": {
        "id": "DnQz_wYzUtpY"
      },
      "source": [
        "np.abs(a-b).sum().sum()"
      ],
      "execution_count": null,
      "outputs": []
    },
    {
      "cell_type": "markdown",
      "metadata": {
        "id": "TTKFW_0wUtpo"
      },
      "source": [
        "### Entrenamiento con batch"
      ]
    },
    {
      "cell_type": "code",
      "metadata": {
        "id": "bUyRC9R8Utpr"
      },
      "source": [
        "X_train_sc.shape"
      ],
      "execution_count": null,
      "outputs": []
    },
    {
      "cell_type": "code",
      "metadata": {
        "id": "dTRsfzPeUtp5"
      },
      "source": [
        "from sklearn.metrics import log_loss"
      ],
      "execution_count": null,
      "outputs": []
    },
    {
      "cell_type": "code",
      "metadata": {
        "id": "LB0g_OCnUtqL"
      },
      "source": [
        "alpha = 0.5\n",
        "nepocas = 1500\n",
        "batch_size = 100\n",
        "Ntr = len(X_train_sc)\n",
        "\n",
        "Noc = 2*5\n",
        "w = np.array([np.random.randn(Noc),\n",
        "              np.random.randn(X.shape[1], Noc),\n",
        "              np.random.randn(1),\n",
        "              np.random.randn(Noc)], dtype=object)\n",
        "\n",
        "errores_tr = []\n",
        "alpha_norm = alpha/batch_size\n",
        "\n",
        "for e in range(nepocas):\n",
        "    for b in range(0, Ntr, batch_size):\n",
        "        X_lote = X_train_sc[b:(b+batch_size)]\n",
        "        y_lote = y_train   [b:(b+batch_size)]\n",
        "        grad = calcula_grad_mlp((X_lote,y_lote), w)\n",
        "        w -= alpha_norm*grad\n",
        "        \n",
        "    error_total_tr = log_loss(y_train, my_model(X_train_sc, w))\n",
        "    print(\"Error en training en época {}: {}\".format(e, error_total_tr))\n",
        "    errores_tr.append(error_total_tr)"
      ],
      "execution_count": null,
      "outputs": []
    },
    {
      "cell_type": "code",
      "metadata": {
        "id": "tf05Q0GAUtqX"
      },
      "source": [
        "grad[1].shape"
      ],
      "execution_count": null,
      "outputs": []
    },
    {
      "cell_type": "code",
      "metadata": {
        "id": "zgjQg_9iUtqm"
      },
      "source": [
        "errores_tr = np.array(errores_tr)"
      ],
      "execution_count": null,
      "outputs": []
    },
    {
      "cell_type": "code",
      "metadata": {
        "id": "0jQJYaALUtq1"
      },
      "source": [
        "plt.figure(figsize=(12,3))\n",
        "plt.plot(errores_tr, label='error_total_tr')\n",
        "plt.xlabel(\"época\", fontsize=14)\n",
        "plt.ylabel(\"error\", fontsize=14)\n",
        "plt.legend()\n",
        "plt.show()\n",
        "plt.figure(figsize=(12,3))\n",
        "aux = (errores_tr[100:]-errores_tr[:-100])[:]\n",
        "plt.plot(aux, label='diff_error_total_tr')\n",
        "plt.plot([0,len(aux)],[0,0], 'r')\n",
        "plt.xlabel(\"época\", fontsize=14)\n",
        "plt.ylabel(\"diff. error\", fontsize=14)\n",
        "plt.legend();"
      ],
      "execution_count": null,
      "outputs": []
    },
    {
      "cell_type": "code",
      "metadata": {
        "id": "vXBuF5-VUtrC"
      },
      "source": [
        "y_tr_preds = 1*(my_model(X_train_sc, w)>0.5)\n",
        "y_te_preds = 1*(my_model(X_test_sc, w)>0.5)\n",
        "\n",
        "y_tr_preds"
      ],
      "execution_count": null,
      "outputs": []
    },
    {
      "cell_type": "code",
      "metadata": {
        "id": "zJ13qrUCUtrN"
      },
      "source": [
        "print(accuracy_score(y_train, y_tr_preds))\n",
        "print(accuracy_score(y_test,  y_te_preds))"
      ],
      "execution_count": null,
      "outputs": []
    },
    {
      "cell_type": "code",
      "metadata": {
        "id": "I6UQEByhUtrZ"
      },
      "source": [
        ""
      ],
      "execution_count": null,
      "outputs": []
    }
  ]
}