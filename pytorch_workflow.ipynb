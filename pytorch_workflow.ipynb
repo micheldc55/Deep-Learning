{
  "nbformat": 4,
  "nbformat_minor": 0,
  "metadata": {
    "colab": {
      "provenance": [],
      "toc_visible": true,
      "authorship_tag": "ABX9TyNzXHLIpjaJC2rPeuetUThW",
      "include_colab_link": true
    },
    "kernelspec": {
      "name": "python3",
      "display_name": "Python 3"
    },
    "language_info": {
      "name": "python"
    }
  },
  "cells": [
    {
      "cell_type": "markdown",
      "metadata": {
        "id": "view-in-github",
        "colab_type": "text"
      },
      "source": [
        "<a href=\"https://colab.research.google.com/github/micheldc55/Deep-Learning/blob/main/pytorch_workflow.ipynb\" target=\"_parent\"><img src=\"https://colab.research.google.com/assets/colab-badge.svg\" alt=\"Open In Colab\"/></a>"
      ]
    },
    {
      "cell_type": "markdown",
      "source": [
        "# The Pytorch Workflow"
      ],
      "metadata": {
        "id": "WHtChWVOhiLo"
      }
    },
    {
      "cell_type": "code",
      "execution_count": 70,
      "metadata": {
        "id": "zVYHfVxOhQvl"
      },
      "outputs": [],
      "source": [
        "import torch\n",
        "import pandas as pd\n",
        "import numpy as np\n",
        "import matplotlib.pyplot as plt\n",
        "import pathlib"
      ]
    },
    {
      "cell_type": "code",
      "source": [
        "torch.__version__"
      ],
      "metadata": {
        "colab": {
          "base_uri": "https://localhost:8080/",
          "height": 36
        },
        "id": "gjvLC4w2ijd0",
        "outputId": "5c2cd059-42ba-4f25-c703-beb2c8cb0f98"
      },
      "execution_count": 2,
      "outputs": [
        {
          "output_type": "execute_result",
          "data": {
            "text/plain": [
              "'1.13.1+cu116'"
            ],
            "application/vnd.google.colaboratory.intrinsic+json": {
              "type": "string"
            }
          },
          "metadata": {},
          "execution_count": 2
        }
      ]
    },
    {
      "cell_type": "markdown",
      "source": [
        "There are a few steps that we are going to conduct when facing a Deep Learning model in PyTorch:\n",
        "\n",
        "1) Prepare and load the data\n",
        "\n",
        "2) Build the model architecture\n",
        "\n",
        "3) Fit the model to the data\n",
        "\n",
        "4) Make model predictions and evaluate the model\n",
        "\n",
        "5) Save/Re-load the model\n",
        "\n",
        "6) Put it all into a pipeline"
      ],
      "metadata": {
        "id": "HQId9WdyhwrX"
      }
    },
    {
      "cell_type": "markdown",
      "source": [
        "## Prepare and load the data\n",
        "\n",
        "Preparing the data refers to converting our data (images, text, audio, video, etc.) to tensors (numerical representation) that can be fed to the ML/DL model.\n",
        "\n",
        "Let's create an artificial dataset using the Linear Regression formula:\n",
        "\n",
        "$y = a + bx$"
      ],
      "metadata": {
        "id": "3rwI0zaTjO-x"
      }
    },
    {
      "cell_type": "code",
      "source": [
        "weight = 0.7\n",
        "bias = 0.3"
      ],
      "metadata": {
        "id": "pem-WQbzhqJR"
      },
      "execution_count": 3,
      "outputs": []
    },
    {
      "cell_type": "markdown",
      "source": [
        "Create synthetic data:"
      ],
      "metadata": {
        "id": "WLRqJCjfkJM4"
      }
    },
    {
      "cell_type": "code",
      "source": [
        "start = 0\n",
        "end = 1\n",
        "step = 0.02\n",
        "X = torch.arange(start, end, step).unsqueeze(dim=1)\n",
        "y = weight * X + bias"
      ],
      "metadata": {
        "id": "nQQlVwUskCgO"
      },
      "execution_count": 4,
      "outputs": []
    },
    {
      "cell_type": "code",
      "source": [
        "len(X), len(y)"
      ],
      "metadata": {
        "colab": {
          "base_uri": "https://localhost:8080/"
        },
        "id": "hkZmDuCOkW1J",
        "outputId": "2e94c748-5a28-4b8b-87f8-2c6bce262033"
      },
      "execution_count": 5,
      "outputs": [
        {
          "output_type": "execute_result",
          "data": {
            "text/plain": [
              "(50, 50)"
            ]
          },
          "metadata": {},
          "execution_count": 5
        }
      ]
    },
    {
      "cell_type": "code",
      "source": [
        "X[:10]"
      ],
      "metadata": {
        "colab": {
          "base_uri": "https://localhost:8080/"
        },
        "id": "3QvMl1M8keM5",
        "outputId": "65c93b7c-6bf6-48fa-8b11-52e1286ba0dc"
      },
      "execution_count": 6,
      "outputs": [
        {
          "output_type": "execute_result",
          "data": {
            "text/plain": [
              "tensor([[0.0000],\n",
              "        [0.0200],\n",
              "        [0.0400],\n",
              "        [0.0600],\n",
              "        [0.0800],\n",
              "        [0.1000],\n",
              "        [0.1200],\n",
              "        [0.1400],\n",
              "        [0.1600],\n",
              "        [0.1800]])"
            ]
          },
          "metadata": {},
          "execution_count": 6
        }
      ]
    },
    {
      "cell_type": "markdown",
      "source": [
        "## Splitting the Data"
      ],
      "metadata": {
        "id": "kVQ2JOE_2IW-"
      }
    },
    {
      "cell_type": "code",
      "source": [
        "train_split = int(0.8 * len(X))\n",
        "train_split"
      ],
      "metadata": {
        "colab": {
          "base_uri": "https://localhost:8080/"
        },
        "id": "t2-HotpfkqhH",
        "outputId": "1d1de429-ec90-4019-80a4-a338362a19b0"
      },
      "execution_count": 8,
      "outputs": [
        {
          "output_type": "execute_result",
          "data": {
            "text/plain": [
              "40"
            ]
          },
          "metadata": {},
          "execution_count": 8
        }
      ]
    },
    {
      "cell_type": "code",
      "source": [
        "X_train, y_train = X[:train_split], y[:train_split]\n",
        "X_test, y_test   = X[train_split:], y[train_split:]"
      ],
      "metadata": {
        "id": "ZXPCvWMM393Y"
      },
      "execution_count": 9,
      "outputs": []
    },
    {
      "cell_type": "code",
      "source": [
        "len(X_train), len(y_train)"
      ],
      "metadata": {
        "colab": {
          "base_uri": "https://localhost:8080/"
        },
        "id": "CfGUqwgx4S4T",
        "outputId": "3befb2b7-c522-4afd-eab7-6af8058a8056"
      },
      "execution_count": 12,
      "outputs": [
        {
          "output_type": "execute_result",
          "data": {
            "text/plain": [
              "(40, 40)"
            ]
          },
          "metadata": {},
          "execution_count": 12
        }
      ]
    },
    {
      "cell_type": "code",
      "source": [
        "len(X_test), len(y_test)"
      ],
      "metadata": {
        "colab": {
          "base_uri": "https://localhost:8080/"
        },
        "id": "y9Dztfsz4Wfh",
        "outputId": "06b90585-087c-415d-a599-02af2315fd86"
      },
      "execution_count": 13,
      "outputs": [
        {
          "output_type": "execute_result",
          "data": {
            "text/plain": [
              "(10, 10)"
            ]
          },
          "metadata": {},
          "execution_count": 13
        }
      ]
    },
    {
      "cell_type": "markdown",
      "source": [
        "## Visualizing the Data"
      ],
      "metadata": {
        "id": "sBhbuFlJ4nvV"
      }
    },
    {
      "cell_type": "code",
      "source": [
        "plt.scatter(X_train, y_train)"
      ],
      "metadata": {
        "colab": {
          "base_uri": "https://localhost:8080/",
          "height": 282
        },
        "id": "ZOLAlfZ44Zgi",
        "outputId": "14266a50-ad96-4e9a-83b1-19982ec4f0dc"
      },
      "execution_count": 16,
      "outputs": [
        {
          "output_type": "execute_result",
          "data": {
            "text/plain": [
              "<matplotlib.collections.PathCollection at 0x7f11f5bd5c70>"
            ]
          },
          "metadata": {},
          "execution_count": 16
        },
        {
          "output_type": "display_data",
          "data": {
            "text/plain": [
              "<Figure size 432x288 with 1 Axes>"
            ],
            "image/png": "[encoded data removed]"
          },
          "metadata": {
            "needs_background": "light"
          }
        }
      ]
    },
    {
      "cell_type": "code",
      "source": [
        "def plot_predictions(train_data, train_labels, test_data, test_labels, predictions):\n",
        "  \"\"\"Plots train and test data, and compares predictions\"\"\"\n",
        "  plt.figure(figsize=(10, 7))\n",
        "\n",
        "  # Train data\n",
        "  plt.scatter(train_data, train_labels, c='b', s=7, label='Training data')\n",
        "\n",
        "  # Test data\n",
        "  plt.scatter(test_data, test_labels, c='g', s=7, label='Testing data')\n",
        "\n",
        "  # Check for preds\n",
        "  if predictions is not None:\n",
        "    plt.scatter(test_data, predictions, c='r', s=7, label='Predictions')\n",
        "\n",
        "  plt.legend(prop={'size': 14})"
      ],
      "metadata": {
        "id": "cIk7Cf6I4tqK"
      },
      "execution_count": 21,
      "outputs": []
    },
    {
      "cell_type": "code",
      "source": [
        "plot_predictions(X_train, y_train, X_test, y_test, None)"
      ],
      "metadata": {
        "colab": {
          "base_uri": "https://localhost:8080/",
          "height": 428
        },
        "id": "oApoKKvE58Df",
        "outputId": "c830be79-c3d4-413e-8f94-209643e510ee"
      },
      "execution_count": 22,
      "outputs": [
        {
          "output_type": "display_data",
          "data": {
            "text/plain": [
              "<Figure size 720x504 with 1 Axes>"
            ],
            "image/png": "[encoded data removed]"
          },
          "metadata": {
            "needs_background": "light"
          }
        }
      ]
    },
    {
      "cell_type": "markdown",
      "source": [
        "## Building a simple PyTorch model to predict this"
      ],
      "metadata": {
        "id": "OJKKj0lK_tHv"
      }
    },
    {
      "cell_type": "code",
      "source": [
        "class LinearRegressionModel(torch.nn.Module):\n",
        "  def __init__(self):\n",
        "    super().__init__()\n",
        "    # Set the weight of the linear model\n",
        "    self.weights = torch.nn.Parameter(\n",
        "        torch.randn(1, requires_grad=True, dtype=torch.float)\n",
        "    )\n",
        "\n",
        "    # Set the bias of the linear model\n",
        "    self.bias = torch.nn.Parameter(\n",
        "        torch.randn(1, requires_grad=True, dtype=torch.float)\n",
        "    )\n",
        "\n",
        "  # Define the forward pass\n",
        "  def forward(self, x: torch.Tensor) -> torch.Tensor:\n",
        "    return self.weights * x + self.bias"
      ],
      "metadata": {
        "id": "s_LAJYUz6A2h"
      },
      "execution_count": 31,
      "outputs": []
    },
    {
      "cell_type": "markdown",
      "source": [
        "### Summary of building blocks for PyTorch models:\n",
        "\n",
        "* torch.nn - Contains all of the building blocks for neural networks\n",
        "* torch.nn.Parameter - Defines a parameter that our model will try to optimize. These are generally set up automatically in the PyTorch layers. But if you are doing it manually, you should set the parameters you want your model to optimize.\n",
        "* torch.nn.Module - The base class for neural network modules. Remember to overwrite the forward() method with your model's forward pass.\n",
        "* torch.optim - This is where the optimizers can be found in PyTorch. Building blocks for gradient descent.\n",
        "* torch.utils.data.Dataset - Represents a map  between keys (label) and samples (features) pairs in your data. For example, images associated with labels\n",
        "* torch.utils.data.DataLoader - Creates a Python iterable over a torch Dataset. This is used for training.\n"
      ],
      "metadata": {
        "id": "91-AFfvCEFim"
      }
    },
    {
      "cell_type": "markdown",
      "source": [
        "## Checking model insights"
      ],
      "metadata": {
        "id": "cfA51JbGGb01"
      }
    },
    {
      "cell_type": "code",
      "source": [
        "# Set the seed for reproducibility\n",
        "torch.manual_seed(42)\n",
        "\n",
        "model = LinearRegressionModel()"
      ],
      "metadata": {
        "id": "7TwirwpZFid4"
      },
      "execution_count": 33,
      "outputs": []
    },
    {
      "cell_type": "code",
      "source": [
        "model.parameters() # This shows a generator object"
      ],
      "metadata": {
        "colab": {
          "base_uri": "https://localhost:8080/"
        },
        "id": "fOhsq2IcGxU4",
        "outputId": "dd67ac82-9f41-4e11-8d0a-8f5a6b8f9646"
      },
      "execution_count": 34,
      "outputs": [
        {
          "output_type": "execute_result",
          "data": {
            "text/plain": [
              "<generator object Module.parameters at 0x7f11f58620b0>"
            ]
          },
          "metadata": {},
          "execution_count": 34
        }
      ]
    },
    {
      "cell_type": "code",
      "source": [
        "# Convert the generator into a list for visualization\n",
        "list(model.parameters())"
      ],
      "metadata": {
        "colab": {
          "base_uri": "https://localhost:8080/"
        },
        "id": "0cQ5ynLbGyRl",
        "outputId": "134c66f6-262a-49e9-9f90-20946276ed4d"
      },
      "execution_count": 35,
      "outputs": [
        {
          "output_type": "execute_result",
          "data": {
            "text/plain": [
              "[Parameter containing:\n",
              " tensor([0.3367], requires_grad=True), Parameter containing:\n",
              " tensor([0.1288], requires_grad=True)]"
            ]
          },
          "metadata": {},
          "execution_count": 35
        }
      ]
    },
    {
      "cell_type": "markdown",
      "source": [
        "A better way to visualize this when parameters are simple is by using the state_dict() method. This shows us the \"named\" parameters. The names are simply the attributes to which the parameters are set, but it helps understanding them better."
      ],
      "metadata": {
        "id": "nHFKEA9aHo5e"
      }
    },
    {
      "cell_type": "code",
      "source": [
        "model.state_dict()"
      ],
      "metadata": {
        "colab": {
          "base_uri": "https://localhost:8080/"
        },
        "id": "8oUipeuJHaVq",
        "outputId": "4b2f489a-7a7a-4c47-c393-7f6f1b3ff943"
      },
      "execution_count": 36,
      "outputs": [
        {
          "output_type": "execute_result",
          "data": {
            "text/plain": [
              "OrderedDict([('weights', tensor([0.3367])), ('bias', tensor([0.1288]))])"
            ]
          },
          "metadata": {},
          "execution_count": 36
        }
      ]
    },
    {
      "cell_type": "markdown",
      "source": [
        "### Making predictions with the randomly initialized model\n",
        "\n",
        "To check the predictive power, we want to measure how well our model predicts y_test, given X_test. Note we are using **torch.inference_mode()** instead of **torch.no_grad()**. The inference mode is a later implementation of the torch.no_grad() context manager, that allows for faster computations.\n",
        "\n",
        "The difference between them can be found [here](https://twitter.com/PyTorch/status/1437838231505096708?s=20). But basically the inference_mode() context handler removes some extra operations from the no_grad() counterpart, so it can compute predictions even faster."
      ],
      "metadata": {
        "id": "36HThKwLIaXd"
      }
    },
    {
      "cell_type": "code",
      "source": [
        "# This doesn't keep track of gradients, \n",
        "# so computing predictions is faster\n",
        "\n",
        "with torch.inference_mode():\n",
        "  y_preds = model(X_test)\n",
        "\n",
        "y_preds"
      ],
      "metadata": {
        "colab": {
          "base_uri": "https://localhost:8080/"
        },
        "id": "Sg9SmZqTH7bM",
        "outputId": "ff723507-feb4-4a22-d30a-eff61bd84179"
      },
      "execution_count": 37,
      "outputs": [
        {
          "output_type": "execute_result",
          "data": {
            "text/plain": [
              "tensor([[0.3982],\n",
              "        [0.4049],\n",
              "        [0.4116],\n",
              "        [0.4184],\n",
              "        [0.4251],\n",
              "        [0.4318],\n",
              "        [0.4386],\n",
              "        [0.4453],\n",
              "        [0.4520],\n",
              "        [0.4588]])"
            ]
          },
          "metadata": {},
          "execution_count": 37
        }
      ]
    },
    {
      "cell_type": "markdown",
      "source": [
        "#### Comparing the output of our model to the expected output"
      ],
      "metadata": {
        "id": "VhSp_C9sJrs-"
      }
    },
    {
      "cell_type": "code",
      "source": [
        "plot_predictions(X_train, y_train, X_test, y_test, y_preds)"
      ],
      "metadata": {
        "colab": {
          "base_uri": "https://localhost:8080/",
          "height": 428
        },
        "id": "UiLxLgsII9oq",
        "outputId": "a2270b9e-6ab8-43e3-fdfc-ebfcba6c9d3c"
      },
      "execution_count": 38,
      "outputs": [
        {
          "output_type": "display_data",
          "data": {
            "text/plain": [
              "<Figure size 720x504 with 1 Axes>"
            ],
            "image/png": "[encoded data removed]"
          },
          "metadata": {
            "needs_background": "light"
          }
        }
      ]
    },
    {
      "cell_type": "markdown",
      "source": [
        "## Training the Linear Regression model:\n",
        "\n",
        "We want our model to optimize the weight and bias to be as similar as the data as possible. We know weigth = 0.7, and bias = 0.3, so our model is pretty far off. We want these parameters to get closer to them.\n",
        "\n",
        "We will do that by implementing a loss function that calculates the errors that our model makes and quantifies how \"bad\" they are. This loss function will perform backpropagation and propagate the error over the different parameters to adjust them to minimize the loss function.\n",
        "\n",
        "We will implement a optimizer as well. The optimizer uses the learning rate to propagate the error over the different parameters to adjust them to minimize the loss function."
      ],
      "metadata": {
        "id": "UtoZA9soLjOu"
      }
    },
    {
      "cell_type": "markdown",
      "source": [
        "### In PyTorch, we need:\n",
        "\n",
        "- A Training loop that makes model predictions, calculates the loss function and backpropagates the error.\n",
        "- A Testing loop that evaluates how our model is performing on unseen data."
      ],
      "metadata": {
        "id": "YiW0Az_AMh0P"
      }
    },
    {
      "cell_type": "code",
      "source": [
        "# Loss function (MAE)\n",
        "loss_fn = torch.nn.L1Loss()\n",
        "\n",
        "# Optimizer (Stochastic Gradient Descent)\n",
        "lr = 0.01  # Learning Rate\n",
        "optimizer = torch.optim.SGD(params=model.parameters(), lr=lr)"
      ],
      "metadata": {
        "id": "rqDBYYKYJn6x"
      },
      "execution_count": 39,
      "outputs": []
    },
    {
      "cell_type": "markdown",
      "source": [
        "### Building the training/testing loop\n",
        "\n",
        "Steps to build a training loop:\n",
        "\n",
        "1. Loop through data\n",
        "2. Perform forward pass. Pass the data through the forward() method.\n",
        "3. Calculate the loss. Measure how far off our predictions are from the labels.\n",
        "4. Optimizer zero_grad. The optimizers by default accumulate the step they move in the opposite direction of the gradient. So you need to explicitly zero it for the next step to be only the result of the current iteration's optimiser step. If not, the step will become bigger and bigger every time.\n",
        "5. Loss backward(). This performs the actual calculation of gradients for each parameter by calculating the derivative of the parameter with respect to the loss function.\n",
        "6. Optimizer step. Our optimizer determined how much we need to move in order to minimize the loss function"
      ],
      "metadata": {
        "id": "n-Rg-rMeO4eV"
      }
    },
    {
      "cell_type": "markdown",
      "source": [
        "### Just the training loop"
      ],
      "metadata": {
        "id": "7352lBqgYfIt"
      }
    },
    {
      "cell_type": "code",
      "source": [
        "# check model's initial parameters before trianing\n",
        "model.state_dict()"
      ],
      "metadata": {
        "colab": {
          "base_uri": "https://localhost:8080/"
        },
        "id": "FEtuX5uSWY7m",
        "outputId": "0e5d959a-dc83-4777-a2a2-3b6cafd539c0"
      },
      "execution_count": 40,
      "outputs": [
        {
          "output_type": "execute_result",
          "data": {
            "text/plain": [
              "OrderedDict([('weights', tensor([0.3367])), ('bias', tensor([0.1288]))])"
            ]
          },
          "metadata": {},
          "execution_count": 40
        }
      ]
    },
    {
      "cell_type": "code",
      "source": [
        "epochs = 20\n",
        "\n",
        "for epoch in range(epochs):\n",
        "  # Set the model to training mode\n",
        "  ## Train mode sets all parameters to requires_grad=True\n",
        "  model.train()\n",
        "\n",
        "  # Forward pass\n",
        "  y_pred = model(X_train)\n",
        "\n",
        "  # Calculate the loss\n",
        "  loss = loss_fn(y_pred, y_train)\n",
        "  print(loss.item()) # This is just for visualization purposes (not present in real training loops)\n",
        "\n",
        "  # Optimizer zero grad\n",
        "  optimizer.zero_grad()\n",
        "\n",
        "  # Backpropagation\n",
        "  loss.backward()\n",
        "\n",
        "  # Step the optimizer (Gradient Descent)\n",
        "  optimizer.step() \n",
        "\n",
        "  model.eval()\n",
        "\n",
        "  print(model.state_dict()) "
      ],
      "metadata": {
        "colab": {
          "base_uri": "https://localhost:8080/"
        },
        "id": "LfiHYid7O1j7",
        "outputId": "a231ac10-fee4-4b72-f67c-f80f787f3ab7"
      },
      "execution_count": 53,
      "outputs": [
        {
          "output_type": "stream",
          "name": "stdout",
          "text": [
            "0.1515873372554779\n",
            "OrderedDict([('weights', tensor([0.3952])), ('bias', tensor([0.2788]))])\n",
            "0.14006635546684265\n",
            "OrderedDict([('weights', tensor([0.3991])), ('bias', tensor([0.2888]))])\n",
            "0.1285453587770462\n",
            "OrderedDict([('weights', tensor([0.4030])), ('bias', tensor([0.2988]))])\n",
            "0.11702437698841095\n",
            "OrderedDict([('weights', tensor([0.4069])), ('bias', tensor([0.3088]))])\n",
            "0.1060912236571312\n",
            "OrderedDict([('weights', tensor([0.4108])), ('bias', tensor([0.3178]))])\n",
            "0.09681284427642822\n",
            "OrderedDict([('weights', tensor([0.4146])), ('bias', tensor([0.3258]))])\n",
            "0.08908725529909134\n",
            "OrderedDict([('weights', tensor([0.4184])), ('bias', tensor([0.3333]))])\n",
            "0.08227583020925522\n",
            "OrderedDict([('weights', tensor([0.4222])), ('bias', tensor([0.3403]))])\n",
            "0.07638873159885406\n",
            "OrderedDict([('weights', tensor([0.4258])), ('bias', tensor([0.3463]))])\n",
            "0.07160007208585739\n",
            "OrderedDict([('weights', tensor([0.4293])), ('bias', tensor([0.3518]))])\n",
            "0.06747635453939438\n",
            "OrderedDict([('weights', tensor([0.4328])), ('bias', tensor([0.3568]))])\n",
            "0.06395438313484192\n",
            "OrderedDict([('weights', tensor([0.4361])), ('bias', tensor([0.3613]))])\n",
            "0.06097004935145378\n",
            "OrderedDict([('weights', tensor([0.4394])), ('bias', tensor([0.3653]))])\n",
            "0.05845819041132927\n",
            "OrderedDict([('weights', tensor([0.4425])), ('bias', tensor([0.3688]))])\n",
            "0.05635259300470352\n",
            "OrderedDict([('weights', tensor([0.4455])), ('bias', tensor([0.3718]))])\n",
            "0.0545857772231102\n",
            "OrderedDict([('weights', tensor([0.4483])), ('bias', tensor([0.3743]))])\n",
            "0.053148526698350906\n",
            "OrderedDict([('weights', tensor([0.4512])), ('bias', tensor([0.3768]))])\n",
            "0.05181945487856865\n",
            "OrderedDict([('weights', tensor([0.4539])), ('bias', tensor([0.3788]))])\n",
            "0.05069301277399063\n",
            "OrderedDict([('weights', tensor([0.4564])), ('bias', tensor([0.3803]))])\n",
            "0.0498228520154953\n",
            "OrderedDict([('weights', tensor([0.4590])), ('bias', tensor([0.3818]))])\n"
          ]
        }
      ]
    },
    {
      "cell_type": "code",
      "source": [
        "with torch.inference_mode():\n",
        "  y_preds_trained = model(X_test)"
      ],
      "metadata": {
        "id": "6DgEc04_Xcdt"
      },
      "execution_count": 54,
      "outputs": []
    },
    {
      "cell_type": "code",
      "source": [
        "plot_predictions(X_train, y_train, X_test, y_test, y_preds_trained)"
      ],
      "metadata": {
        "colab": {
          "base_uri": "https://localhost:8080/",
          "height": 428
        },
        "id": "9BJMaPWyXkSh",
        "outputId": "245dc7c7-221d-4942-fb3d-b9733e022aaf"
      },
      "execution_count": 55,
      "outputs": [
        {
          "output_type": "display_data",
          "data": {
            "text/plain": [
              "<Figure size 720x504 with 1 Axes>"
            ],
            "image/png": "[encoded data removed]"
          },
          "metadata": {
            "needs_background": "light"
          }
        }
      ]
    },
    {
      "cell_type": "markdown",
      "source": [
        "### Comments on model.train() vs model.eval()\n",
        "\n",
        "PyTorch offers a model.train() and a model.eval() method. These methods allow the user to switch between training mode, which is purposefully optimized for training the model, vs evaluate mode, which is purposefully optimized for performing inference with the model.\n",
        "\n",
        "- **Training mode:** Sets all the requires_grad attributes of all parameters in the model to True. So that gradients are tracked through the model.\n",
        "```python\n",
        "model.train()\n",
        "```\n",
        "- **Evaluation mode:** Turns off dropout layers and batch normalization layers\n",
        "```python\n",
        "model.eval()\n",
        "```"
      ],
      "metadata": {
        "id": "RpCqZHLARKhW"
      }
    },
    {
      "cell_type": "markdown",
      "source": [
        "### Training and testing loops combined\n",
        "\n",
        "Below we are restarting the model. We initialize it again with the same seed, so the training loop will be getting the same results. But after the training we will add the testing loop for testing our model on a dataset our model hasn't seen before.\n",
        "\n",
        "We can also add a visualization for the training loss and test loss, so we know how good our model is getting, and if we are overfitting. This is done by adding the training and test loss to a list which we will later use for ploting:\n",
        "\n",
        "```python\n",
        "epoch_count = []\n",
        "acc_loss_train = []\n",
        "acc_loss_test  = []\n",
        "\n",
        "... (code that executes training) ...\n",
        "\n",
        "if epoch % 10 == 0:\n",
        "  epoch_count.append(epoch)\n",
        "  acc_loss_train.append(loss.item())\n",
        "  acc_loss_test.append(loss_valid.item())\n",
        "  print(f\"Epoch: {epoch} | Train Loss: {loss.item()} | Test loss: {loss_valid.item()}\")\n",
        "```"
      ],
      "metadata": {
        "id": "tD0RDJxSYh4l"
      }
    },
    {
      "cell_type": "code",
      "source": [
        "# Set the seed for reproducibility\n",
        "torch.manual_seed(42)\n",
        "\n",
        "model = LinearRegressionModel()"
      ],
      "metadata": {
        "id": "C0LxTLnqaj-O"
      },
      "execution_count": 61,
      "outputs": []
    },
    {
      "cell_type": "code",
      "source": [
        "# Loss function (MAE)\n",
        "loss_fn = torch.nn.L1Loss()\n",
        "\n",
        "# Optimizer (Stochastic Gradient Descent)\n",
        "lr = 0.01  # Learning Rate\n",
        "optimizer = torch.optim.SGD(params=model.parameters(), lr=lr)"
      ],
      "metadata": {
        "id": "qcZjeHyCao0_"
      },
      "execution_count": 62,
      "outputs": []
    },
    {
      "cell_type": "code",
      "source": [
        "epochs = 150\n",
        "\n",
        "epoch_count = []\n",
        "acc_loss_train = []\n",
        "acc_loss_test  = []\n",
        "\n",
        "for epoch in range(epochs):\n",
        "  ## TRAINING\n",
        "\n",
        "  # Set the model to training mode\n",
        "  ## Train mode sets all parameters to requires_grad=True\n",
        "  model.train()\n",
        "\n",
        "  # Forward pass\n",
        "  y_pred = model(X_train)\n",
        "\n",
        "  # Calculate the loss\n",
        "  loss = loss_fn(y_pred, y_train)\n",
        "\n",
        "  # Optimizer zero grad\n",
        "  optimizer.zero_grad()\n",
        "\n",
        "  # Backpropagation\n",
        "  loss.backward()\n",
        "\n",
        "  # Step the optimizer (Gradient Descent)\n",
        "  optimizer.step() \n",
        "\n",
        "  ## TESTING\n",
        "  model.eval()\n",
        "\n",
        "  with torch.inference_mode():\n",
        "    test_pred = model(X_test)\n",
        "    loss_valid = loss_fn(test_pred, y_test)\n",
        "\n",
        "  if epoch % 10 == 0:\n",
        "    print(f\"Epoch: {epoch} | Train Loss: {loss.item()} | Test loss: {loss_valid.item()}\")\n",
        "    epoch_count.append(epoch)\n",
        "    acc_loss_train.append(loss.item())\n",
        "    acc_loss_test.append(loss_valid.item())"
      ],
      "metadata": {
        "colab": {
          "base_uri": "https://localhost:8080/"
        },
        "id": "wgrMha8sRvac",
        "outputId": "84e8039f-7a15-424b-b5e2-9a0e464425d3"
      },
      "execution_count": 63,
      "outputs": [
        {
          "output_type": "stream",
          "name": "stdout",
          "text": [
            "Epoch: 0 | Train Loss: 0.31288138031959534 | Test loss: 0.48106518387794495\n",
            "Epoch: 10 | Train Loss: 0.1976713240146637 | Test loss: 0.3463551998138428\n",
            "Epoch: 20 | Train Loss: 0.08908725529909134 | Test loss: 0.21729660034179688\n",
            "Epoch: 30 | Train Loss: 0.053148526698350906 | Test loss: 0.14464017748832703\n",
            "Epoch: 40 | Train Loss: 0.04543796554207802 | Test loss: 0.11360953003168106\n",
            "Epoch: 50 | Train Loss: 0.04167863354086876 | Test loss: 0.09919948130846024\n",
            "Epoch: 60 | Train Loss: 0.03818932920694351 | Test loss: 0.08886633068323135\n",
            "Epoch: 70 | Train Loss: 0.03476089984178543 | Test loss: 0.0805937647819519\n",
            "Epoch: 80 | Train Loss: 0.03132382780313492 | Test loss: 0.07232122868299484\n",
            "Epoch: 90 | Train Loss: 0.02788739837706089 | Test loss: 0.06473556160926819\n",
            "Epoch: 100 | Train Loss: 0.024458957836031914 | Test loss: 0.05646304413676262\n",
            "Epoch: 110 | Train Loss: 0.021020207554101944 | Test loss: 0.04819049686193466\n",
            "Epoch: 120 | Train Loss: 0.01758546568453312 | Test loss: 0.04060482233762741\n",
            "Epoch: 130 | Train Loss: 0.014155393466353416 | Test loss: 0.03233227878808975\n",
            "Epoch: 140 | Train Loss: 0.010716589167714119 | Test loss: 0.024059748277068138\n"
          ]
        }
      ]
    },
    {
      "cell_type": "code",
      "source": [
        "model.state_dict() \n",
        "# Remember weights should be close to 0.7 and bias to 0.3"
      ],
      "metadata": {
        "colab": {
          "base_uri": "https://localhost:8080/"
        },
        "id": "u6aoUn8fbAIy",
        "outputId": "e22e60e5-ebe7-49df-dc1a-c9a39873375b"
      },
      "execution_count": 64,
      "outputs": [
        {
          "output_type": "execute_result",
          "data": {
            "text/plain": [
              "OrderedDict([('weights', tensor([0.6638])), ('bias', tensor([0.3153]))])"
            ]
          },
          "metadata": {},
          "execution_count": 64
        }
      ]
    },
    {
      "cell_type": "code",
      "source": [
        "plot_predictions(X_train, y_train, X_test, y_test, test_pred)"
      ],
      "metadata": {
        "colab": {
          "base_uri": "https://localhost:8080/",
          "height": 428
        },
        "id": "cyAR3JkebEaN",
        "outputId": "95f5b1fb-5244-4e15-f5df-39111ac2a14e"
      },
      "execution_count": 65,
      "outputs": [
        {
          "output_type": "display_data",
          "data": {
            "text/plain": [
              "<Figure size 720x504 with 1 Axes>"
            ],
            "image/png": "[encoded data removed]"
          },
          "metadata": {
            "needs_background": "light"
          }
        }
      ]
    },
    {
      "cell_type": "markdown",
      "source": [
        "This can be improved by training again. But one may ask if it's necessary to go over 100 epochs, it seems like a lot. This may be a time to also experiment with learning rates, as higher learning rates will make higher \"step\" adjustments."
      ],
      "metadata": {
        "id": "eG6Aw24hb5A-"
      }
    },
    {
      "cell_type": "markdown",
      "source": [
        "### Visualizing the loss progression"
      ],
      "metadata": {
        "id": "bmaOn33zdqQx"
      }
    },
    {
      "cell_type": "code",
      "source": [
        "fig, ax = plt.subplots(1, 1, figsize=(10, 7))\n",
        "\n",
        "ax.plot(epoch_count, acc_loss_train, label='Train loss')\n",
        "ax.plot(epoch_count, acc_loss_test, label='Test loss')\n",
        "ax.set_title('Training and Test loss', fontdict={'size': 16})\n",
        "\n",
        "ax.legend();"
      ],
      "metadata": {
        "colab": {
          "base_uri": "https://localhost:8080/",
          "height": 446
        },
        "id": "nJvSB9ZebZIn",
        "outputId": "0508b8d8-cc4c-404d-bd5b-26c150adf8eb"
      },
      "execution_count": 69,
      "outputs": [
        {
          "output_type": "display_data",
          "data": {
            "text/plain": [
              "<Figure size 720x504 with 1 Axes>"
            ],
            "image/png": "[encoded data removed]"
          },
          "metadata": {
            "needs_background": "light"
          }
        }
      ]
    },
    {
      "cell_type": "markdown",
      "source": [
        "## Saving a PyTorch model\n",
        "\n",
        "There are three functions for saving and loading models:\n",
        "\n",
        "1. **torch.save():** Saves a serialized object of the model in Python pickle.\n",
        "2. **torch.load():** Load a serialized model object from Python pickle.\n",
        "3. **torch.nn.Module.load_state_dict():** Load a model's saved state (its parameter dictionary).\n",
        "\n",
        "The recommended way to save this is by saving the state dict (only the models trained parameters) instead of the entire model.\n",
        "\n",
        "Also note that the pytorch.save() takes an f argument which is, according to the documentation a file-like object OR an os.PathLike object containing a path."
      ],
      "metadata": {
        "id": "8sgyMTnae4_P"
      }
    },
    {
      "cell_type": "code",
      "source": [
        "model_path = pathlib.Path('models')\n",
        "model_path.mkdir(parents=True, exist_ok=True)\n",
        "\n",
        "model_name = 'linear_regression_model.pth' # .pth or .pt is the standard extension of PyTorch models\n",
        "model_save_path = model_path / model_name # pathlib allows for this syntax\n",
        "\n",
        "print(f\"saving model to: {model_save_path}\")\n",
        "\n",
        "torch.save(\n",
        "    model.state_dict(), f=model_save_path\n",
        ")"
      ],
      "metadata": {
        "colab": {
          "base_uri": "https://localhost:8080/"
        },
        "id": "Fd63OeGfeCh6",
        "outputId": "06d68af1-9816-4678-fccf-bf8535df8d02"
      },
      "execution_count": 73,
      "outputs": [
        {
          "output_type": "stream",
          "name": "stdout",
          "text": [
            "saving model to: models/linear_regression_model.pth\n"
          ]
        }
      ]
    },
    {
      "cell_type": "markdown",
      "source": [
        "**Important Note (1):** Note that you now have the model saved in the \"files\" directory, under the \"models\" folder. This will also be the case if you run this locally instead of running it in Google colab.\n",
        "\n",
        "**Important Note (2):** Also note that we save the **model state dict** and not the entire model. So when we load the model, we will be loading the pre-saved state onto a model with the same architecture."
      ],
      "metadata": {
        "id": "KYl_PZh4jIid"
      }
    },
    {
      "cell_type": "code",
      "source": [
        "!ls -l models"
      ],
      "metadata": {
        "colab": {
          "base_uri": "https://localhost:8080/"
        },
        "id": "toB7BgcTh5Jn",
        "outputId": "ffb99783-50d1-4a40-967e-459a314f662a"
      },
      "execution_count": 75,
      "outputs": [
        {
          "output_type": "stream",
          "name": "stdout",
          "text": [
            "total 4\n",
            "-rw-r--r-- 1 root root 1191 Feb  6 11:46 linear_regression_model.pth\n"
          ]
        }
      ]
    },
    {
      "cell_type": "code",
      "source": [
        "!ls -1 models"
      ],
      "metadata": {
        "colab": {
          "base_uri": "https://localhost:8080/"
        },
        "id": "yn_NMm-1jgF2",
        "outputId": "9f32152e-2bb8-482e-b16a-4791d67c63eb"
      },
      "execution_count": 76,
      "outputs": [
        {
          "output_type": "stream",
          "name": "stdout",
          "text": [
            "linear_regression_model.pth\n"
          ]
        }
      ]
    },
    {
      "cell_type": "markdown",
      "source": [
        "## Loading a PyTorch model"
      ],
      "metadata": {
        "id": "M3HOKM7RjpR1"
      }
    },
    {
      "cell_type": "code",
      "source": [
        "loaded_model_dict = torch.load(model_save_path)\n",
        "\n",
        "loaded_model = LinearRegressionModel()\n",
        "\n",
        "loaded_model.load_state_dict(loaded_model_dict)"
      ],
      "metadata": {
        "colab": {
          "base_uri": "https://localhost:8080/"
        },
        "id": "wi-GvXy3jmd9",
        "outputId": "757272b5-2957-4a29-bb2a-1f5094f16ee6"
      },
      "execution_count": 79,
      "outputs": [
        {
          "output_type": "execute_result",
          "data": {
            "text/plain": [
              "<All keys matched successfully>"
            ]
          },
          "metadata": {},
          "execution_count": 79
        }
      ]
    },
    {
      "cell_type": "markdown",
      "source": [
        "We can also do this in a single line:"
      ],
      "metadata": {
        "id": "FKLHAKcDmKCF"
      }
    },
    {
      "cell_type": "code",
      "source": [
        "loaded_model = LinearRegressionModel()\n",
        "\n",
        "loaded_model.load_state_dict(torch.load(model_save_path))"
      ],
      "metadata": {
        "colab": {
          "base_uri": "https://localhost:8080/"
        },
        "id": "_Xzag62qmMRt",
        "outputId": "0c49827a-0cfc-4ed9-c3bb-cef060864178"
      },
      "execution_count": 82,
      "outputs": [
        {
          "output_type": "execute_result",
          "data": {
            "text/plain": [
              "<All keys matched successfully>"
            ]
          },
          "metadata": {},
          "execution_count": 82
        }
      ]
    },
    {
      "cell_type": "code",
      "source": [
        "loaded_model.eval()\n",
        "\n",
        "with torch.inference_mode():\n",
        "  preds = loaded_model(X_test)\n",
        "\n",
        "preds"
      ],
      "metadata": {
        "colab": {
          "base_uri": "https://localhost:8080/"
        },
        "id": "0aC7-_rajwxM",
        "outputId": "fb30bae0-74a7-40a1-c6dc-de2e2f43a28e"
      },
      "execution_count": 83,
      "outputs": [
        {
          "output_type": "execute_result",
          "data": {
            "text/plain": [
              "tensor([[0.8464],\n",
              "        [0.8596],\n",
              "        [0.8729],\n",
              "        [0.8862],\n",
              "        [0.8995],\n",
              "        [0.9127],\n",
              "        [0.9260],\n",
              "        [0.9393],\n",
              "        [0.9526],\n",
              "        [0.9659]])"
            ]
          },
          "metadata": {},
          "execution_count": 83
        }
      ]
    },
    {
      "cell_type": "markdown",
      "source": [
        "# Putting everything together (with device agnostic code)"
      ],
      "metadata": {
        "id": "9pP174IWnZpF"
      }
    },
    {
      "cell_type": "code",
      "source": [
        "device = 'cuda' if torch.cuda.is_available() else \"cpu\"\n",
        "\n",
        "device"
      ],
      "metadata": {
        "colab": {
          "base_uri": "https://localhost:8080/",
          "height": 36
        },
        "id": "J6BzccuGj6aq",
        "outputId": "bedf535b-d275-47bf-fb2d-3cd03060d9a2"
      },
      "execution_count": 84,
      "outputs": [
        {
          "output_type": "execute_result",
          "data": {
            "text/plain": [
              "'cpu'"
            ],
            "application/vnd.google.colaboratory.intrinsic+json": {
              "type": "string"
            }
          },
          "metadata": {},
          "execution_count": 84
        }
      ]
    },
    {
      "cell_type": "code",
      "source": [],
      "metadata": {
        "id": "XSAH8k9pnkze"
      },
      "execution_count": null,
      "outputs": []
    }
  ]
}