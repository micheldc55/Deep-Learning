{
  "nbformat": 4,
  "nbformat_minor": 0,
  "metadata": {
    "kernelspec": {
      "display_name": "Python 3",
      "language": "python",
      "name": "python3"
    },
    "language_info": {
      "codemirror_mode": {
        "name": "ipython",
        "version": 3
      },
      "file_extension": ".py",
      "mimetype": "text/x-python",
      "name": "python",
      "nbconvert_exporter": "python",
      "pygments_lexer": "ipython3",
      "version": "3.5.6"
    },
    "colab": {
      "name": "03-clasificador_caras.ipynb",
      "provenance": [],
      "collapsed_sections": [],
      "include_colab_link": true
    }
  },
  "cells": [
    {
      "cell_type": "markdown",
      "metadata": {
        "id": "view-in-github",
        "colab_type": "text"
      },
      "source": [
        "<a href=\"https://colab.research.google.com/github/micheldc55/cheatsheet/blob/main/03_clasificador_caras.ipynb\" target=\"_parent\"><img src=\"https://colab.research.google.com/assets/colab-badge.svg\" alt=\"Open In Colab\"/></a>"
      ]
    },
    {
      "cell_type": "code",
      "metadata": {
        "id": "OCr7Di9kNVAZ"
      },
      "source": [
        "COLAB = True"
      ],
      "execution_count": null,
      "outputs": []
    },
    {
      "cell_type": "code",
      "metadata": {
        "id": "c73gJHGAuu9C"
      },
      "source": [
        "!ls -la"
      ],
      "execution_count": null,
      "outputs": []
    },
    {
      "cell_type": "code",
      "metadata": {
        "id": "1KAo4UlzNWpz"
      },
      "source": [
        "if COLAB:\n",
        "    from google_drive_downloader import GoogleDriveDownloader as gdd\n",
        "    gdd.download_file_from_google_drive(file_id='1q2shS6fBq_pSI8CBrjzdgg6DTTZfZ2mJ',\n",
        "                                        dest_path='./funciones_auxiliares.py')\n",
        "    gdd.download_file_from_google_drive(file_id='1qV3hqJFajv6iYLVqwtMIvr6Mo_GOOdQv',\n",
        "                                        dest_path='./caras_aux.py')\n",
        "    gdd.download_file_from_google_drive(file_id='1d_94YSDZu662q3JJ17r1dC1BHfOCTKZU',\n",
        "                                        dest_path='./datasets/gender.tgz')\n",
        "    !tar -xvf datasets/gender.tgz\n",
        "    !mv gender datasets"
      ],
      "execution_count": null,
      "outputs": []
    },
    {
      "cell_type": "code",
      "metadata": {
        "id": "FZGLaFxgOPOZ"
      },
      "source": [
        "!ls"
      ],
      "execution_count": null,
      "outputs": []
    },
    {
      "cell_type": "code",
      "metadata": {
        "id": "HMSvCTbbOR65"
      },
      "source": [
        "!ls datasets"
      ],
      "execution_count": null,
      "outputs": []
    },
    {
      "cell_type": "code",
      "metadata": {
        "id": "W4S5Ps6cPZOX"
      },
      "source": [
        "!ls -la datasets/gender"
      ],
      "execution_count": null,
      "outputs": []
    },
    {
      "cell_type": "code",
      "metadata": {
        "id": "NXGnT6ZFvQaL"
      },
      "source": [
        "!ls -la datasets/gender/female"
      ],
      "execution_count": null,
      "outputs": []
    },
    {
      "cell_type": "code",
      "metadata": {
        "id": "LT7FgtABNOiw"
      },
      "source": [
        "import numpy as np\n",
        "import pandas as pd\n",
        "import seaborn as sns\n",
        "import matplotlib.pyplot as plt\n",
        "import itertools\n",
        "from sklearn.metrics import roc_curve, auc, confusion_matrix\n",
        "\n",
        "%matplotlib inline"
      ],
      "execution_count": null,
      "outputs": []
    },
    {
      "cell_type": "markdown",
      "metadata": {
        "id": "nmptVfN_NOkD"
      },
      "source": [
        "La base de datos usada es un subconjunto de la base de datos\n",
        "\"Labeled Faces in the Wild\" (\"LFW\"):\n",
        "\n",
        "  http://vis-www.cs.umass.edu/lfw/lfw-funneled.tgz\n",
        "\n",
        "  http://vis-www.cs.umass.edu/lfw/\n",
        "\n",
        "La separación en carpetas \"female\" / \"male\" se ha realizado usando\n",
        "un código basado en:\n",
        "https://github.com/Pletron/LFWgender"
      ]
    },
    {
      "cell_type": "code",
      "metadata": {
        "id": "5bvoVPBONOkK"
      },
      "source": [
        "from caras_aux import loadImages, plot_gallery\n",
        "\n",
        "# cargo las imágenes y preparo los datos que se van a usar\n",
        "factor = 0.15 # factor de reducción de resolución de las imágenes, debe ser\n",
        "             # >0 y <=1 (en cuyo caso la resolución es la original, 250x250)\n",
        "X_clase0, h, w = loadImages('./datasets/gender/female',\n",
        "                            factor=factor, nimages=1000)\n",
        "X_clase1, h, w = loadImages('./datasets/gender/male',\n",
        "                            factor=factor, nimages=1000)\n",
        "X = np.concatenate((X_clase0, X_clase1))\n",
        "n_samples, n_features = X.shape\n",
        "\n",
        "target_names = np.array(['female', 'male'])\n",
        "n_classes = len(target_names)\n",
        "N0 = len(X_clase0); N1 = len(X_clase1)\n",
        "y = N0*[0] + N1*[1]\n",
        "y = np.array(y)\n",
        "\n",
        "print('\\nEstadísticas básicas de la base de datos leída:')\n",
        "print('  # clases: %d' % n_classes)\n",
        "print('  # patrones: %d' % n_samples)\n",
        "print('  # atributos (features): %d' % n_features)\n",
        "\n",
        "print('\\nAlgunas imágenes de la clase \"female\":')\n",
        "plot_gallery(X_clase0[:12].reshape((12, h, w)), 12*['female'], cmap=plt.cm.gray)\n",
        "print('\\nAlgunas imágenes de la clase \"male\":')\n",
        "plot_gallery(X_clase1[:12].reshape((12, h, w)), 12*['male'], cmap=plt.cm.gray)"
      ],
      "execution_count": null,
      "outputs": []
    },
    {
      "cell_type": "code",
      "metadata": {
        "id": "8vuJSG1eNOk6"
      },
      "source": [
        "print(np.shape(X)); print(np.shape(y)); print(X)"
      ],
      "execution_count": null,
      "outputs": []
    },
    {
      "cell_type": "code",
      "metadata": {
        "id": "ejsRHULNvth7"
      },
      "source": [
        "np.sqrt(1369)"
      ],
      "execution_count": null,
      "outputs": []
    },
    {
      "cell_type": "code",
      "metadata": {
        "id": "S1SesCpyNOle"
      },
      "source": [
        "X.min(), X.max()"
      ],
      "execution_count": null,
      "outputs": []
    },
    {
      "cell_type": "code",
      "metadata": {
        "id": "4Z-AUgZKNOmD"
      },
      "source": [
        "X /= 255"
      ],
      "execution_count": null,
      "outputs": []
    },
    {
      "cell_type": "code",
      "metadata": {
        "id": "x_AgylQONOmk"
      },
      "source": [
        "np.unique(y)"
      ],
      "execution_count": null,
      "outputs": []
    },
    {
      "cell_type": "code",
      "metadata": {
        "id": "EinhfcVGNOnF"
      },
      "source": [
        "X.shape"
      ],
      "execution_count": null,
      "outputs": []
    },
    {
      "cell_type": "code",
      "metadata": {
        "id": "qIm_BTVZNOne"
      },
      "source": [
        "y.shape"
      ],
      "execution_count": null,
      "outputs": []
    },
    {
      "cell_type": "code",
      "metadata": {
        "id": "XlCdnspnNOn4"
      },
      "source": [
        "from sklearn.model_selection import train_test_split\n",
        "    \n",
        "# divido en conjuntos de training y test\n",
        "X_train, X_test, y_train, y_test = train_test_split(X, y,\n",
        "                                                    test_size=200,\n",
        "                                                    random_state=42)"
      ],
      "execution_count": null,
      "outputs": []
    },
    {
      "cell_type": "code",
      "metadata": {
        "id": "Gu2MIinjNOoc"
      },
      "source": [
        "from caras_aux import report_base_error\n",
        "\n",
        "plt.figure(figsize=(10,3))\n",
        "ax = plt.subplot(1,2,1)\n",
        "clases, counts = np.unique(y_train, return_counts=True)\n",
        "plt.bar(clases[0], 100*counts[0]/len(y_train))\n",
        "plt.bar(clases[1], 100*counts[1]/len(y_train))\n",
        "plt.title('Training'); plt.xlabel('Clase'); plt.ylabel('Frequency (%)'); ax.set_xticks(clases)\n",
        "\n",
        "ax = plt.subplot(1,2,2)\n",
        "none, counts = np.unique(y_test, return_counts=True)\n",
        "plt.bar(clases[0], 100*counts[0]/len(y_test))\n",
        "plt.bar(clases[1], 100*counts[1]/len(y_test))\n",
        "plt.title('Test'); plt.xlabel('Clase'); ax.set_xticks(clases); plt.show()\n",
        "\n",
        "report_base_error(X_train, y_train, X_test, y_test)"
      ],
      "execution_count": null,
      "outputs": []
    },
    {
      "cell_type": "markdown",
      "metadata": {
        "id": "TCH2x0txNOo2"
      },
      "source": [
        "Otra forma de hacer el mismo cálculo:"
      ]
    },
    {
      "cell_type": "code",
      "metadata": {
        "id": "HzvKDU99NOo6"
      },
      "source": [
        "from sklearn.dummy import DummyClassifier\n",
        "\n",
        "clf = DummyClassifier(strategy='prior')\n",
        "clf.fit(X=X_train, y=y_train)\n",
        "print('Score del clasificador Dummy en test:', clf.score(X=X_test,y=y_test)) # en realidad no usa X_test"
      ],
      "execution_count": null,
      "outputs": []
    },
    {
      "cell_type": "code",
      "metadata": {
        "id": "u3nJuysbNOpR"
      },
      "source": [
        "from sklearn.linear_model import LogisticRegression\n",
        "\n",
        "model = LogisticRegression()\n",
        "model"
      ],
      "execution_count": null,
      "outputs": []
    },
    {
      "cell_type": "code",
      "metadata": {
        "id": "EnNuU0OnNOpl"
      },
      "source": [
        "model.fit(X_train, y_train)\n",
        "y_train_pred = model.predict(X_train)\n",
        "y_test_pred  = model.predict(X_test)"
      ],
      "execution_count": null,
      "outputs": []
    },
    {
      "cell_type": "code",
      "metadata": {
        "id": "9OhicVktNOp3"
      },
      "source": [
        "from sklearn.metrics import accuracy_score\n",
        "\n",
        "print(accuracy_score(y_train, y_train_pred))\n",
        "print(accuracy_score(y_test,  y_test_pred))"
      ],
      "execution_count": null,
      "outputs": []
    },
    {
      "cell_type": "code",
      "metadata": {
        "id": "4arSwdPnNOqN"
      },
      "source": [
        "from funciones_auxiliares import analisis_roc, plot_confusion_matrix"
      ],
      "execution_count": null,
      "outputs": []
    },
    {
      "cell_type": "code",
      "metadata": {
        "id": "YGqf06T4NOqd"
      },
      "source": [
        "# Resultados detallados en test\n",
        "plt.figure(figsize=(10,5))\n",
        "plt.subplot(1,2,1)\n",
        "analisis_roc(y_test, model.predict_proba(X_test)[:,1])\n",
        "plt.subplot(1,2,2)\n",
        "plot_confusion_matrix(y_test, y_test_pred)"
      ],
      "execution_count": null,
      "outputs": []
    },
    {
      "cell_type": "code",
      "metadata": {
        "id": "cLYTeC69NOqx"
      },
      "source": [
        ""
      ],
      "execution_count": null,
      "outputs": []
    }
  ]
}