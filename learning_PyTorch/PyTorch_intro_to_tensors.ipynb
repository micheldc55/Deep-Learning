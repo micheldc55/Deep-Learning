{
  "nbformat": 4,
  "nbformat_minor": 0,
  "metadata": {
    "colab": {
      "provenance": [],
      "authorship_tag": "ABX9TyOTJyAKMAuvI9xQAJ61TvJb",
      "include_colab_link": true
    },
    "kernelspec": {
      "name": "python3",
      "display_name": "Python 3"
    },
    "language_info": {
      "name": "python"
    }
  },
  "cells": [
    {
      "cell_type": "markdown",
      "metadata": {
        "id": "view-in-github",
        "colab_type": "text"
      },
      "source": [
        "<a href=\"https://colab.research.google.com/github/micheldc55/Deep-Learning/blob/main/PyTorch_intro_to_tensors.ipynb\" target=\"_parent\"><img src=\"https://colab.research.google.com/assets/colab-badge.svg\" alt=\"Open In Colab\"/></a>"
      ]
    },
    {
      "cell_type": "code",
      "execution_count": 1,
      "metadata": {
        "id": "3-cLKM9_Sucn"
      },
      "outputs": [],
      "source": [
        "import torch\n",
        "import pandas as pd\n",
        "import numpy as np\n",
        "import matplotlib.pyplot as plt"
      ]
    },
    {
      "cell_type": "code",
      "source": [
        "print(torch.__version__)"
      ],
      "metadata": {
        "colab": {
          "base_uri": "https://localhost:8080/"
        },
        "id": "5prsCV69S290",
        "outputId": "4e623e99-f367-4eb5-9292-6474fabcc1b9"
      },
      "execution_count": 2,
      "outputs": [
        {
          "output_type": "stream",
          "name": "stdout",
          "text": [
            "1.13.1+cu116\n"
          ]
        }
      ]
    },
    {
      "cell_type": "markdown",
      "source": [
        "# Tensors"
      ],
      "metadata": {
        "id": "8zRO725qS-_v"
      }
    },
    {
      "cell_type": "markdown",
      "source": [
        "## Creating tensors\n",
        "\n",
        "Using torch.tensor() we can create a custom tensor. First we are starting with scalars, this are a particular case of the tensor class in which we have a single element in the tensor. But note that this is using the same class as for other tensors we will define."
      ],
      "metadata": {
        "id": "C0M-VaJPTBbq"
      }
    },
    {
      "cell_type": "code",
      "source": [
        "scalar = torch.tensor(7)\n",
        "scalar"
      ],
      "metadata": {
        "colab": {
          "base_uri": "https://localhost:8080/"
        },
        "id": "TBikLECNS8Zk",
        "outputId": "90220448-6b5c-4dfe-a61e-81a9e86ccd3a"
      },
      "execution_count": null,
      "outputs": [
        {
          "output_type": "execute_result",
          "data": {
            "text/plain": [
              "tensor(7)"
            ]
          },
          "metadata": {},
          "execution_count": 5
        }
      ]
    },
    {
      "cell_type": "markdown",
      "source": [
        "Let's test some attributes of the element:\n",
        "- .ndim returns the dimensions of the tensor\n",
        "- .item() returns the element as a regular Python object"
      ],
      "metadata": {
        "id": "WBkJz7WaTnH9"
      }
    },
    {
      "cell_type": "code",
      "source": [
        "scalar.ndim"
      ],
      "metadata": {
        "colab": {
          "base_uri": "https://localhost:8080/"
        },
        "id": "UhLX0mbvTJ7N",
        "outputId": "3347fa4d-5020-4762-ceab-e6371ece890e"
      },
      "execution_count": null,
      "outputs": [
        {
          "output_type": "execute_result",
          "data": {
            "text/plain": [
              "0"
            ]
          },
          "metadata": {},
          "execution_count": 7
        }
      ]
    },
    {
      "cell_type": "code",
      "source": [
        "scalar.item()"
      ],
      "metadata": {
        "colab": {
          "base_uri": "https://localhost:8080/"
        },
        "id": "phfdqUDzTy8c",
        "outputId": "8fc9d47c-f211-4b0b-d05f-f9d8963783d0"
      },
      "execution_count": null,
      "outputs": [
        {
          "output_type": "execute_result",
          "data": {
            "text/plain": [
              "7"
            ]
          },
          "metadata": {},
          "execution_count": 8
        }
      ]
    },
    {
      "cell_type": "code",
      "source": [
        "type(scalar.item())"
      ],
      "metadata": {
        "colab": {
          "base_uri": "https://localhost:8080/"
        },
        "id": "4taYVTAFT10L",
        "outputId": "123bc398-1302-4644-e8af-78e1c3ede9b6"
      },
      "execution_count": null,
      "outputs": [
        {
          "output_type": "execute_result",
          "data": {
            "text/plain": [
              "int"
            ]
          },
          "metadata": {},
          "execution_count": 9
        }
      ]
    },
    {
      "cell_type": "markdown",
      "source": [
        "Let's create a vector. The vector is also a tensor, so we use the same function torch.tensor(). Only now we have to pass a higher number of elements."
      ],
      "metadata": {
        "id": "jkq--MiMT7Qp"
      }
    },
    {
      "cell_type": "code",
      "source": [
        "vector = torch.tensor([1, 6, 7])\n",
        "vector"
      ],
      "metadata": {
        "colab": {
          "base_uri": "https://localhost:8080/"
        },
        "id": "fPVb38bXT4Oy",
        "outputId": "d73beab6-ac6f-40cd-9fce-b4a6e20777c2"
      },
      "execution_count": null,
      "outputs": [
        {
          "output_type": "execute_result",
          "data": {
            "text/plain": [
              "tensor([1, 6, 7])"
            ]
          },
          "metadata": {},
          "execution_count": 10
        }
      ]
    },
    {
      "cell_type": "code",
      "source": [
        "vector.ndim"
      ],
      "metadata": {
        "colab": {
          "base_uri": "https://localhost:8080/"
        },
        "id": "OGNRESFAUNHG",
        "outputId": "949aed6c-a7fc-43d5-9dee-fccfb1699862"
      },
      "execution_count": null,
      "outputs": [
        {
          "output_type": "execute_result",
          "data": {
            "text/plain": [
              "1"
            ]
          },
          "metadata": {},
          "execution_count": 11
        }
      ]
    },
    {
      "cell_type": "code",
      "source": [
        "vector.shape"
      ],
      "metadata": {
        "colab": {
          "base_uri": "https://localhost:8080/"
        },
        "id": "62MA658PUeGe",
        "outputId": "cae937c6-f19c-4d15-e14d-205f6e019ebd"
      },
      "execution_count": null,
      "outputs": [
        {
          "output_type": "execute_result",
          "data": {
            "text/plain": [
              "torch.Size([3])"
            ]
          },
          "metadata": {},
          "execution_count": 15
        }
      ]
    },
    {
      "cell_type": "markdown",
      "source": [
        "Let's create a matrix now. For this we will use the same nomenclature and the same function (torch.tensor()). But now we will wrap a set of vectors in square brackets:"
      ],
      "metadata": {
        "id": "sP_HS4X9UogF"
      }
    },
    {
      "cell_type": "code",
      "source": [
        "MATRIX = torch.tensor([[1, 2],\n",
        "                       [0, 3]])\n",
        "\n",
        "MATRIX"
      ],
      "metadata": {
        "colab": {
          "base_uri": "https://localhost:8080/"
        },
        "id": "i2l-2UqLUhjD",
        "outputId": "dcda0171-cd79-4cb2-e890-4414b92d0afc"
      },
      "execution_count": null,
      "outputs": [
        {
          "output_type": "execute_result",
          "data": {
            "text/plain": [
              "tensor([[1, 2],\n",
              "        [0, 3]])"
            ]
          },
          "metadata": {},
          "execution_count": 17
        }
      ]
    },
    {
      "cell_type": "code",
      "source": [
        "MATRIX.ndim"
      ],
      "metadata": {
        "colab": {
          "base_uri": "https://localhost:8080/"
        },
        "id": "u5HqBNz5VJVZ",
        "outputId": "a6060220-61ed-483f-a279-4e276d75ba75"
      },
      "execution_count": null,
      "outputs": [
        {
          "output_type": "execute_result",
          "data": {
            "text/plain": [
              "2"
            ]
          },
          "metadata": {},
          "execution_count": 18
        }
      ]
    },
    {
      "cell_type": "code",
      "source": [
        "MATRIX[1]"
      ],
      "metadata": {
        "colab": {
          "base_uri": "https://localhost:8080/"
        },
        "id": "pCwfl6W2VSx4",
        "outputId": "bd6e2fc3-9c51-4b3e-f3eb-f8b99f0157d3"
      },
      "execution_count": null,
      "outputs": [
        {
          "output_type": "execute_result",
          "data": {
            "text/plain": [
              "tensor([0, 3])"
            ]
          },
          "metadata": {},
          "execution_count": 19
        }
      ]
    },
    {
      "cell_type": "code",
      "source": [
        "MATRIX.shape"
      ],
      "metadata": {
        "colab": {
          "base_uri": "https://localhost:8080/"
        },
        "id": "t9otAawQVVgP",
        "outputId": "cf909f53-960a-44e0-9d68-9f9b01ab0f31"
      },
      "execution_count": null,
      "outputs": [
        {
          "output_type": "execute_result",
          "data": {
            "text/plain": [
              "torch.Size([2, 2])"
            ]
          },
          "metadata": {},
          "execution_count": 20
        }
      ]
    },
    {
      "cell_type": "markdown",
      "source": [
        "Finally, the tensor is generally represented as a concatenation of matrices. For example, an image with three color channels is a tensor. In reality, everything we've seen so far is technically considered a tensor, but in practice we will see that tensors are generally used when referring to these type of data."
      ],
      "metadata": {
        "id": "lavqXm49Ve3M"
      }
    },
    {
      "cell_type": "code",
      "source": [
        "TENSOR = torch.tensor([[[1, 2, 3],\n",
        "                        [6, 7, 4],\n",
        "                        [2, 5, 4]]])\n",
        "\n",
        "TENSOR"
      ],
      "metadata": {
        "colab": {
          "base_uri": "https://localhost:8080/"
        },
        "id": "TaO8bwlJVWsk",
        "outputId": "1d2ee939-acab-48bc-fbba-8bd4767bcba0"
      },
      "execution_count": null,
      "outputs": [
        {
          "output_type": "execute_result",
          "data": {
            "text/plain": [
              "tensor([[[1, 2, 3],\n",
              "         [6, 7, 4],\n",
              "         [2, 5, 4]]])"
            ]
          },
          "metadata": {},
          "execution_count": 22
        }
      ]
    },
    {
      "cell_type": "code",
      "source": [
        "TENSOR.ndim"
      ],
      "metadata": {
        "colab": {
          "base_uri": "https://localhost:8080/"
        },
        "id": "jEd_QvGBV-vu",
        "outputId": "6780bf45-eaa2-4ae9-9c02-5900208e2986"
      },
      "execution_count": null,
      "outputs": [
        {
          "output_type": "execute_result",
          "data": {
            "text/plain": [
              "3"
            ]
          },
          "metadata": {},
          "execution_count": 23
        }
      ]
    },
    {
      "cell_type": "code",
      "source": [
        "TENSOR.shape"
      ],
      "metadata": {
        "colab": {
          "base_uri": "https://localhost:8080/"
        },
        "id": "DsQONA2OWF90",
        "outputId": "60b12118-9581-419f-a9d1-30be028ef8e8"
      },
      "execution_count": null,
      "outputs": [
        {
          "output_type": "execute_result",
          "data": {
            "text/plain": [
              "torch.Size([1, 3, 3])"
            ]
          },
          "metadata": {},
          "execution_count": 24
        }
      ]
    },
    {
      "cell_type": "code",
      "source": [
        "TENSOR[0]"
      ],
      "metadata": {
        "colab": {
          "base_uri": "https://localhost:8080/"
        },
        "id": "16csXi_VWH4T",
        "outputId": "a14020d8-8b50-4b3d-b1e6-91cc69e23c93"
      },
      "execution_count": null,
      "outputs": [
        {
          "output_type": "execute_result",
          "data": {
            "text/plain": [
              "tensor([[1, 2, 3],\n",
              "        [6, 7, 4],\n",
              "        [2, 5, 4]])"
            ]
          },
          "metadata": {},
          "execution_count": 25
        }
      ]
    },
    {
      "cell_type": "markdown",
      "source": [
        "# Creating random tensors\n",
        "\n",
        "Now we want to create tensors with content, to remove the fact of having to create them by hand. There are a few ways of creating of our own tensors for quickness of use."
      ],
      "metadata": {
        "id": "N05lYZqzWoYU"
      }
    },
    {
      "cell_type": "code",
      "source": [
        "random_tensor = torch.rand(3, 4)\n",
        "random_tensor"
      ],
      "metadata": {
        "colab": {
          "base_uri": "https://localhost:8080/"
        },
        "id": "YUpJct6ZWTiI",
        "outputId": "86235d43-b123-48df-b9d1-8235903ebd69"
      },
      "execution_count": null,
      "outputs": [
        {
          "output_type": "execute_result",
          "data": {
            "text/plain": [
              "tensor([[0.6076, 0.0082, 0.8854, 0.5582],\n",
              "        [0.9850, 0.5333, 0.4121, 0.4578],\n",
              "        [0.6137, 0.5761, 0.5278, 0.2832]])"
            ]
          },
          "metadata": {},
          "execution_count": 26
        }
      ]
    },
    {
      "cell_type": "code",
      "source": [
        "random_tensor.ndim"
      ],
      "metadata": {
        "colab": {
          "base_uri": "https://localhost:8080/"
        },
        "id": "jL_9P_OaX0Pf",
        "outputId": "119a91b2-c564-434a-a75f-fcebdf0aa8a3"
      },
      "execution_count": null,
      "outputs": [
        {
          "output_type": "execute_result",
          "data": {
            "text/plain": [
              "2"
            ]
          },
          "metadata": {},
          "execution_count": 27
        }
      ]
    },
    {
      "cell_type": "code",
      "source": [
        "random_tensor.shape"
      ],
      "metadata": {
        "colab": {
          "base_uri": "https://localhost:8080/"
        },
        "id": "44xj5TaxX5YQ",
        "outputId": "ee15ef32-c248-424e-af43-67b345fe770c"
      },
      "execution_count": null,
      "outputs": [
        {
          "output_type": "execute_result",
          "data": {
            "text/plain": [
              "torch.Size([3, 4])"
            ]
          },
          "metadata": {},
          "execution_count": 28
        }
      ]
    },
    {
      "cell_type": "markdown",
      "source": [
        "Let's create a random tensor that would have a similar size to an image. This is similar to what we do in Deep Learning."
      ],
      "metadata": {
        "id": "2NdOpzhcYPyT"
      }
    },
    {
      "cell_type": "code",
      "source": [
        "simil_image_tensor = torch.rand(size=(3, 224, 224))\n",
        "simil_image_tensor.ndim"
      ],
      "metadata": {
        "colab": {
          "base_uri": "https://localhost:8080/"
        },
        "id": "F3GWfurkX8IH",
        "outputId": "76781f70-1e2c-4251-c86c-5ba144c88cf9"
      },
      "execution_count": null,
      "outputs": [
        {
          "output_type": "execute_result",
          "data": {
            "text/plain": [
              "3"
            ]
          },
          "metadata": {},
          "execution_count": 31
        }
      ]
    },
    {
      "cell_type": "code",
      "source": [
        "simil_image_tensor.shape"
      ],
      "metadata": {
        "colab": {
          "base_uri": "https://localhost:8080/"
        },
        "id": "Mz2Hx0kAYfu7",
        "outputId": "d09bd64a-7a4c-4fd6-f7dd-015da2087830"
      },
      "execution_count": null,
      "outputs": [
        {
          "output_type": "execute_result",
          "data": {
            "text/plain": [
              "torch.Size([224, 224, 3])"
            ]
          },
          "metadata": {},
          "execution_count": 30
        }
      ]
    },
    {
      "cell_type": "markdown",
      "source": [
        "Now we want to create a tensor that contains all zeros or all ones. This is useful if we want to build a mask for an image."
      ],
      "metadata": {
        "id": "JtRuuTypY1sS"
      }
    },
    {
      "cell_type": "code",
      "source": [
        "zeros = torch.zeros(3, 4)\n",
        "zeros"
      ],
      "metadata": {
        "colab": {
          "base_uri": "https://localhost:8080/"
        },
        "id": "MdtNOY1iYg37",
        "outputId": "7684d13c-6ff9-4a83-c1e9-bdf744425e97"
      },
      "execution_count": null,
      "outputs": [
        {
          "output_type": "execute_result",
          "data": {
            "text/plain": [
              "tensor([[0., 0., 0., 0.],\n",
              "        [0., 0., 0., 0.],\n",
              "        [0., 0., 0., 0.]])"
            ]
          },
          "metadata": {},
          "execution_count": 33
        }
      ]
    },
    {
      "cell_type": "markdown",
      "source": [
        "We can also build a tensor with all ones:"
      ],
      "metadata": {
        "id": "T3HKZ3OCZRIb"
      }
    },
    {
      "cell_type": "code",
      "source": [
        "ones = torch.ones(3, 4)\n",
        "ones"
      ],
      "metadata": {
        "colab": {
          "base_uri": "https://localhost:8080/"
        },
        "id": "YbCVFBb6ZOOM",
        "outputId": "921b8c50-2f6f-4583-bc25-f8ebd03334eb"
      },
      "execution_count": null,
      "outputs": [
        {
          "output_type": "execute_result",
          "data": {
            "text/plain": [
              "tensor([[1., 1., 1., 1.],\n",
              "        [1., 1., 1., 1.],\n",
              "        [1., 1., 1., 1.]])"
            ]
          },
          "metadata": {},
          "execution_count": 35
        }
      ]
    },
    {
      "cell_type": "markdown",
      "source": [
        "Let's check the data type for each tensor we created. Since we haven't specified the tensor data type, PyTorch by default creates them with the data type torch.float32, as seen below."
      ],
      "metadata": {
        "id": "ysNYjc99ZdEK"
      }
    },
    {
      "cell_type": "code",
      "source": [
        "ones.dtype, random_tensor.dtype, ones.dtype"
      ],
      "metadata": {
        "colab": {
          "base_uri": "https://localhost:8080/"
        },
        "id": "U_vopL9tZVoZ",
        "outputId": "300f8b5d-a4c5-40a7-abfb-28d8f357d13e"
      },
      "execution_count": null,
      "outputs": [
        {
          "output_type": "execute_result",
          "data": {
            "text/plain": [
              "(torch.float32, torch.float32, torch.float32)"
            ]
          },
          "metadata": {},
          "execution_count": 37
        }
      ]
    },
    {
      "cell_type": "markdown",
      "source": [
        "## Creating a range of tensors and tensors-like"
      ],
      "metadata": {
        "id": "BBSDkVm9ZwL6"
      }
    },
    {
      "cell_type": "code",
      "source": [
        "# If you use torch.range(xo, n) a warning will be raised\n",
        "# this is solved with arange(xo, n + 1)\n",
        "\n",
        "one_to_ten = torch.arange(1, 11)"
      ],
      "metadata": {
        "id": "-249n8qKZacO"
      },
      "execution_count": null,
      "outputs": []
    },
    {
      "cell_type": "code",
      "source": [
        "ten_zeros = torch.zeros_like(input=one_to_ten)\n",
        "ten_zeros"
      ],
      "metadata": {
        "colab": {
          "base_uri": "https://localhost:8080/"
        },
        "id": "Wx6S8s7kZ58R",
        "outputId": "9f90a803-551e-4ac2-f907-596e9eeec053"
      },
      "execution_count": null,
      "outputs": [
        {
          "output_type": "execute_result",
          "data": {
            "text/plain": [
              "tensor([0, 0, 0, 0, 0, 0, 0, 0, 0, 0])"
            ]
          },
          "metadata": {},
          "execution_count": 46
        }
      ]
    },
    {
      "cell_type": "markdown",
      "source": [
        "## Tensor Data Types\n",
        "\n",
        "Tensors have a few parameters upon creation which are important to know. We will rarely be creating tensors from scratch, but they are important to know either way.\n",
        "\n",
        "When you create a tensor, by default it will be created with the torch.float32 data type. If you pass dtype=None, the tensor will still be created with the torch.float32 data type if possible."
      ],
      "metadata": {
        "id": "K4VGTJyQbVUZ"
      }
    },
    {
      "cell_type": "code",
      "source": [
        "float_32_tensor = torch.tensor([3.0, 6.0, 9.0])\n",
        "float_32_tensor"
      ],
      "metadata": {
        "colab": {
          "base_uri": "https://localhost:8080/"
        },
        "id": "QGU2rjbOasxD",
        "outputId": "d7c5a246-f698-4f26-f6e6-954759f41e22"
      },
      "execution_count": null,
      "outputs": [
        {
          "output_type": "execute_result",
          "data": {
            "text/plain": [
              "tensor([3., 6., 9.])"
            ]
          },
          "metadata": {},
          "execution_count": 47
        }
      ]
    },
    {
      "cell_type": "code",
      "source": [
        "float_32_tensor.dtype"
      ],
      "metadata": {
        "colab": {
          "base_uri": "https://localhost:8080/"
        },
        "id": "5Rx-xnbybhsx",
        "outputId": "67d00d58-6c27-402a-fa81-04db4fdba78b"
      },
      "execution_count": null,
      "outputs": [
        {
          "output_type": "execute_result",
          "data": {
            "text/plain": [
              "torch.float32"
            ]
          },
          "metadata": {},
          "execution_count": 48
        }
      ]
    },
    {
      "cell_type": "code",
      "source": [
        "float_32_tensor = torch.tensor([3.0, 6.0, 9.0], dtype=None)\n",
        "float_32_tensor"
      ],
      "metadata": {
        "colab": {
          "base_uri": "https://localhost:8080/"
        },
        "id": "UyBc8MG3bjP0",
        "outputId": "6aecdfe4-a250-46aa-b3d4-67dd71658cfa"
      },
      "execution_count": null,
      "outputs": [
        {
          "output_type": "execute_result",
          "data": {
            "text/plain": [
              "tensor([3., 6., 9.])"
            ]
          },
          "metadata": {},
          "execution_count": 49
        }
      ]
    },
    {
      "cell_type": "code",
      "source": [
        "float_32_tensor.dtype"
      ],
      "metadata": {
        "colab": {
          "base_uri": "https://localhost:8080/"
        },
        "id": "XVQP9MM2cDIC",
        "outputId": "111c277e-d0db-45e7-e094-4f5842358158"
      },
      "execution_count": null,
      "outputs": [
        {
          "output_type": "execute_result",
          "data": {
            "text/plain": [
              "torch.float32"
            ]
          },
          "metadata": {},
          "execution_count": 50
        }
      ]
    },
    {
      "cell_type": "code",
      "source": [
        "float_16_tensor = torch.tensor([3.0, 6.0, 9.0], \n",
        "                               dtype=torch.float16)\n",
        "float_16_tensor"
      ],
      "metadata": {
        "colab": {
          "base_uri": "https://localhost:8080/"
        },
        "id": "94SVYA1TcdkC",
        "outputId": "423ccbfd-5666-469d-ddd6-602e4c0ab988"
      },
      "execution_count": null,
      "outputs": [
        {
          "output_type": "execute_result",
          "data": {
            "text/plain": [
              "tensor([3., 6., 9.], dtype=torch.float16)"
            ]
          },
          "metadata": {},
          "execution_count": 51
        }
      ]
    },
    {
      "cell_type": "code",
      "source": [
        "float_16_tensor.dtype"
      ],
      "metadata": {
        "colab": {
          "base_uri": "https://localhost:8080/"
        },
        "id": "8iTwIqicceQC",
        "outputId": "889993f6-95b9-4a2a-fb0c-da0a67a33a66"
      },
      "execution_count": null,
      "outputs": [
        {
          "output_type": "execute_result",
          "data": {
            "text/plain": [
              "torch.float16"
            ]
          },
          "metadata": {},
          "execution_count": 52
        }
      ]
    },
    {
      "cell_type": "markdown",
      "source": [
        "Why would we change one or the other? The key is precision versus computation times. The tensor of dtype float16 is faster to compute, but less precise (it stores less decimals), while float64 stores more data, but it takes much more to compute."
      ],
      "metadata": {
        "id": "4qfgSDKpc5am"
      }
    },
    {
      "cell_type": "markdown",
      "source": [
        "Other important parameters are:\n",
        "- device\n",
        "- requires_grad"
      ],
      "metadata": {
        "id": "JSuNUzogcGJL"
      }
    },
    {
      "cell_type": "code",
      "source": [
        "float_tensor = torch.tensor([3.0, 6.0, 9.0], \n",
        "                            dtype=None, \n",
        "                            device=None, \n",
        "                            requires_grad=False)\n",
        "float_tensor"
      ],
      "metadata": {
        "id": "WmGVfx2JcE6Z"
      },
      "execution_count": null,
      "outputs": []
    },
    {
      "cell_type": "markdown",
      "source": [
        "Why is device, shape and datatypes important? Because they are the 3 main culprits for errors in PyTorch:\n",
        "- Tensors don't have coherent data types\n",
        "- Tensors are not of coherent shapes\n",
        "- Tensors are not stored in the same device"
      ],
      "metadata": {
        "id": "NLiI4l09dOSH"
      }
    },
    {
      "cell_type": "markdown",
      "source": [
        "## Tensor multiplication\n",
        "\n",
        "Tensors can be multiplied easily:"
      ],
      "metadata": {
        "id": "bTT-8PuUOkI4"
      }
    },
    {
      "cell_type": "code",
      "source": [
        "tensor1 = torch.rand(3, 3)\n",
        "tensor2 = torch.rand(3, 3)"
      ],
      "metadata": {
        "id": "hS3MaKI2PVVd"
      },
      "execution_count": null,
      "outputs": []
    },
    {
      "cell_type": "code",
      "source": [
        "tensor1 * tensor2"
      ],
      "metadata": {
        "colab": {
          "base_uri": "https://localhost:8080/"
        },
        "id": "ufWkqzj3PU9s",
        "outputId": "5d8b0a55-00f4-4804-cfbb-b5d24565a35e"
      },
      "execution_count": null,
      "outputs": [
        {
          "output_type": "execute_result",
          "data": {
            "text/plain": [
              "tensor([[0.5556, 0.3155, 0.0470],\n",
              "        [0.1373, 0.0966, 0.1712],\n",
              "        [0.2430, 0.0584, 0.6302]])"
            ]
          },
          "metadata": {},
          "execution_count": 14
        }
      ]
    },
    {
      "cell_type": "markdown",
      "source": [
        "What happens if we multiply tensors of different dtypes? What happend to the dtype? If we multiply a float32 by a float 16:"
      ],
      "metadata": {
        "id": "1j52920nPdCg"
      }
    },
    {
      "cell_type": "code",
      "source": [
        "float_32_tensor = torch.rand(5, 5)\n",
        "float_16_tensor = torch.rand(5, 5, dtype=torch.float16)"
      ],
      "metadata": {
        "id": "M4kLaWpDdeUh"
      },
      "execution_count": null,
      "outputs": []
    },
    {
      "cell_type": "code",
      "source": [
        "prod = float_32_tensor * float_16_tensor\n",
        "prod"
      ],
      "metadata": {
        "colab": {
          "base_uri": "https://localhost:8080/"
        },
        "id": "0Xg2z7vvO_d8",
        "outputId": "0875e582-3141-4646-b06b-1e11d9160e25"
      },
      "execution_count": null,
      "outputs": [
        {
          "output_type": "execute_result",
          "data": {
            "text/plain": [
              "tensor([[1.7616e-01, 1.6426e-01, 3.2708e-02, 7.4202e-04, 5.4658e-02],\n",
              "        [1.5634e-01, 1.1827e-01, 3.8503e-01, 7.6887e-01, 2.2663e-01],\n",
              "        [7.4207e-02, 2.0118e-02, 3.3877e-01, 7.2719e-02, 4.5845e-01],\n",
              "        [1.7734e-01, 5.4055e-01, 2.7984e-01, 3.3637e-01, 3.3507e-01],\n",
              "        [7.6915e-01, 1.1304e-01, 1.0106e-01, 5.9281e-02, 1.2309e-01]])"
            ]
          },
          "metadata": {},
          "execution_count": 15
        }
      ]
    },
    {
      "cell_type": "code",
      "source": [
        "prod.dtype"
      ],
      "metadata": {
        "colab": {
          "base_uri": "https://localhost:8080/"
        },
        "id": "omRgESDfPNzg",
        "outputId": "6cf00463-75e6-4e4c-e313-1711278fc68c"
      },
      "execution_count": null,
      "outputs": [
        {
          "output_type": "execute_result",
          "data": {
            "text/plain": [
              "torch.float32"
            ]
          },
          "metadata": {},
          "execution_count": 16
        }
      ]
    },
    {
      "cell_type": "markdown",
      "source": [
        "## Changing a tensor's Data Type\n",
        "\n",
        "We use the .type() to set a new type. Bear in mind that this is not inplace."
      ],
      "metadata": {
        "id": "SJDwuhshfHKd"
      }
    },
    {
      "cell_type": "code",
      "source": [
        "float_32_tensor.type(torch.float16)"
      ],
      "metadata": {
        "colab": {
          "base_uri": "https://localhost:8080/"
        },
        "id": "jCBo1iqlPn8-",
        "outputId": "e1e9db20-7350-4318-92d0-98b9a84bf6c5"
      },
      "execution_count": null,
      "outputs": [
        {
          "output_type": "execute_result",
          "data": {
            "text/plain": [
              "tensor([[0.5576, 0.7988, 0.0782, 0.0025, 0.3171],\n",
              "        [0.2471, 0.4883, 0.6543, 0.8223, 0.6187],\n",
              "        [0.8350, 0.7490, 0.4260, 0.1053, 0.6841],\n",
              "        [0.4934, 0.5679, 0.2905, 0.9897, 0.7295],\n",
              "        [0.8452, 0.2776, 0.4846, 0.0615, 0.3320]], dtype=torch.float16)"
            ]
          },
          "metadata": {},
          "execution_count": 19
        }
      ]
    },
    {
      "cell_type": "code",
      "source": [
        "float_32_tensor"
      ],
      "metadata": {
        "colab": {
          "base_uri": "https://localhost:8080/"
        },
        "id": "LUzf88Pvfuaq",
        "outputId": "d4bf60b5-59b7-4b94-c4a9-32ddf01b7545"
      },
      "execution_count": null,
      "outputs": [
        {
          "output_type": "execute_result",
          "data": {
            "text/plain": [
              "tensor([[0.5576, 0.7991, 0.0782, 0.0025, 0.3171],\n",
              "        [0.2471, 0.4884, 0.6544, 0.8223, 0.6189],\n",
              "        [0.8350, 0.7491, 0.4259, 0.1053, 0.6838],\n",
              "        [0.4935, 0.5680, 0.2906, 0.9898, 0.7292],\n",
              "        [0.8451, 0.2776, 0.4847, 0.0615, 0.3321]])"
            ]
          },
          "metadata": {},
          "execution_count": 20
        }
      ]
    },
    {
      "cell_type": "markdown",
      "source": [
        "## Getting tensor attributes:"
      ],
      "metadata": {
        "id": "GrFsEo7Sf5tL"
      }
    },
    {
      "cell_type": "code",
      "source": [
        "# Tensor is not the right datatype\n",
        "float_32_tensor.dtype"
      ],
      "metadata": {
        "colab": {
          "base_uri": "https://localhost:8080/"
        },
        "id": "pN3zXnBOfwGh",
        "outputId": "5f5705ad-7bfd-4317-acbf-505b6e407679"
      },
      "execution_count": null,
      "outputs": [
        {
          "output_type": "execute_result",
          "data": {
            "text/plain": [
              "torch.float32"
            ]
          },
          "metadata": {},
          "execution_count": 21
        }
      ]
    },
    {
      "cell_type": "code",
      "source": [
        "# Tensor is not the right shape\n",
        "float_32_tensor.shape"
      ],
      "metadata": {
        "colab": {
          "base_uri": "https://localhost:8080/"
        },
        "id": "Y7yWfEozgGg2",
        "outputId": "fc56732f-af5c-4b48-e60f-a738858151ce"
      },
      "execution_count": null,
      "outputs": [
        {
          "output_type": "execute_result",
          "data": {
            "text/plain": [
              "torch.Size([5, 5])"
            ]
          },
          "metadata": {},
          "execution_count": 22
        }
      ]
    },
    {
      "cell_type": "code",
      "source": [
        "# Tensor is not in the right device\n",
        "float_32_tensor.device"
      ],
      "metadata": {
        "colab": {
          "base_uri": "https://localhost:8080/"
        },
        "id": "IBWHdo56gHsW",
        "outputId": "8f88c708-9c71-4103-c45b-8cf48429b133"
      },
      "execution_count": null,
      "outputs": [
        {
          "output_type": "execute_result",
          "data": {
            "text/plain": [
              "device(type='cpu')"
            ]
          },
          "metadata": {},
          "execution_count": 24
        }
      ]
    },
    {
      "cell_type": "markdown",
      "source": [
        "# Tensor Operations"
      ],
      "metadata": {
        "id": "udQReEaUgs8w"
      }
    },
    {
      "cell_type": "markdown",
      "source": [
        "### Multiplication by a constant"
      ],
      "metadata": {
        "id": "NLMYMHvyiwaC"
      }
    },
    {
      "cell_type": "code",
      "source": [
        "tensor = torch.rand(3, 4)\n",
        "tensor"
      ],
      "metadata": {
        "colab": {
          "base_uri": "https://localhost:8080/"
        },
        "id": "3Jh9ni67gIOo",
        "outputId": "3f756d4a-6645-4ef1-c88c-8aff745fb184"
      },
      "execution_count": null,
      "outputs": [
        {
          "output_type": "execute_result",
          "data": {
            "text/plain": [
              "tensor([[0.0167, 0.9526, 0.5477, 0.3101],\n",
              "        [0.2690, 0.4646, 0.3093, 0.6332],\n",
              "        [0.7334, 0.0204, 0.8231, 0.4985]])"
            ]
          },
          "metadata": {},
          "execution_count": 25
        }
      ]
    },
    {
      "cell_type": "markdown",
      "source": [
        "Se puede usar * o torch.mul indistintamente"
      ],
      "metadata": {
        "id": "QXjl053siih8"
      }
    },
    {
      "cell_type": "code",
      "source": [
        "tensor * 10"
      ],
      "metadata": {
        "colab": {
          "base_uri": "https://localhost:8080/"
        },
        "id": "jIJphnoYiag9",
        "outputId": "0dfa276e-02d0-492d-8801-2ab5af5025cb"
      },
      "execution_count": null,
      "outputs": [
        {
          "output_type": "execute_result",
          "data": {
            "text/plain": [
              "tensor([[0.1671, 9.5260, 5.4773, 3.1005],\n",
              "        [2.6900, 4.6461, 3.0927, 6.3322],\n",
              "        [7.3337, 0.2037, 8.2312, 4.9855]])"
            ]
          },
          "metadata": {},
          "execution_count": 26
        }
      ]
    },
    {
      "cell_type": "code",
      "source": [
        "torch.mul(tensor, 10)"
      ],
      "metadata": {
        "colab": {
          "base_uri": "https://localhost:8080/"
        },
        "id": "zGbdWu-6ibsc",
        "outputId": "56b32c0e-026e-4730-be13-96593f34f16f"
      },
      "execution_count": null,
      "outputs": [
        {
          "output_type": "execute_result",
          "data": {
            "text/plain": [
              "tensor([[0.1671, 9.5260, 5.4773, 3.1005],\n",
              "        [2.6900, 4.6461, 3.0927, 6.3322],\n",
              "        [7.3337, 0.2037, 8.2312, 4.9855]])"
            ]
          },
          "metadata": {},
          "execution_count": 27
        }
      ]
    },
    {
      "cell_type": "markdown",
      "source": [
        "### Matrix multiplication\n",
        "\n",
        "The * operator performs element-wise multiplication, while the torch.matmul() performs matrix multiplication."
      ],
      "metadata": {
        "id": "GOeVqyPJiy8f"
      }
    },
    {
      "cell_type": "code",
      "source": [
        "one_d_tensor = torch.tensor([1, 3, 5])\n",
        "\n",
        "print(one_d_tensor, '*', one_d_tensor)\n",
        "print(one_d_tensor * one_d_tensor)"
      ],
      "metadata": {
        "colab": {
          "base_uri": "https://localhost:8080/"
        },
        "id": "7MTpD9JzidVr",
        "outputId": "5b10fea4-7d06-4bc2-88f1-71743d1d6794"
      },
      "execution_count": null,
      "outputs": [
        {
          "output_type": "stream",
          "name": "stdout",
          "text": [
            "tensor([1, 3, 5]) * tensor([1, 3, 5])\n",
            "tensor([ 1,  9, 25])\n"
          ]
        }
      ]
    },
    {
      "cell_type": "code",
      "source": [
        "torch.matmul(one_d_tensor, one_d_tensor)"
      ],
      "metadata": {
        "colab": {
          "base_uri": "https://localhost:8080/"
        },
        "id": "TPyuBKCWje1w",
        "outputId": "5bb3b875-f60b-43a5-ced8-50c06d5627c6"
      },
      "execution_count": null,
      "outputs": [
        {
          "output_type": "execute_result",
          "data": {
            "text/plain": [
              "tensor(35)"
            ]
          },
          "metadata": {},
          "execution_count": 30
        }
      ]
    },
    {
      "cell_type": "markdown",
      "source": [
        "For matrix multiplication, **always use torch.matmul()**. Using the * symbol does element-wise multiplication. You can also do matrix multiplication with the \"@\" symbol:"
      ],
      "metadata": {
        "id": "ycpAmXu8k_pm"
      }
    },
    {
      "cell_type": "code",
      "source": [
        "matrix = torch.tensor([[1, 5], [2, 2]])"
      ],
      "metadata": {
        "id": "NL0mDvaujVSG"
      },
      "execution_count": null,
      "outputs": []
    },
    {
      "cell_type": "code",
      "source": [
        "torch.matmul(matrix, matrix)"
      ],
      "metadata": {
        "colab": {
          "base_uri": "https://localhost:8080/"
        },
        "id": "OFvDpC5OkR7Z",
        "outputId": "305c4307-d73a-4add-c662-79d3b83ba502"
      },
      "execution_count": null,
      "outputs": [
        {
          "output_type": "execute_result",
          "data": {
            "text/plain": [
              "tensor([[11, 15],\n",
              "        [ 6, 14]])"
            ]
          },
          "metadata": {},
          "execution_count": 32
        }
      ]
    },
    {
      "cell_type": "markdown",
      "source": [
        "Alias for matrix multiplication with less characters"
      ],
      "metadata": {
        "id": "o37M6EgnmY_N"
      }
    },
    {
      "cell_type": "code",
      "source": [
        "torch.mm(matrix, matrix)"
      ],
      "metadata": {
        "colab": {
          "base_uri": "https://localhost:8080/"
        },
        "id": "GIo4LF87mR1I",
        "outputId": "8f37aec1-83e8-4988-9614-f8c2859d3ac1"
      },
      "execution_count": null,
      "outputs": [
        {
          "output_type": "execute_result",
          "data": {
            "text/plain": [
              "tensor([[11, 15],\n",
              "        [ 6, 14]])"
            ]
          },
          "metadata": {},
          "execution_count": 34
        }
      ]
    },
    {
      "cell_type": "code",
      "source": [
        "matrix @ matrix"
      ],
      "metadata": {
        "colab": {
          "base_uri": "https://localhost:8080/"
        },
        "id": "DRXjPcpUkTs7",
        "outputId": "beedcbd1-5091-4634-895c-4bd862d2691e"
      },
      "execution_count": null,
      "outputs": [
        {
          "output_type": "execute_result",
          "data": {
            "text/plain": [
              "tensor([[11, 15],\n",
              "        [ 6, 14]])"
            ]
          },
          "metadata": {},
          "execution_count": 33
        }
      ]
    },
    {
      "cell_type": "markdown",
      "source": [
        "### Dealing with shape errors:"
      ],
      "metadata": {
        "id": "9ugdaiMOmBHl"
      }
    },
    {
      "cell_type": "code",
      "source": [
        "tensor_A = torch.tensor([[1, 2],\n",
        "                         [3, 4],\n",
        "                         [5, 6]])\n",
        "\n",
        "tensor_B = torch.tensor([[7, 10],\n",
        "                         [8, 11],\n",
        "                         [9, 12]])\n",
        "\n",
        "torch.mm(tensor_A, tensor_B)"
      ],
      "metadata": {
        "colab": {
          "base_uri": "https://localhost:8080/",
          "height": 200
        },
        "id": "Y5eMioZLlPEQ",
        "outputId": "56f4bf3d-e663-4320-a56b-3abbce7c70be"
      },
      "execution_count": 5,
      "outputs": [
        {
          "output_type": "error",
          "ename": "RuntimeError",
          "evalue": "ignored",
          "traceback": [
            "\u001b[0;31m---------------------------------------------------------------------------\u001b[0m",
            "\u001b[0;31mRuntimeError\u001b[0m                              Traceback (most recent call last)",
            "\u001b[0;32m<ipython-input-5-61799aded9ef>\u001b[0m in \u001b[0;36m<module>\u001b[0;34m\u001b[0m\n\u001b[1;32m      7\u001b[0m                          [9, 12]])\n\u001b[1;32m      8\u001b[0m \u001b[0;34m\u001b[0m\u001b[0m\n\u001b[0;32m----> 9\u001b[0;31m \u001b[0mtorch\u001b[0m\u001b[0;34m.\u001b[0m\u001b[0mmm\u001b[0m\u001b[0;34m(\u001b[0m\u001b[0mtensor_A\u001b[0m\u001b[0;34m,\u001b[0m \u001b[0mtensor_B\u001b[0m\u001b[0;34m)\u001b[0m\u001b[0;34m\u001b[0m\u001b[0;34m\u001b[0m\u001b[0m\n\u001b[0m",
            "\u001b[0;31mRuntimeError\u001b[0m: mat1 and mat2 shapes cannot be multiplied (3x2 and 3x2)"
          ]
        }
      ]
    },
    {
      "cell_type": "code",
      "source": [
        "tensor_A.shape, tensor_B.shape"
      ],
      "metadata": {
        "colab": {
          "base_uri": "https://localhost:8080/"
        },
        "id": "u34V99o8mV7W",
        "outputId": "91b381c9-3a0d-482c-9a05-5902457e6139"
      },
      "execution_count": 6,
      "outputs": [
        {
          "output_type": "execute_result",
          "data": {
            "text/plain": [
              "(torch.Size([3, 2]), torch.Size([3, 2]))"
            ]
          },
          "metadata": {},
          "execution_count": 6
        }
      ]
    },
    {
      "cell_type": "markdown",
      "source": [
        "We need to reshape / transpose our tensors:"
      ],
      "metadata": {
        "id": "FiXkxT4UmmUi"
      }
    },
    {
      "cell_type": "code",
      "source": [
        "tensor_B"
      ],
      "metadata": {
        "colab": {
          "base_uri": "https://localhost:8080/"
        },
        "id": "TJk0LpJJmiYi",
        "outputId": "437669f3-8851-41ee-f824-6d075f0c7c26"
      },
      "execution_count": 7,
      "outputs": [
        {
          "output_type": "execute_result",
          "data": {
            "text/plain": [
              "tensor([[ 7, 10],\n",
              "        [ 8, 11],\n",
              "        [ 9, 12]])"
            ]
          },
          "metadata": {},
          "execution_count": 7
        }
      ]
    },
    {
      "cell_type": "code",
      "source": [
        "tensor_B.T"
      ],
      "metadata": {
        "colab": {
          "base_uri": "https://localhost:8080/"
        },
        "id": "26ktmWsFmzqn",
        "outputId": "f14e40d8-8993-4cbf-c6f7-5b4e47703970"
      },
      "execution_count": 8,
      "outputs": [
        {
          "output_type": "execute_result",
          "data": {
            "text/plain": [
              "tensor([[ 7,  8,  9],\n",
              "        [10, 11, 12]])"
            ]
          },
          "metadata": {},
          "execution_count": 8
        }
      ]
    },
    {
      "cell_type": "code",
      "source": [
        "tensor_B.T.shape"
      ],
      "metadata": {
        "colab": {
          "base_uri": "https://localhost:8080/"
        },
        "id": "3yluC8ZHm0h4",
        "outputId": "e6de2603-5eda-4d93-dd83-5c2361b2a6b2"
      },
      "execution_count": 9,
      "outputs": [
        {
          "output_type": "execute_result",
          "data": {
            "text/plain": [
              "torch.Size([2, 3])"
            ]
          },
          "metadata": {},
          "execution_count": 9
        }
      ]
    },
    {
      "cell_type": "code",
      "source": [
        "torch.mm(tensor_A, tensor_B.T)"
      ],
      "metadata": {
        "colab": {
          "base_uri": "https://localhost:8080/"
        },
        "id": "xDzgW30nm9Sc",
        "outputId": "7ce60a04-df4a-40e0-d227-6944b08bb72f"
      },
      "execution_count": 10,
      "outputs": [
        {
          "output_type": "execute_result",
          "data": {
            "text/plain": [
              "tensor([[ 27,  30,  33],\n",
              "        [ 61,  68,  75],\n",
              "        [ 95, 106, 117]])"
            ]
          },
          "metadata": {},
          "execution_count": 10
        }
      ]
    },
    {
      "cell_type": "markdown",
      "source": [
        "Now it works! In this case, it also works transposing the other matrix, but this is not always the case."
      ],
      "metadata": {
        "id": "iXsL9-FxnIFA"
      }
    },
    {
      "cell_type": "code",
      "source": [
        "torch.mm(tensor_A.T, tensor_B)"
      ],
      "metadata": {
        "colab": {
          "base_uri": "https://localhost:8080/"
        },
        "id": "wRqKWCYEnGoQ",
        "outputId": "956c5053-e486-4da0-8b85-d5a6f32474b8"
      },
      "execution_count": 11,
      "outputs": [
        {
          "output_type": "execute_result",
          "data": {
            "text/plain": [
              "tensor([[ 76, 103],\n",
              "        [100, 136]])"
            ]
          },
          "metadata": {},
          "execution_count": 11
        }
      ]
    },
    {
      "cell_type": "markdown",
      "source": [
        "## Central tendency statistics in Tensors"
      ],
      "metadata": {
        "id": "moBpj8zYnbWu"
      }
    },
    {
      "cell_type": "code",
      "source": [
        "tensor_A.min(), torch.min(tensor_A), tensor_A.max(), torch.max(tensor_B)"
      ],
      "metadata": {
        "colab": {
          "base_uri": "https://localhost:8080/"
        },
        "id": "65GwOjlXnPdm",
        "outputId": "e594719c-da02-4693-adc9-4f0b9d4ac93e"
      },
      "execution_count": 12,
      "outputs": [
        {
          "output_type": "execute_result",
          "data": {
            "text/plain": [
              "(tensor(1), tensor(1), tensor(6), tensor(12))"
            ]
          },
          "metadata": {},
          "execution_count": 12
        }
      ]
    },
    {
      "cell_type": "code",
      "source": [
        "# Note the erros: Not the right data type!\n",
        "torch.mean(tensor_A)"
      ],
      "metadata": {
        "colab": {
          "base_uri": "https://localhost:8080/",
          "height": 200
        },
        "id": "BZpLKIrwnmEZ",
        "outputId": "361e560d-378e-4421-d4ad-dd1d029dd27d"
      },
      "execution_count": 13,
      "outputs": [
        {
          "output_type": "error",
          "ename": "RuntimeError",
          "evalue": "ignored",
          "traceback": [
            "\u001b[0;31m---------------------------------------------------------------------------\u001b[0m",
            "\u001b[0;31mRuntimeError\u001b[0m                              Traceback (most recent call last)",
            "\u001b[0;32m<ipython-input-13-afdbe11a9356>\u001b[0m in \u001b[0;36m<module>\u001b[0;34m\u001b[0m\n\u001b[1;32m      1\u001b[0m \u001b[0;31m# Note the erros: Not the right data type!\u001b[0m\u001b[0;34m\u001b[0m\u001b[0;34m\u001b[0m\u001b[0;34m\u001b[0m\u001b[0m\n\u001b[0;32m----> 2\u001b[0;31m \u001b[0mtorch\u001b[0m\u001b[0;34m.\u001b[0m\u001b[0mmean\u001b[0m\u001b[0;34m(\u001b[0m\u001b[0mtensor_A\u001b[0m\u001b[0;34m)\u001b[0m\u001b[0;34m\u001b[0m\u001b[0;34m\u001b[0m\u001b[0m\n\u001b[0m",
            "\u001b[0;31mRuntimeError\u001b[0m: mean(): could not infer output dtype. Input dtype must be either a floating point or complex dtype. Got: Long"
          ]
        }
      ]
    },
    {
      "cell_type": "markdown",
      "source": [
        "Two ways to solve this problem:"
      ],
      "metadata": {
        "id": "8q5SvEQgoTK0"
      }
    },
    {
      "cell_type": "code",
      "source": [
        "torch.mean(tensor_A.type(torch.float32))"
      ],
      "metadata": {
        "colab": {
          "base_uri": "https://localhost:8080/"
        },
        "id": "_6EBhhqWn4zs",
        "outputId": "b2884511-9a98-4576-aa2b-4e9f5fe8f9e4"
      },
      "execution_count": 14,
      "outputs": [
        {
          "output_type": "execute_result",
          "data": {
            "text/plain": [
              "tensor(3.5000)"
            ]
          },
          "metadata": {},
          "execution_count": 14
        }
      ]
    },
    {
      "cell_type": "code",
      "source": [
        "torch.mean(tensor_A, dtype=torch.float32)"
      ],
      "metadata": {
        "colab": {
          "base_uri": "https://localhost:8080/"
        },
        "id": "Mut9Blj0oEZ1",
        "outputId": "f8491800-0299-4155-8753-8e632fb12549"
      },
      "execution_count": 15,
      "outputs": [
        {
          "output_type": "execute_result",
          "data": {
            "text/plain": [
              "tensor(3.5000)"
            ]
          },
          "metadata": {},
          "execution_count": 15
        }
      ]
    },
    {
      "cell_type": "markdown",
      "source": [
        "### Finding the position of these values\n",
        "\n",
        "The argmax or argmin returns the position of the max/min in the element."
      ],
      "metadata": {
        "id": "1aqLaq8uomzt"
      }
    },
    {
      "cell_type": "code",
      "source": [
        "tensor_A"
      ],
      "metadata": {
        "colab": {
          "base_uri": "https://localhost:8080/"
        },
        "id": "g89lrOj8oyDu",
        "outputId": "72178478-d9f2-48e1-f7f2-09133907dc94"
      },
      "execution_count": 16,
      "outputs": [
        {
          "output_type": "execute_result",
          "data": {
            "text/plain": [
              "tensor([[1, 2],\n",
              "        [3, 4],\n",
              "        [5, 6]])"
            ]
          },
          "metadata": {},
          "execution_count": 16
        }
      ]
    },
    {
      "cell_type": "code",
      "source": [
        "tensor_A.argmin()"
      ],
      "metadata": {
        "colab": {
          "base_uri": "https://localhost:8080/"
        },
        "id": "1T9fZPaBoRr_",
        "outputId": "3969e5c2-830e-4651-ee6d-7e7648d54e74"
      },
      "execution_count": 17,
      "outputs": [
        {
          "output_type": "execute_result",
          "data": {
            "text/plain": [
              "tensor(0)"
            ]
          },
          "metadata": {},
          "execution_count": 17
        }
      ]
    },
    {
      "cell_type": "code",
      "source": [
        "tensor_A.argmax()"
      ],
      "metadata": {
        "colab": {
          "base_uri": "https://localhost:8080/"
        },
        "id": "YzqrvU2zowqn",
        "outputId": "62ec7992-ea14-4cc6-a90f-f9aea2dee0b2"
      },
      "execution_count": 18,
      "outputs": [
        {
          "output_type": "execute_result",
          "data": {
            "text/plain": [
              "tensor(5)"
            ]
          },
          "metadata": {},
          "execution_count": 18
        }
      ]
    },
    {
      "cell_type": "code",
      "source": [
        "torch.argmax(tensor_A)"
      ],
      "metadata": {
        "colab": {
          "base_uri": "https://localhost:8080/"
        },
        "id": "du9MtY7rFpHF",
        "outputId": "82453f59-2868-49ed-fd5c-40c08d268f10"
      },
      "execution_count": 20,
      "outputs": [
        {
          "output_type": "execute_result",
          "data": {
            "text/plain": [
              "tensor(5)"
            ]
          },
          "metadata": {},
          "execution_count": 20
        }
      ]
    },
    {
      "cell_type": "markdown",
      "source": [
        "## Reshaping / Viewing / Stacking / Squeezing tensors\n",
        "\n",
        "These are a few regular operations that are widely diffused in Deep Learning.\n",
        "\n",
        "- Reshaping: Changing the input tensor to a defined shape (size).\n",
        "- View: Given a certain tensor, it returns a view of the tensor but the memory is kept the same.\n",
        "- Stacking: Piling torch tensors together. For example, if we have three matrixes, one for each channel. If we stack them we get an RGB image.\n",
        "- Squeeze: Removes all 1 dimensions from a tensor.\n",
        "- Unsqueeze: Adds 1 dimension to the tensor passed.\n",
        "- Permute: Returns a view of the input with dimensions permuted in a certain way."
      ],
      "metadata": {
        "id": "pVyUoPwvF_To"
      }
    },
    {
      "cell_type": "code",
      "source": [
        "x = torch.arange(1.0, 10.)\n",
        "x, x.shape"
      ],
      "metadata": {
        "colab": {
          "base_uri": "https://localhost:8080/"
        },
        "id": "q_x6AiI9F3km",
        "outputId": "1ca3c9fd-3ac7-40a5-a7f5-89a926854388"
      },
      "execution_count": 21,
      "outputs": [
        {
          "output_type": "execute_result",
          "data": {
            "text/plain": [
              "(tensor([1., 2., 3., 4., 5., 6., 7., 8., 9.]), torch.Size([9]))"
            ]
          },
          "metadata": {},
          "execution_count": 21
        }
      ]
    },
    {
      "cell_type": "code",
      "source": [
        "x_reshaped = x.reshape(1, 7)\n",
        "x_reshaped, x_reshaped.shape"
      ],
      "metadata": {
        "colab": {
          "base_uri": "https://localhost:8080/",
          "height": 182
        },
        "id": "PKZS_T2eHV-2",
        "outputId": "09f1f1e5-a927-4b63-b93a-387904843539"
      },
      "execution_count": 22,
      "outputs": [
        {
          "output_type": "error",
          "ename": "RuntimeError",
          "evalue": "ignored",
          "traceback": [
            "\u001b[0;31m---------------------------------------------------------------------------\u001b[0m",
            "\u001b[0;31mRuntimeError\u001b[0m                              Traceback (most recent call last)",
            "\u001b[0;32m<ipython-input-22-12752e3512f5>\u001b[0m in \u001b[0;36m<module>\u001b[0;34m\u001b[0m\n\u001b[0;32m----> 1\u001b[0;31m \u001b[0mx_reshaped\u001b[0m \u001b[0;34m=\u001b[0m \u001b[0mx\u001b[0m\u001b[0;34m.\u001b[0m\u001b[0mreshape\u001b[0m\u001b[0;34m(\u001b[0m\u001b[0;36m1\u001b[0m\u001b[0;34m,\u001b[0m \u001b[0;36m7\u001b[0m\u001b[0;34m)\u001b[0m\u001b[0;34m\u001b[0m\u001b[0;34m\u001b[0m\u001b[0m\n\u001b[0m\u001b[1;32m      2\u001b[0m \u001b[0mx_reshaped\u001b[0m\u001b[0;34m,\u001b[0m \u001b[0mx_reshaped\u001b[0m\u001b[0;34m.\u001b[0m\u001b[0mshape\u001b[0m\u001b[0;34m\u001b[0m\u001b[0;34m\u001b[0m\u001b[0m\n",
            "\u001b[0;31mRuntimeError\u001b[0m: shape '[1, 7]' is invalid for input of size 9"
          ]
        }
      ]
    },
    {
      "cell_type": "markdown",
      "source": [
        "This obviouslty won't work because the target shape is not coherent with the original dimension."
      ],
      "metadata": {
        "id": "50BaDksIHf-G"
      }
    },
    {
      "cell_type": "code",
      "source": [
        "x_reshaped = x.reshape(1, 9)\n",
        "x_reshaped"
      ],
      "metadata": {
        "colab": {
          "base_uri": "https://localhost:8080/"
        },
        "id": "QQdDAW_rHeRe",
        "outputId": "101dc195-4bea-4dcd-fa42-6122157d249f"
      },
      "execution_count": 23,
      "outputs": [
        {
          "output_type": "execute_result",
          "data": {
            "text/plain": [
              "tensor([[1., 2., 3., 4., 5., 6., 7., 8., 9.]])"
            ]
          },
          "metadata": {},
          "execution_count": 23
        }
      ]
    },
    {
      "cell_type": "code",
      "source": [
        "x_reshaped = x.reshape(9, 1)\n",
        "x_reshaped"
      ],
      "metadata": {
        "colab": {
          "base_uri": "https://localhost:8080/"
        },
        "id": "YLbFur3dH0H3",
        "outputId": "8d2d54e4-c9e2-467a-c2b7-f794d6b243d5"
      },
      "execution_count": 24,
      "outputs": [
        {
          "output_type": "execute_result",
          "data": {
            "text/plain": [
              "tensor([[1.],\n",
              "        [2.],\n",
              "        [3.],\n",
              "        [4.],\n",
              "        [5.],\n",
              "        [6.],\n",
              "        [7.],\n",
              "        [8.],\n",
              "        [9.]])"
            ]
          },
          "metadata": {},
          "execution_count": 24
        }
      ]
    },
    {
      "cell_type": "code",
      "source": [
        "x_reshaped = x.reshape(3, 3)\n",
        "x_reshaped"
      ],
      "metadata": {
        "colab": {
          "base_uri": "https://localhost:8080/"
        },
        "id": "xbSJLZmdH3G5",
        "outputId": "9c93887e-5de6-4361-de40-1641b6e03ee4"
      },
      "execution_count": 26,
      "outputs": [
        {
          "output_type": "execute_result",
          "data": {
            "text/plain": [
              "tensor([[1., 2., 3.],\n",
              "        [4., 5., 6.],\n",
              "        [7., 8., 9.]])"
            ]
          },
          "metadata": {},
          "execution_count": 26
        }
      ]
    },
    {
      "cell_type": "markdown",
      "source": [
        "### Changing the view:\n",
        "\n",
        "The view shares the same memory as the original input. This means that if we modify \"z\", these changes will apply to \"x\"."
      ],
      "metadata": {
        "id": "G1zZqvIlIM7w"
      }
    },
    {
      "cell_type": "code",
      "source": [
        "z = x.view(1, 9)\n",
        "z, z.shape"
      ],
      "metadata": {
        "colab": {
          "base_uri": "https://localhost:8080/"
        },
        "id": "3gAGODFMH_Kx",
        "outputId": "d4149f9e-2802-4305-de9c-0158d39a1770"
      },
      "execution_count": 28,
      "outputs": [
        {
          "output_type": "execute_result",
          "data": {
            "text/plain": [
              "(tensor([[1., 2., 3., 4., 5., 6., 7., 8., 9.]]), torch.Size([1, 9]))"
            ]
          },
          "metadata": {},
          "execution_count": 28
        }
      ]
    },
    {
      "cell_type": "markdown",
      "source": [
        "Changing \"z\" to verify that \"x\" changes."
      ],
      "metadata": {
        "id": "NxQ5BNpdIoHa"
      }
    },
    {
      "cell_type": "code",
      "source": [
        "z[:, 0] = 5\n",
        "z, x"
      ],
      "metadata": {
        "colab": {
          "base_uri": "https://localhost:8080/"
        },
        "id": "RqvNu7rtISuK",
        "outputId": "d82aeba7-4a42-4c53-ba96-83969621b5d2"
      },
      "execution_count": 29,
      "outputs": [
        {
          "output_type": "execute_result",
          "data": {
            "text/plain": [
              "(tensor([[5., 2., 3., 4., 5., 6., 7., 8., 9.]]),\n",
              " tensor([5., 2., 3., 4., 5., 6., 7., 8., 9.]))"
            ]
          },
          "metadata": {},
          "execution_count": 29
        }
      ]
    },
    {
      "cell_type": "markdown",
      "source": [
        "### Stacking"
      ],
      "metadata": {
        "id": "JbG0G8irI-h4"
      }
    },
    {
      "cell_type": "code",
      "source": [
        "torch.stack([x, x, x, x], dim=0)"
      ],
      "metadata": {
        "colab": {
          "base_uri": "https://localhost:8080/"
        },
        "id": "cviyHaAEIwhW",
        "outputId": "95d67682-490b-4b70-c3a7-a9637a58e1c6"
      },
      "execution_count": 31,
      "outputs": [
        {
          "output_type": "execute_result",
          "data": {
            "text/plain": [
              "tensor([[5., 2., 3., 4., 5., 6., 7., 8., 9.],\n",
              "        [5., 2., 3., 4., 5., 6., 7., 8., 9.],\n",
              "        [5., 2., 3., 4., 5., 6., 7., 8., 9.],\n",
              "        [5., 2., 3., 4., 5., 6., 7., 8., 9.]])"
            ]
          },
          "metadata": {},
          "execution_count": 31
        }
      ]
    },
    {
      "cell_type": "code",
      "source": [
        "torch.stack([x, x, x, x], dim=1)"
      ],
      "metadata": {
        "colab": {
          "base_uri": "https://localhost:8080/"
        },
        "id": "O2M_HHISJEXY",
        "outputId": "c0b03c50-53d8-4829-cc18-ac238bf93187"
      },
      "execution_count": 32,
      "outputs": [
        {
          "output_type": "execute_result",
          "data": {
            "text/plain": [
              "tensor([[5., 5., 5., 5.],\n",
              "        [2., 2., 2., 2.],\n",
              "        [3., 3., 3., 3.],\n",
              "        [4., 4., 4., 4.],\n",
              "        [5., 5., 5., 5.],\n",
              "        [6., 6., 6., 6.],\n",
              "        [7., 7., 7., 7.],\n",
              "        [8., 8., 8., 8.],\n",
              "        [9., 9., 9., 9.]])"
            ]
          },
          "metadata": {},
          "execution_count": 32
        }
      ]
    },
    {
      "cell_type": "code",
      "source": [
        "torch.stack([x, x, x, x], dim=2)"
      ],
      "metadata": {
        "colab": {
          "base_uri": "https://localhost:8080/",
          "height": 165
        },
        "id": "fIgf5iosJI0C",
        "outputId": "9045274b-200c-4b07-a686-34a2d68d1198"
      },
      "execution_count": 33,
      "outputs": [
        {
          "output_type": "error",
          "ename": "IndexError",
          "evalue": "ignored",
          "traceback": [
            "\u001b[0;31m---------------------------------------------------------------------------\u001b[0m",
            "\u001b[0;31mIndexError\u001b[0m                                Traceback (most recent call last)",
            "\u001b[0;32m<ipython-input-33-7b0886766318>\u001b[0m in \u001b[0;36m<module>\u001b[0;34m\u001b[0m\n\u001b[0;32m----> 1\u001b[0;31m \u001b[0mtorch\u001b[0m\u001b[0;34m.\u001b[0m\u001b[0mstack\u001b[0m\u001b[0;34m(\u001b[0m\u001b[0;34m[\u001b[0m\u001b[0mx\u001b[0m\u001b[0;34m,\u001b[0m \u001b[0mx\u001b[0m\u001b[0;34m,\u001b[0m \u001b[0mx\u001b[0m\u001b[0;34m,\u001b[0m \u001b[0mx\u001b[0m\u001b[0;34m]\u001b[0m\u001b[0;34m,\u001b[0m \u001b[0mdim\u001b[0m\u001b[0;34m=\u001b[0m\u001b[0;36m2\u001b[0m\u001b[0;34m)\u001b[0m\u001b[0;34m\u001b[0m\u001b[0;34m\u001b[0m\u001b[0m\n\u001b[0m",
            "\u001b[0;31mIndexError\u001b[0m: Dimension out of range (expected to be in range of [-2, 1], but got 2)"
          ]
        }
      ]
    },
    {
      "cell_type": "markdown",
      "source": [
        "### Squeezing\n",
        "\n",
        "Squeezing removes all the dimensions of elements in the tensor that have dim=1\n",
        "\n",
        "Unsqueezing does the same, but it adds a dimension at the dimension = dim."
      ],
      "metadata": {
        "id": "arab0X1HMdhP"
      }
    },
    {
      "cell_type": "code",
      "source": [
        "x_sq = torch.rand(1, 2, 3)\n",
        "x_sq"
      ],
      "metadata": {
        "colab": {
          "base_uri": "https://localhost:8080/"
        },
        "id": "ELZG7zdOJMiB",
        "outputId": "f7b394d7-4638-4751-dcf1-6dd74b3d74a4"
      },
      "execution_count": 36,
      "outputs": [
        {
          "output_type": "execute_result",
          "data": {
            "text/plain": [
              "tensor([[[0.5160, 0.3336, 0.9971],\n",
              "         [0.6858, 0.1724, 0.4372]]])"
            ]
          },
          "metadata": {},
          "execution_count": 36
        }
      ]
    },
    {
      "cell_type": "code",
      "source": [
        "x_sq.shape, torch.squeeze(x_sq).shape"
      ],
      "metadata": {
        "colab": {
          "base_uri": "https://localhost:8080/"
        },
        "id": "F5wQH6icMgsw",
        "outputId": "b4a187fa-35f9-4015-8a66-3892394d7388"
      },
      "execution_count": 38,
      "outputs": [
        {
          "output_type": "execute_result",
          "data": {
            "text/plain": [
              "(torch.Size([1, 2, 3]), torch.Size([2, 3]))"
            ]
          },
          "metadata": {},
          "execution_count": 38
        }
      ]
    },
    {
      "cell_type": "code",
      "source": [
        "x_unsq = torch.rand(3)\n",
        "x_unsq"
      ],
      "metadata": {
        "colab": {
          "base_uri": "https://localhost:8080/"
        },
        "id": "GDHfb6OAMrYz",
        "outputId": "5e5f9f20-fdef-4445-bba8-6f5d54582131"
      },
      "execution_count": 42,
      "outputs": [
        {
          "output_type": "execute_result",
          "data": {
            "text/plain": [
              "tensor([0.7534, 0.9524, 0.1876])"
            ]
          },
          "metadata": {},
          "execution_count": 42
        }
      ]
    },
    {
      "cell_type": "code",
      "source": [
        "torch.unsqueeze(x_unsq, 1)"
      ],
      "metadata": {
        "colab": {
          "base_uri": "https://localhost:8080/"
        },
        "id": "iM9oakM7M1cb",
        "outputId": "21d4819b-ff4e-4db3-f91d-799db5d036f9"
      },
      "execution_count": 44,
      "outputs": [
        {
          "output_type": "execute_result",
          "data": {
            "text/plain": [
              "tensor([[0.7534],\n",
              "        [0.9524],\n",
              "        [0.1876]])"
            ]
          },
          "metadata": {},
          "execution_count": 44
        }
      ]
    },
    {
      "cell_type": "code",
      "source": [
        "torch.unsqueeze(x_unsq, 1).shape"
      ],
      "metadata": {
        "colab": {
          "base_uri": "https://localhost:8080/"
        },
        "id": "Prjsvd5cNAHm",
        "outputId": "653f3e4d-5492-4ae8-c470-ae82126a9040"
      },
      "execution_count": 47,
      "outputs": [
        {
          "output_type": "execute_result",
          "data": {
            "text/plain": [
              "torch.Size([3, 1])"
            ]
          },
          "metadata": {},
          "execution_count": 47
        }
      ]
    },
    {
      "cell_type": "code",
      "source": [
        "torch.unsqueeze(x_unsq, 0)"
      ],
      "metadata": {
        "colab": {
          "base_uri": "https://localhost:8080/"
        },
        "id": "2pmDUhvoNFtB",
        "outputId": "65626f54-3040-4684-f2d8-f4a6e76f8f81"
      },
      "execution_count": 48,
      "outputs": [
        {
          "output_type": "execute_result",
          "data": {
            "text/plain": [
              "tensor([[0.7534, 0.9524, 0.1876]])"
            ]
          },
          "metadata": {},
          "execution_count": 48
        }
      ]
    },
    {
      "cell_type": "markdown",
      "source": [
        "### Permuting\n",
        "\n",
        "Swaps the order of the different dimensions. This is better understood with an example:"
      ],
      "metadata": {
        "id": "DroQHdyuOlMu"
      }
    },
    {
      "cell_type": "code",
      "source": [
        "a = torch.rand(224, 224, 3)\n",
        "a.shape"
      ],
      "metadata": {
        "colab": {
          "base_uri": "https://localhost:8080/"
        },
        "id": "95VQVnpJNl5-",
        "outputId": "ec3f49da-340a-4f3e-9599-6cb46fe536ef"
      },
      "execution_count": 52,
      "outputs": [
        {
          "output_type": "execute_result",
          "data": {
            "text/plain": [
              "torch.Size([224, 224, 3])"
            ]
          },
          "metadata": {},
          "execution_count": 52
        }
      ]
    },
    {
      "cell_type": "code",
      "source": [
        "a.permute(2, 0, 1).shape"
      ],
      "metadata": {
        "colab": {
          "base_uri": "https://localhost:8080/"
        },
        "id": "8an3sJkCPK9o",
        "outputId": "3de4863a-5473-4bd4-c326-f97ba4804a08"
      },
      "execution_count": 53,
      "outputs": [
        {
          "output_type": "execute_result",
          "data": {
            "text/plain": [
              "torch.Size([3, 224, 224])"
            ]
          },
          "metadata": {},
          "execution_count": 53
        }
      ]
    },
    {
      "cell_type": "code",
      "source": [
        "a.shape"
      ],
      "metadata": {
        "colab": {
          "base_uri": "https://localhost:8080/"
        },
        "id": "gIqHBtKdPWsY",
        "outputId": "9631e31c-7908-4831-afd8-5fb9ee869f95"
      },
      "execution_count": 54,
      "outputs": [
        {
          "output_type": "execute_result",
          "data": {
            "text/plain": [
              "torch.Size([224, 224, 3])"
            ]
          },
          "metadata": {},
          "execution_count": 54
        }
      ]
    },
    {
      "cell_type": "markdown",
      "source": [
        "### Selecting data from tensors:"
      ],
      "metadata": {
        "id": "_ifWASs6QAJm"
      }
    },
    {
      "cell_type": "code",
      "source": [
        "x = torch.arange(1, 10).reshape(1, 3, 3)\n",
        "x"
      ],
      "metadata": {
        "colab": {
          "base_uri": "https://localhost:8080/"
        },
        "id": "iDW6uWGdP2T9",
        "outputId": "31027314-f067-4ef8-ddee-eb91ffc93d53"
      },
      "execution_count": 56,
      "outputs": [
        {
          "output_type": "execute_result",
          "data": {
            "text/plain": [
              "tensor([[[1, 2, 3],\n",
              "         [4, 5, 6],\n",
              "         [7, 8, 9]]])"
            ]
          },
          "metadata": {},
          "execution_count": 56
        }
      ]
    },
    {
      "cell_type": "code",
      "source": [
        "x[0]"
      ],
      "metadata": {
        "colab": {
          "base_uri": "https://localhost:8080/"
        },
        "id": "QTanFTXyQRbn",
        "outputId": "4a98b19b-41c6-4a05-9026-9faf3d5972c2"
      },
      "execution_count": 57,
      "outputs": [
        {
          "output_type": "execute_result",
          "data": {
            "text/plain": [
              "tensor([[1, 2, 3],\n",
              "        [4, 5, 6],\n",
              "        [7, 8, 9]])"
            ]
          },
          "metadata": {},
          "execution_count": 57
        }
      ]
    },
    {
      "cell_type": "code",
      "source": [
        "x[0, 0]"
      ],
      "metadata": {
        "colab": {
          "base_uri": "https://localhost:8080/"
        },
        "id": "6DQcXW75QePZ",
        "outputId": "8a28ae76-4fc5-4352-d6f2-55385215b9c6"
      },
      "execution_count": 58,
      "outputs": [
        {
          "output_type": "execute_result",
          "data": {
            "text/plain": [
              "tensor([1, 2, 3])"
            ]
          },
          "metadata": {},
          "execution_count": 58
        }
      ]
    },
    {
      "cell_type": "code",
      "source": [
        "x[0][0]"
      ],
      "metadata": {
        "colab": {
          "base_uri": "https://localhost:8080/"
        },
        "id": "JZMAjxhYQfiY",
        "outputId": "27274898-8808-4709-e07e-4c431afcab8f"
      },
      "execution_count": 59,
      "outputs": [
        {
          "output_type": "execute_result",
          "data": {
            "text/plain": [
              "tensor([1, 2, 3])"
            ]
          },
          "metadata": {},
          "execution_count": 59
        }
      ]
    },
    {
      "cell_type": "code",
      "source": [
        "x[0][0][0]"
      ],
      "metadata": {
        "colab": {
          "base_uri": "https://localhost:8080/"
        },
        "id": "KvmupDXwQxtC",
        "outputId": "da2c6827-8eff-4ac6-dfc2-6f98acf0de38"
      },
      "execution_count": 61,
      "outputs": [
        {
          "output_type": "execute_result",
          "data": {
            "text/plain": [
              "tensor(1)"
            ]
          },
          "metadata": {},
          "execution_count": 61
        }
      ]
    },
    {
      "cell_type": "code",
      "source": [
        "x[:, 1, :]"
      ],
      "metadata": {
        "colab": {
          "base_uri": "https://localhost:8080/"
        },
        "id": "VkDkQYhbQk00",
        "outputId": "7c0f5f77-0788-4652-8941-92ec6c7e5c90"
      },
      "execution_count": 62,
      "outputs": [
        {
          "output_type": "execute_result",
          "data": {
            "text/plain": [
              "tensor([[4, 5, 6]])"
            ]
          },
          "metadata": {},
          "execution_count": 62
        }
      ]
    },
    {
      "cell_type": "markdown",
      "source": [
        "## Combining PyTorch & Numpy\n",
        "\n",
        "You can convert any numpy array to a PyTorch tensor using the torch.from_numpy().\n",
        "\n",
        "You can also convert a tensor to a numpy array by using the torch.tensor method called .numpy()."
      ],
      "metadata": {
        "id": "TqnDONgsSPO2"
      }
    },
    {
      "cell_type": "code",
      "source": [
        "array = np.arange(1.0, 8.0)"
      ],
      "metadata": {
        "id": "jzJL1hM6QpOm"
      },
      "execution_count": 66,
      "outputs": []
    },
    {
      "cell_type": "code",
      "source": [
        "array"
      ],
      "metadata": {
        "colab": {
          "base_uri": "https://localhost:8080/"
        },
        "id": "1HBvHYs6S1tn",
        "outputId": "4d428c5d-26da-43ed-d495-26ebf0d1ca78"
      },
      "execution_count": 67,
      "outputs": [
        {
          "output_type": "execute_result",
          "data": {
            "text/plain": [
              "array([1., 2., 3., 4., 5., 6., 7.])"
            ]
          },
          "metadata": {},
          "execution_count": 67
        }
      ]
    },
    {
      "cell_type": "code",
      "source": [
        "tensor = torch.from_numpy(array)\n",
        "tensor"
      ],
      "metadata": {
        "colab": {
          "base_uri": "https://localhost:8080/"
        },
        "id": "3OT4OvNrS3-n",
        "outputId": "ef16ecd4-459d-4154-d3e8-604c56040fb9"
      },
      "execution_count": 70,
      "outputs": [
        {
          "output_type": "execute_result",
          "data": {
            "text/plain": [
              "tensor([1., 2., 3., 4., 5., 6., 7.], dtype=torch.float64)"
            ]
          },
          "metadata": {},
          "execution_count": 70
        }
      ]
    },
    {
      "cell_type": "markdown",
      "source": [
        "Note that this has dtype=torch.float64. This is important to note, as when converting from Numpy to PyTorch, PyTorch keeps the natural Numpy data type, called float64. Instead of the default torch.float32. You can change it using:"
      ],
      "metadata": {
        "id": "KSWsNTg8TBa4"
      }
    },
    {
      "cell_type": "code",
      "source": [
        "tensor.type(torch.float32)"
      ],
      "metadata": {
        "colab": {
          "base_uri": "https://localhost:8080/"
        },
        "id": "4HgzyStuS-_J",
        "outputId": "8341ed65-9590-4acf-9e88-0a1dc5b010d2"
      },
      "execution_count": 71,
      "outputs": [
        {
          "output_type": "execute_result",
          "data": {
            "text/plain": [
              "tensor([1., 2., 3., 4., 5., 6., 7.])"
            ]
          },
          "metadata": {},
          "execution_count": 71
        }
      ]
    },
    {
      "cell_type": "markdown",
      "source": [
        "Converted arrays or tensors point to the same place in memory:"
      ],
      "metadata": {
        "id": "LH-wMM7dT4IK"
      }
    },
    {
      "cell_type": "code",
      "source": [
        "array = array + 1\n",
        "array, tensor"
      ],
      "metadata": {
        "colab": {
          "base_uri": "https://localhost:8080/"
        },
        "id": "lSlu--2uTXzs",
        "outputId": "f2a63a3f-1363-4b34-91c2-397f46d90e9e"
      },
      "execution_count": 75,
      "outputs": [
        {
          "output_type": "execute_result",
          "data": {
            "text/plain": [
              "(array([3., 4., 5., 6., 7., 8., 9.]),\n",
              " tensor([3., 4., 5., 6., 7., 8., 9.], dtype=torch.float64))"
            ]
          },
          "metadata": {},
          "execution_count": 75
        }
      ]
    },
    {
      "cell_type": "markdown",
      "source": [
        "This doesn't apply the other way around. Tensors don't point to the same place in memory than the array used to build them."
      ],
      "metadata": {
        "id": "X7lYX8b4UDKc"
      }
    },
    {
      "cell_type": "code",
      "source": [
        "tensor = tensor + 1\n",
        "array, tensor"
      ],
      "metadata": {
        "colab": {
          "base_uri": "https://localhost:8080/"
        },
        "id": "5B-lHbQpTw3o",
        "outputId": "72e8cadd-bd7e-4825-a214-357b714d053b"
      },
      "execution_count": 76,
      "outputs": [
        {
          "output_type": "execute_result",
          "data": {
            "text/plain": [
              "(array([3., 4., 5., 6., 7., 8., 9.]),\n",
              " tensor([ 4.,  5.,  6.,  7.,  8.,  9., 10.], dtype=torch.float64))"
            ]
          },
          "metadata": {},
          "execution_count": 76
        }
      ]
    },
    {
      "cell_type": "markdown",
      "source": [
        "## Reproducibility in randomness\n",
        "\n",
        "We want to get repeatable values from our operations. This can be done by setting the seed, similar to what we do in numpy or sklearn. Every time we run the cell below, we get a different output, so if we share code this is not optimal.\n",
        "\n",
        "In PyTorch, this is called a random seed."
      ],
      "metadata": {
        "id": "dGlRuN61USJb"
      }
    },
    {
      "cell_type": "code",
      "source": [
        "torch.rand(3, 3)"
      ],
      "metadata": {
        "colab": {
          "base_uri": "https://localhost:8080/"
        },
        "id": "-i7D3irPUA93",
        "outputId": "7fc4d5b1-3946-4e99-e1e1-f31a0238c74b"
      },
      "execution_count": 77,
      "outputs": [
        {
          "output_type": "execute_result",
          "data": {
            "text/plain": [
              "tensor([[0.0374, 0.6252, 0.6026],\n",
              "        [0.0397, 0.9928, 0.3874],\n",
              "        [0.7245, 0.1603, 0.2738]])"
            ]
          },
          "metadata": {},
          "execution_count": 77
        }
      ]
    },
    {
      "cell_type": "code",
      "source": [
        "random_tensor_a = torch.rand(3, 4)\n",
        "random_tensor_b = torch.rand(3, 4)"
      ],
      "metadata": {
        "id": "dLs16dyHUkb2"
      },
      "execution_count": 81,
      "outputs": []
    },
    {
      "cell_type": "code",
      "source": [
        "random_tensor_a, random_tensor_b"
      ],
      "metadata": {
        "colab": {
          "base_uri": "https://localhost:8080/"
        },
        "id": "B98vVuo8VHyY",
        "outputId": "2167528b-c691-45ae-b405-0727370f41ec"
      },
      "execution_count": 82,
      "outputs": [
        {
          "output_type": "execute_result",
          "data": {
            "text/plain": [
              "(tensor([[0.1290, 0.8564, 0.9728, 0.1567],\n",
              "         [0.2003, 0.5835, 0.2456, 0.9156],\n",
              "         [0.4967, 0.7569, 0.5343, 0.4547]]),\n",
              " tensor([[0.8131, 0.0851, 0.6867, 0.3290],\n",
              "         [0.0961, 0.1383, 0.7938, 0.9698],\n",
              "         [0.5888, 0.2876, 0.7103, 0.2028]]))"
            ]
          },
          "metadata": {},
          "execution_count": 82
        }
      ]
    },
    {
      "cell_type": "code",
      "source": [
        "random_tensor_a == random_tensor_b"
      ],
      "metadata": {
        "colab": {
          "base_uri": "https://localhost:8080/"
        },
        "id": "s9YmL_aQVJpc",
        "outputId": "a884f900-9094-42d2-8a6e-10ab3918c738"
      },
      "execution_count": 83,
      "outputs": [
        {
          "output_type": "execute_result",
          "data": {
            "text/plain": [
              "tensor([[False, False, False, False],\n",
              "        [False, False, False, False],\n",
              "        [False, False, False, False]])"
            ]
          },
          "metadata": {},
          "execution_count": 83
        }
      ]
    },
    {
      "cell_type": "markdown",
      "source": [
        "We may want random experiments but reproducible. For that, we can set a random seed. The random seed works like in Numpy, so you have to call it each time you execute torch.\"something\""
      ],
      "metadata": {
        "id": "fQRB1Ns0Vira"
      }
    },
    {
      "cell_type": "code",
      "source": [
        "random_seed = 101\n",
        "\n",
        "torch.manual_seed(random_seed)\n",
        "random_tensor_c = torch.rand(3, 4)\n",
        "\n",
        "torch.manual_seed(random_seed)\n",
        "random_tensor_d = torch.rand(3, 4)\n",
        "\n",
        "random_tensor_c == random_tensor_d"
      ],
      "metadata": {
        "colab": {
          "base_uri": "https://localhost:8080/"
        },
        "id": "nTi0CmoXVPa8",
        "outputId": "d1d35f30-f2cd-4cd4-d25c-567e63c683e0"
      },
      "execution_count": 85,
      "outputs": [
        {
          "output_type": "execute_result",
          "data": {
            "text/plain": [
              "tensor([[True, True, True, True],\n",
              "        [True, True, True, True],\n",
              "        [True, True, True, True]])"
            ]
          },
          "metadata": {},
          "execution_count": 85
        }
      ]
    },
    {
      "cell_type": "markdown",
      "source": [
        "# The concept of running on CPU / GPU\n",
        "\n",
        "All PyTorch objects can be run either in your computer's CPU, or in the GPU. This allows for faster computation, but you need to be explicit with it in PyTorch.\n",
        "\n",
        "In order to check if you are running on GPU, especially if you are using NVIDIA GPUs is executing the nvidia-smi command in the command line.\n",
        "\n",
        "This will only work if the runtime is switched to a GPU."
      ],
      "metadata": {
        "id": "5RpwbEWaXK1f"
      }
    },
    {
      "cell_type": "code",
      "source": [
        "! nvidia-smi"
      ],
      "metadata": {
        "colab": {
          "base_uri": "https://localhost:8080/"
        },
        "id": "4hh4svJWV6Jb",
        "outputId": "d34d5e50-bbd4-4a40-c105-2a6ccfa44fa5"
      },
      "execution_count": 86,
      "outputs": [
        {
          "output_type": "stream",
          "name": "stdout",
          "text": [
            "NVIDIA-SMI has failed because it couldn't communicate with the NVIDIA driver. Make sure that the latest NVIDIA driver is installed and running.\n",
            "\n"
          ]
        }
      ]
    },
    {
      "cell_type": "code",
      "source": [
        "torch.cuda.is_available()"
      ],
      "metadata": {
        "colab": {
          "base_uri": "https://localhost:8080/"
        },
        "id": "lqY0TpstYcbf",
        "outputId": "19b805b5-7cdf-45cd-cc9f-b2a372fc7cff"
      },
      "execution_count": 87,
      "outputs": [
        {
          "output_type": "execute_result",
          "data": {
            "text/plain": [
              "False"
            ]
          },
          "metadata": {},
          "execution_count": 87
        }
      ]
    },
    {
      "cell_type": "markdown",
      "source": [
        "## How to set up device-agnostic code\n",
        "\n",
        "There is a very simple way to set up your device so that everything is agnostic to whether you have a CPU or GPU, which is basically using the torch.cuda.is_available() shown above.\n",
        "\n",
        "Using that you can build a pipeline that is agnostic to which processing unit you have available. It goes like this:"
      ],
      "metadata": {
        "id": "_hYz9uB7ZREe"
      }
    },
    {
      "cell_type": "code",
      "source": [
        "device = 'cuda' if torch.cuda.is_available() else 'cpu'\n",
        "device"
      ],
      "metadata": {
        "colab": {
          "base_uri": "https://localhost:8080/",
          "height": 36
        },
        "id": "82pnRSWuZMPH",
        "outputId": "7b9fcf5d-0487-4071-835a-43840c9df229"
      },
      "execution_count": 88,
      "outputs": [
        {
          "output_type": "execute_result",
          "data": {
            "text/plain": [
              "'cpu'"
            ],
            "application/vnd.google.colaboratory.intrinsic+json": {
              "type": "string"
            }
          },
          "metadata": {},
          "execution_count": 88
        }
      ]
    },
    {
      "cell_type": "markdown",
      "source": [
        "Counting the number of GPUs"
      ],
      "metadata": {
        "id": "2_UcN1hTZ6KK"
      }
    },
    {
      "cell_type": "code",
      "source": [
        "torch.cuda.device_count()"
      ],
      "metadata": {
        "colab": {
          "base_uri": "https://localhost:8080/"
        },
        "id": "2z8WOjrAZ2bh",
        "outputId": "96d714b6-c870-48f6-a3bd-f66bffcd92e0"
      },
      "execution_count": 89,
      "outputs": [
        {
          "output_type": "stream",
          "name": "stderr",
          "text": [
            "/usr/local/lib/python3.8/dist-packages/torch/cuda/__init__.py:497: UserWarning: Can't initialize NVML\n",
            "  warnings.warn(\"Can't initialize NVML\")\n"
          ]
        },
        {
          "output_type": "execute_result",
          "data": {
            "text/plain": [
              "0"
            ]
          },
          "metadata": {},
          "execution_count": 89
        }
      ]
    },
    {
      "cell_type": "markdown",
      "source": [
        "In order to use the GPU, we have to put everything related to training in the GPU. Using the GPU makes computations faster, but PyTorch requires us to be explicit with where the data should be located. For training, we need both the model and the data tensors in the GPU."
      ],
      "metadata": {
        "id": "siGxMjrnaalh"
      }
    },
    {
      "cell_type": "code",
      "source": [
        "tensor = torch.tensor([1, 2, 5], device=\"cpu\")"
      ],
      "metadata": {
        "id": "Jj48bYezZ_C9"
      },
      "execution_count": 90,
      "outputs": []
    },
    {
      "cell_type": "markdown",
      "source": [
        "You can also move the device \"to\" the CPU/GPU."
      ],
      "metadata": {
        "id": "nkszETU3bBSU"
      }
    },
    {
      "cell_type": "code",
      "source": [
        "tensor_on_gpu = tensor.to(device) # this only works in GPU if it's available"
      ],
      "metadata": {
        "id": "ccnRmC8ca0XR"
      },
      "execution_count": 91,
      "outputs": []
    },
    {
      "cell_type": "markdown",
      "source": [
        "### Considerations of using Numpy\n",
        "\n",
        "There will be some times in which we want to use numpy, for example for metric calculations. The problem is that Numpy only works on you CPU, and so, if your tensors are on GPU, you need to move them to CPU for computing.\n",
        "\n",
        "This is such a normal problem that PyTorch already has a way of dealing with this problem, called detach(), combined with numpy()."
      ],
      "metadata": {
        "id": "aWgEyLd1bRuA"
      }
    },
    {
      "cell_type": "code",
      "source": [
        "tensor.numpy() # If device is in GPU, this WILL NOT WORK"
      ],
      "metadata": {
        "colab": {
          "base_uri": "https://localhost:8080/"
        },
        "id": "v0noAUZLbPtZ",
        "outputId": "7a796f92-5923-49c3-f3a0-6273010b8a0c"
      },
      "execution_count": 93,
      "outputs": [
        {
          "output_type": "execute_result",
          "data": {
            "text/plain": [
              "array([1, 2, 5])"
            ]
          },
          "metadata": {},
          "execution_count": 93
        }
      ]
    },
    {
      "cell_type": "markdown",
      "source": [
        "For that, we need to detach the tensor from the GPU. We can do that with detach() and also with cpu()"
      ],
      "metadata": {
        "id": "9h8y_amZb9g3"
      }
    },
    {
      "cell_type": "code",
      "source": [
        "tensor.detach().numpy()"
      ],
      "metadata": {
        "colab": {
          "base_uri": "https://localhost:8080/"
        },
        "id": "By0uAUt6bvHY",
        "outputId": "416edbfe-e6ef-416a-dd53-57434004c372"
      },
      "execution_count": 94,
      "outputs": [
        {
          "output_type": "execute_result",
          "data": {
            "text/plain": [
              "array([1, 2, 5])"
            ]
          },
          "metadata": {},
          "execution_count": 94
        }
      ]
    },
    {
      "cell_type": "code",
      "source": [
        "tensor.cpu().numpy()"
      ],
      "metadata": {
        "colab": {
          "base_uri": "https://localhost:8080/"
        },
        "id": "6ncj03h7cIYj",
        "outputId": "ee192f44-11ba-4a53-d25b-4352326e85cf"
      },
      "execution_count": 95,
      "outputs": [
        {
          "output_type": "execute_result",
          "data": {
            "text/plain": [
              "array([1, 2, 5])"
            ]
          },
          "metadata": {},
          "execution_count": 95
        }
      ]
    },
    {
      "cell_type": "markdown",
      "source": [
        "# Exercises"
      ],
      "metadata": {
        "id": "aw2oRwvCc6OH"
      }
    },
    {
      "cell_type": "markdown",
      "source": [
        "Create a random tensor with shape (7, 7)."
      ],
      "metadata": {
        "id": "jpB4ReSAdGiH"
      }
    },
    {
      "cell_type": "code",
      "source": [
        "tensor_1 = torch.rand(7, 7)\n",
        "tensor_1"
      ],
      "metadata": {
        "colab": {
          "base_uri": "https://localhost:8080/"
        },
        "id": "69XD_LvIcLoa",
        "outputId": "5387066b-9fe0-4908-9b7d-f78d377d3094"
      },
      "execution_count": 98,
      "outputs": [
        {
          "output_type": "execute_result",
          "data": {
            "text/plain": [
              "tensor([[0.8310, 0.6744, 0.0299, 0.6592, 0.3304, 0.6563, 0.5190],\n",
              "        [0.0596, 0.6389, 0.3944, 0.2462, 0.1189, 0.6624, 0.2786],\n",
              "        [0.0116, 0.0587, 0.4109, 0.9920, 0.0466, 0.3861, 0.1460],\n",
              "        [0.5526, 0.0996, 0.7545, 0.1000, 0.2502, 0.0819, 0.5029],\n",
              "        [0.2406, 0.9118, 0.9401, 0.3970, 0.5867, 0.0894, 0.8525],\n",
              "        [0.1603, 0.6896, 0.9611, 0.0884, 0.4647, 0.5453, 0.5201],\n",
              "        [0.9407, 0.9042, 0.5836, 0.7245, 0.6212, 0.1815, 0.0018]])"
            ]
          },
          "metadata": {},
          "execution_count": 98
        }
      ]
    },
    {
      "cell_type": "markdown",
      "source": [
        "Perform a matrix multiplication on the tensor from 2 with another random tensor with shape (1, 7) (hint: you may have to transpose the second tensor)."
      ],
      "metadata": {
        "id": "LOk4dSOUdgIH"
      }
    },
    {
      "cell_type": "code",
      "source": [
        "tensor_2 = torch.rand(1, 7)\n",
        "\n",
        "torch.mm(tensor_1, tensor_2.T)"
      ],
      "metadata": {
        "colab": {
          "base_uri": "https://localhost:8080/"
        },
        "id": "dFS4LJHedIS4",
        "outputId": "1010cccb-5a74-4694-c2dc-ef47fc67803d"
      },
      "execution_count": 101,
      "outputs": [
        {
          "output_type": "execute_result",
          "data": {
            "text/plain": [
              "tensor([[1.2034],\n",
              "        [0.7906],\n",
              "        [0.6977],\n",
              "        [0.7396],\n",
              "        [1.1912],\n",
              "        [1.0834],\n",
              "        [1.2750]])"
            ]
          },
          "metadata": {},
          "execution_count": 101
        }
      ]
    },
    {
      "cell_type": "markdown",
      "source": [
        "Set the random seed to 0 and do exercises 2 & 3 over again."
      ],
      "metadata": {
        "id": "vGUixoMWdhEk"
      }
    },
    {
      "cell_type": "code",
      "source": [
        "torch.manual_seed(0)\n",
        "tensor_1 = torch.rand(7, 7)\n",
        "\n",
        "torch.manual_seed(0)\n",
        "tensor_2 = torch.rand(1, 7)\n",
        "\n",
        "torch.mm(tensor_1, tensor_2.T)"
      ],
      "metadata": {
        "colab": {
          "base_uri": "https://localhost:8080/"
        },
        "id": "ut5yaOvddXKC",
        "outputId": "ff39dd4e-bdd5-4e94-de6d-34f5bfed9444"
      },
      "execution_count": 102,
      "outputs": [
        {
          "output_type": "execute_result",
          "data": {
            "text/plain": [
              "tensor([[1.5985],\n",
              "        [1.1173],\n",
              "        [1.2741],\n",
              "        [1.6838],\n",
              "        [0.8279],\n",
              "        [1.0347],\n",
              "        [1.2498]])"
            ]
          },
          "metadata": {},
          "execution_count": 102
        }
      ]
    },
    {
      "cell_type": "markdown",
      "source": [
        "Speaking of random seeds, we saw how to set it with torch.manual_seed() but is there a GPU equivalent? (hint: you'll need to look into the documentation for torch.cuda for this one). If there is, set the GPU random seed to 1234."
      ],
      "metadata": {
        "id": "-Pm2D04ZdhaS"
      }
    },
    {
      "cell_type": "code",
      "source": [
        "torch.cuda.manual_seed(1234)"
      ],
      "metadata": {
        "id": "etvLcholdhqd"
      },
      "execution_count": 103,
      "outputs": []
    },
    {
      "cell_type": "markdown",
      "source": [
        "Create two random tensors of shape (2, 3) and send them both to the GPU (you'll need access to a GPU for this). Set torch.manual_seed(1234) when creating the tensors (this doesn't have to be the GPU random seed)."
      ],
      "metadata": {
        "id": "GeSyCqvmdh9M"
      }
    },
    {
      "cell_type": "code",
      "source": [
        "device = \"cuda\" if torch.cuda.is_available() else \"cpu\"\n",
        "\n",
        "torch.manual_seed(1234)\n",
        "tensor_3 = torch.rand(2, 3)\n",
        "\n",
        "torch.manual_seed(1234)\n",
        "tensor_4 = torch.rand(2, 3)"
      ],
      "metadata": {
        "id": "9-RyyojldidS"
      },
      "execution_count": 104,
      "outputs": []
    },
    {
      "cell_type": "markdown",
      "source": [
        "Perform a matrix multiplication on the tensors you created in 6 (again, you may have to adjust the shapes of one of the tensors)."
      ],
      "metadata": {
        "id": "-oOrGqVOeQao"
      }
    },
    {
      "cell_type": "code",
      "source": [
        "output = torch.mm(tensor_3, tensor_4.T)\n",
        "output"
      ],
      "metadata": {
        "colab": {
          "base_uri": "https://localhost:8080/"
        },
        "id": "At1JkPEdeQDr",
        "outputId": "bcd9edba-542d-497b-d49b-0c8eb55d7508"
      },
      "execution_count": 107,
      "outputs": [
        {
          "output_type": "execute_result",
          "data": {
            "text/plain": [
              "tensor([[0.2299, 0.2161],\n",
              "        [0.2161, 0.6287]])"
            ]
          },
          "metadata": {},
          "execution_count": 107
        }
      ]
    },
    {
      "cell_type": "markdown",
      "source": [
        "Find the maximum and minimum values of the output of 7."
      ],
      "metadata": {
        "id": "beK3b_G-eQ2D"
      }
    },
    {
      "cell_type": "code",
      "source": [
        "torch.max(output), torch.min(output)"
      ],
      "metadata": {
        "colab": {
          "base_uri": "https://localhost:8080/"
        },
        "id": "j03HLtY8eRQo",
        "outputId": "532433b4-ec18-459e-f0d6-a97e656a4ba8"
      },
      "execution_count": 109,
      "outputs": [
        {
          "output_type": "execute_result",
          "data": {
            "text/plain": [
              "(tensor(0.6287), tensor(0.2161))"
            ]
          },
          "metadata": {},
          "execution_count": 109
        }
      ]
    },
    {
      "cell_type": "markdown",
      "source": [
        "Find the maximum and minimum index values of the output of 7."
      ],
      "metadata": {
        "id": "ksi0tnRZe5dp"
      }
    },
    {
      "cell_type": "code",
      "source": [
        "torch.argmax(output), torch.argmin(output)"
      ],
      "metadata": {
        "colab": {
          "base_uri": "https://localhost:8080/"
        },
        "id": "rVDDLAqCe5yd",
        "outputId": "e07e1d80-1c5d-42b7-aac1-a7a7e95e9213"
      },
      "execution_count": 110,
      "outputs": [
        {
          "output_type": "execute_result",
          "data": {
            "text/plain": [
              "(tensor(3), tensor(1))"
            ]
          },
          "metadata": {},
          "execution_count": 110
        }
      ]
    },
    {
      "cell_type": "markdown",
      "source": [
        "Make a random tensor with shape (1, 1, 1, 10) and then create a new tensor with all the 1 dimensions removed to be left with a tensor of shape (10). Set the seed to 7 when you create it and print out the first tensor and it's shape as well as the second tensor and it's shape."
      ],
      "metadata": {
        "id": "T1Bh1-kHe6GE"
      }
    },
    {
      "cell_type": "code",
      "source": [
        "torch.manual_seed(7)\n",
        "extra_tensor = torch.rand(1, 1, 1, 10)\n",
        "\n",
        "print(extra_tensor, extra_tensor.shape)"
      ],
      "metadata": {
        "colab": {
          "base_uri": "https://localhost:8080/"
        },
        "id": "gX3aTD7ne6iu",
        "outputId": "d77c54b2-dc01-48a3-dbb2-2a5de6921477"
      },
      "execution_count": 111,
      "outputs": [
        {
          "output_type": "stream",
          "name": "stdout",
          "text": [
            "tensor([[[[0.5349, 0.1988, 0.6592, 0.6569, 0.2328, 0.4251, 0.2071, 0.6297,\n",
            "           0.3653, 0.8513]]]]) torch.Size([1, 1, 1, 10])\n"
          ]
        }
      ]
    },
    {
      "cell_type": "code",
      "source": [
        "second_tensor = extra_tensor.squeeze()\n",
        "second_tensor, second_tensor.shape"
      ],
      "metadata": {
        "colab": {
          "base_uri": "https://localhost:8080/"
        },
        "id": "Dsw_KPiqfntU",
        "outputId": "6ebb7085-5cd4-4d84-da27-fd9e44f1f2e9"
      },
      "execution_count": 116,
      "outputs": [
        {
          "output_type": "execute_result",
          "data": {
            "text/plain": [
              "(tensor([0.5349, 0.1988, 0.6592, 0.6569, 0.2328, 0.4251, 0.2071, 0.6297, 0.3653,\n",
              "         0.8513]), torch.Size([10]))"
            ]
          },
          "metadata": {},
          "execution_count": 116
        }
      ]
    },
    {
      "cell_type": "code",
      "source": [],
      "metadata": {
        "id": "-VfRqacmfuNu"
      },
      "execution_count": null,
      "outputs": []
    }
  ]
}
