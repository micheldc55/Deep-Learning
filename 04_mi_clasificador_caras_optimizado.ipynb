{
  "nbformat": 4,
  "nbformat_minor": 0,
  "metadata": {
    "kernelspec": {
      "display_name": "Python 3",
      "language": "python",
      "name": "python3"
    },
    "language_info": {
      "codemirror_mode": {
        "name": "ipython",
        "version": 3
      },
      "file_extension": ".py",
      "mimetype": "text/x-python",
      "name": "python",
      "nbconvert_exporter": "python",
      "pygments_lexer": "ipython3",
      "version": "3.5.6"
    },
    "colab": {
      "name": "04-mi_clasificador_caras_optimizado.ipynb",
      "provenance": [],
      "collapsed_sections": [],
      "include_colab_link": true
    }
  },
  "cells": [
    {
      "cell_type": "markdown",
      "metadata": {
        "id": "view-in-github",
        "colab_type": "text"
      },
      "source": [
        "<a href=\"https://colab.research.google.com/github/micheldc55/Deep-Learning/blob/main/04_mi_clasificador_caras_optimizado.ipynb\" target=\"_parent\"><img src=\"https://colab.research.google.com/assets/colab-badge.svg\" alt=\"Open In Colab\"/></a>"
      ]
    },
    {
      "cell_type": "code",
      "metadata": {
        "id": "ugAvY7nxR8jS"
      },
      "source": [
        "COLAB = True"
      ],
      "execution_count": null,
      "outputs": []
    },
    {
      "cell_type": "code",
      "metadata": {
        "id": "WR_zC0DjSAi8"
      },
      "source": [
        "if COLAB:\n",
        "    from google_drive_downloader import GoogleDriveDownloader as gdd\n",
        "    gdd.download_file_from_google_drive(file_id='1q2shS6fBq_pSI8CBrjzdgg6DTTZfZ2mJ',\n",
        "                                        dest_path='./funciones_auxiliares.py')\n",
        "    gdd.download_file_from_google_drive(file_id='1qV3hqJFajv6iYLVqwtMIvr6Mo_GOOdQv',\n",
        "                                        dest_path='./caras_aux.py')\n",
        "    gdd.download_file_from_google_drive(file_id='1d_94YSDZu662q3JJ17r1dC1BHfOCTKZU',\n",
        "                                        dest_path='./datasets/gender.tgz')\n",
        "    !tar -xvf datasets/gender.tgz\n",
        "    !mv gender datasets"
      ],
      "execution_count": null,
      "outputs": []
    },
    {
      "cell_type": "code",
      "metadata": {
        "id": "SmEq4261R2m_"
      },
      "source": [
        "import numpy as np\n",
        "import pandas as pd\n",
        "import seaborn as sns\n",
        "import matplotlib.pyplot as plt\n",
        "from sklearn.metrics import roc_curve, auc, confusion_matrix\n",
        "\n",
        "%matplotlib inline"
      ],
      "execution_count": null,
      "outputs": []
    },
    {
      "cell_type": "markdown",
      "metadata": {
        "id": "53YPlH5WR2oM"
      },
      "source": [
        "La base de datos usada es un subconjunto de la base de datos\n",
        "\"Labeled Faces in the Wild\" (\"LFW\"):\n",
        "\n",
        "  http://vis-www.cs.umass.edu/lfw/lfw-funneled.tgz\n",
        "\n",
        "  http://vis-www.cs.umass.edu/lfw/\n",
        "\n",
        "La separación en carpetas \"female\" / \"male\" se ha realizado usando\n",
        "un código basado en:\n",
        "https://github.com/Pletron/LFWgender"
      ]
    },
    {
      "cell_type": "code",
      "metadata": {
        "id": "4JBOX6jgR2oS"
      },
      "source": [
        "from caras_aux import loadImages, plot_gallery\n",
        "\n",
        "# cargo las imágenes y preparo los datos que se van a usar\n",
        "factor = 0.3 # factor de reducción de resolución de las imágenes, debe ser\n",
        "             # >0 y <=1 (en cuyo caso la resolución es la original, 250x250)\n",
        "X_clase0, height, width = loadImages('./datasets/gender/female',\n",
        "                                     factor=factor, nimages=1000)\n",
        "X_clase1, height, width = loadImages('./datasets/gender/male',\n",
        "                                     factor=factor, nimages=1000)\n",
        "X = np.concatenate((X_clase0, X_clase1))\n",
        "n_samples, n_features = X.shape\n",
        "\n",
        "target_names = np.array(['female', 'male'])\n",
        "n_classes = len(target_names)\n",
        "N0 = len(X_clase0); N1 = len(X_clase1)\n",
        "y = N0*[0] + N1*[1]\n",
        "y = np.array(y)\n",
        "\n",
        "print('\\nEstadísticas básicas de la base de datos leída:')\n",
        "print('  # clases: %d' % n_classes)\n",
        "print('  # patrones: %d' % n_samples)\n",
        "print('  # atributos (features): %d' % n_features)\n",
        "\n",
        "print('\\nAlgunas imágenes de la clase \"female\":')\n",
        "plot_gallery(X_clase0[:12].reshape((12, height, width)),\n",
        "             12*['female'], cmap=plt.cm.gray)\n",
        "print('\\nAlgunas imágenes de la clase \"male\":')\n",
        "plot_gallery(X_clase1[:12].reshape((12, height, width)),\n",
        "             12*['male'], cmap=plt.cm.gray)"
      ],
      "execution_count": null,
      "outputs": []
    },
    {
      "cell_type": "code",
      "metadata": {
        "id": "YDgXiOfsR2o6"
      },
      "source": [
        "print(np.shape(X)); print(np.shape(y)); print(X)"
      ],
      "execution_count": null,
      "outputs": []
    },
    {
      "cell_type": "code",
      "metadata": {
        "id": "LDx__I99R2pT"
      },
      "source": [
        "X.min(), X.max()"
      ],
      "execution_count": null,
      "outputs": []
    },
    {
      "cell_type": "code",
      "metadata": {
        "id": "nH-Qs1q9R2pt"
      },
      "source": [
        "X /= 255"
      ],
      "execution_count": null,
      "outputs": []
    },
    {
      "cell_type": "code",
      "metadata": {
        "id": "w9_Q_fFTR2qE"
      },
      "source": [
        "np.unique(y)"
      ],
      "execution_count": null,
      "outputs": []
    },
    {
      "cell_type": "code",
      "metadata": {
        "id": "9O5aFGfTR2qY"
      },
      "source": [
        "X.shape"
      ],
      "execution_count": null,
      "outputs": []
    },
    {
      "cell_type": "code",
      "metadata": {
        "id": "zqbZom7aR2qr"
      },
      "source": [
        "y.shape"
      ],
      "execution_count": null,
      "outputs": []
    },
    {
      "cell_type": "code",
      "metadata": {
        "id": "aX4DS3BcR2q4"
      },
      "source": [
        "from sklearn.model_selection import train_test_split\n",
        "    \n",
        "# divido en conjuntos de training y test\n",
        "X_train, X_test, y_train, y_test = train_test_split(X, y,\n",
        "                                                    test_size=200,\n",
        "                                                    random_state=42)"
      ],
      "execution_count": null,
      "outputs": []
    },
    {
      "cell_type": "code",
      "metadata": {
        "id": "fXPljLiUR2rJ"
      },
      "source": [
        "from caras_aux import report_base_error\n",
        "\n",
        "plt.figure(figsize=(10,3))\n",
        "ax = plt.subplot(1,2,1)\n",
        "clases, counts = np.unique(y_train, return_counts=True)\n",
        "plt.bar(clases[0], 100*counts[0]/len(y_train))\n",
        "plt.bar(clases[1], 100*counts[1]/len(y_train))\n",
        "plt.title('Training'); plt.xlabel('Clase'); plt.ylabel('Frequency (%)'); ax.set_xticks(clases)\n",
        "\n",
        "ax = plt.subplot(1,2,2)\n",
        "none, counts = np.unique(y_test, return_counts=True)\n",
        "plt.bar(clases[0], 100*counts[0]/len(y_test))\n",
        "plt.bar(clases[1], 100*counts[1]/len(y_test))\n",
        "plt.title('Test'); plt.xlabel('Clase'); ax.set_xticks(clases); plt.show()\n",
        "\n",
        "report_base_error(X_train, y_train, X_test, y_test)"
      ],
      "execution_count": null,
      "outputs": []
    },
    {
      "cell_type": "markdown",
      "metadata": {
        "id": "Q396_0WER2rY"
      },
      "source": [
        "Otra forma de hacer el mismo cálculo:"
      ]
    },
    {
      "cell_type": "code",
      "metadata": {
        "id": "qYWSpR_CR2rb"
      },
      "source": [
        "from sklearn.dummy import DummyClassifier\n",
        "\n",
        "clf = DummyClassifier(strategy='prior')\n",
        "clf.fit(X=X_train, y=y_train)\n",
        "print('Score del clasificador Dummy en test:', clf.score(X=X_test,y=y_test)) # en realidad no usa X_test"
      ],
      "execution_count": null,
      "outputs": []
    },
    {
      "cell_type": "code",
      "metadata": {
        "id": "3EFcED1wR2ru"
      },
      "source": [
        "from sklearn.linear_model import LogisticRegression\n",
        "\n",
        "model = LogisticRegression()\n",
        "model"
      ],
      "execution_count": null,
      "outputs": []
    },
    {
      "cell_type": "code",
      "metadata": {
        "id": "AYyoxWRdR2r9"
      },
      "source": [
        "model.fit(X_train, y_train)\n",
        "y_train_pred = model.predict(X_train)\n",
        "y_test_pred  = model.predict(X_test)"
      ],
      "execution_count": null,
      "outputs": []
    },
    {
      "cell_type": "code",
      "metadata": {
        "id": "ARgSboa-R2sM"
      },
      "source": [
        "from sklearn.metrics import accuracy_score\n",
        "\n",
        "print(accuracy_score(y_train, y_train_pred))\n",
        "print(accuracy_score(y_test,  y_test_pred))"
      ],
      "execution_count": null,
      "outputs": []
    },
    {
      "cell_type": "code",
      "metadata": {
        "id": "Wm9wtZWER2se"
      },
      "source": [
        "from funciones_auxiliares import analisis_roc, plot_confusion_matrix"
      ],
      "execution_count": null,
      "outputs": []
    },
    {
      "cell_type": "code",
      "metadata": {
        "id": "PTEBbhayR2sv"
      },
      "source": [
        "# Resultados detallados en test\n",
        "plt.figure(figsize=(10,5))\n",
        "plt.subplot(1,2,1)\n",
        "analisis_roc(y_test, model.predict_proba(X_test)[:,1])\n",
        "plt.subplot(1,2,2)\n",
        "plot_confusion_matrix(y_test, y_test_pred)"
      ],
      "execution_count": null,
      "outputs": []
    },
    {
      "cell_type": "markdown",
      "metadata": {
        "id": "nvkCdlrJR2tA"
      },
      "source": [
        "### Regresión logística implementada a mano"
      ]
    },
    {
      "cell_type": "code",
      "metadata": {
        "id": "THW7NOsjxpm6"
      },
      "source": [
        "37*37"
      ],
      "execution_count": null,
      "outputs": []
    },
    {
      "cell_type": "code",
      "metadata": {
        "id": "gK5M5iKWR2tD"
      },
      "source": [
        "def my_model(x, w):\n",
        "    return 1/(1+np.exp(-(w[0] + (x*w[1:]).sum(axis=1)))) + 1*np.mean(w**2)"
      ],
      "execution_count": null,
      "outputs": []
    },
    {
      "cell_type": "code",
      "metadata": {
        "id": "FMp2EojkR2tR"
      },
      "source": [
        "w = np.random.randn(X.shape[1]+1)\n",
        "w"
      ],
      "execution_count": null,
      "outputs": []
    },
    {
      "cell_type": "code",
      "metadata": {
        "id": "iI929Jt5R2tg"
      },
      "source": [
        "print(X_train[0].shape)\n",
        "print(w.shape)"
      ],
      "execution_count": null,
      "outputs": []
    },
    {
      "cell_type": "code",
      "metadata": {
        "id": "lxD-8Y77R2tt"
      },
      "source": [
        "my_model(X_train[0:10], w)"
      ],
      "execution_count": null,
      "outputs": []
    },
    {
      "cell_type": "markdown",
      "metadata": {
        "id": "Om6fvxB4R2t7"
      },
      "source": [
        "**Función de error:**\n",
        "\n",
        "\\begin{equation}\n",
        "logloss(data,w) = - \\sum_i y_i \\cdot \\log {\\hat y}_i - \\sum_i (1-y_i) \\cdot \\log (1-{\\hat y}_i)\n",
        "\\end{equation}\n",
        "\n",
        "**Notas:**\n",
        "\n",
        "* $0 \\cdot \\log 0$ se toma como 0\n",
        "* Clases binarias: la clase real $y_i$ sólo puede ser 0 o 1\n",
        "* ${\\hat y}_i$ es la predicción del modelo para el caso $i$. Dicha predicción es una probabilidad, y depende de $w$ y de $X_i$"
      ]
    },
    {
      "cell_type": "markdown",
      "metadata": {
        "id": "HVg1EmPSR2t_"
      },
      "source": [
        "**Sensibilidad** (gradiente) de logloss a una perturbación en el parámetro $w_k$:\n",
        "\n",
        "\\begin{equation}\n",
        "\\frac{\\partial}{\\partial \\, w_k} \\, logloss(data,w) = - \\frac{\\partial}{\\partial \\, w_k} \\sum_i y_i \\cdot \\log {\\hat y}_i - \\frac{\\partial}{\\partial \\, w_k} \\sum_i (1-y_i) \\cdot \\log (1-{\\hat y}_i)\n",
        "\\end{equation}\n",
        "$$\n",
        "= - \\sum_i \\frac{\\partial}{\\partial \\, w_k} \\left[ y_i \\cdot \\log {\\hat y}_i \\right] - \\sum_i \\frac{\\partial}{\\partial \\, w_k} \\left[ (1-y_i) \\cdot \\log (1-{\\hat y}_i) \\right]\n",
        "$$\n",
        "$$\n",
        "= - \\sum_i  y_i \\cdot \\frac{\\partial}{\\partial \\, w_k} \\log {\\hat y}_i  - \\sum_i (1-y_i) \\cdot \\frac{\\partial}{\\partial \\, w_k} \\log (1-{\\hat y}_i)\n",
        "$$"
      ]
    },
    {
      "cell_type": "markdown",
      "metadata": {
        "id": "DnQWmm_YR2uB"
      },
      "source": [
        "Por otra parte:\n",
        "\n",
        "$$\n",
        "{\\hat y}_i = \\frac{1}{1 + e^{-z_i}}\n",
        "$$\n",
        "con\n",
        "$$\n",
        "z_i = w_0 + \\sum_{k=1} w_k \\cdot X_{i,k-1}\n",
        "$$"
      ]
    },
    {
      "cell_type": "markdown",
      "metadata": {
        "id": "woTH6s10R2uE"
      },
      "source": [
        "La magnitud ${\\hat y}_i$ depende de $z_i$, que a su vez depende de $w$, por lo que según la regla de la cadena de derivación:\n",
        "\n",
        "$$\n",
        "\\frac{\\partial}{\\partial \\, w_k} \\log {\\hat y}_i =\n",
        "\\left( \\frac{d}{d \\, z_i} \\log {\\hat y}_i \\right) \\cdot\n",
        "\\left( \\frac{\\partial}{\\partial \\, w_k} z_i \\right)\n",
        "$$\n",
        "\n",
        "Si se desarrolla un poco más:\n",
        "\n",
        "$$\n",
        "\\frac{\\partial}{\\partial \\, w_k} \\log {\\hat y}_i =\n",
        "\\left( \\frac{1}{{\\hat y}_i} \\cdot \\frac{d}{d \\, z_i} {\\hat y}_i \\right) \\cdot\n",
        "\\left( \\frac{\\partial}{\\partial \\, w_k} z_i \\right)\n",
        "$$\n",
        "\n",
        "Por una parte,\n",
        "\n",
        "$$\n",
        "\\frac{d}{d \\, z_i} {\\hat y}_i =\n",
        "\\frac{d}{d \\, z_i} \\left( \\frac{1}{1 + e^{-z_i}} \\right) =\n",
        "\\frac{e^{-z_i}}{\\left( 1 + e^{-z_i} \\right)^2} =\n",
        "{\\hat y}_i \\cdot (1 - {\\hat y}_i)\n",
        "$$\n",
        "\n",
        "Y por otra:\n",
        "\n",
        "* $\\frac{\\partial}{\\partial \\, w_0} z_i = 1$\n",
        "\n",
        "* $\\frac{\\partial}{\\partial \\, w_k} z_i = X_{i,k-1}$ para $k>0$\n",
        "\n",
        "Utilizando todo esto en:\n",
        "\n",
        "\\begin{equation}\n",
        "\\frac{\\partial}{\\partial \\, w_k} \\, logloss(data,w) = - \\sum_i  y_i \\cdot \\frac{\\partial}{\\partial \\, w_k} \\log {\\hat y}_i  - \\sum_i (1-y_i) \\cdot \\frac{\\partial}{\\partial \\, w_k} \\log (1-{\\hat y}_i)\n",
        "\\end{equation}\n",
        "\n",
        "nos queda:\n",
        "\n",
        "$$\n",
        "\\frac{\\partial}{\\partial \\, w_0} \\, logloss(data,w) = - \\sum_i y_i \\cdot (1 - {\\hat y}_i) + \\sum_i (1 - y_i) \\cdot {\\hat y}_i = \\sum_i \\left( {\\hat y}_i - y_i \\right)\n",
        "$$\n",
        "$$\n",
        "\\frac{\\partial}{\\partial \\, w_k} \\, logloss(data,w) = \\sum_i \\left( {\\hat y}_i - y_i \\right) \\cdot X_{i,k-1}\n",
        "$$"
      ]
    },
    {
      "cell_type": "markdown",
      "metadata": {
        "id": "n1gJ6WV8R2uH"
      },
      "source": [
        "Las ecuaciones para cálculo de gradiente son entonces:\n",
        "\n",
        "$$\n",
        "\\frac{\\partial}{\\partial \\, w_0} \\, logloss(data,w) = \\sum_i \\left( {\\hat y}_i - y_i \\right)\n",
        "$$\n",
        "$$\n",
        "\\frac{\\partial}{\\partial \\, w_k} \\, logloss(data,w) = \\sum_i \\left( {\\hat y}_i - y_i \\right) \\cdot X_{i,k-1}\n",
        "$$"
      ]
    },
    {
      "cell_type": "code",
      "metadata": {
        "id": "wf7s7alnR2uM"
      },
      "source": [
        "def calcula_grad_logreg_logloss(data, w):\n",
        "    # logreg:  modelo\n",
        "    # logloss: función de error\n",
        "    \n",
        "    X, y   = data\n",
        "    y_pred = my_model(X, w)\n",
        "    aux = y_pred-y\n",
        "    \n",
        "    grad = np.zeros(len(w))\n",
        "    grad[0]  = aux.sum()\n",
        "    grad[1:] = aux.dot(X)\n",
        "    \n",
        "    return grad # + 2*0.5*w"
      ],
      "execution_count": null,
      "outputs": []
    },
    {
      "cell_type": "code",
      "metadata": {
        "id": "Rxb3d3Z_R2ue"
      },
      "source": [
        "calcula_grad_logreg_logloss((X_train[:1],y_train[:1]), w)"
      ],
      "execution_count": null,
      "outputs": []
    },
    {
      "cell_type": "code",
      "metadata": {
        "id": "ItPN9uT4R2ur"
      },
      "source": [
        "X_train[0]"
      ],
      "execution_count": null,
      "outputs": []
    },
    {
      "cell_type": "code",
      "metadata": {
        "id": "QoNVhSRSR2u9"
      },
      "source": [
        "#calcula_grad(my_model, X_train_sc[1], w)"
      ],
      "execution_count": null,
      "outputs": []
    },
    {
      "cell_type": "code",
      "metadata": {
        "id": "JxmBfLpsR2vM"
      },
      "source": [
        "X_train[1]"
      ],
      "execution_count": null,
      "outputs": []
    },
    {
      "cell_type": "markdown",
      "metadata": {
        "id": "uKRdqu7HR2vb"
      },
      "source": [
        "### Entrenamiento con batch"
      ]
    },
    {
      "cell_type": "code",
      "metadata": {
        "id": "w2WglNNGR2vh"
      },
      "source": [
        "from sklearn.metrics import log_loss"
      ],
      "execution_count": null,
      "outputs": []
    },
    {
      "cell_type": "code",
      "metadata": {
        "id": "dgtTgclZR2vv"
      },
      "source": [
        "alpha = 0.01\n",
        "nepocas = 500\n",
        "#batch_size = len(X_train) # 20 # 20 ha funcionado muy bien\n",
        "batch_size = 50\n",
        "Ntr = len(X_train)\n",
        "w = np.random.randn(X.shape[1]+1)*0\n",
        "errores_tr = []\n",
        "alpha_norm = alpha/batch_size\n",
        "\n",
        "for e in range(nepocas):\n",
        "    for b in range(0, Ntr, batch_size):\n",
        "        X_lote = X_train[b:(b+batch_size)]\n",
        "        y_lote = y_train[b:(b+batch_size)]\n",
        "        grad = calcula_grad_logreg_logloss((X_lote,y_lote), w)\n",
        "        w -= alpha_norm*grad\n",
        "        \n",
        "    error_total_tr = log_loss(y_train, my_model(X_train, w))\n",
        "    print(\"Error en training en época {}: {}\".format(e, error_total_tr))\n",
        "    errores_tr.append(error_total_tr)"
      ],
      "execution_count": null,
      "outputs": []
    },
    {
      "cell_type": "code",
      "metadata": {
        "id": "NkxhWQqUR2v6"
      },
      "source": [
        "plt.figure(figsize=(12,3))\n",
        "plt.plot(errores_tr, label='error_total_tr')\n",
        "plt.xlabel(\"época\", fontsize=14)\n",
        "plt.ylabel(\"error\", fontsize=14)\n",
        "plt.legend();"
      ],
      "execution_count": null,
      "outputs": []
    },
    {
      "cell_type": "code",
      "metadata": {
        "id": "LREUXFN-R2wG"
      },
      "source": [
        "print(model.intercept_)\n",
        "print(model.coef_)"
      ],
      "execution_count": null,
      "outputs": []
    },
    {
      "cell_type": "code",
      "metadata": {
        "id": "VmFtBWNLR2wR"
      },
      "source": [
        "print(w[0])\n",
        "print(w[1:])"
      ],
      "execution_count": null,
      "outputs": []
    },
    {
      "cell_type": "code",
      "metadata": {
        "id": "U6EI-oXWR2we"
      },
      "source": [
        "y_proba_tr_preds = my_model(X_train, w)\n",
        "y_proba_te_preds = my_model(X_test,  w)\n",
        "\n",
        "y_tr_preds       = 1*(y_proba_tr_preds > 0.5)\n",
        "y_te_preds       = 1*(y_proba_te_preds > 0.5)\n",
        "\n",
        "y_tr_preds"
      ],
      "execution_count": null,
      "outputs": []
    },
    {
      "cell_type": "code",
      "metadata": {
        "id": "02dsYvWLR2wq"
      },
      "source": [
        "print(accuracy_score(y_train, y_tr_preds))\n",
        "print(accuracy_score(y_test,  y_te_preds))"
      ],
      "execution_count": null,
      "outputs": []
    },
    {
      "cell_type": "code",
      "metadata": {
        "id": "eUMQ-XNkR2wz"
      },
      "source": [
        "# Resultados detallados en test\n",
        "plt.figure(figsize=(10,5))\n",
        "plt.subplot(1,2,1)\n",
        "analisis_roc(y_test, y_proba_te_preds)\n",
        "plt.subplot(1,2,2)\n",
        "plot_confusion_matrix(y_test, y_te_preds)"
      ],
      "execution_count": null,
      "outputs": []
    },
    {
      "cell_type": "code",
      "metadata": {
        "id": "vCR8PN56R2xA"
      },
      "source": [
        "from caras_aux import representa_algunas_predicciones\n",
        "\n",
        "plt.figure(figsize=(5, 5))\n",
        "aux = max(abs(w[1:]))\n",
        "w_show = w[1:].reshape((height, width))/aux\n",
        "plt.imshow(w_show, plt.cm.bwr, vmin=-1, vmax=1)\n",
        "plt.title('Sensibilidad al pixel de entrada (heatmap)', size=12)\n",
        "plt.xticks(); plt.yticks()\n",
        "\n",
        "print('\\nClasificaciones realizadas en test por LDA:')\n",
        "inds = representa_algunas_predicciones(X_test, y_test, y_te_preds,\n",
        "                                       target_names,\n",
        "                                       height, width,\n",
        "                                       show_only_errors=False)"
      ],
      "execution_count": null,
      "outputs": []
    },
    {
      "cell_type": "code",
      "metadata": {
        "id": "pJ1gZ32rR2xR"
      },
      "source": [
        "w_rgb = np.zeros((height, width, 3))\n",
        "w_rgb[:,:,0] = 1*(w_show>0)\n",
        "w_rgb[:,:,1] = (w_show>0)*(1-w_show)\n",
        "w_rgb[:,:,2] = (w_show>0)*(1-w_show)\n",
        "\n",
        "w_rgb[:,:,2] += 1*(w_show<0)\n",
        "w_rgb[:,:,0] += (w_show<0)*(1+w_show)\n",
        "w_rgb[:,:,1] += (w_show<0)*(1+w_show)\n"
      ],
      "execution_count": null,
      "outputs": []
    },
    {
      "cell_type": "code",
      "metadata": {
        "id": "6TpaavlUR2xk"
      },
      "source": [
        "plt.imshow(w_rgb);"
      ],
      "execution_count": null,
      "outputs": []
    },
    {
      "cell_type": "code",
      "metadata": {
        "id": "tAJ1KNQuR2xy"
      },
      "source": [
        "ind = inds[0]\n",
        "imagen_rgb = np.zeros((height, width, 3))\n",
        "imagen_rgb[:,:,0] = imagen_rgb[:,:,1] = imagen_rgb[:,:,2] = X_test[ind].reshape((height, width))"
      ],
      "execution_count": null,
      "outputs": []
    },
    {
      "cell_type": "code",
      "metadata": {
        "id": "dkVvDZGFR2x_"
      },
      "source": [
        "plt.imshow(0.7*imagen_rgb + 0.5*w_rgb);"
      ],
      "execution_count": null,
      "outputs": []
    },
    {
      "cell_type": "code",
      "metadata": {
        "id": "Z0yCWUOWR2yK"
      },
      "source": [
        ""
      ],
      "execution_count": null,
      "outputs": []
    }
  ]
}