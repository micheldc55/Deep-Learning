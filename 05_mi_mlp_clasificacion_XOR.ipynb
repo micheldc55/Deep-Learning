{
  "nbformat": 4,
  "nbformat_minor": 0,
  "metadata": {
    "kernelspec": {
      "display_name": "Python 3",
      "language": "python",
      "name": "python3"
    },
    "language_info": {
      "codemirror_mode": {
        "name": "ipython",
        "version": 3
      },
      "file_extension": ".py",
      "mimetype": "text/x-python",
      "name": "python",
      "nbconvert_exporter": "python",
      "pygments_lexer": "ipython3",
      "version": "3.5.6"
    },
    "colab": {
      "name": "05-mi_mlp_clasificacion_XOR.ipynb",
      "provenance": [],
      "collapsed_sections": [],
      "include_colab_link": true
    }
  },
  "cells": [
    {
      "cell_type": "markdown",
      "metadata": {
        "id": "view-in-github",
        "colab_type": "text"
      },
      "source": [
        "<a href=\"https://colab.research.google.com/github/micheldc55/Deep-Learning/blob/main/05_mi_mlp_clasificacion_XOR.ipynb\" target=\"_parent\"><img src=\"https://colab.research.google.com/assets/colab-badge.svg\" alt=\"Open In Colab\"/></a>"
      ]
    },
    {
      "cell_type": "code",
      "metadata": {
        "id": "-LVFzUnRTDki"
      },
      "source": [
        "import numpy as np\n",
        "import pandas as pd\n",
        "import seaborn as sns\n",
        "import matplotlib.pyplot as plt\n",
        "from sklearn.metrics import roc_curve, auc, confusion_matrix\n",
        "\n",
        "%matplotlib inline"
      ],
      "execution_count": null,
      "outputs": []
    },
    {
      "cell_type": "code",
      "metadata": {
        "id": "JAjTcQewTDlq"
      },
      "source": [
        "from sklearn.datasets import make_blobs\n",
        "\n",
        "centers = np.array([[0,0],[1,1],[0,1],[1,0]])\n",
        "X, y = make_blobs(n_samples=1000, n_features=2, centers=centers, cluster_std=0.1)\n",
        "y[y==1] = 0\n",
        "y[y>1]  = 1\n",
        "\n",
        "plt.figure(figsize=(5,5))\n",
        "plt.scatter(X[y==0,0], X[y==0,1], label='clase 0')\n",
        "plt.scatter(X[y==1,0], X[y==1,1], label='clase 1')\n",
        "plt.legend();"
      ],
      "execution_count": null,
      "outputs": []
    },
    {
      "cell_type": "code",
      "metadata": {
        "id": "37sCMSjtTDmI"
      },
      "source": [
        "from sklearn.model_selection import train_test_split\n",
        "\n",
        "X_train, X_test, y_train, y_test = train_test_split(X, y,\n",
        "                                                    test_size=0.3,\n",
        "                                                    random_state=1)"
      ],
      "execution_count": null,
      "outputs": []
    },
    {
      "cell_type": "markdown",
      "metadata": {
        "id": "hmvlWgQQTDmh"
      },
      "source": [
        "### Primero estandarizo"
      ]
    },
    {
      "cell_type": "code",
      "metadata": {
        "id": "6TkVHddPTDml"
      },
      "source": [
        "from sklearn.preprocessing import StandardScaler\n",
        "\n",
        "sc = StandardScaler()\n",
        "sc.fit(X_train)\n",
        "X_train_sc = sc.transform(X_train)\n",
        "X_test_sc  = sc.transform(X_test)"
      ],
      "execution_count": null,
      "outputs": []
    },
    {
      "cell_type": "markdown",
      "metadata": {
        "id": "dGOhnXM3TDm-"
      },
      "source": [
        "### ¿Puede resolver este problema una regresión logística?"
      ]
    },
    {
      "cell_type": "code",
      "metadata": {
        "id": "fTUaeyT-TDnC"
      },
      "source": [
        "from sklearn.linear_model import LogisticRegression\n",
        "\n",
        "model = LogisticRegression()\n",
        "model.fit(X_train_sc, y_train)\n",
        "y_train_pred = model.predict(X_train_sc)\n",
        "y_test_pred  = model.predict(X_test_sc)"
      ],
      "execution_count": null,
      "outputs": []
    },
    {
      "cell_type": "code",
      "metadata": {
        "id": "Bhwy-qpYTDnY"
      },
      "source": [
        "from sklearn.metrics import accuracy_score\n",
        "\n",
        "print(accuracy_score(y_train, y_train_pred))\n",
        "print(accuracy_score(y_test,  y_test_pred))"
      ],
      "execution_count": null,
      "outputs": []
    },
    {
      "cell_type": "markdown",
      "metadata": {
        "id": "mRS3dHKhTDnv"
      },
      "source": [
        "### **MLP implementado a mano**"
      ]
    },
    {
      "cell_type": "code",
      "metadata": {
        "id": "b2qzjaHuTDnz"
      },
      "source": [
        "a = np.array([np.array([1]),np.array([2]),np.array([3,4])])\n",
        "a"
      ],
      "execution_count": null,
      "outputs": []
    },
    {
      "cell_type": "code",
      "metadata": {
        "id": "U6EkeOPJTDoH"
      },
      "source": [
        "a-a"
      ],
      "execution_count": null,
      "outputs": []
    },
    {
      "cell_type": "code",
      "metadata": {
        "id": "zffPXap7TDoY"
      },
      "source": [
        "a += .1*a"
      ],
      "execution_count": null,
      "outputs": []
    },
    {
      "cell_type": "code",
      "metadata": {
        "scrolled": true,
        "id": "awaQMcbmTDop"
      },
      "source": [
        "a"
      ],
      "execution_count": null,
      "outputs": []
    },
    {
      "cell_type": "code",
      "metadata": {
        "id": "iQyLWOsZTDo3"
      },
      "source": [
        "np.clip([0,-1,2], 0, None)"
      ],
      "execution_count": null,
      "outputs": []
    },
    {
      "cell_type": "code",
      "metadata": {
        "id": "-0yzqcUITDpJ"
      },
      "source": [
        "def my_model(x, W):\n",
        "    bI, WI, bH, WH = W\n",
        "    salida_oculta = np.maximum(bI + x.dot(WI), 0) # ReLU\n",
        "    aux = bH + salida_oculta.dot(WH)\n",
        "    return 1/(1+np.exp(-aux))"
      ],
      "execution_count": null,
      "outputs": []
    },
    {
      "cell_type": "code",
      "metadata": {
        "id": "hsJK8ijoTDpZ"
      },
      "source": [
        "Noc = 2\n",
        "w = np.array([np.random.randn(Noc),\n",
        "              np.random.randn(X.shape[1], Noc),\n",
        "              np.random.randn(1),\n",
        "              np.random.randn(Noc)], dtype=object)\n",
        "w"
      ],
      "execution_count": null,
      "outputs": []
    },
    {
      "cell_type": "code",
      "metadata": {
        "id": "Tj5fCYOSTDpo"
      },
      "source": [
        "my_model(X_train_sc[:10], w)"
      ],
      "execution_count": null,
      "outputs": []
    },
    {
      "cell_type": "code",
      "metadata": {
        "id": "1RnbneM6TDp3"
      },
      "source": [
        "from sklearn.metrics import log_loss\n",
        "\n",
        "def mi_funcion_error(data, w):\n",
        "    eps = 1e-20\n",
        "    X, y = data\n",
        "    ypred = my_model(X, w)\n",
        "    return (-y*np.log(eps+ypred) - (1-y)*np.log(eps+(1-ypred))).mean() + 0.001*(w**2).sum().sum()\n",
        "\n",
        "\n",
        "def mi_funcion_error(data, w):\n",
        "    X, y = data\n",
        "    ypred = my_model(X, w)\n",
        "    return log_loss(y, ypred)\n"
      ],
      "execution_count": null,
      "outputs": []
    },
    {
      "cell_type": "code",
      "metadata": {
        "id": "v8JQalpOTDqI"
      },
      "source": [
        "def calcula_grad(funcion, data, W, eps=1e-4):\n",
        "    fw = funcion(data, W)\n",
        "    bI, WI, bH, WH = W.copy()\n",
        "    grad_bI = 0*bI\n",
        "    grad_WI = 0*WI\n",
        "    grad_bH = 0*bH\n",
        "    grad_WH = 0*WH\n",
        "    \n",
        "    # perturbaciones en bI\n",
        "    for i in range(len(bI)):\n",
        "        a = bI[i]\n",
        "        bI[i] += eps\n",
        "        fw2 = funcion(data, np.array([bI, WI, bH, WH], dtype=object))\n",
        "        grad_bI[i] = (fw2 - fw) / eps\n",
        "        bI[i] = a\n",
        "    \n",
        "    # perturbaciones en WI\n",
        "    for i in range(WI.shape[0]):\n",
        "        for j in range(WI.shape[1]):\n",
        "            a = WI[i,j]\n",
        "            WI[i,j] += eps\n",
        "            fw2 = funcion(data, np.array([bI, WI, bH, WH], dtype=object))\n",
        "            grad_WI[i,j] = (fw2 - fw) / eps\n",
        "            WI[i,j] = a\n",
        "    \n",
        "    # perturbaciones en bH\n",
        "    a = bH[0]\n",
        "    bH += eps\n",
        "    fw2 = funcion(data, np.array([bI, WI, bH, WH], dtype=object))\n",
        "    grad_bH[0] = (fw2 - fw) / eps\n",
        "    bH[0] = a\n",
        "\n",
        "    # perturbaciones en WH\n",
        "    for i in range(len(WH)):\n",
        "        a = WH[i]\n",
        "        WH[i] += eps\n",
        "        fw2 = funcion(data, np.array([bI, WI, bH, WH], dtype=object))\n",
        "        grad_WH[i] = (fw2 - fw) / eps\n",
        "        WH[i] = a\n",
        "    \n",
        "    return np.array([grad_bI, grad_WI, grad_bH, grad_WH], dtype=object)"
      ],
      "execution_count": null,
      "outputs": []
    },
    {
      "cell_type": "code",
      "metadata": {
        "id": "Htx6SVBjTDqU"
      },
      "source": [
        "calcula_grad(my_model, X_train_sc[:1], w)"
      ],
      "execution_count": null,
      "outputs": []
    },
    {
      "cell_type": "code",
      "metadata": {
        "id": "hsurtKH0TDqi"
      },
      "source": [
        "X_train_sc[0]"
      ],
      "execution_count": null,
      "outputs": []
    },
    {
      "cell_type": "code",
      "metadata": {
        "id": "BIo-l0RlTDqv"
      },
      "source": [
        "#calcula_grad(my_model, X_train_sc[1], w)"
      ],
      "execution_count": null,
      "outputs": []
    },
    {
      "cell_type": "code",
      "metadata": {
        "id": "I2Ov0pDWTDq7"
      },
      "source": [
        "X_train_sc[1]"
      ],
      "execution_count": null,
      "outputs": []
    },
    {
      "cell_type": "code",
      "metadata": {
        "id": "SNIKmGHsTDrH"
      },
      "source": [
        "w"
      ],
      "execution_count": null,
      "outputs": []
    },
    {
      "cell_type": "code",
      "metadata": {
        "id": "fG8Zd55ZTDrX"
      },
      "source": [
        "#mi_funcion_error(my_model, (X_train_sc[:10], y_train_sc[:10]), w)\n",
        "mi_funcion_error((X_train_sc[:10], y_train[:10]), w)"
      ],
      "execution_count": null,
      "outputs": []
    },
    {
      "cell_type": "code",
      "metadata": {
        "id": "Z0HRdohLTDrk"
      },
      "source": [
        "(w**2).sum().sum()"
      ],
      "execution_count": null,
      "outputs": []
    },
    {
      "cell_type": "code",
      "metadata": {
        "id": "c2trRPfCTDru"
      },
      "source": [
        "calcula_grad(mi_funcion_error, (X_train_sc[0:10], y_train[0:10]), w)"
      ],
      "execution_count": null,
      "outputs": []
    },
    {
      "cell_type": "markdown",
      "metadata": {
        "id": "TD4fZzQpTDr8"
      },
      "source": [
        "### Entrenamiento con batch"
      ]
    },
    {
      "cell_type": "code",
      "metadata": {
        "id": "znr1O1CLTDr-"
      },
      "source": [
        "alpha = 2\n",
        "nepocas = 100\n",
        "batch_size = 20\n",
        "Ntr = len(X_train_sc)\n",
        "\n",
        "Noc = 2\n",
        "w = np.array([np.random.randn(Noc),\n",
        "              np.random.randn(X.shape[1], Noc),\n",
        "              np.random.randn(1),\n",
        "              np.random.randn(Noc)])\n",
        "\n",
        "errores_tr = []\n",
        "alpha_norm = alpha/batch_size\n",
        "\n",
        "for e in range(nepocas):\n",
        "    for b in range(0, Ntr, batch_size):\n",
        "        X_lote = X_train_sc[b:(b+batch_size)]\n",
        "        y_lote = y_train   [b:(b+batch_size)]\n",
        "        grad = calcula_grad(mi_funcion_error, (X_lote,y_lote), w)\n",
        "        w -= alpha_norm*grad\n",
        "        \n",
        "    error_total_tr = mi_funcion_error((X_train_sc,y_train), w)\n",
        "    print(\"Error en training en época {}: {}\".format(e, error_total_tr))\n",
        "    errores_tr.append(error_total_tr)"
      ],
      "execution_count": null,
      "outputs": []
    },
    {
      "cell_type": "code",
      "metadata": {
        "id": "L-SkB_0jTDsK"
      },
      "source": [
        "plt.figure(figsize=(12,3))\n",
        "plt.plot(errores_tr, label='error_total_tr')\n",
        "plt.xlabel(\"época\", fontsize=14)\n",
        "plt.ylabel(\"error\", fontsize=14)\n",
        "plt.legend();"
      ],
      "execution_count": null,
      "outputs": []
    },
    {
      "cell_type": "code",
      "metadata": {
        "id": "WTm-HNUETDsY"
      },
      "source": [
        "calcula_grad(mi_funcion_error, (X_train_sc, y_train), w)"
      ],
      "execution_count": null,
      "outputs": []
    },
    {
      "cell_type": "code",
      "metadata": {
        "id": "xJu8hyyKTDsj"
      },
      "source": [
        "y_tr_preds = 1*(my_model(X_train_sc, w)>0.5)\n",
        "y_te_preds = 1*(my_model(X_test_sc, w)>0.5)\n",
        "\n",
        "y_tr_preds"
      ],
      "execution_count": null,
      "outputs": []
    },
    {
      "cell_type": "code",
      "metadata": {
        "id": "JQ9VcfF5TDst"
      },
      "source": [
        "print(accuracy_score(y_train, y_tr_preds))\n",
        "print(accuracy_score(y_test,  y_te_preds))"
      ],
      "execution_count": null,
      "outputs": []
    },
    {
      "cell_type": "code",
      "metadata": {
        "id": "7FrkQHixTDs4"
      },
      "source": [
        ""
      ],
      "execution_count": null,
      "outputs": []
    }
  ]
}