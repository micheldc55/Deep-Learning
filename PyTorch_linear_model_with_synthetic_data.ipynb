{
  "nbformat": 4,
  "nbformat_minor": 0,
  "metadata": {
    "colab": {
      "provenance": [],
      "authorship_tag": "ABX9TyOt5/VtG4P6CChgF2I6gYqm",
      "include_colab_link": true
    },
    "kernelspec": {
      "name": "python3",
      "display_name": "Python 3"
    },
    "language_info": {
      "name": "python"
    }
  },
  "cells": [
    {
      "cell_type": "markdown",
      "metadata": {
        "id": "view-in-github",
        "colab_type": "text"
      },
      "source": [
        "<a href=\"https://colab.research.google.com/github/micheldc55/Deep-Learning/blob/main/PyTorch_linear_model_with_synthetic_data.ipynb\" target=\"_parent\"><img src=\"https://colab.research.google.com/assets/colab-badge.svg\" alt=\"Open In Colab\"/></a>"
      ]
    },
    {
      "cell_type": "code",
      "execution_count": 1,
      "metadata": {
        "id": "shy801cyzgSF"
      },
      "outputs": [],
      "source": [
        "import torch\n",
        "import numpy as np\n",
        "import matplotlib.pyplot as plt\n",
        "import pathlib"
      ]
    },
    {
      "cell_type": "markdown",
      "source": [
        "# Generating random synthetic data for a linear model"
      ],
      "metadata": {
        "id": "HzMeh1a7zr64"
      }
    },
    {
      "cell_type": "code",
      "source": [
        "start = 0\n",
        "end = 100\n",
        "step = 0.5\n",
        "\n",
        "weight = 0.5\n",
        "bias = 0.5\n",
        "\n",
        "torch.manual_seed(101)\n",
        "\n",
        "X = torch.arange(start=start, end=end, step=step, dtype=torch.float).unsqueeze(dim=1)\n",
        "y = weight * X + bias + 5 * torch.rand(len(X), 1)"
      ],
      "metadata": {
        "id": "n-zQdJGvzrX4"
      },
      "execution_count": 55,
      "outputs": []
    },
    {
      "cell_type": "code",
      "source": [
        "X.shape, y.shape"
      ],
      "metadata": {
        "colab": {
          "base_uri": "https://localhost:8080/"
        },
        "id": "rPFiExPS25Qs",
        "outputId": "11365800-3f13-4704-cf22-10d970b6ce6b"
      },
      "execution_count": 56,
      "outputs": [
        {
          "output_type": "execute_result",
          "data": {
            "text/plain": [
              "(torch.Size([200, 1]), torch.Size([200, 1]))"
            ]
          },
          "metadata": {},
          "execution_count": 56
        }
      ]
    },
    {
      "cell_type": "code",
      "source": [
        "plt.scatter(X, y)"
      ],
      "metadata": {
        "colab": {
          "base_uri": "https://localhost:8080/",
          "height": 282
        },
        "id": "0GSk81zd01_v",
        "outputId": "96a4f477-a471-4c1d-cf23-da085a36a8df"
      },
      "execution_count": 57,
      "outputs": [
        {
          "output_type": "execute_result",
          "data": {
            "text/plain": [
              "<matplotlib.collections.PathCollection at 0x7f5ab89353a0>"
            ]
          },
          "metadata": {},
          "execution_count": 57
        },
        {
          "output_type": "display_data",
          "data": {
            "text/plain": [
              "<Figure size 432x288 with 1 Axes>"
            ],
            "image/png": "[encoded data removed]"
          },
          "metadata": {
            "needs_background": "light"
          }
        }
      ]
    },
    {
      "cell_type": "markdown",
      "source": [
        "## Spliting data"
      ],
      "metadata": {
        "id": "B4SYE5xD0Rb7"
      }
    },
    {
      "cell_type": "code",
      "source": [
        "train_split = int(0.8 * len(X))\n",
        "\n",
        "X_train, y_train = X[:train_split], y[:train_split]\n",
        "X_test, y_test   = X[train_split:], y[train_split:]"
      ],
      "metadata": {
        "id": "_yLD_3Wr0Jh8"
      },
      "execution_count": 58,
      "outputs": []
    },
    {
      "cell_type": "markdown",
      "source": [
        "# Implement the model"
      ],
      "metadata": {
        "id": "mlVADI7V1Zlr"
      }
    },
    {
      "cell_type": "code",
      "source": [
        "device = 'cuda' if torch.cuda.is_available() else \"cpu\""
      ],
      "metadata": {
        "id": "lXF2tthH4utP"
      },
      "execution_count": 76,
      "outputs": []
    },
    {
      "cell_type": "code",
      "source": [
        "class LinearRegressionModel(torch.nn.Module):\n",
        "  def __init__(self):\n",
        "    super().__init__()\n",
        "    self.linear_layer = torch.nn.Linear(in_features=1, out_features=1)\n",
        "\n",
        "  def forward(self, x: torch.Tensor) -> torch.Tensor:\n",
        "    return self.linear_layer(x)"
      ],
      "metadata": {
        "id": "PdaY4qVu0mch"
      },
      "execution_count": 77,
      "outputs": []
    },
    {
      "cell_type": "code",
      "source": [
        "torch.manual_seed(42)\n",
        "model = LinearRegressionModel()"
      ],
      "metadata": {
        "id": "M-QOtTE110x5"
      },
      "execution_count": 92,
      "outputs": []
    },
    {
      "cell_type": "markdown",
      "source": [
        "Testing the base model:"
      ],
      "metadata": {
        "id": "gc5YXkQi2Izi"
      }
    },
    {
      "cell_type": "code",
      "source": [
        "model.eval()\n",
        "\n",
        "with torch.inference_mode():\n",
        "  meaningless_preds = model(X_test)"
      ],
      "metadata": {
        "id": "gc1linjJ131b"
      },
      "execution_count": 93,
      "outputs": []
    },
    {
      "cell_type": "code",
      "source": [
        "def compare_preds_to_reality(X_train=X_train, X_test=X_test, y_train=y_train, y_test=y_test, preds=None):\n",
        "  plt.figure(figsize=(10, 7))\n",
        "\n",
        "  plt.scatter(X_train, y_train, c='b', s=7, label='Train data')\n",
        "  plt.scatter(X_test, y_test, c='g', s=7, label='Test data')\n",
        "\n",
        "  if preds is not None:\n",
        "    plt.scatter(X_test, preds, c='r', s=7, label='Model Predictions')\n",
        "\n",
        "  plt.legend()\n",
        "  plt.title('Comparing model predictions to real data')\n",
        "  plt.xlabel('X')\n",
        "  plt.ylabel('y')"
      ],
      "metadata": {
        "id": "2FbQtta32Nya"
      },
      "execution_count": 94,
      "outputs": []
    },
    {
      "cell_type": "code",
      "source": [
        "compare_preds_to_reality(preds=meaningless_preds)"
      ],
      "metadata": {
        "colab": {
          "base_uri": "https://localhost:8080/",
          "height": 458
        },
        "id": "PXu-F6k44Oy_",
        "outputId": "4512608c-5570-41eb-c0eb-57ca518ca46d"
      },
      "execution_count": 95,
      "outputs": [
        {
          "output_type": "display_data",
          "data": {
            "text/plain": [
              "<Figure size 720x504 with 1 Axes>"
            ],
            "image/png": "[encoded data removed]"
          },
          "metadata": {
            "needs_background": "light"
          }
        }
      ]
    },
    {
      "cell_type": "markdown",
      "source": [
        "# Define loss function and Optimizer"
      ],
      "metadata": {
        "id": "DPPXZ81Y5BIz"
      }
    },
    {
      "cell_type": "code",
      "source": [
        "loss_fn = torch.nn.L1Loss()\n",
        "\n",
        "optimizer = torch.optim.Adam(params=model.parameters(), lr=0.01)"
      ],
      "metadata": {
        "id": "RqLS1kNl5DhM"
      },
      "execution_count": 96,
      "outputs": []
    },
    {
      "cell_type": "markdown",
      "source": [
        "# Train model"
      ],
      "metadata": {
        "id": "hxt7A6-84eUN"
      }
    },
    {
      "cell_type": "code",
      "source": [
        "epochs = 300\n",
        "epoch_count = []\n",
        "acc_train_loss = []\n",
        "acc_test_loss  = []\n",
        "\n",
        "model.to(device)\n",
        "\n",
        "for epoch in range(1, epochs+1):\n",
        "  model.train()\n",
        "\n",
        "  X_train = X_train.to(device)\n",
        "  X_test = X_test.to(device)\n",
        "  y_train = y_train.to(device)\n",
        "  y_test = y_test.to(device)\n",
        "\n",
        "  # Forward pass:\n",
        "  preds = model(X_train)\n",
        "\n",
        "  # Calculate loss\n",
        "  loss = loss_fn(preds, y_train)\n",
        "\n",
        "  # Optimizer zero grad:\n",
        "  optimizer.zero_grad()\n",
        "\n",
        "  # Backprop calculations:\n",
        "  loss.backward()\n",
        "\n",
        "  # Optimizer step (tweaks model weights and biases)\n",
        "  optimizer.step()\n",
        "\n",
        "  if epoch % 10 == 0:\n",
        "    model.eval()\n",
        "\n",
        "    with torch.inference_mode():\n",
        "      valid_preds = model(X_test)\n",
        "      loss_valid = loss_fn(valid_preds, y_test)\n",
        "      epoch_count.append(epoch)\n",
        "      acc_train_loss.append(loss.item())\n",
        "      acc_test_loss.append(loss_valid.item())\n",
        "\n",
        "      print(f\"Epoch: {epoch} | Training Loss: {loss.item()} | Test Loss: {loss_valid.item()}\")"
      ],
      "metadata": {
        "colab": {
          "base_uri": "https://localhost:8080/"
        },
        "id": "8whhn7nL4TAx",
        "outputId": "8ce26f4a-f616-4241-93bb-ac4113c15624"
      },
      "execution_count": 97,
      "outputs": [
        {
          "output_type": "stream",
          "name": "stdout",
          "text": [
            "Epoch: 10 | Training Loss: 5.18796443939209 | Test Loss: 12.802409172058105\n",
            "Epoch: 20 | Training Loss: 1.9646698236465454 | Test Loss: 4.0132155418396\n",
            "Epoch: 30 | Training Loss: 1.893999695777893 | Test Loss: 1.189158320426941\n",
            "Epoch: 40 | Training Loss: 1.5468547344207764 | Test Loss: 1.557787537574768\n",
            "Epoch: 50 | Training Loss: 1.5603785514831543 | Test Loss: 2.9763121604919434\n",
            "Epoch: 60 | Training Loss: 1.4885932207107544 | Test Loss: 1.9220914840698242\n",
            "Epoch: 70 | Training Loss: 1.4833948612213135 | Test Loss: 1.5648524761199951\n",
            "Epoch: 80 | Training Loss: 1.4637019634246826 | Test Loss: 1.8944370746612549\n",
            "Epoch: 90 | Training Loss: 1.4517534971237183 | Test Loss: 1.861301064491272\n",
            "Epoch: 100 | Training Loss: 1.438551664352417 | Test Loss: 1.647290587425232\n",
            "Epoch: 110 | Training Loss: 1.4273414611816406 | Test Loss: 1.6792097091674805\n",
            "Epoch: 120 | Training Loss: 1.4161139726638794 | Test Loss: 1.6320127248764038\n",
            "Epoch: 130 | Training Loss: 1.4052481651306152 | Test Loss: 1.6029255390167236\n",
            "Epoch: 140 | Training Loss: 1.3951042890548706 | Test Loss: 1.5916239023208618\n",
            "Epoch: 150 | Training Loss: 1.3849413394927979 | Test Loss: 1.5811793804168701\n",
            "Epoch: 160 | Training Loss: 1.3747246265411377 | Test Loss: 1.5666707754135132\n",
            "Epoch: 170 | Training Loss: 1.3652760982513428 | Test Loss: 1.5403335094451904\n",
            "Epoch: 180 | Training Loss: 1.3559178113937378 | Test Loss: 1.5294063091278076\n",
            "Epoch: 190 | Training Loss: 1.346452236175537 | Test Loss: 1.5262062549591064\n",
            "Epoch: 200 | Training Loss: 1.3370357751846313 | Test Loss: 1.5189721584320068\n",
            "Epoch: 210 | Training Loss: 1.328345775604248 | Test Loss: 1.5148451328277588\n",
            "Epoch: 220 | Training Loss: 1.319793462753296 | Test Loss: 1.4979302883148193\n",
            "Epoch: 230 | Training Loss: 1.3112356662750244 | Test Loss: 1.4740188121795654\n",
            "Epoch: 240 | Training Loss: 1.3027222156524658 | Test Loss: 1.4504547119140625\n",
            "Epoch: 250 | Training Loss: 1.294511079788208 | Test Loss: 1.449804425239563\n",
            "Epoch: 260 | Training Loss: 1.287007451057434 | Test Loss: 1.4308605194091797\n",
            "Epoch: 270 | Training Loss: 1.279797077178955 | Test Loss: 1.4091802835464478\n",
            "Epoch: 280 | Training Loss: 1.273201584815979 | Test Loss: 1.3986890316009521\n",
            "Epoch: 290 | Training Loss: 1.2674793004989624 | Test Loss: 1.3595516681671143\n",
            "Epoch: 300 | Training Loss: 1.2621058225631714 | Test Loss: 1.3496778011322021\n"
          ]
        }
      ]
    },
    {
      "cell_type": "code",
      "source": [
        "model.eval()\n",
        "\n",
        "with torch.inference_mode():\n",
        "  valid_preds = model(X_test)"
      ],
      "metadata": {
        "id": "deVcyxZN6Ysp"
      },
      "execution_count": 98,
      "outputs": []
    },
    {
      "cell_type": "code",
      "source": [
        "X_train.shape, X_test.shape, y_train.shape, y_test.shape"
      ],
      "metadata": {
        "colab": {
          "base_uri": "https://localhost:8080/"
        },
        "id": "xwVCP80h6uBV",
        "outputId": "8aca3e06-0012-4553-ad39-ad91d51fd102"
      },
      "execution_count": 99,
      "outputs": [
        {
          "output_type": "execute_result",
          "data": {
            "text/plain": [
              "(torch.Size([160, 1]),\n",
              " torch.Size([40, 1]),\n",
              " torch.Size([160, 1]),\n",
              " torch.Size([40, 1]))"
            ]
          },
          "metadata": {},
          "execution_count": 99
        }
      ]
    },
    {
      "cell_type": "code",
      "source": [
        "compare_preds_to_reality(X_train.squeeze(1), X_test.squeeze(1), y_train.squeeze(1), y_test.squeeze(1), valid_preds)"
      ],
      "metadata": {
        "colab": {
          "base_uri": "https://localhost:8080/",
          "height": 458
        },
        "id": "pw6qlyaE6jZH",
        "outputId": "0b36b79f-f5df-48a2-ff59-ed105a3ad092"
      },
      "execution_count": 100,
      "outputs": [
        {
          "output_type": "display_data",
          "data": {
            "text/plain": [
              "<Figure size 720x504 with 1 Axes>"
            ],
            "image/png": "[encoded data removed]"
          },
          "metadata": {
            "needs_background": "light"
          }
        }
      ]
    },
    {
      "cell_type": "code",
      "source": [],
      "metadata": {
        "id": "N3aPEapZ6ozk"
      },
      "execution_count": null,
      "outputs": []
    },
    {
      "cell_type": "code",
      "source": [],
      "metadata": {
        "id": "S9ycLPRw7-rN"
      },
      "execution_count": null,
      "outputs": []
    }
  ]
}